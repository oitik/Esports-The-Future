{
 "cells": [
  {
   "cell_type": "code",
   "execution_count": null,
   "id": "c621dab2",
   "metadata": {
    "_cell_guid": "b1076dfc-b9ad-4769-8c92-a6c4dae69d19",
    "_uuid": "8f2839f25d086af736a60e9eeb907d3b93b6e0e5",
    "papermill": {
     "duration": 0.019561,
     "end_time": "2024-08-20T19:18:59.137774",
     "exception": false,
     "start_time": "2024-08-20T19:18:59.118213",
     "status": "completed"
    },
    "tags": []
   },
   "outputs": [],
   "source": []
  },
  {
   "cell_type": "markdown",
   "id": "1f6fad84",
   "metadata": {
    "papermill": {
     "duration": 0.019311,
     "end_time": "2024-08-20T19:18:59.176183",
     "exception": false,
     "start_time": "2024-08-20T19:18:59.156872",
     "status": "completed"
    },
    "tags": []
   },
   "source": [
    "## Install packages"
   ]
  },
  {
   "cell_type": "code",
   "execution_count": 1,
   "id": "7ba76cd7",
   "metadata": {
    "execution": {
     "iopub.execute_input": "2024-08-20T19:18:59.215374Z",
     "iopub.status.busy": "2024-08-20T19:18:59.215033Z",
     "iopub.status.idle": "2024-08-20T19:20:11.297939Z",
     "shell.execute_reply": "2024-08-20T19:20:11.297031Z"
    },
    "papermill": {
     "duration": 72.105386,
     "end_time": "2024-08-20T19:20:11.300437",
     "exception": false,
     "start_time": "2024-08-20T19:18:59.195051",
     "status": "completed"
    },
    "tags": []
   },
   "outputs": [
    {
     "name": "stdout",
     "output_type": "stream",
     "text": [
      "Collecting git+https://github.com/huggingface/transformers\r\n",
      "  Cloning https://github.com/huggingface/transformers to /tmp/pip-req-build-v8t04fn4\r\n",
      "  Running command git clone --filter=blob:none --quiet https://github.com/huggingface/transformers /tmp/pip-req-build-v8t04fn4\r\n",
      "  Resolved https://github.com/huggingface/transformers to commit c63a3d0f1791e018de447ac570fc7029d1ea19bd\r\n",
      "  Installing build dependencies ... \u001b[?25l-\b \b\\\b \b|\b \b/\b \b-\b \b\\\b \b|\b \bdone\r\n",
      "\u001b[?25h  Getting requirements to build wheel ... \u001b[?25l-\b \b\\\b \bdone\r\n",
      "\u001b[?25h  Preparing metadata (pyproject.toml) ... \u001b[?25l-\b \b\\\b \bdone\r\n",
      "\u001b[?25hRequirement already satisfied: filelock in /opt/conda/lib/python3.10/site-packages (from transformers==4.45.0.dev0) (3.13.1)\r\n",
      "Requirement already satisfied: huggingface-hub<1.0,>=0.23.2 in /opt/conda/lib/python3.10/site-packages (from transformers==4.45.0.dev0) (0.23.4)\r\n",
      "Requirement already satisfied: numpy>=1.17 in /opt/conda/lib/python3.10/site-packages (from transformers==4.45.0.dev0) (1.26.4)\r\n",
      "Requirement already satisfied: packaging>=20.0 in /opt/conda/lib/python3.10/site-packages (from transformers==4.45.0.dev0) (21.3)\r\n",
      "Requirement already satisfied: pyyaml>=5.1 in /opt/conda/lib/python3.10/site-packages (from transformers==4.45.0.dev0) (6.0.1)\r\n",
      "Requirement already satisfied: regex!=2019.12.17 in /opt/conda/lib/python3.10/site-packages (from transformers==4.45.0.dev0) (2023.12.25)\r\n",
      "Requirement already satisfied: requests in /opt/conda/lib/python3.10/site-packages (from transformers==4.45.0.dev0) (2.32.3)\r\n",
      "Requirement already satisfied: tokenizers<0.20,>=0.19 in /opt/conda/lib/python3.10/site-packages (from transformers==4.45.0.dev0) (0.19.1)\r\n",
      "Requirement already satisfied: safetensors>=0.4.1 in /opt/conda/lib/python3.10/site-packages (from transformers==4.45.0.dev0) (0.4.3)\r\n",
      "Requirement already satisfied: tqdm>=4.27 in /opt/conda/lib/python3.10/site-packages (from transformers==4.45.0.dev0) (4.66.4)\r\n",
      "Requirement already satisfied: fsspec>=2023.5.0 in /opt/conda/lib/python3.10/site-packages (from huggingface-hub<1.0,>=0.23.2->transformers==4.45.0.dev0) (2024.5.0)\r\n",
      "Requirement already satisfied: typing-extensions>=3.7.4.3 in /opt/conda/lib/python3.10/site-packages (from huggingface-hub<1.0,>=0.23.2->transformers==4.45.0.dev0) (4.9.0)\r\n",
      "Requirement already satisfied: pyparsing!=3.0.5,>=2.0.2 in /opt/conda/lib/python3.10/site-packages (from packaging>=20.0->transformers==4.45.0.dev0) (3.1.1)\r\n",
      "Requirement already satisfied: charset-normalizer<4,>=2 in /opt/conda/lib/python3.10/site-packages (from requests->transformers==4.45.0.dev0) (3.3.2)\r\n",
      "Requirement already satisfied: idna<4,>=2.5 in /opt/conda/lib/python3.10/site-packages (from requests->transformers==4.45.0.dev0) (3.6)\r\n",
      "Requirement already satisfied: urllib3<3,>=1.21.1 in /opt/conda/lib/python3.10/site-packages (from requests->transformers==4.45.0.dev0) (1.26.18)\r\n",
      "Requirement already satisfied: certifi>=2017.4.17 in /opt/conda/lib/python3.10/site-packages (from requests->transformers==4.45.0.dev0) (2024.7.4)\r\n",
      "Building wheels for collected packages: transformers\r\n",
      "  Building wheel for transformers (pyproject.toml) ... \u001b[?25l-\b \b\\\b \b|\b \b/\b \b-\b \b\\\b \b|\b \b/\b \b-\b \b\\\b \b|\b \b/\b \b-\b \b\\\b \b|\b \b/\b \b-\b \b\\\b \b|\b \b/\b \b-\b \b\\\b \b|\b \b/\b \b-\b \b\\\b \b|\b \b/\b \bdone\r\n",
      "\u001b[?25h  Created wheel for transformers: filename=transformers-4.45.0.dev0-py3-none-any.whl size=9553550 sha256=882ee322e4ad4a0ca8161dafcceae9531084dcb177ae4bb94170978c1aed65b9\r\n",
      "  Stored in directory: /tmp/pip-ephem-wheel-cache-ylf9g4nz/wheels/c0/14/d6/6c9a5582d2ac191ec0a483be151a4495fe1eb2a6706ca49f1b\r\n",
      "Successfully built transformers\r\n",
      "Installing collected packages: transformers\r\n",
      "  Attempting uninstall: transformers\r\n",
      "    Found existing installation: transformers 4.42.3\r\n",
      "    Uninstalling transformers-4.42.3:\r\n",
      "      Successfully uninstalled transformers-4.42.3\r\n",
      "Successfully installed transformers-4.45.0.dev0\r\n",
      "Looking in indexes: https://pypi.org/simple/\r\n",
      "Collecting bitsandbytes\r\n",
      "  Downloading bitsandbytes-0.43.3-py3-none-manylinux_2_24_x86_64.whl.metadata (3.5 kB)\r\n",
      "Requirement already satisfied: torch in /opt/conda/lib/python3.10/site-packages (from bitsandbytes) (2.1.2)\r\n",
      "Requirement already satisfied: numpy in /opt/conda/lib/python3.10/site-packages (from bitsandbytes) (1.26.4)\r\n",
      "Requirement already satisfied: filelock in /opt/conda/lib/python3.10/site-packages (from torch->bitsandbytes) (3.13.1)\r\n",
      "Requirement already satisfied: typing-extensions in /opt/conda/lib/python3.10/site-packages (from torch->bitsandbytes) (4.9.0)\r\n",
      "Requirement already satisfied: sympy in /opt/conda/lib/python3.10/site-packages (from torch->bitsandbytes) (1.13.0)\r\n",
      "Requirement already satisfied: networkx in /opt/conda/lib/python3.10/site-packages (from torch->bitsandbytes) (3.2.1)\r\n",
      "Requirement already satisfied: jinja2 in /opt/conda/lib/python3.10/site-packages (from torch->bitsandbytes) (3.1.2)\r\n",
      "Requirement already satisfied: fsspec in /opt/conda/lib/python3.10/site-packages (from torch->bitsandbytes) (2024.5.0)\r\n",
      "Requirement already satisfied: MarkupSafe>=2.0 in /opt/conda/lib/python3.10/site-packages (from jinja2->torch->bitsandbytes) (2.1.3)\r\n",
      "Requirement already satisfied: mpmath<1.4,>=1.1.0 in /opt/conda/lib/python3.10/site-packages (from sympy->torch->bitsandbytes) (1.3.0)\r\n",
      "Downloading bitsandbytes-0.43.3-py3-none-manylinux_2_24_x86_64.whl (137.5 MB)\r\n",
      "\u001b[2K   \u001b[90m━━━━━━━━━━━━━━━━━━━━━━━━━━━━━━━━━━━━━━━━\u001b[0m \u001b[32m137.5/137.5 MB\u001b[0m \u001b[31m10.4 MB/s\u001b[0m eta \u001b[36m0:00:00\u001b[0m\r\n",
      "\u001b[?25hInstalling collected packages: bitsandbytes\r\n",
      "Successfully installed bitsandbytes-0.43.3\r\n"
     ]
    }
   ],
   "source": [
    "!pip install git+https://github.com/huggingface/transformers -U\n",
    "#!pip install accelerate\n",
    "!pip install -i https://pypi.org/simple/ bitsandbytes"
   ]
  },
  {
   "cell_type": "code",
   "execution_count": 2,
   "id": "02e6e857",
   "metadata": {
    "execution": {
     "iopub.execute_input": "2024-08-20T19:20:11.358079Z",
     "iopub.status.busy": "2024-08-20T19:20:11.357737Z",
     "iopub.status.idle": "2024-08-20T19:20:24.537070Z",
     "shell.execute_reply": "2024-08-20T19:20:24.535949Z"
    },
    "papermill": {
     "duration": 13.210583,
     "end_time": "2024-08-20T19:20:24.539678",
     "exception": false,
     "start_time": "2024-08-20T19:20:11.329095",
     "status": "completed"
    },
    "tags": []
   },
   "outputs": [
    {
     "name": "stdout",
     "output_type": "stream",
     "text": [
      "Collecting sentence-transformers\r\n",
      "  Downloading sentence_transformers-3.0.1-py3-none-any.whl.metadata (10 kB)\r\n",
      "Requirement already satisfied: transformers<5.0.0,>=4.34.0 in /opt/conda/lib/python3.10/site-packages (from sentence-transformers) (4.45.0.dev0)\r\n",
      "Requirement already satisfied: tqdm in /opt/conda/lib/python3.10/site-packages (from sentence-transformers) (4.66.4)\r\n",
      "Requirement already satisfied: torch>=1.11.0 in /opt/conda/lib/python3.10/site-packages (from sentence-transformers) (2.1.2)\r\n",
      "Requirement already satisfied: numpy in /opt/conda/lib/python3.10/site-packages (from sentence-transformers) (1.26.4)\r\n",
      "Requirement already satisfied: scikit-learn in /opt/conda/lib/python3.10/site-packages (from sentence-transformers) (1.2.2)\r\n",
      "Requirement already satisfied: scipy in /opt/conda/lib/python3.10/site-packages (from sentence-transformers) (1.11.4)\r\n",
      "Requirement already satisfied: huggingface-hub>=0.15.1 in /opt/conda/lib/python3.10/site-packages (from sentence-transformers) (0.23.4)\r\n",
      "Requirement already satisfied: Pillow in /opt/conda/lib/python3.10/site-packages (from sentence-transformers) (9.5.0)\r\n",
      "Requirement already satisfied: filelock in /opt/conda/lib/python3.10/site-packages (from huggingface-hub>=0.15.1->sentence-transformers) (3.13.1)\r\n",
      "Requirement already satisfied: fsspec>=2023.5.0 in /opt/conda/lib/python3.10/site-packages (from huggingface-hub>=0.15.1->sentence-transformers) (2024.5.0)\r\n",
      "Requirement already satisfied: packaging>=20.9 in /opt/conda/lib/python3.10/site-packages (from huggingface-hub>=0.15.1->sentence-transformers) (21.3)\r\n",
      "Requirement already satisfied: pyyaml>=5.1 in /opt/conda/lib/python3.10/site-packages (from huggingface-hub>=0.15.1->sentence-transformers) (6.0.1)\r\n",
      "Requirement already satisfied: requests in /opt/conda/lib/python3.10/site-packages (from huggingface-hub>=0.15.1->sentence-transformers) (2.32.3)\r\n",
      "Requirement already satisfied: typing-extensions>=3.7.4.3 in /opt/conda/lib/python3.10/site-packages (from huggingface-hub>=0.15.1->sentence-transformers) (4.9.0)\r\n",
      "Requirement already satisfied: sympy in /opt/conda/lib/python3.10/site-packages (from torch>=1.11.0->sentence-transformers) (1.13.0)\r\n",
      "Requirement already satisfied: networkx in /opt/conda/lib/python3.10/site-packages (from torch>=1.11.0->sentence-transformers) (3.2.1)\r\n",
      "Requirement already satisfied: jinja2 in /opt/conda/lib/python3.10/site-packages (from torch>=1.11.0->sentence-transformers) (3.1.2)\r\n",
      "Requirement already satisfied: regex!=2019.12.17 in /opt/conda/lib/python3.10/site-packages (from transformers<5.0.0,>=4.34.0->sentence-transformers) (2023.12.25)\r\n",
      "Requirement already satisfied: tokenizers<0.20,>=0.19 in /opt/conda/lib/python3.10/site-packages (from transformers<5.0.0,>=4.34.0->sentence-transformers) (0.19.1)\r\n",
      "Requirement already satisfied: safetensors>=0.4.1 in /opt/conda/lib/python3.10/site-packages (from transformers<5.0.0,>=4.34.0->sentence-transformers) (0.4.3)\r\n",
      "Requirement already satisfied: joblib>=1.1.1 in /opt/conda/lib/python3.10/site-packages (from scikit-learn->sentence-transformers) (1.4.2)\r\n",
      "Requirement already satisfied: threadpoolctl>=2.0.0 in /opt/conda/lib/python3.10/site-packages (from scikit-learn->sentence-transformers) (3.2.0)\r\n",
      "Requirement already satisfied: pyparsing!=3.0.5,>=2.0.2 in /opt/conda/lib/python3.10/site-packages (from packaging>=20.9->huggingface-hub>=0.15.1->sentence-transformers) (3.1.1)\r\n",
      "Requirement already satisfied: MarkupSafe>=2.0 in /opt/conda/lib/python3.10/site-packages (from jinja2->torch>=1.11.0->sentence-transformers) (2.1.3)\r\n",
      "Requirement already satisfied: charset-normalizer<4,>=2 in /opt/conda/lib/python3.10/site-packages (from requests->huggingface-hub>=0.15.1->sentence-transformers) (3.3.2)\r\n",
      "Requirement already satisfied: idna<4,>=2.5 in /opt/conda/lib/python3.10/site-packages (from requests->huggingface-hub>=0.15.1->sentence-transformers) (3.6)\r\n",
      "Requirement already satisfied: urllib3<3,>=1.21.1 in /opt/conda/lib/python3.10/site-packages (from requests->huggingface-hub>=0.15.1->sentence-transformers) (1.26.18)\r\n",
      "Requirement already satisfied: certifi>=2017.4.17 in /opt/conda/lib/python3.10/site-packages (from requests->huggingface-hub>=0.15.1->sentence-transformers) (2024.7.4)\r\n",
      "Requirement already satisfied: mpmath<1.4,>=1.1.0 in /opt/conda/lib/python3.10/site-packages (from sympy->torch>=1.11.0->sentence-transformers) (1.3.0)\r\n",
      "Downloading sentence_transformers-3.0.1-py3-none-any.whl (227 kB)\r\n",
      "\u001b[2K   \u001b[90m━━━━━━━━━━━━━━━━━━━━━━━━━━━━━━━━━━━━━━━━\u001b[0m \u001b[32m227.1/227.1 kB\u001b[0m \u001b[31m1.8 MB/s\u001b[0m eta \u001b[36m0:00:00\u001b[0m\r\n",
      "\u001b[?25hInstalling collected packages: sentence-transformers\r\n",
      "Successfully installed sentence-transformers-3.0.1\r\n"
     ]
    }
   ],
   "source": [
    "!pip install -U sentence-transformers\n"
   ]
  },
  {
   "cell_type": "code",
   "execution_count": 3,
   "id": "0461f05b",
   "metadata": {
    "execution": {
     "iopub.execute_input": "2024-08-20T19:20:24.601223Z",
     "iopub.status.busy": "2024-08-20T19:20:24.600927Z",
     "iopub.status.idle": "2024-08-20T19:20:40.395753Z",
     "shell.execute_reply": "2024-08-20T19:20:40.394456Z"
    },
    "papermill": {
     "duration": 15.828129,
     "end_time": "2024-08-20T19:20:40.398374",
     "exception": false,
     "start_time": "2024-08-20T19:20:24.570245",
     "status": "completed"
    },
    "tags": []
   },
   "outputs": [
    {
     "name": "stdout",
     "output_type": "stream",
     "text": [
      "Collecting faiss-gpu\r\n",
      "  Downloading faiss_gpu-1.7.2-cp310-cp310-manylinux_2_17_x86_64.manylinux2014_x86_64.whl.metadata (1.4 kB)\r\n",
      "Downloading faiss_gpu-1.7.2-cp310-cp310-manylinux_2_17_x86_64.manylinux2014_x86_64.whl (85.5 MB)\r\n",
      "\u001b[2K   \u001b[90m━━━━━━━━━━━━━━━━━━━━━━━━━━━━━━━━━━━━━━━━\u001b[0m \u001b[32m85.5/85.5 MB\u001b[0m \u001b[31m17.3 MB/s\u001b[0m eta \u001b[36m0:00:00\u001b[0m\r\n",
      "\u001b[?25hInstalling collected packages: faiss-gpu\r\n",
      "Successfully installed faiss-gpu-1.7.2\r\n"
     ]
    }
   ],
   "source": [
    "#!pip install faiss-cpu\n",
    "!pip install faiss-gpu"
   ]
  },
  {
   "cell_type": "markdown",
   "id": "217d0bc5",
   "metadata": {
    "papermill": {
     "duration": 0.037782,
     "end_time": "2024-08-20T19:20:40.475024",
     "exception": false,
     "start_time": "2024-08-20T19:20:40.437242",
     "status": "completed"
    },
    "tags": []
   },
   "source": [
    "## Imports"
   ]
  },
  {
   "cell_type": "code",
   "execution_count": 4,
   "id": "458860d7",
   "metadata": {
    "execution": {
     "iopub.execute_input": "2024-08-20T19:20:40.558113Z",
     "iopub.status.busy": "2024-08-20T19:20:40.557097Z",
     "iopub.status.idle": "2024-08-20T19:21:02.008149Z",
     "shell.execute_reply": "2024-08-20T19:21:02.007032Z"
    },
    "papermill": {
     "duration": 21.501202,
     "end_time": "2024-08-20T19:21:02.010499",
     "exception": false,
     "start_time": "2024-08-20T19:20:40.509297",
     "status": "completed"
    },
    "tags": []
   },
   "outputs": [
    {
     "name": "stderr",
     "output_type": "stream",
     "text": [
      "2024-08-20 19:20:49.821831: E external/local_xla/xla/stream_executor/cuda/cuda_dnn.cc:9261] Unable to register cuDNN factory: Attempting to register factory for plugin cuDNN when one has already been registered\n",
      "2024-08-20 19:20:49.821936: E external/local_xla/xla/stream_executor/cuda/cuda_fft.cc:607] Unable to register cuFFT factory: Attempting to register factory for plugin cuFFT when one has already been registered\n",
      "2024-08-20 19:20:49.994954: E external/local_xla/xla/stream_executor/cuda/cuda_blas.cc:1515] Unable to register cuBLAS factory: Attempting to register factory for plugin cuBLAS when one has already been registered\n"
     ]
    },
    {
     "name": "stdout",
     "output_type": "stream",
     "text": [
      "CUDA Version: 12.1\n",
      "Pytorch 2.1.2\n"
     ]
    }
   ],
   "source": [
    "import pandas as pd\n",
    "import numpy as np\n",
    "import os\n",
    "import ast\n",
    "\n",
    "import torch\n",
    "import gc\n",
    "\n",
    "import sys, random, string, re, time\n",
    "from transformers import (BitsAndBytesConfig, \n",
    "                          AutoModelForCausalLM, \n",
    "                          AutoTokenizer, pipeline)\n",
    "from tqdm.auto import tqdm\n",
    "\n",
    "# Don't Show Warning Messages\n",
    "import warnings\n",
    "warnings.filterwarnings('ignore')\n",
    "\n",
    "print(f\"CUDA Version: {torch.version.cuda}\")\n",
    "print(f\"Pytorch {torch.__version__}\")"
   ]
  },
  {
   "cell_type": "code",
   "execution_count": 5,
   "id": "8d1a3a0c",
   "metadata": {
    "execution": {
     "iopub.execute_input": "2024-08-20T19:21:02.078107Z",
     "iopub.status.busy": "2024-08-20T19:21:02.076958Z",
     "iopub.status.idle": "2024-08-20T19:21:02.182909Z",
     "shell.execute_reply": "2024-08-20T19:21:02.181928Z"
    },
    "papermill": {
     "duration": 0.141744,
     "end_time": "2024-08-20T19:21:02.184977",
     "exception": false,
     "start_time": "2024-08-20T19:21:02.043233",
     "status": "completed"
    },
    "tags": []
   },
   "outputs": [
    {
     "data": {
      "text/plain": [
       "True"
      ]
     },
     "execution_count": 5,
     "metadata": {},
     "output_type": "execute_result"
    }
   ],
   "source": [
    "torch.cuda.is_available()"
   ]
  },
  {
   "cell_type": "code",
   "execution_count": 6,
   "id": "2026eca3",
   "metadata": {
    "execution": {
     "iopub.execute_input": "2024-08-20T19:21:02.265957Z",
     "iopub.status.busy": "2024-08-20T19:21:02.265269Z",
     "iopub.status.idle": "2024-08-20T19:21:02.274113Z",
     "shell.execute_reply": "2024-08-20T19:21:02.273115Z"
    },
    "papermill": {
     "duration": 0.046252,
     "end_time": "2024-08-20T19:21:02.276198",
     "exception": false,
     "start_time": "2024-08-20T19:21:02.229946",
     "status": "completed"
    },
    "tags": []
   },
   "outputs": [],
   "source": [
    "# Set a seed value\n",
    "\n",
    "import torch, random\n",
    "\n",
    "# Ensure that all GPU operations are deterministic \n",
    "torch.backends.cudnn.deterministic = True\n",
    "torch.backends.cudnn.benchmark = False\n",
    "\n",
    "seed_val = 42\n",
    "\n",
    "random.seed(seed_val)\n",
    "np.random.seed(seed_val)\n",
    "torch.manual_seed(seed_val)\n",
    "torch.cuda.manual_seed_all(seed_val)"
   ]
  },
  {
   "cell_type": "markdown",
   "id": "09e7d84d",
   "metadata": {
    "papermill": {
     "duration": 0.031423,
     "end_time": "2024-08-20T19:21:02.339389",
     "exception": false,
     "start_time": "2024-08-20T19:21:02.307966",
     "status": "completed"
    },
    "tags": []
   },
   "source": [
    "## Define Variables"
   ]
  },
  {
   "cell_type": "code",
   "execution_count": 7,
   "id": "144fc1a6",
   "metadata": {
    "execution": {
     "iopub.execute_input": "2024-08-20T19:21:02.445999Z",
     "iopub.status.busy": "2024-08-20T19:21:02.445619Z",
     "iopub.status.idle": "2024-08-20T19:21:02.450710Z",
     "shell.execute_reply": "2024-08-20T19:21:02.449878Z"
    },
    "papermill": {
     "duration": 0.081879,
     "end_time": "2024-08-20T19:21:02.452661",
     "exception": false,
     "start_time": "2024-08-20T19:21:02.370782",
     "status": "completed"
    },
    "tags": []
   },
   "outputs": [],
   "source": [
    "# set the path to the Gemma model hosted on Kaggle\n",
    "MODEL_PATH = \"/kaggle/input/gemma/transformers/7b-it/1\"\n",
    "MODEL_PATH_large = \"/kaggle/input/gemma-2/transformers/gemma-2-27b-it/1\"\n",
    "\n",
    "# set the path to the data that will be used in the few shot prompt\n",
    "FEW_SHOT_DATA_PATH = '../input/gemma-comp-data/df_corrected_data.csv'\n",
    "\n",
    "# set the path the text files containing info about Kaggle\n",
    "# KAGGLE_DATA_PATH = '../input/gemma-comp-data/rev4-cleaned-txt-kaggle/'\n",
    "\n",
    "# the number of results from the vector search that will be reranked\n",
    "TOP_K = 20\n",
    "\n",
    "# the number of text chunks that will be passed to Gemma\n",
    "NUM_CHUNKS_IN_CONTEXT = 3"
   ]
  },
  {
   "cell_type": "markdown",
   "id": "817c9e05",
   "metadata": {
    "papermill": {
     "duration": 0.032482,
     "end_time": "2024-08-20T19:21:02.517874",
     "exception": false,
     "start_time": "2024-08-20T19:21:02.485392",
     "status": "completed"
    },
    "tags": []
   },
   "source": [
    "## Define Device"
   ]
  },
  {
   "cell_type": "code",
   "execution_count": 8,
   "id": "04dd7212",
   "metadata": {
    "execution": {
     "iopub.execute_input": "2024-08-20T19:21:02.584256Z",
     "iopub.status.busy": "2024-08-20T19:21:02.583328Z",
     "iopub.status.idle": "2024-08-20T19:21:02.589604Z",
     "shell.execute_reply": "2024-08-20T19:21:02.588417Z"
    },
    "papermill": {
     "duration": 0.041814,
     "end_time": "2024-08-20T19:21:02.591617",
     "exception": false,
     "start_time": "2024-08-20T19:21:02.549803",
     "status": "completed"
    },
    "tags": []
   },
   "outputs": [
    {
     "name": "stdout",
     "output_type": "stream",
     "text": [
      "Device: cuda\n",
      "CUDA Version: 12.1\n",
      "Pytorch 2.1.2\n"
     ]
    }
   ],
   "source": [
    "DEVICE = torch.device(\"cuda\") if torch.cuda.is_available() else torch.device(\"cpu\")\n",
    "\n",
    "print(f\"Device: {DEVICE}\")\n",
    "print(f\"CUDA Version: {torch.version.cuda}\")\n",
    "print(f\"Pytorch {torch.__version__}\")"
   ]
  },
  {
   "cell_type": "code",
   "execution_count": 9,
   "id": "fddf2fc1",
   "metadata": {
    "execution": {
     "iopub.execute_input": "2024-08-20T19:21:02.655775Z",
     "iopub.status.busy": "2024-08-20T19:21:02.655419Z",
     "iopub.status.idle": "2024-08-20T19:21:02.694840Z",
     "shell.execute_reply": "2024-08-20T19:21:02.693742Z"
    },
    "papermill": {
     "duration": 0.073784,
     "end_time": "2024-08-20T19:21:02.696844",
     "exception": false,
     "start_time": "2024-08-20T19:21:02.623060",
     "status": "completed"
    },
    "tags": []
   },
   "outputs": [
    {
     "name": "stdout",
     "output_type": "stream",
     "text": [
      "Num CPUs: 4\n",
      "Num GPUs: 2\n",
      "GPU Type: Tesla T4\n"
     ]
    }
   ],
   "source": [
    "# Check the type and quantity of GPUs\n",
    "\n",
    "if torch.cuda.is_available():\n",
    "    print('Num CPUs:', os.cpu_count())\n",
    "    print('Num GPUs:', torch.cuda.device_count())\n",
    "    print('GPU Type:', torch.cuda.get_device_name(0))\n"
   ]
  },
  {
   "cell_type": "code",
   "execution_count": 10,
   "id": "b1f46dc2",
   "metadata": {
    "execution": {
     "iopub.execute_input": "2024-08-20T19:21:02.763889Z",
     "iopub.status.busy": "2024-08-20T19:21:02.763257Z",
     "iopub.status.idle": "2024-08-20T19:21:02.769437Z",
     "shell.execute_reply": "2024-08-20T19:21:02.768492Z"
    },
    "papermill": {
     "duration": 0.042679,
     "end_time": "2024-08-20T19:21:02.771445",
     "exception": false,
     "start_time": "2024-08-20T19:21:02.728766",
     "status": "completed"
    },
    "tags": []
   },
   "outputs": [
    {
     "data": {
      "text/plain": [
       "4"
      ]
     },
     "execution_count": 10,
     "metadata": {},
     "output_type": "execute_result"
    }
   ],
   "source": [
    "os.cpu_count()"
   ]
  },
  {
   "cell_type": "markdown",
   "id": "33fe074e",
   "metadata": {
    "papermill": {
     "duration": 0.034195,
     "end_time": "2024-08-20T19:21:02.838076",
     "exception": false,
     "start_time": "2024-08-20T19:21:02.803881",
     "status": "completed"
    },
    "tags": []
   },
   "source": [
    "## Helper functions"
   ]
  },
  {
   "cell_type": "code",
   "execution_count": 11,
   "id": "6080fef5",
   "metadata": {
    "execution": {
     "iopub.execute_input": "2024-08-20T19:21:02.903365Z",
     "iopub.status.busy": "2024-08-20T19:21:02.902901Z",
     "iopub.status.idle": "2024-08-20T19:21:02.924835Z",
     "shell.execute_reply": "2024-08-20T19:21:02.923970Z"
    },
    "papermill": {
     "duration": 0.056584,
     "end_time": "2024-08-20T19:21:02.926805",
     "exception": false,
     "start_time": "2024-08-20T19:21:02.870221",
     "status": "completed"
    },
    "tags": []
   },
   "outputs": [],
   "source": [
    "def run_faiss_search(query_text, top_k):\n",
    "    \n",
    "    \"\"\"\n",
    "    Executes an exhaustive search using FAISS to find the most \n",
    "    similar items to a given query.\n",
    "\n",
    "    This function vectorizes the input query text using \n",
    "    a pre-defined model and then performs a search in a FAISS index \n",
    "    to retrieve the top_k most similar items. \n",
    "    It returns the indices of these items in the FAISS index, \n",
    "    which can be used to retrieve the corresponding documents\n",
    "    or items.\n",
    "\n",
    "    Parameters:\n",
    "    - query_text (str): The text of the query for which similar \n",
    "    items are to be found.\n",
    "    - top_k (int): The number of top similar items to retrieve.\n",
    "\n",
    "    Returns:\n",
    "    - index_vals_list (list of int): A list of indices for the top_k \n",
    "    most similar items found in the FAISS index. \n",
    "    These indices correspond to the positions of the items in \n",
    "    the dataset used to build the FAISS index.\n",
    "    \n",
    "    Note:\n",
    "    - This function assumes that a FAISS index (`faiss_index`) \n",
    "    and a model for vectorization (`model`) are already defined \n",
    "    outside the function.\n",
    "    - The function is designed for use with the Sentence Transformers\n",
    "    package to convert text to vectors.\n",
    "    \n",
    "    \"\"\"\n",
    "    \n",
    "    # Run FAISS exhaustive search\n",
    "    query = [query_text]\n",
    "\n",
    "    # Vectorize the query string\n",
    "    query_embedding = model.encode(query, show_progress_bar=False)\n",
    "\n",
    "    # Run the query\n",
    "    # index_vals refers to the chunk_list index values\n",
    "    scores, index_vals = faiss_index.search(query_embedding, top_k)\n",
    "    \n",
    "    # Get the list of index vals\n",
    "    index_vals_list = index_vals[0]\n",
    "    \n",
    "    return index_vals_list\n",
    "    \n",
    "\n",
    "def run_rerank(index_vals_list, query_text):\n",
    "    \n",
    "    \"\"\"\n",
    "    Re-ranks a list of retrieved passages based on \n",
    "    their similarity to the input query using a cross-encoder.\n",
    "\n",
    "    This function takes a list of index values corresponding to \n",
    "    retrieved passages and the input query text. \n",
    "    It then retrieves the actual text of these passages from a \n",
    "    dataframe (`df_data`) and formats them for input to a cross-encoder.\n",
    "    The cross-encoder is then used to score the similarity between \n",
    "    each passage and the query. The passages are re-ranked\n",
    "    based on these scores, and the re-ranked list of \n",
    "    passages is returned.\n",
    "\n",
    "    Parameters:\n",
    "    - index_vals_list (list of int): A list of index values \n",
    "    corresponding to retrieved passages.\n",
    "    - query_text (str): The text of the query to be used \n",
    "    for re-ranking the passages.\n",
    "\n",
    "    Returns:\n",
    "    - pred_list (list of str): A list of re-ranked passages based \n",
    "    on their similarity to the query text.\n",
    "\n",
    "    Note:\n",
    "    - This function assumes that a dataframe (`df_data`) \n",
    "    containing the prepared text of passages and a \n",
    "    cross-encoder (`cross_encoder`) for scoring the similarity \n",
    "    between text pairs are already defined outside the function.\n",
    "    \"\"\"\n",
    "    \n",
    "    # Create a list of text chunks\n",
    "    chunk_list = list(df_data['prepared_text'])\n",
    "\n",
    "    # Replace the chunk index values with the corresponding strings\n",
    "    pred_strings_list = [chunk_list[item] for item in index_vals_list]\n",
    "\n",
    "    # Format the input for the cross encoder\n",
    "    # The input to the cross_encoder is a list of lists\n",
    "    # [[query_text, pred_text1], [query_text, pred_text2], ...]\n",
    "\n",
    "    cross_input_list = []\n",
    "\n",
    "    for item in pred_strings_list:\n",
    "        \n",
    "        # Create a question/chunk pair: [question, text_chunk]\n",
    "        new_list = [query_text, item]\n",
    "        \n",
    "        # Append to the list containing all the question/chunk pairs\n",
    "        # [[question, text_chunk], [question, text_chunk], ...]\n",
    "        cross_input_list.append(new_list)\n",
    "\n",
    "\n",
    "    # Put the pred text into a dataframe\n",
    "    df = pd.DataFrame(cross_input_list, \n",
    "                      columns=['query_text', 'pred_text'])\n",
    "\n",
    "    # Save the orginal index (i.e. df_data index values)\n",
    "    df['original_index'] = index_vals_list\n",
    "\n",
    "    # Now, score all retrieved passages using the cross_encoder\n",
    "    cross_scores = cross_encoder.predict(cross_input_list, show_progress_bar=False)\n",
    "\n",
    "    # Add the scores to the dataframe\n",
    "    df['cross_scores'] = cross_scores\n",
    "\n",
    "    # Sort the DataFrame in descending order based on the scores\n",
    "    df_sorted = df.sort_values(by='cross_scores', ascending=False)\n",
    "    \n",
    "    # Reset the index\n",
    "    df_sorted = df_sorted.reset_index(drop=True)\n",
    "\n",
    "    pred_list = []\n",
    "\n",
    "    for i in range(0,len(df_sorted)):\n",
    "        \n",
    "        # Get the text\n",
    "        text = df_sorted.loc[i, 'pred_text']\n",
    "        \n",
    "        # Add curly braces\n",
    "        item = {\n",
    "            text\n",
    "        }\n",
    "\n",
    "        # Appen the text to a list\n",
    "        pred_list.append(item)\n",
    "\n",
    "    return pred_list\n",
    "\n",
    "    \n",
    "\n",
    "def vector_search_and_rerank(query_text, top_k=10):\n",
    "    \n",
    "    \"\"\"\n",
    "    Executes a retrieval-augmented generation (RAG) system \n",
    "    to generate responses to a given query.\n",
    "\n",
    "    This function integrates FAISS for initial retrieval and \n",
    "    re-ranking using a cross-encoder to produce a list of responses \n",
    "    to the input query text. \n",
    "    First, it runs a FAISS exhaustive search to retrieve the top_k \n",
    "    most relevant passages based on the query. \n",
    "    Then, it re-ranks these passages using a cross-encoder\n",
    "    to prioritize those with the highest similarity to the query. \n",
    "    The resulting list of passages is returned as the \n",
    "    output of the RAG system.\n",
    "\n",
    "    Parameters:\n",
    "    - query_text (str): The text of the query for which responses \n",
    "    are to be generated.\n",
    "    - top_k (int, optional): The number of top passages to \n",
    "    retrieve and re-rank. Defaults to 10.\n",
    "\n",
    "    Returns:\n",
    "    - pred_list (list of str): A list of passages ranked and \n",
    "    generated by the RAG system in response to the query.\n",
    "\n",
    "    Note:\n",
    "    - This function assumes that `run_faiss_search` and `run_rerank` \n",
    "    functions are already defined. \n",
    "    These functions handle the initial retrieval and \n",
    "    re-ranking processes, respectively.\n",
    "    \"\"\"\n",
    "    \n",
    "    # Run a faiss exhaustive search\n",
    "    pred_index_list = run_faiss_search(query_text, top_k)\n",
    "\n",
    "    # This returns a list of dicts with length equal to top_k\n",
    "    pred_list = run_rerank(pred_index_list, query_text)\n",
    "    \n",
    "    return pred_list\n",
    "\n",
    " \n",
    "\n",
    "def extract_gemma_response(response):\n",
    "    \n",
    "    # Extract the answer:\n",
    "    # Split and select the last item in the list\n",
    "    response = response.split('<start_of_turn>model')[-1]\n",
    "    # Remove leading and trailing spaces\n",
    "    response = response.strip()\n",
    "    # Remove the '<end_of_turn> token\n",
    "    response = response.replace('<end_of_turn>', \"\")\n",
    "\n",
    "    # Gemma always uses the phrase \"I cannot answer this question\"\n",
    "    # when the answer is not available.\n",
    "    text1 = 'I cannot answer this question'\n",
    "    \n",
    "    # If Gemma can't answer the question then\n",
    "    # output a standard response.\n",
    "    if text1 in response:\n",
    "        response = \"Sorry, that information is not available.\"\n",
    "        \n",
    "    return response\n",
    "\n",
    "\n",
    "def format_text(text):\n",
    "\n",
    "    # Create a list\n",
    "    answer_list = text.split('\\n')\n",
    "\n",
    "    for i, item in enumerate(answer_list):\n",
    "\n",
    "        # Replace * with nothing\n",
    "        new_item = item.replace('*','')\n",
    "        \n",
    "        # Remove leading and trailing spaces\n",
    "        new_item = new_item.strip()\n",
    "\n",
    "        # Create the output string\n",
    "        if i == 0:  \n",
    "            fin_string = new_item + '\\n'\n",
    "        else:\n",
    "            fin_string = fin_string + new_item + '\\n'\n",
    "\n",
    "    return fin_string\n",
    "\n",
    "\n",
    "def gemma_assistant(question):\n",
    "    \n",
    "    # Create the prompt\n",
    "    prompt = f\"\"\"<start_of_turn>user \n",
    "    Don't use Mardown to format your response.\n",
    "    {question}<end_of_turn>\n",
    "    <start_of_turn>model\n",
    "    \"\"\"\n",
    "\n",
    "    # Tokenize the prompt\n",
    "    inputs = tokenizer(prompt, return_tensors=\"pt\").to(DEVICE)\n",
    "    # Generate the outputs from prompt\n",
    "    generate_ids = gemma_model.generate(**inputs, max_new_tokens=768)\n",
    "    # Decode the generated output\n",
    "    generated_text = tokenizer.batch_decode(generate_ids, \n",
    "                                        skip_special_tokens=True,\n",
    "                                        clean_up_tokenization_spaces=False)[0]\n",
    "\n",
    "\n",
    "    # Extract the answer\n",
    "    response = generated_text.split('<start_of_turn>model')[-1]\n",
    "    # Remove leading and trailing spaces\n",
    "    response = response.strip()\n",
    "    # Remove the '<end_of_turn> token\n",
    "    response = response.replace('<end_of_turn>', \"\")\n",
    "    \n",
    "    # Remove markdown '*' symbols\n",
    "    response = format_text(response)\n",
    "    \n",
    "    return response\n",
    "\n",
    "\n",
    "def timer(start_time):\n",
    "\n",
    "    # End timing\n",
    "    end_time = time.time()\n",
    "    # Calculate the elapsed time\n",
    "    elapsed_time = end_time - start_time\n",
    "    # round to one decimal place\n",
    "    elapsed_time = round(elapsed_time, 1)\n",
    "    \n",
    "    return elapsed_time"
   ]
  },
  {
   "cell_type": "markdown",
   "id": "3e9bcfa3",
   "metadata": {
    "papermill": {
     "duration": 0.032407,
     "end_time": "2024-08-20T19:21:02.990836",
     "exception": false,
     "start_time": "2024-08-20T19:21:02.958429",
     "status": "completed"
    },
    "tags": []
   },
   "source": [
    "## Initialize Gemma 7b-it\n",
    "There are three important capabilities that LLMs have - knowledge, reasoning and reading comprehension. I experimented with both gemma-2b-it (trained on 2T tokens) and gemma-7b-it (trained on 6T tokens).\n",
    "\n",
    "I chose the larger gemma-7b-it for this solution because it has a better reasoning ability and better reading comprehension. When both models are given the same reference text and asked to extract an answer to a question, gemma-7b-it more often produced the correct answer.\n",
    "\n",
    "We will use the HuggingFace Transformers package to load the model and run inference. We will also use the bitsandbytes package to reduce the size of the model by using 4-bit precision. This will allow it to fit in the memory (RAM) available in this notebook environment.\n",
    "\n",
    "We are using two T4 GPUs.\n",
    "You will note that in the code below we have set: device_map=\"auto\"\n",
    "This feature of the Transformers package automatically takes care of of distributing the model across both GPUs."
   ]
  },
  {
   "cell_type": "code",
   "execution_count": 12,
   "id": "df026056",
   "metadata": {
    "execution": {
     "iopub.execute_input": "2024-08-20T19:21:03.056821Z",
     "iopub.status.busy": "2024-08-20T19:21:03.056112Z",
     "iopub.status.idle": "2024-08-20T19:23:03.395337Z",
     "shell.execute_reply": "2024-08-20T19:23:03.394532Z"
    },
    "papermill": {
     "duration": 120.374829,
     "end_time": "2024-08-20T19:23:03.397601",
     "exception": false,
     "start_time": "2024-08-20T19:21:03.022772",
     "status": "completed"
    },
    "tags": []
   },
   "outputs": [
    {
     "name": "stderr",
     "output_type": "stream",
     "text": [
      "`config.hidden_act` is ignored, you should use `config.hidden_activation` instead.\n",
      "Gemma's activation function will be set to `gelu_pytorch_tanh`. Please, use\n",
      "`config.hidden_activation` if you want to override this behaviour.\n",
      "See https://github.com/huggingface/transformers/pull/29402 for more details.\n"
     ]
    },
    {
     "data": {
      "application/vnd.jupyter.widget-view+json": {
       "model_id": "06ff428c2cc748aca0a1ed88fd9d8fed",
       "version_major": 2,
       "version_minor": 0
      },
      "text/plain": [
       "Loading checkpoint shards:   0%|          | 0/4 [00:00<?, ?it/s]"
      ]
     },
     "metadata": {},
     "output_type": "display_data"
    }
   ],
   "source": [
    "# Initialize the model and the tokenizer.\n",
    "# (This step takes about 2 minutes)\n",
    "\n",
    "\n",
    "# Set the compute data type to 16-bit floating point (float16).\n",
    "# This is a more memory-efficient format than float32, \n",
    "# It lowers memory usage and can speed up computation.\n",
    "compute_dtype = getattr(torch, \"float16\")\n",
    "\n",
    "\n",
    "# Configure the model to use 4-bit precision for certain weights, \n",
    "# and specify the quantization details. This further reduces the \n",
    "# model size and can speed up inference.\n",
    "bnb_config = BitsAndBytesConfig(\n",
    "    load_in_4bit=True,\n",
    "    bnb_4bit_use_double_quant=False,\n",
    "    bnb_4bit_quant_type=\"nf4\",\n",
    "    bnb_4bit_compute_dtype=compute_dtype,\n",
    ")\n",
    "\n",
    "# Load the causal language model with the defined quantization \n",
    "# configuration and set it to automatically map \n",
    "# to the available device.\n",
    "gemma_model = AutoModelForCausalLM.from_pretrained(MODEL_PATH,\n",
    "                                        device_map=\"auto\",\n",
    "                                        quantization_config=bnb_config)\n",
    "\n",
    "# Disable caching of past key values for transformer models.\n",
    "# This reduces memory usage in scenarios where past key values \n",
    "# aren't needed for subsequent predictions.\n",
    "gemma_model.config.use_cache = False\n",
    "\n",
    "# Set the pretraining throughput to 1.\n",
    "gemma_model.config.pretraining_tp = 1\n",
    "\n",
    "# Initialize the tokenizer\n",
    "tokenizer = AutoTokenizer.from_pretrained(MODEL_PATH)"
   ]
  },
  {
   "cell_type": "code",
   "execution_count": 13,
   "id": "e39db855",
   "metadata": {
    "execution": {
     "iopub.execute_input": "2024-08-20T19:23:03.465426Z",
     "iopub.status.busy": "2024-08-20T19:23:03.464880Z",
     "iopub.status.idle": "2024-08-20T19:23:03.472512Z",
     "shell.execute_reply": "2024-08-20T19:23:03.471658Z"
    },
    "papermill": {
     "duration": 0.042703,
     "end_time": "2024-08-20T19:23:03.474355",
     "exception": false,
     "start_time": "2024-08-20T19:23:03.431652",
     "status": "completed"
    },
    "tags": []
   },
   "outputs": [
    {
     "data": {
      "text/plain": [
       "GemmaConfig {\n",
       "  \"_name_or_path\": \"/kaggle/input/gemma/transformers/7b-it/1\",\n",
       "  \"architectures\": [\n",
       "    \"GemmaForCausalLM\"\n",
       "  ],\n",
       "  \"attention_bias\": false,\n",
       "  \"attention_dropout\": 0.0,\n",
       "  \"bos_token_id\": 2,\n",
       "  \"eos_token_id\": 1,\n",
       "  \"head_dim\": 256,\n",
       "  \"hidden_act\": \"gelu\",\n",
       "  \"hidden_activation\": \"gelu_pytorch_tanh\",\n",
       "  \"hidden_size\": 3072,\n",
       "  \"initializer_range\": 0.02,\n",
       "  \"intermediate_size\": 24576,\n",
       "  \"max_position_embeddings\": 8192,\n",
       "  \"model_type\": \"gemma\",\n",
       "  \"num_attention_heads\": 16,\n",
       "  \"num_hidden_layers\": 28,\n",
       "  \"num_key_value_heads\": 16,\n",
       "  \"pad_token_id\": 0,\n",
       "  \"pretraining_tp\": 1,\n",
       "  \"quantization_config\": {\n",
       "    \"_load_in_4bit\": true,\n",
       "    \"_load_in_8bit\": false,\n",
       "    \"bnb_4bit_compute_dtype\": \"float16\",\n",
       "    \"bnb_4bit_quant_storage\": \"uint8\",\n",
       "    \"bnb_4bit_quant_type\": \"nf4\",\n",
       "    \"bnb_4bit_use_double_quant\": false,\n",
       "    \"llm_int8_enable_fp32_cpu_offload\": false,\n",
       "    \"llm_int8_has_fp16_weight\": false,\n",
       "    \"llm_int8_skip_modules\": null,\n",
       "    \"llm_int8_threshold\": 6.0,\n",
       "    \"load_in_4bit\": true,\n",
       "    \"load_in_8bit\": false,\n",
       "    \"quant_method\": \"bitsandbytes\"\n",
       "  },\n",
       "  \"rms_norm_eps\": 1e-06,\n",
       "  \"rope_scaling\": null,\n",
       "  \"rope_theta\": 10000.0,\n",
       "  \"torch_dtype\": \"bfloat16\",\n",
       "  \"transformers_version\": \"4.45.0.dev0\",\n",
       "  \"use_cache\": false,\n",
       "  \"vocab_size\": 256000\n",
       "}"
      ]
     },
     "execution_count": 13,
     "metadata": {},
     "output_type": "execute_result"
    }
   ],
   "source": [
    "gemma_model.config"
   ]
  },
  {
   "cell_type": "markdown",
   "id": "48477994",
   "metadata": {
    "papermill": {
     "duration": 0.032294,
     "end_time": "2024-08-20T19:23:03.540215",
     "exception": false,
     "start_time": "2024-08-20T19:23:03.507921",
     "status": "completed"
    },
    "tags": []
   },
   "source": [
    "## Ask Gemma questions about Some Questions\n",
    "\n",
    "Let's ask Gemma a few questions about esports. Gemma would have gained this knowledge during training.\n",
    "\n",
    "It's important to use a good prompt template when working with Gemma. If we don't then we might get bad outputs. The prompt template we will be using is explained here:\n",
    "https://www.promptingguide.ai/models/gemma"
   ]
  },
  {
   "cell_type": "code",
   "execution_count": 14,
   "id": "2604cb8b",
   "metadata": {
    "execution": {
     "iopub.execute_input": "2024-08-20T19:23:03.605420Z",
     "iopub.status.busy": "2024-08-20T19:23:03.605166Z",
     "iopub.status.idle": "2024-08-20T19:23:07.846233Z",
     "shell.execute_reply": "2024-08-20T19:23:07.845231Z"
    },
    "papermill": {
     "duration": 4.276167,
     "end_time": "2024-08-20T19:23:07.848564",
     "exception": false,
     "start_time": "2024-08-20T19:23:03.572397",
     "status": "completed"
    },
    "tags": []
   },
   "outputs": [
    {
     "name": "stdout",
     "output_type": "stream",
     "text": [
      "Time taken: 4.2 seconds\n",
      "\n",
      "User:\n",
      " What is Esports?\n",
      "\n",
      "Gemma:\n",
      " Esports is a term used to describe competitive video gaming events. It is a relatively new term, but it has become increasingly popular in recent years. Esports events are held all over the world, and they can be watched by millions of people.\n",
      "\n"
     ]
    }
   ],
   "source": [
    "ques = \"What is Esports?\"\n",
    "\n",
    "# Create a Prompt\n",
    "prompt = f\"\"\"<start_of_turn>user\n",
    "{ques}<end_of_turn>\n",
    "<start_of_turn>model\n",
    "\"\"\"\n",
    "# prompt\n",
    "# Start timing\n",
    "start_time = time.time()\n",
    "\n",
    "## Tokenize the prompt\n",
    "inputs = tokenizer(prompt, return_tensors=\"pt\").to(DEVICE)\n",
    "\n",
    "generate_ids = gemma_model.generate(**inputs, max_new_tokens=768)\n",
    "\n",
    "# DEcode the generated output\n",
    "generated_text = tokenizer.batch_decode(generate_ids, \n",
    "                                    skip_special_tokens=True,\n",
    "                                    clean_up_tokenization_spaces=False)[0]\n",
    "\n",
    "# Extract the answer\n",
    "\n",
    "# Split and select the last item in the list\n",
    "response = generated_text.split('<start_of_turn>model')[-1]\n",
    "# Remove leading and trailing spaces\n",
    "response = response.strip()\n",
    "# Remove the '<end_of_turn> token\n",
    "response = response.replace('<end_of_turn>', \"\")\n",
    "\n",
    "# Remove markdown '*' symbols\n",
    "# The deafult Markdown that Gemma outputs\n",
    "# doesn't always display well.\n",
    "response = format_text(response)\n",
    "\n",
    "\n",
    "# Get the inference time\n",
    "elapsed_time = timer(start_time)\n",
    "print(f\"Time taken: {elapsed_time} seconds\")\n",
    "\n",
    "print()\n",
    "print('User:\\n',ques)\n",
    "print()\n",
    "print('Gemma:\\n', response)\n"
   ]
  },
  {
   "cell_type": "code",
   "execution_count": 15,
   "id": "61ac0590",
   "metadata": {
    "execution": {
     "iopub.execute_input": "2024-08-20T19:23:07.917006Z",
     "iopub.status.busy": "2024-08-20T19:23:07.916651Z",
     "iopub.status.idle": "2024-08-20T19:23:07.920693Z",
     "shell.execute_reply": "2024-08-20T19:23:07.919860Z"
    },
    "papermill": {
     "duration": 0.040517,
     "end_time": "2024-08-20T19:23:07.922651",
     "exception": false,
     "start_time": "2024-08-20T19:23:07.882134",
     "status": "completed"
    },
    "tags": []
   },
   "outputs": [],
   "source": [
    "# # Start timing\n",
    "# start_time = time.time()\n",
    "\n",
    "# question = \"What is the condition of esports in Bangladesh?\"\n",
    "\n",
    "# answer = gemma_assistant(question)\n",
    "\n",
    "\n",
    "# # Get the inference time\n",
    "# elapsed_time = timer(start_time)\n",
    "# print(f\"Time taken: {elapsed_time} seconds\")\n",
    "# print()\n",
    "\n",
    "# print('User:\\n',question)\n",
    "# print()\n",
    "# print('Gemma:\\n',answer)"
   ]
  },
  {
   "cell_type": "code",
   "execution_count": 16,
   "id": "f668494a",
   "metadata": {
    "execution": {
     "iopub.execute_input": "2024-08-20T19:23:07.989395Z",
     "iopub.status.busy": "2024-08-20T19:23:07.989123Z",
     "iopub.status.idle": "2024-08-20T19:23:07.993190Z",
     "shell.execute_reply": "2024-08-20T19:23:07.992337Z"
    },
    "papermill": {
     "duration": 0.039658,
     "end_time": "2024-08-20T19:23:07.994955",
     "exception": false,
     "start_time": "2024-08-20T19:23:07.955297",
     "status": "completed"
    },
    "tags": []
   },
   "outputs": [],
   "source": [
    "# Start timing\n",
    "# start_time = time.time()\n",
    "\n",
    "# question = \"Name one esports organization from Bangladesh.\"\n",
    "\n",
    "# answer = gemma_assistant(question)\n",
    "\n",
    "\n",
    "# # Get the inference time\n",
    "# elapsed_time = timer(start_time)\n",
    "# print(f\"Time taken: {elapsed_time} seconds\")\n",
    "# print()\n",
    "\n",
    "# print('User:\\n',question)\n",
    "# print()\n",
    "# print('Gemma:\\n',answer)"
   ]
  },
  {
   "cell_type": "code",
   "execution_count": 17,
   "id": "0e5905a4",
   "metadata": {
    "execution": {
     "iopub.execute_input": "2024-08-20T19:23:08.060678Z",
     "iopub.status.busy": "2024-08-20T19:23:08.060037Z",
     "iopub.status.idle": "2024-08-20T19:23:08.063972Z",
     "shell.execute_reply": "2024-08-20T19:23:08.063111Z"
    },
    "papermill": {
     "duration": 0.038849,
     "end_time": "2024-08-20T19:23:08.065791",
     "exception": false,
     "start_time": "2024-08-20T19:23:08.026942",
     "status": "completed"
    },
    "tags": []
   },
   "outputs": [],
   "source": [
    "# question = \"Who is prime minister of Bangladesh?\"\n",
    "\n",
    "# answer = gemma_assistant(question)\n",
    "\n",
    "# print('User:\\n',question)\n",
    "# print()\n",
    "# print('Gemma:\\n',answer)"
   ]
  },
  {
   "cell_type": "markdown",
   "id": "d095c75d",
   "metadata": {
    "papermill": {
     "duration": 0.031807,
     "end_time": "2024-08-20T19:23:08.129675",
     "exception": false,
     "start_time": "2024-08-20T19:23:08.097868",
     "status": "completed"
    },
    "tags": []
   },
   "source": [
    "## Read the Data Set"
   ]
  },
  {
   "cell_type": "code",
   "execution_count": 18,
   "id": "4267d07b",
   "metadata": {
    "execution": {
     "iopub.execute_input": "2024-08-20T19:23:08.196120Z",
     "iopub.status.busy": "2024-08-20T19:23:08.195832Z",
     "iopub.status.idle": "2024-08-20T19:23:10.946680Z",
     "shell.execute_reply": "2024-08-20T19:23:10.945792Z"
    },
    "papermill": {
     "duration": 2.787091,
     "end_time": "2024-08-20T19:23:10.948946",
     "exception": false,
     "start_time": "2024-08-20T19:23:08.161855",
     "status": "completed"
    },
    "tags": []
   },
   "outputs": [
    {
     "data": {
      "text/html": [
       "<div>\n",
       "<style scoped>\n",
       "    .dataframe tbody tr th:only-of-type {\n",
       "        vertical-align: middle;\n",
       "    }\n",
       "\n",
       "    .dataframe tbody tr th {\n",
       "        vertical-align: top;\n",
       "    }\n",
       "\n",
       "    .dataframe thead th {\n",
       "        text-align: right;\n",
       "    }\n",
       "</style>\n",
       "<table border=\"1\" class=\"dataframe\">\n",
       "  <thead>\n",
       "    <tr style=\"text-align: right;\">\n",
       "      <th></th>\n",
       "      <th>datetime</th>\n",
       "      <th>author</th>\n",
       "      <th>message</th>\n",
       "      <th>video_id</th>\n",
       "    </tr>\n",
       "  </thead>\n",
       "  <tbody>\n",
       "    <tr>\n",
       "      <th>0</th>\n",
       "      <td>2022-08-12 09:22:22</td>\n",
       "      <td>Rizvan</td>\n",
       "      <td>hii</td>\n",
       "      <td>oiqpD3C_dLo</td>\n",
       "    </tr>\n",
       "    <tr>\n",
       "      <th>1</th>\n",
       "      <td>2022-08-12 09:22:35</td>\n",
       "      <td>Rizvan</td>\n",
       "      <td>#2d</td>\n",
       "      <td>oiqpD3C_dLo</td>\n",
       "    </tr>\n",
       "    <tr>\n",
       "      <th>2</th>\n",
       "      <td>2022-08-12 09:25:29</td>\n",
       "      <td>RN KAKASHI</td>\n",
       "      <td>3rd</td>\n",
       "      <td>oiqpD3C_dLo</td>\n",
       "    </tr>\n",
       "  </tbody>\n",
       "</table>\n",
       "</div>"
      ],
      "text/plain": [
       "              datetime      author message     video_id\n",
       "0  2022-08-12 09:22:22      Rizvan     hii  oiqpD3C_dLo\n",
       "1  2022-08-12 09:22:35      Rizvan     #2d  oiqpD3C_dLo\n",
       "2  2022-08-12 09:25:29  RN KAKASHI     3rd  oiqpD3C_dLo"
      ]
     },
     "execution_count": 18,
     "metadata": {},
     "output_type": "execute_result"
    }
   ],
   "source": [
    "df = pd.read_parquet('/kaggle/input/esports-data/live_comments_2/bangladesh_livechat_data.parquet')\n",
    "\n",
    "df.head(3)"
   ]
  },
  {
   "cell_type": "code",
   "execution_count": 19,
   "id": "f7950694",
   "metadata": {
    "execution": {
     "iopub.execute_input": "2024-08-20T19:23:11.019524Z",
     "iopub.status.busy": "2024-08-20T19:23:11.019232Z",
     "iopub.status.idle": "2024-08-20T19:23:11.025460Z",
     "shell.execute_reply": "2024-08-20T19:23:11.024623Z"
    },
    "papermill": {
     "duration": 0.044218,
     "end_time": "2024-08-20T19:23:11.027409",
     "exception": false,
     "start_time": "2024-08-20T19:23:10.983191",
     "status": "completed"
    },
    "tags": []
   },
   "outputs": [
    {
     "data": {
      "text/plain": [
       "\" I'm familiar with a few esports organizations from Bangladesh. Here are a couple of notable ones:\\n\\nA1 Esports: A1 Esports is one of the prominent esports organizations in Bangladesh. They are well-known for their presence in competitive gaming, particularly in PUBG Mobile, where they've had significant success both locally and internationally.\\nFS-Gaming (FsGSM): FS-Gaming is another well-known esports organization in Bangladesh. They have participated in various esports tournaments and are recognized in the local gaming community.\\nThese organizations are part of the growing esports scene in Bangladesh, which is gaining more attention and support over time.\\n\""
      ]
     },
     "execution_count": 19,
     "metadata": {},
     "output_type": "execute_result"
    }
   ],
   "source": [
    "context = \"\"\" I'm familiar with a few esports organizations from Bangladesh. Here are a couple of notable ones:\n",
    "\n",
    "A1 Esports: A1 Esports is one of the prominent esports organizations in Bangladesh. They are well-known for their presence in competitive gaming, particularly in PUBG Mobile, where they've had significant success both locally and internationally.\n",
    "FS-Gaming (FsGSM): FS-Gaming is another well-known esports organization in Bangladesh. They have participated in various esports tournaments and are recognized in the local gaming community.\n",
    "These organizations are part of the growing esports scene in Bangladesh, which is gaining more attention and support over time.\n",
    "\"\"\"\n",
    "\n",
    "context"
   ]
  },
  {
   "cell_type": "code",
   "execution_count": 20,
   "id": "49e98ab0",
   "metadata": {
    "execution": {
     "iopub.execute_input": "2024-08-20T19:23:11.093815Z",
     "iopub.status.busy": "2024-08-20T19:23:11.093264Z",
     "iopub.status.idle": "2024-08-20T19:23:11.097051Z",
     "shell.execute_reply": "2024-08-20T19:23:11.096170Z"
    },
    "papermill": {
     "duration": 0.039135,
     "end_time": "2024-08-20T19:23:11.098912",
     "exception": false,
     "start_time": "2024-08-20T19:23:11.059777",
     "status": "completed"
    },
    "tags": []
   },
   "outputs": [],
   "source": [
    "ques = \"Name some Esports organization from Bangladesh.\""
   ]
  },
  {
   "cell_type": "code",
   "execution_count": 21,
   "id": "b488f18a",
   "metadata": {
    "execution": {
     "iopub.execute_input": "2024-08-20T19:23:11.165600Z",
     "iopub.status.busy": "2024-08-20T19:23:11.164874Z",
     "iopub.status.idle": "2024-08-20T19:23:13.382070Z",
     "shell.execute_reply": "2024-08-20T19:23:13.381139Z"
    },
    "papermill": {
     "duration": 2.252807,
     "end_time": "2024-08-20T19:23:13.384416",
     "exception": false,
     "start_time": "2024-08-20T19:23:11.131609",
     "status": "completed"
    },
    "tags": []
   },
   "outputs": [
    {
     "name": "stdout",
     "output_type": "stream",
     "text": [
      "Time taken: 9.8 seconds\n",
      "\n",
      "-----\n",
      "User:\n",
      " Name some Esports organization from Bangladesh.\n",
      "\n",
      "Raw Gemma response:\n",
      "\n",
      " <start_of_turn>user\n",
      "Context:  I'm familiar with a few esports organizations from Bangladesh. Here are a couple of notable ones:\n",
      "\n",
      "A1 Esports: A1 Esports is one of the prominent esports organizations in Bangladesh. They are well-known for their presence in competitive gaming, particularly in PUBG Mobile, where they've had significant success both locally and internationally.\n",
      "FS-Gaming (FsGSM): FS-Gaming is another well-known esports organization in Bangladesh. They have participated in various esports tournaments and are recognized in the local gaming community.\n",
      "These organizations are part of the growing esports scene in Bangladesh, which is gaining more attention and support over time.\n",
      "\n",
      "Question: Name some Esports organization from Bangladesh.<end_of_turn>\n",
      "<start_of_turn>model\n",
      "Sure, here are the named Esports organization from Bangladesh in the text:\n",
      "\n",
      "- A1 Esports\n",
      "- FS-Gaming (FsGSM)\n",
      "\n",
      "\n",
      "Extracted Gemma response:\n",
      "\n",
      " Sure, here are the named Esports organization from Bangladesh in the text:\n",
      "\n",
      "- A1 Esports\n",
      "- FS-Gaming (FsGSM)\n"
     ]
    }
   ],
   "source": [
    "# Create the prompt\n",
    "prompt = f\"\"\"<start_of_turn>user\n",
    "Context: {context}\n",
    "Question: {ques}<end_of_turn>\n",
    "<start_of_turn>model\n",
    "\"\"\"\n",
    "\n",
    "    \n",
    "# Tokenize the prompt\n",
    "inputs = tokenizer(prompt, return_tensors=\"pt\").to(DEVICE)\n",
    "# Generate the outputs from prompt\n",
    "generate_ids = gemma_model.generate(**inputs, max_new_tokens=768)\n",
    "# Decode the generated output\n",
    "response = tokenizer.batch_decode(generate_ids, skip_special_tokens=True,\n",
    "                                     clean_up_tokenization_spaces=False)[0]\n",
    "\n",
    "\n",
    "# Extract the answer\n",
    "\n",
    "# Split and select the last item in the list\n",
    "gemma_response = response.split('<start_of_turn>model')[-1]\n",
    "# Remove leading and trailing spaces\n",
    "gemma_response = gemma_response.strip()\n",
    "# Remove the '<end_of_turn> token\n",
    "gemma_response= gemma_response.replace('<end_of_turn>', \"\")\n",
    "\n",
    "# Get the inference time\n",
    "elapsed_time = timer(start_time)\n",
    "print(f\"Time taken: {elapsed_time} seconds\")\n",
    "print()\n",
    "\n",
    "print('-----')\n",
    "print('User:\\n',ques)\n",
    "print()\n",
    "print('Raw Gemma response:\\n\\n',response)\n",
    "print()\n",
    "print()\n",
    "print('Extracted Gemma response:\\n\\n',gemma_response)"
   ]
  },
  {
   "cell_type": "code",
   "execution_count": 22,
   "id": "6e4f2abd",
   "metadata": {
    "execution": {
     "iopub.execute_input": "2024-08-20T19:23:13.453253Z",
     "iopub.status.busy": "2024-08-20T19:23:13.452644Z",
     "iopub.status.idle": "2024-08-20T19:23:13.459867Z",
     "shell.execute_reply": "2024-08-20T19:23:13.459022Z"
    },
    "papermill": {
     "duration": 0.04386,
     "end_time": "2024-08-20T19:23:13.461912",
     "exception": false,
     "start_time": "2024-08-20T19:23:13.418052",
     "status": "completed"
    },
    "tags": []
   },
   "outputs": [],
   "source": [
    "def hello_world(question, context):   \n",
    "    # Create the prompt\n",
    "    prompt = f\"\"\"<start_of_turn>user\n",
    "    Context: {context}\n",
    "    Question: {question}<end_of_turn>\n",
    "    <start_of_turn>model\n",
    "    \"\"\"\n",
    "\n",
    "\n",
    "    # Tokenize the prompt\n",
    "    inputs = tokenizer(prompt, return_tensors=\"pt\").to(DEVICE)\n",
    "    # Generate the outputs from prompt\n",
    "    generate_ids = gemma_model.generate(**inputs, max_new_tokens=768)\n",
    "    # Decode the generated output\n",
    "    response = tokenizer.batch_decode(generate_ids, skip_special_tokens=True,\n",
    "                                         clean_up_tokenization_spaces=False)[0]\n",
    "\n",
    "\n",
    "    # Extract the answer\n",
    "\n",
    "    # Split and select the last item in the list\n",
    "    gemma_response = response.split('<start_of_turn>model')[-1]\n",
    "    # Remove leading and trailing spaces\n",
    "    gemma_response = gemma_response.strip()\n",
    "    # Remove the '<end_of_turn> token\n",
    "    gemma_response= gemma_response.replace('<end_of_turn>', \"\")\n",
    "    \n",
    "    # Clear the memory to create space\n",
    "    del prompt\n",
    "    del inputs\n",
    "    del generate_ids\n",
    "    torch.cuda.empty_cache() \n",
    "    gc.collect()\n",
    "        \n",
    "    return gemma_response"
   ]
  },
  {
   "cell_type": "code",
   "execution_count": 23,
   "id": "8ed1fec0",
   "metadata": {
    "execution": {
     "iopub.execute_input": "2024-08-20T19:23:13.530080Z",
     "iopub.status.busy": "2024-08-20T19:23:13.529825Z",
     "iopub.status.idle": "2024-08-20T19:23:13.535305Z",
     "shell.execute_reply": "2024-08-20T19:23:13.534418Z"
    },
    "papermill": {
     "duration": 0.041753,
     "end_time": "2024-08-20T19:23:13.537251",
     "exception": false,
     "start_time": "2024-08-20T19:23:13.495498",
     "status": "completed"
    },
    "tags": []
   },
   "outputs": [
    {
     "name": "stdout",
     "output_type": "stream",
     "text": [
      "\n",
      "COVID-19, caused by the SARS-CoV-2 virus, emerged in late 2019 and rapidly became a global pandemic. Characterized by respiratory symptoms, fever, and fatigue, the virus spread across the world, leading to millions of infections and significant mortality. Governments implemented lockdowns, social distancing, and mask mandates to curb the spread, while scientists raced to develop vaccines. The pandemic disrupted daily life, economies, and healthcare systems, highlighting the importance of public health infrastructure. Vaccination efforts and public health measures eventually helped control the virus, though its long-term impact continues to be felt globally.\n",
      "\n",
      "Whaat is covid 19?\n"
     ]
    }
   ],
   "source": [
    "context = f\"\"\"\n",
    "COVID-19, caused by the SARS-CoV-2 virus, emerged in late 2019 and rapidly became a global pandemic. Characterized by respiratory symptoms, fever, and fatigue, the virus spread across the world, leading to millions of infections and significant mortality. Governments implemented lockdowns, social distancing, and mask mandates to curb the spread, while scientists raced to develop vaccines. The pandemic disrupted daily life, economies, and healthcare systems, highlighting the importance of public health infrastructure. Vaccination efforts and public health measures eventually helped control the virus, though its long-term impact continues to be felt globally.\n",
    "\"\"\"\n",
    "ques = \"Whaat is covid 19?\"\n",
    "\n",
    "print(context)\n",
    "print(ques)"
   ]
  },
  {
   "cell_type": "code",
   "execution_count": 24,
   "id": "0ad1b5c6",
   "metadata": {
    "execution": {
     "iopub.execute_input": "2024-08-20T19:23:13.604257Z",
     "iopub.status.busy": "2024-08-20T19:23:13.603751Z",
     "iopub.status.idle": "2024-08-20T19:23:22.769684Z",
     "shell.execute_reply": "2024-08-20T19:23:22.768787Z"
    },
    "papermill": {
     "duration": 9.201803,
     "end_time": "2024-08-20T19:23:22.772127",
     "exception": false,
     "start_time": "2024-08-20T19:23:13.570324",
     "status": "completed"
    },
    "tags": []
   },
   "outputs": [
    {
     "name": "stdout",
     "output_type": "stream",
     "text": [
      "Whaat is covid 19?\n",
      "Sure, here is the answer to the question:\n",
      "\n",
      "COVID-19, caused by the SARS-CoV-2 virus, is a viral infection that emerged in late 2019 and quickly spread worldwide, becoming a global pandemic. It is characterized by respiratory symptoms, fever, and fatigue. The virus has caused millions of infections and significant mortality. Governments implemented lockdowns, social distancing, and mask mandates to curb the spread, while scientists raced to develop vaccines. The pandemic disrupted daily life, economies, and healthcare systems, highlighting the importance of public health infrastructure. Vaccination efforts and public health measures eventually helped control the virus, though its long-term impact continues to be felt globally.\n"
     ]
    }
   ],
   "source": [
    "ans = hello_world(ques, context)\n",
    "print(ques)\n",
    "\n",
    "print(ans)"
   ]
  },
  {
   "cell_type": "code",
   "execution_count": 25,
   "id": "92a46d00",
   "metadata": {
    "execution": {
     "iopub.execute_input": "2024-08-20T19:23:22.839542Z",
     "iopub.status.busy": "2024-08-20T19:23:22.839236Z",
     "iopub.status.idle": "2024-08-20T19:23:26.330973Z",
     "shell.execute_reply": "2024-08-20T19:23:26.329903Z"
    },
    "papermill": {
     "duration": 3.527453,
     "end_time": "2024-08-20T19:23:26.333115",
     "exception": false,
     "start_time": "2024-08-20T19:23:22.805662",
     "status": "completed"
    },
    "tags": []
   },
   "outputs": [
    {
     "name": "stdout",
     "output_type": "stream",
     "text": [
      "Give three topics from this context. Not any Description Just the topics.\n",
      "Sure, here are the three topics from the provided text:\n",
      "\n",
      "    1. COVID-19 pandemic and its impact on global health\n",
      "    2. Vaccination efforts and public health measures\n",
      "    3. The importance of public health infrastructure\n"
     ]
    }
   ],
   "source": [
    "ques = \"Give three topics from this context. Not any Description Just the topics.\"\n",
    "ans = hello_world(ques, context)\n",
    "print(ques)\n",
    "\n",
    "print(ans)"
   ]
  },
  {
   "cell_type": "code",
   "execution_count": 26,
   "id": "b1888e4f",
   "metadata": {
    "execution": {
     "iopub.execute_input": "2024-08-20T19:23:26.400686Z",
     "iopub.status.busy": "2024-08-20T19:23:26.400403Z",
     "iopub.status.idle": "2024-08-20T19:23:26.404542Z",
     "shell.execute_reply": "2024-08-20T19:23:26.403731Z"
    },
    "papermill": {
     "duration": 0.039802,
     "end_time": "2024-08-20T19:23:26.406410",
     "exception": false,
     "start_time": "2024-08-20T19:23:26.366608",
     "status": "completed"
    },
    "tags": []
   },
   "outputs": [],
   "source": [
    "# context_text = f\"\"\"\n",
    "# A mother is often seen as the heart of the family, offering unconditional love, care, and support. She nurtures and guides her children, providing them with the foundation they need to grow into confident and compassionate individuals. A mother's role goes beyond just caregiving; she imparts values, offers wisdom, and serves as a source of comfort and strength throughout her children's lives. Her influence is profound, shaping not only the lives of her children but also the future of the family.\n",
    "# \"\"\"\n",
    "# ans = hello_world(ques, context_text)\n",
    "# print(ques)\n",
    "\n",
    "# print(ans)"
   ]
  },
  {
   "cell_type": "markdown",
   "id": "cf988b67",
   "metadata": {
    "papermill": {
     "duration": 0.033005,
     "end_time": "2024-08-20T19:23:26.472429",
     "exception": false,
     "start_time": "2024-08-20T19:23:26.439424",
     "status": "completed"
    },
    "tags": []
   },
   "source": [
    "## Use the Chat Data"
   ]
  },
  {
   "cell_type": "code",
   "execution_count": 27,
   "id": "1157944d",
   "metadata": {
    "execution": {
     "iopub.execute_input": "2024-08-20T19:23:26.541874Z",
     "iopub.status.busy": "2024-08-20T19:23:26.541558Z",
     "iopub.status.idle": "2024-08-20T19:23:26.551528Z",
     "shell.execute_reply": "2024-08-20T19:23:26.550692Z"
    },
    "papermill": {
     "duration": 0.046343,
     "end_time": "2024-08-20T19:23:26.553932",
     "exception": false,
     "start_time": "2024-08-20T19:23:26.507589",
     "status": "completed"
    },
    "tags": []
   },
   "outputs": [
    {
     "data": {
      "text/html": [
       "<div>\n",
       "<style scoped>\n",
       "    .dataframe tbody tr th:only-of-type {\n",
       "        vertical-align: middle;\n",
       "    }\n",
       "\n",
       "    .dataframe tbody tr th {\n",
       "        vertical-align: top;\n",
       "    }\n",
       "\n",
       "    .dataframe thead th {\n",
       "        text-align: right;\n",
       "    }\n",
       "</style>\n",
       "<table border=\"1\" class=\"dataframe\">\n",
       "  <thead>\n",
       "    <tr style=\"text-align: right;\">\n",
       "      <th></th>\n",
       "      <th>datetime</th>\n",
       "      <th>author</th>\n",
       "      <th>message</th>\n",
       "      <th>video_id</th>\n",
       "    </tr>\n",
       "  </thead>\n",
       "  <tbody>\n",
       "    <tr>\n",
       "      <th>0</th>\n",
       "      <td>2022-08-12 09:22:22</td>\n",
       "      <td>Rizvan</td>\n",
       "      <td>hii</td>\n",
       "      <td>oiqpD3C_dLo</td>\n",
       "    </tr>\n",
       "    <tr>\n",
       "      <th>1</th>\n",
       "      <td>2022-08-12 09:22:35</td>\n",
       "      <td>Rizvan</td>\n",
       "      <td>#2d</td>\n",
       "      <td>oiqpD3C_dLo</td>\n",
       "    </tr>\n",
       "    <tr>\n",
       "      <th>2</th>\n",
       "      <td>2022-08-12 09:25:29</td>\n",
       "      <td>RN KAKASHI</td>\n",
       "      <td>3rd</td>\n",
       "      <td>oiqpD3C_dLo</td>\n",
       "    </tr>\n",
       "  </tbody>\n",
       "</table>\n",
       "</div>"
      ],
      "text/plain": [
       "              datetime      author message     video_id\n",
       "0  2022-08-12 09:22:22      Rizvan     hii  oiqpD3C_dLo\n",
       "1  2022-08-12 09:22:35      Rizvan     #2d  oiqpD3C_dLo\n",
       "2  2022-08-12 09:25:29  RN KAKASHI     3rd  oiqpD3C_dLo"
      ]
     },
     "execution_count": 27,
     "metadata": {},
     "output_type": "execute_result"
    }
   ],
   "source": [
    "df.head(3)"
   ]
  },
  {
   "cell_type": "code",
   "execution_count": 28,
   "id": "6aef5fdb",
   "metadata": {
    "execution": {
     "iopub.execute_input": "2024-08-20T19:23:26.625770Z",
     "iopub.status.busy": "2024-08-20T19:23:26.625487Z",
     "iopub.status.idle": "2024-08-20T19:23:26.677895Z",
     "shell.execute_reply": "2024-08-20T19:23:26.676884Z"
    },
    "papermill": {
     "duration": 0.089816,
     "end_time": "2024-08-20T19:23:26.679804",
     "exception": false,
     "start_time": "2024-08-20T19:23:26.589988",
     "status": "completed"
    },
    "tags": []
   },
   "outputs": [
    {
     "name": "stdout",
     "output_type": "stream",
     "text": [
      "A1 ❤️ A1 ❤️\n"
     ]
    }
   ],
   "source": [
    "import emoji\n",
    "\n",
    "def replace_emoji_codes(text):\n",
    "    \"\"\"\n",
    "    Replace text-based emoji codes with actual emojis using the `emoji` library.\n",
    "\n",
    "    Parameters:\n",
    "    - text (str): The input text containing emoji codes.\n",
    "\n",
    "    Returns:\n",
    "    - str: The text with emoji codes replaced by actual emojis.\n",
    "    \"\"\"\n",
    "    # Convert text-based emoji codes to actual emojis\n",
    "    return emoji.emojize(text)\n",
    "\n",
    "# Example usage\n",
    "text = \"A1 :red_heart: A1 :red_heart:\"\n",
    "converted_text = replace_emoji_codes(text)\n",
    "print(converted_text)  # Output: \"A1 ❤️ A1 ❤️\""
   ]
  },
  {
   "cell_type": "code",
   "execution_count": 29,
   "id": "4d1eb8a9",
   "metadata": {
    "execution": {
     "iopub.execute_input": "2024-08-20T19:23:26.748788Z",
     "iopub.status.busy": "2024-08-20T19:23:26.748489Z",
     "iopub.status.idle": "2024-08-20T19:23:57.283961Z",
     "shell.execute_reply": "2024-08-20T19:23:57.282868Z"
    },
    "papermill": {
     "duration": 30.572336,
     "end_time": "2024-08-20T19:23:57.286204",
     "exception": false,
     "start_time": "2024-08-20T19:23:26.713868",
     "status": "completed"
    },
    "tags": []
   },
   "outputs": [
    {
     "name": "stderr",
     "output_type": "stream",
     "text": [
      "100%|██████████| 2796193/2796193 [00:30<00:00, 91773.18it/s] \n"
     ]
    }
   ],
   "source": [
    "from tqdm import tqdm\n",
    "tqdm.pandas()\n",
    "df['message'] = df.message.progress_apply(replace_emoji_codes)"
   ]
  },
  {
   "cell_type": "code",
   "execution_count": 30,
   "id": "e54e7449",
   "metadata": {
    "execution": {
     "iopub.execute_input": "2024-08-20T19:23:57.405320Z",
     "iopub.status.busy": "2024-08-20T19:23:57.404503Z",
     "iopub.status.idle": "2024-08-20T19:23:57.410339Z",
     "shell.execute_reply": "2024-08-20T19:23:57.409553Z"
    },
    "papermill": {
     "duration": 0.066194,
     "end_time": "2024-08-20T19:23:57.412154",
     "exception": false,
     "start_time": "2024-08-20T19:23:57.345960",
     "status": "completed"
    },
    "tags": []
   },
   "outputs": [
    {
     "data": {
      "text/plain": [
       "2796193"
      ]
     },
     "execution_count": 30,
     "metadata": {},
     "output_type": "execute_result"
    }
   ],
   "source": [
    "len(df)"
   ]
  },
  {
   "cell_type": "code",
   "execution_count": 31,
   "id": "43979a06",
   "metadata": {
    "execution": {
     "iopub.execute_input": "2024-08-20T19:23:57.527909Z",
     "iopub.status.busy": "2024-08-20T19:23:57.527085Z",
     "iopub.status.idle": "2024-08-20T19:23:57.531555Z",
     "shell.execute_reply": "2024-08-20T19:23:57.530688Z"
    },
    "papermill": {
     "duration": 0.063432,
     "end_time": "2024-08-20T19:23:57.533482",
     "exception": false,
     "start_time": "2024-08-20T19:23:57.470050",
     "status": "completed"
    },
    "tags": []
   },
   "outputs": [],
   "source": [
    "# # filt = df[:10].copy()\n",
    "\n",
    "fkchat = df['message']\n",
    "\n",
    "# demo1 = fkchat[:100]\n",
    "# msg = \", \".join(demo1.astype(str))\n",
    "# msg"
   ]
  },
  {
   "cell_type": "code",
   "execution_count": 32,
   "id": "069028a7",
   "metadata": {
    "execution": {
     "iopub.execute_input": "2024-08-20T19:23:57.647763Z",
     "iopub.status.busy": "2024-08-20T19:23:57.647466Z",
     "iopub.status.idle": "2024-08-20T19:23:57.651350Z",
     "shell.execute_reply": "2024-08-20T19:23:57.650569Z"
    },
    "papermill": {
     "duration": 0.062092,
     "end_time": "2024-08-20T19:23:57.653311",
     "exception": false,
     "start_time": "2024-08-20T19:23:57.591219",
     "status": "completed"
    },
    "tags": []
   },
   "outputs": [],
   "source": [
    "# context = msg\n",
    "# # print(context)\n",
    "\n",
    "# ques = \"These are some live Chats from a Esports Live. Now Give me 2 short key topics from these chats. No Description just the topic please. Nothing else just the two topic name.\"\n"
   ]
  },
  {
   "cell_type": "code",
   "execution_count": 33,
   "id": "0d907004",
   "metadata": {
    "execution": {
     "iopub.execute_input": "2024-08-20T19:23:57.764352Z",
     "iopub.status.busy": "2024-08-20T19:23:57.764074Z",
     "iopub.status.idle": "2024-08-20T19:23:57.767797Z",
     "shell.execute_reply": "2024-08-20T19:23:57.766945Z"
    },
    "papermill": {
     "duration": 0.061265,
     "end_time": "2024-08-20T19:23:57.769601",
     "exception": false,
     "start_time": "2024-08-20T19:23:57.708336",
     "status": "completed"
    },
    "tags": []
   },
   "outputs": [],
   "source": [
    "# ans = hello_world(ques, context)\n",
    "\n",
    "# print(ques, end='\\n')\n",
    "\n",
    "# print(ans)"
   ]
  },
  {
   "cell_type": "code",
   "execution_count": 34,
   "id": "2e76fc07",
   "metadata": {
    "execution": {
     "iopub.execute_input": "2024-08-20T19:23:57.882944Z",
     "iopub.status.busy": "2024-08-20T19:23:57.882405Z",
     "iopub.status.idle": "2024-08-20T19:23:57.886407Z",
     "shell.execute_reply": "2024-08-20T19:23:57.885501Z"
    },
    "papermill": {
     "duration": 0.063243,
     "end_time": "2024-08-20T19:23:57.888380",
     "exception": false,
     "start_time": "2024-08-20T19:23:57.825137",
     "status": "completed"
    },
    "tags": []
   },
   "outputs": [],
   "source": [
    "# x = 100\n",
    "# demo1 = fkchat[x:x+100]\n",
    "# msg = \", \".join(demo1.astype(str))\n",
    "# msg"
   ]
  },
  {
   "cell_type": "code",
   "execution_count": 35,
   "id": "3f60a2e6",
   "metadata": {
    "execution": {
     "iopub.execute_input": "2024-08-20T19:23:58.000113Z",
     "iopub.status.busy": "2024-08-20T19:23:57.999823Z",
     "iopub.status.idle": "2024-08-20T19:23:58.003524Z",
     "shell.execute_reply": "2024-08-20T19:23:58.002772Z"
    },
    "papermill": {
     "duration": 0.061388,
     "end_time": "2024-08-20T19:23:58.005573",
     "exception": false,
     "start_time": "2024-08-20T19:23:57.944185",
     "status": "completed"
    },
    "tags": []
   },
   "outputs": [],
   "source": [
    "# context = msg\n",
    "# ans = hello_world(ques, context)\n",
    "\n",
    "# print(ques, end='\\n')\n",
    "\n",
    "# print(ans)"
   ]
  },
  {
   "cell_type": "code",
   "execution_count": 36,
   "id": "57a4324d",
   "metadata": {
    "execution": {
     "iopub.execute_input": "2024-08-20T19:23:58.117567Z",
     "iopub.status.busy": "2024-08-20T19:23:58.117261Z",
     "iopub.status.idle": "2024-08-20T19:23:58.121345Z",
     "shell.execute_reply": "2024-08-20T19:23:58.120456Z"
    },
    "papermill": {
     "duration": 0.062074,
     "end_time": "2024-08-20T19:23:58.123245",
     "exception": false,
     "start_time": "2024-08-20T19:23:58.061171",
     "status": "completed"
    },
    "tags": []
   },
   "outputs": [],
   "source": [
    "# x = 200\n",
    "# demo1 = fkchat[x:x+100]\n",
    "# msg = \", \".join(demo1.astype(str))\n",
    "# context = msg\n",
    "# ans = hello_world(ques, context)\n",
    "# print(ans)"
   ]
  },
  {
   "cell_type": "markdown",
   "id": "43581bde",
   "metadata": {
    "papermill": {
     "duration": 0.058536,
     "end_time": "2024-08-20T19:23:58.237522",
     "exception": false,
     "start_time": "2024-08-20T19:23:58.178986",
     "status": "completed"
    },
    "tags": []
   },
   "source": [
    "## Apply it in a Loop"
   ]
  },
  {
   "cell_type": "code",
   "execution_count": 37,
   "id": "f741da71",
   "metadata": {
    "execution": {
     "iopub.execute_input": "2024-08-20T19:23:58.352546Z",
     "iopub.status.busy": "2024-08-20T19:23:58.352204Z",
     "iopub.status.idle": "2024-08-20T19:23:58.357212Z",
     "shell.execute_reply": "2024-08-20T19:23:58.356280Z"
    },
    "papermill": {
     "duration": 0.064261,
     "end_time": "2024-08-20T19:23:58.359174",
     "exception": false,
     "start_time": "2024-08-20T19:23:58.294913",
     "status": "completed"
    },
    "tags": []
   },
   "outputs": [],
   "source": [
    "# x = 0\n",
    "# chunk_size = 100\n",
    "# results = []\n",
    "\n",
    "# # lim = len(fkchat)\n",
    "# lim = 1000\n",
    "\n",
    "# total_iterations = (lim - x) // chunk_size\n",
    "\n",
    "# # Loop through the DataFrame in chunks of 100 with a progress bar\n",
    "# for _ in tqdm(range(total_iterations), desc=\"Processing\"):\n",
    "#     # Get the next 100 messages\n",
    "#     demo1 = fkchat[x:x + chunk_size]\n",
    "    \n",
    "#     # Convert the messages to a single string, separated by commas\n",
    "#     msg = \", \".join(demo1.astype(str))\n",
    "    \n",
    "#     # Pass the context to the hello_world function and store the result\n",
    "#     ans = hello_world(ques, msg)\n",
    "#     lines = ans.splitlines()\n",
    "\n",
    "#     # Rejoin the lines, skipping the first one\n",
    "#     new_text = \"\\n\".join(lines[1:])\n",
    "\n",
    "#     results.append(new_text)\n",
    "    \n",
    "#     # Move to the next chunk\n",
    "#     x += chunk_size"
   ]
  },
  {
   "cell_type": "code",
   "execution_count": 38,
   "id": "6c76d26d",
   "metadata": {
    "execution": {
     "iopub.execute_input": "2024-08-20T19:23:58.474790Z",
     "iopub.status.busy": "2024-08-20T19:23:58.474450Z",
     "iopub.status.idle": "2024-08-20T19:23:58.478328Z",
     "shell.execute_reply": "2024-08-20T19:23:58.477452Z"
    },
    "papermill": {
     "duration": 0.063697,
     "end_time": "2024-08-20T19:23:58.480200",
     "exception": false,
     "start_time": "2024-08-20T19:23:58.416503",
     "status": "completed"
    },
    "tags": []
   },
   "outputs": [],
   "source": [
    "# for v in results:\n",
    "#     print(v)"
   ]
  },
  {
   "cell_type": "code",
   "execution_count": 39,
   "id": "fe2e8c10",
   "metadata": {
    "execution": {
     "iopub.execute_input": "2024-08-20T19:23:58.594321Z",
     "iopub.status.busy": "2024-08-20T19:23:58.594055Z",
     "iopub.status.idle": "2024-08-20T19:23:58.597929Z",
     "shell.execute_reply": "2024-08-20T19:23:58.597004Z"
    },
    "papermill": {
     "duration": 0.064015,
     "end_time": "2024-08-20T19:23:58.599752",
     "exception": false,
     "start_time": "2024-08-20T19:23:58.535737",
     "status": "completed"
    },
    "tags": []
   },
   "outputs": [],
   "source": [
    "# results[0]"
   ]
  },
  {
   "cell_type": "code",
   "execution_count": 40,
   "id": "3e82b803",
   "metadata": {
    "execution": {
     "iopub.execute_input": "2024-08-20T19:23:58.710968Z",
     "iopub.status.busy": "2024-08-20T19:23:58.710648Z",
     "iopub.status.idle": "2024-08-20T19:23:58.716781Z",
     "shell.execute_reply": "2024-08-20T19:23:58.715921Z"
    },
    "papermill": {
     "duration": 0.063781,
     "end_time": "2024-08-20T19:23:58.718956",
     "exception": false,
     "start_time": "2024-08-20T19:23:58.655175",
     "status": "completed"
    },
    "tags": []
   },
   "outputs": [
    {
     "name": "stdout",
     "output_type": "stream",
     "text": [
      "['Soul se. nehi ho payega 🤣', 'Ste and A1 sinister']\n"
     ]
    }
   ],
   "source": [
    "import re\n",
    "\n",
    "text = \"\\n    - Soul se. nehi ho payega 🤣\\n    - Ste and A1 sinister\"\n",
    "\n",
    "# Split the text into separate lines based on newline\n",
    "separated_texts = [line.strip() for line in text.split('\\n') if line.strip()]\n",
    "\n",
    "# Remove leading hyphens, numbers, or other unwanted characters\n",
    "cleaned_texts = [re.sub(r'^[\\d\\-\\s]+', '', line) for line in separated_texts]\n",
    "\n",
    "# Now you have cleaned lines as separate values in a list\n",
    "print(cleaned_texts)\n"
   ]
  },
  {
   "cell_type": "code",
   "execution_count": 41,
   "id": "4cada252",
   "metadata": {
    "execution": {
     "iopub.execute_input": "2024-08-20T19:23:58.831430Z",
     "iopub.status.busy": "2024-08-20T19:23:58.831152Z",
     "iopub.status.idle": "2024-08-20T19:23:58.837411Z",
     "shell.execute_reply": "2024-08-20T19:23:58.836486Z"
    },
    "papermill": {
     "duration": 0.064276,
     "end_time": "2024-08-20T19:23:58.839336",
     "exception": false,
     "start_time": "2024-08-20T19:23:58.775060",
     "status": "completed"
    },
    "tags": []
   },
   "outputs": [],
   "source": [
    "import re\n",
    "import string\n",
    "\n",
    "def cln_texts(text):\n",
    "    # Split the text into separate lines based on newline\n",
    "    separated_texts = [line.strip() for line in text.split('\\n') if line.strip()]\n",
    "\n",
    "    # Remove leading hyphens, numbers, or other unwanted characters\n",
    "    cleaned_texts = [re.sub(r'^[\\d\\-\\s]+', '', line) for line in separated_texts]\n",
    "\n",
    "    # Remove punctuation\n",
    "    cleaned_texts = [line.translate(str.maketrans('', '', string.punctuation)) for line in cleaned_texts]\n",
    "    \n",
    "    # Remove extra spaces\n",
    "    cleaned_texts = [re.sub(r'\\s+', ' ', line).strip() for line in cleaned_texts]\n",
    "    \n",
    "    return cleaned_texts"
   ]
  },
  {
   "cell_type": "code",
   "execution_count": 42,
   "id": "e23a1e02",
   "metadata": {
    "execution": {
     "iopub.execute_input": "2024-08-20T19:23:58.951742Z",
     "iopub.status.busy": "2024-08-20T19:23:58.951374Z",
     "iopub.status.idle": "2024-08-20T19:23:58.955167Z",
     "shell.execute_reply": "2024-08-20T19:23:58.954343Z"
    },
    "papermill": {
     "duration": 0.062866,
     "end_time": "2024-08-20T19:23:58.957223",
     "exception": false,
     "start_time": "2024-08-20T19:23:58.894357",
     "status": "completed"
    },
    "tags": []
   },
   "outputs": [],
   "source": [
    "# farr = []\n",
    "# for v in tqdm(results):\n",
    "#     farr.append(cln_texts(v))\n",
    "    \n",
    "# farr = [item for sublist in farr for item in sublist]"
   ]
  },
  {
   "cell_type": "code",
   "execution_count": 43,
   "id": "59b33d7a",
   "metadata": {
    "execution": {
     "iopub.execute_input": "2024-08-20T19:23:59.070741Z",
     "iopub.status.busy": "2024-08-20T19:23:59.070374Z",
     "iopub.status.idle": "2024-08-20T19:23:59.074362Z",
     "shell.execute_reply": "2024-08-20T19:23:59.073474Z"
    },
    "papermill": {
     "duration": 0.063929,
     "end_time": "2024-08-20T19:23:59.076312",
     "exception": false,
     "start_time": "2024-08-20T19:23:59.012383",
     "status": "completed"
    },
    "tags": []
   },
   "outputs": [],
   "source": [
    "# farr"
   ]
  },
  {
   "cell_type": "markdown",
   "id": "033c5f6b",
   "metadata": {
    "papermill": {
     "duration": 0.054633,
     "end_time": "2024-08-20T19:23:59.186594",
     "exception": false,
     "start_time": "2024-08-20T19:23:59.131961",
     "status": "completed"
    },
    "tags": []
   },
   "source": [
    "## Now Apply for big chunks"
   ]
  },
  {
   "cell_type": "code",
   "execution_count": 44,
   "id": "eede08a9",
   "metadata": {
    "execution": {
     "iopub.execute_input": "2024-08-20T19:23:59.298176Z",
     "iopub.status.busy": "2024-08-20T19:23:59.297846Z",
     "iopub.status.idle": "2024-08-20T19:29:26.396297Z",
     "shell.execute_reply": "2024-08-20T19:29:26.395271Z"
    },
    "papermill": {
     "duration": 327.156297,
     "end_time": "2024-08-20T19:29:26.398290",
     "exception": false,
     "start_time": "2024-08-20T19:23:59.241993",
     "status": "completed"
    },
    "tags": []
   },
   "outputs": [
    {
     "name": "stderr",
     "output_type": "stream",
     "text": [
      "Processing: 100%|██████████| 900/900 [05:27<00:00,  2.75it/s]\n"
     ]
    }
   ],
   "source": [
    "x = 200_000\n",
    "chunk_size = 100\n",
    "ult_results = []\n",
    "\n",
    "# lim = len(fkchat)\n",
    "lim = x+90_000\n",
    "\n",
    "total_iterations = (lim - x) // chunk_size\n",
    "\n",
    "# Loop through the DataFrame in chunks of 100 with a progress bar\n",
    "for _ in tqdm(range(total_iterations), desc=\"Processing\"):\n",
    "    # Get the next 100 messages\n",
    "    demo1 = fkchat[x:x + chunk_size]\n",
    "    \n",
    "    # Convert the messages to a single string, separated by commas\n",
    "    msg = \", \".join(demo1.astype(str))\n",
    "    \n",
    "    try:\n",
    "        # Pass the context to the hello_world function and store the result\n",
    "        ans = hello_world(ques, msg)\n",
    "        lines = ans.splitlines()\n",
    "\n",
    "        # Rejoin the lines, skipping the first one\n",
    "        new_text = \"\\n\".join(lines[1:])\n",
    "\n",
    "        ult_results.append(new_text)\n",
    "    except:\n",
    "        ult_results.append('None')\n",
    "\n",
    "    \n",
    "    # Move to the next chunk\n",
    "    x += chunk_size"
   ]
  },
  {
   "cell_type": "code",
   "execution_count": 45,
   "id": "c662e859",
   "metadata": {
    "execution": {
     "iopub.execute_input": "2024-08-20T19:29:26.536727Z",
     "iopub.status.busy": "2024-08-20T19:29:26.536306Z",
     "iopub.status.idle": "2024-08-20T19:29:26.540388Z",
     "shell.execute_reply": "2024-08-20T19:29:26.539596Z"
    },
    "papermill": {
     "duration": 0.075271,
     "end_time": "2024-08-20T19:29:26.542207",
     "exception": false,
     "start_time": "2024-08-20T19:29:26.466936",
     "status": "completed"
    },
    "tags": []
   },
   "outputs": [],
   "source": [
    "# ult_results"
   ]
  },
  {
   "cell_type": "code",
   "execution_count": 46,
   "id": "ad0f3dab",
   "metadata": {
    "execution": {
     "iopub.execute_input": "2024-08-20T19:29:26.681571Z",
     "iopub.status.busy": "2024-08-20T19:29:26.681194Z",
     "iopub.status.idle": "2024-08-20T19:29:26.700462Z",
     "shell.execute_reply": "2024-08-20T19:29:26.699649Z"
    },
    "papermill": {
     "duration": 0.090379,
     "end_time": "2024-08-20T19:29:26.702382",
     "exception": false,
     "start_time": "2024-08-20T19:29:26.612003",
     "status": "completed"
    },
    "tags": []
   },
   "outputs": [
    {
     "name": "stderr",
     "output_type": "stream",
     "text": [
      "100%|██████████| 900/900 [00:00<00:00, 81153.90it/s]\n"
     ]
    }
   ],
   "source": [
    "farr = []\n",
    "for v in tqdm(ult_results):\n",
    "    farr.append(cln_texts(v))\n",
    "    \n",
    "farr = [item for sublist in farr for item in sublist]"
   ]
  },
  {
   "cell_type": "code",
   "execution_count": 47,
   "id": "f313bed1",
   "metadata": {
    "execution": {
     "iopub.execute_input": "2024-08-20T19:29:26.840168Z",
     "iopub.status.busy": "2024-08-20T19:29:26.839641Z",
     "iopub.status.idle": "2024-08-20T19:29:26.845278Z",
     "shell.execute_reply": "2024-08-20T19:29:26.844474Z"
    },
    "papermill": {
     "duration": 0.075599,
     "end_time": "2024-08-20T19:29:26.847234",
     "exception": false,
     "start_time": "2024-08-20T19:29:26.771635",
     "status": "completed"
    },
    "tags": []
   },
   "outputs": [
    {
     "data": {
      "text/plain": [
       "['The conversation between NOVA and STE',\n",
       " 'The game of chicken',\n",
       " 'The discussion of the GSM network in Bangladesh',\n",
       " 'Football World Cup',\n",
       " 'PUBG Team Gulare Hate',\n",
       " 'Ste ComBack Diya Dibe Pera Nai',\n",
       " 'Gaming and Esports',\n",
       " 'Social Interactions',\n",
       " 'Personal Events',\n",
       " 'Gaming and Esports']"
      ]
     },
     "execution_count": 47,
     "metadata": {},
     "output_type": "execute_result"
    }
   ],
   "source": [
    "farr[:10]"
   ]
  },
  {
   "cell_type": "code",
   "execution_count": 48,
   "id": "2ac06437",
   "metadata": {
    "execution": {
     "iopub.execute_input": "2024-08-20T19:29:26.984798Z",
     "iopub.status.busy": "2024-08-20T19:29:26.984318Z",
     "iopub.status.idle": "2024-08-20T19:29:26.989343Z",
     "shell.execute_reply": "2024-08-20T19:29:26.988425Z"
    },
    "papermill": {
     "duration": 0.075685,
     "end_time": "2024-08-20T19:29:26.991216",
     "exception": false,
     "start_time": "2024-08-20T19:29:26.915531",
     "status": "completed"
    },
    "tags": []
   },
   "outputs": [
    {
     "name": "stdout",
     "output_type": "stream",
     "text": [
      "(1044, 1)\n"
     ]
    }
   ],
   "source": [
    "topic_df = pd.DataFrame({'topic': farr})\n",
    "\n",
    "print(topic_df.shape)"
   ]
  },
  {
   "cell_type": "code",
   "execution_count": 49,
   "id": "45a65f59",
   "metadata": {
    "execution": {
     "iopub.execute_input": "2024-08-20T19:29:27.128741Z",
     "iopub.status.busy": "2024-08-20T19:29:27.128250Z",
     "iopub.status.idle": "2024-08-20T19:29:27.136346Z",
     "shell.execute_reply": "2024-08-20T19:29:27.135538Z"
    },
    "papermill": {
     "duration": 0.078936,
     "end_time": "2024-08-20T19:29:27.138214",
     "exception": false,
     "start_time": "2024-08-20T19:29:27.059278",
     "status": "completed"
    },
    "tags": []
   },
   "outputs": [
    {
     "data": {
      "text/html": [
       "<div>\n",
       "<style scoped>\n",
       "    .dataframe tbody tr th:only-of-type {\n",
       "        vertical-align: middle;\n",
       "    }\n",
       "\n",
       "    .dataframe tbody tr th {\n",
       "        vertical-align: top;\n",
       "    }\n",
       "\n",
       "    .dataframe thead th {\n",
       "        text-align: right;\n",
       "    }\n",
       "</style>\n",
       "<table border=\"1\" class=\"dataframe\">\n",
       "  <thead>\n",
       "    <tr style=\"text-align: right;\">\n",
       "      <th></th>\n",
       "      <th>topic</th>\n",
       "    </tr>\n",
       "  </thead>\n",
       "  <tbody>\n",
       "    <tr>\n",
       "      <th>0</th>\n",
       "      <td>The conversation between NOVA and STE</td>\n",
       "    </tr>\n",
       "    <tr>\n",
       "      <th>1</th>\n",
       "      <td>The game of chicken</td>\n",
       "    </tr>\n",
       "    <tr>\n",
       "      <th>2</th>\n",
       "      <td>The discussion of the GSM network in Bangladesh</td>\n",
       "    </tr>\n",
       "    <tr>\n",
       "      <th>3</th>\n",
       "      <td>Football World Cup</td>\n",
       "    </tr>\n",
       "    <tr>\n",
       "      <th>4</th>\n",
       "      <td>PUBG Team Gulare Hate</td>\n",
       "    </tr>\n",
       "  </tbody>\n",
       "</table>\n",
       "</div>"
      ],
      "text/plain": [
       "                                             topic\n",
       "0            The conversation between NOVA and STE\n",
       "1                              The game of chicken\n",
       "2  The discussion of the GSM network in Bangladesh\n",
       "3                               Football World Cup\n",
       "4                            PUBG Team Gulare Hate"
      ]
     },
     "execution_count": 49,
     "metadata": {},
     "output_type": "execute_result"
    }
   ],
   "source": [
    "topic_df.head()"
   ]
  },
  {
   "cell_type": "code",
   "execution_count": 50,
   "id": "01a47b25",
   "metadata": {
    "execution": {
     "iopub.execute_input": "2024-08-20T19:29:27.274924Z",
     "iopub.status.busy": "2024-08-20T19:29:27.274281Z",
     "iopub.status.idle": "2024-08-20T19:29:27.282802Z",
     "shell.execute_reply": "2024-08-20T19:29:27.282115Z"
    },
    "papermill": {
     "duration": 0.078557,
     "end_time": "2024-08-20T19:29:27.284660",
     "exception": false,
     "start_time": "2024-08-20T19:29:27.206103",
     "status": "completed"
    },
    "tags": []
   },
   "outputs": [],
   "source": [
    "topic_df.to_csv('All_topicsp2.csv', index=False)"
   ]
  },
  {
   "cell_type": "code",
   "execution_count": null,
   "id": "139344fc",
   "metadata": {
    "papermill": {
     "duration": 0.067744,
     "end_time": "2024-08-20T19:29:27.420370",
     "exception": false,
     "start_time": "2024-08-20T19:29:27.352626",
     "status": "completed"
    },
    "tags": []
   },
   "outputs": [],
   "source": []
  },
  {
   "cell_type": "markdown",
   "id": "5a81640e",
   "metadata": {
    "papermill": {
     "duration": 0.068543,
     "end_time": "2024-08-20T19:29:27.559297",
     "exception": false,
     "start_time": "2024-08-20T19:29:27.490754",
     "status": "completed"
    },
    "tags": []
   },
   "source": [
    "## Shorten The Topic List"
   ]
  },
  {
   "cell_type": "code",
   "execution_count": 51,
   "id": "d948f0f9",
   "metadata": {
    "execution": {
     "iopub.execute_input": "2024-08-20T19:29:27.699691Z",
     "iopub.status.busy": "2024-08-20T19:29:27.698863Z",
     "iopub.status.idle": "2024-08-20T19:29:27.703650Z",
     "shell.execute_reply": "2024-08-20T19:29:27.702759Z"
    },
    "papermill": {
     "duration": 0.075644,
     "end_time": "2024-08-20T19:29:27.705533",
     "exception": false,
     "start_time": "2024-08-20T19:29:27.629889",
     "status": "completed"
    },
    "tags": []
   },
   "outputs": [
    {
     "name": "stdout",
     "output_type": "stream",
     "text": [
      "1044\n"
     ]
    }
   ],
   "source": [
    "print(len(farr))"
   ]
  },
  {
   "cell_type": "code",
   "execution_count": 52,
   "id": "4a6fbe1f",
   "metadata": {
    "execution": {
     "iopub.execute_input": "2024-08-20T19:29:27.845419Z",
     "iopub.status.busy": "2024-08-20T19:29:27.845141Z",
     "iopub.status.idle": "2024-08-20T19:29:27.849086Z",
     "shell.execute_reply": "2024-08-20T19:29:27.848217Z"
    },
    "papermill": {
     "duration": 0.075267,
     "end_time": "2024-08-20T19:29:27.851019",
     "exception": false,
     "start_time": "2024-08-20T19:29:27.775752",
     "status": "completed"
    },
    "tags": []
   },
   "outputs": [],
   "source": [
    "topics = \", \".join(farr[:100])\n",
    "# topics"
   ]
  },
  {
   "cell_type": "code",
   "execution_count": 53,
   "id": "6069cc2a",
   "metadata": {
    "execution": {
     "iopub.execute_input": "2024-08-20T19:29:27.989604Z",
     "iopub.status.busy": "2024-08-20T19:29:27.989083Z",
     "iopub.status.idle": "2024-08-20T19:29:27.992913Z",
     "shell.execute_reply": "2024-08-20T19:29:27.992094Z"
    },
    "papermill": {
     "duration": 0.075004,
     "end_time": "2024-08-20T19:29:27.994827",
     "exception": false,
     "start_time": "2024-08-20T19:29:27.919823",
     "status": "completed"
    },
    "tags": []
   },
   "outputs": [],
   "source": [
    "# ques = \"There are similar type of topics in this context list. From these topics give me top 5 topics.\""
   ]
  },
  {
   "cell_type": "code",
   "execution_count": 54,
   "id": "c5163269",
   "metadata": {
    "execution": {
     "iopub.execute_input": "2024-08-20T19:29:28.133410Z",
     "iopub.status.busy": "2024-08-20T19:29:28.132842Z",
     "iopub.status.idle": "2024-08-20T19:29:28.136500Z",
     "shell.execute_reply": "2024-08-20T19:29:28.135655Z"
    },
    "papermill": {
     "duration": 0.074524,
     "end_time": "2024-08-20T19:29:28.138443",
     "exception": false,
     "start_time": "2024-08-20T19:29:28.063919",
     "status": "completed"
    },
    "tags": []
   },
   "outputs": [],
   "source": [
    "# ans = hello_world(ques, topics)\n",
    "# print(ans)"
   ]
  },
  {
   "cell_type": "code",
   "execution_count": 55,
   "id": "2b7ee478",
   "metadata": {
    "execution": {
     "iopub.execute_input": "2024-08-20T19:29:28.275413Z",
     "iopub.status.busy": "2024-08-20T19:29:28.275105Z",
     "iopub.status.idle": "2024-08-20T19:29:28.278810Z",
     "shell.execute_reply": "2024-08-20T19:29:28.277977Z"
    },
    "papermill": {
     "duration": 0.074346,
     "end_time": "2024-08-20T19:29:28.280660",
     "exception": false,
     "start_time": "2024-08-20T19:29:28.206314",
     "status": "completed"
    },
    "tags": []
   },
   "outputs": [],
   "source": [
    "# topics = \", \".join(farr[100:])\n",
    "# ans = hello_world(ques, topics)\n",
    "# print(ans)"
   ]
  },
  {
   "cell_type": "code",
   "execution_count": null,
   "id": "f9046f77",
   "metadata": {
    "papermill": {
     "duration": 0.06818,
     "end_time": "2024-08-20T19:29:28.416479",
     "exception": false,
     "start_time": "2024-08-20T19:29:28.348299",
     "status": "completed"
    },
    "tags": []
   },
   "outputs": [],
   "source": []
  },
  {
   "cell_type": "markdown",
   "id": "47d2bc70",
   "metadata": {
    "papermill": {
     "duration": 0.068625,
     "end_time": "2024-08-20T19:29:28.555334",
     "exception": false,
     "start_time": "2024-08-20T19:29:28.486709",
     "status": "completed"
    },
    "tags": []
   },
   "source": [
    "## Few Shot Prompting"
   ]
  },
  {
   "cell_type": "code",
   "execution_count": 56,
   "id": "a3315d19",
   "metadata": {
    "execution": {
     "iopub.execute_input": "2024-08-20T19:29:28.695173Z",
     "iopub.status.busy": "2024-08-20T19:29:28.694368Z",
     "iopub.status.idle": "2024-08-20T19:29:28.698788Z",
     "shell.execute_reply": "2024-08-20T19:29:28.697918Z"
    },
    "papermill": {
     "duration": 0.075468,
     "end_time": "2024-08-20T19:29:28.700741",
     "exception": false,
     "start_time": "2024-08-20T19:29:28.625273",
     "status": "completed"
    },
    "tags": []
   },
   "outputs": [],
   "source": [
    "# # Load the few shot data into a pandas dataframe\n",
    "# df_fshot = pd.read_csv(FEW_SHOT_DATA_PATH)\n",
    "\n",
    "# def convert_to_list(x):\n",
    "    \n",
    "#     # Convert the string to a list: '[...]' to [...]\n",
    "#     x_as_list = ast.literal_eval(x)\n",
    "    \n",
    "#     return x_as_list\n",
    "\n",
    "# # Convert each item in the context column from a string to a \n",
    "# # python list i.e. '[...]' to [...]\n",
    "# df_fshot['gem_context'] = df_fshot['gem_context'].apply(convert_to_list)\n",
    "\n",
    "# df_fshot.head()"
   ]
  },
  {
   "cell_type": "code",
   "execution_count": 57,
   "id": "7c1c491b",
   "metadata": {
    "execution": {
     "iopub.execute_input": "2024-08-20T19:29:28.839522Z",
     "iopub.status.busy": "2024-08-20T19:29:28.839037Z",
     "iopub.status.idle": "2024-08-20T19:29:28.842571Z",
     "shell.execute_reply": "2024-08-20T19:29:28.841760Z"
    },
    "papermill": {
     "duration": 0.073709,
     "end_time": "2024-08-20T19:29:28.844385",
     "exception": false,
     "start_time": "2024-08-20T19:29:28.770676",
     "status": "completed"
    },
    "tags": []
   },
   "outputs": [],
   "source": [
    "# print(df_fshot.shape)\n",
    "# df_fshot.tail(3)"
   ]
  },
  {
   "cell_type": "code",
   "execution_count": 58,
   "id": "a52647e2",
   "metadata": {
    "execution": {
     "iopub.execute_input": "2024-08-20T19:29:28.981207Z",
     "iopub.status.busy": "2024-08-20T19:29:28.980636Z",
     "iopub.status.idle": "2024-08-20T19:29:28.985795Z",
     "shell.execute_reply": "2024-08-20T19:29:28.984953Z"
    },
    "papermill": {
     "duration": 0.075709,
     "end_time": "2024-08-20T19:29:28.987694",
     "exception": false,
     "start_time": "2024-08-20T19:29:28.911985",
     "status": "completed"
    },
    "tags": []
   },
   "outputs": [],
   "source": [
    "# def hello_world_again(question, context):   \n",
    "#     # Create the prompt\n",
    "#     prompt = f\"\"\"<start_of_turn>user\n",
    "#     Context: {df_fshot.loc[0, 'gem_context']}\n",
    "#     Question: {df_fshot.loc[0, 'query']}<end_of_turn>\n",
    "#     <start_of_turn>model\n",
    "#     {df_fshot.loc[0, 'corrected_text']}<end_of_turn>\n",
    "#     <start_of_turn>user\n",
    "#     Context: {df_fshot.loc[5, 'gem_context']}\n",
    "#     Question: {df_fshot.loc[5, 'query']}<end_of_turn>\n",
    "#     <start_of_turn>model\n",
    "#     {df_fshot.loc[5, 'corrected_text']}<end_of_turn>\n",
    "#     <start_of_turn>user\n",
    "#     Context: {df_fshot.loc[6, 'gem_context']}\n",
    "#     Question: {df_fshot.loc[6, 'query']}<end_of_turn>\n",
    "#     <start_of_turn>model\n",
    "#     {df_fshot.loc[6, 'corrected_text']}<end_of_turn>\n",
    "#     <start_of_turn>user\n",
    "#     Think and write your step-by-step reasoning before responding.\n",
    "    \n",
    "#     Context: {context}\n",
    "#     Question: {question}<end_of_turn>\n",
    "#     <start_of_turn>model\n",
    "#     \"\"\"\n",
    "\n",
    "\n",
    "#     # Tokenize the prompt\n",
    "#     inp = tokenizer(prompt, return_tensors=\"pt\").to(DEVICE)\n",
    "#     # Generate the outputs from prompt\n",
    "#     generate_ids = gemma_model.generate(**inp, max_new_tokens=768)\n",
    "#     # Decode the generated output\n",
    "#     response = tokenizer.batch_decode(generate_ids, skip_special_tokens=True,\n",
    "#                                          clean_up_tokenization_spaces=False)[0]\n",
    "\n",
    "\n",
    "#     # Extract the answer\n",
    "\n",
    "#     # Split and select the last item in the list\n",
    "#     gemma_response = response.split('<start_of_turn>model')[-1]\n",
    "#     # Remove leading and trailing spaces\n",
    "#     gemma_response = gemma_response.strip()\n",
    "#     # Remove the '<end_of_turn> token\n",
    "#     gemma_response= gemma_response.replace('<end_of_turn>', \"\")\n",
    "    \n",
    "#     return gemma_response"
   ]
  },
  {
   "cell_type": "code",
   "execution_count": 59,
   "id": "12fca1ab",
   "metadata": {
    "execution": {
     "iopub.execute_input": "2024-08-20T19:29:29.125792Z",
     "iopub.status.busy": "2024-08-20T19:29:29.125060Z",
     "iopub.status.idle": "2024-08-20T19:29:29.128759Z",
     "shell.execute_reply": "2024-08-20T19:29:29.127933Z"
    },
    "papermill": {
     "duration": 0.07501,
     "end_time": "2024-08-20T19:29:29.130546",
     "exception": false,
     "start_time": "2024-08-20T19:29:29.055536",
     "status": "completed"
    },
    "tags": []
   },
   "outputs": [],
   "source": [
    "# ans = hello_world_again(ques, context)\n",
    "# print(ques)\n",
    "# print(ans)"
   ]
  },
  {
   "cell_type": "code",
   "execution_count": 60,
   "id": "b12d9b43",
   "metadata": {
    "execution": {
     "iopub.execute_input": "2024-08-20T19:29:29.267847Z",
     "iopub.status.busy": "2024-08-20T19:29:29.267226Z",
     "iopub.status.idle": "2024-08-20T19:29:29.270759Z",
     "shell.execute_reply": "2024-08-20T19:29:29.269959Z"
    },
    "papermill": {
     "duration": 0.07392,
     "end_time": "2024-08-20T19:29:29.272540",
     "exception": false,
     "start_time": "2024-08-20T19:29:29.198620",
     "status": "completed"
    },
    "tags": []
   },
   "outputs": [],
   "source": [
    "# ans = hello_world_again(ques, context_text)\n",
    "# print(ques)\n",
    "# print(ans)"
   ]
  },
  {
   "cell_type": "code",
   "execution_count": null,
   "id": "20a0955d",
   "metadata": {
    "papermill": {
     "duration": 0.067075,
     "end_time": "2024-08-20T19:29:29.407453",
     "exception": false,
     "start_time": "2024-08-20T19:29:29.340378",
     "status": "completed"
    },
    "tags": []
   },
   "outputs": [],
   "source": []
  }
 ],
 "metadata": {
  "kaggle": {
   "accelerator": "nvidiaTeslaT4",
   "dataSources": [
    {
     "datasetId": 4477853,
     "sourceId": 7918995,
     "sourceType": "datasetVersion"
    },
    {
     "datasetId": 5528375,
     "sourceId": 9181722,
     "sourceType": "datasetVersion"
    },
    {
     "modelId": 3301,
     "modelInstanceId": 8332,
     "sourceId": 11261,
     "sourceType": "modelInstanceVersion"
    }
   ],
   "dockerImageVersionId": 30747,
   "isGpuEnabled": true,
   "isInternetEnabled": true,
   "language": "python",
   "sourceType": "notebook"
  },
  "kernelspec": {
   "display_name": "Python 3",
   "language": "python",
   "name": "python3"
  },
  "language_info": {
   "codemirror_mode": {
    "name": "ipython",
    "version": 3
   },
   "file_extension": ".py",
   "mimetype": "text/x-python",
   "name": "python",
   "nbconvert_exporter": "python",
   "pygments_lexer": "ipython3",
   "version": "3.10.13"
  },
  "papermill": {
   "default_parameters": {},
   "duration": 636.87541,
   "end_time": "2024-08-20T19:29:32.764534",
   "environment_variables": {},
   "exception": null,
   "input_path": "__notebook__.ipynb",
   "output_path": "__notebook__.ipynb",
   "parameters": {},
   "start_time": "2024-08-20T19:18:55.889124",
   "version": "2.5.0"
  },
  "widgets": {
   "application/vnd.jupyter.widget-state+json": {
    "state": {
     "06ff428c2cc748aca0a1ed88fd9d8fed": {
      "model_module": "@jupyter-widgets/controls",
      "model_module_version": "1.5.0",
      "model_name": "HBoxModel",
      "state": {
       "_dom_classes": [],
       "_model_module": "@jupyter-widgets/controls",
       "_model_module_version": "1.5.0",
       "_model_name": "HBoxModel",
       "_view_count": null,
       "_view_module": "@jupyter-widgets/controls",
       "_view_module_version": "1.5.0",
       "_view_name": "HBoxView",
       "box_style": "",
       "children": [
        "IPY_MODEL_6a11d8396eaf4c818e5aac2897a75a60",
        "IPY_MODEL_19aa4df55293431da59faf7beb95cd62",
        "IPY_MODEL_463adc7d689540fa8c8cc301972d4d5c"
       ],
       "layout": "IPY_MODEL_64b3b4e48d754d41abf33d4b837db430"
      }
     },
     "16a6a273d3494703b3e4c75aca9bb232": {
      "model_module": "@jupyter-widgets/controls",
      "model_module_version": "1.5.0",
      "model_name": "DescriptionStyleModel",
      "state": {
       "_model_module": "@jupyter-widgets/controls",
       "_model_module_version": "1.5.0",
       "_model_name": "DescriptionStyleModel",
       "_view_count": null,
       "_view_module": "@jupyter-widgets/base",
       "_view_module_version": "1.2.0",
       "_view_name": "StyleView",
       "description_width": ""
      }
     },
     "19aa4df55293431da59faf7beb95cd62": {
      "model_module": "@jupyter-widgets/controls",
      "model_module_version": "1.5.0",
      "model_name": "FloatProgressModel",
      "state": {
       "_dom_classes": [],
       "_model_module": "@jupyter-widgets/controls",
       "_model_module_version": "1.5.0",
       "_model_name": "FloatProgressModel",
       "_view_count": null,
       "_view_module": "@jupyter-widgets/controls",
       "_view_module_version": "1.5.0",
       "_view_name": "ProgressView",
       "bar_style": "success",
       "description": "",
       "description_tooltip": null,
       "layout": "IPY_MODEL_5e9eebbafbd44f38ad183496ef27a432",
       "max": 4.0,
       "min": 0.0,
       "orientation": "horizontal",
       "style": "IPY_MODEL_987fc53dbc134404ad15db74bd81348c",
       "value": 4.0
      }
     },
     "1fbd2ca8a8f04a98bf0418a0a93c98f5": {
      "model_module": "@jupyter-widgets/base",
      "model_module_version": "1.2.0",
      "model_name": "LayoutModel",
      "state": {
       "_model_module": "@jupyter-widgets/base",
       "_model_module_version": "1.2.0",
       "_model_name": "LayoutModel",
       "_view_count": null,
       "_view_module": "@jupyter-widgets/base",
       "_view_module_version": "1.2.0",
       "_view_name": "LayoutView",
       "align_content": null,
       "align_items": null,
       "align_self": null,
       "border": null,
       "bottom": null,
       "display": null,
       "flex": null,
       "flex_flow": null,
       "grid_area": null,
       "grid_auto_columns": null,
       "grid_auto_flow": null,
       "grid_auto_rows": null,
       "grid_column": null,
       "grid_gap": null,
       "grid_row": null,
       "grid_template_areas": null,
       "grid_template_columns": null,
       "grid_template_rows": null,
       "height": null,
       "justify_content": null,
       "justify_items": null,
       "left": null,
       "margin": null,
       "max_height": null,
       "max_width": null,
       "min_height": null,
       "min_width": null,
       "object_fit": null,
       "object_position": null,
       "order": null,
       "overflow": null,
       "overflow_x": null,
       "overflow_y": null,
       "padding": null,
       "right": null,
       "top": null,
       "visibility": null,
       "width": null
      }
     },
     "463adc7d689540fa8c8cc301972d4d5c": {
      "model_module": "@jupyter-widgets/controls",
      "model_module_version": "1.5.0",
      "model_name": "HTMLModel",
      "state": {
       "_dom_classes": [],
       "_model_module": "@jupyter-widgets/controls",
       "_model_module_version": "1.5.0",
       "_model_name": "HTMLModel",
       "_view_count": null,
       "_view_module": "@jupyter-widgets/controls",
       "_view_module_version": "1.5.0",
       "_view_name": "HTMLView",
       "description": "",
       "description_tooltip": null,
       "layout": "IPY_MODEL_65e8634ff9c54ced9e1f0c9254ea7cf8",
       "placeholder": "​",
       "style": "IPY_MODEL_aa0a05e0fc314b55ab10a24d83312fcd",
       "value": " 4/4 [01:58&lt;00:00, 26.62s/it]"
      }
     },
     "5e9eebbafbd44f38ad183496ef27a432": {
      "model_module": "@jupyter-widgets/base",
      "model_module_version": "1.2.0",
      "model_name": "LayoutModel",
      "state": {
       "_model_module": "@jupyter-widgets/base",
       "_model_module_version": "1.2.0",
       "_model_name": "LayoutModel",
       "_view_count": null,
       "_view_module": "@jupyter-widgets/base",
       "_view_module_version": "1.2.0",
       "_view_name": "LayoutView",
       "align_content": null,
       "align_items": null,
       "align_self": null,
       "border": null,
       "bottom": null,
       "display": null,
       "flex": null,
       "flex_flow": null,
       "grid_area": null,
       "grid_auto_columns": null,
       "grid_auto_flow": null,
       "grid_auto_rows": null,
       "grid_column": null,
       "grid_gap": null,
       "grid_row": null,
       "grid_template_areas": null,
       "grid_template_columns": null,
       "grid_template_rows": null,
       "height": null,
       "justify_content": null,
       "justify_items": null,
       "left": null,
       "margin": null,
       "max_height": null,
       "max_width": null,
       "min_height": null,
       "min_width": null,
       "object_fit": null,
       "object_position": null,
       "order": null,
       "overflow": null,
       "overflow_x": null,
       "overflow_y": null,
       "padding": null,
       "right": null,
       "top": null,
       "visibility": null,
       "width": null
      }
     },
     "64b3b4e48d754d41abf33d4b837db430": {
      "model_module": "@jupyter-widgets/base",
      "model_module_version": "1.2.0",
      "model_name": "LayoutModel",
      "state": {
       "_model_module": "@jupyter-widgets/base",
       "_model_module_version": "1.2.0",
       "_model_name": "LayoutModel",
       "_view_count": null,
       "_view_module": "@jupyter-widgets/base",
       "_view_module_version": "1.2.0",
       "_view_name": "LayoutView",
       "align_content": null,
       "align_items": null,
       "align_self": null,
       "border": null,
       "bottom": null,
       "display": null,
       "flex": null,
       "flex_flow": null,
       "grid_area": null,
       "grid_auto_columns": null,
       "grid_auto_flow": null,
       "grid_auto_rows": null,
       "grid_column": null,
       "grid_gap": null,
       "grid_row": null,
       "grid_template_areas": null,
       "grid_template_columns": null,
       "grid_template_rows": null,
       "height": null,
       "justify_content": null,
       "justify_items": null,
       "left": null,
       "margin": null,
       "max_height": null,
       "max_width": null,
       "min_height": null,
       "min_width": null,
       "object_fit": null,
       "object_position": null,
       "order": null,
       "overflow": null,
       "overflow_x": null,
       "overflow_y": null,
       "padding": null,
       "right": null,
       "top": null,
       "visibility": null,
       "width": null
      }
     },
     "65e8634ff9c54ced9e1f0c9254ea7cf8": {
      "model_module": "@jupyter-widgets/base",
      "model_module_version": "1.2.0",
      "model_name": "LayoutModel",
      "state": {
       "_model_module": "@jupyter-widgets/base",
       "_model_module_version": "1.2.0",
       "_model_name": "LayoutModel",
       "_view_count": null,
       "_view_module": "@jupyter-widgets/base",
       "_view_module_version": "1.2.0",
       "_view_name": "LayoutView",
       "align_content": null,
       "align_items": null,
       "align_self": null,
       "border": null,
       "bottom": null,
       "display": null,
       "flex": null,
       "flex_flow": null,
       "grid_area": null,
       "grid_auto_columns": null,
       "grid_auto_flow": null,
       "grid_auto_rows": null,
       "grid_column": null,
       "grid_gap": null,
       "grid_row": null,
       "grid_template_areas": null,
       "grid_template_columns": null,
       "grid_template_rows": null,
       "height": null,
       "justify_content": null,
       "justify_items": null,
       "left": null,
       "margin": null,
       "max_height": null,
       "max_width": null,
       "min_height": null,
       "min_width": null,
       "object_fit": null,
       "object_position": null,
       "order": null,
       "overflow": null,
       "overflow_x": null,
       "overflow_y": null,
       "padding": null,
       "right": null,
       "top": null,
       "visibility": null,
       "width": null
      }
     },
     "6a11d8396eaf4c818e5aac2897a75a60": {
      "model_module": "@jupyter-widgets/controls",
      "model_module_version": "1.5.0",
      "model_name": "HTMLModel",
      "state": {
       "_dom_classes": [],
       "_model_module": "@jupyter-widgets/controls",
       "_model_module_version": "1.5.0",
       "_model_name": "HTMLModel",
       "_view_count": null,
       "_view_module": "@jupyter-widgets/controls",
       "_view_module_version": "1.5.0",
       "_view_name": "HTMLView",
       "description": "",
       "description_tooltip": null,
       "layout": "IPY_MODEL_1fbd2ca8a8f04a98bf0418a0a93c98f5",
       "placeholder": "​",
       "style": "IPY_MODEL_16a6a273d3494703b3e4c75aca9bb232",
       "value": "Loading checkpoint shards: 100%"
      }
     },
     "987fc53dbc134404ad15db74bd81348c": {
      "model_module": "@jupyter-widgets/controls",
      "model_module_version": "1.5.0",
      "model_name": "ProgressStyleModel",
      "state": {
       "_model_module": "@jupyter-widgets/controls",
       "_model_module_version": "1.5.0",
       "_model_name": "ProgressStyleModel",
       "_view_count": null,
       "_view_module": "@jupyter-widgets/base",
       "_view_module_version": "1.2.0",
       "_view_name": "StyleView",
       "bar_color": null,
       "description_width": ""
      }
     },
     "aa0a05e0fc314b55ab10a24d83312fcd": {
      "model_module": "@jupyter-widgets/controls",
      "model_module_version": "1.5.0",
      "model_name": "DescriptionStyleModel",
      "state": {
       "_model_module": "@jupyter-widgets/controls",
       "_model_module_version": "1.5.0",
       "_model_name": "DescriptionStyleModel",
       "_view_count": null,
       "_view_module": "@jupyter-widgets/base",
       "_view_module_version": "1.2.0",
       "_view_name": "StyleView",
       "description_width": ""
      }
     }
    },
    "version_major": 2,
    "version_minor": 0
   }
  }
 },
 "nbformat": 4,
 "nbformat_minor": 5
}
