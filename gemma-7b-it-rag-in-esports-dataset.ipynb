{
 "cells": [
  {
   "cell_type": "code",
   "execution_count": null,
   "id": "c7e10224",
   "metadata": {
    "_cell_guid": "b1076dfc-b9ad-4769-8c92-a6c4dae69d19",
    "_uuid": "8f2839f25d086af736a60e9eeb907d3b93b6e0e5",
    "papermill": {
     "duration": 0.021418,
     "end_time": "2024-08-20T20:12:29.990750",
     "exception": false,
     "start_time": "2024-08-20T20:12:29.969332",
     "status": "completed"
    },
    "tags": []
   },
   "outputs": [],
   "source": []
  },
  {
   "cell_type": "markdown",
   "id": "69647c10",
   "metadata": {
    "papermill": {
     "duration": 0.019809,
     "end_time": "2024-08-20T20:12:30.029590",
     "exception": false,
     "start_time": "2024-08-20T20:12:30.009781",
     "status": "completed"
    },
    "tags": []
   },
   "source": [
    "## Install packages"
   ]
  },
  {
   "cell_type": "code",
   "execution_count": 1,
   "id": "ad6ee86e",
   "metadata": {
    "execution": {
     "iopub.execute_input": "2024-08-20T20:12:30.070398Z",
     "iopub.status.busy": "2024-08-20T20:12:30.069582Z",
     "iopub.status.idle": "2024-08-20T20:13:40.579932Z",
     "shell.execute_reply": "2024-08-20T20:13:40.578845Z"
    },
    "papermill": {
     "duration": 70.53364,
     "end_time": "2024-08-20T20:13:40.582334",
     "exception": false,
     "start_time": "2024-08-20T20:12:30.048694",
     "status": "completed"
    },
    "tags": []
   },
   "outputs": [
    {
     "name": "stdout",
     "output_type": "stream",
     "text": [
      "Collecting git+https://github.com/huggingface/transformers\r\n",
      "  Cloning https://github.com/huggingface/transformers to /tmp/pip-req-build-fmqa1oce\r\n",
      "  Running command git clone --filter=blob:none --quiet https://github.com/huggingface/transformers /tmp/pip-req-build-fmqa1oce\r\n",
      "  Resolved https://github.com/huggingface/transformers to commit 9800e6d1706187d6176f4af56df0b37a10449293\r\n",
      "  Installing build dependencies ... \u001b[?25l-\b \b\\\b \b|\b \b/\b \b-\b \b\\\b \b|\b \bdone\r\n",
      "\u001b[?25h  Getting requirements to build wheel ... \u001b[?25l-\b \b\\\b \bdone\r\n",
      "\u001b[?25h  Preparing metadata (pyproject.toml) ... \u001b[?25l-\b \b\\\b \bdone\r\n",
      "\u001b[?25hRequirement already satisfied: filelock in /opt/conda/lib/python3.10/site-packages (from transformers==4.45.0.dev0) (3.13.1)\r\n",
      "Requirement already satisfied: huggingface-hub<1.0,>=0.23.2 in /opt/conda/lib/python3.10/site-packages (from transformers==4.45.0.dev0) (0.23.4)\r\n",
      "Requirement already satisfied: numpy>=1.17 in /opt/conda/lib/python3.10/site-packages (from transformers==4.45.0.dev0) (1.26.4)\r\n",
      "Requirement already satisfied: packaging>=20.0 in /opt/conda/lib/python3.10/site-packages (from transformers==4.45.0.dev0) (21.3)\r\n",
      "Requirement already satisfied: pyyaml>=5.1 in /opt/conda/lib/python3.10/site-packages (from transformers==4.45.0.dev0) (6.0.1)\r\n",
      "Requirement already satisfied: regex!=2019.12.17 in /opt/conda/lib/python3.10/site-packages (from transformers==4.45.0.dev0) (2023.12.25)\r\n",
      "Requirement already satisfied: requests in /opt/conda/lib/python3.10/site-packages (from transformers==4.45.0.dev0) (2.32.3)\r\n",
      "Requirement already satisfied: tokenizers<0.20,>=0.19 in /opt/conda/lib/python3.10/site-packages (from transformers==4.45.0.dev0) (0.19.1)\r\n",
      "Requirement already satisfied: safetensors>=0.4.1 in /opt/conda/lib/python3.10/site-packages (from transformers==4.45.0.dev0) (0.4.3)\r\n",
      "Requirement already satisfied: tqdm>=4.27 in /opt/conda/lib/python3.10/site-packages (from transformers==4.45.0.dev0) (4.66.4)\r\n",
      "Requirement already satisfied: fsspec>=2023.5.0 in /opt/conda/lib/python3.10/site-packages (from huggingface-hub<1.0,>=0.23.2->transformers==4.45.0.dev0) (2024.5.0)\r\n",
      "Requirement already satisfied: typing-extensions>=3.7.4.3 in /opt/conda/lib/python3.10/site-packages (from huggingface-hub<1.0,>=0.23.2->transformers==4.45.0.dev0) (4.9.0)\r\n",
      "Requirement already satisfied: pyparsing!=3.0.5,>=2.0.2 in /opt/conda/lib/python3.10/site-packages (from packaging>=20.0->transformers==4.45.0.dev0) (3.1.1)\r\n",
      "Requirement already satisfied: charset-normalizer<4,>=2 in /opt/conda/lib/python3.10/site-packages (from requests->transformers==4.45.0.dev0) (3.3.2)\r\n",
      "Requirement already satisfied: idna<4,>=2.5 in /opt/conda/lib/python3.10/site-packages (from requests->transformers==4.45.0.dev0) (3.6)\r\n",
      "Requirement already satisfied: urllib3<3,>=1.21.1 in /opt/conda/lib/python3.10/site-packages (from requests->transformers==4.45.0.dev0) (1.26.18)\r\n",
      "Requirement already satisfied: certifi>=2017.4.17 in /opt/conda/lib/python3.10/site-packages (from requests->transformers==4.45.0.dev0) (2024.7.4)\r\n",
      "Building wheels for collected packages: transformers\r\n",
      "  Building wheel for transformers (pyproject.toml) ... \u001b[?25l-\b \b\\\b \b|\b \b/\b \b-\b \b\\\b \b|\b \b/\b \b-\b \b\\\b \b|\b \b/\b \b-\b \b\\\b \b|\b \b/\b \b-\b \b\\\b \b|\b \b/\b \b-\b \b\\\b \b|\b \b/\b \b-\b \b\\\b \b|\b \bdone\r\n",
      "\u001b[?25h  Created wheel for transformers: filename=transformers-4.45.0.dev0-py3-none-any.whl size=9553550 sha256=7abf83730690b892a4502aa1140ff275e6757319eca24acf490d3d8fa8830809\r\n",
      "  Stored in directory: /tmp/pip-ephem-wheel-cache-klfbuyf4/wheels/c0/14/d6/6c9a5582d2ac191ec0a483be151a4495fe1eb2a6706ca49f1b\r\n",
      "Successfully built transformers\r\n",
      "Installing collected packages: transformers\r\n",
      "  Attempting uninstall: transformers\r\n",
      "    Found existing installation: transformers 4.42.3\r\n",
      "    Uninstalling transformers-4.42.3:\r\n",
      "      Successfully uninstalled transformers-4.42.3\r\n",
      "Successfully installed transformers-4.45.0.dev0\r\n",
      "Looking in indexes: https://pypi.org/simple/\r\n",
      "Collecting bitsandbytes\r\n",
      "  Downloading bitsandbytes-0.43.3-py3-none-manylinux_2_24_x86_64.whl.metadata (3.5 kB)\r\n",
      "Requirement already satisfied: torch in /opt/conda/lib/python3.10/site-packages (from bitsandbytes) (2.1.2)\r\n",
      "Requirement already satisfied: numpy in /opt/conda/lib/python3.10/site-packages (from bitsandbytes) (1.26.4)\r\n",
      "Requirement already satisfied: filelock in /opt/conda/lib/python3.10/site-packages (from torch->bitsandbytes) (3.13.1)\r\n",
      "Requirement already satisfied: typing-extensions in /opt/conda/lib/python3.10/site-packages (from torch->bitsandbytes) (4.9.0)\r\n",
      "Requirement already satisfied: sympy in /opt/conda/lib/python3.10/site-packages (from torch->bitsandbytes) (1.13.0)\r\n",
      "Requirement already satisfied: networkx in /opt/conda/lib/python3.10/site-packages (from torch->bitsandbytes) (3.2.1)\r\n",
      "Requirement already satisfied: jinja2 in /opt/conda/lib/python3.10/site-packages (from torch->bitsandbytes) (3.1.2)\r\n",
      "Requirement already satisfied: fsspec in /opt/conda/lib/python3.10/site-packages (from torch->bitsandbytes) (2024.5.0)\r\n",
      "Requirement already satisfied: MarkupSafe>=2.0 in /opt/conda/lib/python3.10/site-packages (from jinja2->torch->bitsandbytes) (2.1.3)\r\n",
      "Requirement already satisfied: mpmath<1.4,>=1.1.0 in /opt/conda/lib/python3.10/site-packages (from sympy->torch->bitsandbytes) (1.3.0)\r\n",
      "Downloading bitsandbytes-0.43.3-py3-none-manylinux_2_24_x86_64.whl (137.5 MB)\r\n",
      "\u001b[2K   \u001b[90m━━━━━━━━━━━━━━━━━━━━━━━━━━━━━━━━━━━━━━━━\u001b[0m \u001b[32m137.5/137.5 MB\u001b[0m \u001b[31m11.7 MB/s\u001b[0m eta \u001b[36m0:00:00\u001b[0m\r\n",
      "\u001b[?25hInstalling collected packages: bitsandbytes\r\n",
      "Successfully installed bitsandbytes-0.43.3\r\n"
     ]
    }
   ],
   "source": [
    "!pip install git+https://github.com/huggingface/transformers -U\n",
    "#!pip install accelerate\n",
    "!pip install -i https://pypi.org/simple/ bitsandbytes"
   ]
  },
  {
   "cell_type": "code",
   "execution_count": 2,
   "id": "79ba793b",
   "metadata": {
    "execution": {
     "iopub.execute_input": "2024-08-20T20:13:40.641708Z",
     "iopub.status.busy": "2024-08-20T20:13:40.640876Z",
     "iopub.status.idle": "2024-08-20T20:13:53.832436Z",
     "shell.execute_reply": "2024-08-20T20:13:53.831513Z"
    },
    "papermill": {
     "duration": 13.223455,
     "end_time": "2024-08-20T20:13:53.834878",
     "exception": false,
     "start_time": "2024-08-20T20:13:40.611423",
     "status": "completed"
    },
    "tags": []
   },
   "outputs": [
    {
     "name": "stdout",
     "output_type": "stream",
     "text": [
      "Collecting sentence-transformers\r\n",
      "  Downloading sentence_transformers-3.0.1-py3-none-any.whl.metadata (10 kB)\r\n",
      "Requirement already satisfied: transformers<5.0.0,>=4.34.0 in /opt/conda/lib/python3.10/site-packages (from sentence-transformers) (4.45.0.dev0)\r\n",
      "Requirement already satisfied: tqdm in /opt/conda/lib/python3.10/site-packages (from sentence-transformers) (4.66.4)\r\n",
      "Requirement already satisfied: torch>=1.11.0 in /opt/conda/lib/python3.10/site-packages (from sentence-transformers) (2.1.2)\r\n",
      "Requirement already satisfied: numpy in /opt/conda/lib/python3.10/site-packages (from sentence-transformers) (1.26.4)\r\n",
      "Requirement already satisfied: scikit-learn in /opt/conda/lib/python3.10/site-packages (from sentence-transformers) (1.2.2)\r\n",
      "Requirement already satisfied: scipy in /opt/conda/lib/python3.10/site-packages (from sentence-transformers) (1.11.4)\r\n",
      "Requirement already satisfied: huggingface-hub>=0.15.1 in /opt/conda/lib/python3.10/site-packages (from sentence-transformers) (0.23.4)\r\n",
      "Requirement already satisfied: Pillow in /opt/conda/lib/python3.10/site-packages (from sentence-transformers) (9.5.0)\r\n",
      "Requirement already satisfied: filelock in /opt/conda/lib/python3.10/site-packages (from huggingface-hub>=0.15.1->sentence-transformers) (3.13.1)\r\n",
      "Requirement already satisfied: fsspec>=2023.5.0 in /opt/conda/lib/python3.10/site-packages (from huggingface-hub>=0.15.1->sentence-transformers) (2024.5.0)\r\n",
      "Requirement already satisfied: packaging>=20.9 in /opt/conda/lib/python3.10/site-packages (from huggingface-hub>=0.15.1->sentence-transformers) (21.3)\r\n",
      "Requirement already satisfied: pyyaml>=5.1 in /opt/conda/lib/python3.10/site-packages (from huggingface-hub>=0.15.1->sentence-transformers) (6.0.1)\r\n",
      "Requirement already satisfied: requests in /opt/conda/lib/python3.10/site-packages (from huggingface-hub>=0.15.1->sentence-transformers) (2.32.3)\r\n",
      "Requirement already satisfied: typing-extensions>=3.7.4.3 in /opt/conda/lib/python3.10/site-packages (from huggingface-hub>=0.15.1->sentence-transformers) (4.9.0)\r\n",
      "Requirement already satisfied: sympy in /opt/conda/lib/python3.10/site-packages (from torch>=1.11.0->sentence-transformers) (1.13.0)\r\n",
      "Requirement already satisfied: networkx in /opt/conda/lib/python3.10/site-packages (from torch>=1.11.0->sentence-transformers) (3.2.1)\r\n",
      "Requirement already satisfied: jinja2 in /opt/conda/lib/python3.10/site-packages (from torch>=1.11.0->sentence-transformers) (3.1.2)\r\n",
      "Requirement already satisfied: regex!=2019.12.17 in /opt/conda/lib/python3.10/site-packages (from transformers<5.0.0,>=4.34.0->sentence-transformers) (2023.12.25)\r\n",
      "Requirement already satisfied: tokenizers<0.20,>=0.19 in /opt/conda/lib/python3.10/site-packages (from transformers<5.0.0,>=4.34.0->sentence-transformers) (0.19.1)\r\n",
      "Requirement already satisfied: safetensors>=0.4.1 in /opt/conda/lib/python3.10/site-packages (from transformers<5.0.0,>=4.34.0->sentence-transformers) (0.4.3)\r\n",
      "Requirement already satisfied: joblib>=1.1.1 in /opt/conda/lib/python3.10/site-packages (from scikit-learn->sentence-transformers) (1.4.2)\r\n",
      "Requirement already satisfied: threadpoolctl>=2.0.0 in /opt/conda/lib/python3.10/site-packages (from scikit-learn->sentence-transformers) (3.2.0)\r\n",
      "Requirement already satisfied: pyparsing!=3.0.5,>=2.0.2 in /opt/conda/lib/python3.10/site-packages (from packaging>=20.9->huggingface-hub>=0.15.1->sentence-transformers) (3.1.1)\r\n",
      "Requirement already satisfied: MarkupSafe>=2.0 in /opt/conda/lib/python3.10/site-packages (from jinja2->torch>=1.11.0->sentence-transformers) (2.1.3)\r\n",
      "Requirement already satisfied: charset-normalizer<4,>=2 in /opt/conda/lib/python3.10/site-packages (from requests->huggingface-hub>=0.15.1->sentence-transformers) (3.3.2)\r\n",
      "Requirement already satisfied: idna<4,>=2.5 in /opt/conda/lib/python3.10/site-packages (from requests->huggingface-hub>=0.15.1->sentence-transformers) (3.6)\r\n",
      "Requirement already satisfied: urllib3<3,>=1.21.1 in /opt/conda/lib/python3.10/site-packages (from requests->huggingface-hub>=0.15.1->sentence-transformers) (1.26.18)\r\n",
      "Requirement already satisfied: certifi>=2017.4.17 in /opt/conda/lib/python3.10/site-packages (from requests->huggingface-hub>=0.15.1->sentence-transformers) (2024.7.4)\r\n",
      "Requirement already satisfied: mpmath<1.4,>=1.1.0 in /opt/conda/lib/python3.10/site-packages (from sympy->torch>=1.11.0->sentence-transformers) (1.3.0)\r\n",
      "Downloading sentence_transformers-3.0.1-py3-none-any.whl (227 kB)\r\n",
      "\u001b[2K   \u001b[90m━━━━━━━━━━━━━━━━━━━━━━━━━━━━━━━━━━━━━━━━\u001b[0m \u001b[32m227.1/227.1 kB\u001b[0m \u001b[31m2.0 MB/s\u001b[0m eta \u001b[36m0:00:00\u001b[0m\r\n",
      "\u001b[?25hInstalling collected packages: sentence-transformers\r\n",
      "Successfully installed sentence-transformers-3.0.1\r\n"
     ]
    }
   ],
   "source": [
    "!pip install -U sentence-transformers"
   ]
  },
  {
   "cell_type": "code",
   "execution_count": 3,
   "id": "fce95288",
   "metadata": {
    "execution": {
     "iopub.execute_input": "2024-08-20T20:13:53.894649Z",
     "iopub.status.busy": "2024-08-20T20:13:53.894273Z",
     "iopub.status.idle": "2024-08-20T20:14:09.532124Z",
     "shell.execute_reply": "2024-08-20T20:14:09.531194Z"
    },
    "papermill": {
     "duration": 15.670607,
     "end_time": "2024-08-20T20:14:09.534515",
     "exception": false,
     "start_time": "2024-08-20T20:13:53.863908",
     "status": "completed"
    },
    "tags": []
   },
   "outputs": [
    {
     "name": "stdout",
     "output_type": "stream",
     "text": [
      "Collecting faiss-gpu\r\n",
      "  Downloading faiss_gpu-1.7.2-cp310-cp310-manylinux_2_17_x86_64.manylinux2014_x86_64.whl.metadata (1.4 kB)\r\n",
      "Downloading faiss_gpu-1.7.2-cp310-cp310-manylinux_2_17_x86_64.manylinux2014_x86_64.whl (85.5 MB)\r\n",
      "\u001b[2K   \u001b[90m━━━━━━━━━━━━━━━━━━━━━━━━━━━━━━━━━━━━━━━━\u001b[0m \u001b[32m85.5/85.5 MB\u001b[0m \u001b[31m18.3 MB/s\u001b[0m eta \u001b[36m0:00:00\u001b[0m\r\n",
      "\u001b[?25hInstalling collected packages: faiss-gpu\r\n",
      "Successfully installed faiss-gpu-1.7.2\r\n"
     ]
    }
   ],
   "source": [
    "#!pip install faiss-cpu\n",
    "!pip install faiss-gpu"
   ]
  },
  {
   "cell_type": "markdown",
   "id": "5e3b262d",
   "metadata": {
    "papermill": {
     "duration": 0.03209,
     "end_time": "2024-08-20T20:14:09.598245",
     "exception": false,
     "start_time": "2024-08-20T20:14:09.566155",
     "status": "completed"
    },
    "tags": []
   },
   "source": [
    "## Imports"
   ]
  },
  {
   "cell_type": "code",
   "execution_count": 4,
   "id": "69cd500e",
   "metadata": {
    "execution": {
     "iopub.execute_input": "2024-08-20T20:14:09.663550Z",
     "iopub.status.busy": "2024-08-20T20:14:09.662772Z",
     "iopub.status.idle": "2024-08-20T20:14:28.502312Z",
     "shell.execute_reply": "2024-08-20T20:14:28.501261Z"
    },
    "papermill": {
     "duration": 18.874019,
     "end_time": "2024-08-20T20:14:28.504391",
     "exception": false,
     "start_time": "2024-08-20T20:14:09.630372",
     "status": "completed"
    },
    "tags": []
   },
   "outputs": [
    {
     "name": "stderr",
     "output_type": "stream",
     "text": [
      "2024-08-20 20:14:17.843632: E external/local_xla/xla/stream_executor/cuda/cuda_dnn.cc:9261] Unable to register cuDNN factory: Attempting to register factory for plugin cuDNN when one has already been registered\n",
      "2024-08-20 20:14:17.843737: E external/local_xla/xla/stream_executor/cuda/cuda_fft.cc:607] Unable to register cuFFT factory: Attempting to register factory for plugin cuFFT when one has already been registered\n",
      "2024-08-20 20:14:17.969399: E external/local_xla/xla/stream_executor/cuda/cuda_blas.cc:1515] Unable to register cuBLAS factory: Attempting to register factory for plugin cuBLAS when one has already been registered\n"
     ]
    },
    {
     "name": "stdout",
     "output_type": "stream",
     "text": [
      "CUDA Version: 12.1\n",
      "Pytorch 2.1.2\n"
     ]
    }
   ],
   "source": [
    "import pandas as pd\n",
    "import numpy as np\n",
    "import os\n",
    "import ast\n",
    "\n",
    "import torch\n",
    "import gc\n",
    "\n",
    "import sys, random, string, re, time\n",
    "from transformers import (BitsAndBytesConfig, \n",
    "                          AutoModelForCausalLM, \n",
    "                          AutoTokenizer, pipeline)\n",
    "from tqdm.auto import tqdm\n",
    "\n",
    "# Don't Show Warning Messages\n",
    "import warnings\n",
    "warnings.filterwarnings('ignore')\n",
    "\n",
    "print(f\"CUDA Version: {torch.version.cuda}\")\n",
    "print(f\"Pytorch {torch.__version__}\")"
   ]
  },
  {
   "cell_type": "code",
   "execution_count": 5,
   "id": "b94b0e24",
   "metadata": {
    "execution": {
     "iopub.execute_input": "2024-08-20T20:14:28.569424Z",
     "iopub.status.busy": "2024-08-20T20:14:28.568796Z",
     "iopub.status.idle": "2024-08-20T20:14:28.655283Z",
     "shell.execute_reply": "2024-08-20T20:14:28.654429Z"
    },
    "papermill": {
     "duration": 0.121617,
     "end_time": "2024-08-20T20:14:28.657291",
     "exception": false,
     "start_time": "2024-08-20T20:14:28.535674",
     "status": "completed"
    },
    "tags": []
   },
   "outputs": [
    {
     "data": {
      "text/plain": [
       "True"
      ]
     },
     "execution_count": 5,
     "metadata": {},
     "output_type": "execute_result"
    }
   ],
   "source": [
    "torch.cuda.is_available()"
   ]
  },
  {
   "cell_type": "code",
   "execution_count": 6,
   "id": "0635552b",
   "metadata": {
    "execution": {
     "iopub.execute_input": "2024-08-20T20:14:28.721926Z",
     "iopub.status.busy": "2024-08-20T20:14:28.721595Z",
     "iopub.status.idle": "2024-08-20T20:14:28.729613Z",
     "shell.execute_reply": "2024-08-20T20:14:28.728866Z"
    },
    "papermill": {
     "duration": 0.042546,
     "end_time": "2024-08-20T20:14:28.731606",
     "exception": false,
     "start_time": "2024-08-20T20:14:28.689060",
     "status": "completed"
    },
    "tags": []
   },
   "outputs": [],
   "source": [
    "# Set a seed value\n",
    "\n",
    "import torch, random\n",
    "\n",
    "# Ensure that all GPU operations are deterministic \n",
    "torch.backends.cudnn.deterministic = True\n",
    "torch.backends.cudnn.benchmark = False\n",
    "\n",
    "seed_val = 42\n",
    "\n",
    "random.seed(seed_val)\n",
    "np.random.seed(seed_val)\n",
    "torch.manual_seed(seed_val)\n",
    "torch.cuda.manual_seed_all(seed_val)"
   ]
  },
  {
   "cell_type": "markdown",
   "id": "a3e2d25d",
   "metadata": {
    "papermill": {
     "duration": 0.087701,
     "end_time": "2024-08-20T20:14:28.853046",
     "exception": false,
     "start_time": "2024-08-20T20:14:28.765345",
     "status": "completed"
    },
    "tags": []
   },
   "source": [
    "## Define Variables"
   ]
  },
  {
   "cell_type": "code",
   "execution_count": 7,
   "id": "e9166b4a",
   "metadata": {
    "execution": {
     "iopub.execute_input": "2024-08-20T20:14:28.928660Z",
     "iopub.status.busy": "2024-08-20T20:14:28.928255Z",
     "iopub.status.idle": "2024-08-20T20:14:28.933937Z",
     "shell.execute_reply": "2024-08-20T20:14:28.932941Z"
    },
    "papermill": {
     "duration": 0.046023,
     "end_time": "2024-08-20T20:14:28.936142",
     "exception": false,
     "start_time": "2024-08-20T20:14:28.890119",
     "status": "completed"
    },
    "tags": []
   },
   "outputs": [],
   "source": [
    "# set the path to the Gemma model hosted on Kaggle\n",
    "MODEL_PATH = \"/kaggle/input/gemma/transformers/7b-it/1\"\n",
    "MODEL_PATH_large = \"/kaggle/input/gemma-2/transformers/gemma-2-27b-it/1\"\n",
    "\n",
    "# set the path to the data that will be used in the few shot prompt\n",
    "FEW_SHOT_DATA_PATH = '../input/gemma-comp-data/df_corrected_data.csv'\n",
    "\n",
    "# set the path the text files containing info about Kaggle\n",
    "# KAGGLE_DATA_PATH = '../input/gemma-comp-data/rev4-cleaned-txt-kaggle/'\n",
    "\n",
    "# the number of results from the vector search that will be reranked\n",
    "TOP_K = 20\n",
    "\n",
    "# the number of text chunks that will be passed to Gemma\n",
    "NUM_CHUNKS_IN_CONTEXT = 3"
   ]
  },
  {
   "cell_type": "markdown",
   "id": "b0ebd349",
   "metadata": {
    "papermill": {
     "duration": 0.036272,
     "end_time": "2024-08-20T20:14:29.009545",
     "exception": false,
     "start_time": "2024-08-20T20:14:28.973273",
     "status": "completed"
    },
    "tags": []
   },
   "source": [
    "## Define Device"
   ]
  },
  {
   "cell_type": "code",
   "execution_count": 8,
   "id": "830b6728",
   "metadata": {
    "execution": {
     "iopub.execute_input": "2024-08-20T20:14:29.082150Z",
     "iopub.status.busy": "2024-08-20T20:14:29.081778Z",
     "iopub.status.idle": "2024-08-20T20:14:29.087427Z",
     "shell.execute_reply": "2024-08-20T20:14:29.086512Z"
    },
    "papermill": {
     "duration": 0.045009,
     "end_time": "2024-08-20T20:14:29.090249",
     "exception": false,
     "start_time": "2024-08-20T20:14:29.045240",
     "status": "completed"
    },
    "tags": []
   },
   "outputs": [
    {
     "name": "stdout",
     "output_type": "stream",
     "text": [
      "Device: cuda\n",
      "CUDA Version: 12.1\n",
      "Pytorch 2.1.2\n"
     ]
    }
   ],
   "source": [
    "DEVICE = torch.device(\"cuda\") if torch.cuda.is_available() else torch.device(\"cpu\")\n",
    "\n",
    "print(f\"Device: {DEVICE}\")\n",
    "print(f\"CUDA Version: {torch.version.cuda}\")\n",
    "print(f\"Pytorch {torch.__version__}\")"
   ]
  },
  {
   "cell_type": "code",
   "execution_count": 9,
   "id": "1016d79b",
   "metadata": {
    "execution": {
     "iopub.execute_input": "2024-08-20T20:14:29.157507Z",
     "iopub.status.busy": "2024-08-20T20:14:29.157178Z",
     "iopub.status.idle": "2024-08-20T20:14:29.192317Z",
     "shell.execute_reply": "2024-08-20T20:14:29.191212Z"
    },
    "papermill": {
     "duration": 0.069691,
     "end_time": "2024-08-20T20:14:29.194383",
     "exception": false,
     "start_time": "2024-08-20T20:14:29.124692",
     "status": "completed"
    },
    "tags": []
   },
   "outputs": [
    {
     "name": "stdout",
     "output_type": "stream",
     "text": [
      "Num CPUs: 4\n",
      "Num GPUs: 2\n",
      "GPU Type: Tesla T4\n"
     ]
    }
   ],
   "source": [
    "# Check the type and quantity of GPUs\n",
    "\n",
    "if torch.cuda.is_available():\n",
    "    print('Num CPUs:', os.cpu_count())\n",
    "    print('Num GPUs:', torch.cuda.device_count())\n",
    "    print('GPU Type:', torch.cuda.get_device_name(0))\n"
   ]
  },
  {
   "cell_type": "code",
   "execution_count": 10,
   "id": "041865d4",
   "metadata": {
    "execution": {
     "iopub.execute_input": "2024-08-20T20:14:29.287155Z",
     "iopub.status.busy": "2024-08-20T20:14:29.286265Z",
     "iopub.status.idle": "2024-08-20T20:14:29.293813Z",
     "shell.execute_reply": "2024-08-20T20:14:29.292554Z"
    },
    "papermill": {
     "duration": 0.054364,
     "end_time": "2024-08-20T20:14:29.296183",
     "exception": false,
     "start_time": "2024-08-20T20:14:29.241819",
     "status": "completed"
    },
    "tags": []
   },
   "outputs": [
    {
     "data": {
      "text/plain": [
       "4"
      ]
     },
     "execution_count": 10,
     "metadata": {},
     "output_type": "execute_result"
    }
   ],
   "source": [
    "os.cpu_count()"
   ]
  },
  {
   "cell_type": "markdown",
   "id": "cdd106c0",
   "metadata": {
    "papermill": {
     "duration": 0.037282,
     "end_time": "2024-08-20T20:14:29.367456",
     "exception": false,
     "start_time": "2024-08-20T20:14:29.330174",
     "status": "completed"
    },
    "tags": []
   },
   "source": [
    "## Helper functions"
   ]
  },
  {
   "cell_type": "code",
   "execution_count": 11,
   "id": "ccf7edfb",
   "metadata": {
    "execution": {
     "iopub.execute_input": "2024-08-20T20:14:29.436558Z",
     "iopub.status.busy": "2024-08-20T20:14:29.436085Z",
     "iopub.status.idle": "2024-08-20T20:14:29.465224Z",
     "shell.execute_reply": "2024-08-20T20:14:29.464340Z"
    },
    "papermill": {
     "duration": 0.066973,
     "end_time": "2024-08-20T20:14:29.467339",
     "exception": false,
     "start_time": "2024-08-20T20:14:29.400366",
     "status": "completed"
    },
    "tags": []
   },
   "outputs": [],
   "source": [
    "def run_faiss_search(query_text, top_k):\n",
    "    \n",
    "    \"\"\"\n",
    "    Executes an exhaustive search using FAISS to find the most \n",
    "    similar items to a given query.\n",
    "\n",
    "    This function vectorizes the input query text using \n",
    "    a pre-defined model and then performs a search in a FAISS index \n",
    "    to retrieve the top_k most similar items. \n",
    "    It returns the indices of these items in the FAISS index, \n",
    "    which can be used to retrieve the corresponding documents\n",
    "    or items.\n",
    "\n",
    "    Parameters:\n",
    "    - query_text (str): The text of the query for which similar \n",
    "    items are to be found.\n",
    "    - top_k (int): The number of top similar items to retrieve.\n",
    "\n",
    "    Returns:\n",
    "    - index_vals_list (list of int): A list of indices for the top_k \n",
    "    most similar items found in the FAISS index. \n",
    "    These indices correspond to the positions of the items in \n",
    "    the dataset used to build the FAISS index.\n",
    "    \n",
    "    Note:\n",
    "    - This function assumes that a FAISS index (`faiss_index`) \n",
    "    and a model for vectorization (`model`) are already defined \n",
    "    outside the function.\n",
    "    - The function is designed for use with the Sentence Transformers\n",
    "    package to convert text to vectors.\n",
    "    \n",
    "    \"\"\"\n",
    "    \n",
    "    # Run FAISS exhaustive search\n",
    "    query = [query_text]\n",
    "\n",
    "    # Vectorize the query string\n",
    "    query_embedding = model.encode(query, show_progress_bar=False)\n",
    "\n",
    "    # Run the query\n",
    "    # index_vals refers to the chunk_list index values\n",
    "    scores, index_vals = faiss_index.search(query_embedding, top_k)\n",
    "    \n",
    "    # Get the list of index vals\n",
    "    index_vals_list = index_vals[0]\n",
    "    \n",
    "    return index_vals_list\n",
    "    \n",
    "\n",
    "def run_rerank(index_vals_list, query_text):\n",
    "    \n",
    "    \"\"\"\n",
    "    Re-ranks a list of retrieved passages based on \n",
    "    their similarity to the input query using a cross-encoder.\n",
    "\n",
    "    This function takes a list of index values corresponding to \n",
    "    retrieved passages and the input query text. \n",
    "    It then retrieves the actual text of these passages from a \n",
    "    dataframe (`df_data`) and formats them for input to a cross-encoder.\n",
    "    The cross-encoder is then used to score the similarity between \n",
    "    each passage and the query. The passages are re-ranked\n",
    "    based on these scores, and the re-ranked list of \n",
    "    passages is returned.\n",
    "\n",
    "    Parameters:\n",
    "    - index_vals_list (list of int): A list of index values \n",
    "    corresponding to retrieved passages.\n",
    "    - query_text (str): The text of the query to be used \n",
    "    for re-ranking the passages.\n",
    "\n",
    "    Returns:\n",
    "    - pred_list (list of str): A list of re-ranked passages based \n",
    "    on their similarity to the query text.\n",
    "\n",
    "    Note:\n",
    "    - This function assumes that a dataframe (`df_data`) \n",
    "    containing the prepared text of passages and a \n",
    "    cross-encoder (`cross_encoder`) for scoring the similarity \n",
    "    between text pairs are already defined outside the function.\n",
    "    \"\"\"\n",
    "    \n",
    "    # Create a list of text chunks\n",
    "    chunk_list = list(df_data['prepared_text'])\n",
    "\n",
    "    # Replace the chunk index values with the corresponding strings\n",
    "    pred_strings_list = [chunk_list[item] for item in index_vals_list]\n",
    "\n",
    "    # Format the input for the cross encoder\n",
    "    # The input to the cross_encoder is a list of lists\n",
    "    # [[query_text, pred_text1], [query_text, pred_text2], ...]\n",
    "\n",
    "    cross_input_list = []\n",
    "\n",
    "    for item in pred_strings_list:\n",
    "        \n",
    "        # Create a question/chunk pair: [question, text_chunk]\n",
    "        new_list = [query_text, item]\n",
    "        \n",
    "        # Append to the list containing all the question/chunk pairs\n",
    "        # [[question, text_chunk], [question, text_chunk], ...]\n",
    "        cross_input_list.append(new_list)\n",
    "\n",
    "\n",
    "    # Put the pred text into a dataframe\n",
    "    df = pd.DataFrame(cross_input_list, \n",
    "                      columns=['query_text', 'pred_text'])\n",
    "\n",
    "    # Save the orginal index (i.e. df_data index values)\n",
    "    df['original_index'] = index_vals_list\n",
    "\n",
    "    # Now, score all retrieved passages using the cross_encoder\n",
    "    cross_scores = cross_encoder.predict(cross_input_list, show_progress_bar=False)\n",
    "\n",
    "    # Add the scores to the dataframe\n",
    "    df['cross_scores'] = cross_scores\n",
    "\n",
    "    # Sort the DataFrame in descending order based on the scores\n",
    "    df_sorted = df.sort_values(by='cross_scores', ascending=False)\n",
    "    \n",
    "    # Reset the index\n",
    "    df_sorted = df_sorted.reset_index(drop=True)\n",
    "\n",
    "    pred_list = []\n",
    "\n",
    "    for i in range(0,len(df_sorted)):\n",
    "        \n",
    "        # Get the text\n",
    "        text = df_sorted.loc[i, 'pred_text']\n",
    "        \n",
    "        # Add curly braces\n",
    "        item = {\n",
    "            text\n",
    "        }\n",
    "\n",
    "        # Appen the text to a list\n",
    "        pred_list.append(item)\n",
    "\n",
    "    return pred_list\n",
    "\n",
    "    \n",
    "\n",
    "def vector_search_and_rerank(query_text, top_k=10):\n",
    "    \n",
    "    \"\"\"\n",
    "    Executes a retrieval-augmented generation (RAG) system \n",
    "    to generate responses to a given query.\n",
    "\n",
    "    This function integrates FAISS for initial retrieval and \n",
    "    re-ranking using a cross-encoder to produce a list of responses \n",
    "    to the input query text. \n",
    "    First, it runs a FAISS exhaustive search to retrieve the top_k \n",
    "    most relevant passages based on the query. \n",
    "    Then, it re-ranks these passages using a cross-encoder\n",
    "    to prioritize those with the highest similarity to the query. \n",
    "    The resulting list of passages is returned as the \n",
    "    output of the RAG system.\n",
    "\n",
    "    Parameters:\n",
    "    - query_text (str): The text of the query for which responses \n",
    "    are to be generated.\n",
    "    - top_k (int, optional): The number of top passages to \n",
    "    retrieve and re-rank. Defaults to 10.\n",
    "\n",
    "    Returns:\n",
    "    - pred_list (list of str): A list of passages ranked and \n",
    "    generated by the RAG system in response to the query.\n",
    "\n",
    "    Note:\n",
    "    - This function assumes that `run_faiss_search` and `run_rerank` \n",
    "    functions are already defined. \n",
    "    These functions handle the initial retrieval and \n",
    "    re-ranking processes, respectively.\n",
    "    \"\"\"\n",
    "    \n",
    "    # Run a faiss exhaustive search\n",
    "    pred_index_list = run_faiss_search(query_text, top_k)\n",
    "\n",
    "    # This returns a list of dicts with length equal to top_k\n",
    "    pred_list = run_rerank(pred_index_list, query_text)\n",
    "    \n",
    "    return pred_list\n",
    "\n",
    " \n",
    "\n",
    "def extract_gemma_response(response):\n",
    "    \n",
    "    # Extract the answer:\n",
    "    # Split and select the last item in the list\n",
    "    response = response.split('<start_of_turn>model')[-1]\n",
    "    # Remove leading and trailing spaces\n",
    "    response = response.strip()\n",
    "    # Remove the '<end_of_turn> token\n",
    "    response = response.replace('<end_of_turn>', \"\")\n",
    "\n",
    "    # Gemma always uses the phrase \"I cannot answer this question\"\n",
    "    # when the answer is not available.\n",
    "    text1 = 'I cannot answer this question'\n",
    "    \n",
    "    # If Gemma can't answer the question then\n",
    "    # output a standard response.\n",
    "    if text1 in response:\n",
    "        response = \"Sorry, that information is not available.\"\n",
    "        \n",
    "    return response\n",
    "\n",
    "\n",
    "def format_text(text):\n",
    "\n",
    "    # Create a list\n",
    "    answer_list = text.split('\\n')\n",
    "\n",
    "    for i, item in enumerate(answer_list):\n",
    "\n",
    "        # Replace * with nothing\n",
    "        new_item = item.replace('*','')\n",
    "        \n",
    "        # Remove leading and trailing spaces\n",
    "        new_item = new_item.strip()\n",
    "\n",
    "        # Create the output string\n",
    "        if i == 0:  \n",
    "            fin_string = new_item + '\\n'\n",
    "        else:\n",
    "            fin_string = fin_string + new_item + '\\n'\n",
    "\n",
    "    return fin_string\n",
    "\n",
    "\n",
    "def gemma_assistant(question):\n",
    "    \n",
    "    # Create the prompt\n",
    "    prompt = f\"\"\"<start_of_turn>user \n",
    "    Don't use Mardown to format your response.\n",
    "    {question}<end_of_turn>\n",
    "    <start_of_turn>model\n",
    "    \"\"\"\n",
    "\n",
    "    # Tokenize the prompt\n",
    "    inputs = tokenizer(prompt, return_tensors=\"pt\").to(DEVICE)\n",
    "    # Generate the outputs from prompt\n",
    "    generate_ids = gemma_model.generate(**inputs, max_new_tokens=768)\n",
    "    # Decode the generated output\n",
    "    generated_text = tokenizer.batch_decode(generate_ids, \n",
    "                                        skip_special_tokens=True,\n",
    "                                        clean_up_tokenization_spaces=False)[0]\n",
    "\n",
    "\n",
    "    # Extract the answer\n",
    "    response = generated_text.split('<start_of_turn>model')[-1]\n",
    "    # Remove leading and trailing spaces\n",
    "    response = response.strip()\n",
    "    # Remove the '<end_of_turn> token\n",
    "    response = response.replace('<end_of_turn>', \"\")\n",
    "    \n",
    "    # Remove markdown '*' symbols\n",
    "    response = format_text(response)\n",
    "    \n",
    "    return response\n",
    "\n",
    "\n",
    "def timer(start_time):\n",
    "\n",
    "    # End timing\n",
    "    end_time = time.time()\n",
    "    # Calculate the elapsed time\n",
    "    elapsed_time = end_time - start_time\n",
    "    # round to one decimal place\n",
    "    elapsed_time = round(elapsed_time, 1)\n",
    "    \n",
    "    return elapsed_time"
   ]
  },
  {
   "cell_type": "markdown",
   "id": "3b6c6a0b",
   "metadata": {
    "papermill": {
     "duration": 0.031193,
     "end_time": "2024-08-20T20:14:29.530917",
     "exception": false,
     "start_time": "2024-08-20T20:14:29.499724",
     "status": "completed"
    },
    "tags": []
   },
   "source": [
    "## Initialize Gemma 7b-it\n",
    "There are three important capabilities that LLMs have - knowledge, reasoning and reading comprehension. I experimented with both gemma-2b-it (trained on 2T tokens) and gemma-7b-it (trained on 6T tokens).\n",
    "\n",
    "I chose the larger gemma-7b-it for this solution because it has a better reasoning ability and better reading comprehension. When both models are given the same reference text and asked to extract an answer to a question, gemma-7b-it more often produced the correct answer.\n",
    "\n",
    "We will use the HuggingFace Transformers package to load the model and run inference. We will also use the bitsandbytes package to reduce the size of the model by using 4-bit precision. This will allow it to fit in the memory (RAM) available in this notebook environment.\n",
    "\n",
    "We are using two T4 GPUs.\n",
    "You will note that in the code below we have set: device_map=\"auto\"\n",
    "This feature of the Transformers package automatically takes care of of distributing the model across both GPUs."
   ]
  },
  {
   "cell_type": "code",
   "execution_count": 12,
   "id": "c03de5b7",
   "metadata": {
    "execution": {
     "iopub.execute_input": "2024-08-20T20:14:29.601126Z",
     "iopub.status.busy": "2024-08-20T20:14:29.600700Z",
     "iopub.status.idle": "2024-08-20T20:16:20.606697Z",
     "shell.execute_reply": "2024-08-20T20:16:20.605857Z"
    },
    "papermill": {
     "duration": 111.046179,
     "end_time": "2024-08-20T20:16:20.609169",
     "exception": false,
     "start_time": "2024-08-20T20:14:29.562990",
     "status": "completed"
    },
    "tags": []
   },
   "outputs": [
    {
     "name": "stderr",
     "output_type": "stream",
     "text": [
      "`config.hidden_act` is ignored, you should use `config.hidden_activation` instead.\n",
      "Gemma's activation function will be set to `gelu_pytorch_tanh`. Please, use\n",
      "`config.hidden_activation` if you want to override this behaviour.\n",
      "See https://github.com/huggingface/transformers/pull/29402 for more details.\n"
     ]
    },
    {
     "data": {
      "application/vnd.jupyter.widget-view+json": {
       "model_id": "b7f12f8c5185489ba60f3b139f763d88",
       "version_major": 2,
       "version_minor": 0
      },
      "text/plain": [
       "Loading checkpoint shards:   0%|          | 0/4 [00:00<?, ?it/s]"
      ]
     },
     "metadata": {},
     "output_type": "display_data"
    }
   ],
   "source": [
    "# Initialize the model and the tokenizer.\n",
    "# (This step takes about 2 minutes)\n",
    "\n",
    "\n",
    "# Set the compute data type to 16-bit floating point (float16).\n",
    "# This is a more memory-efficient format than float32, \n",
    "# It lowers memory usage and can speed up computation.\n",
    "compute_dtype = getattr(torch, \"float16\")\n",
    "\n",
    "\n",
    "# Configure the model to use 4-bit precision for certain weights, \n",
    "# and specify the quantization details. This further reduces the \n",
    "# model size and can speed up inference.\n",
    "bnb_config = BitsAndBytesConfig(\n",
    "    load_in_4bit=True,\n",
    "    bnb_4bit_use_double_quant=False,\n",
    "    bnb_4bit_quant_type=\"nf4\",\n",
    "    bnb_4bit_compute_dtype=compute_dtype,\n",
    ")\n",
    "\n",
    "# Load the causal language model with the defined quantization \n",
    "# configuration and set it to automatically map \n",
    "# to the available device.\n",
    "gemma_model = AutoModelForCausalLM.from_pretrained(MODEL_PATH,\n",
    "                                        device_map=\"auto\",\n",
    "                                        quantization_config=bnb_config)\n",
    "\n",
    "# Disable caching of past key values for transformer models.\n",
    "# This reduces memory usage in scenarios where past key values \n",
    "# aren't needed for subsequent predictions.\n",
    "gemma_model.config.use_cache = False\n",
    "\n",
    "# Set the pretraining throughput to 1.\n",
    "gemma_model.config.pretraining_tp = 1\n",
    "\n",
    "# Initialize the tokenizer\n",
    "tokenizer = AutoTokenizer.from_pretrained(MODEL_PATH)"
   ]
  },
  {
   "cell_type": "code",
   "execution_count": 13,
   "id": "26b46f7a",
   "metadata": {
    "execution": {
     "iopub.execute_input": "2024-08-20T20:16:20.677269Z",
     "iopub.status.busy": "2024-08-20T20:16:20.676407Z",
     "iopub.status.idle": "2024-08-20T20:16:20.684179Z",
     "shell.execute_reply": "2024-08-20T20:16:20.683279Z"
    },
    "papermill": {
     "duration": 0.042882,
     "end_time": "2024-08-20T20:16:20.686151",
     "exception": false,
     "start_time": "2024-08-20T20:16:20.643269",
     "status": "completed"
    },
    "tags": []
   },
   "outputs": [
    {
     "data": {
      "text/plain": [
       "GemmaConfig {\n",
       "  \"_name_or_path\": \"/kaggle/input/gemma/transformers/7b-it/1\",\n",
       "  \"architectures\": [\n",
       "    \"GemmaForCausalLM\"\n",
       "  ],\n",
       "  \"attention_bias\": false,\n",
       "  \"attention_dropout\": 0.0,\n",
       "  \"bos_token_id\": 2,\n",
       "  \"eos_token_id\": 1,\n",
       "  \"head_dim\": 256,\n",
       "  \"hidden_act\": \"gelu\",\n",
       "  \"hidden_activation\": \"gelu_pytorch_tanh\",\n",
       "  \"hidden_size\": 3072,\n",
       "  \"initializer_range\": 0.02,\n",
       "  \"intermediate_size\": 24576,\n",
       "  \"max_position_embeddings\": 8192,\n",
       "  \"model_type\": \"gemma\",\n",
       "  \"num_attention_heads\": 16,\n",
       "  \"num_hidden_layers\": 28,\n",
       "  \"num_key_value_heads\": 16,\n",
       "  \"pad_token_id\": 0,\n",
       "  \"pretraining_tp\": 1,\n",
       "  \"quantization_config\": {\n",
       "    \"_load_in_4bit\": true,\n",
       "    \"_load_in_8bit\": false,\n",
       "    \"bnb_4bit_compute_dtype\": \"float16\",\n",
       "    \"bnb_4bit_quant_storage\": \"uint8\",\n",
       "    \"bnb_4bit_quant_type\": \"nf4\",\n",
       "    \"bnb_4bit_use_double_quant\": false,\n",
       "    \"llm_int8_enable_fp32_cpu_offload\": false,\n",
       "    \"llm_int8_has_fp16_weight\": false,\n",
       "    \"llm_int8_skip_modules\": null,\n",
       "    \"llm_int8_threshold\": 6.0,\n",
       "    \"load_in_4bit\": true,\n",
       "    \"load_in_8bit\": false,\n",
       "    \"quant_method\": \"bitsandbytes\"\n",
       "  },\n",
       "  \"rms_norm_eps\": 1e-06,\n",
       "  \"rope_scaling\": null,\n",
       "  \"rope_theta\": 10000.0,\n",
       "  \"torch_dtype\": \"bfloat16\",\n",
       "  \"transformers_version\": \"4.45.0.dev0\",\n",
       "  \"use_cache\": false,\n",
       "  \"vocab_size\": 256000\n",
       "}"
      ]
     },
     "execution_count": 13,
     "metadata": {},
     "output_type": "execute_result"
    }
   ],
   "source": [
    "gemma_model.config"
   ]
  },
  {
   "cell_type": "markdown",
   "id": "81c41583",
   "metadata": {
    "papermill": {
     "duration": 0.03228,
     "end_time": "2024-08-20T20:16:20.750890",
     "exception": false,
     "start_time": "2024-08-20T20:16:20.718610",
     "status": "completed"
    },
    "tags": []
   },
   "source": [
    "## Ask Gemma questions about Some Questions\n",
    "\n",
    "Let's ask Gemma a few questions about esports. Gemma would have gained this knowledge during training.\n",
    "\n",
    "It's important to use a good prompt template when working with Gemma. If we don't then we might get bad outputs. The prompt template we will be using is explained here:\n",
    "https://www.promptingguide.ai/models/gemma"
   ]
  },
  {
   "cell_type": "code",
   "execution_count": 14,
   "id": "c7fb56b4",
   "metadata": {
    "execution": {
     "iopub.execute_input": "2024-08-20T20:16:20.817333Z",
     "iopub.status.busy": "2024-08-20T20:16:20.816984Z",
     "iopub.status.idle": "2024-08-20T20:16:24.929142Z",
     "shell.execute_reply": "2024-08-20T20:16:24.927794Z"
    },
    "papermill": {
     "duration": 4.148326,
     "end_time": "2024-08-20T20:16:24.931462",
     "exception": false,
     "start_time": "2024-08-20T20:16:20.783136",
     "status": "completed"
    },
    "tags": []
   },
   "outputs": [
    {
     "name": "stdout",
     "output_type": "stream",
     "text": [
      "Time taken: 4.1 seconds\n",
      "\n",
      "User:\n",
      " What is Esports?\n",
      "\n",
      "Gemma:\n",
      " Esports is a term used to describe competitive video gaming events. It is a relatively new term, but it has become increasingly popular in recent years. Esports events are held all over the world, and they can be watched by millions of people.\n",
      "\n"
     ]
    }
   ],
   "source": [
    "ques = \"What is Esports?\"\n",
    "\n",
    "# Create a Prompt\n",
    "prompt = f\"\"\"<start_of_turn>user\n",
    "{ques}<end_of_turn>\n",
    "<start_of_turn>model\n",
    "\"\"\"\n",
    "# prompt\n",
    "# Start timing\n",
    "start_time = time.time()\n",
    "\n",
    "## Tokenize the prompt\n",
    "inputs = tokenizer(prompt, return_tensors=\"pt\").to(DEVICE)\n",
    "\n",
    "generate_ids = gemma_model.generate(**inputs, max_new_tokens=768)\n",
    "\n",
    "# DEcode the generated output\n",
    "generated_text = tokenizer.batch_decode(generate_ids, \n",
    "                                    skip_special_tokens=True,\n",
    "                                    clean_up_tokenization_spaces=False)[0]\n",
    "\n",
    "# Extract the answer\n",
    "\n",
    "# Split and select the last item in the list\n",
    "response = generated_text.split('<start_of_turn>model')[-1]\n",
    "# Remove leading and trailing spaces\n",
    "response = response.strip()\n",
    "# Remove the '<end_of_turn> token\n",
    "response = response.replace('<end_of_turn>', \"\")\n",
    "\n",
    "# Remove markdown '*' symbols\n",
    "# The deafult Markdown that Gemma outputs\n",
    "# doesn't always display well.\n",
    "response = format_text(response)\n",
    "\n",
    "\n",
    "# Get the inference time\n",
    "elapsed_time = timer(start_time)\n",
    "print(f\"Time taken: {elapsed_time} seconds\")\n",
    "\n",
    "print()\n",
    "print('User:\\n',ques)\n",
    "print()\n",
    "print('Gemma:\\n', response)\n"
   ]
  },
  {
   "cell_type": "code",
   "execution_count": 15,
   "id": "fb31f0b4",
   "metadata": {
    "execution": {
     "iopub.execute_input": "2024-08-20T20:16:24.997778Z",
     "iopub.status.busy": "2024-08-20T20:16:24.997315Z",
     "iopub.status.idle": "2024-08-20T20:16:25.001827Z",
     "shell.execute_reply": "2024-08-20T20:16:25.000906Z"
    },
    "papermill": {
     "duration": 0.039718,
     "end_time": "2024-08-20T20:16:25.003824",
     "exception": false,
     "start_time": "2024-08-20T20:16:24.964106",
     "status": "completed"
    },
    "tags": []
   },
   "outputs": [],
   "source": [
    "# # Start timing\n",
    "# start_time = time.time()\n",
    "\n",
    "# question = \"What is the condition of esports in Bangladesh?\"\n",
    "\n",
    "# answer = gemma_assistant(question)\n",
    "\n",
    "\n",
    "# # Get the inference time\n",
    "# elapsed_time = timer(start_time)\n",
    "# print(f\"Time taken: {elapsed_time} seconds\")\n",
    "# print()\n",
    "\n",
    "# print('User:\\n',question)\n",
    "# print()\n",
    "# print('Gemma:\\n',answer)"
   ]
  },
  {
   "cell_type": "code",
   "execution_count": 16,
   "id": "2e7ce01f",
   "metadata": {
    "execution": {
     "iopub.execute_input": "2024-08-20T20:16:25.070992Z",
     "iopub.status.busy": "2024-08-20T20:16:25.070207Z",
     "iopub.status.idle": "2024-08-20T20:16:25.074622Z",
     "shell.execute_reply": "2024-08-20T20:16:25.073735Z"
    },
    "papermill": {
     "duration": 0.040533,
     "end_time": "2024-08-20T20:16:25.076576",
     "exception": false,
     "start_time": "2024-08-20T20:16:25.036043",
     "status": "completed"
    },
    "tags": []
   },
   "outputs": [],
   "source": [
    "# Start timing\n",
    "# start_time = time.time()\n",
    "\n",
    "# question = \"Name one esports organization from Bangladesh.\"\n",
    "\n",
    "# answer = gemma_assistant(question)\n",
    "\n",
    "\n",
    "# # Get the inference time\n",
    "# elapsed_time = timer(start_time)\n",
    "# print(f\"Time taken: {elapsed_time} seconds\")\n",
    "# print()\n",
    "\n",
    "# print('User:\\n',question)\n",
    "# print()\n",
    "# print('Gemma:\\n',answer)"
   ]
  },
  {
   "cell_type": "code",
   "execution_count": 17,
   "id": "8820f595",
   "metadata": {
    "execution": {
     "iopub.execute_input": "2024-08-20T20:16:25.145649Z",
     "iopub.status.busy": "2024-08-20T20:16:25.144860Z",
     "iopub.status.idle": "2024-08-20T20:16:25.148978Z",
     "shell.execute_reply": "2024-08-20T20:16:25.148128Z"
    },
    "papermill": {
     "duration": 0.041076,
     "end_time": "2024-08-20T20:16:25.150900",
     "exception": false,
     "start_time": "2024-08-20T20:16:25.109824",
     "status": "completed"
    },
    "tags": []
   },
   "outputs": [],
   "source": [
    "# question = \"Who is prime minister of Bangladesh?\"\n",
    "\n",
    "# answer = gemma_assistant(question)\n",
    "\n",
    "# print('User:\\n',question)\n",
    "# print()\n",
    "# print('Gemma:\\n',answer)"
   ]
  },
  {
   "cell_type": "markdown",
   "id": "5ea386d3",
   "metadata": {
    "papermill": {
     "duration": 0.032333,
     "end_time": "2024-08-20T20:16:25.215316",
     "exception": false,
     "start_time": "2024-08-20T20:16:25.182983",
     "status": "completed"
    },
    "tags": []
   },
   "source": [
    "## Read the Data Set"
   ]
  },
  {
   "cell_type": "code",
   "execution_count": 18,
   "id": "07d57d6d",
   "metadata": {
    "execution": {
     "iopub.execute_input": "2024-08-20T20:16:25.281308Z",
     "iopub.status.busy": "2024-08-20T20:16:25.280662Z",
     "iopub.status.idle": "2024-08-20T20:16:27.986366Z",
     "shell.execute_reply": "2024-08-20T20:16:27.985489Z"
    },
    "papermill": {
     "duration": 2.741658,
     "end_time": "2024-08-20T20:16:27.988803",
     "exception": false,
     "start_time": "2024-08-20T20:16:25.247145",
     "status": "completed"
    },
    "tags": []
   },
   "outputs": [
    {
     "data": {
      "text/html": [
       "<div>\n",
       "<style scoped>\n",
       "    .dataframe tbody tr th:only-of-type {\n",
       "        vertical-align: middle;\n",
       "    }\n",
       "\n",
       "    .dataframe tbody tr th {\n",
       "        vertical-align: top;\n",
       "    }\n",
       "\n",
       "    .dataframe thead th {\n",
       "        text-align: right;\n",
       "    }\n",
       "</style>\n",
       "<table border=\"1\" class=\"dataframe\">\n",
       "  <thead>\n",
       "    <tr style=\"text-align: right;\">\n",
       "      <th></th>\n",
       "      <th>datetime</th>\n",
       "      <th>author</th>\n",
       "      <th>message</th>\n",
       "      <th>video_id</th>\n",
       "    </tr>\n",
       "  </thead>\n",
       "  <tbody>\n",
       "    <tr>\n",
       "      <th>0</th>\n",
       "      <td>2022-08-12 09:22:22</td>\n",
       "      <td>Rizvan</td>\n",
       "      <td>hii</td>\n",
       "      <td>oiqpD3C_dLo</td>\n",
       "    </tr>\n",
       "    <tr>\n",
       "      <th>1</th>\n",
       "      <td>2022-08-12 09:22:35</td>\n",
       "      <td>Rizvan</td>\n",
       "      <td>#2d</td>\n",
       "      <td>oiqpD3C_dLo</td>\n",
       "    </tr>\n",
       "    <tr>\n",
       "      <th>2</th>\n",
       "      <td>2022-08-12 09:25:29</td>\n",
       "      <td>RN KAKASHI</td>\n",
       "      <td>3rd</td>\n",
       "      <td>oiqpD3C_dLo</td>\n",
       "    </tr>\n",
       "  </tbody>\n",
       "</table>\n",
       "</div>"
      ],
      "text/plain": [
       "              datetime      author message     video_id\n",
       "0  2022-08-12 09:22:22      Rizvan     hii  oiqpD3C_dLo\n",
       "1  2022-08-12 09:22:35      Rizvan     #2d  oiqpD3C_dLo\n",
       "2  2022-08-12 09:25:29  RN KAKASHI     3rd  oiqpD3C_dLo"
      ]
     },
     "execution_count": 18,
     "metadata": {},
     "output_type": "execute_result"
    }
   ],
   "source": [
    "df = pd.read_parquet('/kaggle/input/esports-data/live_comments_2/bangladesh_livechat_data.parquet')\n",
    "\n",
    "df.head(3)"
   ]
  },
  {
   "cell_type": "code",
   "execution_count": 19,
   "id": "fca9c7e9",
   "metadata": {
    "execution": {
     "iopub.execute_input": "2024-08-20T20:16:28.063127Z",
     "iopub.status.busy": "2024-08-20T20:16:28.062789Z",
     "iopub.status.idle": "2024-08-20T20:16:28.069411Z",
     "shell.execute_reply": "2024-08-20T20:16:28.068569Z"
    },
    "papermill": {
     "duration": 0.043625,
     "end_time": "2024-08-20T20:16:28.071303",
     "exception": false,
     "start_time": "2024-08-20T20:16:28.027678",
     "status": "completed"
    },
    "tags": []
   },
   "outputs": [
    {
     "data": {
      "text/plain": [
       "\" I'm familiar with a few esports organizations from Bangladesh. Here are a couple of notable ones:\\n\\nA1 Esports: A1 Esports is one of the prominent esports organizations in Bangladesh. They are well-known for their presence in competitive gaming, particularly in PUBG Mobile, where they've had significant success both locally and internationally.\\nFS-Gaming (FsGSM): FS-Gaming is another well-known esports organization in Bangladesh. They have participated in various esports tournaments and are recognized in the local gaming community.\\nThese organizations are part of the growing esports scene in Bangladesh, which is gaining more attention and support over time.\\n\""
      ]
     },
     "execution_count": 19,
     "metadata": {},
     "output_type": "execute_result"
    }
   ],
   "source": [
    "context = \"\"\" I'm familiar with a few esports organizations from Bangladesh. Here are a couple of notable ones:\n",
    "\n",
    "A1 Esports: A1 Esports is one of the prominent esports organizations in Bangladesh. They are well-known for their presence in competitive gaming, particularly in PUBG Mobile, where they've had significant success both locally and internationally.\n",
    "FS-Gaming (FsGSM): FS-Gaming is another well-known esports organization in Bangladesh. They have participated in various esports tournaments and are recognized in the local gaming community.\n",
    "These organizations are part of the growing esports scene in Bangladesh, which is gaining more attention and support over time.\n",
    "\"\"\"\n",
    "\n",
    "context"
   ]
  },
  {
   "cell_type": "code",
   "execution_count": 20,
   "id": "46ff8810",
   "metadata": {
    "execution": {
     "iopub.execute_input": "2024-08-20T20:16:28.137999Z",
     "iopub.status.busy": "2024-08-20T20:16:28.137601Z",
     "iopub.status.idle": "2024-08-20T20:16:28.142314Z",
     "shell.execute_reply": "2024-08-20T20:16:28.141261Z"
    },
    "papermill": {
     "duration": 0.040464,
     "end_time": "2024-08-20T20:16:28.144299",
     "exception": false,
     "start_time": "2024-08-20T20:16:28.103835",
     "status": "completed"
    },
    "tags": []
   },
   "outputs": [],
   "source": [
    "ques = \"Name some Esports organization from Bangladesh.\""
   ]
  },
  {
   "cell_type": "code",
   "execution_count": 21,
   "id": "2e2312e6",
   "metadata": {
    "execution": {
     "iopub.execute_input": "2024-08-20T20:16:28.210678Z",
     "iopub.status.busy": "2024-08-20T20:16:28.210308Z",
     "iopub.status.idle": "2024-08-20T20:16:30.460094Z",
     "shell.execute_reply": "2024-08-20T20:16:30.458884Z"
    },
    "papermill": {
     "duration": 2.286076,
     "end_time": "2024-08-20T20:16:30.462875",
     "exception": false,
     "start_time": "2024-08-20T20:16:28.176799",
     "status": "completed"
    },
    "tags": []
   },
   "outputs": [
    {
     "name": "stdout",
     "output_type": "stream",
     "text": [
      "Time taken: 9.6 seconds\n",
      "\n",
      "-----\n",
      "User:\n",
      " Name some Esports organization from Bangladesh.\n",
      "\n",
      "Raw Gemma response:\n",
      "\n",
      " <start_of_turn>user\n",
      "Context:  I'm familiar with a few esports organizations from Bangladesh. Here are a couple of notable ones:\n",
      "\n",
      "A1 Esports: A1 Esports is one of the prominent esports organizations in Bangladesh. They are well-known for their presence in competitive gaming, particularly in PUBG Mobile, where they've had significant success both locally and internationally.\n",
      "FS-Gaming (FsGSM): FS-Gaming is another well-known esports organization in Bangladesh. They have participated in various esports tournaments and are recognized in the local gaming community.\n",
      "These organizations are part of the growing esports scene in Bangladesh, which is gaining more attention and support over time.\n",
      "\n",
      "Question: Name some Esports organization from Bangladesh.<end_of_turn>\n",
      "<start_of_turn>model\n",
      "Sure, here are the named Esports organization from Bangladesh in the text:\n",
      "\n",
      "- A1 Esports\n",
      "- FS-Gaming (FsGSM)\n",
      "\n",
      "\n",
      "Extracted Gemma response:\n",
      "\n",
      " Sure, here are the named Esports organization from Bangladesh in the text:\n",
      "\n",
      "- A1 Esports\n",
      "- FS-Gaming (FsGSM)\n"
     ]
    }
   ],
   "source": [
    "# Create the prompt\n",
    "prompt = f\"\"\"<start_of_turn>user\n",
    "Context: {context}\n",
    "Question: {ques}<end_of_turn>\n",
    "<start_of_turn>model\n",
    "\"\"\"\n",
    "\n",
    "    \n",
    "# Tokenize the prompt\n",
    "inputs = tokenizer(prompt, return_tensors=\"pt\").to(DEVICE)\n",
    "# Generate the outputs from prompt\n",
    "generate_ids = gemma_model.generate(**inputs, max_new_tokens=768)\n",
    "# Decode the generated output\n",
    "response = tokenizer.batch_decode(generate_ids, skip_special_tokens=True,\n",
    "                                     clean_up_tokenization_spaces=False)[0]\n",
    "\n",
    "\n",
    "# Extract the answer\n",
    "\n",
    "# Split and select the last item in the list\n",
    "gemma_response = response.split('<start_of_turn>model')[-1]\n",
    "# Remove leading and trailing spaces\n",
    "gemma_response = gemma_response.strip()\n",
    "# Remove the '<end_of_turn> token\n",
    "gemma_response= gemma_response.replace('<end_of_turn>', \"\")\n",
    "\n",
    "# Get the inference time\n",
    "elapsed_time = timer(start_time)\n",
    "print(f\"Time taken: {elapsed_time} seconds\")\n",
    "print()\n",
    "\n",
    "print('-----')\n",
    "print('User:\\n',ques)\n",
    "print()\n",
    "print('Raw Gemma response:\\n\\n',response)\n",
    "print()\n",
    "print()\n",
    "print('Extracted Gemma response:\\n\\n',gemma_response)"
   ]
  },
  {
   "cell_type": "code",
   "execution_count": 22,
   "id": "bb9db9f1",
   "metadata": {
    "execution": {
     "iopub.execute_input": "2024-08-20T20:16:30.532833Z",
     "iopub.status.busy": "2024-08-20T20:16:30.532235Z",
     "iopub.status.idle": "2024-08-20T20:16:30.539349Z",
     "shell.execute_reply": "2024-08-20T20:16:30.538485Z"
    },
    "papermill": {
     "duration": 0.043752,
     "end_time": "2024-08-20T20:16:30.541318",
     "exception": false,
     "start_time": "2024-08-20T20:16:30.497566",
     "status": "completed"
    },
    "tags": []
   },
   "outputs": [],
   "source": [
    "def hello_world(question, context):   \n",
    "    # Create the prompt\n",
    "    prompt = f\"\"\"<start_of_turn>user\n",
    "    Context: {context}\n",
    "    Question: {question}<end_of_turn>\n",
    "    <start_of_turn>model\n",
    "    \"\"\"\n",
    "\n",
    "\n",
    "    # Tokenize the prompt\n",
    "    inputs = tokenizer(prompt, return_tensors=\"pt\").to(DEVICE)\n",
    "    # Generate the outputs from prompt\n",
    "    generate_ids = gemma_model.generate(**inputs, max_new_tokens=768)\n",
    "    # Decode the generated output\n",
    "    response = tokenizer.batch_decode(generate_ids, skip_special_tokens=True,\n",
    "                                         clean_up_tokenization_spaces=False)[0]\n",
    "\n",
    "\n",
    "    # Extract the answer\n",
    "\n",
    "    # Split and select the last item in the list\n",
    "    gemma_response = response.split('<start_of_turn>model')[-1]\n",
    "    # Remove leading and trailing spaces\n",
    "    gemma_response = gemma_response.strip()\n",
    "    # Remove the '<end_of_turn> token\n",
    "    gemma_response= gemma_response.replace('<end_of_turn>', \"\")\n",
    "    \n",
    "    # Clear the memory to create space\n",
    "    del prompt\n",
    "    del inputs\n",
    "    del generate_ids\n",
    "    torch.cuda.empty_cache() \n",
    "    gc.collect()\n",
    "        \n",
    "    return gemma_response"
   ]
  },
  {
   "cell_type": "code",
   "execution_count": 23,
   "id": "01b54e4c",
   "metadata": {
    "execution": {
     "iopub.execute_input": "2024-08-20T20:16:30.610539Z",
     "iopub.status.busy": "2024-08-20T20:16:30.609749Z",
     "iopub.status.idle": "2024-08-20T20:16:30.615352Z",
     "shell.execute_reply": "2024-08-20T20:16:30.614483Z"
    },
    "papermill": {
     "duration": 0.043177,
     "end_time": "2024-08-20T20:16:30.617938",
     "exception": false,
     "start_time": "2024-08-20T20:16:30.574761",
     "status": "completed"
    },
    "tags": []
   },
   "outputs": [
    {
     "name": "stdout",
     "output_type": "stream",
     "text": [
      "\n",
      "COVID-19, caused by the SARS-CoV-2 virus, emerged in late 2019 and rapidly became a global pandemic. Characterized by respiratory symptoms, fever, and fatigue, the virus spread across the world, leading to millions of infections and significant mortality. Governments implemented lockdowns, social distancing, and mask mandates to curb the spread, while scientists raced to develop vaccines. The pandemic disrupted daily life, economies, and healthcare systems, highlighting the importance of public health infrastructure. Vaccination efforts and public health measures eventually helped control the virus, though its long-term impact continues to be felt globally.\n",
      "\n",
      "Whaat is covid 19?\n"
     ]
    }
   ],
   "source": [
    "context = f\"\"\"\n",
    "COVID-19, caused by the SARS-CoV-2 virus, emerged in late 2019 and rapidly became a global pandemic. Characterized by respiratory symptoms, fever, and fatigue, the virus spread across the world, leading to millions of infections and significant mortality. Governments implemented lockdowns, social distancing, and mask mandates to curb the spread, while scientists raced to develop vaccines. The pandemic disrupted daily life, economies, and healthcare systems, highlighting the importance of public health infrastructure. Vaccination efforts and public health measures eventually helped control the virus, though its long-term impact continues to be felt globally.\n",
    "\"\"\"\n",
    "ques = \"Whaat is covid 19?\"\n",
    "\n",
    "print(context)\n",
    "print(ques)"
   ]
  },
  {
   "cell_type": "code",
   "execution_count": 24,
   "id": "b1bacd31",
   "metadata": {
    "execution": {
     "iopub.execute_input": "2024-08-20T20:16:30.687122Z",
     "iopub.status.busy": "2024-08-20T20:16:30.686769Z",
     "iopub.status.idle": "2024-08-20T20:16:40.187264Z",
     "shell.execute_reply": "2024-08-20T20:16:40.186226Z"
    },
    "papermill": {
     "duration": 9.537329,
     "end_time": "2024-08-20T20:16:40.189348",
     "exception": false,
     "start_time": "2024-08-20T20:16:30.652019",
     "status": "completed"
    },
    "tags": []
   },
   "outputs": [
    {
     "name": "stdout",
     "output_type": "stream",
     "text": [
      "Whaat is covid 19?\n",
      "Sure, here is the answer to the question:\n",
      "\n",
      "COVID-19, caused by the SARS-CoV-2 virus, is a viral infection that emerged in late 2019 and quickly spread worldwide, becoming a global pandemic. It is characterized by respiratory symptoms, fever, and fatigue. The virus has caused millions of infections and significant mortality. Governments implemented lockdowns, social distancing, and mask mandates to curb the spread, while scientists raced to develop vaccines. The pandemic disrupted daily life, economies, and healthcare systems, highlighting the importance of public health infrastructure. Vaccination efforts and public health measures eventually helped control the virus, though its long-term impact continues to be felt globally.\n"
     ]
    }
   ],
   "source": [
    "ans = hello_world(ques, context)\n",
    "print(ques)\n",
    "\n",
    "print(ans)"
   ]
  },
  {
   "cell_type": "code",
   "execution_count": 25,
   "id": "631c1cc7",
   "metadata": {
    "execution": {
     "iopub.execute_input": "2024-08-20T20:16:40.257393Z",
     "iopub.status.busy": "2024-08-20T20:16:40.256571Z",
     "iopub.status.idle": "2024-08-20T20:16:43.858073Z",
     "shell.execute_reply": "2024-08-20T20:16:43.856937Z"
    },
    "papermill": {
     "duration": 3.637958,
     "end_time": "2024-08-20T20:16:43.860220",
     "exception": false,
     "start_time": "2024-08-20T20:16:40.222262",
     "status": "completed"
    },
    "tags": []
   },
   "outputs": [
    {
     "name": "stdout",
     "output_type": "stream",
     "text": [
      "Give three topics from this context. Not any Description Just the topics.\n",
      "Sure, here are the three topics from the provided text:\n",
      "\n",
      "    1. COVID-19 pandemic and its impact on global health\n",
      "    2. Vaccination efforts and public health measures\n",
      "    3. The importance of public health infrastructure\n"
     ]
    }
   ],
   "source": [
    "ques = \"Give three topics from this context. Not any Description Just the topics.\"\n",
    "ans = hello_world(ques, context)\n",
    "print(ques)\n",
    "\n",
    "print(ans)"
   ]
  },
  {
   "cell_type": "code",
   "execution_count": 26,
   "id": "962b4c52",
   "metadata": {
    "execution": {
     "iopub.execute_input": "2024-08-20T20:16:43.928866Z",
     "iopub.status.busy": "2024-08-20T20:16:43.928479Z",
     "iopub.status.idle": "2024-08-20T20:16:43.932821Z",
     "shell.execute_reply": "2024-08-20T20:16:43.931910Z"
    },
    "papermill": {
     "duration": 0.041642,
     "end_time": "2024-08-20T20:16:43.934709",
     "exception": false,
     "start_time": "2024-08-20T20:16:43.893067",
     "status": "completed"
    },
    "tags": []
   },
   "outputs": [],
   "source": [
    "# context_text = f\"\"\"\n",
    "# A mother is often seen as the heart of the family, offering unconditional love, care, and support. She nurtures and guides her children, providing them with the foundation they need to grow into confident and compassionate individuals. A mother's role goes beyond just caregiving; she imparts values, offers wisdom, and serves as a source of comfort and strength throughout her children's lives. Her influence is profound, shaping not only the lives of her children but also the future of the family.\n",
    "# \"\"\"\n",
    "# ans = hello_world(ques, context_text)\n",
    "# print(ques)\n",
    "\n",
    "# print(ans)"
   ]
  },
  {
   "cell_type": "markdown",
   "id": "d7b2ec75",
   "metadata": {
    "papermill": {
     "duration": 0.032993,
     "end_time": "2024-08-20T20:16:44.003864",
     "exception": false,
     "start_time": "2024-08-20T20:16:43.970871",
     "status": "completed"
    },
    "tags": []
   },
   "source": [
    "## Use the Chat Data"
   ]
  },
  {
   "cell_type": "code",
   "execution_count": 27,
   "id": "4784a759",
   "metadata": {
    "execution": {
     "iopub.execute_input": "2024-08-20T20:16:44.071833Z",
     "iopub.status.busy": "2024-08-20T20:16:44.071432Z",
     "iopub.status.idle": "2024-08-20T20:16:44.083557Z",
     "shell.execute_reply": "2024-08-20T20:16:44.082320Z"
    },
    "papermill": {
     "duration": 0.04957,
     "end_time": "2024-08-20T20:16:44.086602",
     "exception": false,
     "start_time": "2024-08-20T20:16:44.037032",
     "status": "completed"
    },
    "tags": []
   },
   "outputs": [
    {
     "data": {
      "text/html": [
       "<div>\n",
       "<style scoped>\n",
       "    .dataframe tbody tr th:only-of-type {\n",
       "        vertical-align: middle;\n",
       "    }\n",
       "\n",
       "    .dataframe tbody tr th {\n",
       "        vertical-align: top;\n",
       "    }\n",
       "\n",
       "    .dataframe thead th {\n",
       "        text-align: right;\n",
       "    }\n",
       "</style>\n",
       "<table border=\"1\" class=\"dataframe\">\n",
       "  <thead>\n",
       "    <tr style=\"text-align: right;\">\n",
       "      <th></th>\n",
       "      <th>datetime</th>\n",
       "      <th>author</th>\n",
       "      <th>message</th>\n",
       "      <th>video_id</th>\n",
       "    </tr>\n",
       "  </thead>\n",
       "  <tbody>\n",
       "    <tr>\n",
       "      <th>0</th>\n",
       "      <td>2022-08-12 09:22:22</td>\n",
       "      <td>Rizvan</td>\n",
       "      <td>hii</td>\n",
       "      <td>oiqpD3C_dLo</td>\n",
       "    </tr>\n",
       "    <tr>\n",
       "      <th>1</th>\n",
       "      <td>2022-08-12 09:22:35</td>\n",
       "      <td>Rizvan</td>\n",
       "      <td>#2d</td>\n",
       "      <td>oiqpD3C_dLo</td>\n",
       "    </tr>\n",
       "    <tr>\n",
       "      <th>2</th>\n",
       "      <td>2022-08-12 09:25:29</td>\n",
       "      <td>RN KAKASHI</td>\n",
       "      <td>3rd</td>\n",
       "      <td>oiqpD3C_dLo</td>\n",
       "    </tr>\n",
       "  </tbody>\n",
       "</table>\n",
       "</div>"
      ],
      "text/plain": [
       "              datetime      author message     video_id\n",
       "0  2022-08-12 09:22:22      Rizvan     hii  oiqpD3C_dLo\n",
       "1  2022-08-12 09:22:35      Rizvan     #2d  oiqpD3C_dLo\n",
       "2  2022-08-12 09:25:29  RN KAKASHI     3rd  oiqpD3C_dLo"
      ]
     },
     "execution_count": 27,
     "metadata": {},
     "output_type": "execute_result"
    }
   ],
   "source": [
    "df.head(3)"
   ]
  },
  {
   "cell_type": "code",
   "execution_count": 28,
   "id": "f447dd7e",
   "metadata": {
    "execution": {
     "iopub.execute_input": "2024-08-20T20:16:44.174273Z",
     "iopub.status.busy": "2024-08-20T20:16:44.173365Z",
     "iopub.status.idle": "2024-08-20T20:16:44.218646Z",
     "shell.execute_reply": "2024-08-20T20:16:44.217573Z"
    },
    "papermill": {
     "duration": 0.086251,
     "end_time": "2024-08-20T20:16:44.220735",
     "exception": false,
     "start_time": "2024-08-20T20:16:44.134484",
     "status": "completed"
    },
    "tags": []
   },
   "outputs": [
    {
     "name": "stdout",
     "output_type": "stream",
     "text": [
      "A1 ❤️ A1 ❤️\n"
     ]
    }
   ],
   "source": [
    "import emoji\n",
    "\n",
    "def replace_emoji_codes(text):\n",
    "    \"\"\"\n",
    "    Replace text-based emoji codes with actual emojis using the `emoji` library.\n",
    "\n",
    "    Parameters:\n",
    "    - text (str): The input text containing emoji codes.\n",
    "\n",
    "    Returns:\n",
    "    - str: The text with emoji codes replaced by actual emojis.\n",
    "    \"\"\"\n",
    "    # Convert text-based emoji codes to actual emojis\n",
    "    return emoji.emojize(text)\n",
    "\n",
    "# Example usage\n",
    "text = \"A1 :red_heart: A1 :red_heart:\"\n",
    "converted_text = replace_emoji_codes(text)\n",
    "print(converted_text)  # Output: \"A1 ❤️ A1 ❤️\""
   ]
  },
  {
   "cell_type": "code",
   "execution_count": 29,
   "id": "1fba48ba",
   "metadata": {
    "execution": {
     "iopub.execute_input": "2024-08-20T20:16:44.290901Z",
     "iopub.status.busy": "2024-08-20T20:16:44.290562Z",
     "iopub.status.idle": "2024-08-20T20:17:14.985177Z",
     "shell.execute_reply": "2024-08-20T20:17:14.984242Z"
    },
    "papermill": {
     "duration": 30.732779,
     "end_time": "2024-08-20T20:17:14.987371",
     "exception": false,
     "start_time": "2024-08-20T20:16:44.254592",
     "status": "completed"
    },
    "tags": []
   },
   "outputs": [
    {
     "name": "stderr",
     "output_type": "stream",
     "text": [
      "100%|██████████| 2796193/2796193 [00:30<00:00, 91304.66it/s] \n"
     ]
    }
   ],
   "source": [
    "from tqdm import tqdm\n",
    "tqdm.pandas()\n",
    "df['message'] = df.message.progress_apply(replace_emoji_codes)"
   ]
  },
  {
   "cell_type": "code",
   "execution_count": 30,
   "id": "1a83b6a3",
   "metadata": {
    "execution": {
     "iopub.execute_input": "2024-08-20T20:17:15.102066Z",
     "iopub.status.busy": "2024-08-20T20:17:15.101354Z",
     "iopub.status.idle": "2024-08-20T20:17:15.107362Z",
     "shell.execute_reply": "2024-08-20T20:17:15.106582Z"
    },
    "papermill": {
     "duration": 0.065224,
     "end_time": "2024-08-20T20:17:15.109332",
     "exception": false,
     "start_time": "2024-08-20T20:17:15.044108",
     "status": "completed"
    },
    "tags": []
   },
   "outputs": [
    {
     "data": {
      "text/plain": [
       "2796193"
      ]
     },
     "execution_count": 30,
     "metadata": {},
     "output_type": "execute_result"
    }
   ],
   "source": [
    "len(df)"
   ]
  },
  {
   "cell_type": "code",
   "execution_count": 31,
   "id": "749fa6fb",
   "metadata": {
    "execution": {
     "iopub.execute_input": "2024-08-20T20:17:15.221501Z",
     "iopub.status.busy": "2024-08-20T20:17:15.221138Z",
     "iopub.status.idle": "2024-08-20T20:17:15.225786Z",
     "shell.execute_reply": "2024-08-20T20:17:15.224825Z"
    },
    "papermill": {
     "duration": 0.06293,
     "end_time": "2024-08-20T20:17:15.227728",
     "exception": false,
     "start_time": "2024-08-20T20:17:15.164798",
     "status": "completed"
    },
    "tags": []
   },
   "outputs": [],
   "source": [
    "# # filt = df[:10].copy()\n",
    "\n",
    "fkchat = df['message']\n",
    "\n",
    "# demo1 = fkchat[:100]\n",
    "# msg = \", \".join(demo1.astype(str))\n",
    "# msg"
   ]
  },
  {
   "cell_type": "code",
   "execution_count": 32,
   "id": "33449019",
   "metadata": {
    "execution": {
     "iopub.execute_input": "2024-08-20T20:17:15.339967Z",
     "iopub.status.busy": "2024-08-20T20:17:15.339218Z",
     "iopub.status.idle": "2024-08-20T20:17:15.343349Z",
     "shell.execute_reply": "2024-08-20T20:17:15.342470Z"
    },
    "papermill": {
     "duration": 0.062458,
     "end_time": "2024-08-20T20:17:15.345363",
     "exception": false,
     "start_time": "2024-08-20T20:17:15.282905",
     "status": "completed"
    },
    "tags": []
   },
   "outputs": [],
   "source": [
    "# context = msg\n",
    "# # print(context)\n",
    "\n",
    "# ques = \"These are some live Chats from a Esports Live. Now Give me 2 short key topics from these chats. No Description just the topic please. Nothing else just the two topic name.\"\n"
   ]
  },
  {
   "cell_type": "code",
   "execution_count": 33,
   "id": "5c6f307f",
   "metadata": {
    "execution": {
     "iopub.execute_input": "2024-08-20T20:17:15.458849Z",
     "iopub.status.busy": "2024-08-20T20:17:15.457901Z",
     "iopub.status.idle": "2024-08-20T20:17:15.462473Z",
     "shell.execute_reply": "2024-08-20T20:17:15.461590Z"
    },
    "papermill": {
     "duration": 0.063,
     "end_time": "2024-08-20T20:17:15.464427",
     "exception": false,
     "start_time": "2024-08-20T20:17:15.401427",
     "status": "completed"
    },
    "tags": []
   },
   "outputs": [],
   "source": [
    "# ans = hello_world(ques, context)\n",
    "\n",
    "# print(ques, end='\\n')\n",
    "\n",
    "# print(ans)"
   ]
  },
  {
   "cell_type": "code",
   "execution_count": 34,
   "id": "2bf7cc82",
   "metadata": {
    "execution": {
     "iopub.execute_input": "2024-08-20T20:17:15.580737Z",
     "iopub.status.busy": "2024-08-20T20:17:15.579959Z",
     "iopub.status.idle": "2024-08-20T20:17:15.584321Z",
     "shell.execute_reply": "2024-08-20T20:17:15.583349Z"
    },
    "papermill": {
     "duration": 0.064691,
     "end_time": "2024-08-20T20:17:15.586463",
     "exception": false,
     "start_time": "2024-08-20T20:17:15.521772",
     "status": "completed"
    },
    "tags": []
   },
   "outputs": [],
   "source": [
    "# x = 100\n",
    "# demo1 = fkchat[x:x+100]\n",
    "# msg = \", \".join(demo1.astype(str))\n",
    "# msg"
   ]
  },
  {
   "cell_type": "code",
   "execution_count": 35,
   "id": "4389dc48",
   "metadata": {
    "execution": {
     "iopub.execute_input": "2024-08-20T20:17:15.699979Z",
     "iopub.status.busy": "2024-08-20T20:17:15.699165Z",
     "iopub.status.idle": "2024-08-20T20:17:15.703343Z",
     "shell.execute_reply": "2024-08-20T20:17:15.702458Z"
    },
    "papermill": {
     "duration": 0.061899,
     "end_time": "2024-08-20T20:17:15.705211",
     "exception": false,
     "start_time": "2024-08-20T20:17:15.643312",
     "status": "completed"
    },
    "tags": []
   },
   "outputs": [],
   "source": [
    "# context = msg\n",
    "# ans = hello_world(ques, context)\n",
    "\n",
    "# print(ques, end='\\n')\n",
    "\n",
    "# print(ans)"
   ]
  },
  {
   "cell_type": "code",
   "execution_count": 36,
   "id": "0ccd85b3",
   "metadata": {
    "execution": {
     "iopub.execute_input": "2024-08-20T20:17:15.819368Z",
     "iopub.status.busy": "2024-08-20T20:17:15.818459Z",
     "iopub.status.idle": "2024-08-20T20:17:15.822640Z",
     "shell.execute_reply": "2024-08-20T20:17:15.821756Z"
    },
    "papermill": {
     "duration": 0.062799,
     "end_time": "2024-08-20T20:17:15.824452",
     "exception": false,
     "start_time": "2024-08-20T20:17:15.761653",
     "status": "completed"
    },
    "tags": []
   },
   "outputs": [],
   "source": [
    "# x = 200\n",
    "# demo1 = fkchat[x:x+100]\n",
    "# msg = \", \".join(demo1.astype(str))\n",
    "# context = msg\n",
    "# ans = hello_world(ques, context)\n",
    "# print(ans)"
   ]
  },
  {
   "cell_type": "markdown",
   "id": "8a10aaf7",
   "metadata": {
    "papermill": {
     "duration": 0.056055,
     "end_time": "2024-08-20T20:17:15.935903",
     "exception": false,
     "start_time": "2024-08-20T20:17:15.879848",
     "status": "completed"
    },
    "tags": []
   },
   "source": [
    "## Apply it in a Loop"
   ]
  },
  {
   "cell_type": "code",
   "execution_count": 37,
   "id": "62fabce0",
   "metadata": {
    "execution": {
     "iopub.execute_input": "2024-08-20T20:17:16.053484Z",
     "iopub.status.busy": "2024-08-20T20:17:16.052728Z",
     "iopub.status.idle": "2024-08-20T20:17:16.057583Z",
     "shell.execute_reply": "2024-08-20T20:17:16.056716Z"
    },
    "papermill": {
     "duration": 0.067068,
     "end_time": "2024-08-20T20:17:16.059578",
     "exception": false,
     "start_time": "2024-08-20T20:17:15.992510",
     "status": "completed"
    },
    "tags": []
   },
   "outputs": [],
   "source": [
    "# x = 0\n",
    "# chunk_size = 100\n",
    "# results = []\n",
    "\n",
    "# # lim = len(fkchat)\n",
    "# lim = 1000\n",
    "\n",
    "# total_iterations = (lim - x) // chunk_size\n",
    "\n",
    "# # Loop through the DataFrame in chunks of 100 with a progress bar\n",
    "# for _ in tqdm(range(total_iterations), desc=\"Processing\"):\n",
    "#     # Get the next 100 messages\n",
    "#     demo1 = fkchat[x:x + chunk_size]\n",
    "    \n",
    "#     # Convert the messages to a single string, separated by commas\n",
    "#     msg = \", \".join(demo1.astype(str))\n",
    "    \n",
    "#     # Pass the context to the hello_world function and store the result\n",
    "#     ans = hello_world(ques, msg)\n",
    "#     lines = ans.splitlines()\n",
    "\n",
    "#     # Rejoin the lines, skipping the first one\n",
    "#     new_text = \"\\n\".join(lines[1:])\n",
    "\n",
    "#     results.append(new_text)\n",
    "    \n",
    "#     # Move to the next chunk\n",
    "#     x += chunk_size"
   ]
  },
  {
   "cell_type": "code",
   "execution_count": 38,
   "id": "b4beac9c",
   "metadata": {
    "execution": {
     "iopub.execute_input": "2024-08-20T20:17:16.173071Z",
     "iopub.status.busy": "2024-08-20T20:17:16.172249Z",
     "iopub.status.idle": "2024-08-20T20:17:16.176344Z",
     "shell.execute_reply": "2024-08-20T20:17:16.175448Z"
    },
    "papermill": {
     "duration": 0.063176,
     "end_time": "2024-08-20T20:17:16.178361",
     "exception": false,
     "start_time": "2024-08-20T20:17:16.115185",
     "status": "completed"
    },
    "tags": []
   },
   "outputs": [],
   "source": [
    "# for v in results:\n",
    "#     print(v)"
   ]
  },
  {
   "cell_type": "code",
   "execution_count": 39,
   "id": "93fc614a",
   "metadata": {
    "execution": {
     "iopub.execute_input": "2024-08-20T20:17:16.290643Z",
     "iopub.status.busy": "2024-08-20T20:17:16.290256Z",
     "iopub.status.idle": "2024-08-20T20:17:16.294393Z",
     "shell.execute_reply": "2024-08-20T20:17:16.293490Z"
    },
    "papermill": {
     "duration": 0.062648,
     "end_time": "2024-08-20T20:17:16.296356",
     "exception": false,
     "start_time": "2024-08-20T20:17:16.233708",
     "status": "completed"
    },
    "tags": []
   },
   "outputs": [],
   "source": [
    "# results[0]"
   ]
  },
  {
   "cell_type": "code",
   "execution_count": 40,
   "id": "60ff3d34",
   "metadata": {
    "execution": {
     "iopub.execute_input": "2024-08-20T20:17:16.408370Z",
     "iopub.status.busy": "2024-08-20T20:17:16.408032Z",
     "iopub.status.idle": "2024-08-20T20:17:16.414272Z",
     "shell.execute_reply": "2024-08-20T20:17:16.413406Z"
    },
    "papermill": {
     "duration": 0.064298,
     "end_time": "2024-08-20T20:17:16.416422",
     "exception": false,
     "start_time": "2024-08-20T20:17:16.352124",
     "status": "completed"
    },
    "tags": []
   },
   "outputs": [
    {
     "name": "stdout",
     "output_type": "stream",
     "text": [
      "['Soul se. nehi ho payega 🤣', 'Ste and A1 sinister']\n"
     ]
    }
   ],
   "source": [
    "import re\n",
    "\n",
    "text = \"\\n    - Soul se. nehi ho payega 🤣\\n    - Ste and A1 sinister\"\n",
    "\n",
    "# Split the text into separate lines based on newline\n",
    "separated_texts = [line.strip() for line in text.split('\\n') if line.strip()]\n",
    "\n",
    "# Remove leading hyphens, numbers, or other unwanted characters\n",
    "cleaned_texts = [re.sub(r'^[\\d\\-\\s]+', '', line) for line in separated_texts]\n",
    "\n",
    "# Now you have cleaned lines as separate values in a list\n",
    "print(cleaned_texts)\n"
   ]
  },
  {
   "cell_type": "code",
   "execution_count": 41,
   "id": "8f03e544",
   "metadata": {
    "execution": {
     "iopub.execute_input": "2024-08-20T20:17:16.528916Z",
     "iopub.status.busy": "2024-08-20T20:17:16.528609Z",
     "iopub.status.idle": "2024-08-20T20:17:16.535114Z",
     "shell.execute_reply": "2024-08-20T20:17:16.534196Z"
    },
    "papermill": {
     "duration": 0.065329,
     "end_time": "2024-08-20T20:17:16.536953",
     "exception": false,
     "start_time": "2024-08-20T20:17:16.471624",
     "status": "completed"
    },
    "tags": []
   },
   "outputs": [],
   "source": [
    "import re\n",
    "import string\n",
    "\n",
    "def cln_texts(text):\n",
    "    # Split the text into separate lines based on newline\n",
    "    separated_texts = [line.strip() for line in text.split('\\n') if line.strip()]\n",
    "\n",
    "    # Remove leading hyphens, numbers, or other unwanted characters\n",
    "    cleaned_texts = [re.sub(r'^[\\d\\-\\s]+', '', line) for line in separated_texts]\n",
    "\n",
    "    # Remove punctuation\n",
    "    cleaned_texts = [line.translate(str.maketrans('', '', string.punctuation)) for line in cleaned_texts]\n",
    "    \n",
    "    # Remove extra spaces\n",
    "    cleaned_texts = [re.sub(r'\\s+', ' ', line).strip() for line in cleaned_texts]\n",
    "    \n",
    "    return cleaned_texts"
   ]
  },
  {
   "cell_type": "code",
   "execution_count": 42,
   "id": "10b18805",
   "metadata": {
    "execution": {
     "iopub.execute_input": "2024-08-20T20:17:16.649096Z",
     "iopub.status.busy": "2024-08-20T20:17:16.648369Z",
     "iopub.status.idle": "2024-08-20T20:17:16.652464Z",
     "shell.execute_reply": "2024-08-20T20:17:16.651580Z"
    },
    "papermill": {
     "duration": 0.062168,
     "end_time": "2024-08-20T20:17:16.654405",
     "exception": false,
     "start_time": "2024-08-20T20:17:16.592237",
     "status": "completed"
    },
    "tags": []
   },
   "outputs": [],
   "source": [
    "# farr = []\n",
    "# for v in tqdm(results):\n",
    "#     farr.append(cln_texts(v))\n",
    "    \n",
    "# farr = [item for sublist in farr for item in sublist]"
   ]
  },
  {
   "cell_type": "code",
   "execution_count": 43,
   "id": "59f40288",
   "metadata": {
    "execution": {
     "iopub.execute_input": "2024-08-20T20:17:16.766149Z",
     "iopub.status.busy": "2024-08-20T20:17:16.765814Z",
     "iopub.status.idle": "2024-08-20T20:17:16.769906Z",
     "shell.execute_reply": "2024-08-20T20:17:16.769040Z"
    },
    "papermill": {
     "duration": 0.062586,
     "end_time": "2024-08-20T20:17:16.771894",
     "exception": false,
     "start_time": "2024-08-20T20:17:16.709308",
     "status": "completed"
    },
    "tags": []
   },
   "outputs": [],
   "source": [
    "# farr"
   ]
  },
  {
   "cell_type": "markdown",
   "id": "a08571d1",
   "metadata": {
    "papermill": {
     "duration": 0.057877,
     "end_time": "2024-08-20T20:17:16.888095",
     "exception": false,
     "start_time": "2024-08-20T20:17:16.830218",
     "status": "completed"
    },
    "tags": []
   },
   "source": [
    "## Now Apply for big chunks"
   ]
  },
  {
   "cell_type": "code",
   "execution_count": 44,
   "id": "487f212f",
   "metadata": {
    "execution": {
     "iopub.execute_input": "2024-08-20T20:17:17.001806Z",
     "iopub.status.busy": "2024-08-20T20:17:17.001429Z",
     "iopub.status.idle": "2024-08-20T21:20:32.990930Z",
     "shell.execute_reply": "2024-08-20T21:20:32.989931Z"
    },
    "papermill": {
     "duration": 3796.048219,
     "end_time": "2024-08-20T21:20:32.993240",
     "exception": false,
     "start_time": "2024-08-20T20:17:16.945021",
     "status": "completed"
    },
    "tags": []
   },
   "outputs": [
    {
     "name": "stderr",
     "output_type": "stream",
     "text": [
      "Processing: 100%|██████████| 900/900 [1:03:15<00:00,  4.22s/it]\n"
     ]
    }
   ],
   "source": [
    "x = 400_000\n",
    "chunk_size = 100\n",
    "ult_results = []\n",
    "\n",
    "# lim = len(fkchat)\n",
    "lim = x+90_000\n",
    "\n",
    "total_iterations = (lim - x) // chunk_size\n",
    "\n",
    "# Loop through the DataFrame in chunks of 100 with a progress bar\n",
    "for _ in tqdm(range(total_iterations), desc=\"Processing\"):\n",
    "    # Get the next 100 messages\n",
    "    demo1 = fkchat[x:x + chunk_size]\n",
    "    \n",
    "    # Convert the messages to a single string, separated by commas\n",
    "    msg = \", \".join(demo1.astype(str))\n",
    "    \n",
    "    try:\n",
    "        # Pass the context to the hello_world function and store the result\n",
    "        ans = hello_world(ques, msg)\n",
    "        lines = ans.splitlines()\n",
    "\n",
    "        # Rejoin the lines, skipping the first one\n",
    "        new_text = \"\\n\".join(lines[1:])\n",
    "\n",
    "        ult_results.append(new_text)\n",
    "    except:\n",
    "        ult_results.append('None')\n",
    "\n",
    "    \n",
    "    # Move to the next chunk\n",
    "    x += chunk_size"
   ]
  },
  {
   "cell_type": "code",
   "execution_count": 45,
   "id": "a75a7853",
   "metadata": {
    "execution": {
     "iopub.execute_input": "2024-08-20T21:20:33.298717Z",
     "iopub.status.busy": "2024-08-20T21:20:33.297833Z",
     "iopub.status.idle": "2024-08-20T21:20:33.302057Z",
     "shell.execute_reply": "2024-08-20T21:20:33.301155Z"
    },
    "papermill": {
     "duration": 0.183576,
     "end_time": "2024-08-20T21:20:33.303941",
     "exception": false,
     "start_time": "2024-08-20T21:20:33.120365",
     "status": "completed"
    },
    "tags": []
   },
   "outputs": [],
   "source": [
    "# ult_results"
   ]
  },
  {
   "cell_type": "code",
   "execution_count": 46,
   "id": "fdb6bb88",
   "metadata": {
    "execution": {
     "iopub.execute_input": "2024-08-20T21:20:33.563465Z",
     "iopub.status.busy": "2024-08-20T21:20:33.562764Z",
     "iopub.status.idle": "2024-08-20T21:20:33.601943Z",
     "shell.execute_reply": "2024-08-20T21:20:33.600975Z"
    },
    "papermill": {
     "duration": 0.172805,
     "end_time": "2024-08-20T21:20:33.603968",
     "exception": false,
     "start_time": "2024-08-20T21:20:33.431163",
     "status": "completed"
    },
    "tags": []
   },
   "outputs": [
    {
     "name": "stderr",
     "output_type": "stream",
     "text": [
      "100%|██████████| 900/900 [00:00<00:00, 29199.89it/s]\n"
     ]
    }
   ],
   "source": [
    "farr = []\n",
    "for v in tqdm(ult_results):\n",
    "    farr.append(cln_texts(v))\n",
    "    \n",
    "farr = [item for sublist in farr for item in sublist]"
   ]
  },
  {
   "cell_type": "code",
   "execution_count": 47,
   "id": "50561e49",
   "metadata": {
    "execution": {
     "iopub.execute_input": "2024-08-20T21:20:33.859720Z",
     "iopub.status.busy": "2024-08-20T21:20:33.859092Z",
     "iopub.status.idle": "2024-08-20T21:20:33.865170Z",
     "shell.execute_reply": "2024-08-20T21:20:33.864323Z"
    },
    "papermill": {
     "duration": 0.135195,
     "end_time": "2024-08-20T21:20:33.866992",
     "exception": false,
     "start_time": "2024-08-20T21:20:33.731797",
     "status": "completed"
    },
    "tags": []
   },
   "outputs": [
    {
     "data": {
      "text/plain": [
       "['Gaming and Esports',\n",
       " 'Community and Support',\n",
       " 'Personal Stories',\n",
       " 'Boycott Sinister',\n",
       " 'A1 Fans Emotions',\n",
       " 'The Future of A1',\n",
       " 'Hate speech and its impact',\n",
       " 'The A1 family and their relationship with the community',\n",
       " 'The ongoing boycott of Sinister',\n",
       " 'A1 op and boycott sinistar']"
      ]
     },
     "execution_count": 47,
     "metadata": {},
     "output_type": "execute_result"
    }
   ],
   "source": [
    "farr[:10]"
   ]
  },
  {
   "cell_type": "code",
   "execution_count": 48,
   "id": "7450b31f",
   "metadata": {
    "execution": {
     "iopub.execute_input": "2024-08-20T21:20:34.143706Z",
     "iopub.status.busy": "2024-08-20T21:20:34.143192Z",
     "iopub.status.idle": "2024-08-20T21:20:34.150338Z",
     "shell.execute_reply": "2024-08-20T21:20:34.149587Z"
    },
    "papermill": {
     "duration": 0.154809,
     "end_time": "2024-08-20T21:20:34.152422",
     "exception": false,
     "start_time": "2024-08-20T21:20:33.997613",
     "status": "completed"
    },
    "tags": []
   },
   "outputs": [
    {
     "name": "stdout",
     "output_type": "stream",
     "text": [
      "(2702, 1)\n"
     ]
    }
   ],
   "source": [
    "topic_df = pd.DataFrame({'topic': farr})\n",
    "\n",
    "print(topic_df.shape)"
   ]
  },
  {
   "cell_type": "code",
   "execution_count": 49,
   "id": "8a0a65d2",
   "metadata": {
    "execution": {
     "iopub.execute_input": "2024-08-20T21:20:34.409660Z",
     "iopub.status.busy": "2024-08-20T21:20:34.409275Z",
     "iopub.status.idle": "2024-08-20T21:20:34.418746Z",
     "shell.execute_reply": "2024-08-20T21:20:34.417601Z"
    },
    "papermill": {
     "duration": 0.141112,
     "end_time": "2024-08-20T21:20:34.421012",
     "exception": false,
     "start_time": "2024-08-20T21:20:34.279900",
     "status": "completed"
    },
    "tags": []
   },
   "outputs": [
    {
     "data": {
      "text/html": [
       "<div>\n",
       "<style scoped>\n",
       "    .dataframe tbody tr th:only-of-type {\n",
       "        vertical-align: middle;\n",
       "    }\n",
       "\n",
       "    .dataframe tbody tr th {\n",
       "        vertical-align: top;\n",
       "    }\n",
       "\n",
       "    .dataframe thead th {\n",
       "        text-align: right;\n",
       "    }\n",
       "</style>\n",
       "<table border=\"1\" class=\"dataframe\">\n",
       "  <thead>\n",
       "    <tr style=\"text-align: right;\">\n",
       "      <th></th>\n",
       "      <th>topic</th>\n",
       "    </tr>\n",
       "  </thead>\n",
       "  <tbody>\n",
       "    <tr>\n",
       "      <th>0</th>\n",
       "      <td>Gaming and Esports</td>\n",
       "    </tr>\n",
       "    <tr>\n",
       "      <th>1</th>\n",
       "      <td>Community and Support</td>\n",
       "    </tr>\n",
       "    <tr>\n",
       "      <th>2</th>\n",
       "      <td>Personal Stories</td>\n",
       "    </tr>\n",
       "    <tr>\n",
       "      <th>3</th>\n",
       "      <td>Boycott Sinister</td>\n",
       "    </tr>\n",
       "    <tr>\n",
       "      <th>4</th>\n",
       "      <td>A1 Fans Emotions</td>\n",
       "    </tr>\n",
       "  </tbody>\n",
       "</table>\n",
       "</div>"
      ],
      "text/plain": [
       "                   topic\n",
       "0     Gaming and Esports\n",
       "1  Community and Support\n",
       "2       Personal Stories\n",
       "3       Boycott Sinister\n",
       "4       A1 Fans Emotions"
      ]
     },
     "execution_count": 49,
     "metadata": {},
     "output_type": "execute_result"
    }
   ],
   "source": [
    "topic_df.head()"
   ]
  },
  {
   "cell_type": "code",
   "execution_count": 50,
   "id": "ebef480b",
   "metadata": {
    "execution": {
     "iopub.execute_input": "2024-08-20T21:20:34.687753Z",
     "iopub.status.busy": "2024-08-20T21:20:34.687368Z",
     "iopub.status.idle": "2024-08-20T21:20:34.696616Z",
     "shell.execute_reply": "2024-08-20T21:20:34.695717Z"
    },
    "papermill": {
     "duration": 0.14231,
     "end_time": "2024-08-20T21:20:34.698641",
     "exception": false,
     "start_time": "2024-08-20T21:20:34.556331",
     "status": "completed"
    },
    "tags": []
   },
   "outputs": [
    {
     "data": {
      "text/html": [
       "<div>\n",
       "<style scoped>\n",
       "    .dataframe tbody tr th:only-of-type {\n",
       "        vertical-align: middle;\n",
       "    }\n",
       "\n",
       "    .dataframe tbody tr th {\n",
       "        vertical-align: top;\n",
       "    }\n",
       "\n",
       "    .dataframe thead th {\n",
       "        text-align: right;\n",
       "    }\n",
       "</style>\n",
       "<table border=\"1\" class=\"dataframe\">\n",
       "  <thead>\n",
       "    <tr style=\"text-align: right;\">\n",
       "      <th></th>\n",
       "      <th>topic</th>\n",
       "    </tr>\n",
       "  </thead>\n",
       "  <tbody>\n",
       "    <tr>\n",
       "      <th>2697</th>\n",
       "      <td>The users excitement about the upcoming match ...</td>\n",
       "    </tr>\n",
       "    <tr>\n",
       "      <th>2698</th>\n",
       "      <td>The users support for their team and their hop...</td>\n",
       "    </tr>\n",
       "    <tr>\n",
       "      <th>2699</th>\n",
       "      <td>The ongoing match between Taya and Tear</td>\n",
       "    </tr>\n",
       "    <tr>\n",
       "      <th>2700</th>\n",
       "      <td>The discussion surrounding the Pতিতalay Bbot</td>\n",
       "    </tr>\n",
       "    <tr>\n",
       "      <th>2701</th>\n",
       "      <td>The support for Venom Op</td>\n",
       "    </tr>\n",
       "  </tbody>\n",
       "</table>\n",
       "</div>"
      ],
      "text/plain": [
       "                                                  topic\n",
       "2697  The users excitement about the upcoming match ...\n",
       "2698  The users support for their team and their hop...\n",
       "2699            The ongoing match between Taya and Tear\n",
       "2700       The discussion surrounding the Pতিতalay Bbot\n",
       "2701                           The support for Venom Op"
      ]
     },
     "execution_count": 50,
     "metadata": {},
     "output_type": "execute_result"
    }
   ],
   "source": [
    "topic_df.tail()"
   ]
  },
  {
   "cell_type": "code",
   "execution_count": 51,
   "id": "936853a1",
   "metadata": {
    "execution": {
     "iopub.execute_input": "2024-08-20T21:20:34.956385Z",
     "iopub.status.busy": "2024-08-20T21:20:34.955497Z",
     "iopub.status.idle": "2024-08-20T21:20:34.964202Z",
     "shell.execute_reply": "2024-08-20T21:20:34.963348Z"
    },
    "papermill": {
     "duration": 0.141144,
     "end_time": "2024-08-20T21:20:34.966484",
     "exception": false,
     "start_time": "2024-08-20T21:20:34.825340",
     "status": "completed"
    },
    "tags": []
   },
   "outputs": [
    {
     "name": "stdout",
     "output_type": "stream",
     "text": [
      "(0, 1)\n"
     ]
    }
   ],
   "source": [
    "filt = topic_df[topic_df['topic']=='None']\n",
    "print(filt.shape)"
   ]
  },
  {
   "cell_type": "code",
   "execution_count": 52,
   "id": "88b71ae6",
   "metadata": {
    "execution": {
     "iopub.execute_input": "2024-08-20T21:20:35.232393Z",
     "iopub.status.busy": "2024-08-20T21:20:35.232018Z",
     "iopub.status.idle": "2024-08-20T21:20:35.245209Z",
     "shell.execute_reply": "2024-08-20T21:20:35.244474Z"
    },
    "papermill": {
     "duration": 0.151404,
     "end_time": "2024-08-20T21:20:35.247191",
     "exception": false,
     "start_time": "2024-08-20T21:20:35.095787",
     "status": "completed"
    },
    "tags": []
   },
   "outputs": [],
   "source": [
    "topic_df.to_csv('All_topicsp4.csv', index=False)"
   ]
  },
  {
   "cell_type": "code",
   "execution_count": null,
   "id": "0a186be9",
   "metadata": {
    "papermill": {
     "duration": 0.130572,
     "end_time": "2024-08-20T21:20:35.507895",
     "exception": false,
     "start_time": "2024-08-20T21:20:35.377323",
     "status": "completed"
    },
    "tags": []
   },
   "outputs": [],
   "source": []
  },
  {
   "cell_type": "markdown",
   "id": "a0f25ad4",
   "metadata": {
    "papermill": {
     "duration": 0.127214,
     "end_time": "2024-08-20T21:20:35.763979",
     "exception": false,
     "start_time": "2024-08-20T21:20:35.636765",
     "status": "completed"
    },
    "tags": []
   },
   "source": [
    "## Shorten The Topic List"
   ]
  },
  {
   "cell_type": "code",
   "execution_count": 53,
   "id": "bd872354",
   "metadata": {
    "execution": {
     "iopub.execute_input": "2024-08-20T21:20:36.020992Z",
     "iopub.status.busy": "2024-08-20T21:20:36.020066Z",
     "iopub.status.idle": "2024-08-20T21:20:36.025071Z",
     "shell.execute_reply": "2024-08-20T21:20:36.024160Z"
    },
    "papermill": {
     "duration": 0.135385,
     "end_time": "2024-08-20T21:20:36.027214",
     "exception": false,
     "start_time": "2024-08-20T21:20:35.891829",
     "status": "completed"
    },
    "tags": []
   },
   "outputs": [
    {
     "name": "stdout",
     "output_type": "stream",
     "text": [
      "2702\n"
     ]
    }
   ],
   "source": [
    "print(len(farr))"
   ]
  },
  {
   "cell_type": "code",
   "execution_count": 54,
   "id": "e5d47cf6",
   "metadata": {
    "execution": {
     "iopub.execute_input": "2024-08-20T21:20:36.283274Z",
     "iopub.status.busy": "2024-08-20T21:20:36.282458Z",
     "iopub.status.idle": "2024-08-20T21:20:36.286783Z",
     "shell.execute_reply": "2024-08-20T21:20:36.285926Z"
    },
    "papermill": {
     "duration": 0.134333,
     "end_time": "2024-08-20T21:20:36.288664",
     "exception": false,
     "start_time": "2024-08-20T21:20:36.154331",
     "status": "completed"
    },
    "tags": []
   },
   "outputs": [],
   "source": [
    "topics = \", \".join(farr[:100])\n",
    "# topics"
   ]
  },
  {
   "cell_type": "code",
   "execution_count": 55,
   "id": "d1ae389f",
   "metadata": {
    "execution": {
     "iopub.execute_input": "2024-08-20T21:20:36.553325Z",
     "iopub.status.busy": "2024-08-20T21:20:36.552469Z",
     "iopub.status.idle": "2024-08-20T21:20:36.556576Z",
     "shell.execute_reply": "2024-08-20T21:20:36.555681Z"
    },
    "papermill": {
     "duration": 0.139698,
     "end_time": "2024-08-20T21:20:36.558514",
     "exception": false,
     "start_time": "2024-08-20T21:20:36.418816",
     "status": "completed"
    },
    "tags": []
   },
   "outputs": [],
   "source": [
    "# ques = \"There are similar type of topics in this context list. From these topics give me top 5 topics.\""
   ]
  },
  {
   "cell_type": "code",
   "execution_count": 56,
   "id": "1420de1c",
   "metadata": {
    "execution": {
     "iopub.execute_input": "2024-08-20T21:20:36.818100Z",
     "iopub.status.busy": "2024-08-20T21:20:36.817263Z",
     "iopub.status.idle": "2024-08-20T21:20:36.821332Z",
     "shell.execute_reply": "2024-08-20T21:20:36.820432Z"
    },
    "papermill": {
     "duration": 0.135252,
     "end_time": "2024-08-20T21:20:36.823276",
     "exception": false,
     "start_time": "2024-08-20T21:20:36.688024",
     "status": "completed"
    },
    "tags": []
   },
   "outputs": [],
   "source": [
    "# ans = hello_world(ques, topics)\n",
    "# print(ans)"
   ]
  },
  {
   "cell_type": "code",
   "execution_count": 57,
   "id": "150d10d0",
   "metadata": {
    "execution": {
     "iopub.execute_input": "2024-08-20T21:20:37.080592Z",
     "iopub.status.busy": "2024-08-20T21:20:37.080221Z",
     "iopub.status.idle": "2024-08-20T21:20:37.084120Z",
     "shell.execute_reply": "2024-08-20T21:20:37.083259Z"
    },
    "papermill": {
     "duration": 0.133844,
     "end_time": "2024-08-20T21:20:37.085951",
     "exception": false,
     "start_time": "2024-08-20T21:20:36.952107",
     "status": "completed"
    },
    "tags": []
   },
   "outputs": [],
   "source": [
    "# topics = \", \".join(farr[100:])\n",
    "# ans = hello_world(ques, topics)\n",
    "# print(ans)"
   ]
  },
  {
   "cell_type": "code",
   "execution_count": null,
   "id": "8a257f05",
   "metadata": {
    "papermill": {
     "duration": 0.126378,
     "end_time": "2024-08-20T21:20:37.388185",
     "exception": false,
     "start_time": "2024-08-20T21:20:37.261807",
     "status": "completed"
    },
    "tags": []
   },
   "outputs": [],
   "source": []
  },
  {
   "cell_type": "markdown",
   "id": "e404b274",
   "metadata": {
    "papermill": {
     "duration": 0.128291,
     "end_time": "2024-08-20T21:20:37.646232",
     "exception": false,
     "start_time": "2024-08-20T21:20:37.517941",
     "status": "completed"
    },
    "tags": []
   },
   "source": [
    "## Few Shot Prompting"
   ]
  },
  {
   "cell_type": "code",
   "execution_count": 58,
   "id": "910e1256",
   "metadata": {
    "execution": {
     "iopub.execute_input": "2024-08-20T21:20:37.908210Z",
     "iopub.status.busy": "2024-08-20T21:20:37.907868Z",
     "iopub.status.idle": "2024-08-20T21:20:37.912426Z",
     "shell.execute_reply": "2024-08-20T21:20:37.911512Z"
    },
    "papermill": {
     "duration": 0.138408,
     "end_time": "2024-08-20T21:20:37.914389",
     "exception": false,
     "start_time": "2024-08-20T21:20:37.775981",
     "status": "completed"
    },
    "tags": []
   },
   "outputs": [],
   "source": [
    "# # Load the few shot data into a pandas dataframe\n",
    "# df_fshot = pd.read_csv(FEW_SHOT_DATA_PATH)\n",
    "\n",
    "# def convert_to_list(x):\n",
    "    \n",
    "#     # Convert the string to a list: '[...]' to [...]\n",
    "#     x_as_list = ast.literal_eval(x)\n",
    "    \n",
    "#     return x_as_list\n",
    "\n",
    "# # Convert each item in the context column from a string to a \n",
    "# # python list i.e. '[...]' to [...]\n",
    "# df_fshot['gem_context'] = df_fshot['gem_context'].apply(convert_to_list)\n",
    "\n",
    "# df_fshot.head()"
   ]
  },
  {
   "cell_type": "code",
   "execution_count": 59,
   "id": "946c1735",
   "metadata": {
    "execution": {
     "iopub.execute_input": "2024-08-20T21:20:38.169962Z",
     "iopub.status.busy": "2024-08-20T21:20:38.169607Z",
     "iopub.status.idle": "2024-08-20T21:20:38.174028Z",
     "shell.execute_reply": "2024-08-20T21:20:38.172868Z"
    },
    "papermill": {
     "duration": 0.135178,
     "end_time": "2024-08-20T21:20:38.176517",
     "exception": false,
     "start_time": "2024-08-20T21:20:38.041339",
     "status": "completed"
    },
    "tags": []
   },
   "outputs": [],
   "source": [
    "# print(df_fshot.shape)\n",
    "# df_fshot.tail(3)"
   ]
  },
  {
   "cell_type": "code",
   "execution_count": 60,
   "id": "31955cc2",
   "metadata": {
    "execution": {
     "iopub.execute_input": "2024-08-20T21:20:38.437661Z",
     "iopub.status.busy": "2024-08-20T21:20:38.436948Z",
     "iopub.status.idle": "2024-08-20T21:20:38.442625Z",
     "shell.execute_reply": "2024-08-20T21:20:38.441720Z"
    },
    "papermill": {
     "duration": 0.137782,
     "end_time": "2024-08-20T21:20:38.444575",
     "exception": false,
     "start_time": "2024-08-20T21:20:38.306793",
     "status": "completed"
    },
    "tags": []
   },
   "outputs": [],
   "source": [
    "# def hello_world_again(question, context):   \n",
    "#     # Create the prompt\n",
    "#     prompt = f\"\"\"<start_of_turn>user\n",
    "#     Context: {df_fshot.loc[0, 'gem_context']}\n",
    "#     Question: {df_fshot.loc[0, 'query']}<end_of_turn>\n",
    "#     <start_of_turn>model\n",
    "#     {df_fshot.loc[0, 'corrected_text']}<end_of_turn>\n",
    "#     <start_of_turn>user\n",
    "#     Context: {df_fshot.loc[5, 'gem_context']}\n",
    "#     Question: {df_fshot.loc[5, 'query']}<end_of_turn>\n",
    "#     <start_of_turn>model\n",
    "#     {df_fshot.loc[5, 'corrected_text']}<end_of_turn>\n",
    "#     <start_of_turn>user\n",
    "#     Context: {df_fshot.loc[6, 'gem_context']}\n",
    "#     Question: {df_fshot.loc[6, 'query']}<end_of_turn>\n",
    "#     <start_of_turn>model\n",
    "#     {df_fshot.loc[6, 'corrected_text']}<end_of_turn>\n",
    "#     <start_of_turn>user\n",
    "#     Think and write your step-by-step reasoning before responding.\n",
    "    \n",
    "#     Context: {context}\n",
    "#     Question: {question}<end_of_turn>\n",
    "#     <start_of_turn>model\n",
    "#     \"\"\"\n",
    "\n",
    "\n",
    "#     # Tokenize the prompt\n",
    "#     inp = tokenizer(prompt, return_tensors=\"pt\").to(DEVICE)\n",
    "#     # Generate the outputs from prompt\n",
    "#     generate_ids = gemma_model.generate(**inp, max_new_tokens=768)\n",
    "#     # Decode the generated output\n",
    "#     response = tokenizer.batch_decode(generate_ids, skip_special_tokens=True,\n",
    "#                                          clean_up_tokenization_spaces=False)[0]\n",
    "\n",
    "\n",
    "#     # Extract the answer\n",
    "\n",
    "#     # Split and select the last item in the list\n",
    "#     gemma_response = response.split('<start_of_turn>model')[-1]\n",
    "#     # Remove leading and trailing spaces\n",
    "#     gemma_response = gemma_response.strip()\n",
    "#     # Remove the '<end_of_turn> token\n",
    "#     gemma_response= gemma_response.replace('<end_of_turn>', \"\")\n",
    "    \n",
    "#     return gemma_response"
   ]
  },
  {
   "cell_type": "code",
   "execution_count": 61,
   "id": "a1ad9d27",
   "metadata": {
    "execution": {
     "iopub.execute_input": "2024-08-20T21:20:38.706501Z",
     "iopub.status.busy": "2024-08-20T21:20:38.705734Z",
     "iopub.status.idle": "2024-08-20T21:20:38.709702Z",
     "shell.execute_reply": "2024-08-20T21:20:38.708772Z"
    },
    "papermill": {
     "duration": 0.138585,
     "end_time": "2024-08-20T21:20:38.711779",
     "exception": false,
     "start_time": "2024-08-20T21:20:38.573194",
     "status": "completed"
    },
    "tags": []
   },
   "outputs": [],
   "source": [
    "# ans = hello_world_again(ques, context)\n",
    "# print(ques)\n",
    "# print(ans)"
   ]
  },
  {
   "cell_type": "code",
   "execution_count": 62,
   "id": "2ecb9bd9",
   "metadata": {
    "execution": {
     "iopub.execute_input": "2024-08-20T21:20:38.969832Z",
     "iopub.status.busy": "2024-08-20T21:20:38.969435Z",
     "iopub.status.idle": "2024-08-20T21:20:38.973442Z",
     "shell.execute_reply": "2024-08-20T21:20:38.972577Z"
    },
    "papermill": {
     "duration": 0.135779,
     "end_time": "2024-08-20T21:20:38.975298",
     "exception": false,
     "start_time": "2024-08-20T21:20:38.839519",
     "status": "completed"
    },
    "tags": []
   },
   "outputs": [],
   "source": [
    "# ans = hello_world_again(ques, context_text)\n",
    "# print(ques)\n",
    "# print(ans)"
   ]
  },
  {
   "cell_type": "code",
   "execution_count": null,
   "id": "397a92a2",
   "metadata": {
    "papermill": {
     "duration": 0.127154,
     "end_time": "2024-08-20T21:20:39.230511",
     "exception": false,
     "start_time": "2024-08-20T21:20:39.103357",
     "status": "completed"
    },
    "tags": []
   },
   "outputs": [],
   "source": []
  }
 ],
 "metadata": {
  "kaggle": {
   "accelerator": "nvidiaTeslaT4",
   "dataSources": [
    {
     "datasetId": 4477853,
     "sourceId": 7918995,
     "sourceType": "datasetVersion"
    },
    {
     "datasetId": 5528375,
     "sourceId": 9181722,
     "sourceType": "datasetVersion"
    },
    {
     "modelId": 3301,
     "modelInstanceId": 8332,
     "sourceId": 11261,
     "sourceType": "modelInstanceVersion"
    }
   ],
   "dockerImageVersionId": 30747,
   "isGpuEnabled": true,
   "isInternetEnabled": true,
   "language": "python",
   "sourceType": "notebook"
  },
  "kernelspec": {
   "display_name": "Python 3",
   "language": "python",
   "name": "python3"
  },
  "language_info": {
   "codemirror_mode": {
    "name": "ipython",
    "version": 3
   },
   "file_extension": ".py",
   "mimetype": "text/x-python",
   "name": "python",
   "nbconvert_exporter": "python",
   "pygments_lexer": "ipython3",
   "version": "3.10.13"
  },
  "papermill": {
   "default_parameters": {},
   "duration": 4095.239978,
   "end_time": "2024-08-20T21:20:42.414961",
   "environment_variables": {},
   "exception": null,
   "input_path": "__notebook__.ipynb",
   "output_path": "__notebook__.ipynb",
   "parameters": {},
   "start_time": "2024-08-20T20:12:27.174983",
   "version": "2.5.0"
  },
  "widgets": {
   "application/vnd.jupyter.widget-state+json": {
    "state": {
     "2154b87c193642889aad02719cc0d720": {
      "model_module": "@jupyter-widgets/controls",
      "model_module_version": "1.5.0",
      "model_name": "ProgressStyleModel",
      "state": {
       "_model_module": "@jupyter-widgets/controls",
       "_model_module_version": "1.5.0",
       "_model_name": "ProgressStyleModel",
       "_view_count": null,
       "_view_module": "@jupyter-widgets/base",
       "_view_module_version": "1.2.0",
       "_view_name": "StyleView",
       "bar_color": null,
       "description_width": ""
      }
     },
     "3974df984d5547e0966e3c6a26fb4ac8": {
      "model_module": "@jupyter-widgets/base",
      "model_module_version": "1.2.0",
      "model_name": "LayoutModel",
      "state": {
       "_model_module": "@jupyter-widgets/base",
       "_model_module_version": "1.2.0",
       "_model_name": "LayoutModel",
       "_view_count": null,
       "_view_module": "@jupyter-widgets/base",
       "_view_module_version": "1.2.0",
       "_view_name": "LayoutView",
       "align_content": null,
       "align_items": null,
       "align_self": null,
       "border": null,
       "bottom": null,
       "display": null,
       "flex": null,
       "flex_flow": null,
       "grid_area": null,
       "grid_auto_columns": null,
       "grid_auto_flow": null,
       "grid_auto_rows": null,
       "grid_column": null,
       "grid_gap": null,
       "grid_row": null,
       "grid_template_areas": null,
       "grid_template_columns": null,
       "grid_template_rows": null,
       "height": null,
       "justify_content": null,
       "justify_items": null,
       "left": null,
       "margin": null,
       "max_height": null,
       "max_width": null,
       "min_height": null,
       "min_width": null,
       "object_fit": null,
       "object_position": null,
       "order": null,
       "overflow": null,
       "overflow_x": null,
       "overflow_y": null,
       "padding": null,
       "right": null,
       "top": null,
       "visibility": null,
       "width": null
      }
     },
     "535b963b30614c739cd461396c536e4f": {
      "model_module": "@jupyter-widgets/controls",
      "model_module_version": "1.5.0",
      "model_name": "HTMLModel",
      "state": {
       "_dom_classes": [],
       "_model_module": "@jupyter-widgets/controls",
       "_model_module_version": "1.5.0",
       "_model_name": "HTMLModel",
       "_view_count": null,
       "_view_module": "@jupyter-widgets/controls",
       "_view_module_version": "1.5.0",
       "_view_name": "HTMLView",
       "description": "",
       "description_tooltip": null,
       "layout": "IPY_MODEL_597d84f610e84869a5d45eeda6ac5036",
       "placeholder": "​",
       "style": "IPY_MODEL_583b4c48e47f4377aae4a97e6a97d2f5",
       "value": "Loading checkpoint shards: 100%"
      }
     },
     "583b4c48e47f4377aae4a97e6a97d2f5": {
      "model_module": "@jupyter-widgets/controls",
      "model_module_version": "1.5.0",
      "model_name": "DescriptionStyleModel",
      "state": {
       "_model_module": "@jupyter-widgets/controls",
       "_model_module_version": "1.5.0",
       "_model_name": "DescriptionStyleModel",
       "_view_count": null,
       "_view_module": "@jupyter-widgets/base",
       "_view_module_version": "1.2.0",
       "_view_name": "StyleView",
       "description_width": ""
      }
     },
     "597d84f610e84869a5d45eeda6ac5036": {
      "model_module": "@jupyter-widgets/base",
      "model_module_version": "1.2.0",
      "model_name": "LayoutModel",
      "state": {
       "_model_module": "@jupyter-widgets/base",
       "_model_module_version": "1.2.0",
       "_model_name": "LayoutModel",
       "_view_count": null,
       "_view_module": "@jupyter-widgets/base",
       "_view_module_version": "1.2.0",
       "_view_name": "LayoutView",
       "align_content": null,
       "align_items": null,
       "align_self": null,
       "border": null,
       "bottom": null,
       "display": null,
       "flex": null,
       "flex_flow": null,
       "grid_area": null,
       "grid_auto_columns": null,
       "grid_auto_flow": null,
       "grid_auto_rows": null,
       "grid_column": null,
       "grid_gap": null,
       "grid_row": null,
       "grid_template_areas": null,
       "grid_template_columns": null,
       "grid_template_rows": null,
       "height": null,
       "justify_content": null,
       "justify_items": null,
       "left": null,
       "margin": null,
       "max_height": null,
       "max_width": null,
       "min_height": null,
       "min_width": null,
       "object_fit": null,
       "object_position": null,
       "order": null,
       "overflow": null,
       "overflow_x": null,
       "overflow_y": null,
       "padding": null,
       "right": null,
       "top": null,
       "visibility": null,
       "width": null
      }
     },
     "629f57f704fb40ecbb2c37243b86e971": {
      "model_module": "@jupyter-widgets/controls",
      "model_module_version": "1.5.0",
      "model_name": "FloatProgressModel",
      "state": {
       "_dom_classes": [],
       "_model_module": "@jupyter-widgets/controls",
       "_model_module_version": "1.5.0",
       "_model_name": "FloatProgressModel",
       "_view_count": null,
       "_view_module": "@jupyter-widgets/controls",
       "_view_module_version": "1.5.0",
       "_view_name": "ProgressView",
       "bar_style": "success",
       "description": "",
       "description_tooltip": null,
       "layout": "IPY_MODEL_73eb6f2ee93c4abeb09e2d02b78e4dc8",
       "max": 4.0,
       "min": 0.0,
       "orientation": "horizontal",
       "style": "IPY_MODEL_2154b87c193642889aad02719cc0d720",
       "value": 4.0
      }
     },
     "73eb6f2ee93c4abeb09e2d02b78e4dc8": {
      "model_module": "@jupyter-widgets/base",
      "model_module_version": "1.2.0",
      "model_name": "LayoutModel",
      "state": {
       "_model_module": "@jupyter-widgets/base",
       "_model_module_version": "1.2.0",
       "_model_name": "LayoutModel",
       "_view_count": null,
       "_view_module": "@jupyter-widgets/base",
       "_view_module_version": "1.2.0",
       "_view_name": "LayoutView",
       "align_content": null,
       "align_items": null,
       "align_self": null,
       "border": null,
       "bottom": null,
       "display": null,
       "flex": null,
       "flex_flow": null,
       "grid_area": null,
       "grid_auto_columns": null,
       "grid_auto_flow": null,
       "grid_auto_rows": null,
       "grid_column": null,
       "grid_gap": null,
       "grid_row": null,
       "grid_template_areas": null,
       "grid_template_columns": null,
       "grid_template_rows": null,
       "height": null,
       "justify_content": null,
       "justify_items": null,
       "left": null,
       "margin": null,
       "max_height": null,
       "max_width": null,
       "min_height": null,
       "min_width": null,
       "object_fit": null,
       "object_position": null,
       "order": null,
       "overflow": null,
       "overflow_x": null,
       "overflow_y": null,
       "padding": null,
       "right": null,
       "top": null,
       "visibility": null,
       "width": null
      }
     },
     "85adcdaea4ca43e49b76c3ed4c37d232": {
      "model_module": "@jupyter-widgets/controls",
      "model_module_version": "1.5.0",
      "model_name": "HTMLModel",
      "state": {
       "_dom_classes": [],
       "_model_module": "@jupyter-widgets/controls",
       "_model_module_version": "1.5.0",
       "_model_name": "HTMLModel",
       "_view_count": null,
       "_view_module": "@jupyter-widgets/controls",
       "_view_module_version": "1.5.0",
       "_view_name": "HTMLView",
       "description": "",
       "description_tooltip": null,
       "layout": "IPY_MODEL_d3431674f49247439507668f1f827e8d",
       "placeholder": "​",
       "style": "IPY_MODEL_f7478c9c870d445390640cc3705f2851",
       "value": " 4/4 [01:49&lt;00:00, 24.71s/it]"
      }
     },
     "b7f12f8c5185489ba60f3b139f763d88": {
      "model_module": "@jupyter-widgets/controls",
      "model_module_version": "1.5.0",
      "model_name": "HBoxModel",
      "state": {
       "_dom_classes": [],
       "_model_module": "@jupyter-widgets/controls",
       "_model_module_version": "1.5.0",
       "_model_name": "HBoxModel",
       "_view_count": null,
       "_view_module": "@jupyter-widgets/controls",
       "_view_module_version": "1.5.0",
       "_view_name": "HBoxView",
       "box_style": "",
       "children": [
        "IPY_MODEL_535b963b30614c739cd461396c536e4f",
        "IPY_MODEL_629f57f704fb40ecbb2c37243b86e971",
        "IPY_MODEL_85adcdaea4ca43e49b76c3ed4c37d232"
       ],
       "layout": "IPY_MODEL_3974df984d5547e0966e3c6a26fb4ac8"
      }
     },
     "d3431674f49247439507668f1f827e8d": {
      "model_module": "@jupyter-widgets/base",
      "model_module_version": "1.2.0",
      "model_name": "LayoutModel",
      "state": {
       "_model_module": "@jupyter-widgets/base",
       "_model_module_version": "1.2.0",
       "_model_name": "LayoutModel",
       "_view_count": null,
       "_view_module": "@jupyter-widgets/base",
       "_view_module_version": "1.2.0",
       "_view_name": "LayoutView",
       "align_content": null,
       "align_items": null,
       "align_self": null,
       "border": null,
       "bottom": null,
       "display": null,
       "flex": null,
       "flex_flow": null,
       "grid_area": null,
       "grid_auto_columns": null,
       "grid_auto_flow": null,
       "grid_auto_rows": null,
       "grid_column": null,
       "grid_gap": null,
       "grid_row": null,
       "grid_template_areas": null,
       "grid_template_columns": null,
       "grid_template_rows": null,
       "height": null,
       "justify_content": null,
       "justify_items": null,
       "left": null,
       "margin": null,
       "max_height": null,
       "max_width": null,
       "min_height": null,
       "min_width": null,
       "object_fit": null,
       "object_position": null,
       "order": null,
       "overflow": null,
       "overflow_x": null,
       "overflow_y": null,
       "padding": null,
       "right": null,
       "top": null,
       "visibility": null,
       "width": null
      }
     },
     "f7478c9c870d445390640cc3705f2851": {
      "model_module": "@jupyter-widgets/controls",
      "model_module_version": "1.5.0",
      "model_name": "DescriptionStyleModel",
      "state": {
       "_model_module": "@jupyter-widgets/controls",
       "_model_module_version": "1.5.0",
       "_model_name": "DescriptionStyleModel",
       "_view_count": null,
       "_view_module": "@jupyter-widgets/base",
       "_view_module_version": "1.2.0",
       "_view_name": "StyleView",
       "description_width": ""
      }
     }
    },
    "version_major": 2,
    "version_minor": 0
   }
  }
 },
 "nbformat": 4,
 "nbformat_minor": 5
}
