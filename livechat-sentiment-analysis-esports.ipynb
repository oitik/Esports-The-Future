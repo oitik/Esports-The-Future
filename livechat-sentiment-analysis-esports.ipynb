{
 "cells": [
  {
   "cell_type": "code",
   "execution_count": 1,
   "id": "3a581c0d",
   "metadata": {
    "_cell_guid": "b1076dfc-b9ad-4769-8c92-a6c4dae69d19",
    "_uuid": "8f2839f25d086af736a60e9eeb907d3b93b6e0e5",
    "execution": {
     "iopub.execute_input": "2024-08-16T20:40:46.432363Z",
     "iopub.status.busy": "2024-08-16T20:40:46.432034Z",
     "iopub.status.idle": "2024-08-16T20:40:48.358544Z",
     "shell.execute_reply": "2024-08-16T20:40:48.357585Z"
    },
    "papermill": {
     "duration": 1.941389,
     "end_time": "2024-08-16T20:40:48.361073",
     "exception": false,
     "start_time": "2024-08-16T20:40:46.419684",
     "status": "completed"
    },
    "tags": []
   },
   "outputs": [],
   "source": [
    "# Regular EDA(exploratory data analysis) and plotting libraries\n",
    "import numpy as np\n",
    "import pandas as pd\n",
    "import matplotlib.pyplot as plt\n",
    "import seaborn as sns\n",
    "from sklearn.model_selection import train_test_split\n",
    "%matplotlib inline\n",
    "\n",
    "from tqdm import tqdm\n",
    "import string\n",
    "import statistics\n",
    "import re\n",
    "import joblib\n",
    "import random\n",
    "import statistics\n",
    "from collections import Counter\n",
    "from scipy import stats\n",
    "import os\n",
    "# import seaborn as sns\n",
    "from mpl_toolkits.mplot3d import Axes3D\n",
    "from sklearn.metrics.pairwise import cosine_similarity\n",
    "import zipfile\n",
    "from matplotlib.lines import Line2D\n",
    "import warnings"
   ]
  },
  {
   "cell_type": "code",
   "execution_count": 2,
   "id": "548ac6c8",
   "metadata": {
    "execution": {
     "iopub.execute_input": "2024-08-16T20:40:48.385145Z",
     "iopub.status.busy": "2024-08-16T20:40:48.384759Z",
     "iopub.status.idle": "2024-08-16T20:40:48.388777Z",
     "shell.execute_reply": "2024-08-16T20:40:48.387978Z"
    },
    "papermill": {
     "duration": 0.017556,
     "end_time": "2024-08-16T20:40:48.390626",
     "exception": false,
     "start_time": "2024-08-16T20:40:48.373070",
     "status": "completed"
    },
    "tags": []
   },
   "outputs": [],
   "source": [
    "warnings.filterwarnings('ignore')"
   ]
  },
  {
   "cell_type": "code",
   "execution_count": 3,
   "id": "92b24e79",
   "metadata": {
    "execution": {
     "iopub.execute_input": "2024-08-16T20:40:48.413113Z",
     "iopub.status.busy": "2024-08-16T20:40:48.412853Z",
     "iopub.status.idle": "2024-08-16T20:40:51.452945Z",
     "shell.execute_reply": "2024-08-16T20:40:51.452163Z"
    },
    "papermill": {
     "duration": 3.05396,
     "end_time": "2024-08-16T20:40:51.455244",
     "exception": false,
     "start_time": "2024-08-16T20:40:48.401284",
     "status": "completed"
    },
    "tags": []
   },
   "outputs": [],
   "source": [
    "# bdlc = pd.read_parquet('/kaggle/input/esports-data/live_comments_2/bangladesh_livechat_data.parquet')\n",
    "# brlc = pd.read_parquet('/kaggle/input/esports-data/live_comments_2/brasil_livechat_data.parquet')\n",
    "# idlc = pd.read_parquet('/kaggle/input/esports-data/live_comments_2/indonesia_livechat_data.parquet')\n",
    "# mllc = pd.read_parquet('/kaggle/input/esports-data/live_comments_2/malaysia_livechat_data.parquet')\n",
    "\n",
    "bdlc = pd.read_parquet('/kaggle/input/esports-data/live_comments_2/pakistan_livechat_data.parquet')\n",
    "# indlc = pd.read_parquet('/kaggle/input/esports-data/live_comments/india_livechat_data.parquet')\n",
    "# ind2lc = pd.read_parquet('/kaggle/input/esports-data/live_comments/indiav2_livechat_data.parquet')\n",
    "# trlc = pd.read_parquet('/kaggle/input/esports-data/live_comments/turkey_livechat_data.parquet')\n",
    "# vnlc = pd.read_parquet('/kaggle/input/esports-data/live_comments/vietnam_livechat_data.parquet')"
   ]
  },
  {
   "cell_type": "code",
   "execution_count": 4,
   "id": "5be1bc92",
   "metadata": {
    "execution": {
     "iopub.execute_input": "2024-08-16T20:40:51.479648Z",
     "iopub.status.busy": "2024-08-16T20:40:51.479340Z",
     "iopub.status.idle": "2024-08-16T20:40:51.483224Z",
     "shell.execute_reply": "2024-08-16T20:40:51.482439Z"
    },
    "papermill": {
     "duration": 0.018773,
     "end_time": "2024-08-16T20:40:51.485062",
     "exception": false,
     "start_time": "2024-08-16T20:40:51.466289",
     "status": "completed"
    },
    "tags": []
   },
   "outputs": [],
   "source": [
    "# bdlc = pd.concat([indlc, ind2lc], ignore_index=True)"
   ]
  },
  {
   "cell_type": "code",
   "execution_count": 5,
   "id": "99362f98",
   "metadata": {
    "execution": {
     "iopub.execute_input": "2024-08-16T20:40:51.507255Z",
     "iopub.status.busy": "2024-08-16T20:40:51.506967Z",
     "iopub.status.idle": "2024-08-16T20:40:51.510651Z",
     "shell.execute_reply": "2024-08-16T20:40:51.509847Z"
    },
    "papermill": {
     "duration": 0.016908,
     "end_time": "2024-08-16T20:40:51.512520",
     "exception": false,
     "start_time": "2024-08-16T20:40:51.495612",
     "status": "completed"
    },
    "tags": []
   },
   "outputs": [],
   "source": [
    "# dfs_lc = ['bdlc', 'idlc', 'mllc', 'pklc', 'inlc', 'vnlc']\n",
    "# sm = 0\n",
    "# for df_name in dfs_lc:\n",
    "#     df = globals()[df_name]\n",
    "#     print(f\"Length of {df_name}: {len(df)/1e6:.2f}M\")\n",
    "#     sm+=len(df)\n",
    "\n",
    "# print(f'Total is {sm/1e6:.2f}M')\n",
    "# print(f'Total in crore {sm/1e7:.2f}Corer')"
   ]
  },
  {
   "cell_type": "markdown",
   "id": "6e012a88",
   "metadata": {
    "papermill": {
     "duration": 0.010465,
     "end_time": "2024-08-16T20:40:51.533564",
     "exception": false,
     "start_time": "2024-08-16T20:40:51.523099",
     "status": "completed"
    },
    "tags": []
   },
   "source": [
    "## Bangladesh"
   ]
  },
  {
   "cell_type": "code",
   "execution_count": 6,
   "id": "a3416843",
   "metadata": {
    "execution": {
     "iopub.execute_input": "2024-08-16T20:40:51.556132Z",
     "iopub.status.busy": "2024-08-16T20:40:51.555879Z",
     "iopub.status.idle": "2024-08-16T20:40:51.604104Z",
     "shell.execute_reply": "2024-08-16T20:40:51.603126Z"
    },
    "papermill": {
     "duration": 0.062184,
     "end_time": "2024-08-16T20:40:51.606237",
     "exception": false,
     "start_time": "2024-08-16T20:40:51.544053",
     "status": "completed"
    },
    "tags": []
   },
   "outputs": [
    {
     "name": "stdout",
     "output_type": "stream",
     "text": [
      "A1 ❤️ A1 ❤️\n"
     ]
    }
   ],
   "source": [
    "import emoji\n",
    "\n",
    "def replace_emoji_codes(text):\n",
    "    \"\"\"\n",
    "    Replace text-based emoji codes with actual emojis using the `emoji` library.\n",
    "\n",
    "    Parameters:\n",
    "    - text (str): The input text containing emoji codes.\n",
    "\n",
    "    Returns:\n",
    "    - str: The text with emoji codes replaced by actual emojis.\n",
    "    \"\"\"\n",
    "    # Convert text-based emoji codes to actual emojis\n",
    "    return emoji.emojize(text)\n",
    "\n",
    "# Example usage\n",
    "text = \"A1 :red_heart: A1 :red_heart:\"\n",
    "converted_text = replace_emoji_codes(text)\n",
    "print(converted_text)  # Output: \"A1 ❤️ A1 ❤️\"\n",
    "\n",
    "import re\n",
    "\n",
    "def count_words(text):\n",
    "    # Remove punctuations using regular expression\n",
    "    text_without_punctuations = re.sub(r'[^\\w\\s]', '', text)\n",
    "\n",
    "    # Split the text into words based on whitespace characters\n",
    "    words = text_without_punctuations.split()\n",
    "\n",
    "    # Get the number of words\n",
    "    word_length = len(words)\n",
    "\n",
    "    return word_length\n"
   ]
  },
  {
   "cell_type": "code",
   "execution_count": 7,
   "id": "48cc6985",
   "metadata": {
    "execution": {
     "iopub.execute_input": "2024-08-16T20:40:51.629311Z",
     "iopub.status.busy": "2024-08-16T20:40:51.628908Z",
     "iopub.status.idle": "2024-08-16T20:40:51.633143Z",
     "shell.execute_reply": "2024-08-16T20:40:51.632391Z"
    },
    "papermill": {
     "duration": 0.018124,
     "end_time": "2024-08-16T20:40:51.635108",
     "exception": false,
     "start_time": "2024-08-16T20:40:51.616984",
     "status": "completed"
    },
    "tags": []
   },
   "outputs": [],
   "source": [
    "tqdm.pandas()"
   ]
  },
  {
   "cell_type": "code",
   "execution_count": 8,
   "id": "fcd1558d",
   "metadata": {
    "execution": {
     "iopub.execute_input": "2024-08-16T20:40:51.657348Z",
     "iopub.status.busy": "2024-08-16T20:40:51.657054Z",
     "iopub.status.idle": "2024-08-16T20:41:13.959166Z",
     "shell.execute_reply": "2024-08-16T20:41:13.958198Z"
    },
    "papermill": {
     "duration": 22.315829,
     "end_time": "2024-08-16T20:41:13.961549",
     "exception": false,
     "start_time": "2024-08-16T20:40:51.645720",
     "status": "completed"
    },
    "tags": []
   },
   "outputs": [
    {
     "name": "stderr",
     "output_type": "stream",
     "text": [
      "100%|██████████| 3377028/3377028 [00:21<00:00, 159102.13it/s]\n"
     ]
    }
   ],
   "source": [
    "bdlc['wordcount'] = bdlc.message.progress_apply(count_words)\n",
    "\n",
    "bdlc = bdlc.sort_values(by='wordcount', ascending=False).reset_index(drop=True)"
   ]
  },
  {
   "cell_type": "code",
   "execution_count": 9,
   "id": "e76e7ced",
   "metadata": {
    "execution": {
     "iopub.execute_input": "2024-08-16T20:41:14.015441Z",
     "iopub.status.busy": "2024-08-16T20:41:14.015013Z",
     "iopub.status.idle": "2024-08-16T20:41:14.029368Z",
     "shell.execute_reply": "2024-08-16T20:41:14.028482Z"
    },
    "papermill": {
     "duration": 0.043378,
     "end_time": "2024-08-16T20:41:14.031284",
     "exception": false,
     "start_time": "2024-08-16T20:41:13.987906",
     "status": "completed"
    },
    "tags": []
   },
   "outputs": [
    {
     "data": {
      "text/html": [
       "<div>\n",
       "<style scoped>\n",
       "    .dataframe tbody tr th:only-of-type {\n",
       "        vertical-align: middle;\n",
       "    }\n",
       "\n",
       "    .dataframe tbody tr th {\n",
       "        vertical-align: top;\n",
       "    }\n",
       "\n",
       "    .dataframe thead th {\n",
       "        text-align: right;\n",
       "    }\n",
       "</style>\n",
       "<table border=\"1\" class=\"dataframe\">\n",
       "  <thead>\n",
       "    <tr style=\"text-align: right;\">\n",
       "      <th></th>\n",
       "      <th>datetime</th>\n",
       "      <th>author</th>\n",
       "      <th>message</th>\n",
       "      <th>video_id</th>\n",
       "      <th>wordcount</th>\n",
       "    </tr>\n",
       "  </thead>\n",
       "  <tbody>\n",
       "    <tr>\n",
       "      <th>3377023</th>\n",
       "      <td>2022-08-18 11:25:53</td>\n",
       "      <td>Goku</td>\n",
       "      <td></td>\n",
       "      <td>rHPbFGmmKQA</td>\n",
       "      <td>0</td>\n",
       "    </tr>\n",
       "    <tr>\n",
       "      <th>3377024</th>\n",
       "      <td>2022-08-18 11:25:37</td>\n",
       "      <td>Goku</td>\n",
       "      <td></td>\n",
       "      <td>rHPbFGmmKQA</td>\n",
       "      <td>0</td>\n",
       "    </tr>\n",
       "    <tr>\n",
       "      <th>3377025</th>\n",
       "      <td>2022-08-18 11:25:38</td>\n",
       "      <td>just gamer</td>\n",
       "      <td></td>\n",
       "      <td>rHPbFGmmKQA</td>\n",
       "      <td>0</td>\n",
       "    </tr>\n",
       "    <tr>\n",
       "      <th>3377026</th>\n",
       "      <td>2022-08-18 11:26:42</td>\n",
       "      <td>Goku</td>\n",
       "      <td></td>\n",
       "      <td>rHPbFGmmKQA</td>\n",
       "      <td>0</td>\n",
       "    </tr>\n",
       "    <tr>\n",
       "      <th>3377027</th>\n",
       "      <td>2022-08-18 11:26:27</td>\n",
       "      <td>Dhanraj solanki</td>\n",
       "      <td></td>\n",
       "      <td>rHPbFGmmKQA</td>\n",
       "      <td>0</td>\n",
       "    </tr>\n",
       "  </tbody>\n",
       "</table>\n",
       "</div>"
      ],
      "text/plain": [
       "                    datetime           author message     video_id  wordcount\n",
       "3377023  2022-08-18 11:25:53             Goku          rHPbFGmmKQA          0\n",
       "3377024  2022-08-18 11:25:37             Goku          rHPbFGmmKQA          0\n",
       "3377025  2022-08-18 11:25:38       just gamer          rHPbFGmmKQA          0\n",
       "3377026  2022-08-18 11:26:42             Goku          rHPbFGmmKQA          0\n",
       "3377027  2022-08-18 11:26:27  Dhanraj solanki          rHPbFGmmKQA          0"
      ]
     },
     "execution_count": 9,
     "metadata": {},
     "output_type": "execute_result"
    }
   ],
   "source": [
    "bdlc.tail()"
   ]
  },
  {
   "cell_type": "markdown",
   "id": "02c527cc",
   "metadata": {
    "papermill": {
     "duration": 0.02552,
     "end_time": "2024-08-16T20:41:14.082606",
     "exception": false,
     "start_time": "2024-08-16T20:41:14.057086",
     "status": "completed"
    },
    "tags": []
   },
   "source": [
    "## Checkpoint for filter"
   ]
  },
  {
   "cell_type": "code",
   "execution_count": 10,
   "id": "77b1063a",
   "metadata": {
    "execution": {
     "iopub.execute_input": "2024-08-16T20:41:14.136105Z",
     "iopub.status.busy": "2024-08-16T20:41:14.135558Z",
     "iopub.status.idle": "2024-08-16T20:41:14.155977Z",
     "shell.execute_reply": "2024-08-16T20:41:14.155022Z"
    },
    "papermill": {
     "duration": 0.049322,
     "end_time": "2024-08-16T20:41:14.157916",
     "exception": false,
     "start_time": "2024-08-16T20:41:14.108594",
     "status": "completed"
    },
    "tags": []
   },
   "outputs": [
    {
     "data": {
      "text/html": [
       "<div>\n",
       "<style scoped>\n",
       "    .dataframe tbody tr th:only-of-type {\n",
       "        vertical-align: middle;\n",
       "    }\n",
       "\n",
       "    .dataframe tbody tr th {\n",
       "        vertical-align: top;\n",
       "    }\n",
       "\n",
       "    .dataframe thead th {\n",
       "        text-align: right;\n",
       "    }\n",
       "</style>\n",
       "<table border=\"1\" class=\"dataframe\">\n",
       "  <thead>\n",
       "    <tr style=\"text-align: right;\">\n",
       "      <th></th>\n",
       "      <th>datetime</th>\n",
       "      <th>author</th>\n",
       "      <th>message</th>\n",
       "      <th>video_id</th>\n",
       "      <th>wordcount</th>\n",
       "    </tr>\n",
       "  </thead>\n",
       "  <tbody>\n",
       "    <tr>\n",
       "      <th>0</th>\n",
       "      <td>2021-11-12 15:59:40</td>\n",
       "      <td>ZEHAR OP</td>\n",
       "      <td>i8 i8 i8 i8 i8 i8 i8 i8 i8 i8 i8 i8 i8 i8 i8 i...</td>\n",
       "      <td>taABQz3tZMs</td>\n",
       "      <td>67</td>\n",
       "    </tr>\n",
       "    <tr>\n",
       "      <th>1</th>\n",
       "      <td>2021-08-15 12:09:29</td>\n",
       "      <td>Shan Zaib</td>\n",
       "      <td>i8 :heart_suit: i8 :heart_suit: i8 :heart_suit...</td>\n",
       "      <td>G-qlUwi-xcI</td>\n",
       "      <td>67</td>\n",
       "    </tr>\n",
       "    <tr>\n",
       "      <th>2</th>\n",
       "      <td>2021-08-15 12:09:25</td>\n",
       "      <td>Shan Zaib</td>\n",
       "      <td>i8 :heart_suit: i8 :heart_suit: i8 :heart_suit...</td>\n",
       "      <td>G-qlUwi-xcI</td>\n",
       "      <td>67</td>\n",
       "    </tr>\n",
       "    <tr>\n",
       "      <th>3</th>\n",
       "      <td>2021-08-15 12:09:24</td>\n",
       "      <td>Shan Zaib</td>\n",
       "      <td>i8 :heart_suit: i8 :heart_suit: i8 :heart_suit...</td>\n",
       "      <td>G-qlUwi-xcI</td>\n",
       "      <td>67</td>\n",
       "    </tr>\n",
       "    <tr>\n",
       "      <th>4</th>\n",
       "      <td>2021-11-12 15:59:04</td>\n",
       "      <td>ZEHAR OP</td>\n",
       "      <td>i8 i8 i8 i8 i8 i8 i8 i8 i8 i8 i8 i8 i8 i8 i8 i...</td>\n",
       "      <td>taABQz3tZMs</td>\n",
       "      <td>67</td>\n",
       "    </tr>\n",
       "  </tbody>\n",
       "</table>\n",
       "</div>"
      ],
      "text/plain": [
       "              datetime     author  \\\n",
       "0  2021-11-12 15:59:40   ZEHAR OP   \n",
       "1  2021-08-15 12:09:29  Shan Zaib   \n",
       "2  2021-08-15 12:09:25  Shan Zaib   \n",
       "3  2021-08-15 12:09:24  Shan Zaib   \n",
       "4  2021-11-12 15:59:04   ZEHAR OP   \n",
       "\n",
       "                                             message     video_id  wordcount  \n",
       "0  i8 i8 i8 i8 i8 i8 i8 i8 i8 i8 i8 i8 i8 i8 i8 i...  taABQz3tZMs         67  \n",
       "1  i8 :heart_suit: i8 :heart_suit: i8 :heart_suit...  G-qlUwi-xcI         67  \n",
       "2  i8 :heart_suit: i8 :heart_suit: i8 :heart_suit...  G-qlUwi-xcI         67  \n",
       "3  i8 :heart_suit: i8 :heart_suit: i8 :heart_suit...  G-qlUwi-xcI         67  \n",
       "4  i8 i8 i8 i8 i8 i8 i8 i8 i8 i8 i8 i8 i8 i8 i8 i...  taABQz3tZMs         67  "
      ]
     },
     "execution_count": 10,
     "metadata": {},
     "output_type": "execute_result"
    }
   ],
   "source": [
    "th = 200_000\n",
    "\n",
    "\n",
    "filt = bdlc[:th].copy()\n",
    "filt.head()"
   ]
  },
  {
   "cell_type": "code",
   "execution_count": 11,
   "id": "84a974b4",
   "metadata": {
    "execution": {
     "iopub.execute_input": "2024-08-16T20:41:14.213025Z",
     "iopub.status.busy": "2024-08-16T20:41:14.212500Z",
     "iopub.status.idle": "2024-08-16T20:41:16.871400Z",
     "shell.execute_reply": "2024-08-16T20:41:16.870387Z"
    },
    "papermill": {
     "duration": 2.688809,
     "end_time": "2024-08-16T20:41:16.873550",
     "exception": false,
     "start_time": "2024-08-16T20:41:14.184741",
     "status": "completed"
    },
    "tags": []
   },
   "outputs": [
    {
     "name": "stderr",
     "output_type": "stream",
     "text": [
      "100%|██████████| 200000/200000 [00:02<00:00, 75799.68it/s]\n"
     ]
    },
    {
     "data": {
      "text/html": [
       "<div>\n",
       "<style scoped>\n",
       "    .dataframe tbody tr th:only-of-type {\n",
       "        vertical-align: middle;\n",
       "    }\n",
       "\n",
       "    .dataframe tbody tr th {\n",
       "        vertical-align: top;\n",
       "    }\n",
       "\n",
       "    .dataframe thead th {\n",
       "        text-align: right;\n",
       "    }\n",
       "</style>\n",
       "<table border=\"1\" class=\"dataframe\">\n",
       "  <thead>\n",
       "    <tr style=\"text-align: right;\">\n",
       "      <th></th>\n",
       "      <th>datetime</th>\n",
       "      <th>author</th>\n",
       "      <th>message</th>\n",
       "      <th>video_id</th>\n",
       "      <th>wordcount</th>\n",
       "    </tr>\n",
       "  </thead>\n",
       "  <tbody>\n",
       "    <tr>\n",
       "      <th>199995</th>\n",
       "      <td>2021-03-24 15:57:57</td>\n",
       "      <td>mm</td>\n",
       "      <td>@Xavier Cops 3 teams of bangladesh didnt quali...</td>\n",
       "      <td>AkgVf5rOhAQ</td>\n",
       "      <td>13</td>\n",
       "    </tr>\n",
       "    <tr>\n",
       "      <th>199996</th>\n",
       "      <td>2021-03-24 15:58:21</td>\n",
       "      <td>kk</td>\n",
       "      <td>gaypal and pookistani wait for super weekend u...</td>\n",
       "      <td>AkgVf5rOhAQ</td>\n",
       "      <td>13</td>\n",
       "    </tr>\n",
       "    <tr>\n",
       "      <th>199997</th>\n",
       "      <td>2021-03-24 15:57:58</td>\n",
       "      <td>kk</td>\n",
       "      <td>gaypal and pookistani wait for super weekend u...</td>\n",
       "      <td>AkgVf5rOhAQ</td>\n",
       "      <td>13</td>\n",
       "    </tr>\n",
       "    <tr>\n",
       "      <th>199998</th>\n",
       "      <td>2023-04-08 19:53:15</td>\n",
       "      <td>World History</td>\n",
       "      <td>bablu ko apna spot kisi achi team ko dena chah...</td>\n",
       "      <td>JGpPQjKScRE</td>\n",
       "      <td>13</td>\n",
       "    </tr>\n",
       "    <tr>\n",
       "      <th>199999</th>\n",
       "      <td>2022-10-15 14:51:12</td>\n",
       "      <td>PriNcE</td>\n",
       "      <td>Every Single Pak Team Have 20.ms :star_struck:...</td>\n",
       "      <td>_9a5F2DwY3Y</td>\n",
       "      <td>13</td>\n",
       "    </tr>\n",
       "  </tbody>\n",
       "</table>\n",
       "</div>"
      ],
      "text/plain": [
       "                   datetime          author  \\\n",
       "199995  2021-03-24 15:57:57              mm   \n",
       "199996  2021-03-24 15:58:21              kk   \n",
       "199997  2021-03-24 15:57:58              kk   \n",
       "199998  2023-04-08 19:53:15  World History    \n",
       "199999  2022-10-15 14:51:12          PriNcE   \n",
       "\n",
       "                                                  message     video_id  \\\n",
       "199995  @Xavier Cops 3 teams of bangladesh didnt quali...  AkgVf5rOhAQ   \n",
       "199996  gaypal and pookistani wait for super weekend u...  AkgVf5rOhAQ   \n",
       "199997  gaypal and pookistani wait for super weekend u...  AkgVf5rOhAQ   \n",
       "199998  bablu ko apna spot kisi achi team ko dena chah...  JGpPQjKScRE   \n",
       "199999  Every Single Pak Team Have 20.ms :star_struck:...  _9a5F2DwY3Y   \n",
       "\n",
       "        wordcount  \n",
       "199995         13  \n",
       "199996         13  \n",
       "199997         13  \n",
       "199998         13  \n",
       "199999         13  "
      ]
     },
     "execution_count": 11,
     "metadata": {},
     "output_type": "execute_result"
    }
   ],
   "source": [
    "filt['message'] = filt.message.progress_apply(replace_emoji_codes)\n",
    "\n",
    "# filt = filt[filt['wordcount'] >= 2]\n",
    "\n",
    "filt.tail()"
   ]
  },
  {
   "cell_type": "code",
   "execution_count": 12,
   "id": "cfaf9b09",
   "metadata": {
    "execution": {
     "iopub.execute_input": "2024-08-16T20:41:16.935603Z",
     "iopub.status.busy": "2024-08-16T20:41:16.935295Z",
     "iopub.status.idle": "2024-08-16T20:41:16.939795Z",
     "shell.execute_reply": "2024-08-16T20:41:16.938890Z"
    },
    "papermill": {
     "duration": 0.037191,
     "end_time": "2024-08-16T20:41:16.942003",
     "exception": false,
     "start_time": "2024-08-16T20:41:16.904812",
     "status": "completed"
    },
    "tags": []
   },
   "outputs": [
    {
     "name": "stdout",
     "output_type": "stream",
     "text": [
      "(3377028, 5)\n",
      "(200000, 5)\n"
     ]
    }
   ],
   "source": [
    "print(bdlc.shape)\n",
    "print(filt.shape)"
   ]
  },
  {
   "cell_type": "code",
   "execution_count": 13,
   "id": "97ba2886",
   "metadata": {
    "execution": {
     "iopub.execute_input": "2024-08-16T20:41:17.001943Z",
     "iopub.status.busy": "2024-08-16T20:41:17.001639Z",
     "iopub.status.idle": "2024-08-16T20:41:17.109873Z",
     "shell.execute_reply": "2024-08-16T20:41:17.109020Z"
    },
    "papermill": {
     "duration": 0.139953,
     "end_time": "2024-08-16T20:41:17.111810",
     "exception": false,
     "start_time": "2024-08-16T20:41:16.971857",
     "status": "completed"
    },
    "tags": []
   },
   "outputs": [
    {
     "data": {
      "text/plain": [
       "year\n",
       "2021    85638\n",
       "2022    62979\n",
       "2020    29631\n",
       "2023    20275\n",
       "2024     1477\n",
       "Name: count, dtype: int64"
      ]
     },
     "execution_count": 13,
     "metadata": {},
     "output_type": "execute_result"
    }
   ],
   "source": [
    "filt['datetime'] = pd.to_datetime(filt['datetime'])\n",
    "\n",
    "# Extract the year and create a new column 'year'\n",
    "filt['year'] = filt['datetime'].dt.year\n",
    "\n",
    "filt.year.value_counts()"
   ]
  },
  {
   "cell_type": "code",
   "execution_count": 14,
   "id": "c076479f",
   "metadata": {
    "execution": {
     "iopub.execute_input": "2024-08-16T20:41:17.170480Z",
     "iopub.status.busy": "2024-08-16T20:41:17.170163Z",
     "iopub.status.idle": "2024-08-16T20:41:17.175612Z",
     "shell.execute_reply": "2024-08-16T20:41:17.174782Z"
    },
    "papermill": {
     "duration": 0.037331,
     "end_time": "2024-08-16T20:41:17.177568",
     "exception": false,
     "start_time": "2024-08-16T20:41:17.140237",
     "status": "completed"
    },
    "tags": []
   },
   "outputs": [
    {
     "data": {
      "text/plain": [
       "18.28974117903714"
      ]
     },
     "execution_count": 14,
     "metadata": {},
     "output_type": "execute_result"
    }
   ],
   "source": [
    "(365532/1998563)*100"
   ]
  },
  {
   "cell_type": "code",
   "execution_count": 15,
   "id": "51ac16dd",
   "metadata": {
    "execution": {
     "iopub.execute_input": "2024-08-16T20:41:17.236106Z",
     "iopub.status.busy": "2024-08-16T20:41:17.235486Z",
     "iopub.status.idle": "2024-08-16T20:41:17.240683Z",
     "shell.execute_reply": "2024-08-16T20:41:17.239905Z"
    },
    "papermill": {
     "duration": 0.036636,
     "end_time": "2024-08-16T20:41:17.242646",
     "exception": false,
     "start_time": "2024-08-16T20:41:17.206010",
     "status": "completed"
    },
    "tags": []
   },
   "outputs": [
    {
     "data": {
      "text/plain": [
       "24.544"
      ]
     },
     "execution_count": 15,
     "metadata": {},
     "output_type": "execute_result"
    }
   ],
   "source": [
    "(24544/100000)*100"
   ]
  },
  {
   "cell_type": "code",
   "execution_count": 16,
   "id": "9e6b24e5",
   "metadata": {
    "execution": {
     "iopub.execute_input": "2024-08-16T20:41:17.301071Z",
     "iopub.status.busy": "2024-08-16T20:41:17.300829Z",
     "iopub.status.idle": "2024-08-16T20:41:17.304295Z",
     "shell.execute_reply": "2024-08-16T20:41:17.303449Z"
    },
    "papermill": {
     "duration": 0.034686,
     "end_time": "2024-08-16T20:41:17.306153",
     "exception": false,
     "start_time": "2024-08-16T20:41:17.271467",
     "status": "completed"
    },
    "tags": []
   },
   "outputs": [],
   "source": [
    "# tqdm.pandas()\n",
    "# filt['message'] = filt.message.progress_apply(replace_emoji_codes)\n",
    "# filt.head(2)"
   ]
  },
  {
   "cell_type": "code",
   "execution_count": 17,
   "id": "f3cabec0",
   "metadata": {
    "execution": {
     "iopub.execute_input": "2024-08-16T20:41:17.364688Z",
     "iopub.status.busy": "2024-08-16T20:41:17.364424Z",
     "iopub.status.idle": "2024-08-16T20:41:17.384744Z",
     "shell.execute_reply": "2024-08-16T20:41:17.383921Z"
    },
    "papermill": {
     "duration": 0.051823,
     "end_time": "2024-08-16T20:41:17.386629",
     "exception": false,
     "start_time": "2024-08-16T20:41:17.334806",
     "status": "completed"
    },
    "tags": []
   },
   "outputs": [
    {
     "data": {
      "text/plain": [
       "count    200000.000000\n",
       "mean         20.283345\n",
       "std           6.867918\n",
       "min          13.000000\n",
       "25%          15.000000\n",
       "50%          18.000000\n",
       "75%          23.000000\n",
       "max          67.000000\n",
       "Name: wordcount, dtype: float64"
      ]
     },
     "execution_count": 17,
     "metadata": {},
     "output_type": "execute_result"
    }
   ],
   "source": [
    "filt.wordcount.describe()"
   ]
  },
  {
   "cell_type": "code",
   "execution_count": 18,
   "id": "62fd9634",
   "metadata": {
    "execution": {
     "iopub.execute_input": "2024-08-16T20:41:17.446813Z",
     "iopub.status.busy": "2024-08-16T20:41:17.446516Z",
     "iopub.status.idle": "2024-08-16T20:41:17.450287Z",
     "shell.execute_reply": "2024-08-16T20:41:17.449458Z"
    },
    "papermill": {
     "duration": 0.03561,
     "end_time": "2024-08-16T20:41:17.452151",
     "exception": false,
     "start_time": "2024-08-16T20:41:17.416541",
     "status": "completed"
    },
    "tags": []
   },
   "outputs": [],
   "source": [
    "# filt['message'][61224]"
   ]
  },
  {
   "cell_type": "code",
   "execution_count": 19,
   "id": "6c9c4ef9",
   "metadata": {
    "execution": {
     "iopub.execute_input": "2024-08-16T20:41:17.511736Z",
     "iopub.status.busy": "2024-08-16T20:41:17.511103Z",
     "iopub.status.idle": "2024-08-16T20:41:20.889669Z",
     "shell.execute_reply": "2024-08-16T20:41:20.888564Z"
    },
    "papermill": {
     "duration": 3.410466,
     "end_time": "2024-08-16T20:41:20.891760",
     "exception": false,
     "start_time": "2024-08-16T20:41:17.481294",
     "status": "completed"
    },
    "tags": []
   },
   "outputs": [
    {
     "name": "stdout",
     "output_type": "stream",
     "text": [
      "True\n",
      "0\n",
      "Tesla T4\n"
     ]
    }
   ],
   "source": [
    "import torch\n",
    "print(torch.cuda.is_available())  # Should print True if GPU is available\n",
    "print(torch.cuda.current_device())  # Prints the ID of the current device\n",
    "print(torch.cuda.get_device_name(0))  # Prints the name of the GPU"
   ]
  },
  {
   "cell_type": "code",
   "execution_count": 20,
   "id": "59c6ec1d",
   "metadata": {
    "execution": {
     "iopub.execute_input": "2024-08-16T20:41:20.952550Z",
     "iopub.status.busy": "2024-08-16T20:41:20.952023Z",
     "iopub.status.idle": "2024-08-16T20:41:20.956255Z",
     "shell.execute_reply": "2024-08-16T20:41:20.955421Z"
    },
    "papermill": {
     "duration": 0.036291,
     "end_time": "2024-08-16T20:41:20.958083",
     "exception": false,
     "start_time": "2024-08-16T20:41:20.921792",
     "status": "completed"
    },
    "tags": []
   },
   "outputs": [],
   "source": [
    "model_path = 'cardiffnlp/twitter-roberta-base-sentiment-latest'"
   ]
  },
  {
   "cell_type": "code",
   "execution_count": 21,
   "id": "9d8b1a37",
   "metadata": {
    "execution": {
     "iopub.execute_input": "2024-08-16T20:41:21.078090Z",
     "iopub.status.busy": "2024-08-16T20:41:21.077745Z",
     "iopub.status.idle": "2024-08-16T20:41:38.818130Z",
     "shell.execute_reply": "2024-08-16T20:41:38.817239Z"
    },
    "papermill": {
     "duration": 17.776232,
     "end_time": "2024-08-16T20:41:38.820237",
     "exception": false,
     "start_time": "2024-08-16T20:41:21.044005",
     "status": "completed"
    },
    "tags": []
   },
   "outputs": [
    {
     "name": "stderr",
     "output_type": "stream",
     "text": [
      "2024-08-16 20:41:23.869856: E external/local_xla/xla/stream_executor/cuda/cuda_dnn.cc:9261] Unable to register cuDNN factory: Attempting to register factory for plugin cuDNN when one has already been registered\n",
      "2024-08-16 20:41:23.869964: E external/local_xla/xla/stream_executor/cuda/cuda_fft.cc:607] Unable to register cuFFT factory: Attempting to register factory for plugin cuFFT when one has already been registered\n",
      "2024-08-16 20:41:23.982993: E external/local_xla/xla/stream_executor/cuda/cuda_blas.cc:1515] Unable to register cuBLAS factory: Attempting to register factory for plugin cuBLAS when one has already been registered\n"
     ]
    },
    {
     "data": {
      "application/vnd.jupyter.widget-view+json": {
       "model_id": "c5dd646315184a70ad5721bcfe08e748",
       "version_major": 2,
       "version_minor": 0
      },
      "text/plain": [
       "config.json:   0%|          | 0.00/929 [00:00<?, ?B/s]"
      ]
     },
     "metadata": {},
     "output_type": "display_data"
    },
    {
     "data": {
      "application/vnd.jupyter.widget-view+json": {
       "model_id": "e71db46ebdb745839fda00b856e2cbb9",
       "version_major": 2,
       "version_minor": 0
      },
      "text/plain": [
       "pytorch_model.bin:   0%|          | 0.00/501M [00:00<?, ?B/s]"
      ]
     },
     "metadata": {},
     "output_type": "display_data"
    },
    {
     "name": "stderr",
     "output_type": "stream",
     "text": [
      "Some weights of the model checkpoint at cardiffnlp/twitter-roberta-base-sentiment-latest were not used when initializing RobertaForSequenceClassification: ['roberta.pooler.dense.bias', 'roberta.pooler.dense.weight']\n",
      "- This IS expected if you are initializing RobertaForSequenceClassification from the checkpoint of a model trained on another task or with another architecture (e.g. initializing a BertForSequenceClassification model from a BertForPreTraining model).\n",
      "- This IS NOT expected if you are initializing RobertaForSequenceClassification from the checkpoint of a model that you expect to be exactly identical (initializing a BertForSequenceClassification model from a BertForSequenceClassification model).\n"
     ]
    },
    {
     "data": {
      "application/vnd.jupyter.widget-view+json": {
       "model_id": "116f704235c74df08fc8f37795648df8",
       "version_major": 2,
       "version_minor": 0
      },
      "text/plain": [
       "vocab.json:   0%|          | 0.00/899k [00:00<?, ?B/s]"
      ]
     },
     "metadata": {},
     "output_type": "display_data"
    },
    {
     "data": {
      "application/vnd.jupyter.widget-view+json": {
       "model_id": "53eb9d682b454e7aaa9dbeea6cd2ae0c",
       "version_major": 2,
       "version_minor": 0
      },
      "text/plain": [
       "merges.txt:   0%|          | 0.00/456k [00:00<?, ?B/s]"
      ]
     },
     "metadata": {},
     "output_type": "display_data"
    },
    {
     "data": {
      "application/vnd.jupyter.widget-view+json": {
       "model_id": "93380fe6f6584aa4b3d2ff81c8936119",
       "version_major": 2,
       "version_minor": 0
      },
      "text/plain": [
       "special_tokens_map.json:   0%|          | 0.00/239 [00:00<?, ?B/s]"
      ]
     },
     "metadata": {},
     "output_type": "display_data"
    },
    {
     "data": {
      "text/plain": [
       "[{'label': 'negative', 'score': 0.7235766649246216}]"
      ]
     },
     "execution_count": 21,
     "metadata": {},
     "output_type": "execute_result"
    }
   ],
   "source": [
    "from transformers import pipeline\n",
    "sentiment_task = pipeline(\"sentiment-analysis\", model=model_path, tokenizer=model_path, device=0)\n",
    "sentiment_task(\"Covid cases are increasing fast!\")"
   ]
  },
  {
   "cell_type": "code",
   "execution_count": 22,
   "id": "5f3c1982",
   "metadata": {
    "execution": {
     "iopub.execute_input": "2024-08-16T20:41:38.883192Z",
     "iopub.status.busy": "2024-08-16T20:41:38.882359Z",
     "iopub.status.idle": "2024-08-16T20:41:38.919801Z",
     "shell.execute_reply": "2024-08-16T20:41:38.918843Z"
    },
    "papermill": {
     "duration": 0.071322,
     "end_time": "2024-08-16T20:41:38.921994",
     "exception": false,
     "start_time": "2024-08-16T20:41:38.850672",
     "status": "completed"
    },
    "tags": []
   },
   "outputs": [
    {
     "data": {
      "text/plain": [
       "'positive'"
      ]
     },
     "execution_count": 22,
     "metadata": {},
     "output_type": "execute_result"
    }
   ],
   "source": [
    "def make_pred(text):\n",
    "    try:\n",
    "        return sentiment_task(text)[0]['label']\n",
    "    except:\n",
    "        return 'neutral'\n",
    "make_pred('i love you.')"
   ]
  },
  {
   "cell_type": "code",
   "execution_count": 23,
   "id": "b389cee5",
   "metadata": {
    "execution": {
     "iopub.execute_input": "2024-08-16T20:41:38.985112Z",
     "iopub.status.busy": "2024-08-16T20:41:38.984414Z",
     "iopub.status.idle": "2024-08-16T20:41:39.004596Z",
     "shell.execute_reply": "2024-08-16T20:41:39.003677Z"
    },
    "papermill": {
     "duration": 0.053204,
     "end_time": "2024-08-16T20:41:39.006474",
     "exception": false,
     "start_time": "2024-08-16T20:41:38.953270",
     "status": "completed"
    },
    "tags": []
   },
   "outputs": [
    {
     "data": {
      "text/plain": [
       "'negative'"
      ]
     },
     "execution_count": 23,
     "metadata": {},
     "output_type": "execute_result"
    }
   ],
   "source": [
    "xt = filt['message'][6125]\n",
    "make_pred(xt)"
   ]
  },
  {
   "cell_type": "code",
   "execution_count": 24,
   "id": "e590d188",
   "metadata": {
    "execution": {
     "iopub.execute_input": "2024-08-16T20:41:39.069903Z",
     "iopub.status.busy": "2024-08-16T20:41:39.069588Z",
     "iopub.status.idle": "2024-08-16T21:19:41.973720Z",
     "shell.execute_reply": "2024-08-16T21:19:41.972734Z"
    },
    "papermill": {
     "duration": 2282.940449,
     "end_time": "2024-08-16T21:19:41.977308",
     "exception": false,
     "start_time": "2024-08-16T20:41:39.036859",
     "status": "completed"
    },
    "tags": []
   },
   "outputs": [
    {
     "name": "stderr",
     "output_type": "stream",
     "text": [
      "  0%|          | 6/200000 [00:00<57:47, 57.68it/s]You seem to be using the pipelines sequentially on GPU. In order to maximize efficiency please use a dataset\n",
      "100%|██████████| 200000/200000 [38:02<00:00, 87.61it/s]\n"
     ]
    }
   ],
   "source": [
    "filt['sentiment'] = filt.message.progress_apply(make_pred)"
   ]
  },
  {
   "cell_type": "code",
   "execution_count": 25,
   "id": "5878e7bc",
   "metadata": {
    "execution": {
     "iopub.execute_input": "2024-08-16T21:19:45.552976Z",
     "iopub.status.busy": "2024-08-16T21:19:45.552449Z",
     "iopub.status.idle": "2024-08-16T21:19:45.583549Z",
     "shell.execute_reply": "2024-08-16T21:19:45.582682Z"
    },
    "papermill": {
     "duration": 1.799424,
     "end_time": "2024-08-16T21:19:45.585503",
     "exception": false,
     "start_time": "2024-08-16T21:19:43.786079",
     "status": "completed"
    },
    "tags": []
   },
   "outputs": [
    {
     "data": {
      "text/plain": [
       "sentiment\n",
       "neutral     125484\n",
       "negative     42117\n",
       "positive     32399\n",
       "Name: count, dtype: int64"
      ]
     },
     "execution_count": 25,
     "metadata": {},
     "output_type": "execute_result"
    }
   ],
   "source": [
    "filt.sentiment.value_counts()"
   ]
  },
  {
   "cell_type": "code",
   "execution_count": 26,
   "id": "8d36b163",
   "metadata": {
    "execution": {
     "iopub.execute_input": "2024-08-16T21:19:49.157624Z",
     "iopub.status.busy": "2024-08-16T21:19:49.157222Z",
     "iopub.status.idle": "2024-08-16T21:19:49.172529Z",
     "shell.execute_reply": "2024-08-16T21:19:49.171551Z"
    },
    "papermill": {
     "duration": 1.80885,
     "end_time": "2024-08-16T21:19:49.174358",
     "exception": false,
     "start_time": "2024-08-16T21:19:47.365508",
     "status": "completed"
    },
    "tags": []
   },
   "outputs": [
    {
     "data": {
      "text/html": [
       "<div>\n",
       "<style scoped>\n",
       "    .dataframe tbody tr th:only-of-type {\n",
       "        vertical-align: middle;\n",
       "    }\n",
       "\n",
       "    .dataframe tbody tr th {\n",
       "        vertical-align: top;\n",
       "    }\n",
       "\n",
       "    .dataframe thead th {\n",
       "        text-align: right;\n",
       "    }\n",
       "</style>\n",
       "<table border=\"1\" class=\"dataframe\">\n",
       "  <thead>\n",
       "    <tr style=\"text-align: right;\">\n",
       "      <th></th>\n",
       "      <th>datetime</th>\n",
       "      <th>author</th>\n",
       "      <th>message</th>\n",
       "      <th>video_id</th>\n",
       "      <th>wordcount</th>\n",
       "      <th>year</th>\n",
       "      <th>sentiment</th>\n",
       "    </tr>\n",
       "  </thead>\n",
       "  <tbody>\n",
       "    <tr>\n",
       "      <th>199995</th>\n",
       "      <td>2021-03-24 15:57:57</td>\n",
       "      <td>mm</td>\n",
       "      <td>@Xavier Cops 3 teams of bangladesh didnt quali...</td>\n",
       "      <td>AkgVf5rOhAQ</td>\n",
       "      <td>13</td>\n",
       "      <td>2021</td>\n",
       "      <td>negative</td>\n",
       "    </tr>\n",
       "    <tr>\n",
       "      <th>199996</th>\n",
       "      <td>2021-03-24 15:58:21</td>\n",
       "      <td>kk</td>\n",
       "      <td>gaypal and pookistani wait for super weekend u...</td>\n",
       "      <td>AkgVf5rOhAQ</td>\n",
       "      <td>13</td>\n",
       "      <td>2021</td>\n",
       "      <td>neutral</td>\n",
       "    </tr>\n",
       "    <tr>\n",
       "      <th>199997</th>\n",
       "      <td>2021-03-24 15:57:58</td>\n",
       "      <td>kk</td>\n",
       "      <td>gaypal and pookistani wait for super weekend u...</td>\n",
       "      <td>AkgVf5rOhAQ</td>\n",
       "      <td>13</td>\n",
       "      <td>2021</td>\n",
       "      <td>neutral</td>\n",
       "    </tr>\n",
       "    <tr>\n",
       "      <th>199998</th>\n",
       "      <td>2023-04-08 19:53:15</td>\n",
       "      <td>World History</td>\n",
       "      <td>bablu ko apna spot kisi achi team ko dena chah...</td>\n",
       "      <td>JGpPQjKScRE</td>\n",
       "      <td>13</td>\n",
       "      <td>2023</td>\n",
       "      <td>neutral</td>\n",
       "    </tr>\n",
       "    <tr>\n",
       "      <th>199999</th>\n",
       "      <td>2022-10-15 14:51:12</td>\n",
       "      <td>PriNcE</td>\n",
       "      <td>Every Single Pak Team Have 20.ms :star_struck:...</td>\n",
       "      <td>_9a5F2DwY3Y</td>\n",
       "      <td>13</td>\n",
       "      <td>2022</td>\n",
       "      <td>positive</td>\n",
       "    </tr>\n",
       "  </tbody>\n",
       "</table>\n",
       "</div>"
      ],
      "text/plain": [
       "                  datetime          author  \\\n",
       "199995 2021-03-24 15:57:57              mm   \n",
       "199996 2021-03-24 15:58:21              kk   \n",
       "199997 2021-03-24 15:57:58              kk   \n",
       "199998 2023-04-08 19:53:15  World History    \n",
       "199999 2022-10-15 14:51:12          PriNcE   \n",
       "\n",
       "                                                  message     video_id  \\\n",
       "199995  @Xavier Cops 3 teams of bangladesh didnt quali...  AkgVf5rOhAQ   \n",
       "199996  gaypal and pookistani wait for super weekend u...  AkgVf5rOhAQ   \n",
       "199997  gaypal and pookistani wait for super weekend u...  AkgVf5rOhAQ   \n",
       "199998  bablu ko apna spot kisi achi team ko dena chah...  JGpPQjKScRE   \n",
       "199999  Every Single Pak Team Have 20.ms :star_struck:...  _9a5F2DwY3Y   \n",
       "\n",
       "        wordcount  year sentiment  \n",
       "199995         13  2021  negative  \n",
       "199996         13  2021   neutral  \n",
       "199997         13  2021   neutral  \n",
       "199998         13  2023   neutral  \n",
       "199999         13  2022  positive  "
      ]
     },
     "execution_count": 26,
     "metadata": {},
     "output_type": "execute_result"
    }
   ],
   "source": [
    "filt.tail()"
   ]
  },
  {
   "cell_type": "code",
   "execution_count": 27,
   "id": "0ac9010b",
   "metadata": {
    "execution": {
     "iopub.execute_input": "2024-08-16T21:19:52.727753Z",
     "iopub.status.busy": "2024-08-16T21:19:52.727403Z",
     "iopub.status.idle": "2024-08-16T21:19:52.731422Z",
     "shell.execute_reply": "2024-08-16T21:19:52.730528Z"
    },
    "papermill": {
     "duration": 1.840088,
     "end_time": "2024-08-16T21:19:52.733219",
     "exception": false,
     "start_time": "2024-08-16T21:19:50.893131",
     "status": "completed"
    },
    "tags": []
   },
   "outputs": [],
   "source": [
    "# make_pred('বালের খেলা করো। ফালতু যতসব। ')"
   ]
  },
  {
   "cell_type": "code",
   "execution_count": null,
   "id": "321f3a27",
   "metadata": {
    "papermill": {
     "duration": 1.779788,
     "end_time": "2024-08-16T21:19:56.299606",
     "exception": false,
     "start_time": "2024-08-16T21:19:54.519818",
     "status": "completed"
    },
    "tags": []
   },
   "outputs": [],
   "source": []
  },
  {
   "cell_type": "code",
   "execution_count": 28,
   "id": "a8d72a8e",
   "metadata": {
    "execution": {
     "iopub.execute_input": "2024-08-16T21:19:59.844499Z",
     "iopub.status.busy": "2024-08-16T21:19:59.844112Z",
     "iopub.status.idle": "2024-08-16T21:19:59.853166Z",
     "shell.execute_reply": "2024-08-16T21:19:59.852232Z"
    },
    "papermill": {
     "duration": 1.800623,
     "end_time": "2024-08-16T21:19:59.855182",
     "exception": false,
     "start_time": "2024-08-16T21:19:58.054559",
     "status": "completed"
    },
    "tags": []
   },
   "outputs": [
    {
     "data": {
      "text/plain": [
       "year\n",
       "2021    85638\n",
       "2022    62979\n",
       "2020    29631\n",
       "2023    20275\n",
       "2024     1477\n",
       "Name: count, dtype: int64"
      ]
     },
     "execution_count": 28,
     "metadata": {},
     "output_type": "execute_result"
    }
   ],
   "source": [
    "filt.year.value_counts()"
   ]
  },
  {
   "cell_type": "code",
   "execution_count": 29,
   "id": "25b10b02",
   "metadata": {
    "execution": {
     "iopub.execute_input": "2024-08-16T21:20:03.486220Z",
     "iopub.status.busy": "2024-08-16T21:20:03.485497Z",
     "iopub.status.idle": "2024-08-16T21:20:03.519610Z",
     "shell.execute_reply": "2024-08-16T21:20:03.518781Z"
    },
    "papermill": {
     "duration": 1.810939,
     "end_time": "2024-08-16T21:20:03.521771",
     "exception": false,
     "start_time": "2024-08-16T21:20:01.710832",
     "status": "completed"
    },
    "tags": []
   },
   "outputs": [],
   "source": [
    "grouped = filt.groupby(['year', 'sentiment']).size().unstack(fill_value=0)"
   ]
  },
  {
   "cell_type": "code",
   "execution_count": 30,
   "id": "c9d5bc03",
   "metadata": {
    "execution": {
     "iopub.execute_input": "2024-08-16T21:20:07.081909Z",
     "iopub.status.busy": "2024-08-16T21:20:07.081564Z",
     "iopub.status.idle": "2024-08-16T21:20:07.090447Z",
     "shell.execute_reply": "2024-08-16T21:20:07.089641Z"
    },
    "papermill": {
     "duration": 1.780583,
     "end_time": "2024-08-16T21:20:07.092287",
     "exception": false,
     "start_time": "2024-08-16T21:20:05.311704",
     "status": "completed"
    },
    "tags": []
   },
   "outputs": [
    {
     "data": {
      "text/html": [
       "<div>\n",
       "<style scoped>\n",
       "    .dataframe tbody tr th:only-of-type {\n",
       "        vertical-align: middle;\n",
       "    }\n",
       "\n",
       "    .dataframe tbody tr th {\n",
       "        vertical-align: top;\n",
       "    }\n",
       "\n",
       "    .dataframe thead th {\n",
       "        text-align: right;\n",
       "    }\n",
       "</style>\n",
       "<table border=\"1\" class=\"dataframe\">\n",
       "  <thead>\n",
       "    <tr style=\"text-align: right;\">\n",
       "      <th>sentiment</th>\n",
       "      <th>negative</th>\n",
       "      <th>neutral</th>\n",
       "      <th>positive</th>\n",
       "    </tr>\n",
       "    <tr>\n",
       "      <th>year</th>\n",
       "      <th></th>\n",
       "      <th></th>\n",
       "      <th></th>\n",
       "    </tr>\n",
       "  </thead>\n",
       "  <tbody>\n",
       "    <tr>\n",
       "      <th>2020</th>\n",
       "      <td>7762</td>\n",
       "      <td>18422</td>\n",
       "      <td>3447</td>\n",
       "    </tr>\n",
       "    <tr>\n",
       "      <th>2021</th>\n",
       "      <td>17988</td>\n",
       "      <td>52862</td>\n",
       "      <td>14788</td>\n",
       "    </tr>\n",
       "    <tr>\n",
       "      <th>2022</th>\n",
       "      <td>12066</td>\n",
       "      <td>40500</td>\n",
       "      <td>10413</td>\n",
       "    </tr>\n",
       "    <tr>\n",
       "      <th>2023</th>\n",
       "      <td>4049</td>\n",
       "      <td>12583</td>\n",
       "      <td>3643</td>\n",
       "    </tr>\n",
       "    <tr>\n",
       "      <th>2024</th>\n",
       "      <td>252</td>\n",
       "      <td>1117</td>\n",
       "      <td>108</td>\n",
       "    </tr>\n",
       "  </tbody>\n",
       "</table>\n",
       "</div>"
      ],
      "text/plain": [
       "sentiment  negative  neutral  positive\n",
       "year                                  \n",
       "2020           7762    18422      3447\n",
       "2021          17988    52862     14788\n",
       "2022          12066    40500     10413\n",
       "2023           4049    12583      3643\n",
       "2024            252     1117       108"
      ]
     },
     "execution_count": 30,
     "metadata": {},
     "output_type": "execute_result"
    }
   ],
   "source": [
    "grouped"
   ]
  },
  {
   "cell_type": "code",
   "execution_count": 31,
   "id": "e16919f3",
   "metadata": {
    "execution": {
     "iopub.execute_input": "2024-08-16T21:20:10.679412Z",
     "iopub.status.busy": "2024-08-16T21:20:10.679049Z",
     "iopub.status.idle": "2024-08-16T21:20:10.692992Z",
     "shell.execute_reply": "2024-08-16T21:20:10.691969Z"
    },
    "papermill": {
     "duration": 1.842377,
     "end_time": "2024-08-16T21:20:10.695222",
     "exception": false,
     "start_time": "2024-08-16T21:20:08.852845",
     "status": "completed"
    },
    "tags": []
   },
   "outputs": [
    {
     "data": {
      "text/html": [
       "<div>\n",
       "<style scoped>\n",
       "    .dataframe tbody tr th:only-of-type {\n",
       "        vertical-align: middle;\n",
       "    }\n",
       "\n",
       "    .dataframe tbody tr th {\n",
       "        vertical-align: top;\n",
       "    }\n",
       "\n",
       "    .dataframe thead th {\n",
       "        text-align: right;\n",
       "    }\n",
       "</style>\n",
       "<table border=\"1\" class=\"dataframe\">\n",
       "  <thead>\n",
       "    <tr style=\"text-align: right;\">\n",
       "      <th>sentiment</th>\n",
       "      <th>negative</th>\n",
       "      <th>neutral</th>\n",
       "      <th>positive</th>\n",
       "    </tr>\n",
       "    <tr>\n",
       "      <th>year</th>\n",
       "      <th></th>\n",
       "      <th></th>\n",
       "      <th></th>\n",
       "    </tr>\n",
       "  </thead>\n",
       "  <tbody>\n",
       "    <tr>\n",
       "      <th>2020</th>\n",
       "      <td>26.195538</td>\n",
       "      <td>62.171375</td>\n",
       "      <td>11.633087</td>\n",
       "    </tr>\n",
       "    <tr>\n",
       "      <th>2021</th>\n",
       "      <td>21.004694</td>\n",
       "      <td>61.727271</td>\n",
       "      <td>17.268035</td>\n",
       "    </tr>\n",
       "    <tr>\n",
       "      <th>2022</th>\n",
       "      <td>19.158767</td>\n",
       "      <td>64.307150</td>\n",
       "      <td>16.534083</td>\n",
       "    </tr>\n",
       "    <tr>\n",
       "      <th>2023</th>\n",
       "      <td>19.970407</td>\n",
       "      <td>62.061652</td>\n",
       "      <td>17.967941</td>\n",
       "    </tr>\n",
       "    <tr>\n",
       "      <th>2024</th>\n",
       "      <td>17.061611</td>\n",
       "      <td>75.626269</td>\n",
       "      <td>7.312119</td>\n",
       "    </tr>\n",
       "  </tbody>\n",
       "</table>\n",
       "</div>"
      ],
      "text/plain": [
       "sentiment   negative    neutral   positive\n",
       "year                                      \n",
       "2020       26.195538  62.171375  11.633087\n",
       "2021       21.004694  61.727271  17.268035\n",
       "2022       19.158767  64.307150  16.534083\n",
       "2023       19.970407  62.061652  17.967941\n",
       "2024       17.061611  75.626269   7.312119"
      ]
     },
     "execution_count": 31,
     "metadata": {},
     "output_type": "execute_result"
    }
   ],
   "source": [
    "grouped_percentage = grouped.div(grouped.sum(axis=1), axis=0) * 100\n",
    "grouped_percentage"
   ]
  },
  {
   "cell_type": "code",
   "execution_count": 32,
   "id": "37a355c5",
   "metadata": {
    "execution": {
     "iopub.execute_input": "2024-08-16T21:20:14.305638Z",
     "iopub.status.busy": "2024-08-16T21:20:14.304847Z",
     "iopub.status.idle": "2024-08-16T21:20:14.595043Z",
     "shell.execute_reply": "2024-08-16T21:20:14.594159Z"
    },
    "papermill": {
     "duration": 2.068326,
     "end_time": "2024-08-16T21:20:14.596964",
     "exception": false,
     "start_time": "2024-08-16T21:20:12.528638",
     "status": "completed"
    },
    "tags": []
   },
   "outputs": [
    {
     "data": {
      "image/png": "[encoded data removed]",
      "text/plain": [
       "<Figure size 640x480 with 1 Axes>"
      ]
     },
     "metadata": {},
     "output_type": "display_data"
    }
   ],
   "source": [
    "# Plotting the stacked bar chart\n",
    "grouped_percentage.plot(kind='barh', stacked=True)\n",
    "\n",
    "# Add labels and title\n",
    "plt.xlabel('Year')\n",
    "plt.ylabel('Count')\n",
    "# plt.title('Sentiment Distribution by Year')\n",
    "plt.legend(loc='upper center', bbox_to_anchor=(0.5, 1.12), ncol=2)\n",
    "\n",
    "# Display the plot\n",
    "plt.show()"
   ]
  },
  {
   "cell_type": "code",
   "execution_count": null,
   "id": "f452cb48",
   "metadata": {
    "papermill": {
     "duration": 1.765918,
     "end_time": "2024-08-16T21:20:18.061185",
     "exception": false,
     "start_time": "2024-08-16T21:20:16.295267",
     "status": "completed"
    },
    "tags": []
   },
   "outputs": [],
   "source": []
  },
  {
   "cell_type": "code",
   "execution_count": 33,
   "id": "fa9e3a82",
   "metadata": {
    "execution": {
     "iopub.execute_input": "2024-08-16T21:20:21.611170Z",
     "iopub.status.busy": "2024-08-16T21:20:21.610260Z",
     "iopub.status.idle": "2024-08-16T21:20:21.615022Z",
     "shell.execute_reply": "2024-08-16T21:20:21.614073Z"
    },
    "papermill": {
     "duration": 1.79319,
     "end_time": "2024-08-16T21:20:21.617090",
     "exception": false,
     "start_time": "2024-08-16T21:20:19.823900",
     "status": "completed"
    },
    "tags": []
   },
   "outputs": [],
   "source": [
    "# from transformers import pipeline\n",
    "# from datasets import Dataset\n",
    "# # import pandas as pd\n",
    "# # Example data\n",
    "# data = {\n",
    "#     'text': [\n",
    "#         \"Covid cases are increasing fast!\",\n",
    "#         \"I am feeling great today!\",\n",
    "#         \"This is a terrible situation.\",\n",
    "#         # Add more examples as needed\n",
    "#     ]\n",
    "# }\n",
    "# df = pd.DataFrame(data)\n",
    "# dataset = Dataset.from_pandas(df)\n",
    "\n",
    "# dataset"
   ]
  },
  {
   "cell_type": "code",
   "execution_count": 34,
   "id": "e3a413ca",
   "metadata": {
    "execution": {
     "iopub.execute_input": "2024-08-16T21:20:25.062982Z",
     "iopub.status.busy": "2024-08-16T21:20:25.062110Z",
     "iopub.status.idle": "2024-08-16T21:20:25.066342Z",
     "shell.execute_reply": "2024-08-16T21:20:25.065476Z"
    },
    "papermill": {
     "duration": 1.754333,
     "end_time": "2024-08-16T21:20:25.068133",
     "exception": false,
     "start_time": "2024-08-16T21:20:23.313800",
     "status": "completed"
    },
    "tags": []
   },
   "outputs": [],
   "source": [
    "\n",
    "# # Define the function to analyze sentiments\n",
    "# def analyze_sentiments(batch):\n",
    "#     results = sentiment_task(batch['message'])\n",
    "#     return {'sentiment': [result['label'] for result in results],\n",
    "#             'score': [result['score'] for result in results]}"
   ]
  },
  {
   "cell_type": "code",
   "execution_count": 35,
   "id": "c9882e3b",
   "metadata": {
    "execution": {
     "iopub.execute_input": "2024-08-16T21:20:28.583288Z",
     "iopub.status.busy": "2024-08-16T21:20:28.582905Z",
     "iopub.status.idle": "2024-08-16T21:20:28.587089Z",
     "shell.execute_reply": "2024-08-16T21:20:28.586256Z"
    },
    "papermill": {
     "duration": 1.757466,
     "end_time": "2024-08-16T21:20:28.589031",
     "exception": false,
     "start_time": "2024-08-16T21:20:26.831565",
     "status": "completed"
    },
    "tags": []
   },
   "outputs": [],
   "source": [
    "\n",
    "\n",
    "\n",
    "\n",
    "\n",
    "# # Apply sentiment analysis to the dataset\n",
    "# results_dataset = dataset.map(analyze_sentiments, batched=True)\n",
    "\n",
    "# # # Convert results to a DataFrame\n",
    "# results_df = pd.DataFrame(results_dataset)\n",
    "\n",
    "# # # Print results\n",
    "# # print(results_df.head())\n"
   ]
  },
  {
   "cell_type": "code",
   "execution_count": 36,
   "id": "2b92191e",
   "metadata": {
    "execution": {
     "iopub.execute_input": "2024-08-16T21:20:32.157393Z",
     "iopub.status.busy": "2024-08-16T21:20:32.157030Z",
     "iopub.status.idle": "2024-08-16T21:20:32.161157Z",
     "shell.execute_reply": "2024-08-16T21:20:32.160313Z"
    },
    "papermill": {
     "duration": 1.814189,
     "end_time": "2024-08-16T21:20:32.163119",
     "exception": false,
     "start_time": "2024-08-16T21:20:30.348930",
     "status": "completed"
    },
    "tags": []
   },
   "outputs": [],
   "source": [
    "# results_df"
   ]
  },
  {
   "cell_type": "code",
   "execution_count": 37,
   "id": "e7a4df35",
   "metadata": {
    "execution": {
     "iopub.execute_input": "2024-08-16T21:20:35.707365Z",
     "iopub.status.busy": "2024-08-16T21:20:35.706989Z",
     "iopub.status.idle": "2024-08-16T21:20:35.710902Z",
     "shell.execute_reply": "2024-08-16T21:20:35.710071Z"
    },
    "papermill": {
     "duration": 1.773647,
     "end_time": "2024-08-16T21:20:35.712774",
     "exception": false,
     "start_time": "2024-08-16T21:20:33.939127",
     "status": "completed"
    },
    "tags": []
   },
   "outputs": [],
   "source": [
    "# dataset = Dataset.from_pandas(filt)\n",
    "# dataset"
   ]
  },
  {
   "cell_type": "code",
   "execution_count": 38,
   "id": "112fc4bb",
   "metadata": {
    "execution": {
     "iopub.execute_input": "2024-08-16T21:20:39.262956Z",
     "iopub.status.busy": "2024-08-16T21:20:39.262624Z",
     "iopub.status.idle": "2024-08-16T21:20:39.266563Z",
     "shell.execute_reply": "2024-08-16T21:20:39.265727Z"
    },
    "papermill": {
     "duration": 1.775836,
     "end_time": "2024-08-16T21:20:39.268367",
     "exception": false,
     "start_time": "2024-08-16T21:20:37.492531",
     "status": "completed"
    },
    "tags": []
   },
   "outputs": [],
   "source": [
    "# results_dataset = dataset.map(analyze_sentiments, batched=True)"
   ]
  },
  {
   "cell_type": "code",
   "execution_count": null,
   "id": "df5c1525",
   "metadata": {
    "papermill": {
     "duration": 1.828894,
     "end_time": "2024-08-16T21:20:42.806923",
     "exception": false,
     "start_time": "2024-08-16T21:20:40.978029",
     "status": "completed"
    },
    "tags": []
   },
   "outputs": [],
   "source": []
  }
 ],
 "metadata": {
  "kaggle": {
   "accelerator": "nvidiaTeslaT4",
   "dataSources": [
    {
     "datasetId": 5528375,
     "sourceId": 9181722,
     "sourceType": "datasetVersion"
    }
   ],
   "dockerImageVersionId": 30747,
   "isGpuEnabled": true,
   "isInternetEnabled": true,
   "language": "python",
   "sourceType": "notebook"
  },
  "kernelspec": {
   "display_name": "Python 3",
   "language": "python",
   "name": "python3"
  },
  "language_info": {
   "codemirror_mode": {
    "name": "ipython",
    "version": 3
   },
   "file_extension": ".py",
   "mimetype": "text/x-python",
   "name": "python",
   "nbconvert_exporter": "python",
   "pygments_lexer": "ipython3",
   "version": "3.10.13"
  },
  "papermill": {
   "default_parameters": {},
   "duration": 2403.964689,
   "end_time": "2024-08-16T21:20:47.703045",
   "environment_variables": {},
   "exception": null,
   "input_path": "__notebook__.ipynb",
   "output_path": "__notebook__.ipynb",
   "parameters": {},
   "start_time": "2024-08-16T20:40:43.738356",
   "version": "2.5.0"
  },
  "widgets": {
   "application/vnd.jupyter.widget-state+json": {
    "state": {
     "00ccd4518fac4bf5a7adafd28a71f640": {
      "model_module": "@jupyter-widgets/controls",
      "model_module_version": "1.5.0",
      "model_name": "ProgressStyleModel",
      "state": {
       "_model_module": "@jupyter-widgets/controls",
       "_model_module_version": "1.5.0",
       "_model_name": "ProgressStyleModel",
       "_view_count": null,
       "_view_module": "@jupyter-widgets/base",
       "_view_module_version": "1.2.0",
       "_view_name": "StyleView",
       "bar_color": null,
       "description_width": ""
      }
     },
     "083962b046d8400aa072599bd4670099": {
      "model_module": "@jupyter-widgets/controls",
      "model_module_version": "1.5.0",
      "model_name": "HTMLModel",
      "state": {
       "_dom_classes": [],
       "_model_module": "@jupyter-widgets/controls",
       "_model_module_version": "1.5.0",
       "_model_name": "HTMLModel",
       "_view_count": null,
       "_view_module": "@jupyter-widgets/controls",
       "_view_module_version": "1.5.0",
       "_view_name": "HTMLView",
       "description": "",
       "description_tooltip": null,
       "layout": "IPY_MODEL_bfc8b0ff40394d009801c9be1fdc0152",
       "placeholder": "​",
       "style": "IPY_MODEL_76c85e5fec464672ae58a8208ca11607",
       "value": " 456k/456k [00:00&lt;00:00, 5.95MB/s]"
      }
     },
     "0d9ee150c04441668c7aba797d289f6e": {
      "model_module": "@jupyter-widgets/controls",
      "model_module_version": "1.5.0",
      "model_name": "HTMLModel",
      "state": {
       "_dom_classes": [],
       "_model_module": "@jupyter-widgets/controls",
       "_model_module_version": "1.5.0",
       "_model_name": "HTMLModel",
       "_view_count": null,
       "_view_module": "@jupyter-widgets/controls",
       "_view_module_version": "1.5.0",
       "_view_name": "HTMLView",
       "description": "",
       "description_tooltip": null,
       "layout": "IPY_MODEL_3158f303f788487d8a982f015e6310c4",
       "placeholder": "​",
       "style": "IPY_MODEL_aea1962f67ae4a3fa06d47d93fc3bb83",
       "value": "merges.txt: 100%"
      }
     },
     "116f704235c74df08fc8f37795648df8": {
      "model_module": "@jupyter-widgets/controls",
      "model_module_version": "1.5.0",
      "model_name": "HBoxModel",
      "state": {
       "_dom_classes": [],
       "_model_module": "@jupyter-widgets/controls",
       "_model_module_version": "1.5.0",
       "_model_name": "HBoxModel",
       "_view_count": null,
       "_view_module": "@jupyter-widgets/controls",
       "_view_module_version": "1.5.0",
       "_view_name": "HBoxView",
       "box_style": "",
       "children": [
        "IPY_MODEL_d7dd5689e15d448d9e2991f054b93be3",
        "IPY_MODEL_2b85ec3b74804444be5da2174e98553e",
        "IPY_MODEL_641f3686fbf84f029438266e2a56190b"
       ],
       "layout": "IPY_MODEL_3a750352dd6a4c14833c674b47662c66"
      }
     },
     "1bb6bc4f2b484a34b8009bfb1a2d69a2": {
      "model_module": "@jupyter-widgets/controls",
      "model_module_version": "1.5.0",
      "model_name": "DescriptionStyleModel",
      "state": {
       "_model_module": "@jupyter-widgets/controls",
       "_model_module_version": "1.5.0",
       "_model_name": "DescriptionStyleModel",
       "_view_count": null,
       "_view_module": "@jupyter-widgets/base",
       "_view_module_version": "1.2.0",
       "_view_name": "StyleView",
       "description_width": ""
      }
     },
     "1ffed1eed0d04b3593a966b8e4c47e03": {
      "model_module": "@jupyter-widgets/controls",
      "model_module_version": "1.5.0",
      "model_name": "FloatProgressModel",
      "state": {
       "_dom_classes": [],
       "_model_module": "@jupyter-widgets/controls",
       "_model_module_version": "1.5.0",
       "_model_name": "FloatProgressModel",
       "_view_count": null,
       "_view_module": "@jupyter-widgets/controls",
       "_view_module_version": "1.5.0",
       "_view_name": "ProgressView",
       "bar_style": "success",
       "description": "",
       "description_tooltip": null,
       "layout": "IPY_MODEL_594f920a8d4345c8b69de5d68a9b7f5f",
       "max": 456318.0,
       "min": 0.0,
       "orientation": "horizontal",
       "style": "IPY_MODEL_ada91ee7b4364610ac30bc828a4d0b32",
       "value": 456318.0
      }
     },
     "23a1fd34810e47feafb449907bfe3829": {
      "model_module": "@jupyter-widgets/base",
      "model_module_version": "1.2.0",
      "model_name": "LayoutModel",
      "state": {
       "_model_module": "@jupyter-widgets/base",
       "_model_module_version": "1.2.0",
       "_model_name": "LayoutModel",
       "_view_count": null,
       "_view_module": "@jupyter-widgets/base",
       "_view_module_version": "1.2.0",
       "_view_name": "LayoutView",
       "align_content": null,
       "align_items": null,
       "align_self": null,
       "border": null,
       "bottom": null,
       "display": null,
       "flex": null,
       "flex_flow": null,
       "grid_area": null,
       "grid_auto_columns": null,
       "grid_auto_flow": null,
       "grid_auto_rows": null,
       "grid_column": null,
       "grid_gap": null,
       "grid_row": null,
       "grid_template_areas": null,
       "grid_template_columns": null,
       "grid_template_rows": null,
       "height": null,
       "justify_content": null,
       "justify_items": null,
       "left": null,
       "margin": null,
       "max_height": null,
       "max_width": null,
       "min_height": null,
       "min_width": null,
       "object_fit": null,
       "object_position": null,
       "order": null,
       "overflow": null,
       "overflow_x": null,
       "overflow_y": null,
       "padding": null,
       "right": null,
       "top": null,
       "visibility": null,
       "width": null
      }
     },
     "288c5ebbb0874438aa26aaac4a1c16d4": {
      "model_module": "@jupyter-widgets/controls",
      "model_module_version": "1.5.0",
      "model_name": "DescriptionStyleModel",
      "state": {
       "_model_module": "@jupyter-widgets/controls",
       "_model_module_version": "1.5.0",
       "_model_name": "DescriptionStyleModel",
       "_view_count": null,
       "_view_module": "@jupyter-widgets/base",
       "_view_module_version": "1.2.0",
       "_view_name": "StyleView",
       "description_width": ""
      }
     },
     "28d025ba310c4be4808cf67fd652c433": {
      "model_module": "@jupyter-widgets/controls",
      "model_module_version": "1.5.0",
      "model_name": "DescriptionStyleModel",
      "state": {
       "_model_module": "@jupyter-widgets/controls",
       "_model_module_version": "1.5.0",
       "_model_name": "DescriptionStyleModel",
       "_view_count": null,
       "_view_module": "@jupyter-widgets/base",
       "_view_module_version": "1.2.0",
       "_view_name": "StyleView",
       "description_width": ""
      }
     },
     "2b85ec3b74804444be5da2174e98553e": {
      "model_module": "@jupyter-widgets/controls",
      "model_module_version": "1.5.0",
      "model_name": "FloatProgressModel",
      "state": {
       "_dom_classes": [],
       "_model_module": "@jupyter-widgets/controls",
       "_model_module_version": "1.5.0",
       "_model_name": "FloatProgressModel",
       "_view_count": null,
       "_view_module": "@jupyter-widgets/controls",
       "_view_module_version": "1.5.0",
       "_view_name": "ProgressView",
       "bar_style": "success",
       "description": "",
       "description_tooltip": null,
       "layout": "IPY_MODEL_339f414157354a6a93db588af20bcff5",
       "max": 898822.0,
       "min": 0.0,
       "orientation": "horizontal",
       "style": "IPY_MODEL_bd8bfd498a54433795b666525da9a703",
       "value": 898822.0
      }
     },
     "2f16ad4111a645a1b282548abe9d76b4": {
      "model_module": "@jupyter-widgets/base",
      "model_module_version": "1.2.0",
      "model_name": "LayoutModel",
      "state": {
       "_model_module": "@jupyter-widgets/base",
       "_model_module_version": "1.2.0",
       "_model_name": "LayoutModel",
       "_view_count": null,
       "_view_module": "@jupyter-widgets/base",
       "_view_module_version": "1.2.0",
       "_view_name": "LayoutView",
       "align_content": null,
       "align_items": null,
       "align_self": null,
       "border": null,
       "bottom": null,
       "display": null,
       "flex": null,
       "flex_flow": null,
       "grid_area": null,
       "grid_auto_columns": null,
       "grid_auto_flow": null,
       "grid_auto_rows": null,
       "grid_column": null,
       "grid_gap": null,
       "grid_row": null,
       "grid_template_areas": null,
       "grid_template_columns": null,
       "grid_template_rows": null,
       "height": null,
       "justify_content": null,
       "justify_items": null,
       "left": null,
       "margin": null,
       "max_height": null,
       "max_width": null,
       "min_height": null,
       "min_width": null,
       "object_fit": null,
       "object_position": null,
       "order": null,
       "overflow": null,
       "overflow_x": null,
       "overflow_y": null,
       "padding": null,
       "right": null,
       "top": null,
       "visibility": null,
       "width": null
      }
     },
     "3158f303f788487d8a982f015e6310c4": {
      "model_module": "@jupyter-widgets/base",
      "model_module_version": "1.2.0",
      "model_name": "LayoutModel",
      "state": {
       "_model_module": "@jupyter-widgets/base",
       "_model_module_version": "1.2.0",
       "_model_name": "LayoutModel",
       "_view_count": null,
       "_view_module": "@jupyter-widgets/base",
       "_view_module_version": "1.2.0",
       "_view_name": "LayoutView",
       "align_content": null,
       "align_items": null,
       "align_self": null,
       "border": null,
       "bottom": null,
       "display": null,
       "flex": null,
       "flex_flow": null,
       "grid_area": null,
       "grid_auto_columns": null,
       "grid_auto_flow": null,
       "grid_auto_rows": null,
       "grid_column": null,
       "grid_gap": null,
       "grid_row": null,
       "grid_template_areas": null,
       "grid_template_columns": null,
       "grid_template_rows": null,
       "height": null,
       "justify_content": null,
       "justify_items": null,
       "left": null,
       "margin": null,
       "max_height": null,
       "max_width": null,
       "min_height": null,
       "min_width": null,
       "object_fit": null,
       "object_position": null,
       "order": null,
       "overflow": null,
       "overflow_x": null,
       "overflow_y": null,
       "padding": null,
       "right": null,
       "top": null,
       "visibility": null,
       "width": null
      }
     },
     "339f414157354a6a93db588af20bcff5": {
      "model_module": "@jupyter-widgets/base",
      "model_module_version": "1.2.0",
      "model_name": "LayoutModel",
      "state": {
       "_model_module": "@jupyter-widgets/base",
       "_model_module_version": "1.2.0",
       "_model_name": "LayoutModel",
       "_view_count": null,
       "_view_module": "@jupyter-widgets/base",
       "_view_module_version": "1.2.0",
       "_view_name": "LayoutView",
       "align_content": null,
       "align_items": null,
       "align_self": null,
       "border": null,
       "bottom": null,
       "display": null,
       "flex": null,
       "flex_flow": null,
       "grid_area": null,
       "grid_auto_columns": null,
       "grid_auto_flow": null,
       "grid_auto_rows": null,
       "grid_column": null,
       "grid_gap": null,
       "grid_row": null,
       "grid_template_areas": null,
       "grid_template_columns": null,
       "grid_template_rows": null,
       "height": null,
       "justify_content": null,
       "justify_items": null,
       "left": null,
       "margin": null,
       "max_height": null,
       "max_width": null,
       "min_height": null,
       "min_width": null,
       "object_fit": null,
       "object_position": null,
       "order": null,
       "overflow": null,
       "overflow_x": null,
       "overflow_y": null,
       "padding": null,
       "right": null,
       "top": null,
       "visibility": null,
       "width": null
      }
     },
     "3a750352dd6a4c14833c674b47662c66": {
      "model_module": "@jupyter-widgets/base",
      "model_module_version": "1.2.0",
      "model_name": "LayoutModel",
      "state": {
       "_model_module": "@jupyter-widgets/base",
       "_model_module_version": "1.2.0",
       "_model_name": "LayoutModel",
       "_view_count": null,
       "_view_module": "@jupyter-widgets/base",
       "_view_module_version": "1.2.0",
       "_view_name": "LayoutView",
       "align_content": null,
       "align_items": null,
       "align_self": null,
       "border": null,
       "bottom": null,
       "display": null,
       "flex": null,
       "flex_flow": null,
       "grid_area": null,
       "grid_auto_columns": null,
       "grid_auto_flow": null,
       "grid_auto_rows": null,
       "grid_column": null,
       "grid_gap": null,
       "grid_row": null,
       "grid_template_areas": null,
       "grid_template_columns": null,
       "grid_template_rows": null,
       "height": null,
       "justify_content": null,
       "justify_items": null,
       "left": null,
       "margin": null,
       "max_height": null,
       "max_width": null,
       "min_height": null,
       "min_width": null,
       "object_fit": null,
       "object_position": null,
       "order": null,
       "overflow": null,
       "overflow_x": null,
       "overflow_y": null,
       "padding": null,
       "right": null,
       "top": null,
       "visibility": null,
       "width": null
      }
     },
     "410d32cb2abc4ed7aa096f5f2f350775": {
      "model_module": "@jupyter-widgets/base",
      "model_module_version": "1.2.0",
      "model_name": "LayoutModel",
      "state": {
       "_model_module": "@jupyter-widgets/base",
       "_model_module_version": "1.2.0",
       "_model_name": "LayoutModel",
       "_view_count": null,
       "_view_module": "@jupyter-widgets/base",
       "_view_module_version": "1.2.0",
       "_view_name": "LayoutView",
       "align_content": null,
       "align_items": null,
       "align_self": null,
       "border": null,
       "bottom": null,
       "display": null,
       "flex": null,
       "flex_flow": null,
       "grid_area": null,
       "grid_auto_columns": null,
       "grid_auto_flow": null,
       "grid_auto_rows": null,
       "grid_column": null,
       "grid_gap": null,
       "grid_row": null,
       "grid_template_areas": null,
       "grid_template_columns": null,
       "grid_template_rows": null,
       "height": null,
       "justify_content": null,
       "justify_items": null,
       "left": null,
       "margin": null,
       "max_height": null,
       "max_width": null,
       "min_height": null,
       "min_width": null,
       "object_fit": null,
       "object_position": null,
       "order": null,
       "overflow": null,
       "overflow_x": null,
       "overflow_y": null,
       "padding": null,
       "right": null,
       "top": null,
       "visibility": null,
       "width": null
      }
     },
     "44c657fa228445cebe7f94a0881fcac4": {
      "model_module": "@jupyter-widgets/base",
      "model_module_version": "1.2.0",
      "model_name": "LayoutModel",
      "state": {
       "_model_module": "@jupyter-widgets/base",
       "_model_module_version": "1.2.0",
       "_model_name": "LayoutModel",
       "_view_count": null,
       "_view_module": "@jupyter-widgets/base",
       "_view_module_version": "1.2.0",
       "_view_name": "LayoutView",
       "align_content": null,
       "align_items": null,
       "align_self": null,
       "border": null,
       "bottom": null,
       "display": null,
       "flex": null,
       "flex_flow": null,
       "grid_area": null,
       "grid_auto_columns": null,
       "grid_auto_flow": null,
       "grid_auto_rows": null,
       "grid_column": null,
       "grid_gap": null,
       "grid_row": null,
       "grid_template_areas": null,
       "grid_template_columns": null,
       "grid_template_rows": null,
       "height": null,
       "justify_content": null,
       "justify_items": null,
       "left": null,
       "margin": null,
       "max_height": null,
       "max_width": null,
       "min_height": null,
       "min_width": null,
       "object_fit": null,
       "object_position": null,
       "order": null,
       "overflow": null,
       "overflow_x": null,
       "overflow_y": null,
       "padding": null,
       "right": null,
       "top": null,
       "visibility": null,
       "width": null
      }
     },
     "4641fc2e4c084a64a8c2d1a093e97670": {
      "model_module": "@jupyter-widgets/controls",
      "model_module_version": "1.5.0",
      "model_name": "ProgressStyleModel",
      "state": {
       "_model_module": "@jupyter-widgets/controls",
       "_model_module_version": "1.5.0",
       "_model_name": "ProgressStyleModel",
       "_view_count": null,
       "_view_module": "@jupyter-widgets/base",
       "_view_module_version": "1.2.0",
       "_view_name": "StyleView",
       "bar_color": null,
       "description_width": ""
      }
     },
     "53eb9d682b454e7aaa9dbeea6cd2ae0c": {
      "model_module": "@jupyter-widgets/controls",
      "model_module_version": "1.5.0",
      "model_name": "HBoxModel",
      "state": {
       "_dom_classes": [],
       "_model_module": "@jupyter-widgets/controls",
       "_model_module_version": "1.5.0",
       "_model_name": "HBoxModel",
       "_view_count": null,
       "_view_module": "@jupyter-widgets/controls",
       "_view_module_version": "1.5.0",
       "_view_name": "HBoxView",
       "box_style": "",
       "children": [
        "IPY_MODEL_0d9ee150c04441668c7aba797d289f6e",
        "IPY_MODEL_1ffed1eed0d04b3593a966b8e4c47e03",
        "IPY_MODEL_083962b046d8400aa072599bd4670099"
       ],
       "layout": "IPY_MODEL_7ecc37da9c814453a241259c35425f43"
      }
     },
     "551976be1cf74fc096e3884446d0d3c3": {
      "model_module": "@jupyter-widgets/base",
      "model_module_version": "1.2.0",
      "model_name": "LayoutModel",
      "state": {
       "_model_module": "@jupyter-widgets/base",
       "_model_module_version": "1.2.0",
       "_model_name": "LayoutModel",
       "_view_count": null,
       "_view_module": "@jupyter-widgets/base",
       "_view_module_version": "1.2.0",
       "_view_name": "LayoutView",
       "align_content": null,
       "align_items": null,
       "align_self": null,
       "border": null,
       "bottom": null,
       "display": null,
       "flex": null,
       "flex_flow": null,
       "grid_area": null,
       "grid_auto_columns": null,
       "grid_auto_flow": null,
       "grid_auto_rows": null,
       "grid_column": null,
       "grid_gap": null,
       "grid_row": null,
       "grid_template_areas": null,
       "grid_template_columns": null,
       "grid_template_rows": null,
       "height": null,
       "justify_content": null,
       "justify_items": null,
       "left": null,
       "margin": null,
       "max_height": null,
       "max_width": null,
       "min_height": null,
       "min_width": null,
       "object_fit": null,
       "object_position": null,
       "order": null,
       "overflow": null,
       "overflow_x": null,
       "overflow_y": null,
       "padding": null,
       "right": null,
       "top": null,
       "visibility": null,
       "width": null
      }
     },
     "594f920a8d4345c8b69de5d68a9b7f5f": {
      "model_module": "@jupyter-widgets/base",
      "model_module_version": "1.2.0",
      "model_name": "LayoutModel",
      "state": {
       "_model_module": "@jupyter-widgets/base",
       "_model_module_version": "1.2.0",
       "_model_name": "LayoutModel",
       "_view_count": null,
       "_view_module": "@jupyter-widgets/base",
       "_view_module_version": "1.2.0",
       "_view_name": "LayoutView",
       "align_content": null,
       "align_items": null,
       "align_self": null,
       "border": null,
       "bottom": null,
       "display": null,
       "flex": null,
       "flex_flow": null,
       "grid_area": null,
       "grid_auto_columns": null,
       "grid_auto_flow": null,
       "grid_auto_rows": null,
       "grid_column": null,
       "grid_gap": null,
       "grid_row": null,
       "grid_template_areas": null,
       "grid_template_columns": null,
       "grid_template_rows": null,
       "height": null,
       "justify_content": null,
       "justify_items": null,
       "left": null,
       "margin": null,
       "max_height": null,
       "max_width": null,
       "min_height": null,
       "min_width": null,
       "object_fit": null,
       "object_position": null,
       "order": null,
       "overflow": null,
       "overflow_x": null,
       "overflow_y": null,
       "padding": null,
       "right": null,
       "top": null,
       "visibility": null,
       "width": null
      }
     },
     "5f75431596f8420ea267e6ccf2f0fb9d": {
      "model_module": "@jupyter-widgets/controls",
      "model_module_version": "1.5.0",
      "model_name": "ProgressStyleModel",
      "state": {
       "_model_module": "@jupyter-widgets/controls",
       "_model_module_version": "1.5.0",
       "_model_name": "ProgressStyleModel",
       "_view_count": null,
       "_view_module": "@jupyter-widgets/base",
       "_view_module_version": "1.2.0",
       "_view_name": "StyleView",
       "bar_color": null,
       "description_width": ""
      }
     },
     "641f3686fbf84f029438266e2a56190b": {
      "model_module": "@jupyter-widgets/controls",
      "model_module_version": "1.5.0",
      "model_name": "HTMLModel",
      "state": {
       "_dom_classes": [],
       "_model_module": "@jupyter-widgets/controls",
       "_model_module_version": "1.5.0",
       "_model_name": "HTMLModel",
       "_view_count": null,
       "_view_module": "@jupyter-widgets/controls",
       "_view_module_version": "1.5.0",
       "_view_name": "HTMLView",
       "description": "",
       "description_tooltip": null,
       "layout": "IPY_MODEL_eb25442590c74fe8893a6f273d4a3078",
       "placeholder": "​",
       "style": "IPY_MODEL_28d025ba310c4be4808cf67fd652c433",
       "value": " 899k/899k [00:00&lt;00:00, 6.36MB/s]"
      }
     },
     "68da15feca1145d894a056ff0239ca64": {
      "model_module": "@jupyter-widgets/controls",
      "model_module_version": "1.5.0",
      "model_name": "FloatProgressModel",
      "state": {
       "_dom_classes": [],
       "_model_module": "@jupyter-widgets/controls",
       "_model_module_version": "1.5.0",
       "_model_name": "FloatProgressModel",
       "_view_count": null,
       "_view_module": "@jupyter-widgets/controls",
       "_view_module_version": "1.5.0",
       "_view_name": "ProgressView",
       "bar_style": "success",
       "description": "",
       "description_tooltip": null,
       "layout": "IPY_MODEL_6a94e780b1e1425486fa25795ea1a1dc",
       "max": 501045531.0,
       "min": 0.0,
       "orientation": "horizontal",
       "style": "IPY_MODEL_5f75431596f8420ea267e6ccf2f0fb9d",
       "value": 501045531.0
      }
     },
     "6a94e780b1e1425486fa25795ea1a1dc": {
      "model_module": "@jupyter-widgets/base",
      "model_module_version": "1.2.0",
      "model_name": "LayoutModel",
      "state": {
       "_model_module": "@jupyter-widgets/base",
       "_model_module_version": "1.2.0",
       "_model_name": "LayoutModel",
       "_view_count": null,
       "_view_module": "@jupyter-widgets/base",
       "_view_module_version": "1.2.0",
       "_view_name": "LayoutView",
       "align_content": null,
       "align_items": null,
       "align_self": null,
       "border": null,
       "bottom": null,
       "display": null,
       "flex": null,
       "flex_flow": null,
       "grid_area": null,
       "grid_auto_columns": null,
       "grid_auto_flow": null,
       "grid_auto_rows": null,
       "grid_column": null,
       "grid_gap": null,
       "grid_row": null,
       "grid_template_areas": null,
       "grid_template_columns": null,
       "grid_template_rows": null,
       "height": null,
       "justify_content": null,
       "justify_items": null,
       "left": null,
       "margin": null,
       "max_height": null,
       "max_width": null,
       "min_height": null,
       "min_width": null,
       "object_fit": null,
       "object_position": null,
       "order": null,
       "overflow": null,
       "overflow_x": null,
       "overflow_y": null,
       "padding": null,
       "right": null,
       "top": null,
       "visibility": null,
       "width": null
      }
     },
     "76c85e5fec464672ae58a8208ca11607": {
      "model_module": "@jupyter-widgets/controls",
      "model_module_version": "1.5.0",
      "model_name": "DescriptionStyleModel",
      "state": {
       "_model_module": "@jupyter-widgets/controls",
       "_model_module_version": "1.5.0",
       "_model_name": "DescriptionStyleModel",
       "_view_count": null,
       "_view_module": "@jupyter-widgets/base",
       "_view_module_version": "1.2.0",
       "_view_name": "StyleView",
       "description_width": ""
      }
     },
     "7ecc37da9c814453a241259c35425f43": {
      "model_module": "@jupyter-widgets/base",
      "model_module_version": "1.2.0",
      "model_name": "LayoutModel",
      "state": {
       "_model_module": "@jupyter-widgets/base",
       "_model_module_version": "1.2.0",
       "_model_name": "LayoutModel",
       "_view_count": null,
       "_view_module": "@jupyter-widgets/base",
       "_view_module_version": "1.2.0",
       "_view_name": "LayoutView",
       "align_content": null,
       "align_items": null,
       "align_self": null,
       "border": null,
       "bottom": null,
       "display": null,
       "flex": null,
       "flex_flow": null,
       "grid_area": null,
       "grid_auto_columns": null,
       "grid_auto_flow": null,
       "grid_auto_rows": null,
       "grid_column": null,
       "grid_gap": null,
       "grid_row": null,
       "grid_template_areas": null,
       "grid_template_columns": null,
       "grid_template_rows": null,
       "height": null,
       "justify_content": null,
       "justify_items": null,
       "left": null,
       "margin": null,
       "max_height": null,
       "max_width": null,
       "min_height": null,
       "min_width": null,
       "object_fit": null,
       "object_position": null,
       "order": null,
       "overflow": null,
       "overflow_x": null,
       "overflow_y": null,
       "padding": null,
       "right": null,
       "top": null,
       "visibility": null,
       "width": null
      }
     },
     "835c79ebb28b420aa28fe0ba2c0380b3": {
      "model_module": "@jupyter-widgets/controls",
      "model_module_version": "1.5.0",
      "model_name": "DescriptionStyleModel",
      "state": {
       "_model_module": "@jupyter-widgets/controls",
       "_model_module_version": "1.5.0",
       "_model_name": "DescriptionStyleModel",
       "_view_count": null,
       "_view_module": "@jupyter-widgets/base",
       "_view_module_version": "1.2.0",
       "_view_name": "StyleView",
       "description_width": ""
      }
     },
     "8959bdea949f49cdb7394777e453ebbc": {
      "model_module": "@jupyter-widgets/controls",
      "model_module_version": "1.5.0",
      "model_name": "FloatProgressModel",
      "state": {
       "_dom_classes": [],
       "_model_module": "@jupyter-widgets/controls",
       "_model_module_version": "1.5.0",
       "_model_name": "FloatProgressModel",
       "_view_count": null,
       "_view_module": "@jupyter-widgets/controls",
       "_view_module_version": "1.5.0",
       "_view_name": "ProgressView",
       "bar_style": "success",
       "description": "",
       "description_tooltip": null,
       "layout": "IPY_MODEL_c79e6342f42b434799336740ec3a8258",
       "max": 239.0,
       "min": 0.0,
       "orientation": "horizontal",
       "style": "IPY_MODEL_00ccd4518fac4bf5a7adafd28a71f640",
       "value": 239.0
      }
     },
     "93380fe6f6584aa4b3d2ff81c8936119": {
      "model_module": "@jupyter-widgets/controls",
      "model_module_version": "1.5.0",
      "model_name": "HBoxModel",
      "state": {
       "_dom_classes": [],
       "_model_module": "@jupyter-widgets/controls",
       "_model_module_version": "1.5.0",
       "_model_name": "HBoxModel",
       "_view_count": null,
       "_view_module": "@jupyter-widgets/controls",
       "_view_module_version": "1.5.0",
       "_view_name": "HBoxView",
       "box_style": "",
       "children": [
        "IPY_MODEL_c7019a9d5a3b45a0ad1f771524b053dd",
        "IPY_MODEL_8959bdea949f49cdb7394777e453ebbc",
        "IPY_MODEL_bb7fa908ea7041d9a30f6bb536e3d766"
       ],
       "layout": "IPY_MODEL_551976be1cf74fc096e3884446d0d3c3"
      }
     },
     "991470acfad34fa99867a11b5ab8ce51": {
      "model_module": "@jupyter-widgets/base",
      "model_module_version": "1.2.0",
      "model_name": "LayoutModel",
      "state": {
       "_model_module": "@jupyter-widgets/base",
       "_model_module_version": "1.2.0",
       "_model_name": "LayoutModel",
       "_view_count": null,
       "_view_module": "@jupyter-widgets/base",
       "_view_module_version": "1.2.0",
       "_view_name": "LayoutView",
       "align_content": null,
       "align_items": null,
       "align_self": null,
       "border": null,
       "bottom": null,
       "display": null,
       "flex": null,
       "flex_flow": null,
       "grid_area": null,
       "grid_auto_columns": null,
       "grid_auto_flow": null,
       "grid_auto_rows": null,
       "grid_column": null,
       "grid_gap": null,
       "grid_row": null,
       "grid_template_areas": null,
       "grid_template_columns": null,
       "grid_template_rows": null,
       "height": null,
       "justify_content": null,
       "justify_items": null,
       "left": null,
       "margin": null,
       "max_height": null,
       "max_width": null,
       "min_height": null,
       "min_width": null,
       "object_fit": null,
       "object_position": null,
       "order": null,
       "overflow": null,
       "overflow_x": null,
       "overflow_y": null,
       "padding": null,
       "right": null,
       "top": null,
       "visibility": null,
       "width": null
      }
     },
     "a46be423b5e342b1831e528e0b7ae5d5": {
      "model_module": "@jupyter-widgets/base",
      "model_module_version": "1.2.0",
      "model_name": "LayoutModel",
      "state": {
       "_model_module": "@jupyter-widgets/base",
       "_model_module_version": "1.2.0",
       "_model_name": "LayoutModel",
       "_view_count": null,
       "_view_module": "@jupyter-widgets/base",
       "_view_module_version": "1.2.0",
       "_view_name": "LayoutView",
       "align_content": null,
       "align_items": null,
       "align_self": null,
       "border": null,
       "bottom": null,
       "display": null,
       "flex": null,
       "flex_flow": null,
       "grid_area": null,
       "grid_auto_columns": null,
       "grid_auto_flow": null,
       "grid_auto_rows": null,
       "grid_column": null,
       "grid_gap": null,
       "grid_row": null,
       "grid_template_areas": null,
       "grid_template_columns": null,
       "grid_template_rows": null,
       "height": null,
       "justify_content": null,
       "justify_items": null,
       "left": null,
       "margin": null,
       "max_height": null,
       "max_width": null,
       "min_height": null,
       "min_width": null,
       "object_fit": null,
       "object_position": null,
       "order": null,
       "overflow": null,
       "overflow_x": null,
       "overflow_y": null,
       "padding": null,
       "right": null,
       "top": null,
       "visibility": null,
       "width": null
      }
     },
     "a68d3c7345274cb194b697c9fc1b6392": {
      "model_module": "@jupyter-widgets/base",
      "model_module_version": "1.2.0",
      "model_name": "LayoutModel",
      "state": {
       "_model_module": "@jupyter-widgets/base",
       "_model_module_version": "1.2.0",
       "_model_name": "LayoutModel",
       "_view_count": null,
       "_view_module": "@jupyter-widgets/base",
       "_view_module_version": "1.2.0",
       "_view_name": "LayoutView",
       "align_content": null,
       "align_items": null,
       "align_self": null,
       "border": null,
       "bottom": null,
       "display": null,
       "flex": null,
       "flex_flow": null,
       "grid_area": null,
       "grid_auto_columns": null,
       "grid_auto_flow": null,
       "grid_auto_rows": null,
       "grid_column": null,
       "grid_gap": null,
       "grid_row": null,
       "grid_template_areas": null,
       "grid_template_columns": null,
       "grid_template_rows": null,
       "height": null,
       "justify_content": null,
       "justify_items": null,
       "left": null,
       "margin": null,
       "max_height": null,
       "max_width": null,
       "min_height": null,
       "min_width": null,
       "object_fit": null,
       "object_position": null,
       "order": null,
       "overflow": null,
       "overflow_x": null,
       "overflow_y": null,
       "padding": null,
       "right": null,
       "top": null,
       "visibility": null,
       "width": null
      }
     },
     "a86060b4e663406f9aca1a686f61773c": {
      "model_module": "@jupyter-widgets/base",
      "model_module_version": "1.2.0",
      "model_name": "LayoutModel",
      "state": {
       "_model_module": "@jupyter-widgets/base",
       "_model_module_version": "1.2.0",
       "_model_name": "LayoutModel",
       "_view_count": null,
       "_view_module": "@jupyter-widgets/base",
       "_view_module_version": "1.2.0",
       "_view_name": "LayoutView",
       "align_content": null,
       "align_items": null,
       "align_self": null,
       "border": null,
       "bottom": null,
       "display": null,
       "flex": null,
       "flex_flow": null,
       "grid_area": null,
       "grid_auto_columns": null,
       "grid_auto_flow": null,
       "grid_auto_rows": null,
       "grid_column": null,
       "grid_gap": null,
       "grid_row": null,
       "grid_template_areas": null,
       "grid_template_columns": null,
       "grid_template_rows": null,
       "height": null,
       "justify_content": null,
       "justify_items": null,
       "left": null,
       "margin": null,
       "max_height": null,
       "max_width": null,
       "min_height": null,
       "min_width": null,
       "object_fit": null,
       "object_position": null,
       "order": null,
       "overflow": null,
       "overflow_x": null,
       "overflow_y": null,
       "padding": null,
       "right": null,
       "top": null,
       "visibility": null,
       "width": null
      }
     },
     "ada91ee7b4364610ac30bc828a4d0b32": {
      "model_module": "@jupyter-widgets/controls",
      "model_module_version": "1.5.0",
      "model_name": "ProgressStyleModel",
      "state": {
       "_model_module": "@jupyter-widgets/controls",
       "_model_module_version": "1.5.0",
       "_model_name": "ProgressStyleModel",
       "_view_count": null,
       "_view_module": "@jupyter-widgets/base",
       "_view_module_version": "1.2.0",
       "_view_name": "StyleView",
       "bar_color": null,
       "description_width": ""
      }
     },
     "aea1962f67ae4a3fa06d47d93fc3bb83": {
      "model_module": "@jupyter-widgets/controls",
      "model_module_version": "1.5.0",
      "model_name": "DescriptionStyleModel",
      "state": {
       "_model_module": "@jupyter-widgets/controls",
       "_model_module_version": "1.5.0",
       "_model_name": "DescriptionStyleModel",
       "_view_count": null,
       "_view_module": "@jupyter-widgets/base",
       "_view_module_version": "1.2.0",
       "_view_name": "StyleView",
       "description_width": ""
      }
     },
     "b52b75b7d2644b1eb38f118b6a66b9d3": {
      "model_module": "@jupyter-widgets/controls",
      "model_module_version": "1.5.0",
      "model_name": "HTMLModel",
      "state": {
       "_dom_classes": [],
       "_model_module": "@jupyter-widgets/controls",
       "_model_module_version": "1.5.0",
       "_model_name": "HTMLModel",
       "_view_count": null,
       "_view_module": "@jupyter-widgets/controls",
       "_view_module_version": "1.5.0",
       "_view_name": "HTMLView",
       "description": "",
       "description_tooltip": null,
       "layout": "IPY_MODEL_a68d3c7345274cb194b697c9fc1b6392",
       "placeholder": "​",
       "style": "IPY_MODEL_c1bc6f6d83ac4d2582382d4968339a08",
       "value": "config.json: 100%"
      }
     },
     "b67b29211db2408ea55cfb249d795ce8": {
      "model_module": "@jupyter-widgets/controls",
      "model_module_version": "1.5.0",
      "model_name": "HTMLModel",
      "state": {
       "_dom_classes": [],
       "_model_module": "@jupyter-widgets/controls",
       "_model_module_version": "1.5.0",
       "_model_name": "HTMLModel",
       "_view_count": null,
       "_view_module": "@jupyter-widgets/controls",
       "_view_module_version": "1.5.0",
       "_view_name": "HTMLView",
       "description": "",
       "description_tooltip": null,
       "layout": "IPY_MODEL_a46be423b5e342b1831e528e0b7ae5d5",
       "placeholder": "​",
       "style": "IPY_MODEL_bfc943dc59804fa48abcfa6f1d172cc7",
       "value": "pytorch_model.bin: 100%"
      }
     },
     "bb7fa908ea7041d9a30f6bb536e3d766": {
      "model_module": "@jupyter-widgets/controls",
      "model_module_version": "1.5.0",
      "model_name": "HTMLModel",
      "state": {
       "_dom_classes": [],
       "_model_module": "@jupyter-widgets/controls",
       "_model_module_version": "1.5.0",
       "_model_name": "HTMLModel",
       "_view_count": null,
       "_view_module": "@jupyter-widgets/controls",
       "_view_module_version": "1.5.0",
       "_view_name": "HTMLView",
       "description": "",
       "description_tooltip": null,
       "layout": "IPY_MODEL_44c657fa228445cebe7f94a0881fcac4",
       "placeholder": "​",
       "style": "IPY_MODEL_288c5ebbb0874438aa26aaac4a1c16d4",
       "value": " 239/239 [00:00&lt;00:00, 19.9kB/s]"
      }
     },
     "bd8bfd498a54433795b666525da9a703": {
      "model_module": "@jupyter-widgets/controls",
      "model_module_version": "1.5.0",
      "model_name": "ProgressStyleModel",
      "state": {
       "_model_module": "@jupyter-widgets/controls",
       "_model_module_version": "1.5.0",
       "_model_name": "ProgressStyleModel",
       "_view_count": null,
       "_view_module": "@jupyter-widgets/base",
       "_view_module_version": "1.2.0",
       "_view_name": "StyleView",
       "bar_color": null,
       "description_width": ""
      }
     },
     "bfc8b0ff40394d009801c9be1fdc0152": {
      "model_module": "@jupyter-widgets/base",
      "model_module_version": "1.2.0",
      "model_name": "LayoutModel",
      "state": {
       "_model_module": "@jupyter-widgets/base",
       "_model_module_version": "1.2.0",
       "_model_name": "LayoutModel",
       "_view_count": null,
       "_view_module": "@jupyter-widgets/base",
       "_view_module_version": "1.2.0",
       "_view_name": "LayoutView",
       "align_content": null,
       "align_items": null,
       "align_self": null,
       "border": null,
       "bottom": null,
       "display": null,
       "flex": null,
       "flex_flow": null,
       "grid_area": null,
       "grid_auto_columns": null,
       "grid_auto_flow": null,
       "grid_auto_rows": null,
       "grid_column": null,
       "grid_gap": null,
       "grid_row": null,
       "grid_template_areas": null,
       "grid_template_columns": null,
       "grid_template_rows": null,
       "height": null,
       "justify_content": null,
       "justify_items": null,
       "left": null,
       "margin": null,
       "max_height": null,
       "max_width": null,
       "min_height": null,
       "min_width": null,
       "object_fit": null,
       "object_position": null,
       "order": null,
       "overflow": null,
       "overflow_x": null,
       "overflow_y": null,
       "padding": null,
       "right": null,
       "top": null,
       "visibility": null,
       "width": null
      }
     },
     "bfc943dc59804fa48abcfa6f1d172cc7": {
      "model_module": "@jupyter-widgets/controls",
      "model_module_version": "1.5.0",
      "model_name": "DescriptionStyleModel",
      "state": {
       "_model_module": "@jupyter-widgets/controls",
       "_model_module_version": "1.5.0",
       "_model_name": "DescriptionStyleModel",
       "_view_count": null,
       "_view_module": "@jupyter-widgets/base",
       "_view_module_version": "1.2.0",
       "_view_name": "StyleView",
       "description_width": ""
      }
     },
     "c1bc6f6d83ac4d2582382d4968339a08": {
      "model_module": "@jupyter-widgets/controls",
      "model_module_version": "1.5.0",
      "model_name": "DescriptionStyleModel",
      "state": {
       "_model_module": "@jupyter-widgets/controls",
       "_model_module_version": "1.5.0",
       "_model_name": "DescriptionStyleModel",
       "_view_count": null,
       "_view_module": "@jupyter-widgets/base",
       "_view_module_version": "1.2.0",
       "_view_name": "StyleView",
       "description_width": ""
      }
     },
     "c1f2368fcbcf43fd89f7d799c6444aeb": {
      "model_module": "@jupyter-widgets/controls",
      "model_module_version": "1.5.0",
      "model_name": "HTMLModel",
      "state": {
       "_dom_classes": [],
       "_model_module": "@jupyter-widgets/controls",
       "_model_module_version": "1.5.0",
       "_model_name": "HTMLModel",
       "_view_count": null,
       "_view_module": "@jupyter-widgets/controls",
       "_view_module_version": "1.5.0",
       "_view_name": "HTMLView",
       "description": "",
       "description_tooltip": null,
       "layout": "IPY_MODEL_ead2198025b341e6a94ca1ba023d68c7",
       "placeholder": "​",
       "style": "IPY_MODEL_cdb3dad145ee4a1793359aa7b625f478",
       "value": " 929/929 [00:00&lt;00:00, 88.6kB/s]"
      }
     },
     "c5dd646315184a70ad5721bcfe08e748": {
      "model_module": "@jupyter-widgets/controls",
      "model_module_version": "1.5.0",
      "model_name": "HBoxModel",
      "state": {
       "_dom_classes": [],
       "_model_module": "@jupyter-widgets/controls",
       "_model_module_version": "1.5.0",
       "_model_name": "HBoxModel",
       "_view_count": null,
       "_view_module": "@jupyter-widgets/controls",
       "_view_module_version": "1.5.0",
       "_view_name": "HBoxView",
       "box_style": "",
       "children": [
        "IPY_MODEL_b52b75b7d2644b1eb38f118b6a66b9d3",
        "IPY_MODEL_e74752bdba354dad95c4d21b3529dab1",
        "IPY_MODEL_c1f2368fcbcf43fd89f7d799c6444aeb"
       ],
       "layout": "IPY_MODEL_2f16ad4111a645a1b282548abe9d76b4"
      }
     },
     "c7019a9d5a3b45a0ad1f771524b053dd": {
      "model_module": "@jupyter-widgets/controls",
      "model_module_version": "1.5.0",
      "model_name": "HTMLModel",
      "state": {
       "_dom_classes": [],
       "_model_module": "@jupyter-widgets/controls",
       "_model_module_version": "1.5.0",
       "_model_name": "HTMLModel",
       "_view_count": null,
       "_view_module": "@jupyter-widgets/controls",
       "_view_module_version": "1.5.0",
       "_view_name": "HTMLView",
       "description": "",
       "description_tooltip": null,
       "layout": "IPY_MODEL_410d32cb2abc4ed7aa096f5f2f350775",
       "placeholder": "​",
       "style": "IPY_MODEL_1bb6bc4f2b484a34b8009bfb1a2d69a2",
       "value": "special_tokens_map.json: 100%"
      }
     },
     "c79e6342f42b434799336740ec3a8258": {
      "model_module": "@jupyter-widgets/base",
      "model_module_version": "1.2.0",
      "model_name": "LayoutModel",
      "state": {
       "_model_module": "@jupyter-widgets/base",
       "_model_module_version": "1.2.0",
       "_model_name": "LayoutModel",
       "_view_count": null,
       "_view_module": "@jupyter-widgets/base",
       "_view_module_version": "1.2.0",
       "_view_name": "LayoutView",
       "align_content": null,
       "align_items": null,
       "align_self": null,
       "border": null,
       "bottom": null,
       "display": null,
       "flex": null,
       "flex_flow": null,
       "grid_area": null,
       "grid_auto_columns": null,
       "grid_auto_flow": null,
       "grid_auto_rows": null,
       "grid_column": null,
       "grid_gap": null,
       "grid_row": null,
       "grid_template_areas": null,
       "grid_template_columns": null,
       "grid_template_rows": null,
       "height": null,
       "justify_content": null,
       "justify_items": null,
       "left": null,
       "margin": null,
       "max_height": null,
       "max_width": null,
       "min_height": null,
       "min_width": null,
       "object_fit": null,
       "object_position": null,
       "order": null,
       "overflow": null,
       "overflow_x": null,
       "overflow_y": null,
       "padding": null,
       "right": null,
       "top": null,
       "visibility": null,
       "width": null
      }
     },
     "cdb3dad145ee4a1793359aa7b625f478": {
      "model_module": "@jupyter-widgets/controls",
      "model_module_version": "1.5.0",
      "model_name": "DescriptionStyleModel",
      "state": {
       "_model_module": "@jupyter-widgets/controls",
       "_model_module_version": "1.5.0",
       "_model_name": "DescriptionStyleModel",
       "_view_count": null,
       "_view_module": "@jupyter-widgets/base",
       "_view_module_version": "1.2.0",
       "_view_name": "StyleView",
       "description_width": ""
      }
     },
     "d7dd5689e15d448d9e2991f054b93be3": {
      "model_module": "@jupyter-widgets/controls",
      "model_module_version": "1.5.0",
      "model_name": "HTMLModel",
      "state": {
       "_dom_classes": [],
       "_model_module": "@jupyter-widgets/controls",
       "_model_module_version": "1.5.0",
       "_model_name": "HTMLModel",
       "_view_count": null,
       "_view_module": "@jupyter-widgets/controls",
       "_view_module_version": "1.5.0",
       "_view_name": "HTMLView",
       "description": "",
       "description_tooltip": null,
       "layout": "IPY_MODEL_a86060b4e663406f9aca1a686f61773c",
       "placeholder": "​",
       "style": "IPY_MODEL_e42ae863ff2e4e5fae31fb366bc26d08",
       "value": "vocab.json: 100%"
      }
     },
     "e01ad9b60b9e423890f56ded0dcb3580": {
      "model_module": "@jupyter-widgets/base",
      "model_module_version": "1.2.0",
      "model_name": "LayoutModel",
      "state": {
       "_model_module": "@jupyter-widgets/base",
       "_model_module_version": "1.2.0",
       "_model_name": "LayoutModel",
       "_view_count": null,
       "_view_module": "@jupyter-widgets/base",
       "_view_module_version": "1.2.0",
       "_view_name": "LayoutView",
       "align_content": null,
       "align_items": null,
       "align_self": null,
       "border": null,
       "bottom": null,
       "display": null,
       "flex": null,
       "flex_flow": null,
       "grid_area": null,
       "grid_auto_columns": null,
       "grid_auto_flow": null,
       "grid_auto_rows": null,
       "grid_column": null,
       "grid_gap": null,
       "grid_row": null,
       "grid_template_areas": null,
       "grid_template_columns": null,
       "grid_template_rows": null,
       "height": null,
       "justify_content": null,
       "justify_items": null,
       "left": null,
       "margin": null,
       "max_height": null,
       "max_width": null,
       "min_height": null,
       "min_width": null,
       "object_fit": null,
       "object_position": null,
       "order": null,
       "overflow": null,
       "overflow_x": null,
       "overflow_y": null,
       "padding": null,
       "right": null,
       "top": null,
       "visibility": null,
       "width": null
      }
     },
     "e42ae863ff2e4e5fae31fb366bc26d08": {
      "model_module": "@jupyter-widgets/controls",
      "model_module_version": "1.5.0",
      "model_name": "DescriptionStyleModel",
      "state": {
       "_model_module": "@jupyter-widgets/controls",
       "_model_module_version": "1.5.0",
       "_model_name": "DescriptionStyleModel",
       "_view_count": null,
       "_view_module": "@jupyter-widgets/base",
       "_view_module_version": "1.2.0",
       "_view_name": "StyleView",
       "description_width": ""
      }
     },
     "e71db46ebdb745839fda00b856e2cbb9": {
      "model_module": "@jupyter-widgets/controls",
      "model_module_version": "1.5.0",
      "model_name": "HBoxModel",
      "state": {
       "_dom_classes": [],
       "_model_module": "@jupyter-widgets/controls",
       "_model_module_version": "1.5.0",
       "_model_name": "HBoxModel",
       "_view_count": null,
       "_view_module": "@jupyter-widgets/controls",
       "_view_module_version": "1.5.0",
       "_view_name": "HBoxView",
       "box_style": "",
       "children": [
        "IPY_MODEL_b67b29211db2408ea55cfb249d795ce8",
        "IPY_MODEL_68da15feca1145d894a056ff0239ca64",
        "IPY_MODEL_f2dd9207f266406bbd5333220ea0cc4a"
       ],
       "layout": "IPY_MODEL_23a1fd34810e47feafb449907bfe3829"
      }
     },
     "e74752bdba354dad95c4d21b3529dab1": {
      "model_module": "@jupyter-widgets/controls",
      "model_module_version": "1.5.0",
      "model_name": "FloatProgressModel",
      "state": {
       "_dom_classes": [],
       "_model_module": "@jupyter-widgets/controls",
       "_model_module_version": "1.5.0",
       "_model_name": "FloatProgressModel",
       "_view_count": null,
       "_view_module": "@jupyter-widgets/controls",
       "_view_module_version": "1.5.0",
       "_view_name": "ProgressView",
       "bar_style": "success",
       "description": "",
       "description_tooltip": null,
       "layout": "IPY_MODEL_e01ad9b60b9e423890f56ded0dcb3580",
       "max": 929.0,
       "min": 0.0,
       "orientation": "horizontal",
       "style": "IPY_MODEL_4641fc2e4c084a64a8c2d1a093e97670",
       "value": 929.0
      }
     },
     "ead2198025b341e6a94ca1ba023d68c7": {
      "model_module": "@jupyter-widgets/base",
      "model_module_version": "1.2.0",
      "model_name": "LayoutModel",
      "state": {
       "_model_module": "@jupyter-widgets/base",
       "_model_module_version": "1.2.0",
       "_model_name": "LayoutModel",
       "_view_count": null,
       "_view_module": "@jupyter-widgets/base",
       "_view_module_version": "1.2.0",
       "_view_name": "LayoutView",
       "align_content": null,
       "align_items": null,
       "align_self": null,
       "border": null,
       "bottom": null,
       "display": null,
       "flex": null,
       "flex_flow": null,
       "grid_area": null,
       "grid_auto_columns": null,
       "grid_auto_flow": null,
       "grid_auto_rows": null,
       "grid_column": null,
       "grid_gap": null,
       "grid_row": null,
       "grid_template_areas": null,
       "grid_template_columns": null,
       "grid_template_rows": null,
       "height": null,
       "justify_content": null,
       "justify_items": null,
       "left": null,
       "margin": null,
       "max_height": null,
       "max_width": null,
       "min_height": null,
       "min_width": null,
       "object_fit": null,
       "object_position": null,
       "order": null,
       "overflow": null,
       "overflow_x": null,
       "overflow_y": null,
       "padding": null,
       "right": null,
       "top": null,
       "visibility": null,
       "width": null
      }
     },
     "eb25442590c74fe8893a6f273d4a3078": {
      "model_module": "@jupyter-widgets/base",
      "model_module_version": "1.2.0",
      "model_name": "LayoutModel",
      "state": {
       "_model_module": "@jupyter-widgets/base",
       "_model_module_version": "1.2.0",
       "_model_name": "LayoutModel",
       "_view_count": null,
       "_view_module": "@jupyter-widgets/base",
       "_view_module_version": "1.2.0",
       "_view_name": "LayoutView",
       "align_content": null,
       "align_items": null,
       "align_self": null,
       "border": null,
       "bottom": null,
       "display": null,
       "flex": null,
       "flex_flow": null,
       "grid_area": null,
       "grid_auto_columns": null,
       "grid_auto_flow": null,
       "grid_auto_rows": null,
       "grid_column": null,
       "grid_gap": null,
       "grid_row": null,
       "grid_template_areas": null,
       "grid_template_columns": null,
       "grid_template_rows": null,
       "height": null,
       "justify_content": null,
       "justify_items": null,
       "left": null,
       "margin": null,
       "max_height": null,
       "max_width": null,
       "min_height": null,
       "min_width": null,
       "object_fit": null,
       "object_position": null,
       "order": null,
       "overflow": null,
       "overflow_x": null,
       "overflow_y": null,
       "padding": null,
       "right": null,
       "top": null,
       "visibility": null,
       "width": null
      }
     },
     "f2dd9207f266406bbd5333220ea0cc4a": {
      "model_module": "@jupyter-widgets/controls",
      "model_module_version": "1.5.0",
      "model_name": "HTMLModel",
      "state": {
       "_dom_classes": [],
       "_model_module": "@jupyter-widgets/controls",
       "_model_module_version": "1.5.0",
       "_model_name": "HTMLModel",
       "_view_count": null,
       "_view_module": "@jupyter-widgets/controls",
       "_view_module_version": "1.5.0",
       "_view_name": "HTMLView",
       "description": "",
       "description_tooltip": null,
       "layout": "IPY_MODEL_991470acfad34fa99867a11b5ab8ce51",
       "placeholder": "​",
       "style": "IPY_MODEL_835c79ebb28b420aa28fe0ba2c0380b3",
       "value": " 501M/501M [00:02&lt;00:00, 210MB/s]"
      }
     }
    },
    "version_major": 2,
    "version_minor": 0
   }
  }
 },
 "nbformat": 4,
 "nbformat_minor": 5
}
