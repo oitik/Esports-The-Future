{
 "cells": [
  {
   "cell_type": "code",
   "execution_count": 1,
   "id": "8e0eed94",
   "metadata": {
    "_cell_guid": "b1076dfc-b9ad-4769-8c92-a6c4dae69d19",
    "_uuid": "8f2839f25d086af736a60e9eeb907d3b93b6e0e5",
    "execution": {
     "iopub.execute_input": "2024-08-16T05:22:57.161613Z",
     "iopub.status.busy": "2024-08-16T05:22:57.161252Z",
     "iopub.status.idle": "2024-08-16T05:23:00.843760Z",
     "shell.execute_reply": "2024-08-16T05:23:00.842817Z"
    },
    "papermill": {
     "duration": 3.695823,
     "end_time": "2024-08-16T05:23:00.846159",
     "exception": false,
     "start_time": "2024-08-16T05:22:57.150336",
     "status": "completed"
    },
    "tags": []
   },
   "outputs": [],
   "source": [
    "# Regular EDA(exploratory data analysis) and plotting libraries\n",
    "import numpy as np\n",
    "import pandas as pd\n",
    "import matplotlib.pyplot as plt\n",
    "import seaborn as sns\n",
    "from sklearn.model_selection import train_test_split\n",
    "%matplotlib inline\n",
    "\n",
    "from tqdm import tqdm\n",
    "import string\n",
    "import statistics\n",
    "import re\n",
    "import joblib\n",
    "import random\n",
    "import statistics\n",
    "from collections import Counter\n",
    "from scipy import stats\n",
    "import os\n",
    "# import seaborn as sns\n",
    "from mpl_toolkits.mplot3d import Axes3D\n",
    "from sklearn.metrics.pairwise import cosine_similarity\n",
    "import zipfile\n",
    "from matplotlib.lines import Line2D\n",
    "import warnings"
   ]
  },
  {
   "cell_type": "code",
   "execution_count": 2,
   "id": "96eb63bb",
   "metadata": {
    "execution": {
     "iopub.execute_input": "2024-08-16T05:23:00.865274Z",
     "iopub.status.busy": "2024-08-16T05:23:00.864859Z",
     "iopub.status.idle": "2024-08-16T05:23:00.868963Z",
     "shell.execute_reply": "2024-08-16T05:23:00.868121Z"
    },
    "papermill": {
     "duration": 0.015618,
     "end_time": "2024-08-16T05:23:00.870921",
     "exception": false,
     "start_time": "2024-08-16T05:23:00.855303",
     "status": "completed"
    },
    "tags": []
   },
   "outputs": [],
   "source": [
    "warnings.filterwarnings('ignore')"
   ]
  },
  {
   "cell_type": "code",
   "execution_count": 3,
   "id": "958ab108",
   "metadata": {
    "execution": {
     "iopub.execute_input": "2024-08-16T05:23:00.889328Z",
     "iopub.status.busy": "2024-08-16T05:23:00.889085Z",
     "iopub.status.idle": "2024-08-16T05:23:28.033454Z",
     "shell.execute_reply": "2024-08-16T05:23:28.032467Z"
    },
    "papermill": {
     "duration": 27.156246,
     "end_time": "2024-08-16T05:23:28.035922",
     "exception": false,
     "start_time": "2024-08-16T05:23:00.879676",
     "status": "completed"
    },
    "tags": []
   },
   "outputs": [],
   "source": [
    "bdlc = pd.read_parquet('/kaggle/input/esports-data/live_comments_2/bangladesh_livechat_data.parquet')\n",
    "brlc = pd.read_parquet('/kaggle/input/esports-data/live_comments_2/brasil_livechat_data.parquet')\n",
    "idlc = pd.read_parquet('/kaggle/input/esports-data/live_comments_2/indonesia_livechat_data.parquet')\n",
    "mllc = pd.read_parquet('/kaggle/input/esports-data/live_comments_2/malaysia_livechat_data.parquet')\n",
    "\n",
    "pklc = pd.read_parquet('/kaggle/input/esports-data/live_comments_2/pakistan_livechat_data.parquet')\n",
    "indlc = pd.read_parquet('/kaggle/input/esports-data/live_comments/india_livechat_data.parquet')\n",
    "ind2lc = pd.read_parquet('/kaggle/input/esports-data/live_comments/indiav2_livechat_data.parquet')\n",
    "trlc = pd.read_parquet('/kaggle/input/esports-data/live_comments/turkey_livechat_data.parquet')\n",
    "vnlc = pd.read_parquet('/kaggle/input/esports-data/live_comments/vietnam_livechat_data.parquet')"
   ]
  },
  {
   "cell_type": "code",
   "execution_count": 4,
   "id": "c09dcceb",
   "metadata": {
    "execution": {
     "iopub.execute_input": "2024-08-16T05:23:28.055848Z",
     "iopub.status.busy": "2024-08-16T05:23:28.055195Z",
     "iopub.status.idle": "2024-08-16T05:23:28.638205Z",
     "shell.execute_reply": "2024-08-16T05:23:28.637252Z"
    },
    "papermill": {
     "duration": 0.594922,
     "end_time": "2024-08-16T05:23:28.640291",
     "exception": false,
     "start_time": "2024-08-16T05:23:28.045369",
     "status": "completed"
    },
    "tags": []
   },
   "outputs": [],
   "source": [
    "inlc = pd.concat([indlc, ind2lc], ignore_index=True)"
   ]
  },
  {
   "cell_type": "code",
   "execution_count": 5,
   "id": "c6af0857",
   "metadata": {
    "execution": {
     "iopub.execute_input": "2024-08-16T05:23:28.659673Z",
     "iopub.status.busy": "2024-08-16T05:23:28.659007Z",
     "iopub.status.idle": "2024-08-16T05:23:28.665051Z",
     "shell.execute_reply": "2024-08-16T05:23:28.664283Z"
    },
    "papermill": {
     "duration": 0.01762,
     "end_time": "2024-08-16T05:23:28.667050",
     "exception": false,
     "start_time": "2024-08-16T05:23:28.649430",
     "status": "completed"
    },
    "tags": []
   },
   "outputs": [
    {
     "name": "stdout",
     "output_type": "stream",
     "text": [
      "Length of bdlc: 2.80M\n",
      "Length of idlc: 6.97M\n",
      "Length of mllc: 3.25M\n",
      "Length of pklc: 3.38M\n",
      "Length of inlc: 9.13M\n",
      "Length of vnlc: 1.41M\n",
      "Total is 26.94M\n",
      "Total in crore 2.69Corer\n"
     ]
    }
   ],
   "source": [
    "dfs_lc = ['bdlc', 'idlc', 'mllc', 'pklc', 'inlc', 'vnlc']\n",
    "sm = 0\n",
    "for df_name in dfs_lc:\n",
    "    df = globals()[df_name]\n",
    "    print(f\"Length of {df_name}: {len(df)/1e6:.2f}M\")\n",
    "    sm+=len(df)\n",
    "\n",
    "print(f'Total is {sm/1e6:.2f}M')\n",
    "print(f'Total in crore {sm/1e7:.2f}Corer')"
   ]
  },
  {
   "cell_type": "markdown",
   "id": "b48db354",
   "metadata": {
    "papermill": {
     "duration": 0.008585,
     "end_time": "2024-08-16T05:23:28.685103",
     "exception": false,
     "start_time": "2024-08-16T05:23:28.676518",
     "status": "completed"
    },
    "tags": []
   },
   "source": [
    "## Bangladesh"
   ]
  },
  {
   "cell_type": "code",
   "execution_count": 6,
   "id": "5b4211d9",
   "metadata": {
    "execution": {
     "iopub.execute_input": "2024-08-16T05:23:28.704749Z",
     "iopub.status.busy": "2024-08-16T05:23:28.704272Z",
     "iopub.status.idle": "2024-08-16T05:23:28.772738Z",
     "shell.execute_reply": "2024-08-16T05:23:28.771920Z"
    },
    "papermill": {
     "duration": 0.079822,
     "end_time": "2024-08-16T05:23:28.774688",
     "exception": false,
     "start_time": "2024-08-16T05:23:28.694866",
     "status": "completed"
    },
    "tags": []
   },
   "outputs": [
    {
     "name": "stdout",
     "output_type": "stream",
     "text": [
      "A1 ❤️ A1 ❤️\n"
     ]
    }
   ],
   "source": [
    "import emoji\n",
    "\n",
    "def replace_emoji_codes(text):\n",
    "    \"\"\"\n",
    "    Replace text-based emoji codes with actual emojis using the `emoji` library.\n",
    "\n",
    "    Parameters:\n",
    "    - text (str): The input text containing emoji codes.\n",
    "\n",
    "    Returns:\n",
    "    - str: The text with emoji codes replaced by actual emojis.\n",
    "    \"\"\"\n",
    "    # Convert text-based emoji codes to actual emojis\n",
    "    return emoji.emojize(text)\n",
    "\n",
    "# Example usage\n",
    "text = \"A1 :red_heart: A1 :red_heart:\"\n",
    "converted_text = replace_emoji_codes(text)\n",
    "print(converted_text)  # Output: \"A1 ❤️ A1 ❤️\"\n",
    "\n",
    "import re\n",
    "\n",
    "def count_words(text):\n",
    "    # Remove punctuations using regular expression\n",
    "    text_without_punctuations = re.sub(r'[^\\w\\s]', '', text)\n",
    "\n",
    "    # Split the text into words based on whitespace characters\n",
    "    words = text_without_punctuations.split()\n",
    "\n",
    "    # Get the number of words\n",
    "    word_length = len(words)\n",
    "\n",
    "    return word_length\n"
   ]
  },
  {
   "cell_type": "code",
   "execution_count": 7,
   "id": "89d95813",
   "metadata": {
    "execution": {
     "iopub.execute_input": "2024-08-16T05:23:28.793656Z",
     "iopub.status.busy": "2024-08-16T05:23:28.793024Z",
     "iopub.status.idle": "2024-08-16T05:23:28.797231Z",
     "shell.execute_reply": "2024-08-16T05:23:28.796450Z"
    },
    "papermill": {
     "duration": 0.015555,
     "end_time": "2024-08-16T05:23:28.799096",
     "exception": false,
     "start_time": "2024-08-16T05:23:28.783541",
     "status": "completed"
    },
    "tags": []
   },
   "outputs": [],
   "source": [
    "tqdm.pandas()"
   ]
  },
  {
   "cell_type": "code",
   "execution_count": 8,
   "id": "0cf09d13",
   "metadata": {
    "execution": {
     "iopub.execute_input": "2024-08-16T05:23:28.819547Z",
     "iopub.status.busy": "2024-08-16T05:23:28.819018Z",
     "iopub.status.idle": "2024-08-16T05:24:20.395083Z",
     "shell.execute_reply": "2024-08-16T05:24:20.394278Z"
    },
    "papermill": {
     "duration": 51.58832,
     "end_time": "2024-08-16T05:24:20.397569",
     "exception": false,
     "start_time": "2024-08-16T05:23:28.809249",
     "status": "completed"
    },
    "tags": []
   },
   "outputs": [
    {
     "name": "stderr",
     "output_type": "stream",
     "text": [
      "100%|██████████| 2796193/2796193 [00:31<00:00, 89764.14it/s] \n",
      "100%|██████████| 2796193/2796193 [00:18<00:00, 149899.02it/s]\n"
     ]
    }
   ],
   "source": [
    "bdlc['message'] = bdlc.message.progress_apply(replace_emoji_codes)\n",
    "bdlc['wordcount'] = bdlc.message.progress_apply(count_words)\n",
    "\n",
    "bdlc = bdlc.sort_values(by='wordcount', ascending=False).reset_index(drop=True)"
   ]
  },
  {
   "cell_type": "code",
   "execution_count": 9,
   "id": "2ddacbb3",
   "metadata": {
    "execution": {
     "iopub.execute_input": "2024-08-16T05:24:20.488788Z",
     "iopub.status.busy": "2024-08-16T05:24:20.488494Z",
     "iopub.status.idle": "2024-08-16T05:24:20.505066Z",
     "shell.execute_reply": "2024-08-16T05:24:20.504203Z"
    },
    "papermill": {
     "duration": 0.064972,
     "end_time": "2024-08-16T05:24:20.506819",
     "exception": false,
     "start_time": "2024-08-16T05:24:20.441847",
     "status": "completed"
    },
    "tags": []
   },
   "outputs": [
    {
     "data": {
      "text/html": [
       "<div>\n",
       "<style scoped>\n",
       "    .dataframe tbody tr th:only-of-type {\n",
       "        vertical-align: middle;\n",
       "    }\n",
       "\n",
       "    .dataframe tbody tr th {\n",
       "        vertical-align: top;\n",
       "    }\n",
       "\n",
       "    .dataframe thead th {\n",
       "        text-align: right;\n",
       "    }\n",
       "</style>\n",
       "<table border=\"1\" class=\"dataframe\">\n",
       "  <thead>\n",
       "    <tr style=\"text-align: right;\">\n",
       "      <th></th>\n",
       "      <th>datetime</th>\n",
       "      <th>author</th>\n",
       "      <th>message</th>\n",
       "      <th>video_id</th>\n",
       "      <th>wordcount</th>\n",
       "    </tr>\n",
       "  </thead>\n",
       "  <tbody>\n",
       "    <tr>\n",
       "      <th>2796188</th>\n",
       "      <td>2022-09-24 12:30:05</td>\n",
       "      <td>A1esJOSiM🤣</td>\n",
       "      <td>🍎🍎🍎🍎🍎🍎</td>\n",
       "      <td>dezcACkIJzM</td>\n",
       "      <td>0</td>\n",
       "    </tr>\n",
       "    <tr>\n",
       "      <th>2796189</th>\n",
       "      <td>2022-09-24 12:30:09</td>\n",
       "      <td>A1esJOSiM🤣</td>\n",
       "      <td>🍎🍎🍎🍎🍎🍎🍎</td>\n",
       "      <td>dezcACkIJzM</td>\n",
       "      <td>0</td>\n",
       "    </tr>\n",
       "    <tr>\n",
       "      <th>2796190</th>\n",
       "      <td>2022-09-24 12:30:11</td>\n",
       "      <td>Abir Hossain</td>\n",
       "      <td>🥭🥭🥭🥭</td>\n",
       "      <td>dezcACkIJzM</td>\n",
       "      <td>0</td>\n",
       "    </tr>\n",
       "    <tr>\n",
       "      <th>2796191</th>\n",
       "      <td>2022-09-24 12:30:14</td>\n",
       "      <td>A1esJOSiM🤣</td>\n",
       "      <td>🍎🍎🍎🍎🍎</td>\n",
       "      <td>dezcACkIJzM</td>\n",
       "      <td>0</td>\n",
       "    </tr>\n",
       "    <tr>\n",
       "      <th>2796192</th>\n",
       "      <td>2021-08-13 12:37:07</td>\n",
       "      <td>mahfuz khan</td>\n",
       "      <td></td>\n",
       "      <td>R0MZfE8eVx8</td>\n",
       "      <td>0</td>\n",
       "    </tr>\n",
       "  </tbody>\n",
       "</table>\n",
       "</div>"
      ],
      "text/plain": [
       "                    datetime        author  message     video_id  wordcount\n",
       "2796188  2022-09-24 12:30:05    A1esJOSiM🤣   🍎🍎🍎🍎🍎🍎  dezcACkIJzM          0\n",
       "2796189  2022-09-24 12:30:09    A1esJOSiM🤣  🍎🍎🍎🍎🍎🍎🍎  dezcACkIJzM          0\n",
       "2796190  2022-09-24 12:30:11  Abir Hossain     🥭🥭🥭🥭  dezcACkIJzM          0\n",
       "2796191  2022-09-24 12:30:14    A1esJOSiM🤣    🍎🍎🍎🍎🍎  dezcACkIJzM          0\n",
       "2796192  2021-08-13 12:37:07   mahfuz khan           R0MZfE8eVx8          0"
      ]
     },
     "execution_count": 9,
     "metadata": {},
     "output_type": "execute_result"
    }
   ],
   "source": [
    "bdlc.tail()"
   ]
  },
  {
   "cell_type": "markdown",
   "id": "e697e251",
   "metadata": {
    "papermill": {
     "duration": 0.044193,
     "end_time": "2024-08-16T05:24:20.595347",
     "exception": false,
     "start_time": "2024-08-16T05:24:20.551154",
     "status": "completed"
    },
    "tags": []
   },
   "source": [
    "## Checkpoint for filter"
   ]
  },
  {
   "cell_type": "code",
   "execution_count": 10,
   "id": "a67750de",
   "metadata": {
    "execution": {
     "iopub.execute_input": "2024-08-16T05:24:20.685379Z",
     "iopub.status.busy": "2024-08-16T05:24:20.684840Z",
     "iopub.status.idle": "2024-08-16T05:24:20.822986Z",
     "shell.execute_reply": "2024-08-16T05:24:20.822060Z"
    },
    "papermill": {
     "duration": 0.185969,
     "end_time": "2024-08-16T05:24:20.825275",
     "exception": false,
     "start_time": "2024-08-16T05:24:20.639306",
     "status": "completed"
    },
    "tags": []
   },
   "outputs": [
    {
     "data": {
      "text/html": [
       "<div>\n",
       "<style scoped>\n",
       "    .dataframe tbody tr th:only-of-type {\n",
       "        vertical-align: middle;\n",
       "    }\n",
       "\n",
       "    .dataframe tbody tr th {\n",
       "        vertical-align: top;\n",
       "    }\n",
       "\n",
       "    .dataframe thead th {\n",
       "        text-align: right;\n",
       "    }\n",
       "</style>\n",
       "<table border=\"1\" class=\"dataframe\">\n",
       "  <thead>\n",
       "    <tr style=\"text-align: right;\">\n",
       "      <th></th>\n",
       "      <th>datetime</th>\n",
       "      <th>author</th>\n",
       "      <th>message</th>\n",
       "      <th>video_id</th>\n",
       "      <th>wordcount</th>\n",
       "    </tr>\n",
       "  </thead>\n",
       "  <tbody>\n",
       "    <tr>\n",
       "      <th>0</th>\n",
       "      <td>2021-02-20 10:10:27</td>\n",
       "      <td>Rahman Rahat</td>\n",
       "      <td>巴尔 巴尔 巴尔 巴尔 巴尔 巴尔 巴尔 巴尔 巴尔 巴尔 巴尔 巴尔 巴尔 巴尔 巴尔 巴...</td>\n",
       "      <td>gsGw2Fgxrlk</td>\n",
       "      <td>66</td>\n",
       "    </tr>\n",
       "    <tr>\n",
       "      <th>1</th>\n",
       "      <td>2021-02-20 10:10:19</td>\n",
       "      <td>Rahman Rahat</td>\n",
       "      <td>巴尔 巴尔 巴尔 巴尔 巴尔 巴尔 巴尔 巴尔 巴尔 巴尔 巴尔 巴尔 巴尔 巴尔 巴尔 巴...</td>\n",
       "      <td>gsGw2Fgxrlk</td>\n",
       "      <td>66</td>\n",
       "    </tr>\n",
       "    <tr>\n",
       "      <th>2</th>\n",
       "      <td>2021-02-20 10:10:09</td>\n",
       "      <td>Rahman Rahat</td>\n",
       "      <td>巴尔 巴尔 巴尔 巴尔 巴尔 巴尔 巴尔 巴尔 巴尔 巴尔 巴尔 巴尔 巴尔 巴尔 巴尔 巴...</td>\n",
       "      <td>gsGw2Fgxrlk</td>\n",
       "      <td>66</td>\n",
       "    </tr>\n",
       "    <tr>\n",
       "      <th>3</th>\n",
       "      <td>2021-02-20 10:09:20</td>\n",
       "      <td>Rahman Rahat</td>\n",
       "      <td>巴尔 巴尔 巴尔 巴尔 巴尔 巴尔 巴尔 巴尔 巴尔 巴尔 巴尔 巴尔 巴尔 巴尔 巴尔 巴...</td>\n",
       "      <td>gsGw2Fgxrlk</td>\n",
       "      <td>66</td>\n",
       "    </tr>\n",
       "    <tr>\n",
       "      <th>4</th>\n",
       "      <td>2021-03-27 13:33:37</td>\n",
       "      <td>Tazriyan Ahnaf</td>\n",
       "      <td>A1 op A1 op A1 op A1 op A1 op A1 op A1 op A1 o...</td>\n",
       "      <td>4D5QvYnU3cs</td>\n",
       "      <td>66</td>\n",
       "    </tr>\n",
       "    <tr>\n",
       "      <th>5</th>\n",
       "      <td>2021-03-24 14:16:31</td>\n",
       "      <td>Tazriyan Ahnaf</td>\n",
       "      <td>A1 op A1 op A1 op A1 op A1 op A1 op A1 op A1 o...</td>\n",
       "      <td>NOPxITaEQ4Y</td>\n",
       "      <td>66</td>\n",
       "    </tr>\n",
       "    <tr>\n",
       "      <th>6</th>\n",
       "      <td>2021-03-27 13:45:46</td>\n",
       "      <td>Tazriyan Ahnaf</td>\n",
       "      <td>A1 op A1 op A1 op A1 op A1 op A1 op A1 op A1 o...</td>\n",
       "      <td>4D5QvYnU3cs</td>\n",
       "      <td>66</td>\n",
       "    </tr>\n",
       "    <tr>\n",
       "      <th>7</th>\n",
       "      <td>2021-02-20 10:10:53</td>\n",
       "      <td>Rahman Rahat</td>\n",
       "      <td>巴尔 巴尔 巴尔 巴尔 巴尔 巴尔 巴尔 巴尔 巴尔 巴尔 巴尔 巴尔 巴尔 巴尔 巴尔 巴...</td>\n",
       "      <td>gsGw2Fgxrlk</td>\n",
       "      <td>66</td>\n",
       "    </tr>\n",
       "    <tr>\n",
       "      <th>8</th>\n",
       "      <td>2021-02-20 10:09:22</td>\n",
       "      <td>Rahman Rahat</td>\n",
       "      <td>巴尔 巴尔 巴尔 巴尔 巴尔 巴尔 巴尔 巴尔 巴尔 巴尔 巴尔 巴尔 巴尔 巴尔 巴尔 巴...</td>\n",
       "      <td>gsGw2Fgxrlk</td>\n",
       "      <td>66</td>\n",
       "    </tr>\n",
       "    <tr>\n",
       "      <th>9</th>\n",
       "      <td>2021-02-20 10:12:26</td>\n",
       "      <td>Rahman Rahat</td>\n",
       "      <td>巴尔 巴尔 巴尔 巴尔 巴尔 巴尔 巴尔 巴尔 巴尔 巴尔 巴尔 巴尔 巴尔 巴尔 巴尔 巴...</td>\n",
       "      <td>gsGw2Fgxrlk</td>\n",
       "      <td>66</td>\n",
       "    </tr>\n",
       "    <tr>\n",
       "      <th>10</th>\n",
       "      <td>2021-02-20 10:09:09</td>\n",
       "      <td>Rahman Rahat</td>\n",
       "      <td>巴尔 巴尔 巴尔 巴尔 巴尔 巴尔 巴尔 巴尔 巴尔 巴尔 巴尔 巴尔 巴尔 巴尔 巴尔 巴...</td>\n",
       "      <td>gsGw2Fgxrlk</td>\n",
       "      <td>66</td>\n",
       "    </tr>\n",
       "    <tr>\n",
       "      <th>11</th>\n",
       "      <td>2021-02-20 10:09:33</td>\n",
       "      <td>Rahman Rahat</td>\n",
       "      <td>巴尔 巴尔 巴尔 巴尔 巴尔 巴尔 巴尔 巴尔 巴尔 巴尔 巴尔 巴尔 巴尔 巴尔 巴尔 巴...</td>\n",
       "      <td>gsGw2Fgxrlk</td>\n",
       "      <td>66</td>\n",
       "    </tr>\n",
       "    <tr>\n",
       "      <th>12</th>\n",
       "      <td>2021-02-20 10:09:36</td>\n",
       "      <td>Rahman Rahat</td>\n",
       "      <td>巴尔 巴尔 巴尔 巴尔 巴尔 巴尔 巴尔 巴尔 巴尔 巴尔 巴尔 巴尔 巴尔 巴尔 巴尔 巴...</td>\n",
       "      <td>gsGw2Fgxrlk</td>\n",
       "      <td>66</td>\n",
       "    </tr>\n",
       "    <tr>\n",
       "      <th>13</th>\n",
       "      <td>2021-02-20 10:09:08</td>\n",
       "      <td>Rahman Rahat</td>\n",
       "      <td>巴尔 巴尔 巴尔 巴尔 巴尔 巴尔 巴尔 巴尔 巴尔 巴尔 巴尔 巴尔 巴尔 巴尔 巴尔 巴...</td>\n",
       "      <td>gsGw2Fgxrlk</td>\n",
       "      <td>66</td>\n",
       "    </tr>\n",
       "    <tr>\n",
       "      <th>14</th>\n",
       "      <td>2021-02-20 10:10:23</td>\n",
       "      <td>Rahman Rahat</td>\n",
       "      <td>巴尔 巴尔 巴尔 巴尔 巴尔 巴尔 巴尔 巴尔 巴尔 巴尔 巴尔 巴尔 巴尔 巴尔 巴尔 巴...</td>\n",
       "      <td>gsGw2Fgxrlk</td>\n",
       "      <td>66</td>\n",
       "    </tr>\n",
       "    <tr>\n",
       "      <th>15</th>\n",
       "      <td>2021-02-20 10:10:40</td>\n",
       "      <td>Rahman Rahat</td>\n",
       "      <td>巴尔 巴尔 巴尔 巴尔 巴尔 巴尔 巴尔 巴尔 巴尔 巴尔 巴尔 巴尔 巴尔 巴尔 巴尔 巴...</td>\n",
       "      <td>gsGw2Fgxrlk</td>\n",
       "      <td>66</td>\n",
       "    </tr>\n",
       "    <tr>\n",
       "      <th>16</th>\n",
       "      <td>2021-02-20 10:12:19</td>\n",
       "      <td>Rahman Rahat</td>\n",
       "      <td>巴尔 巴尔 巴尔 巴尔 巴尔 巴尔 巴尔 巴尔 巴尔 巴尔 巴尔 巴尔 巴尔 巴尔 巴尔 巴...</td>\n",
       "      <td>gsGw2Fgxrlk</td>\n",
       "      <td>66</td>\n",
       "    </tr>\n",
       "    <tr>\n",
       "      <th>17</th>\n",
       "      <td>2021-02-20 10:09:53</td>\n",
       "      <td>Rahman Rahat</td>\n",
       "      <td>巴尔 巴尔 巴尔 巴尔 巴尔 巴尔 巴尔 巴尔 巴尔 巴尔 巴尔 巴尔 巴尔 巴尔 巴尔 巴...</td>\n",
       "      <td>gsGw2Fgxrlk</td>\n",
       "      <td>66</td>\n",
       "    </tr>\n",
       "    <tr>\n",
       "      <th>18</th>\n",
       "      <td>2021-03-24 15:02:15</td>\n",
       "      <td>Tazriyan Ahnaf</td>\n",
       "      <td>A1 op A1 op A1 op A1 op A1 op A1 op A1 op A1 o...</td>\n",
       "      <td>NOPxITaEQ4Y</td>\n",
       "      <td>66</td>\n",
       "    </tr>\n",
       "    <tr>\n",
       "      <th>19</th>\n",
       "      <td>2021-02-20 10:10:37</td>\n",
       "      <td>Rahman Rahat</td>\n",
       "      <td>巴尔 巴尔 巴尔 巴尔 巴尔 巴尔 巴尔 巴尔 巴尔 巴尔 巴尔 巴尔 巴尔 巴尔 巴尔 巴...</td>\n",
       "      <td>gsGw2Fgxrlk</td>\n",
       "      <td>66</td>\n",
       "    </tr>\n",
       "  </tbody>\n",
       "</table>\n",
       "</div>"
      ],
      "text/plain": [
       "               datetime          author  \\\n",
       "0   2021-02-20 10:10:27    Rahman Rahat   \n",
       "1   2021-02-20 10:10:19    Rahman Rahat   \n",
       "2   2021-02-20 10:10:09    Rahman Rahat   \n",
       "3   2021-02-20 10:09:20    Rahman Rahat   \n",
       "4   2021-03-27 13:33:37  Tazriyan Ahnaf   \n",
       "5   2021-03-24 14:16:31  Tazriyan Ahnaf   \n",
       "6   2021-03-27 13:45:46  Tazriyan Ahnaf   \n",
       "7   2021-02-20 10:10:53    Rahman Rahat   \n",
       "8   2021-02-20 10:09:22    Rahman Rahat   \n",
       "9   2021-02-20 10:12:26    Rahman Rahat   \n",
       "10  2021-02-20 10:09:09    Rahman Rahat   \n",
       "11  2021-02-20 10:09:33    Rahman Rahat   \n",
       "12  2021-02-20 10:09:36    Rahman Rahat   \n",
       "13  2021-02-20 10:09:08    Rahman Rahat   \n",
       "14  2021-02-20 10:10:23    Rahman Rahat   \n",
       "15  2021-02-20 10:10:40    Rahman Rahat   \n",
       "16  2021-02-20 10:12:19    Rahman Rahat   \n",
       "17  2021-02-20 10:09:53    Rahman Rahat   \n",
       "18  2021-03-24 15:02:15  Tazriyan Ahnaf   \n",
       "19  2021-02-20 10:10:37    Rahman Rahat   \n",
       "\n",
       "                                              message     video_id  wordcount  \n",
       "0   巴尔 巴尔 巴尔 巴尔 巴尔 巴尔 巴尔 巴尔 巴尔 巴尔 巴尔 巴尔 巴尔 巴尔 巴尔 巴...  gsGw2Fgxrlk         66  \n",
       "1   巴尔 巴尔 巴尔 巴尔 巴尔 巴尔 巴尔 巴尔 巴尔 巴尔 巴尔 巴尔 巴尔 巴尔 巴尔 巴...  gsGw2Fgxrlk         66  \n",
       "2   巴尔 巴尔 巴尔 巴尔 巴尔 巴尔 巴尔 巴尔 巴尔 巴尔 巴尔 巴尔 巴尔 巴尔 巴尔 巴...  gsGw2Fgxrlk         66  \n",
       "3   巴尔 巴尔 巴尔 巴尔 巴尔 巴尔 巴尔 巴尔 巴尔 巴尔 巴尔 巴尔 巴尔 巴尔 巴尔 巴...  gsGw2Fgxrlk         66  \n",
       "4   A1 op A1 op A1 op A1 op A1 op A1 op A1 op A1 o...  4D5QvYnU3cs         66  \n",
       "5   A1 op A1 op A1 op A1 op A1 op A1 op A1 op A1 o...  NOPxITaEQ4Y         66  \n",
       "6   A1 op A1 op A1 op A1 op A1 op A1 op A1 op A1 o...  4D5QvYnU3cs         66  \n",
       "7   巴尔 巴尔 巴尔 巴尔 巴尔 巴尔 巴尔 巴尔 巴尔 巴尔 巴尔 巴尔 巴尔 巴尔 巴尔 巴...  gsGw2Fgxrlk         66  \n",
       "8   巴尔 巴尔 巴尔 巴尔 巴尔 巴尔 巴尔 巴尔 巴尔 巴尔 巴尔 巴尔 巴尔 巴尔 巴尔 巴...  gsGw2Fgxrlk         66  \n",
       "9   巴尔 巴尔 巴尔 巴尔 巴尔 巴尔 巴尔 巴尔 巴尔 巴尔 巴尔 巴尔 巴尔 巴尔 巴尔 巴...  gsGw2Fgxrlk         66  \n",
       "10  巴尔 巴尔 巴尔 巴尔 巴尔 巴尔 巴尔 巴尔 巴尔 巴尔 巴尔 巴尔 巴尔 巴尔 巴尔 巴...  gsGw2Fgxrlk         66  \n",
       "11  巴尔 巴尔 巴尔 巴尔 巴尔 巴尔 巴尔 巴尔 巴尔 巴尔 巴尔 巴尔 巴尔 巴尔 巴尔 巴...  gsGw2Fgxrlk         66  \n",
       "12  巴尔 巴尔 巴尔 巴尔 巴尔 巴尔 巴尔 巴尔 巴尔 巴尔 巴尔 巴尔 巴尔 巴尔 巴尔 巴...  gsGw2Fgxrlk         66  \n",
       "13  巴尔 巴尔 巴尔 巴尔 巴尔 巴尔 巴尔 巴尔 巴尔 巴尔 巴尔 巴尔 巴尔 巴尔 巴尔 巴...  gsGw2Fgxrlk         66  \n",
       "14  巴尔 巴尔 巴尔 巴尔 巴尔 巴尔 巴尔 巴尔 巴尔 巴尔 巴尔 巴尔 巴尔 巴尔 巴尔 巴...  gsGw2Fgxrlk         66  \n",
       "15  巴尔 巴尔 巴尔 巴尔 巴尔 巴尔 巴尔 巴尔 巴尔 巴尔 巴尔 巴尔 巴尔 巴尔 巴尔 巴...  gsGw2Fgxrlk         66  \n",
       "16  巴尔 巴尔 巴尔 巴尔 巴尔 巴尔 巴尔 巴尔 巴尔 巴尔 巴尔 巴尔 巴尔 巴尔 巴尔 巴...  gsGw2Fgxrlk         66  \n",
       "17  巴尔 巴尔 巴尔 巴尔 巴尔 巴尔 巴尔 巴尔 巴尔 巴尔 巴尔 巴尔 巴尔 巴尔 巴尔 巴...  gsGw2Fgxrlk         66  \n",
       "18  A1 op A1 op A1 op A1 op A1 op A1 op A1 op A1 o...  NOPxITaEQ4Y         66  \n",
       "19  巴尔 巴尔 巴尔 巴尔 巴尔 巴尔 巴尔 巴尔 巴尔 巴尔 巴尔 巴尔 巴尔 巴尔 巴尔 巴...  gsGw2Fgxrlk         66  "
      ]
     },
     "execution_count": 10,
     "metadata": {},
     "output_type": "execute_result"
    }
   ],
   "source": [
    "filt = bdlc[:].copy()\n",
    "filt.head(20)"
   ]
  },
  {
   "cell_type": "code",
   "execution_count": 11,
   "id": "c7721091",
   "metadata": {
    "execution": {
     "iopub.execute_input": "2024-08-16T05:24:20.920083Z",
     "iopub.status.busy": "2024-08-16T05:24:20.919265Z",
     "iopub.status.idle": "2024-08-16T05:24:21.094592Z",
     "shell.execute_reply": "2024-08-16T05:24:21.093563Z"
    },
    "papermill": {
     "duration": 0.223351,
     "end_time": "2024-08-16T05:24:21.096613",
     "exception": false,
     "start_time": "2024-08-16T05:24:20.873262",
     "status": "completed"
    },
    "tags": []
   },
   "outputs": [
    {
     "data": {
      "text/html": [
       "<div>\n",
       "<style scoped>\n",
       "    .dataframe tbody tr th:only-of-type {\n",
       "        vertical-align: middle;\n",
       "    }\n",
       "\n",
       "    .dataframe tbody tr th {\n",
       "        vertical-align: top;\n",
       "    }\n",
       "\n",
       "    .dataframe thead th {\n",
       "        text-align: right;\n",
       "    }\n",
       "</style>\n",
       "<table border=\"1\" class=\"dataframe\">\n",
       "  <thead>\n",
       "    <tr style=\"text-align: right;\">\n",
       "      <th></th>\n",
       "      <th>datetime</th>\n",
       "      <th>author</th>\n",
       "      <th>message</th>\n",
       "      <th>video_id</th>\n",
       "      <th>wordcount</th>\n",
       "    </tr>\n",
       "  </thead>\n",
       "  <tbody>\n",
       "    <tr>\n",
       "      <th>1998558</th>\n",
       "      <td>2020-08-23 12:35:37</td>\n",
       "      <td>Taj Film</td>\n",
       "      <td>A1 op</td>\n",
       "      <td>uddWQDBPxdo</td>\n",
       "      <td>2</td>\n",
       "    </tr>\n",
       "    <tr>\n",
       "      <th>1998559</th>\n",
       "      <td>2022-05-22 13:51:20</td>\n",
       "      <td>TAHSAN GAMING YT</td>\n",
       "      <td>GG PT ♥️♥️♥️</td>\n",
       "      <td>sRJkeQa0UFQ</td>\n",
       "      <td>2</td>\n",
       "    </tr>\n",
       "    <tr>\n",
       "      <th>1998560</th>\n",
       "      <td>2021-07-17 15:09:03</td>\n",
       "      <td>ZeuS Gaming</td>\n",
       "      <td>A1 LOL 😂😂😂😂😂😂😂😂😂😂😂😂😂😂😂😂</td>\n",
       "      <td>5YCnTaXjuNU</td>\n",
       "      <td>2</td>\n",
       "    </tr>\n",
       "    <tr>\n",
       "      <th>1998561</th>\n",
       "      <td>2020-08-27 13:54:45</td>\n",
       "      <td>AXZCER</td>\n",
       "      <td>k eliminated?</td>\n",
       "      <td>6JssrtX6y3A</td>\n",
       "      <td>2</td>\n",
       "    </tr>\n",
       "    <tr>\n",
       "      <th>1998562</th>\n",
       "      <td>2020-08-22 13:21:41</td>\n",
       "      <td>ZAHID HASAN</td>\n",
       "      <td>INES??? koi?</td>\n",
       "      <td>NbWaP0iyeBE</td>\n",
       "      <td>2</td>\n",
       "    </tr>\n",
       "  </tbody>\n",
       "</table>\n",
       "</div>"
      ],
      "text/plain": [
       "                    datetime            author                  message  \\\n",
       "1998558  2020-08-23 12:35:37          Taj Film                    A1 op   \n",
       "1998559  2022-05-22 13:51:20  TAHSAN GAMING YT             GG PT ♥️♥️♥️   \n",
       "1998560  2021-07-17 15:09:03       ZeuS Gaming  A1 LOL 😂😂😂😂😂😂😂😂😂😂😂😂😂😂😂😂   \n",
       "1998561  2020-08-27 13:54:45            AXZCER            k eliminated?   \n",
       "1998562  2020-08-22 13:21:41       ZAHID HASAN             INES??? koi?   \n",
       "\n",
       "            video_id  wordcount  \n",
       "1998558  uddWQDBPxdo          2  \n",
       "1998559  sRJkeQa0UFQ          2  \n",
       "1998560  5YCnTaXjuNU          2  \n",
       "1998561  6JssrtX6y3A          2  \n",
       "1998562  NbWaP0iyeBE          2  "
      ]
     },
     "execution_count": 11,
     "metadata": {},
     "output_type": "execute_result"
    }
   ],
   "source": [
    "filt = filt[filt['wordcount'] >= 2]\n",
    "\n",
    "filt.tail()"
   ]
  },
  {
   "cell_type": "code",
   "execution_count": 12,
   "id": "169d5557",
   "metadata": {
    "execution": {
     "iopub.execute_input": "2024-08-16T05:24:21.188508Z",
     "iopub.status.busy": "2024-08-16T05:24:21.188170Z",
     "iopub.status.idle": "2024-08-16T05:24:21.193054Z",
     "shell.execute_reply": "2024-08-16T05:24:21.192148Z"
    },
    "papermill": {
     "duration": 0.053174,
     "end_time": "2024-08-16T05:24:21.195222",
     "exception": false,
     "start_time": "2024-08-16T05:24:21.142048",
     "status": "completed"
    },
    "tags": []
   },
   "outputs": [
    {
     "name": "stdout",
     "output_type": "stream",
     "text": [
      "(2796193, 5)\n",
      "(1998563, 5)\n"
     ]
    }
   ],
   "source": [
    "print(bdlc.shape)\n",
    "print(filt.shape)"
   ]
  },
  {
   "cell_type": "code",
   "execution_count": 13,
   "id": "5b755c94",
   "metadata": {
    "execution": {
     "iopub.execute_input": "2024-08-16T05:24:21.288085Z",
     "iopub.status.busy": "2024-08-16T05:24:21.287529Z",
     "iopub.status.idle": "2024-08-16T05:24:21.291093Z",
     "shell.execute_reply": "2024-08-16T05:24:21.290282Z"
    },
    "papermill": {
     "duration": 0.051175,
     "end_time": "2024-08-16T05:24:21.292956",
     "exception": false,
     "start_time": "2024-08-16T05:24:21.241781",
     "status": "completed"
    },
    "tags": []
   },
   "outputs": [],
   "source": [
    "# tqdm.pandas()\n",
    "# filt['message'] = filt.message.progress_apply(replace_emoji_codes)\n",
    "# filt.head(2)"
   ]
  },
  {
   "cell_type": "code",
   "execution_count": 14,
   "id": "df8ccee0",
   "metadata": {
    "execution": {
     "iopub.execute_input": "2024-08-16T05:24:21.383642Z",
     "iopub.status.busy": "2024-08-16T05:24:21.382715Z",
     "iopub.status.idle": "2024-08-16T05:24:21.462467Z",
     "shell.execute_reply": "2024-08-16T05:24:21.461550Z"
    },
    "papermill": {
     "duration": 0.12766,
     "end_time": "2024-08-16T05:24:21.464961",
     "exception": false,
     "start_time": "2024-08-16T05:24:21.337301",
     "status": "completed"
    },
    "tags": []
   },
   "outputs": [
    {
     "data": {
      "text/plain": [
       "count    1.998563e+06\n",
       "mean     6.032043e+00\n",
       "std      5.640954e+00\n",
       "min      2.000000e+00\n",
       "25%      2.000000e+00\n",
       "50%      4.000000e+00\n",
       "75%      7.000000e+00\n",
       "max      6.600000e+01\n",
       "Name: wordcount, dtype: float64"
      ]
     },
     "execution_count": 14,
     "metadata": {},
     "output_type": "execute_result"
    }
   ],
   "source": [
    "filt.wordcount.describe()"
   ]
  },
  {
   "cell_type": "code",
   "execution_count": 15,
   "id": "9436a32c",
   "metadata": {
    "execution": {
     "iopub.execute_input": "2024-08-16T05:24:21.602908Z",
     "iopub.status.busy": "2024-08-16T05:24:21.602573Z",
     "iopub.status.idle": "2024-08-16T05:24:21.614801Z",
     "shell.execute_reply": "2024-08-16T05:24:21.613901Z"
    },
    "papermill": {
     "duration": 0.100969,
     "end_time": "2024-08-16T05:24:21.616724",
     "exception": false,
     "start_time": "2024-08-16T05:24:21.515755",
     "status": "completed"
    },
    "tags": []
   },
   "outputs": [
    {
     "data": {
      "text/plain": [
       "'GUYZZZ GOPON SHUTRO THEKE JANA GESE JE A1ES SINISTER AKHON THEKE 7SEA GSM AR HOIA KHELBE SHOBAI TADER JONNO DOWA KORBEN💖💖💖💖💖💖💖💖🤲🙀🙀🙀💖💖💖💖💖💖💖💖💖💖💖💖💖'"
      ]
     },
     "execution_count": 15,
     "metadata": {},
     "output_type": "execute_result"
    }
   ],
   "source": [
    "filt['message'][61224]"
   ]
  },
  {
   "cell_type": "code",
   "execution_count": 16,
   "id": "5f63ab4a",
   "metadata": {
    "execution": {
     "iopub.execute_input": "2024-08-16T05:24:21.710473Z",
     "iopub.status.busy": "2024-08-16T05:24:21.710175Z",
     "iopub.status.idle": "2024-08-16T05:24:28.722951Z",
     "shell.execute_reply": "2024-08-16T05:24:28.721793Z"
    },
    "papermill": {
     "duration": 7.062733,
     "end_time": "2024-08-16T05:24:28.725330",
     "exception": false,
     "start_time": "2024-08-16T05:24:21.662597",
     "status": "completed"
    },
    "tags": []
   },
   "outputs": [
    {
     "name": "stdout",
     "output_type": "stream",
     "text": [
      "True\n",
      "0\n",
      "Tesla T4\n"
     ]
    }
   ],
   "source": [
    "import torch\n",
    "print(torch.cuda.is_available())  # Should print True if GPU is available\n",
    "print(torch.cuda.current_device())  # Prints the ID of the current device\n",
    "print(torch.cuda.get_device_name(0))  # Prints the name of the GPU"
   ]
  },
  {
   "cell_type": "code",
   "execution_count": 17,
   "id": "85128294",
   "metadata": {
    "execution": {
     "iopub.execute_input": "2024-08-16T05:24:28.827787Z",
     "iopub.status.busy": "2024-08-16T05:24:28.827308Z",
     "iopub.status.idle": "2024-08-16T05:24:28.831539Z",
     "shell.execute_reply": "2024-08-16T05:24:28.830749Z"
    },
    "papermill": {
     "duration": 0.055711,
     "end_time": "2024-08-16T05:24:28.833362",
     "exception": false,
     "start_time": "2024-08-16T05:24:28.777651",
     "status": "completed"
    },
    "tags": []
   },
   "outputs": [],
   "source": [
    "model_path = 'cardiffnlp/twitter-roberta-base-sentiment-latest'"
   ]
  },
  {
   "cell_type": "code",
   "execution_count": 18,
   "id": "6eb12412",
   "metadata": {
    "execution": {
     "iopub.execute_input": "2024-08-16T05:24:28.927463Z",
     "iopub.status.busy": "2024-08-16T05:24:28.927158Z",
     "iopub.status.idle": "2024-08-16T05:24:57.291851Z",
     "shell.execute_reply": "2024-08-16T05:24:57.290747Z"
    },
    "papermill": {
     "duration": 28.414246,
     "end_time": "2024-08-16T05:24:57.294141",
     "exception": false,
     "start_time": "2024-08-16T05:24:28.879895",
     "status": "completed"
    },
    "tags": []
   },
   "outputs": [
    {
     "name": "stderr",
     "output_type": "stream",
     "text": [
      "2024-08-16 05:24:34.972925: E external/local_xla/xla/stream_executor/cuda/cuda_dnn.cc:9261] Unable to register cuDNN factory: Attempting to register factory for plugin cuDNN when one has already been registered\n",
      "2024-08-16 05:24:34.973045: E external/local_xla/xla/stream_executor/cuda/cuda_fft.cc:607] Unable to register cuFFT factory: Attempting to register factory for plugin cuFFT when one has already been registered\n",
      "2024-08-16 05:24:35.237924: E external/local_xla/xla/stream_executor/cuda/cuda_blas.cc:1515] Unable to register cuBLAS factory: Attempting to register factory for plugin cuBLAS when one has already been registered\n"
     ]
    },
    {
     "data": {
      "application/vnd.jupyter.widget-view+json": {
       "model_id": "67e9d55c252e430eb0e535de42df3770",
       "version_major": 2,
       "version_minor": 0
      },
      "text/plain": [
       "config.json:   0%|          | 0.00/929 [00:00<?, ?B/s]"
      ]
     },
     "metadata": {},
     "output_type": "display_data"
    },
    {
     "data": {
      "application/vnd.jupyter.widget-view+json": {
       "model_id": "87f49cd893b547c49130fe6a1fa6233b",
       "version_major": 2,
       "version_minor": 0
      },
      "text/plain": [
       "pytorch_model.bin:   0%|          | 0.00/501M [00:00<?, ?B/s]"
      ]
     },
     "metadata": {},
     "output_type": "display_data"
    },
    {
     "name": "stderr",
     "output_type": "stream",
     "text": [
      "Some weights of the model checkpoint at cardiffnlp/twitter-roberta-base-sentiment-latest were not used when initializing RobertaForSequenceClassification: ['roberta.pooler.dense.bias', 'roberta.pooler.dense.weight']\n",
      "- This IS expected if you are initializing RobertaForSequenceClassification from the checkpoint of a model trained on another task or with another architecture (e.g. initializing a BertForSequenceClassification model from a BertForPreTraining model).\n",
      "- This IS NOT expected if you are initializing RobertaForSequenceClassification from the checkpoint of a model that you expect to be exactly identical (initializing a BertForSequenceClassification model from a BertForSequenceClassification model).\n"
     ]
    },
    {
     "data": {
      "application/vnd.jupyter.widget-view+json": {
       "model_id": "68ca773ef23446d4a31d1a15086cc2cf",
       "version_major": 2,
       "version_minor": 0
      },
      "text/plain": [
       "vocab.json:   0%|          | 0.00/899k [00:00<?, ?B/s]"
      ]
     },
     "metadata": {},
     "output_type": "display_data"
    },
    {
     "data": {
      "application/vnd.jupyter.widget-view+json": {
       "model_id": "273f2c20d7654017bb9e9aaa24769841",
       "version_major": 2,
       "version_minor": 0
      },
      "text/plain": [
       "merges.txt:   0%|          | 0.00/456k [00:00<?, ?B/s]"
      ]
     },
     "metadata": {},
     "output_type": "display_data"
    },
    {
     "data": {
      "application/vnd.jupyter.widget-view+json": {
       "model_id": "19e95f3847304076b7fe7bc3bd42f6c3",
       "version_major": 2,
       "version_minor": 0
      },
      "text/plain": [
       "special_tokens_map.json:   0%|          | 0.00/239 [00:00<?, ?B/s]"
      ]
     },
     "metadata": {},
     "output_type": "display_data"
    },
    {
     "data": {
      "text/plain": [
       "[{'label': 'negative', 'score': 0.7235766649246216}]"
      ]
     },
     "execution_count": 18,
     "metadata": {},
     "output_type": "execute_result"
    }
   ],
   "source": [
    "from transformers import pipeline\n",
    "sentiment_task = pipeline(\"sentiment-analysis\", model=model_path, tokenizer=model_path, device=0)\n",
    "sentiment_task(\"Covid cases are increasing fast!\")"
   ]
  },
  {
   "cell_type": "code",
   "execution_count": 19,
   "id": "c2dcf29b",
   "metadata": {
    "execution": {
     "iopub.execute_input": "2024-08-16T05:24:57.394649Z",
     "iopub.status.busy": "2024-08-16T05:24:57.393522Z",
     "iopub.status.idle": "2024-08-16T05:24:57.455652Z",
     "shell.execute_reply": "2024-08-16T05:24:57.454443Z"
    },
    "papermill": {
     "duration": 0.113366,
     "end_time": "2024-08-16T05:24:57.458705",
     "exception": false,
     "start_time": "2024-08-16T05:24:57.345339",
     "status": "completed"
    },
    "tags": []
   },
   "outputs": [
    {
     "data": {
      "text/plain": [
       "'positive'"
      ]
     },
     "execution_count": 19,
     "metadata": {},
     "output_type": "execute_result"
    }
   ],
   "source": [
    "def make_pred(text):\n",
    "    try:\n",
    "        return sentiment_task(text)[0]['label']\n",
    "    except:\n",
    "        return 'neutral'\n",
    "make_pred('i love you.')"
   ]
  },
  {
   "cell_type": "code",
   "execution_count": 20,
   "id": "5c78fc8b",
   "metadata": {
    "execution": {
     "iopub.execute_input": "2024-08-16T05:24:57.559884Z",
     "iopub.status.busy": "2024-08-16T05:24:57.559270Z",
     "iopub.status.idle": "2024-08-16T05:24:57.588039Z",
     "shell.execute_reply": "2024-08-16T05:24:57.586991Z"
    },
    "papermill": {
     "duration": 0.080554,
     "end_time": "2024-08-16T05:24:57.589993",
     "exception": false,
     "start_time": "2024-08-16T05:24:57.509439",
     "status": "completed"
    },
    "tags": []
   },
   "outputs": [
    {
     "data": {
      "text/plain": [
       "'positive'"
      ]
     },
     "execution_count": 20,
     "metadata": {},
     "output_type": "execute_result"
    }
   ],
   "source": [
    "xt = filt['message'][61225]\n",
    "make_pred(xt)"
   ]
  },
  {
   "cell_type": "code",
   "execution_count": 21,
   "id": "63c019df",
   "metadata": {
    "execution": {
     "iopub.execute_input": "2024-08-16T05:24:57.686695Z",
     "iopub.status.busy": "2024-08-16T05:24:57.686367Z",
     "iopub.status.idle": "2024-08-16T11:51:24.646535Z",
     "shell.execute_reply": "2024-08-16T11:51:24.645637Z"
    },
    "papermill": {
     "duration": 23187.009804,
     "end_time": "2024-08-16T11:51:24.648661",
     "exception": false,
     "start_time": "2024-08-16T05:24:57.638857",
     "status": "completed"
    },
    "tags": []
   },
   "outputs": [
    {
     "name": "stderr",
     "output_type": "stream",
     "text": [
      "  0%|          | 4/1998563 [00:00<16:51:16, 32.94it/s]You seem to be using the pipelines sequentially on GPU. In order to maximize efficiency please use a dataset\n",
      "100%|██████████| 1998563/1998563 [6:26:26<00:00, 86.19it/s]\n"
     ]
    }
   ],
   "source": [
    "filt['sentiment'] = filt.message.progress_apply(make_pred)"
   ]
  },
  {
   "cell_type": "code",
   "execution_count": 22,
   "id": "10001be6",
   "metadata": {
    "execution": {
     "iopub.execute_input": "2024-08-16T11:52:00.822818Z",
     "iopub.status.busy": "2024-08-16T11:52:00.822469Z",
     "iopub.status.idle": "2024-08-16T11:52:01.075022Z",
     "shell.execute_reply": "2024-08-16T11:52:01.074109Z"
    },
    "papermill": {
     "duration": 18.2631,
     "end_time": "2024-08-16T11:52:01.077323",
     "exception": false,
     "start_time": "2024-08-16T11:51:42.814223",
     "status": "completed"
    },
    "tags": []
   },
   "outputs": [
    {
     "data": {
      "text/plain": [
       "sentiment\n",
       "neutral     1403359\n",
       "positive     385306\n",
       "negative     209898\n",
       "Name: count, dtype: int64"
      ]
     },
     "execution_count": 22,
     "metadata": {},
     "output_type": "execute_result"
    }
   ],
   "source": [
    "filt.sentiment.value_counts()"
   ]
  },
  {
   "cell_type": "code",
   "execution_count": 23,
   "id": "a5476603",
   "metadata": {
    "execution": {
     "iopub.execute_input": "2024-08-16T11:52:36.991933Z",
     "iopub.status.busy": "2024-08-16T11:52:36.991605Z",
     "iopub.status.idle": "2024-08-16T11:52:37.003150Z",
     "shell.execute_reply": "2024-08-16T11:52:37.002231Z"
    },
    "papermill": {
     "duration": 18.017649,
     "end_time": "2024-08-16T11:52:37.005446",
     "exception": false,
     "start_time": "2024-08-16T11:52:18.987797",
     "status": "completed"
    },
    "tags": []
   },
   "outputs": [
    {
     "data": {
      "text/html": [
       "<div>\n",
       "<style scoped>\n",
       "    .dataframe tbody tr th:only-of-type {\n",
       "        vertical-align: middle;\n",
       "    }\n",
       "\n",
       "    .dataframe tbody tr th {\n",
       "        vertical-align: top;\n",
       "    }\n",
       "\n",
       "    .dataframe thead th {\n",
       "        text-align: right;\n",
       "    }\n",
       "</style>\n",
       "<table border=\"1\" class=\"dataframe\">\n",
       "  <thead>\n",
       "    <tr style=\"text-align: right;\">\n",
       "      <th></th>\n",
       "      <th>datetime</th>\n",
       "      <th>author</th>\n",
       "      <th>message</th>\n",
       "      <th>video_id</th>\n",
       "      <th>wordcount</th>\n",
       "      <th>sentiment</th>\n",
       "    </tr>\n",
       "  </thead>\n",
       "  <tbody>\n",
       "    <tr>\n",
       "      <th>1998558</th>\n",
       "      <td>2020-08-23 12:35:37</td>\n",
       "      <td>Taj Film</td>\n",
       "      <td>A1 op</td>\n",
       "      <td>uddWQDBPxdo</td>\n",
       "      <td>2</td>\n",
       "      <td>neutral</td>\n",
       "    </tr>\n",
       "    <tr>\n",
       "      <th>1998559</th>\n",
       "      <td>2022-05-22 13:51:20</td>\n",
       "      <td>TAHSAN GAMING YT</td>\n",
       "      <td>GG PT ♥️♥️♥️</td>\n",
       "      <td>sRJkeQa0UFQ</td>\n",
       "      <td>2</td>\n",
       "      <td>positive</td>\n",
       "    </tr>\n",
       "    <tr>\n",
       "      <th>1998560</th>\n",
       "      <td>2021-07-17 15:09:03</td>\n",
       "      <td>ZeuS Gaming</td>\n",
       "      <td>A1 LOL 😂😂😂😂😂😂😂😂😂😂😂😂😂😂😂😂</td>\n",
       "      <td>5YCnTaXjuNU</td>\n",
       "      <td>2</td>\n",
       "      <td>positive</td>\n",
       "    </tr>\n",
       "    <tr>\n",
       "      <th>1998561</th>\n",
       "      <td>2020-08-27 13:54:45</td>\n",
       "      <td>AXZCER</td>\n",
       "      <td>k eliminated?</td>\n",
       "      <td>6JssrtX6y3A</td>\n",
       "      <td>2</td>\n",
       "      <td>neutral</td>\n",
       "    </tr>\n",
       "    <tr>\n",
       "      <th>1998562</th>\n",
       "      <td>2020-08-22 13:21:41</td>\n",
       "      <td>ZAHID HASAN</td>\n",
       "      <td>INES??? koi?</td>\n",
       "      <td>NbWaP0iyeBE</td>\n",
       "      <td>2</td>\n",
       "      <td>neutral</td>\n",
       "    </tr>\n",
       "  </tbody>\n",
       "</table>\n",
       "</div>"
      ],
      "text/plain": [
       "                    datetime            author                  message  \\\n",
       "1998558  2020-08-23 12:35:37          Taj Film                    A1 op   \n",
       "1998559  2022-05-22 13:51:20  TAHSAN GAMING YT             GG PT ♥️♥️♥️   \n",
       "1998560  2021-07-17 15:09:03       ZeuS Gaming  A1 LOL 😂😂😂😂😂😂😂😂😂😂😂😂😂😂😂😂   \n",
       "1998561  2020-08-27 13:54:45            AXZCER            k eliminated?   \n",
       "1998562  2020-08-22 13:21:41       ZAHID HASAN             INES??? koi?   \n",
       "\n",
       "            video_id  wordcount sentiment  \n",
       "1998558  uddWQDBPxdo          2   neutral  \n",
       "1998559  sRJkeQa0UFQ          2  positive  \n",
       "1998560  5YCnTaXjuNU          2  positive  \n",
       "1998561  6JssrtX6y3A          2   neutral  \n",
       "1998562  NbWaP0iyeBE          2   neutral  "
      ]
     },
     "execution_count": 23,
     "metadata": {},
     "output_type": "execute_result"
    }
   ],
   "source": [
    "filt.tail()"
   ]
  },
  {
   "cell_type": "code",
   "execution_count": 24,
   "id": "7aebbc1f",
   "metadata": {
    "execution": {
     "iopub.execute_input": "2024-08-16T11:53:12.742657Z",
     "iopub.status.busy": "2024-08-16T11:53:12.741981Z",
     "iopub.status.idle": "2024-08-16T11:53:12.746060Z",
     "shell.execute_reply": "2024-08-16T11:53:12.745214Z"
    },
    "papermill": {
     "duration": 17.876413,
     "end_time": "2024-08-16T11:53:12.747947",
     "exception": false,
     "start_time": "2024-08-16T11:52:54.871534",
     "status": "completed"
    },
    "tags": []
   },
   "outputs": [],
   "source": [
    "# make_pred('বালের খেলা করো। ফালতু যতসব। ')"
   ]
  },
  {
   "cell_type": "code",
   "execution_count": 25,
   "id": "35815e82",
   "metadata": {
    "execution": {
     "iopub.execute_input": "2024-08-16T11:53:48.492778Z",
     "iopub.status.busy": "2024-08-16T11:53:48.491944Z",
     "iopub.status.idle": "2024-08-16T11:53:49.335444Z",
     "shell.execute_reply": "2024-08-16T11:53:49.334466Z"
    },
    "papermill": {
     "duration": 18.757126,
     "end_time": "2024-08-16T11:53:49.337578",
     "exception": false,
     "start_time": "2024-08-16T11:53:30.580452",
     "status": "completed"
    },
    "tags": []
   },
   "outputs": [],
   "source": [
    "filt['datetime'] = pd.to_datetime(filt['datetime'])\n",
    "\n",
    "# Extract the year and create a new column 'year'\n",
    "filt['year'] = filt['datetime'].dt.year"
   ]
  },
  {
   "cell_type": "code",
   "execution_count": 26,
   "id": "a649bcd9",
   "metadata": {
    "execution": {
     "iopub.execute_input": "2024-08-16T11:54:25.049949Z",
     "iopub.status.busy": "2024-08-16T11:54:25.048861Z",
     "iopub.status.idle": "2024-08-16T11:54:25.075426Z",
     "shell.execute_reply": "2024-08-16T11:54:25.074487Z"
    },
    "papermill": {
     "duration": 17.869119,
     "end_time": "2024-08-16T11:54:25.077730",
     "exception": false,
     "start_time": "2024-08-16T11:54:07.208611",
     "status": "completed"
    },
    "tags": []
   },
   "outputs": [
    {
     "data": {
      "text/plain": [
       "year\n",
       "2021    981626\n",
       "2020    482661\n",
       "2022    365532\n",
       "2023     92635\n",
       "2024     73980\n",
       "2019      2129\n",
       "Name: count, dtype: int64"
      ]
     },
     "execution_count": 26,
     "metadata": {},
     "output_type": "execute_result"
    }
   ],
   "source": [
    "filt.year.value_counts()"
   ]
  },
  {
   "cell_type": "code",
   "execution_count": 27,
   "id": "8f1bf571",
   "metadata": {
    "execution": {
     "iopub.execute_input": "2024-08-16T11:55:00.786121Z",
     "iopub.status.busy": "2024-08-16T11:55:00.785651Z",
     "iopub.status.idle": "2024-08-16T11:55:01.075580Z",
     "shell.execute_reply": "2024-08-16T11:55:01.074791Z"
    },
    "papermill": {
     "duration": 18.222564,
     "end_time": "2024-08-16T11:55:01.078074",
     "exception": false,
     "start_time": "2024-08-16T11:54:42.855510",
     "status": "completed"
    },
    "tags": []
   },
   "outputs": [],
   "source": [
    "grouped = filt.groupby(['year', 'sentiment']).size().unstack(fill_value=0)"
   ]
  },
  {
   "cell_type": "code",
   "execution_count": 28,
   "id": "d5d93788",
   "metadata": {
    "execution": {
     "iopub.execute_input": "2024-08-16T11:55:36.774985Z",
     "iopub.status.busy": "2024-08-16T11:55:36.774655Z",
     "iopub.status.idle": "2024-08-16T11:55:36.784151Z",
     "shell.execute_reply": "2024-08-16T11:55:36.783284Z"
    },
    "papermill": {
     "duration": 17.894029,
     "end_time": "2024-08-16T11:55:36.786255",
     "exception": false,
     "start_time": "2024-08-16T11:55:18.892226",
     "status": "completed"
    },
    "tags": []
   },
   "outputs": [
    {
     "data": {
      "text/html": [
       "<div>\n",
       "<style scoped>\n",
       "    .dataframe tbody tr th:only-of-type {\n",
       "        vertical-align: middle;\n",
       "    }\n",
       "\n",
       "    .dataframe tbody tr th {\n",
       "        vertical-align: top;\n",
       "    }\n",
       "\n",
       "    .dataframe thead th {\n",
       "        text-align: right;\n",
       "    }\n",
       "</style>\n",
       "<table border=\"1\" class=\"dataframe\">\n",
       "  <thead>\n",
       "    <tr style=\"text-align: right;\">\n",
       "      <th>sentiment</th>\n",
       "      <th>negative</th>\n",
       "      <th>neutral</th>\n",
       "      <th>positive</th>\n",
       "    </tr>\n",
       "    <tr>\n",
       "      <th>year</th>\n",
       "      <th></th>\n",
       "      <th></th>\n",
       "      <th></th>\n",
       "    </tr>\n",
       "  </thead>\n",
       "  <tbody>\n",
       "    <tr>\n",
       "      <th>2019</th>\n",
       "      <td>113</td>\n",
       "      <td>1635</td>\n",
       "      <td>381</td>\n",
       "    </tr>\n",
       "    <tr>\n",
       "      <th>2020</th>\n",
       "      <td>47574</td>\n",
       "      <td>369559</td>\n",
       "      <td>65528</td>\n",
       "    </tr>\n",
       "    <tr>\n",
       "      <th>2021</th>\n",
       "      <td>114164</td>\n",
       "      <td>650355</td>\n",
       "      <td>217107</td>\n",
       "    </tr>\n",
       "    <tr>\n",
       "      <th>2022</th>\n",
       "      <td>34325</td>\n",
       "      <td>253255</td>\n",
       "      <td>77952</td>\n",
       "    </tr>\n",
       "    <tr>\n",
       "      <th>2023</th>\n",
       "      <td>8119</td>\n",
       "      <td>69961</td>\n",
       "      <td>14555</td>\n",
       "    </tr>\n",
       "    <tr>\n",
       "      <th>2024</th>\n",
       "      <td>5603</td>\n",
       "      <td>58594</td>\n",
       "      <td>9783</td>\n",
       "    </tr>\n",
       "  </tbody>\n",
       "</table>\n",
       "</div>"
      ],
      "text/plain": [
       "sentiment  negative  neutral  positive\n",
       "year                                  \n",
       "2019            113     1635       381\n",
       "2020          47574   369559     65528\n",
       "2021         114164   650355    217107\n",
       "2022          34325   253255     77952\n",
       "2023           8119    69961     14555\n",
       "2024           5603    58594      9783"
      ]
     },
     "execution_count": 28,
     "metadata": {},
     "output_type": "execute_result"
    }
   ],
   "source": [
    "grouped"
   ]
  },
  {
   "cell_type": "code",
   "execution_count": 29,
   "id": "3cf7a305",
   "metadata": {
    "execution": {
     "iopub.execute_input": "2024-08-16T11:56:12.502063Z",
     "iopub.status.busy": "2024-08-16T11:56:12.501248Z",
     "iopub.status.idle": "2024-08-16T11:56:12.513640Z",
     "shell.execute_reply": "2024-08-16T11:56:12.512762Z"
    },
    "papermill": {
     "duration": 17.931564,
     "end_time": "2024-08-16T11:56:12.515619",
     "exception": false,
     "start_time": "2024-08-16T11:55:54.584055",
     "status": "completed"
    },
    "tags": []
   },
   "outputs": [
    {
     "data": {
      "text/html": [
       "<div>\n",
       "<style scoped>\n",
       "    .dataframe tbody tr th:only-of-type {\n",
       "        vertical-align: middle;\n",
       "    }\n",
       "\n",
       "    .dataframe tbody tr th {\n",
       "        vertical-align: top;\n",
       "    }\n",
       "\n",
       "    .dataframe thead th {\n",
       "        text-align: right;\n",
       "    }\n",
       "</style>\n",
       "<table border=\"1\" class=\"dataframe\">\n",
       "  <thead>\n",
       "    <tr style=\"text-align: right;\">\n",
       "      <th>sentiment</th>\n",
       "      <th>negative</th>\n",
       "      <th>neutral</th>\n",
       "      <th>positive</th>\n",
       "    </tr>\n",
       "    <tr>\n",
       "      <th>year</th>\n",
       "      <th></th>\n",
       "      <th></th>\n",
       "      <th></th>\n",
       "    </tr>\n",
       "  </thead>\n",
       "  <tbody>\n",
       "    <tr>\n",
       "      <th>2019</th>\n",
       "      <td>5.307656</td>\n",
       "      <td>76.796618</td>\n",
       "      <td>17.895726</td>\n",
       "    </tr>\n",
       "    <tr>\n",
       "      <th>2020</th>\n",
       "      <td>9.856607</td>\n",
       "      <td>76.566990</td>\n",
       "      <td>13.576402</td>\n",
       "    </tr>\n",
       "    <tr>\n",
       "      <th>2021</th>\n",
       "      <td>11.630091</td>\n",
       "      <td>66.252829</td>\n",
       "      <td>22.117079</td>\n",
       "    </tr>\n",
       "    <tr>\n",
       "      <th>2022</th>\n",
       "      <td>9.390423</td>\n",
       "      <td>69.283948</td>\n",
       "      <td>21.325629</td>\n",
       "    </tr>\n",
       "    <tr>\n",
       "      <th>2023</th>\n",
       "      <td>8.764506</td>\n",
       "      <td>75.523290</td>\n",
       "      <td>15.712204</td>\n",
       "    </tr>\n",
       "    <tr>\n",
       "      <th>2024</th>\n",
       "      <td>7.573669</td>\n",
       "      <td>79.202487</td>\n",
       "      <td>13.223844</td>\n",
       "    </tr>\n",
       "  </tbody>\n",
       "</table>\n",
       "</div>"
      ],
      "text/plain": [
       "sentiment   negative    neutral   positive\n",
       "year                                      \n",
       "2019        5.307656  76.796618  17.895726\n",
       "2020        9.856607  76.566990  13.576402\n",
       "2021       11.630091  66.252829  22.117079\n",
       "2022        9.390423  69.283948  21.325629\n",
       "2023        8.764506  75.523290  15.712204\n",
       "2024        7.573669  79.202487  13.223844"
      ]
     },
     "execution_count": 29,
     "metadata": {},
     "output_type": "execute_result"
    }
   ],
   "source": [
    "grouped_percentage = grouped.div(grouped.sum(axis=1), axis=0) * 100\n",
    "grouped_percentage"
   ]
  },
  {
   "cell_type": "code",
   "execution_count": 30,
   "id": "703d0557",
   "metadata": {
    "execution": {
     "iopub.execute_input": "2024-08-16T11:56:48.237963Z",
     "iopub.status.busy": "2024-08-16T11:56:48.237254Z",
     "iopub.status.idle": "2024-08-16T11:56:48.907932Z",
     "shell.execute_reply": "2024-08-16T11:56:48.907060Z"
    },
    "papermill": {
     "duration": 18.477185,
     "end_time": "2024-08-16T11:56:48.910092",
     "exception": false,
     "start_time": "2024-08-16T11:56:30.432907",
     "status": "completed"
    },
    "tags": []
   },
   "outputs": [
    {
     "data": {
      "image/png": "[encoded data removed]",
      "text/plain": [
       "<Figure size 640x480 with 1 Axes>"
      ]
     },
     "metadata": {},
     "output_type": "display_data"
    }
   ],
   "source": [
    "# Plotting the stacked bar chart\n",
    "grouped_percentage.plot(kind='barh', stacked=True)\n",
    "\n",
    "# Add labels and title\n",
    "plt.xlabel('Year')\n",
    "plt.ylabel('Count')\n",
    "plt.title('Sentiment Distribution by Year')\n",
    "\n",
    "# Display the plot\n",
    "plt.show()"
   ]
  },
  {
   "cell_type": "code",
   "execution_count": null,
   "id": "4ec327fb",
   "metadata": {
    "papermill": {
     "duration": 17.865669,
     "end_time": "2024-08-16T11:57:24.599805",
     "exception": false,
     "start_time": "2024-08-16T11:57:06.734136",
     "status": "completed"
    },
    "tags": []
   },
   "outputs": [],
   "source": []
  },
  {
   "cell_type": "code",
   "execution_count": 31,
   "id": "2d2deb27",
   "metadata": {
    "execution": {
     "iopub.execute_input": "2024-08-16T11:58:00.326109Z",
     "iopub.status.busy": "2024-08-16T11:58:00.325716Z",
     "iopub.status.idle": "2024-08-16T11:58:00.330785Z",
     "shell.execute_reply": "2024-08-16T11:58:00.329905Z"
    },
    "papermill": {
     "duration": 17.826261,
     "end_time": "2024-08-16T11:58:00.332745",
     "exception": false,
     "start_time": "2024-08-16T11:57:42.506484",
     "status": "completed"
    },
    "tags": []
   },
   "outputs": [],
   "source": [
    "# from transformers import pipeline\n",
    "# from datasets import Dataset\n",
    "# import pandas as pd\n",
    "\n",
    "# # Example data\n",
    "# data = {\n",
    "#     'text': [\n",
    "#         \"Covid cases are increasing fast!\",\n",
    "#         \"I am feeling great today!\",\n",
    "#         \"This is a terrible situation.\",\n",
    "#         # Add more examples as needed\n",
    "#     ]\n",
    "# }\n",
    "# df = pd.DataFrame(data)\n",
    "# dataset = Dataset.from_pandas(df)\n",
    "\n",
    "# # Load the sentiment analysis pipeline\n",
    "# sentiment_task = pipeline(\"sentiment-analysis\", model=model_path, tokenizer=model_path, device=0)\n",
    "\n",
    "# # Define the function to analyze sentiments\n",
    "# def analyze_sentiments(batch):\n",
    "#     results = sentiment_task(batch['text'])\n",
    "#     return {'sentiment': [result['label'] for result in results],\n",
    "#             'score': [result['score'] for result in results]}\n",
    "\n",
    "# # Apply sentiment analysis to the dataset\n",
    "# results_dataset = dataset.map(analyze_sentiments, batched=True)\n",
    "\n",
    "# # Convert results to a DataFrame\n",
    "# results_df = pd.DataFrame(results_dataset)\n",
    "\n",
    "# # Print results\n",
    "# print(results_df.head())\n"
   ]
  }
 ],
 "metadata": {
  "kaggle": {
   "accelerator": "nvidiaTeslaT4",
   "dataSources": [
    {
     "databundleVersionId": 9364076,
     "datasetId": 5528375,
     "sourceId": 9181722,
     "sourceType": "datasetVersion"
    }
   ],
   "dockerImageVersionId": 30747,
   "isGpuEnabled": true,
   "isInternetEnabled": true,
   "language": "python",
   "sourceType": "notebook"
  },
  "kernelspec": {
   "display_name": "Python 3",
   "language": "python",
   "name": "python3"
  },
  "language_info": {
   "codemirror_mode": {
    "name": "ipython",
    "version": 3
   },
   "file_extension": ".py",
   "mimetype": "text/x-python",
   "name": "python",
   "nbconvert_exporter": "python",
   "pygments_lexer": "ipython3",
   "version": "3.10.13"
  },
  "papermill": {
   "default_parameters": {},
   "duration": 23727.826579,
   "end_time": "2024-08-16T11:58:20.972802",
   "environment_variables": {},
   "exception": null,
   "input_path": "__notebook__.ipynb",
   "output_path": "__notebook__.ipynb",
   "parameters": {},
   "start_time": "2024-08-16T05:22:53.146223",
   "version": "2.5.0"
  },
  "widgets": {
   "application/vnd.jupyter.widget-state+json": {
    "state": {
     "01e13559096241f0a4dd96e7b6aeeb37": {
      "model_module": "@jupyter-widgets/base",
      "model_module_version": "1.2.0",
      "model_name": "LayoutModel",
      "state": {
       "_model_module": "@jupyter-widgets/base",
       "_model_module_version": "1.2.0",
       "_model_name": "LayoutModel",
       "_view_count": null,
       "_view_module": "@jupyter-widgets/base",
       "_view_module_version": "1.2.0",
       "_view_name": "LayoutView",
       "align_content": null,
       "align_items": null,
       "align_self": null,
       "border": null,
       "bottom": null,
       "display": null,
       "flex": null,
       "flex_flow": null,
       "grid_area": null,
       "grid_auto_columns": null,
       "grid_auto_flow": null,
       "grid_auto_rows": null,
       "grid_column": null,
       "grid_gap": null,
       "grid_row": null,
       "grid_template_areas": null,
       "grid_template_columns": null,
       "grid_template_rows": null,
       "height": null,
       "justify_content": null,
       "justify_items": null,
       "left": null,
       "margin": null,
       "max_height": null,
       "max_width": null,
       "min_height": null,
       "min_width": null,
       "object_fit": null,
       "object_position": null,
       "order": null,
       "overflow": null,
       "overflow_x": null,
       "overflow_y": null,
       "padding": null,
       "right": null,
       "top": null,
       "visibility": null,
       "width": null
      }
     },
     "02e3f1fd8e2a474eb8a08902a7fb270c": {
      "model_module": "@jupyter-widgets/base",
      "model_module_version": "1.2.0",
      "model_name": "LayoutModel",
      "state": {
       "_model_module": "@jupyter-widgets/base",
       "_model_module_version": "1.2.0",
       "_model_name": "LayoutModel",
       "_view_count": null,
       "_view_module": "@jupyter-widgets/base",
       "_view_module_version": "1.2.0",
       "_view_name": "LayoutView",
       "align_content": null,
       "align_items": null,
       "align_self": null,
       "border": null,
       "bottom": null,
       "display": null,
       "flex": null,
       "flex_flow": null,
       "grid_area": null,
       "grid_auto_columns": null,
       "grid_auto_flow": null,
       "grid_auto_rows": null,
       "grid_column": null,
       "grid_gap": null,
       "grid_row": null,
       "grid_template_areas": null,
       "grid_template_columns": null,
       "grid_template_rows": null,
       "height": null,
       "justify_content": null,
       "justify_items": null,
       "left": null,
       "margin": null,
       "max_height": null,
       "max_width": null,
       "min_height": null,
       "min_width": null,
       "object_fit": null,
       "object_position": null,
       "order": null,
       "overflow": null,
       "overflow_x": null,
       "overflow_y": null,
       "padding": null,
       "right": null,
       "top": null,
       "visibility": null,
       "width": null
      }
     },
     "19e95f3847304076b7fe7bc3bd42f6c3": {
      "model_module": "@jupyter-widgets/controls",
      "model_module_version": "1.5.0",
      "model_name": "HBoxModel",
      "state": {
       "_dom_classes": [],
       "_model_module": "@jupyter-widgets/controls",
       "_model_module_version": "1.5.0",
       "_model_name": "HBoxModel",
       "_view_count": null,
       "_view_module": "@jupyter-widgets/controls",
       "_view_module_version": "1.5.0",
       "_view_name": "HBoxView",
       "box_style": "",
       "children": [
        "IPY_MODEL_a252bf6d21114a8aa2101415bb140f40",
        "IPY_MODEL_9c2b483c98a84f3c90271cf61e8cd2a1",
        "IPY_MODEL_cc001986e2b944a888876d54fd23d824"
       ],
       "layout": "IPY_MODEL_ab17edd82ecb48df80b82e00ca05870e"
      }
     },
     "273f2c20d7654017bb9e9aaa24769841": {
      "model_module": "@jupyter-widgets/controls",
      "model_module_version": "1.5.0",
      "model_name": "HBoxModel",
      "state": {
       "_dom_classes": [],
       "_model_module": "@jupyter-widgets/controls",
       "_model_module_version": "1.5.0",
       "_model_name": "HBoxModel",
       "_view_count": null,
       "_view_module": "@jupyter-widgets/controls",
       "_view_module_version": "1.5.0",
       "_view_name": "HBoxView",
       "box_style": "",
       "children": [
        "IPY_MODEL_698d0ef152914506bb6047e00cd08971",
        "IPY_MODEL_89516709ada14525aebe2d7c3b1302b1",
        "IPY_MODEL_a47e32fcf9fb44a28675537f7ef39edf"
       ],
       "layout": "IPY_MODEL_b638a493936d4b75ae8071ea18108d1e"
      }
     },
     "2e94f1bd51794db0a885dc21306941c2": {
      "model_module": "@jupyter-widgets/controls",
      "model_module_version": "1.5.0",
      "model_name": "DescriptionStyleModel",
      "state": {
       "_model_module": "@jupyter-widgets/controls",
       "_model_module_version": "1.5.0",
       "_model_name": "DescriptionStyleModel",
       "_view_count": null,
       "_view_module": "@jupyter-widgets/base",
       "_view_module_version": "1.2.0",
       "_view_name": "StyleView",
       "description_width": ""
      }
     },
     "37c1b4aefd29452c9d4c838113f8e79b": {
      "model_module": "@jupyter-widgets/controls",
      "model_module_version": "1.5.0",
      "model_name": "ProgressStyleModel",
      "state": {
       "_model_module": "@jupyter-widgets/controls",
       "_model_module_version": "1.5.0",
       "_model_name": "ProgressStyleModel",
       "_view_count": null,
       "_view_module": "@jupyter-widgets/base",
       "_view_module_version": "1.2.0",
       "_view_name": "StyleView",
       "bar_color": null,
       "description_width": ""
      }
     },
     "3ce0a73355714ec2a0662d4d65ecad1f": {
      "model_module": "@jupyter-widgets/controls",
      "model_module_version": "1.5.0",
      "model_name": "DescriptionStyleModel",
      "state": {
       "_model_module": "@jupyter-widgets/controls",
       "_model_module_version": "1.5.0",
       "_model_name": "DescriptionStyleModel",
       "_view_count": null,
       "_view_module": "@jupyter-widgets/base",
       "_view_module_version": "1.2.0",
       "_view_name": "StyleView",
       "description_width": ""
      }
     },
     "3de5e16ed4554d8eb688ae5c43b00310": {
      "model_module": "@jupyter-widgets/controls",
      "model_module_version": "1.5.0",
      "model_name": "ProgressStyleModel",
      "state": {
       "_model_module": "@jupyter-widgets/controls",
       "_model_module_version": "1.5.0",
       "_model_name": "ProgressStyleModel",
       "_view_count": null,
       "_view_module": "@jupyter-widgets/base",
       "_view_module_version": "1.2.0",
       "_view_name": "StyleView",
       "bar_color": null,
       "description_width": ""
      }
     },
     "4e637b22b71748e68799384533a5fd1a": {
      "model_module": "@jupyter-widgets/controls",
      "model_module_version": "1.5.0",
      "model_name": "DescriptionStyleModel",
      "state": {
       "_model_module": "@jupyter-widgets/controls",
       "_model_module_version": "1.5.0",
       "_model_name": "DescriptionStyleModel",
       "_view_count": null,
       "_view_module": "@jupyter-widgets/base",
       "_view_module_version": "1.2.0",
       "_view_name": "StyleView",
       "description_width": ""
      }
     },
     "5348cf063acd41e4aceb160c99d17a4c": {
      "model_module": "@jupyter-widgets/controls",
      "model_module_version": "1.5.0",
      "model_name": "HTMLModel",
      "state": {
       "_dom_classes": [],
       "_model_module": "@jupyter-widgets/controls",
       "_model_module_version": "1.5.0",
       "_model_name": "HTMLModel",
       "_view_count": null,
       "_view_module": "@jupyter-widgets/controls",
       "_view_module_version": "1.5.0",
       "_view_name": "HTMLView",
       "description": "",
       "description_tooltip": null,
       "layout": "IPY_MODEL_58193a8f74aa4b768698d5dead4a9af9",
       "placeholder": "​",
       "style": "IPY_MODEL_e1818584d9f04c5a9ad3c93fa6febf6b",
       "value": "vocab.json: 100%"
      }
     },
     "58193a8f74aa4b768698d5dead4a9af9": {
      "model_module": "@jupyter-widgets/base",
      "model_module_version": "1.2.0",
      "model_name": "LayoutModel",
      "state": {
       "_model_module": "@jupyter-widgets/base",
       "_model_module_version": "1.2.0",
       "_model_name": "LayoutModel",
       "_view_count": null,
       "_view_module": "@jupyter-widgets/base",
       "_view_module_version": "1.2.0",
       "_view_name": "LayoutView",
       "align_content": null,
       "align_items": null,
       "align_self": null,
       "border": null,
       "bottom": null,
       "display": null,
       "flex": null,
       "flex_flow": null,
       "grid_area": null,
       "grid_auto_columns": null,
       "grid_auto_flow": null,
       "grid_auto_rows": null,
       "grid_column": null,
       "grid_gap": null,
       "grid_row": null,
       "grid_template_areas": null,
       "grid_template_columns": null,
       "grid_template_rows": null,
       "height": null,
       "justify_content": null,
       "justify_items": null,
       "left": null,
       "margin": null,
       "max_height": null,
       "max_width": null,
       "min_height": null,
       "min_width": null,
       "object_fit": null,
       "object_position": null,
       "order": null,
       "overflow": null,
       "overflow_x": null,
       "overflow_y": null,
       "padding": null,
       "right": null,
       "top": null,
       "visibility": null,
       "width": null
      }
     },
     "5b11d4561fb047e7ad9d534a3287901b": {
      "model_module": "@jupyter-widgets/base",
      "model_module_version": "1.2.0",
      "model_name": "LayoutModel",
      "state": {
       "_model_module": "@jupyter-widgets/base",
       "_model_module_version": "1.2.0",
       "_model_name": "LayoutModel",
       "_view_count": null,
       "_view_module": "@jupyter-widgets/base",
       "_view_module_version": "1.2.0",
       "_view_name": "LayoutView",
       "align_content": null,
       "align_items": null,
       "align_self": null,
       "border": null,
       "bottom": null,
       "display": null,
       "flex": null,
       "flex_flow": null,
       "grid_area": null,
       "grid_auto_columns": null,
       "grid_auto_flow": null,
       "grid_auto_rows": null,
       "grid_column": null,
       "grid_gap": null,
       "grid_row": null,
       "grid_template_areas": null,
       "grid_template_columns": null,
       "grid_template_rows": null,
       "height": null,
       "justify_content": null,
       "justify_items": null,
       "left": null,
       "margin": null,
       "max_height": null,
       "max_width": null,
       "min_height": null,
       "min_width": null,
       "object_fit": null,
       "object_position": null,
       "order": null,
       "overflow": null,
       "overflow_x": null,
       "overflow_y": null,
       "padding": null,
       "right": null,
       "top": null,
       "visibility": null,
       "width": null
      }
     },
     "5bd790db08ae44598f892df02c275930": {
      "model_module": "@jupyter-widgets/controls",
      "model_module_version": "1.5.0",
      "model_name": "HTMLModel",
      "state": {
       "_dom_classes": [],
       "_model_module": "@jupyter-widgets/controls",
       "_model_module_version": "1.5.0",
       "_model_name": "HTMLModel",
       "_view_count": null,
       "_view_module": "@jupyter-widgets/controls",
       "_view_module_version": "1.5.0",
       "_view_name": "HTMLView",
       "description": "",
       "description_tooltip": null,
       "layout": "IPY_MODEL_dee08ec0f51740aeb88e36b70f1353b3",
       "placeholder": "​",
       "style": "IPY_MODEL_9d7e054e115f4812a26227568fd2f06a",
       "value": " 899k/899k [00:00&lt;00:00, 6.55MB/s]"
      }
     },
     "67e9d55c252e430eb0e535de42df3770": {
      "model_module": "@jupyter-widgets/controls",
      "model_module_version": "1.5.0",
      "model_name": "HBoxModel",
      "state": {
       "_dom_classes": [],
       "_model_module": "@jupyter-widgets/controls",
       "_model_module_version": "1.5.0",
       "_model_name": "HBoxModel",
       "_view_count": null,
       "_view_module": "@jupyter-widgets/controls",
       "_view_module_version": "1.5.0",
       "_view_name": "HBoxView",
       "box_style": "",
       "children": [
        "IPY_MODEL_fcec19b126e4414a8e349a730b6725d4",
        "IPY_MODEL_dc9cbf5229274da3bb94e622b0a5024b",
        "IPY_MODEL_ab12159c308941779962c2a5ab5124fe"
       ],
       "layout": "IPY_MODEL_c5866aa25a9e4638ba882caa20553f6e"
      }
     },
     "68ca773ef23446d4a31d1a15086cc2cf": {
      "model_module": "@jupyter-widgets/controls",
      "model_module_version": "1.5.0",
      "model_name": "HBoxModel",
      "state": {
       "_dom_classes": [],
       "_model_module": "@jupyter-widgets/controls",
       "_model_module_version": "1.5.0",
       "_model_name": "HBoxModel",
       "_view_count": null,
       "_view_module": "@jupyter-widgets/controls",
       "_view_module_version": "1.5.0",
       "_view_name": "HBoxView",
       "box_style": "",
       "children": [
        "IPY_MODEL_5348cf063acd41e4aceb160c99d17a4c",
        "IPY_MODEL_883ffb1c150f4321b12d2d08077b7d34",
        "IPY_MODEL_5bd790db08ae44598f892df02c275930"
       ],
       "layout": "IPY_MODEL_c0f7794b450e457eab655ec4028c0da0"
      }
     },
     "698d0ef152914506bb6047e00cd08971": {
      "model_module": "@jupyter-widgets/controls",
      "model_module_version": "1.5.0",
      "model_name": "HTMLModel",
      "state": {
       "_dom_classes": [],
       "_model_module": "@jupyter-widgets/controls",
       "_model_module_version": "1.5.0",
       "_model_name": "HTMLModel",
       "_view_count": null,
       "_view_module": "@jupyter-widgets/controls",
       "_view_module_version": "1.5.0",
       "_view_name": "HTMLView",
       "description": "",
       "description_tooltip": null,
       "layout": "IPY_MODEL_01e13559096241f0a4dd96e7b6aeeb37",
       "placeholder": "​",
       "style": "IPY_MODEL_b14a281551b84314aa058aee18f65215",
       "value": "merges.txt: 100%"
      }
     },
     "6e81055c29864f488be1147d18ded8ff": {
      "model_module": "@jupyter-widgets/base",
      "model_module_version": "1.2.0",
      "model_name": "LayoutModel",
      "state": {
       "_model_module": "@jupyter-widgets/base",
       "_model_module_version": "1.2.0",
       "_model_name": "LayoutModel",
       "_view_count": null,
       "_view_module": "@jupyter-widgets/base",
       "_view_module_version": "1.2.0",
       "_view_name": "LayoutView",
       "align_content": null,
       "align_items": null,
       "align_self": null,
       "border": null,
       "bottom": null,
       "display": null,
       "flex": null,
       "flex_flow": null,
       "grid_area": null,
       "grid_auto_columns": null,
       "grid_auto_flow": null,
       "grid_auto_rows": null,
       "grid_column": null,
       "grid_gap": null,
       "grid_row": null,
       "grid_template_areas": null,
       "grid_template_columns": null,
       "grid_template_rows": null,
       "height": null,
       "justify_content": null,
       "justify_items": null,
       "left": null,
       "margin": null,
       "max_height": null,
       "max_width": null,
       "min_height": null,
       "min_width": null,
       "object_fit": null,
       "object_position": null,
       "order": null,
       "overflow": null,
       "overflow_x": null,
       "overflow_y": null,
       "padding": null,
       "right": null,
       "top": null,
       "visibility": null,
       "width": null
      }
     },
     "6f9f280bf3da414f89cd74c1ba601bd6": {
      "model_module": "@jupyter-widgets/base",
      "model_module_version": "1.2.0",
      "model_name": "LayoutModel",
      "state": {
       "_model_module": "@jupyter-widgets/base",
       "_model_module_version": "1.2.0",
       "_model_name": "LayoutModel",
       "_view_count": null,
       "_view_module": "@jupyter-widgets/base",
       "_view_module_version": "1.2.0",
       "_view_name": "LayoutView",
       "align_content": null,
       "align_items": null,
       "align_self": null,
       "border": null,
       "bottom": null,
       "display": null,
       "flex": null,
       "flex_flow": null,
       "grid_area": null,
       "grid_auto_columns": null,
       "grid_auto_flow": null,
       "grid_auto_rows": null,
       "grid_column": null,
       "grid_gap": null,
       "grid_row": null,
       "grid_template_areas": null,
       "grid_template_columns": null,
       "grid_template_rows": null,
       "height": null,
       "justify_content": null,
       "justify_items": null,
       "left": null,
       "margin": null,
       "max_height": null,
       "max_width": null,
       "min_height": null,
       "min_width": null,
       "object_fit": null,
       "object_position": null,
       "order": null,
       "overflow": null,
       "overflow_x": null,
       "overflow_y": null,
       "padding": null,
       "right": null,
       "top": null,
       "visibility": null,
       "width": null
      }
     },
     "74f64ce11c2042ec9a501a603d8339c1": {
      "model_module": "@jupyter-widgets/controls",
      "model_module_version": "1.5.0",
      "model_name": "DescriptionStyleModel",
      "state": {
       "_model_module": "@jupyter-widgets/controls",
       "_model_module_version": "1.5.0",
       "_model_name": "DescriptionStyleModel",
       "_view_count": null,
       "_view_module": "@jupyter-widgets/base",
       "_view_module_version": "1.2.0",
       "_view_name": "StyleView",
       "description_width": ""
      }
     },
     "778bcef9a01340acac64216ed11706c7": {
      "model_module": "@jupyter-widgets/controls",
      "model_module_version": "1.5.0",
      "model_name": "ProgressStyleModel",
      "state": {
       "_model_module": "@jupyter-widgets/controls",
       "_model_module_version": "1.5.0",
       "_model_name": "ProgressStyleModel",
       "_view_count": null,
       "_view_module": "@jupyter-widgets/base",
       "_view_module_version": "1.2.0",
       "_view_name": "StyleView",
       "bar_color": null,
       "description_width": ""
      }
     },
     "87f49cd893b547c49130fe6a1fa6233b": {
      "model_module": "@jupyter-widgets/controls",
      "model_module_version": "1.5.0",
      "model_name": "HBoxModel",
      "state": {
       "_dom_classes": [],
       "_model_module": "@jupyter-widgets/controls",
       "_model_module_version": "1.5.0",
       "_model_name": "HBoxModel",
       "_view_count": null,
       "_view_module": "@jupyter-widgets/controls",
       "_view_module_version": "1.5.0",
       "_view_name": "HBoxView",
       "box_style": "",
       "children": [
        "IPY_MODEL_943e2bc655e64eac8cce673690637305",
        "IPY_MODEL_8ab4494da0594b0bbce524dd15772b14",
        "IPY_MODEL_fb05f9c8d1694689abdf2ec97da857d7"
       ],
       "layout": "IPY_MODEL_02e3f1fd8e2a474eb8a08902a7fb270c"
      }
     },
     "883ffb1c150f4321b12d2d08077b7d34": {
      "model_module": "@jupyter-widgets/controls",
      "model_module_version": "1.5.0",
      "model_name": "FloatProgressModel",
      "state": {
       "_dom_classes": [],
       "_model_module": "@jupyter-widgets/controls",
       "_model_module_version": "1.5.0",
       "_model_name": "FloatProgressModel",
       "_view_count": null,
       "_view_module": "@jupyter-widgets/controls",
       "_view_module_version": "1.5.0",
       "_view_name": "ProgressView",
       "bar_style": "success",
       "description": "",
       "description_tooltip": null,
       "layout": "IPY_MODEL_d172c88887d94f7695dc3ec59f77fbcf",
       "max": 898822.0,
       "min": 0.0,
       "orientation": "horizontal",
       "style": "IPY_MODEL_778bcef9a01340acac64216ed11706c7",
       "value": 898822.0
      }
     },
     "89516709ada14525aebe2d7c3b1302b1": {
      "model_module": "@jupyter-widgets/controls",
      "model_module_version": "1.5.0",
      "model_name": "FloatProgressModel",
      "state": {
       "_dom_classes": [],
       "_model_module": "@jupyter-widgets/controls",
       "_model_module_version": "1.5.0",
       "_model_name": "FloatProgressModel",
       "_view_count": null,
       "_view_module": "@jupyter-widgets/controls",
       "_view_module_version": "1.5.0",
       "_view_name": "ProgressView",
       "bar_style": "success",
       "description": "",
       "description_tooltip": null,
       "layout": "IPY_MODEL_de3b8935b65d4c2cae2d6b77c3895b94",
       "max": 456318.0,
       "min": 0.0,
       "orientation": "horizontal",
       "style": "IPY_MODEL_9cf783aa86a747098c98fa9843ca6cea",
       "value": 456318.0
      }
     },
     "8ab4494da0594b0bbce524dd15772b14": {
      "model_module": "@jupyter-widgets/controls",
      "model_module_version": "1.5.0",
      "model_name": "FloatProgressModel",
      "state": {
       "_dom_classes": [],
       "_model_module": "@jupyter-widgets/controls",
       "_model_module_version": "1.5.0",
       "_model_name": "FloatProgressModel",
       "_view_count": null,
       "_view_module": "@jupyter-widgets/controls",
       "_view_module_version": "1.5.0",
       "_view_name": "ProgressView",
       "bar_style": "success",
       "description": "",
       "description_tooltip": null,
       "layout": "IPY_MODEL_a8416e7bd46c4ea0a0da8ad195206e2a",
       "max": 501045531.0,
       "min": 0.0,
       "orientation": "horizontal",
       "style": "IPY_MODEL_37c1b4aefd29452c9d4c838113f8e79b",
       "value": 501045531.0
      }
     },
     "9032bb00bcab495aacbf2a6c89ed2bd6": {
      "model_module": "@jupyter-widgets/controls",
      "model_module_version": "1.5.0",
      "model_name": "DescriptionStyleModel",
      "state": {
       "_model_module": "@jupyter-widgets/controls",
       "_model_module_version": "1.5.0",
       "_model_name": "DescriptionStyleModel",
       "_view_count": null,
       "_view_module": "@jupyter-widgets/base",
       "_view_module_version": "1.2.0",
       "_view_name": "StyleView",
       "description_width": ""
      }
     },
     "943e2bc655e64eac8cce673690637305": {
      "model_module": "@jupyter-widgets/controls",
      "model_module_version": "1.5.0",
      "model_name": "HTMLModel",
      "state": {
       "_dom_classes": [],
       "_model_module": "@jupyter-widgets/controls",
       "_model_module_version": "1.5.0",
       "_model_name": "HTMLModel",
       "_view_count": null,
       "_view_module": "@jupyter-widgets/controls",
       "_view_module_version": "1.5.0",
       "_view_name": "HTMLView",
       "description": "",
       "description_tooltip": null,
       "layout": "IPY_MODEL_b37ea5a36876480a86017c27710244ff",
       "placeholder": "​",
       "style": "IPY_MODEL_2e94f1bd51794db0a885dc21306941c2",
       "value": "pytorch_model.bin: 100%"
      }
     },
     "949d03caf8d145d48930da90fe314c63": {
      "model_module": "@jupyter-widgets/controls",
      "model_module_version": "1.5.0",
      "model_name": "DescriptionStyleModel",
      "state": {
       "_model_module": "@jupyter-widgets/controls",
       "_model_module_version": "1.5.0",
       "_model_name": "DescriptionStyleModel",
       "_view_count": null,
       "_view_module": "@jupyter-widgets/base",
       "_view_module_version": "1.2.0",
       "_view_name": "StyleView",
       "description_width": ""
      }
     },
     "9c2b483c98a84f3c90271cf61e8cd2a1": {
      "model_module": "@jupyter-widgets/controls",
      "model_module_version": "1.5.0",
      "model_name": "FloatProgressModel",
      "state": {
       "_dom_classes": [],
       "_model_module": "@jupyter-widgets/controls",
       "_model_module_version": "1.5.0",
       "_model_name": "FloatProgressModel",
       "_view_count": null,
       "_view_module": "@jupyter-widgets/controls",
       "_view_module_version": "1.5.0",
       "_view_name": "ProgressView",
       "bar_style": "success",
       "description": "",
       "description_tooltip": null,
       "layout": "IPY_MODEL_6f9f280bf3da414f89cd74c1ba601bd6",
       "max": 239.0,
       "min": 0.0,
       "orientation": "horizontal",
       "style": "IPY_MODEL_ce279a1c885548059ded5b66d7acb058",
       "value": 239.0
      }
     },
     "9cf783aa86a747098c98fa9843ca6cea": {
      "model_module": "@jupyter-widgets/controls",
      "model_module_version": "1.5.0",
      "model_name": "ProgressStyleModel",
      "state": {
       "_model_module": "@jupyter-widgets/controls",
       "_model_module_version": "1.5.0",
       "_model_name": "ProgressStyleModel",
       "_view_count": null,
       "_view_module": "@jupyter-widgets/base",
       "_view_module_version": "1.2.0",
       "_view_name": "StyleView",
       "bar_color": null,
       "description_width": ""
      }
     },
     "9d7e054e115f4812a26227568fd2f06a": {
      "model_module": "@jupyter-widgets/controls",
      "model_module_version": "1.5.0",
      "model_name": "DescriptionStyleModel",
      "state": {
       "_model_module": "@jupyter-widgets/controls",
       "_model_module_version": "1.5.0",
       "_model_name": "DescriptionStyleModel",
       "_view_count": null,
       "_view_module": "@jupyter-widgets/base",
       "_view_module_version": "1.2.0",
       "_view_name": "StyleView",
       "description_width": ""
      }
     },
     "a252bf6d21114a8aa2101415bb140f40": {
      "model_module": "@jupyter-widgets/controls",
      "model_module_version": "1.5.0",
      "model_name": "HTMLModel",
      "state": {
       "_dom_classes": [],
       "_model_module": "@jupyter-widgets/controls",
       "_model_module_version": "1.5.0",
       "_model_name": "HTMLModel",
       "_view_count": null,
       "_view_module": "@jupyter-widgets/controls",
       "_view_module_version": "1.5.0",
       "_view_name": "HTMLView",
       "description": "",
       "description_tooltip": null,
       "layout": "IPY_MODEL_baea9f79e09946eca22871a955f8dda1",
       "placeholder": "​",
       "style": "IPY_MODEL_9032bb00bcab495aacbf2a6c89ed2bd6",
       "value": "special_tokens_map.json: 100%"
      }
     },
     "a47e32fcf9fb44a28675537f7ef39edf": {
      "model_module": "@jupyter-widgets/controls",
      "model_module_version": "1.5.0",
      "model_name": "HTMLModel",
      "state": {
       "_dom_classes": [],
       "_model_module": "@jupyter-widgets/controls",
       "_model_module_version": "1.5.0",
       "_model_name": "HTMLModel",
       "_view_count": null,
       "_view_module": "@jupyter-widgets/controls",
       "_view_module_version": "1.5.0",
       "_view_name": "HTMLView",
       "description": "",
       "description_tooltip": null,
       "layout": "IPY_MODEL_d8ac6e00ec564bdea237a1775aca49ff",
       "placeholder": "​",
       "style": "IPY_MODEL_4e637b22b71748e68799384533a5fd1a",
       "value": " 456k/456k [00:00&lt;00:00, 6.30MB/s]"
      }
     },
     "a8416e7bd46c4ea0a0da8ad195206e2a": {
      "model_module": "@jupyter-widgets/base",
      "model_module_version": "1.2.0",
      "model_name": "LayoutModel",
      "state": {
       "_model_module": "@jupyter-widgets/base",
       "_model_module_version": "1.2.0",
       "_model_name": "LayoutModel",
       "_view_count": null,
       "_view_module": "@jupyter-widgets/base",
       "_view_module_version": "1.2.0",
       "_view_name": "LayoutView",
       "align_content": null,
       "align_items": null,
       "align_self": null,
       "border": null,
       "bottom": null,
       "display": null,
       "flex": null,
       "flex_flow": null,
       "grid_area": null,
       "grid_auto_columns": null,
       "grid_auto_flow": null,
       "grid_auto_rows": null,
       "grid_column": null,
       "grid_gap": null,
       "grid_row": null,
       "grid_template_areas": null,
       "grid_template_columns": null,
       "grid_template_rows": null,
       "height": null,
       "justify_content": null,
       "justify_items": null,
       "left": null,
       "margin": null,
       "max_height": null,
       "max_width": null,
       "min_height": null,
       "min_width": null,
       "object_fit": null,
       "object_position": null,
       "order": null,
       "overflow": null,
       "overflow_x": null,
       "overflow_y": null,
       "padding": null,
       "right": null,
       "top": null,
       "visibility": null,
       "width": null
      }
     },
     "aad2e98729524fa38725879cee4832c7": {
      "model_module": "@jupyter-widgets/base",
      "model_module_version": "1.2.0",
      "model_name": "LayoutModel",
      "state": {
       "_model_module": "@jupyter-widgets/base",
       "_model_module_version": "1.2.0",
       "_model_name": "LayoutModel",
       "_view_count": null,
       "_view_module": "@jupyter-widgets/base",
       "_view_module_version": "1.2.0",
       "_view_name": "LayoutView",
       "align_content": null,
       "align_items": null,
       "align_self": null,
       "border": null,
       "bottom": null,
       "display": null,
       "flex": null,
       "flex_flow": null,
       "grid_area": null,
       "grid_auto_columns": null,
       "grid_auto_flow": null,
       "grid_auto_rows": null,
       "grid_column": null,
       "grid_gap": null,
       "grid_row": null,
       "grid_template_areas": null,
       "grid_template_columns": null,
       "grid_template_rows": null,
       "height": null,
       "justify_content": null,
       "justify_items": null,
       "left": null,
       "margin": null,
       "max_height": null,
       "max_width": null,
       "min_height": null,
       "min_width": null,
       "object_fit": null,
       "object_position": null,
       "order": null,
       "overflow": null,
       "overflow_x": null,
       "overflow_y": null,
       "padding": null,
       "right": null,
       "top": null,
       "visibility": null,
       "width": null
      }
     },
     "ab12159c308941779962c2a5ab5124fe": {
      "model_module": "@jupyter-widgets/controls",
      "model_module_version": "1.5.0",
      "model_name": "HTMLModel",
      "state": {
       "_dom_classes": [],
       "_model_module": "@jupyter-widgets/controls",
       "_model_module_version": "1.5.0",
       "_model_name": "HTMLModel",
       "_view_count": null,
       "_view_module": "@jupyter-widgets/controls",
       "_view_module_version": "1.5.0",
       "_view_name": "HTMLView",
       "description": "",
       "description_tooltip": null,
       "layout": "IPY_MODEL_5b11d4561fb047e7ad9d534a3287901b",
       "placeholder": "​",
       "style": "IPY_MODEL_f2c803fb87734097850fef9d906dc96b",
       "value": " 929/929 [00:00&lt;00:00, 87.8kB/s]"
      }
     },
     "ab17edd82ecb48df80b82e00ca05870e": {
      "model_module": "@jupyter-widgets/base",
      "model_module_version": "1.2.0",
      "model_name": "LayoutModel",
      "state": {
       "_model_module": "@jupyter-widgets/base",
       "_model_module_version": "1.2.0",
       "_model_name": "LayoutModel",
       "_view_count": null,
       "_view_module": "@jupyter-widgets/base",
       "_view_module_version": "1.2.0",
       "_view_name": "LayoutView",
       "align_content": null,
       "align_items": null,
       "align_self": null,
       "border": null,
       "bottom": null,
       "display": null,
       "flex": null,
       "flex_flow": null,
       "grid_area": null,
       "grid_auto_columns": null,
       "grid_auto_flow": null,
       "grid_auto_rows": null,
       "grid_column": null,
       "grid_gap": null,
       "grid_row": null,
       "grid_template_areas": null,
       "grid_template_columns": null,
       "grid_template_rows": null,
       "height": null,
       "justify_content": null,
       "justify_items": null,
       "left": null,
       "margin": null,
       "max_height": null,
       "max_width": null,
       "min_height": null,
       "min_width": null,
       "object_fit": null,
       "object_position": null,
       "order": null,
       "overflow": null,
       "overflow_x": null,
       "overflow_y": null,
       "padding": null,
       "right": null,
       "top": null,
       "visibility": null,
       "width": null
      }
     },
     "b14a281551b84314aa058aee18f65215": {
      "model_module": "@jupyter-widgets/controls",
      "model_module_version": "1.5.0",
      "model_name": "DescriptionStyleModel",
      "state": {
       "_model_module": "@jupyter-widgets/controls",
       "_model_module_version": "1.5.0",
       "_model_name": "DescriptionStyleModel",
       "_view_count": null,
       "_view_module": "@jupyter-widgets/base",
       "_view_module_version": "1.2.0",
       "_view_name": "StyleView",
       "description_width": ""
      }
     },
     "b37ea5a36876480a86017c27710244ff": {
      "model_module": "@jupyter-widgets/base",
      "model_module_version": "1.2.0",
      "model_name": "LayoutModel",
      "state": {
       "_model_module": "@jupyter-widgets/base",
       "_model_module_version": "1.2.0",
       "_model_name": "LayoutModel",
       "_view_count": null,
       "_view_module": "@jupyter-widgets/base",
       "_view_module_version": "1.2.0",
       "_view_name": "LayoutView",
       "align_content": null,
       "align_items": null,
       "align_self": null,
       "border": null,
       "bottom": null,
       "display": null,
       "flex": null,
       "flex_flow": null,
       "grid_area": null,
       "grid_auto_columns": null,
       "grid_auto_flow": null,
       "grid_auto_rows": null,
       "grid_column": null,
       "grid_gap": null,
       "grid_row": null,
       "grid_template_areas": null,
       "grid_template_columns": null,
       "grid_template_rows": null,
       "height": null,
       "justify_content": null,
       "justify_items": null,
       "left": null,
       "margin": null,
       "max_height": null,
       "max_width": null,
       "min_height": null,
       "min_width": null,
       "object_fit": null,
       "object_position": null,
       "order": null,
       "overflow": null,
       "overflow_x": null,
       "overflow_y": null,
       "padding": null,
       "right": null,
       "top": null,
       "visibility": null,
       "width": null
      }
     },
     "b47b49c1e6ad4050bf2e42cb64602974": {
      "model_module": "@jupyter-widgets/base",
      "model_module_version": "1.2.0",
      "model_name": "LayoutModel",
      "state": {
       "_model_module": "@jupyter-widgets/base",
       "_model_module_version": "1.2.0",
       "_model_name": "LayoutModel",
       "_view_count": null,
       "_view_module": "@jupyter-widgets/base",
       "_view_module_version": "1.2.0",
       "_view_name": "LayoutView",
       "align_content": null,
       "align_items": null,
       "align_self": null,
       "border": null,
       "bottom": null,
       "display": null,
       "flex": null,
       "flex_flow": null,
       "grid_area": null,
       "grid_auto_columns": null,
       "grid_auto_flow": null,
       "grid_auto_rows": null,
       "grid_column": null,
       "grid_gap": null,
       "grid_row": null,
       "grid_template_areas": null,
       "grid_template_columns": null,
       "grid_template_rows": null,
       "height": null,
       "justify_content": null,
       "justify_items": null,
       "left": null,
       "margin": null,
       "max_height": null,
       "max_width": null,
       "min_height": null,
       "min_width": null,
       "object_fit": null,
       "object_position": null,
       "order": null,
       "overflow": null,
       "overflow_x": null,
       "overflow_y": null,
       "padding": null,
       "right": null,
       "top": null,
       "visibility": null,
       "width": null
      }
     },
     "b638a493936d4b75ae8071ea18108d1e": {
      "model_module": "@jupyter-widgets/base",
      "model_module_version": "1.2.0",
      "model_name": "LayoutModel",
      "state": {
       "_model_module": "@jupyter-widgets/base",
       "_model_module_version": "1.2.0",
       "_model_name": "LayoutModel",
       "_view_count": null,
       "_view_module": "@jupyter-widgets/base",
       "_view_module_version": "1.2.0",
       "_view_name": "LayoutView",
       "align_content": null,
       "align_items": null,
       "align_self": null,
       "border": null,
       "bottom": null,
       "display": null,
       "flex": null,
       "flex_flow": null,
       "grid_area": null,
       "grid_auto_columns": null,
       "grid_auto_flow": null,
       "grid_auto_rows": null,
       "grid_column": null,
       "grid_gap": null,
       "grid_row": null,
       "grid_template_areas": null,
       "grid_template_columns": null,
       "grid_template_rows": null,
       "height": null,
       "justify_content": null,
       "justify_items": null,
       "left": null,
       "margin": null,
       "max_height": null,
       "max_width": null,
       "min_height": null,
       "min_width": null,
       "object_fit": null,
       "object_position": null,
       "order": null,
       "overflow": null,
       "overflow_x": null,
       "overflow_y": null,
       "padding": null,
       "right": null,
       "top": null,
       "visibility": null,
       "width": null
      }
     },
     "baea9f79e09946eca22871a955f8dda1": {
      "model_module": "@jupyter-widgets/base",
      "model_module_version": "1.2.0",
      "model_name": "LayoutModel",
      "state": {
       "_model_module": "@jupyter-widgets/base",
       "_model_module_version": "1.2.0",
       "_model_name": "LayoutModel",
       "_view_count": null,
       "_view_module": "@jupyter-widgets/base",
       "_view_module_version": "1.2.0",
       "_view_name": "LayoutView",
       "align_content": null,
       "align_items": null,
       "align_self": null,
       "border": null,
       "bottom": null,
       "display": null,
       "flex": null,
       "flex_flow": null,
       "grid_area": null,
       "grid_auto_columns": null,
       "grid_auto_flow": null,
       "grid_auto_rows": null,
       "grid_column": null,
       "grid_gap": null,
       "grid_row": null,
       "grid_template_areas": null,
       "grid_template_columns": null,
       "grid_template_rows": null,
       "height": null,
       "justify_content": null,
       "justify_items": null,
       "left": null,
       "margin": null,
       "max_height": null,
       "max_width": null,
       "min_height": null,
       "min_width": null,
       "object_fit": null,
       "object_position": null,
       "order": null,
       "overflow": null,
       "overflow_x": null,
       "overflow_y": null,
       "padding": null,
       "right": null,
       "top": null,
       "visibility": null,
       "width": null
      }
     },
     "c0f7794b450e457eab655ec4028c0da0": {
      "model_module": "@jupyter-widgets/base",
      "model_module_version": "1.2.0",
      "model_name": "LayoutModel",
      "state": {
       "_model_module": "@jupyter-widgets/base",
       "_model_module_version": "1.2.0",
       "_model_name": "LayoutModel",
       "_view_count": null,
       "_view_module": "@jupyter-widgets/base",
       "_view_module_version": "1.2.0",
       "_view_name": "LayoutView",
       "align_content": null,
       "align_items": null,
       "align_self": null,
       "border": null,
       "bottom": null,
       "display": null,
       "flex": null,
       "flex_flow": null,
       "grid_area": null,
       "grid_auto_columns": null,
       "grid_auto_flow": null,
       "grid_auto_rows": null,
       "grid_column": null,
       "grid_gap": null,
       "grid_row": null,
       "grid_template_areas": null,
       "grid_template_columns": null,
       "grid_template_rows": null,
       "height": null,
       "justify_content": null,
       "justify_items": null,
       "left": null,
       "margin": null,
       "max_height": null,
       "max_width": null,
       "min_height": null,
       "min_width": null,
       "object_fit": null,
       "object_position": null,
       "order": null,
       "overflow": null,
       "overflow_x": null,
       "overflow_y": null,
       "padding": null,
       "right": null,
       "top": null,
       "visibility": null,
       "width": null
      }
     },
     "c5866aa25a9e4638ba882caa20553f6e": {
      "model_module": "@jupyter-widgets/base",
      "model_module_version": "1.2.0",
      "model_name": "LayoutModel",
      "state": {
       "_model_module": "@jupyter-widgets/base",
       "_model_module_version": "1.2.0",
       "_model_name": "LayoutModel",
       "_view_count": null,
       "_view_module": "@jupyter-widgets/base",
       "_view_module_version": "1.2.0",
       "_view_name": "LayoutView",
       "align_content": null,
       "align_items": null,
       "align_self": null,
       "border": null,
       "bottom": null,
       "display": null,
       "flex": null,
       "flex_flow": null,
       "grid_area": null,
       "grid_auto_columns": null,
       "grid_auto_flow": null,
       "grid_auto_rows": null,
       "grid_column": null,
       "grid_gap": null,
       "grid_row": null,
       "grid_template_areas": null,
       "grid_template_columns": null,
       "grid_template_rows": null,
       "height": null,
       "justify_content": null,
       "justify_items": null,
       "left": null,
       "margin": null,
       "max_height": null,
       "max_width": null,
       "min_height": null,
       "min_width": null,
       "object_fit": null,
       "object_position": null,
       "order": null,
       "overflow": null,
       "overflow_x": null,
       "overflow_y": null,
       "padding": null,
       "right": null,
       "top": null,
       "visibility": null,
       "width": null
      }
     },
     "cc001986e2b944a888876d54fd23d824": {
      "model_module": "@jupyter-widgets/controls",
      "model_module_version": "1.5.0",
      "model_name": "HTMLModel",
      "state": {
       "_dom_classes": [],
       "_model_module": "@jupyter-widgets/controls",
       "_model_module_version": "1.5.0",
       "_model_name": "HTMLModel",
       "_view_count": null,
       "_view_module": "@jupyter-widgets/controls",
       "_view_module_version": "1.5.0",
       "_view_name": "HTMLView",
       "description": "",
       "description_tooltip": null,
       "layout": "IPY_MODEL_e1836cee2b4743518f309d42d02279ad",
       "placeholder": "​",
       "style": "IPY_MODEL_3ce0a73355714ec2a0662d4d65ecad1f",
       "value": " 239/239 [00:00&lt;00:00, 21.7kB/s]"
      }
     },
     "ce279a1c885548059ded5b66d7acb058": {
      "model_module": "@jupyter-widgets/controls",
      "model_module_version": "1.5.0",
      "model_name": "ProgressStyleModel",
      "state": {
       "_model_module": "@jupyter-widgets/controls",
       "_model_module_version": "1.5.0",
       "_model_name": "ProgressStyleModel",
       "_view_count": null,
       "_view_module": "@jupyter-widgets/base",
       "_view_module_version": "1.2.0",
       "_view_name": "StyleView",
       "bar_color": null,
       "description_width": ""
      }
     },
     "d172c88887d94f7695dc3ec59f77fbcf": {
      "model_module": "@jupyter-widgets/base",
      "model_module_version": "1.2.0",
      "model_name": "LayoutModel",
      "state": {
       "_model_module": "@jupyter-widgets/base",
       "_model_module_version": "1.2.0",
       "_model_name": "LayoutModel",
       "_view_count": null,
       "_view_module": "@jupyter-widgets/base",
       "_view_module_version": "1.2.0",
       "_view_name": "LayoutView",
       "align_content": null,
       "align_items": null,
       "align_self": null,
       "border": null,
       "bottom": null,
       "display": null,
       "flex": null,
       "flex_flow": null,
       "grid_area": null,
       "grid_auto_columns": null,
       "grid_auto_flow": null,
       "grid_auto_rows": null,
       "grid_column": null,
       "grid_gap": null,
       "grid_row": null,
       "grid_template_areas": null,
       "grid_template_columns": null,
       "grid_template_rows": null,
       "height": null,
       "justify_content": null,
       "justify_items": null,
       "left": null,
       "margin": null,
       "max_height": null,
       "max_width": null,
       "min_height": null,
       "min_width": null,
       "object_fit": null,
       "object_position": null,
       "order": null,
       "overflow": null,
       "overflow_x": null,
       "overflow_y": null,
       "padding": null,
       "right": null,
       "top": null,
       "visibility": null,
       "width": null
      }
     },
     "d8ac6e00ec564bdea237a1775aca49ff": {
      "model_module": "@jupyter-widgets/base",
      "model_module_version": "1.2.0",
      "model_name": "LayoutModel",
      "state": {
       "_model_module": "@jupyter-widgets/base",
       "_model_module_version": "1.2.0",
       "_model_name": "LayoutModel",
       "_view_count": null,
       "_view_module": "@jupyter-widgets/base",
       "_view_module_version": "1.2.0",
       "_view_name": "LayoutView",
       "align_content": null,
       "align_items": null,
       "align_self": null,
       "border": null,
       "bottom": null,
       "display": null,
       "flex": null,
       "flex_flow": null,
       "grid_area": null,
       "grid_auto_columns": null,
       "grid_auto_flow": null,
       "grid_auto_rows": null,
       "grid_column": null,
       "grid_gap": null,
       "grid_row": null,
       "grid_template_areas": null,
       "grid_template_columns": null,
       "grid_template_rows": null,
       "height": null,
       "justify_content": null,
       "justify_items": null,
       "left": null,
       "margin": null,
       "max_height": null,
       "max_width": null,
       "min_height": null,
       "min_width": null,
       "object_fit": null,
       "object_position": null,
       "order": null,
       "overflow": null,
       "overflow_x": null,
       "overflow_y": null,
       "padding": null,
       "right": null,
       "top": null,
       "visibility": null,
       "width": null
      }
     },
     "dc9cbf5229274da3bb94e622b0a5024b": {
      "model_module": "@jupyter-widgets/controls",
      "model_module_version": "1.5.0",
      "model_name": "FloatProgressModel",
      "state": {
       "_dom_classes": [],
       "_model_module": "@jupyter-widgets/controls",
       "_model_module_version": "1.5.0",
       "_model_name": "FloatProgressModel",
       "_view_count": null,
       "_view_module": "@jupyter-widgets/controls",
       "_view_module_version": "1.5.0",
       "_view_name": "ProgressView",
       "bar_style": "success",
       "description": "",
       "description_tooltip": null,
       "layout": "IPY_MODEL_aad2e98729524fa38725879cee4832c7",
       "max": 929.0,
       "min": 0.0,
       "orientation": "horizontal",
       "style": "IPY_MODEL_3de5e16ed4554d8eb688ae5c43b00310",
       "value": 929.0
      }
     },
     "de3b8935b65d4c2cae2d6b77c3895b94": {
      "model_module": "@jupyter-widgets/base",
      "model_module_version": "1.2.0",
      "model_name": "LayoutModel",
      "state": {
       "_model_module": "@jupyter-widgets/base",
       "_model_module_version": "1.2.0",
       "_model_name": "LayoutModel",
       "_view_count": null,
       "_view_module": "@jupyter-widgets/base",
       "_view_module_version": "1.2.0",
       "_view_name": "LayoutView",
       "align_content": null,
       "align_items": null,
       "align_self": null,
       "border": null,
       "bottom": null,
       "display": null,
       "flex": null,
       "flex_flow": null,
       "grid_area": null,
       "grid_auto_columns": null,
       "grid_auto_flow": null,
       "grid_auto_rows": null,
       "grid_column": null,
       "grid_gap": null,
       "grid_row": null,
       "grid_template_areas": null,
       "grid_template_columns": null,
       "grid_template_rows": null,
       "height": null,
       "justify_content": null,
       "justify_items": null,
       "left": null,
       "margin": null,
       "max_height": null,
       "max_width": null,
       "min_height": null,
       "min_width": null,
       "object_fit": null,
       "object_position": null,
       "order": null,
       "overflow": null,
       "overflow_x": null,
       "overflow_y": null,
       "padding": null,
       "right": null,
       "top": null,
       "visibility": null,
       "width": null
      }
     },
     "dee08ec0f51740aeb88e36b70f1353b3": {
      "model_module": "@jupyter-widgets/base",
      "model_module_version": "1.2.0",
      "model_name": "LayoutModel",
      "state": {
       "_model_module": "@jupyter-widgets/base",
       "_model_module_version": "1.2.0",
       "_model_name": "LayoutModel",
       "_view_count": null,
       "_view_module": "@jupyter-widgets/base",
       "_view_module_version": "1.2.0",
       "_view_name": "LayoutView",
       "align_content": null,
       "align_items": null,
       "align_self": null,
       "border": null,
       "bottom": null,
       "display": null,
       "flex": null,
       "flex_flow": null,
       "grid_area": null,
       "grid_auto_columns": null,
       "grid_auto_flow": null,
       "grid_auto_rows": null,
       "grid_column": null,
       "grid_gap": null,
       "grid_row": null,
       "grid_template_areas": null,
       "grid_template_columns": null,
       "grid_template_rows": null,
       "height": null,
       "justify_content": null,
       "justify_items": null,
       "left": null,
       "margin": null,
       "max_height": null,
       "max_width": null,
       "min_height": null,
       "min_width": null,
       "object_fit": null,
       "object_position": null,
       "order": null,
       "overflow": null,
       "overflow_x": null,
       "overflow_y": null,
       "padding": null,
       "right": null,
       "top": null,
       "visibility": null,
       "width": null
      }
     },
     "e1818584d9f04c5a9ad3c93fa6febf6b": {
      "model_module": "@jupyter-widgets/controls",
      "model_module_version": "1.5.0",
      "model_name": "DescriptionStyleModel",
      "state": {
       "_model_module": "@jupyter-widgets/controls",
       "_model_module_version": "1.5.0",
       "_model_name": "DescriptionStyleModel",
       "_view_count": null,
       "_view_module": "@jupyter-widgets/base",
       "_view_module_version": "1.2.0",
       "_view_name": "StyleView",
       "description_width": ""
      }
     },
     "e1836cee2b4743518f309d42d02279ad": {
      "model_module": "@jupyter-widgets/base",
      "model_module_version": "1.2.0",
      "model_name": "LayoutModel",
      "state": {
       "_model_module": "@jupyter-widgets/base",
       "_model_module_version": "1.2.0",
       "_model_name": "LayoutModel",
       "_view_count": null,
       "_view_module": "@jupyter-widgets/base",
       "_view_module_version": "1.2.0",
       "_view_name": "LayoutView",
       "align_content": null,
       "align_items": null,
       "align_self": null,
       "border": null,
       "bottom": null,
       "display": null,
       "flex": null,
       "flex_flow": null,
       "grid_area": null,
       "grid_auto_columns": null,
       "grid_auto_flow": null,
       "grid_auto_rows": null,
       "grid_column": null,
       "grid_gap": null,
       "grid_row": null,
       "grid_template_areas": null,
       "grid_template_columns": null,
       "grid_template_rows": null,
       "height": null,
       "justify_content": null,
       "justify_items": null,
       "left": null,
       "margin": null,
       "max_height": null,
       "max_width": null,
       "min_height": null,
       "min_width": null,
       "object_fit": null,
       "object_position": null,
       "order": null,
       "overflow": null,
       "overflow_x": null,
       "overflow_y": null,
       "padding": null,
       "right": null,
       "top": null,
       "visibility": null,
       "width": null
      }
     },
     "f2c803fb87734097850fef9d906dc96b": {
      "model_module": "@jupyter-widgets/controls",
      "model_module_version": "1.5.0",
      "model_name": "DescriptionStyleModel",
      "state": {
       "_model_module": "@jupyter-widgets/controls",
       "_model_module_version": "1.5.0",
       "_model_name": "DescriptionStyleModel",
       "_view_count": null,
       "_view_module": "@jupyter-widgets/base",
       "_view_module_version": "1.2.0",
       "_view_name": "StyleView",
       "description_width": ""
      }
     },
     "fb05f9c8d1694689abdf2ec97da857d7": {
      "model_module": "@jupyter-widgets/controls",
      "model_module_version": "1.5.0",
      "model_name": "HTMLModel",
      "state": {
       "_dom_classes": [],
       "_model_module": "@jupyter-widgets/controls",
       "_model_module_version": "1.5.0",
       "_model_name": "HTMLModel",
       "_view_count": null,
       "_view_module": "@jupyter-widgets/controls",
       "_view_module_version": "1.5.0",
       "_view_name": "HTMLView",
       "description": "",
       "description_tooltip": null,
       "layout": "IPY_MODEL_6e81055c29864f488be1147d18ded8ff",
       "placeholder": "​",
       "style": "IPY_MODEL_74f64ce11c2042ec9a501a603d8339c1",
       "value": " 501M/501M [00:02&lt;00:00, 203MB/s]"
      }
     },
     "fcec19b126e4414a8e349a730b6725d4": {
      "model_module": "@jupyter-widgets/controls",
      "model_module_version": "1.5.0",
      "model_name": "HTMLModel",
      "state": {
       "_dom_classes": [],
       "_model_module": "@jupyter-widgets/controls",
       "_model_module_version": "1.5.0",
       "_model_name": "HTMLModel",
       "_view_count": null,
       "_view_module": "@jupyter-widgets/controls",
       "_view_module_version": "1.5.0",
       "_view_name": "HTMLView",
       "description": "",
       "description_tooltip": null,
       "layout": "IPY_MODEL_b47b49c1e6ad4050bf2e42cb64602974",
       "placeholder": "​",
       "style": "IPY_MODEL_949d03caf8d145d48930da90fe314c63",
       "value": "config.json: 100%"
      }
     }
    },
    "version_major": 2,
    "version_minor": 0
   }
  }
 },
 "nbformat": 4,
 "nbformat_minor": 5
}
