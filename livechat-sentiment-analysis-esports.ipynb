{
 "cells": [
  {
   "cell_type": "code",
   "execution_count": 1,
   "id": "e5da08fa",
   "metadata": {
    "_cell_guid": "b1076dfc-b9ad-4769-8c92-a6c4dae69d19",
    "_uuid": "8f2839f25d086af736a60e9eeb907d3b93b6e0e5",
    "execution": {
     "iopub.execute_input": "2024-09-19T12:22:05.867842Z",
     "iopub.status.busy": "2024-09-19T12:22:05.867101Z",
     "iopub.status.idle": "2024-09-19T12:22:08.738154Z",
     "shell.execute_reply": "2024-09-19T12:22:08.737334Z"
    },
    "papermill": {
     "duration": 2.888327,
     "end_time": "2024-09-19T12:22:08.740632",
     "exception": false,
     "start_time": "2024-09-19T12:22:05.852305",
     "status": "completed"
    },
    "tags": []
   },
   "outputs": [],
   "source": [
    "# Regular EDA(exploratory data analysis) and plotting libraries\n",
    "import numpy as np\n",
    "import pandas as pd\n",
    "import matplotlib.pyplot as plt\n",
    "import seaborn as sns\n",
    "from sklearn.model_selection import train_test_split\n",
    "%matplotlib inline\n",
    "\n",
    "from tqdm import tqdm\n",
    "import string\n",
    "import statistics\n",
    "import re\n",
    "import joblib\n",
    "import random\n",
    "import statistics\n",
    "from collections import Counter\n",
    "from scipy import stats\n",
    "import os\n",
    "# import seaborn as sns\n",
    "from mpl_toolkits.mplot3d import Axes3D\n",
    "from sklearn.metrics.pairwise import cosine_similarity\n",
    "import zipfile\n",
    "from matplotlib.lines import Line2D\n",
    "import warnings"
   ]
  },
  {
   "cell_type": "code",
   "execution_count": 2,
   "id": "f97b3e22",
   "metadata": {
    "execution": {
     "iopub.execute_input": "2024-09-19T12:22:08.770195Z",
     "iopub.status.busy": "2024-09-19T12:22:08.769674Z",
     "iopub.status.idle": "2024-09-19T12:22:08.774676Z",
     "shell.execute_reply": "2024-09-19T12:22:08.773655Z"
    },
    "papermill": {
     "duration": 0.021389,
     "end_time": "2024-09-19T12:22:08.776871",
     "exception": false,
     "start_time": "2024-09-19T12:22:08.755482",
     "status": "completed"
    },
    "tags": []
   },
   "outputs": [],
   "source": [
    "warnings.filterwarnings('ignore')"
   ]
  },
  {
   "cell_type": "code",
   "execution_count": 3,
   "id": "2a547766",
   "metadata": {
    "execution": {
     "iopub.execute_input": "2024-09-19T12:22:08.805570Z",
     "iopub.status.busy": "2024-09-19T12:22:08.805172Z",
     "iopub.status.idle": "2024-09-19T12:22:12.354953Z",
     "shell.execute_reply": "2024-09-19T12:22:12.354047Z"
    },
    "papermill": {
     "duration": 3.567189,
     "end_time": "2024-09-19T12:22:12.357577",
     "exception": false,
     "start_time": "2024-09-19T12:22:08.790388",
     "status": "completed"
    },
    "tags": []
   },
   "outputs": [],
   "source": [
    "bdlc = pd.read_parquet('/kaggle/input/esports-data/live_comments_2/bangladesh_livechat_data.parquet')\n",
    "# brlc = pd.read_parquet('/kaggle/input/esports-data/live_comments_2/brasil_livechat_data.parquet')\n",
    "# idlc = pd.read_parquet('/kaggle/input/esports-data/live_comments_2/indonesia_livechat_data.parquet')\n",
    "# mllc = pd.read_parquet('/kaggle/input/esports-data/live_comments_2/malaysia_livechat_data.parquet')\n",
    "\n",
    "# bdlc = pd.read_parquet('/kaggle/input/esports-data/live_comments_2/pakistan_livechat_data.parquet')\n",
    "# indlc = pd.read_parquet('/kaggle/input/esports-data/live_comments/india_livechat_data.parquet')\n",
    "# ind2lc = pd.read_parquet('/kaggle/input/esports-data/live_comments/indiav2_livechat_data.parquet')\n",
    "# trlc = pd.read_parquet('/kaggle/input/esports-data/live_comments/turkey_livechat_data.parquet')\n",
    "# vnlc = pd.read_parquet('/kaggle/input/esports-data/live_comments/vietnam_livechat_data.parquet')"
   ]
  },
  {
   "cell_type": "code",
   "execution_count": 4,
   "id": "65274adf",
   "metadata": {
    "execution": {
     "iopub.execute_input": "2024-09-19T12:22:12.386088Z",
     "iopub.status.busy": "2024-09-19T12:22:12.385113Z",
     "iopub.status.idle": "2024-09-19T12:22:12.389521Z",
     "shell.execute_reply": "2024-09-19T12:22:12.388549Z"
    },
    "papermill": {
     "duration": 0.021236,
     "end_time": "2024-09-19T12:22:12.391572",
     "exception": false,
     "start_time": "2024-09-19T12:22:12.370336",
     "status": "completed"
    },
    "tags": []
   },
   "outputs": [],
   "source": [
    "# tqdm.pandas()\n",
    "# bdlc['new'] = bdlc.message.progress_apply(translate_text)"
   ]
  },
  {
   "cell_type": "code",
   "execution_count": 5,
   "id": "b8756b15",
   "metadata": {
    "execution": {
     "iopub.execute_input": "2024-09-19T12:22:12.416501Z",
     "iopub.status.busy": "2024-09-19T12:22:12.415864Z",
     "iopub.status.idle": "2024-09-19T12:22:12.419924Z",
     "shell.execute_reply": "2024-09-19T12:22:12.418991Z"
    },
    "papermill": {
     "duration": 0.018701,
     "end_time": "2024-09-19T12:22:12.421993",
     "exception": false,
     "start_time": "2024-09-19T12:22:12.403292",
     "status": "completed"
    },
    "tags": []
   },
   "outputs": [],
   "source": [
    "# bdlc = pd.concat([indlc, ind2lc], ignore_index=True)"
   ]
  },
  {
   "cell_type": "code",
   "execution_count": 6,
   "id": "d8d6419d",
   "metadata": {
    "execution": {
     "iopub.execute_input": "2024-09-19T12:22:12.447429Z",
     "iopub.status.busy": "2024-09-19T12:22:12.447050Z",
     "iopub.status.idle": "2024-09-19T12:22:12.451440Z",
     "shell.execute_reply": "2024-09-19T12:22:12.450517Z"
    },
    "papermill": {
     "duration": 0.019659,
     "end_time": "2024-09-19T12:22:12.453677",
     "exception": false,
     "start_time": "2024-09-19T12:22:12.434018",
     "status": "completed"
    },
    "tags": []
   },
   "outputs": [],
   "source": [
    "# dfs_lc = ['bdlc', 'idlc', 'mllc', 'pklc', 'inlc', 'vnlc']\n",
    "# sm = 0\n",
    "# for df_name in dfs_lc:\n",
    "#     df = globals()[df_name]\n",
    "#     print(f\"Length of {df_name}: {len(df)/1e6:.2f}M\")\n",
    "#     sm+=len(df)\n",
    "\n",
    "# print(f'Total is {sm/1e6:.2f}M')\n",
    "# print(f'Total in crore {sm/1e7:.2f}Corer')"
   ]
  },
  {
   "cell_type": "markdown",
   "id": "98a8e227",
   "metadata": {
    "papermill": {
     "duration": 0.012605,
     "end_time": "2024-09-19T12:22:12.478950",
     "exception": false,
     "start_time": "2024-09-19T12:22:12.466345",
     "status": "completed"
    },
    "tags": []
   },
   "source": [
    "## Bangladesh"
   ]
  },
  {
   "cell_type": "code",
   "execution_count": 7,
   "id": "f8064a9a",
   "metadata": {
    "execution": {
     "iopub.execute_input": "2024-09-19T12:22:12.505896Z",
     "iopub.status.busy": "2024-09-19T12:22:12.505533Z",
     "iopub.status.idle": "2024-09-19T12:22:12.572040Z",
     "shell.execute_reply": "2024-09-19T12:22:12.571042Z"
    },
    "papermill": {
     "duration": 0.082966,
     "end_time": "2024-09-19T12:22:12.574666",
     "exception": false,
     "start_time": "2024-09-19T12:22:12.491700",
     "status": "completed"
    },
    "tags": []
   },
   "outputs": [
    {
     "name": "stdout",
     "output_type": "stream",
     "text": [
      "A1 ❤️ A1 ❤️\n"
     ]
    }
   ],
   "source": [
    "import emoji\n",
    "\n",
    "def replace_emoji_codes(text):\n",
    "    \"\"\"\n",
    "    Replace text-based emoji codes with actual emojis using the `emoji` library.\n",
    "\n",
    "    Parameters:\n",
    "    - text (str): The input text containing emoji codes.\n",
    "\n",
    "    Returns:\n",
    "    - str: The text with emoji codes replaced by actual emojis.\n",
    "    \"\"\"\n",
    "    # Convert text-based emoji codes to actual emojis\n",
    "    return emoji.emojize(text)\n",
    "\n",
    "# Example usage\n",
    "text = \"A1 :red_heart: A1 :red_heart:\"\n",
    "converted_text = replace_emoji_codes(text)\n",
    "print(converted_text)  # Output: \"A1 ❤️ A1 ❤️\"\n",
    "\n",
    "import re\n",
    "\n",
    "def count_words(text):\n",
    "    # Remove punctuations using regular expression\n",
    "    text_without_punctuations = re.sub(r'[^\\w\\s]', '', text)\n",
    "\n",
    "    # Split the text into words based on whitespace characters\n",
    "    words = text_without_punctuations.split()\n",
    "\n",
    "    # Get the number of words\n",
    "    word_length = len(words)\n",
    "\n",
    "    return word_length\n"
   ]
  },
  {
   "cell_type": "code",
   "execution_count": 8,
   "id": "146850c0",
   "metadata": {
    "execution": {
     "iopub.execute_input": "2024-09-19T12:22:12.601382Z",
     "iopub.status.busy": "2024-09-19T12:22:12.600527Z",
     "iopub.status.idle": "2024-09-19T12:22:12.605682Z",
     "shell.execute_reply": "2024-09-19T12:22:12.604715Z"
    },
    "papermill": {
     "duration": 0.020776,
     "end_time": "2024-09-19T12:22:12.607967",
     "exception": false,
     "start_time": "2024-09-19T12:22:12.587191",
     "status": "completed"
    },
    "tags": []
   },
   "outputs": [],
   "source": [
    "tqdm.pandas()"
   ]
  },
  {
   "cell_type": "code",
   "execution_count": 9,
   "id": "f470736e",
   "metadata": {
    "execution": {
     "iopub.execute_input": "2024-09-19T12:22:12.635050Z",
     "iopub.status.busy": "2024-09-19T12:22:12.634703Z",
     "iopub.status.idle": "2024-09-19T12:22:36.673068Z",
     "shell.execute_reply": "2024-09-19T12:22:36.672190Z"
    },
    "papermill": {
     "duration": 24.054767,
     "end_time": "2024-09-19T12:22:36.675766",
     "exception": false,
     "start_time": "2024-09-19T12:22:12.620999",
     "status": "completed"
    },
    "tags": []
   },
   "outputs": [
    {
     "name": "stderr",
     "output_type": "stream",
     "text": [
      "100%|██████████| 2796193/2796193 [00:22<00:00, 122241.25it/s]\n"
     ]
    }
   ],
   "source": [
    "bdlc['wordcount'] = bdlc.message.progress_apply(count_words)\n",
    "\n",
    "bdlc = bdlc.sort_values(by='wordcount', ascending=False).reset_index(drop=True)"
   ]
  },
  {
   "cell_type": "code",
   "execution_count": 10,
   "id": "eca58196",
   "metadata": {
    "execution": {
     "iopub.execute_input": "2024-09-19T12:22:36.737845Z",
     "iopub.status.busy": "2024-09-19T12:22:36.737450Z",
     "iopub.status.idle": "2024-09-19T12:22:36.754979Z",
     "shell.execute_reply": "2024-09-19T12:22:36.753968Z"
    },
    "papermill": {
     "duration": 0.051277,
     "end_time": "2024-09-19T12:22:36.757319",
     "exception": false,
     "start_time": "2024-09-19T12:22:36.706042",
     "status": "completed"
    },
    "tags": []
   },
   "outputs": [
    {
     "data": {
      "text/html": [
       "<div>\n",
       "<style scoped>\n",
       "    .dataframe tbody tr th:only-of-type {\n",
       "        vertical-align: middle;\n",
       "    }\n",
       "\n",
       "    .dataframe tbody tr th {\n",
       "        vertical-align: top;\n",
       "    }\n",
       "\n",
       "    .dataframe thead th {\n",
       "        text-align: right;\n",
       "    }\n",
       "</style>\n",
       "<table border=\"1\" class=\"dataframe\">\n",
       "  <thead>\n",
       "    <tr style=\"text-align: right;\">\n",
       "      <th></th>\n",
       "      <th>datetime</th>\n",
       "      <th>author</th>\n",
       "      <th>message</th>\n",
       "      <th>video_id</th>\n",
       "      <th>wordcount</th>\n",
       "    </tr>\n",
       "  </thead>\n",
       "  <tbody>\n",
       "    <tr>\n",
       "      <th>2796188</th>\n",
       "      <td>2024-02-23 15:11:55</td>\n",
       "      <td>View point</td>\n",
       "      <td></td>\n",
       "      <td>hU7l6F1txrU</td>\n",
       "      <td>0</td>\n",
       "    </tr>\n",
       "    <tr>\n",
       "      <th>2796189</th>\n",
       "      <td>2024-02-23 15:11:11</td>\n",
       "      <td>GO ON</td>\n",
       "      <td></td>\n",
       "      <td>hU7l6F1txrU</td>\n",
       "      <td>0</td>\n",
       "    </tr>\n",
       "    <tr>\n",
       "      <th>2796190</th>\n",
       "      <td>2024-02-23 15:10:30</td>\n",
       "      <td>virus Labib yt</td>\n",
       "      <td></td>\n",
       "      <td>hU7l6F1txrU</td>\n",
       "      <td>0</td>\n",
       "    </tr>\n",
       "    <tr>\n",
       "      <th>2796191</th>\n",
       "      <td>2024-02-23 15:09:07</td>\n",
       "      <td>I'm SaHiL</td>\n",
       "      <td></td>\n",
       "      <td>hU7l6F1txrU</td>\n",
       "      <td>0</td>\n",
       "    </tr>\n",
       "    <tr>\n",
       "      <th>2796192</th>\n",
       "      <td>2024-02-23 15:09:09</td>\n",
       "      <td>virus Labib yt</td>\n",
       "      <td></td>\n",
       "      <td>hU7l6F1txrU</td>\n",
       "      <td>0</td>\n",
       "    </tr>\n",
       "  </tbody>\n",
       "</table>\n",
       "</div>"
      ],
      "text/plain": [
       "                    datetime          author message     video_id  wordcount\n",
       "2796188  2024-02-23 15:11:55      View point          hU7l6F1txrU          0\n",
       "2796189  2024-02-23 15:11:11           GO ON          hU7l6F1txrU          0\n",
       "2796190  2024-02-23 15:10:30  virus Labib yt          hU7l6F1txrU          0\n",
       "2796191  2024-02-23 15:09:07       I'm SaHiL          hU7l6F1txrU          0\n",
       "2796192  2024-02-23 15:09:09  virus Labib yt          hU7l6F1txrU          0"
      ]
     },
     "execution_count": 10,
     "metadata": {},
     "output_type": "execute_result"
    }
   ],
   "source": [
    "bdlc.tail()"
   ]
  },
  {
   "cell_type": "markdown",
   "id": "2a1f57e7",
   "metadata": {
    "papermill": {
     "duration": 0.029557,
     "end_time": "2024-09-19T12:22:36.817586",
     "exception": false,
     "start_time": "2024-09-19T12:22:36.788029",
     "status": "completed"
    },
    "tags": []
   },
   "source": [
    "## Checkpoint for filter"
   ]
  },
  {
   "cell_type": "code",
   "execution_count": 11,
   "id": "9c266a5d",
   "metadata": {
    "execution": {
     "iopub.execute_input": "2024-09-19T12:22:36.874306Z",
     "iopub.status.busy": "2024-09-19T12:22:36.873403Z",
     "iopub.status.idle": "2024-09-19T12:22:36.895101Z",
     "shell.execute_reply": "2024-09-19T12:22:36.894099Z"
    },
    "papermill": {
     "duration": 0.051781,
     "end_time": "2024-09-19T12:22:36.897298",
     "exception": false,
     "start_time": "2024-09-19T12:22:36.845517",
     "status": "completed"
    },
    "tags": []
   },
   "outputs": [
    {
     "data": {
      "text/html": [
       "<div>\n",
       "<style scoped>\n",
       "    .dataframe tbody tr th:only-of-type {\n",
       "        vertical-align: middle;\n",
       "    }\n",
       "\n",
       "    .dataframe tbody tr th {\n",
       "        vertical-align: top;\n",
       "    }\n",
       "\n",
       "    .dataframe thead th {\n",
       "        text-align: right;\n",
       "    }\n",
       "</style>\n",
       "<table border=\"1\" class=\"dataframe\">\n",
       "  <thead>\n",
       "    <tr style=\"text-align: right;\">\n",
       "      <th></th>\n",
       "      <th>datetime</th>\n",
       "      <th>author</th>\n",
       "      <th>message</th>\n",
       "      <th>video_id</th>\n",
       "      <th>wordcount</th>\n",
       "    </tr>\n",
       "  </thead>\n",
       "  <tbody>\n",
       "    <tr>\n",
       "      <th>0</th>\n",
       "      <td>2021-03-27 12:34:10</td>\n",
       "      <td>Tanzin Mahamud</td>\n",
       "      <td>A1 :red_heart: A1 :red_heart: A1 :red_heart: A...</td>\n",
       "      <td>4D5QvYnU3cs</td>\n",
       "      <td>80</td>\n",
       "    </tr>\n",
       "    <tr>\n",
       "      <th>1</th>\n",
       "      <td>2021-03-27 12:49:48</td>\n",
       "      <td>Tanzin Mahamud</td>\n",
       "      <td>A1 :red_heart: A1 :red_heart: A1 :red_heart: A...</td>\n",
       "      <td>4D5QvYnU3cs</td>\n",
       "      <td>80</td>\n",
       "    </tr>\n",
       "    <tr>\n",
       "      <th>2</th>\n",
       "      <td>2021-03-27 12:53:52</td>\n",
       "      <td>Tanzin Mahamud</td>\n",
       "      <td>A1 :red_heart: A1 :red_heart: A1 :red_heart: A...</td>\n",
       "      <td>4D5QvYnU3cs</td>\n",
       "      <td>80</td>\n",
       "    </tr>\n",
       "    <tr>\n",
       "      <th>3</th>\n",
       "      <td>2021-03-27 13:05:37</td>\n",
       "      <td>Tanzin Mahamud</td>\n",
       "      <td>A1 :red_heart: A1 :red_heart: A1 :red_heart: A...</td>\n",
       "      <td>4D5QvYnU3cs</td>\n",
       "      <td>80</td>\n",
       "    </tr>\n",
       "    <tr>\n",
       "      <th>4</th>\n",
       "      <td>2021-03-27 12:31:21</td>\n",
       "      <td>Tanzin Mahamud</td>\n",
       "      <td>A1 :red_heart: A1 :red_heart: A1 :red_heart: A...</td>\n",
       "      <td>4D5QvYnU3cs</td>\n",
       "      <td>80</td>\n",
       "    </tr>\n",
       "  </tbody>\n",
       "</table>\n",
       "</div>"
      ],
      "text/plain": [
       "              datetime          author  \\\n",
       "0  2021-03-27 12:34:10  Tanzin Mahamud   \n",
       "1  2021-03-27 12:49:48  Tanzin Mahamud   \n",
       "2  2021-03-27 12:53:52  Tanzin Mahamud   \n",
       "3  2021-03-27 13:05:37  Tanzin Mahamud   \n",
       "4  2021-03-27 12:31:21  Tanzin Mahamud   \n",
       "\n",
       "                                             message     video_id  wordcount  \n",
       "0  A1 :red_heart: A1 :red_heart: A1 :red_heart: A...  4D5QvYnU3cs         80  \n",
       "1  A1 :red_heart: A1 :red_heart: A1 :red_heart: A...  4D5QvYnU3cs         80  \n",
       "2  A1 :red_heart: A1 :red_heart: A1 :red_heart: A...  4D5QvYnU3cs         80  \n",
       "3  A1 :red_heart: A1 :red_heart: A1 :red_heart: A...  4D5QvYnU3cs         80  \n",
       "4  A1 :red_heart: A1 :red_heart: A1 :red_heart: A...  4D5QvYnU3cs         80  "
      ]
     },
     "execution_count": 11,
     "metadata": {},
     "output_type": "execute_result"
    }
   ],
   "source": [
    "th = 200_000\n",
    "\n",
    "\n",
    "filt = bdlc[:th].copy()\n",
    "filt.head()"
   ]
  },
  {
   "cell_type": "code",
   "execution_count": 12,
   "id": "0d4c5884",
   "metadata": {
    "execution": {
     "iopub.execute_input": "2024-09-19T12:22:36.956680Z",
     "iopub.status.busy": "2024-09-19T12:22:36.956322Z",
     "iopub.status.idle": "2024-09-19T12:22:40.361103Z",
     "shell.execute_reply": "2024-09-19T12:22:40.360118Z"
    },
    "papermill": {
     "duration": 3.438399,
     "end_time": "2024-09-19T12:22:40.363388",
     "exception": false,
     "start_time": "2024-09-19T12:22:36.924989",
     "status": "completed"
    },
    "tags": []
   },
   "outputs": [
    {
     "name": "stderr",
     "output_type": "stream",
     "text": [
      "100%|██████████| 200000/200000 [00:03<00:00, 59140.12it/s]\n"
     ]
    },
    {
     "data": {
      "text/html": [
       "<div>\n",
       "<style scoped>\n",
       "    .dataframe tbody tr th:only-of-type {\n",
       "        vertical-align: middle;\n",
       "    }\n",
       "\n",
       "    .dataframe tbody tr th {\n",
       "        vertical-align: top;\n",
       "    }\n",
       "\n",
       "    .dataframe thead th {\n",
       "        text-align: right;\n",
       "    }\n",
       "</style>\n",
       "<table border=\"1\" class=\"dataframe\">\n",
       "  <thead>\n",
       "    <tr style=\"text-align: right;\">\n",
       "      <th></th>\n",
       "      <th>datetime</th>\n",
       "      <th>author</th>\n",
       "      <th>message</th>\n",
       "      <th>video_id</th>\n",
       "      <th>wordcount</th>\n",
       "    </tr>\n",
       "  </thead>\n",
       "  <tbody>\n",
       "    <tr>\n",
       "      <th>199995</th>\n",
       "      <td>2021-08-15 11:41:01</td>\n",
       "      <td>raiyan 68c</td>\n",
       "      <td>জসিম ফ্যানেরা হেইট দিতেসে না কাউকে, a1 এর চিকে...</td>\n",
       "      <td>5hPFiTzXcZI</td>\n",
       "      <td>13</td>\n",
       "    </tr>\n",
       "    <tr>\n",
       "      <th>199996</th>\n",
       "      <td>2021-03-30 14:15:37</td>\n",
       "      <td>MAHADI PLAYS</td>\n",
       "      <td>sadia❣️Sadia ❣️sadia ❣️sadia, ❣️sadia❣️Sadia ❣...</td>\n",
       "      <td>UZlNkHUFA-c</td>\n",
       "      <td>13</td>\n",
       "    </tr>\n",
       "    <tr>\n",
       "      <th>199997</th>\n",
       "      <td>2021-02-16 11:44:54</td>\n",
       "      <td>Shahriar Amin</td>\n",
       "      <td>NEXT MATCH SOB WILL BE BACK WITH THEIR MAGIC M...</td>\n",
       "      <td>6vitPgmUfNc</td>\n",
       "      <td>13</td>\n",
       "    </tr>\n",
       "    <tr>\n",
       "      <th>199998</th>\n",
       "      <td>2021-08-19 14:14:58</td>\n",
       "      <td>Arafat Hassan</td>\n",
       "      <td>@Farhan Shahriar AHARE MALLU KOTHA NA PAIRA EK...</td>\n",
       "      <td>zDb6S_QFG8Q</td>\n",
       "      <td>13</td>\n",
       "    </tr>\n",
       "    <tr>\n",
       "      <th>199999</th>\n",
       "      <td>2021-08-19 14:14:59</td>\n",
       "      <td>Arafat Hassan</td>\n",
       "      <td>@Farhan Shahriar AHARE MALLU KOTHA NA PAIRA EK...</td>\n",
       "      <td>zDb6S_QFG8Q</td>\n",
       "      <td>13</td>\n",
       "    </tr>\n",
       "  </tbody>\n",
       "</table>\n",
       "</div>"
      ],
      "text/plain": [
       "                   datetime         author  \\\n",
       "199995  2021-08-15 11:41:01     raiyan 68c   \n",
       "199996  2021-03-30 14:15:37   MAHADI PLAYS   \n",
       "199997  2021-02-16 11:44:54  Shahriar Amin   \n",
       "199998  2021-08-19 14:14:58  Arafat Hassan   \n",
       "199999  2021-08-19 14:14:59  Arafat Hassan   \n",
       "\n",
       "                                                  message     video_id  \\\n",
       "199995  জসিম ফ্যানেরা হেইট দিতেসে না কাউকে, a1 এর চিকে...  5hPFiTzXcZI   \n",
       "199996  sadia❣️Sadia ❣️sadia ❣️sadia, ❣️sadia❣️Sadia ❣...  UZlNkHUFA-c   \n",
       "199997  NEXT MATCH SOB WILL BE BACK WITH THEIR MAGIC M...  6vitPgmUfNc   \n",
       "199998  @Farhan Shahriar AHARE MALLU KOTHA NA PAIRA EK...  zDb6S_QFG8Q   \n",
       "199999  @Farhan Shahriar AHARE MALLU KOTHA NA PAIRA EK...  zDb6S_QFG8Q   \n",
       "\n",
       "        wordcount  \n",
       "199995         13  \n",
       "199996         13  \n",
       "199997         13  \n",
       "199998         13  \n",
       "199999         13  "
      ]
     },
     "execution_count": 12,
     "metadata": {},
     "output_type": "execute_result"
    }
   ],
   "source": [
    "filt['message'] = filt.message.progress_apply(replace_emoji_codes)\n",
    "\n",
    "# filt = filt[filt['wordcount'] >= 2]\n",
    "\n",
    "filt.tail()"
   ]
  },
  {
   "cell_type": "code",
   "execution_count": 13,
   "id": "f24841c5",
   "metadata": {
    "execution": {
     "iopub.execute_input": "2024-09-19T12:22:40.433934Z",
     "iopub.status.busy": "2024-09-19T12:22:40.433003Z",
     "iopub.status.idle": "2024-09-19T12:22:40.438749Z",
     "shell.execute_reply": "2024-09-19T12:22:40.437534Z"
    },
    "papermill": {
     "duration": 0.043765,
     "end_time": "2024-09-19T12:22:40.441119",
     "exception": false,
     "start_time": "2024-09-19T12:22:40.397354",
     "status": "completed"
    },
    "tags": []
   },
   "outputs": [
    {
     "name": "stdout",
     "output_type": "stream",
     "text": [
      "(2796193, 5)\n",
      "(200000, 5)\n"
     ]
    }
   ],
   "source": [
    "print(bdlc.shape)\n",
    "print(filt.shape)"
   ]
  },
  {
   "cell_type": "code",
   "execution_count": 14,
   "id": "c2bbaf37",
   "metadata": {
    "execution": {
     "iopub.execute_input": "2024-09-19T12:22:40.513155Z",
     "iopub.status.busy": "2024-09-19T12:22:40.512486Z",
     "iopub.status.idle": "2024-09-19T12:22:40.634526Z",
     "shell.execute_reply": "2024-09-19T12:22:40.633470Z"
    },
    "papermill": {
     "duration": 0.161152,
     "end_time": "2024-09-19T12:22:40.637191",
     "exception": false,
     "start_time": "2024-09-19T12:22:40.476039",
     "status": "completed"
    },
    "tags": []
   },
   "outputs": [
    {
     "data": {
      "text/plain": [
       "year\n",
       "2021    114857\n",
       "2022     44845\n",
       "2020     23607\n",
       "2023     11197\n",
       "2024      5339\n",
       "2019       155\n",
       "Name: count, dtype: int64"
      ]
     },
     "execution_count": 14,
     "metadata": {},
     "output_type": "execute_result"
    }
   ],
   "source": [
    "filt['datetime'] = pd.to_datetime(filt['datetime'])\n",
    "\n",
    "# Extract the year and create a new column 'year'\n",
    "filt['year'] = filt['datetime'].dt.year\n",
    "\n",
    "filt.year.value_counts()"
   ]
  },
  {
   "cell_type": "code",
   "execution_count": 15,
   "id": "d48cc217",
   "metadata": {
    "execution": {
     "iopub.execute_input": "2024-09-19T12:22:40.710625Z",
     "iopub.status.busy": "2024-09-19T12:22:40.709649Z",
     "iopub.status.idle": "2024-09-19T12:22:40.716095Z",
     "shell.execute_reply": "2024-09-19T12:22:40.715151Z"
    },
    "papermill": {
     "duration": 0.0437,
     "end_time": "2024-09-19T12:22:40.718208",
     "exception": false,
     "start_time": "2024-09-19T12:22:40.674508",
     "status": "completed"
    },
    "tags": []
   },
   "outputs": [
    {
     "data": {
      "text/plain": [
       "18.28974117903714"
      ]
     },
     "execution_count": 15,
     "metadata": {},
     "output_type": "execute_result"
    }
   ],
   "source": [
    "(365532/1998563)*100"
   ]
  },
  {
   "cell_type": "code",
   "execution_count": 16,
   "id": "b1b31e6b",
   "metadata": {
    "execution": {
     "iopub.execute_input": "2024-09-19T12:22:40.788691Z",
     "iopub.status.busy": "2024-09-19T12:22:40.788288Z",
     "iopub.status.idle": "2024-09-19T12:22:40.795126Z",
     "shell.execute_reply": "2024-09-19T12:22:40.794103Z"
    },
    "papermill": {
     "duration": 0.045306,
     "end_time": "2024-09-19T12:22:40.797468",
     "exception": false,
     "start_time": "2024-09-19T12:22:40.752162",
     "status": "completed"
    },
    "tags": []
   },
   "outputs": [
    {
     "data": {
      "text/plain": [
       "24.544"
      ]
     },
     "execution_count": 16,
     "metadata": {},
     "output_type": "execute_result"
    }
   ],
   "source": [
    "(24544/100000)*100"
   ]
  },
  {
   "cell_type": "code",
   "execution_count": 17,
   "id": "53d2689e",
   "metadata": {
    "execution": {
     "iopub.execute_input": "2024-09-19T12:22:40.920982Z",
     "iopub.status.busy": "2024-09-19T12:22:40.920038Z",
     "iopub.status.idle": "2024-09-19T12:22:40.924576Z",
     "shell.execute_reply": "2024-09-19T12:22:40.923585Z"
    },
    "papermill": {
     "duration": 0.094877,
     "end_time": "2024-09-19T12:22:40.926628",
     "exception": false,
     "start_time": "2024-09-19T12:22:40.831751",
     "status": "completed"
    },
    "tags": []
   },
   "outputs": [],
   "source": [
    "# tqdm.pandas()\n",
    "# filt['message'] = filt.message.progress_apply(replace_emoji_codes)\n",
    "# filt.head(2)"
   ]
  },
  {
   "cell_type": "code",
   "execution_count": 18,
   "id": "0eb54acd",
   "metadata": {
    "execution": {
     "iopub.execute_input": "2024-09-19T12:22:40.995395Z",
     "iopub.status.busy": "2024-09-19T12:22:40.994773Z",
     "iopub.status.idle": "2024-09-19T12:22:41.018568Z",
     "shell.execute_reply": "2024-09-19T12:22:41.017575Z"
    },
    "papermill": {
     "duration": 0.060821,
     "end_time": "2024-09-19T12:22:41.021086",
     "exception": false,
     "start_time": "2024-09-19T12:22:40.960265",
     "status": "completed"
    },
    "tags": []
   },
   "outputs": [
    {
     "data": {
      "text/plain": [
       "count    200000.000000\n",
       "mean         20.146700\n",
       "std           7.059691\n",
       "min          13.000000\n",
       "25%          15.000000\n",
       "50%          18.000000\n",
       "75%          24.000000\n",
       "max          80.000000\n",
       "Name: wordcount, dtype: float64"
      ]
     },
     "execution_count": 18,
     "metadata": {},
     "output_type": "execute_result"
    }
   ],
   "source": [
    "filt.wordcount.describe()"
   ]
  },
  {
   "cell_type": "code",
   "execution_count": 19,
   "id": "c579a371",
   "metadata": {
    "execution": {
     "iopub.execute_input": "2024-09-19T12:22:41.093823Z",
     "iopub.status.busy": "2024-09-19T12:22:41.093072Z",
     "iopub.status.idle": "2024-09-19T12:22:41.097548Z",
     "shell.execute_reply": "2024-09-19T12:22:41.096594Z"
    },
    "papermill": {
     "duration": 0.041716,
     "end_time": "2024-09-19T12:22:41.099584",
     "exception": false,
     "start_time": "2024-09-19T12:22:41.057868",
     "status": "completed"
    },
    "tags": []
   },
   "outputs": [],
   "source": [
    "# filt['message'][61224]"
   ]
  },
  {
   "cell_type": "code",
   "execution_count": 20,
   "id": "e16e7298",
   "metadata": {
    "execution": {
     "iopub.execute_input": "2024-09-19T12:22:41.171402Z",
     "iopub.status.busy": "2024-09-19T12:22:41.170995Z",
     "iopub.status.idle": "2024-09-19T12:22:46.187110Z",
     "shell.execute_reply": "2024-09-19T12:22:46.185985Z"
    },
    "papermill": {
     "duration": 5.055676,
     "end_time": "2024-09-19T12:22:46.189425",
     "exception": false,
     "start_time": "2024-09-19T12:22:41.133749",
     "status": "completed"
    },
    "tags": []
   },
   "outputs": [
    {
     "name": "stdout",
     "output_type": "stream",
     "text": [
      "True\n",
      "0\n",
      "Tesla T4\n"
     ]
    }
   ],
   "source": [
    "import torch\n",
    "print(torch.cuda.is_available())  # Should print True if GPU is available\n",
    "print(torch.cuda.current_device())  # Prints the ID of the current device\n",
    "print(torch.cuda.get_device_name(0))  # Prints the name of the GPU"
   ]
  },
  {
   "cell_type": "code",
   "execution_count": 21,
   "id": "4b766356",
   "metadata": {
    "execution": {
     "iopub.execute_input": "2024-09-19T12:22:46.256782Z",
     "iopub.status.busy": "2024-09-19T12:22:46.255795Z",
     "iopub.status.idle": "2024-09-19T12:22:46.260393Z",
     "shell.execute_reply": "2024-09-19T12:22:46.259538Z"
    },
    "papermill": {
     "duration": 0.040802,
     "end_time": "2024-09-19T12:22:46.262294",
     "exception": false,
     "start_time": "2024-09-19T12:22:46.221492",
     "status": "completed"
    },
    "tags": []
   },
   "outputs": [],
   "source": [
    "model_path = 'cardiffnlp/twitter-roberta-base-sentiment-latest'"
   ]
  },
  {
   "cell_type": "code",
   "execution_count": 22,
   "id": "0ffcd201",
   "metadata": {
    "execution": {
     "iopub.execute_input": "2024-09-19T12:22:46.330999Z",
     "iopub.status.busy": "2024-09-19T12:22:46.330599Z",
     "iopub.status.idle": "2024-09-19T12:23:09.290757Z",
     "shell.execute_reply": "2024-09-19T12:23:09.289619Z"
    },
    "papermill": {
     "duration": 22.998162,
     "end_time": "2024-09-19T12:23:09.293116",
     "exception": false,
     "start_time": "2024-09-19T12:22:46.294954",
     "status": "completed"
    },
    "tags": []
   },
   "outputs": [
    {
     "name": "stderr",
     "output_type": "stream",
     "text": [
      "2024-09-19 12:22:50.613828: E external/local_xla/xla/stream_executor/cuda/cuda_dnn.cc:9261] Unable to register cuDNN factory: Attempting to register factory for plugin cuDNN when one has already been registered\n",
      "2024-09-19 12:22:50.613945: E external/local_xla/xla/stream_executor/cuda/cuda_fft.cc:607] Unable to register cuFFT factory: Attempting to register factory for plugin cuFFT when one has already been registered\n",
      "2024-09-19 12:22:50.798551: E external/local_xla/xla/stream_executor/cuda/cuda_blas.cc:1515] Unable to register cuBLAS factory: Attempting to register factory for plugin cuBLAS when one has already been registered\n"
     ]
    },
    {
     "data": {
      "application/vnd.jupyter.widget-view+json": {
       "model_id": "bdeb93fdc01c4aa1ba6c3205e1aa5b65",
       "version_major": 2,
       "version_minor": 0
      },
      "text/plain": [
       "config.json:   0%|          | 0.00/929 [00:00<?, ?B/s]"
      ]
     },
     "metadata": {},
     "output_type": "display_data"
    },
    {
     "data": {
      "application/vnd.jupyter.widget-view+json": {
       "model_id": "fedd0a1155964ab794f849f355b38aac",
       "version_major": 2,
       "version_minor": 0
      },
      "text/plain": [
       "pytorch_model.bin:   0%|          | 0.00/501M [00:00<?, ?B/s]"
      ]
     },
     "metadata": {},
     "output_type": "display_data"
    },
    {
     "name": "stderr",
     "output_type": "stream",
     "text": [
      "Some weights of the model checkpoint at cardiffnlp/twitter-roberta-base-sentiment-latest were not used when initializing RobertaForSequenceClassification: ['roberta.pooler.dense.bias', 'roberta.pooler.dense.weight']\n",
      "- This IS expected if you are initializing RobertaForSequenceClassification from the checkpoint of a model trained on another task or with another architecture (e.g. initializing a BertForSequenceClassification model from a BertForPreTraining model).\n",
      "- This IS NOT expected if you are initializing RobertaForSequenceClassification from the checkpoint of a model that you expect to be exactly identical (initializing a BertForSequenceClassification model from a BertForSequenceClassification model).\n"
     ]
    },
    {
     "data": {
      "application/vnd.jupyter.widget-view+json": {
       "model_id": "c138f49e773e4a1cbf1f4776e1317d29",
       "version_major": 2,
       "version_minor": 0
      },
      "text/plain": [
       "vocab.json:   0%|          | 0.00/899k [00:00<?, ?B/s]"
      ]
     },
     "metadata": {},
     "output_type": "display_data"
    },
    {
     "data": {
      "application/vnd.jupyter.widget-view+json": {
       "model_id": "7a0a5036613f4a6cbc20c44e500304fa",
       "version_major": 2,
       "version_minor": 0
      },
      "text/plain": [
       "merges.txt:   0%|          | 0.00/456k [00:00<?, ?B/s]"
      ]
     },
     "metadata": {},
     "output_type": "display_data"
    },
    {
     "data": {
      "application/vnd.jupyter.widget-view+json": {
       "model_id": "0853a61ce8ac477399cc3656dde6d65f",
       "version_major": 2,
       "version_minor": 0
      },
      "text/plain": [
       "special_tokens_map.json:   0%|          | 0.00/239 [00:00<?, ?B/s]"
      ]
     },
     "metadata": {},
     "output_type": "display_data"
    },
    {
     "data": {
      "text/plain": [
       "[{'label': 'negative', 'score': 0.7235766649246216}]"
      ]
     },
     "execution_count": 22,
     "metadata": {},
     "output_type": "execute_result"
    }
   ],
   "source": [
    "from transformers import pipeline\n",
    "sentiment_task = pipeline(\"sentiment-analysis\", model=model_path, tokenizer=model_path, device=0)\n",
    "sentiment_task(\"Covid cases are increasing fast!\")"
   ]
  },
  {
   "cell_type": "code",
   "execution_count": 23,
   "id": "a78bf8eb",
   "metadata": {
    "execution": {
     "iopub.execute_input": "2024-09-19T12:23:09.369226Z",
     "iopub.status.busy": "2024-09-19T12:23:09.368054Z",
     "iopub.status.idle": "2024-09-19T12:23:09.414158Z",
     "shell.execute_reply": "2024-09-19T12:23:09.412990Z"
    },
    "papermill": {
     "duration": 0.086899,
     "end_time": "2024-09-19T12:23:09.416567",
     "exception": false,
     "start_time": "2024-09-19T12:23:09.329668",
     "status": "completed"
    },
    "tags": []
   },
   "outputs": [
    {
     "data": {
      "text/plain": [
       "'positive'"
      ]
     },
     "execution_count": 23,
     "metadata": {},
     "output_type": "execute_result"
    }
   ],
   "source": [
    "def make_pred(text):\n",
    "    try:\n",
    "        return sentiment_task(text)[0]['label']\n",
    "    except:\n",
    "        return 'neutral'\n",
    "make_pred('i love you.')"
   ]
  },
  {
   "cell_type": "code",
   "execution_count": 24,
   "id": "50773141",
   "metadata": {
    "execution": {
     "iopub.execute_input": "2024-09-19T12:23:09.489677Z",
     "iopub.status.busy": "2024-09-19T12:23:09.488947Z",
     "iopub.status.idle": "2024-09-19T12:23:09.514779Z",
     "shell.execute_reply": "2024-09-19T12:23:09.513759Z"
    },
    "papermill": {
     "duration": 0.064626,
     "end_time": "2024-09-19T12:23:09.517240",
     "exception": false,
     "start_time": "2024-09-19T12:23:09.452614",
     "status": "completed"
    },
    "tags": []
   },
   "outputs": [
    {
     "data": {
      "text/plain": [
       "'neutral'"
      ]
     },
     "execution_count": 24,
     "metadata": {},
     "output_type": "execute_result"
    }
   ],
   "source": [
    "xt = filt['message'][6125]\n",
    "make_pred(xt)"
   ]
  },
  {
   "cell_type": "code",
   "execution_count": 25,
   "id": "10e68b69",
   "metadata": {
    "execution": {
     "iopub.execute_input": "2024-09-19T12:23:09.593691Z",
     "iopub.status.busy": "2024-09-19T12:23:09.592906Z",
     "iopub.status.idle": "2024-09-19T13:10:49.687510Z",
     "shell.execute_reply": "2024-09-19T13:10:49.686498Z"
    },
    "papermill": {
     "duration": 2860.135153,
     "end_time": "2024-09-19T13:10:49.690031",
     "exception": false,
     "start_time": "2024-09-19T12:23:09.554878",
     "status": "completed"
    },
    "tags": []
   },
   "outputs": [
    {
     "name": "stderr",
     "output_type": "stream",
     "text": [
      "  0%|          | 5/200000 [00:00<1:09:23, 48.03it/s]You seem to be using the pipelines sequentially on GPU. In order to maximize efficiency please use a dataset\n",
      "100%|██████████| 200000/200000 [47:40<00:00, 69.93it/s]\n"
     ]
    }
   ],
   "source": [
    "filt['sentiment'] = filt.message.progress_apply(make_pred)"
   ]
  },
  {
   "cell_type": "code",
   "execution_count": 26,
   "id": "167e5428",
   "metadata": {
    "execution": {
     "iopub.execute_input": "2024-09-19T13:10:54.343551Z",
     "iopub.status.busy": "2024-09-19T13:10:54.343183Z",
     "iopub.status.idle": "2024-09-19T13:10:54.375837Z",
     "shell.execute_reply": "2024-09-19T13:10:54.374929Z"
    },
    "papermill": {
     "duration": 2.355676,
     "end_time": "2024-09-19T13:10:54.377965",
     "exception": false,
     "start_time": "2024-09-19T13:10:52.022289",
     "status": "completed"
    },
    "tags": []
   },
   "outputs": [
    {
     "data": {
      "text/plain": [
       "sentiment\n",
       "neutral     138580\n",
       "negative     36423\n",
       "positive     24997\n",
       "Name: count, dtype: int64"
      ]
     },
     "execution_count": 26,
     "metadata": {},
     "output_type": "execute_result"
    }
   ],
   "source": [
    "filt.sentiment.value_counts()"
   ]
  },
  {
   "cell_type": "code",
   "execution_count": 27,
   "id": "728c1f40",
   "metadata": {
    "execution": {
     "iopub.execute_input": "2024-09-19T13:10:59.009164Z",
     "iopub.status.busy": "2024-09-19T13:10:59.008799Z",
     "iopub.status.idle": "2024-09-19T13:10:59.026577Z",
     "shell.execute_reply": "2024-09-19T13:10:59.025681Z"
    },
    "papermill": {
     "duration": 2.332044,
     "end_time": "2024-09-19T13:10:59.028670",
     "exception": false,
     "start_time": "2024-09-19T13:10:56.696626",
     "status": "completed"
    },
    "tags": []
   },
   "outputs": [
    {
     "data": {
      "text/html": [
       "<div>\n",
       "<style scoped>\n",
       "    .dataframe tbody tr th:only-of-type {\n",
       "        vertical-align: middle;\n",
       "    }\n",
       "\n",
       "    .dataframe tbody tr th {\n",
       "        vertical-align: top;\n",
       "    }\n",
       "\n",
       "    .dataframe thead th {\n",
       "        text-align: right;\n",
       "    }\n",
       "</style>\n",
       "<table border=\"1\" class=\"dataframe\">\n",
       "  <thead>\n",
       "    <tr style=\"text-align: right;\">\n",
       "      <th></th>\n",
       "      <th>datetime</th>\n",
       "      <th>author</th>\n",
       "      <th>message</th>\n",
       "      <th>video_id</th>\n",
       "      <th>wordcount</th>\n",
       "      <th>year</th>\n",
       "      <th>sentiment</th>\n",
       "    </tr>\n",
       "  </thead>\n",
       "  <tbody>\n",
       "    <tr>\n",
       "      <th>199995</th>\n",
       "      <td>2021-08-15 11:41:01</td>\n",
       "      <td>raiyan 68c</td>\n",
       "      <td>জসিম ফ্যানেরা হেইট দিতেসে না কাউকে, a1 এর চিকে...</td>\n",
       "      <td>5hPFiTzXcZI</td>\n",
       "      <td>13</td>\n",
       "      <td>2021</td>\n",
       "      <td>neutral</td>\n",
       "    </tr>\n",
       "    <tr>\n",
       "      <th>199996</th>\n",
       "      <td>2021-03-30 14:15:37</td>\n",
       "      <td>MAHADI PLAYS</td>\n",
       "      <td>sadia❣️Sadia ❣️sadia ❣️sadia, ❣️sadia❣️Sadia ❣...</td>\n",
       "      <td>UZlNkHUFA-c</td>\n",
       "      <td>13</td>\n",
       "      <td>2021</td>\n",
       "      <td>neutral</td>\n",
       "    </tr>\n",
       "    <tr>\n",
       "      <th>199997</th>\n",
       "      <td>2021-02-16 11:44:54</td>\n",
       "      <td>Shahriar Amin</td>\n",
       "      <td>NEXT MATCH SOB WILL BE BACK WITH THEIR MAGIC M...</td>\n",
       "      <td>6vitPgmUfNc</td>\n",
       "      <td>13</td>\n",
       "      <td>2021</td>\n",
       "      <td>positive</td>\n",
       "    </tr>\n",
       "    <tr>\n",
       "      <th>199998</th>\n",
       "      <td>2021-08-19 14:14:58</td>\n",
       "      <td>Arafat Hassan</td>\n",
       "      <td>@Farhan Shahriar AHARE MALLU KOTHA NA PAIRA EK...</td>\n",
       "      <td>zDb6S_QFG8Q</td>\n",
       "      <td>13</td>\n",
       "      <td>2021</td>\n",
       "      <td>negative</td>\n",
       "    </tr>\n",
       "    <tr>\n",
       "      <th>199999</th>\n",
       "      <td>2021-08-19 14:14:59</td>\n",
       "      <td>Arafat Hassan</td>\n",
       "      <td>@Farhan Shahriar AHARE MALLU KOTHA NA PAIRA EK...</td>\n",
       "      <td>zDb6S_QFG8Q</td>\n",
       "      <td>13</td>\n",
       "      <td>2021</td>\n",
       "      <td>negative</td>\n",
       "    </tr>\n",
       "  </tbody>\n",
       "</table>\n",
       "</div>"
      ],
      "text/plain": [
       "                  datetime         author  \\\n",
       "199995 2021-08-15 11:41:01     raiyan 68c   \n",
       "199996 2021-03-30 14:15:37   MAHADI PLAYS   \n",
       "199997 2021-02-16 11:44:54  Shahriar Amin   \n",
       "199998 2021-08-19 14:14:58  Arafat Hassan   \n",
       "199999 2021-08-19 14:14:59  Arafat Hassan   \n",
       "\n",
       "                                                  message     video_id  \\\n",
       "199995  জসিম ফ্যানেরা হেইট দিতেসে না কাউকে, a1 এর চিকে...  5hPFiTzXcZI   \n",
       "199996  sadia❣️Sadia ❣️sadia ❣️sadia, ❣️sadia❣️Sadia ❣...  UZlNkHUFA-c   \n",
       "199997  NEXT MATCH SOB WILL BE BACK WITH THEIR MAGIC M...  6vitPgmUfNc   \n",
       "199998  @Farhan Shahriar AHARE MALLU KOTHA NA PAIRA EK...  zDb6S_QFG8Q   \n",
       "199999  @Farhan Shahriar AHARE MALLU KOTHA NA PAIRA EK...  zDb6S_QFG8Q   \n",
       "\n",
       "        wordcount  year sentiment  \n",
       "199995         13  2021   neutral  \n",
       "199996         13  2021   neutral  \n",
       "199997         13  2021  positive  \n",
       "199998         13  2021  negative  \n",
       "199999         13  2021  negative  "
      ]
     },
     "execution_count": 27,
     "metadata": {},
     "output_type": "execute_result"
    }
   ],
   "source": [
    "filt.tail()"
   ]
  },
  {
   "cell_type": "code",
   "execution_count": 28,
   "id": "b326a696",
   "metadata": {
    "execution": {
     "iopub.execute_input": "2024-09-19T13:11:03.746134Z",
     "iopub.status.busy": "2024-09-19T13:11:03.745748Z",
     "iopub.status.idle": "2024-09-19T13:11:03.750354Z",
     "shell.execute_reply": "2024-09-19T13:11:03.749333Z"
    },
    "papermill": {
     "duration": 2.344137,
     "end_time": "2024-09-19T13:11:03.752545",
     "exception": false,
     "start_time": "2024-09-19T13:11:01.408408",
     "status": "completed"
    },
    "tags": []
   },
   "outputs": [],
   "source": [
    "# make_pred('বালের খেলা করো। ফালতু যতসব। ')"
   ]
  },
  {
   "cell_type": "code",
   "execution_count": null,
   "id": "ff5f97cc",
   "metadata": {
    "papermill": {
     "duration": 2.350248,
     "end_time": "2024-09-19T13:11:08.410550",
     "exception": false,
     "start_time": "2024-09-19T13:11:06.060302",
     "status": "completed"
    },
    "tags": []
   },
   "outputs": [],
   "source": []
  },
  {
   "cell_type": "code",
   "execution_count": 29,
   "id": "a8d36aae",
   "metadata": {
    "execution": {
     "iopub.execute_input": "2024-09-19T13:11:12.946338Z",
     "iopub.status.busy": "2024-09-19T13:11:12.945443Z",
     "iopub.status.idle": "2024-09-19T13:11:12.955268Z",
     "shell.execute_reply": "2024-09-19T13:11:12.954202Z"
    },
    "papermill": {
     "duration": 2.325224,
     "end_time": "2024-09-19T13:11:12.957397",
     "exception": false,
     "start_time": "2024-09-19T13:11:10.632173",
     "status": "completed"
    },
    "tags": []
   },
   "outputs": [
    {
     "data": {
      "text/plain": [
       "year\n",
       "2021    114857\n",
       "2022     44845\n",
       "2020     23607\n",
       "2023     11197\n",
       "2024      5339\n",
       "2019       155\n",
       "Name: count, dtype: int64"
      ]
     },
     "execution_count": 29,
     "metadata": {},
     "output_type": "execute_result"
    }
   ],
   "source": [
    "filt.year.value_counts()"
   ]
  },
  {
   "cell_type": "code",
   "execution_count": 30,
   "id": "04a9cd27",
   "metadata": {
    "execution": {
     "iopub.execute_input": "2024-09-19T13:11:17.596477Z",
     "iopub.status.busy": "2024-09-19T13:11:17.595558Z",
     "iopub.status.idle": "2024-09-19T13:11:17.641333Z",
     "shell.execute_reply": "2024-09-19T13:11:17.640452Z"
    },
    "papermill": {
     "duration": 2.28578,
     "end_time": "2024-09-19T13:11:17.643886",
     "exception": false,
     "start_time": "2024-09-19T13:11:15.358106",
     "status": "completed"
    },
    "tags": []
   },
   "outputs": [],
   "source": [
    "grouped = filt.groupby(['year', 'sentiment']).size().unstack(fill_value=0)"
   ]
  },
  {
   "cell_type": "code",
   "execution_count": 31,
   "id": "1773efcd",
   "metadata": {
    "execution": {
     "iopub.execute_input": "2024-09-19T13:11:22.374944Z",
     "iopub.status.busy": "2024-09-19T13:11:22.374124Z",
     "iopub.status.idle": "2024-09-19T13:11:22.384786Z",
     "shell.execute_reply": "2024-09-19T13:11:22.383785Z"
    },
    "papermill": {
     "duration": 2.336213,
     "end_time": "2024-09-19T13:11:22.387064",
     "exception": false,
     "start_time": "2024-09-19T13:11:20.050851",
     "status": "completed"
    },
    "tags": []
   },
   "outputs": [
    {
     "data": {
      "text/html": [
       "<div>\n",
       "<style scoped>\n",
       "    .dataframe tbody tr th:only-of-type {\n",
       "        vertical-align: middle;\n",
       "    }\n",
       "\n",
       "    .dataframe tbody tr th {\n",
       "        vertical-align: top;\n",
       "    }\n",
       "\n",
       "    .dataframe thead th {\n",
       "        text-align: right;\n",
       "    }\n",
       "</style>\n",
       "<table border=\"1\" class=\"dataframe\">\n",
       "  <thead>\n",
       "    <tr style=\"text-align: right;\">\n",
       "      <th>sentiment</th>\n",
       "      <th>negative</th>\n",
       "      <th>neutral</th>\n",
       "      <th>positive</th>\n",
       "    </tr>\n",
       "    <tr>\n",
       "      <th>year</th>\n",
       "      <th></th>\n",
       "      <th></th>\n",
       "      <th></th>\n",
       "    </tr>\n",
       "  </thead>\n",
       "  <tbody>\n",
       "    <tr>\n",
       "      <th>2019</th>\n",
       "      <td>14</td>\n",
       "      <td>111</td>\n",
       "      <td>30</td>\n",
       "    </tr>\n",
       "    <tr>\n",
       "      <th>2020</th>\n",
       "      <td>3811</td>\n",
       "      <td>18165</td>\n",
       "      <td>1631</td>\n",
       "    </tr>\n",
       "    <tr>\n",
       "      <th>2021</th>\n",
       "      <td>22986</td>\n",
       "      <td>77812</td>\n",
       "      <td>14059</td>\n",
       "    </tr>\n",
       "    <tr>\n",
       "      <th>2022</th>\n",
       "      <td>7228</td>\n",
       "      <td>30231</td>\n",
       "      <td>7386</td>\n",
       "    </tr>\n",
       "    <tr>\n",
       "      <th>2023</th>\n",
       "      <td>1697</td>\n",
       "      <td>8126</td>\n",
       "      <td>1374</td>\n",
       "    </tr>\n",
       "    <tr>\n",
       "      <th>2024</th>\n",
       "      <td>687</td>\n",
       "      <td>4135</td>\n",
       "      <td>517</td>\n",
       "    </tr>\n",
       "  </tbody>\n",
       "</table>\n",
       "</div>"
      ],
      "text/plain": [
       "sentiment  negative  neutral  positive\n",
       "year                                  \n",
       "2019             14      111        30\n",
       "2020           3811    18165      1631\n",
       "2021          22986    77812     14059\n",
       "2022           7228    30231      7386\n",
       "2023           1697     8126      1374\n",
       "2024            687     4135       517"
      ]
     },
     "execution_count": 31,
     "metadata": {},
     "output_type": "execute_result"
    }
   ],
   "source": [
    "grouped"
   ]
  },
  {
   "cell_type": "code",
   "execution_count": 32,
   "id": "5feede97",
   "metadata": {
    "execution": {
     "iopub.execute_input": "2024-09-19T13:11:26.999405Z",
     "iopub.status.busy": "2024-09-19T13:11:26.998528Z",
     "iopub.status.idle": "2024-09-19T13:11:27.011655Z",
     "shell.execute_reply": "2024-09-19T13:11:27.010721Z"
    },
    "papermill": {
     "duration": 2.225501,
     "end_time": "2024-09-19T13:11:27.013553",
     "exception": false,
     "start_time": "2024-09-19T13:11:24.788052",
     "status": "completed"
    },
    "tags": []
   },
   "outputs": [
    {
     "data": {
      "text/html": [
       "<div>\n",
       "<style scoped>\n",
       "    .dataframe tbody tr th:only-of-type {\n",
       "        vertical-align: middle;\n",
       "    }\n",
       "\n",
       "    .dataframe tbody tr th {\n",
       "        vertical-align: top;\n",
       "    }\n",
       "\n",
       "    .dataframe thead th {\n",
       "        text-align: right;\n",
       "    }\n",
       "</style>\n",
       "<table border=\"1\" class=\"dataframe\">\n",
       "  <thead>\n",
       "    <tr style=\"text-align: right;\">\n",
       "      <th>sentiment</th>\n",
       "      <th>negative</th>\n",
       "      <th>neutral</th>\n",
       "      <th>positive</th>\n",
       "    </tr>\n",
       "    <tr>\n",
       "      <th>year</th>\n",
       "      <th></th>\n",
       "      <th></th>\n",
       "      <th></th>\n",
       "    </tr>\n",
       "  </thead>\n",
       "  <tbody>\n",
       "    <tr>\n",
       "      <th>2019</th>\n",
       "      <td>9.032258</td>\n",
       "      <td>71.612903</td>\n",
       "      <td>19.354839</td>\n",
       "    </tr>\n",
       "    <tr>\n",
       "      <th>2020</th>\n",
       "      <td>16.143517</td>\n",
       "      <td>76.947516</td>\n",
       "      <td>6.908968</td>\n",
       "    </tr>\n",
       "    <tr>\n",
       "      <th>2021</th>\n",
       "      <td>20.012711</td>\n",
       "      <td>67.746850</td>\n",
       "      <td>12.240438</td>\n",
       "    </tr>\n",
       "    <tr>\n",
       "      <th>2022</th>\n",
       "      <td>16.117739</td>\n",
       "      <td>67.412198</td>\n",
       "      <td>16.470064</td>\n",
       "    </tr>\n",
       "    <tr>\n",
       "      <th>2023</th>\n",
       "      <td>15.155845</td>\n",
       "      <td>72.573011</td>\n",
       "      <td>12.271144</td>\n",
       "    </tr>\n",
       "    <tr>\n",
       "      <th>2024</th>\n",
       "      <td>12.867578</td>\n",
       "      <td>77.448960</td>\n",
       "      <td>9.683461</td>\n",
       "    </tr>\n",
       "  </tbody>\n",
       "</table>\n",
       "</div>"
      ],
      "text/plain": [
       "sentiment   negative    neutral   positive\n",
       "year                                      \n",
       "2019        9.032258  71.612903  19.354839\n",
       "2020       16.143517  76.947516   6.908968\n",
       "2021       20.012711  67.746850  12.240438\n",
       "2022       16.117739  67.412198  16.470064\n",
       "2023       15.155845  72.573011  12.271144\n",
       "2024       12.867578  77.448960   9.683461"
      ]
     },
     "execution_count": 32,
     "metadata": {},
     "output_type": "execute_result"
    }
   ],
   "source": [
    "grouped_percentage = grouped.div(grouped.sum(axis=1), axis=0) * 100\n",
    "grouped_percentage"
   ]
  },
  {
   "cell_type": "code",
   "execution_count": 33,
   "id": "fff0edf8",
   "metadata": {
    "execution": {
     "iopub.execute_input": "2024-09-19T13:11:31.639014Z",
     "iopub.status.busy": "2024-09-19T13:11:31.638108Z",
     "iopub.status.idle": "2024-09-19T13:11:32.000112Z",
     "shell.execute_reply": "2024-09-19T13:11:31.999040Z"
    },
    "papermill": {
     "duration": 2.660795,
     "end_time": "2024-09-19T13:11:32.002292",
     "exception": false,
     "start_time": "2024-09-19T13:11:29.341497",
     "status": "completed"
    },
    "tags": []
   },
   "outputs": [
    {
     "data": {
      "image/png": "[encoded data removed]",
      "text/plain": [
       "<Figure size 640x480 with 1 Axes>"
      ]
     },
     "metadata": {},
     "output_type": "display_data"
    }
   ],
   "source": [
    "# Plotting the stacked bar chart\n",
    "grouped_percentage.plot(kind='barh', stacked=True)\n",
    "\n",
    "# Add labels and title\n",
    "plt.xlabel('Year')\n",
    "plt.ylabel('Count')\n",
    "# plt.title('Sentiment Distribution by Year')\n",
    "plt.legend(loc='upper center', bbox_to_anchor=(0.5, 1.12), ncol=2)\n",
    "\n",
    "# Display the plot\n",
    "plt.show()"
   ]
  },
  {
   "cell_type": "code",
   "execution_count": null,
   "id": "c2027f70",
   "metadata": {
    "papermill": {
     "duration": 2.226908,
     "end_time": "2024-09-19T13:11:36.644310",
     "exception": false,
     "start_time": "2024-09-19T13:11:34.417402",
     "status": "completed"
    },
    "tags": []
   },
   "outputs": [],
   "source": []
  },
  {
   "cell_type": "code",
   "execution_count": 34,
   "id": "f47f0f8c",
   "metadata": {
    "execution": {
     "iopub.execute_input": "2024-09-19T13:11:41.288564Z",
     "iopub.status.busy": "2024-09-19T13:11:41.288183Z",
     "iopub.status.idle": "2024-09-19T13:11:41.292852Z",
     "shell.execute_reply": "2024-09-19T13:11:41.291925Z"
    },
    "papermill": {
     "duration": 2.312351,
     "end_time": "2024-09-19T13:11:41.294844",
     "exception": false,
     "start_time": "2024-09-19T13:11:38.982493",
     "status": "completed"
    },
    "tags": []
   },
   "outputs": [],
   "source": [
    "# from transformers import pipeline\n",
    "# from datasets import Dataset\n",
    "# # import pandas as pd\n",
    "# # Example data\n",
    "# data = {\n",
    "#     'text': [\n",
    "#         \"Covid cases are increasing fast!\",\n",
    "#         \"I am feeling great today!\",\n",
    "#         \"This is a terrible situation.\",\n",
    "#         # Add more examples as needed\n",
    "#     ]\n",
    "# }\n",
    "# df = pd.DataFrame(data)\n",
    "# dataset = Dataset.from_pandas(df)\n",
    "\n",
    "# dataset"
   ]
  },
  {
   "cell_type": "code",
   "execution_count": 35,
   "id": "b1315598",
   "metadata": {
    "execution": {
     "iopub.execute_input": "2024-09-19T13:11:45.869544Z",
     "iopub.status.busy": "2024-09-19T13:11:45.868626Z",
     "iopub.status.idle": "2024-09-19T13:11:45.873253Z",
     "shell.execute_reply": "2024-09-19T13:11:45.872277Z"
    },
    "papermill": {
     "duration": 2.209721,
     "end_time": "2024-09-19T13:11:45.875201",
     "exception": false,
     "start_time": "2024-09-19T13:11:43.665480",
     "status": "completed"
    },
    "tags": []
   },
   "outputs": [],
   "source": [
    "\n",
    "# # Define the function to analyze sentiments\n",
    "# def analyze_sentiments(batch):\n",
    "#     results = sentiment_task(batch['message'])\n",
    "#     return {'sentiment': [result['label'] for result in results],\n",
    "#             'score': [result['score'] for result in results]}"
   ]
  },
  {
   "cell_type": "code",
   "execution_count": 36,
   "id": "154ae13a",
   "metadata": {
    "execution": {
     "iopub.execute_input": "2024-09-19T13:11:50.589285Z",
     "iopub.status.busy": "2024-09-19T13:11:50.588859Z",
     "iopub.status.idle": "2024-09-19T13:11:50.593658Z",
     "shell.execute_reply": "2024-09-19T13:11:50.592627Z"
    },
    "papermill": {
     "duration": 2.39699,
     "end_time": "2024-09-19T13:11:50.595987",
     "exception": false,
     "start_time": "2024-09-19T13:11:48.198997",
     "status": "completed"
    },
    "tags": []
   },
   "outputs": [],
   "source": [
    "\n",
    "\n",
    "\n",
    "\n",
    "\n",
    "# # Apply sentiment analysis to the dataset\n",
    "# results_dataset = dataset.map(analyze_sentiments, batched=True)\n",
    "\n",
    "# # # Convert results to a DataFrame\n",
    "# results_df = pd.DataFrame(results_dataset)\n",
    "\n",
    "# # # Print results\n",
    "# # print(results_df.head())\n"
   ]
  },
  {
   "cell_type": "code",
   "execution_count": 37,
   "id": "9b7c1fce",
   "metadata": {
    "execution": {
     "iopub.execute_input": "2024-09-19T13:11:55.250655Z",
     "iopub.status.busy": "2024-09-19T13:11:55.249923Z",
     "iopub.status.idle": "2024-09-19T13:11:55.254487Z",
     "shell.execute_reply": "2024-09-19T13:11:55.253510Z"
    },
    "papermill": {
     "duration": 2.247559,
     "end_time": "2024-09-19T13:11:55.256567",
     "exception": false,
     "start_time": "2024-09-19T13:11:53.009008",
     "status": "completed"
    },
    "tags": []
   },
   "outputs": [],
   "source": [
    "# results_df"
   ]
  },
  {
   "cell_type": "code",
   "execution_count": 38,
   "id": "bf9d47fb",
   "metadata": {
    "execution": {
     "iopub.execute_input": "2024-09-19T13:11:59.954805Z",
     "iopub.status.busy": "2024-09-19T13:11:59.954394Z",
     "iopub.status.idle": "2024-09-19T13:11:59.959020Z",
     "shell.execute_reply": "2024-09-19T13:11:59.957993Z"
    },
    "papermill": {
     "duration": 2.385595,
     "end_time": "2024-09-19T13:11:59.961190",
     "exception": false,
     "start_time": "2024-09-19T13:11:57.575595",
     "status": "completed"
    },
    "tags": []
   },
   "outputs": [],
   "source": [
    "# dataset = Dataset.from_pandas(filt)\n",
    "# dataset"
   ]
  },
  {
   "cell_type": "code",
   "execution_count": 39,
   "id": "e592a932",
   "metadata": {
    "execution": {
     "iopub.execute_input": "2024-09-19T13:12:04.619987Z",
     "iopub.status.busy": "2024-09-19T13:12:04.619233Z",
     "iopub.status.idle": "2024-09-19T13:12:04.623582Z",
     "shell.execute_reply": "2024-09-19T13:12:04.622569Z"
    },
    "papermill": {
     "duration": 2.245124,
     "end_time": "2024-09-19T13:12:04.625556",
     "exception": false,
     "start_time": "2024-09-19T13:12:02.380432",
     "status": "completed"
    },
    "tags": []
   },
   "outputs": [],
   "source": [
    "# results_dataset = dataset.map(analyze_sentiments, batched=True)"
   ]
  },
  {
   "cell_type": "code",
   "execution_count": null,
   "id": "7af8fce4",
   "metadata": {
    "papermill": {
     "duration": 2.341548,
     "end_time": "2024-09-19T13:12:09.274505",
     "exception": false,
     "start_time": "2024-09-19T13:12:06.932957",
     "status": "completed"
    },
    "tags": []
   },
   "outputs": [],
   "source": []
  }
 ],
 "metadata": {
  "kaggle": {
   "accelerator": "nvidiaTeslaT4",
   "dataSources": [
    {
     "databundleVersionId": 9400947,
     "datasetId": 5528375,
     "sourceId": 9215423,
     "sourceType": "datasetVersion"
    }
   ],
   "dockerImageVersionId": 30747,
   "isGpuEnabled": true,
   "isInternetEnabled": true,
   "language": "python",
   "sourceType": "notebook"
  },
  "kernelspec": {
   "display_name": "Python 3",
   "language": "python",
   "name": "python3"
  },
  "language_info": {
   "codemirror_mode": {
    "name": "ipython",
    "version": 3
   },
   "file_extension": ".py",
   "mimetype": "text/x-python",
   "name": "python",
   "nbconvert_exporter": "python",
   "pygments_lexer": "ipython3",
   "version": "3.10.13"
  },
  "papermill": {
   "default_parameters": {},
   "duration": 3012.82168,
   "end_time": "2024-09-19T13:12:15.258395",
   "environment_variables": {},
   "exception": null,
   "input_path": "__notebook__.ipynb",
   "output_path": "__notebook__.ipynb",
   "parameters": {},
   "start_time": "2024-09-19T12:22:02.436715",
   "version": "2.5.0"
  },
  "widgets": {
   "application/vnd.jupyter.widget-state+json": {
    "state": {
     "00227bb4d4c74616b1a1907adc226640": {
      "model_module": "@jupyter-widgets/controls",
      "model_module_version": "1.5.0",
      "model_name": "DescriptionStyleModel",
      "state": {
       "_model_module": "@jupyter-widgets/controls",
       "_model_module_version": "1.5.0",
       "_model_name": "DescriptionStyleModel",
       "_view_count": null,
       "_view_module": "@jupyter-widgets/base",
       "_view_module_version": "1.2.0",
       "_view_name": "StyleView",
       "description_width": ""
      }
     },
     "0853a61ce8ac477399cc3656dde6d65f": {
      "model_module": "@jupyter-widgets/controls",
      "model_module_version": "1.5.0",
      "model_name": "HBoxModel",
      "state": {
       "_dom_classes": [],
       "_model_module": "@jupyter-widgets/controls",
       "_model_module_version": "1.5.0",
       "_model_name": "HBoxModel",
       "_view_count": null,
       "_view_module": "@jupyter-widgets/controls",
       "_view_module_version": "1.5.0",
       "_view_name": "HBoxView",
       "box_style": "",
       "children": [
        "IPY_MODEL_9b9c98b254ef45a698e38c1c5a0cbd34",
        "IPY_MODEL_8fb225af5d794eea8e642c07d4f96b67",
        "IPY_MODEL_e355fb57743e4d49b6d7a50e3e08153a"
       ],
       "layout": "IPY_MODEL_aa3686ae78fc45738d698841dab9073a"
      }
     },
     "086ce5e2504e46d9a54252b0d4ba3a08": {
      "model_module": "@jupyter-widgets/controls",
      "model_module_version": "1.5.0",
      "model_name": "DescriptionStyleModel",
      "state": {
       "_model_module": "@jupyter-widgets/controls",
       "_model_module_version": "1.5.0",
       "_model_name": "DescriptionStyleModel",
       "_view_count": null,
       "_view_module": "@jupyter-widgets/base",
       "_view_module_version": "1.2.0",
       "_view_name": "StyleView",
       "description_width": ""
      }
     },
     "109b1bbc8e2f4c1098e9f345d8570f77": {
      "model_module": "@jupyter-widgets/base",
      "model_module_version": "1.2.0",
      "model_name": "LayoutModel",
      "state": {
       "_model_module": "@jupyter-widgets/base",
       "_model_module_version": "1.2.0",
       "_model_name": "LayoutModel",
       "_view_count": null,
       "_view_module": "@jupyter-widgets/base",
       "_view_module_version": "1.2.0",
       "_view_name": "LayoutView",
       "align_content": null,
       "align_items": null,
       "align_self": null,
       "border": null,
       "bottom": null,
       "display": null,
       "flex": null,
       "flex_flow": null,
       "grid_area": null,
       "grid_auto_columns": null,
       "grid_auto_flow": null,
       "grid_auto_rows": null,
       "grid_column": null,
       "grid_gap": null,
       "grid_row": null,
       "grid_template_areas": null,
       "grid_template_columns": null,
       "grid_template_rows": null,
       "height": null,
       "justify_content": null,
       "justify_items": null,
       "left": null,
       "margin": null,
       "max_height": null,
       "max_width": null,
       "min_height": null,
       "min_width": null,
       "object_fit": null,
       "object_position": null,
       "order": null,
       "overflow": null,
       "overflow_x": null,
       "overflow_y": null,
       "padding": null,
       "right": null,
       "top": null,
       "visibility": null,
       "width": null
      }
     },
     "1147b29356eb43a993c5bca213089c2b": {
      "model_module": "@jupyter-widgets/base",
      "model_module_version": "1.2.0",
      "model_name": "LayoutModel",
      "state": {
       "_model_module": "@jupyter-widgets/base",
       "_model_module_version": "1.2.0",
       "_model_name": "LayoutModel",
       "_view_count": null,
       "_view_module": "@jupyter-widgets/base",
       "_view_module_version": "1.2.0",
       "_view_name": "LayoutView",
       "align_content": null,
       "align_items": null,
       "align_self": null,
       "border": null,
       "bottom": null,
       "display": null,
       "flex": null,
       "flex_flow": null,
       "grid_area": null,
       "grid_auto_columns": null,
       "grid_auto_flow": null,
       "grid_auto_rows": null,
       "grid_column": null,
       "grid_gap": null,
       "grid_row": null,
       "grid_template_areas": null,
       "grid_template_columns": null,
       "grid_template_rows": null,
       "height": null,
       "justify_content": null,
       "justify_items": null,
       "left": null,
       "margin": null,
       "max_height": null,
       "max_width": null,
       "min_height": null,
       "min_width": null,
       "object_fit": null,
       "object_position": null,
       "order": null,
       "overflow": null,
       "overflow_x": null,
       "overflow_y": null,
       "padding": null,
       "right": null,
       "top": null,
       "visibility": null,
       "width": null
      }
     },
     "173573b30fee4566b5798f6dcbf3adf9": {
      "model_module": "@jupyter-widgets/base",
      "model_module_version": "1.2.0",
      "model_name": "LayoutModel",
      "state": {
       "_model_module": "@jupyter-widgets/base",
       "_model_module_version": "1.2.0",
       "_model_name": "LayoutModel",
       "_view_count": null,
       "_view_module": "@jupyter-widgets/base",
       "_view_module_version": "1.2.0",
       "_view_name": "LayoutView",
       "align_content": null,
       "align_items": null,
       "align_self": null,
       "border": null,
       "bottom": null,
       "display": null,
       "flex": null,
       "flex_flow": null,
       "grid_area": null,
       "grid_auto_columns": null,
       "grid_auto_flow": null,
       "grid_auto_rows": null,
       "grid_column": null,
       "grid_gap": null,
       "grid_row": null,
       "grid_template_areas": null,
       "grid_template_columns": null,
       "grid_template_rows": null,
       "height": null,
       "justify_content": null,
       "justify_items": null,
       "left": null,
       "margin": null,
       "max_height": null,
       "max_width": null,
       "min_height": null,
       "min_width": null,
       "object_fit": null,
       "object_position": null,
       "order": null,
       "overflow": null,
       "overflow_x": null,
       "overflow_y": null,
       "padding": null,
       "right": null,
       "top": null,
       "visibility": null,
       "width": null
      }
     },
     "18e4af72e04a4de2a7cbffd20bc38e21": {
      "model_module": "@jupyter-widgets/base",
      "model_module_version": "1.2.0",
      "model_name": "LayoutModel",
      "state": {
       "_model_module": "@jupyter-widgets/base",
       "_model_module_version": "1.2.0",
       "_model_name": "LayoutModel",
       "_view_count": null,
       "_view_module": "@jupyter-widgets/base",
       "_view_module_version": "1.2.0",
       "_view_name": "LayoutView",
       "align_content": null,
       "align_items": null,
       "align_self": null,
       "border": null,
       "bottom": null,
       "display": null,
       "flex": null,
       "flex_flow": null,
       "grid_area": null,
       "grid_auto_columns": null,
       "grid_auto_flow": null,
       "grid_auto_rows": null,
       "grid_column": null,
       "grid_gap": null,
       "grid_row": null,
       "grid_template_areas": null,
       "grid_template_columns": null,
       "grid_template_rows": null,
       "height": null,
       "justify_content": null,
       "justify_items": null,
       "left": null,
       "margin": null,
       "max_height": null,
       "max_width": null,
       "min_height": null,
       "min_width": null,
       "object_fit": null,
       "object_position": null,
       "order": null,
       "overflow": null,
       "overflow_x": null,
       "overflow_y": null,
       "padding": null,
       "right": null,
       "top": null,
       "visibility": null,
       "width": null
      }
     },
     "190504c485e04cd7ba3a22b74e5a6f62": {
      "model_module": "@jupyter-widgets/base",
      "model_module_version": "1.2.0",
      "model_name": "LayoutModel",
      "state": {
       "_model_module": "@jupyter-widgets/base",
       "_model_module_version": "1.2.0",
       "_model_name": "LayoutModel",
       "_view_count": null,
       "_view_module": "@jupyter-widgets/base",
       "_view_module_version": "1.2.0",
       "_view_name": "LayoutView",
       "align_content": null,
       "align_items": null,
       "align_self": null,
       "border": null,
       "bottom": null,
       "display": null,
       "flex": null,
       "flex_flow": null,
       "grid_area": null,
       "grid_auto_columns": null,
       "grid_auto_flow": null,
       "grid_auto_rows": null,
       "grid_column": null,
       "grid_gap": null,
       "grid_row": null,
       "grid_template_areas": null,
       "grid_template_columns": null,
       "grid_template_rows": null,
       "height": null,
       "justify_content": null,
       "justify_items": null,
       "left": null,
       "margin": null,
       "max_height": null,
       "max_width": null,
       "min_height": null,
       "min_width": null,
       "object_fit": null,
       "object_position": null,
       "order": null,
       "overflow": null,
       "overflow_x": null,
       "overflow_y": null,
       "padding": null,
       "right": null,
       "top": null,
       "visibility": null,
       "width": null
      }
     },
     "1d2afee906774ec58b1e5fb7e03eca46": {
      "model_module": "@jupyter-widgets/controls",
      "model_module_version": "1.5.0",
      "model_name": "FloatProgressModel",
      "state": {
       "_dom_classes": [],
       "_model_module": "@jupyter-widgets/controls",
       "_model_module_version": "1.5.0",
       "_model_name": "FloatProgressModel",
       "_view_count": null,
       "_view_module": "@jupyter-widgets/controls",
       "_view_module_version": "1.5.0",
       "_view_name": "ProgressView",
       "bar_style": "success",
       "description": "",
       "description_tooltip": null,
       "layout": "IPY_MODEL_e1cca08a87b742568d7d213dee616fe0",
       "max": 929.0,
       "min": 0.0,
       "orientation": "horizontal",
       "style": "IPY_MODEL_b1316a50ad37426e88c391d7c270cf10",
       "value": 929.0
      }
     },
     "2081cad6fd0c4d3abe13f9e697edf4b3": {
      "model_module": "@jupyter-widgets/controls",
      "model_module_version": "1.5.0",
      "model_name": "HTMLModel",
      "state": {
       "_dom_classes": [],
       "_model_module": "@jupyter-widgets/controls",
       "_model_module_version": "1.5.0",
       "_model_name": "HTMLModel",
       "_view_count": null,
       "_view_module": "@jupyter-widgets/controls",
       "_view_module_version": "1.5.0",
       "_view_name": "HTMLView",
       "description": "",
       "description_tooltip": null,
       "layout": "IPY_MODEL_e4de38b8af794083aba804cacbded969",
       "placeholder": "​",
       "style": "IPY_MODEL_086ce5e2504e46d9a54252b0d4ba3a08",
       "value": "merges.txt: 100%"
      }
     },
     "28ea227d1148468080d47f6f586a574a": {
      "model_module": "@jupyter-widgets/controls",
      "model_module_version": "1.5.0",
      "model_name": "HTMLModel",
      "state": {
       "_dom_classes": [],
       "_model_module": "@jupyter-widgets/controls",
       "_model_module_version": "1.5.0",
       "_model_name": "HTMLModel",
       "_view_count": null,
       "_view_module": "@jupyter-widgets/controls",
       "_view_module_version": "1.5.0",
       "_view_name": "HTMLView",
       "description": "",
       "description_tooltip": null,
       "layout": "IPY_MODEL_372e919105e04e7196e1a29501c70951",
       "placeholder": "​",
       "style": "IPY_MODEL_3c3e3bf481fb41b88a8c3515b9d058f7",
       "value": " 456k/456k [00:00&lt;00:00, 28.9MB/s]"
      }
     },
     "34dfcbf91d9f4c11b3b08af00723626c": {
      "model_module": "@jupyter-widgets/controls",
      "model_module_version": "1.5.0",
      "model_name": "ProgressStyleModel",
      "state": {
       "_model_module": "@jupyter-widgets/controls",
       "_model_module_version": "1.5.0",
       "_model_name": "ProgressStyleModel",
       "_view_count": null,
       "_view_module": "@jupyter-widgets/base",
       "_view_module_version": "1.2.0",
       "_view_name": "StyleView",
       "bar_color": null,
       "description_width": ""
      }
     },
     "372e919105e04e7196e1a29501c70951": {
      "model_module": "@jupyter-widgets/base",
      "model_module_version": "1.2.0",
      "model_name": "LayoutModel",
      "state": {
       "_model_module": "@jupyter-widgets/base",
       "_model_module_version": "1.2.0",
       "_model_name": "LayoutModel",
       "_view_count": null,
       "_view_module": "@jupyter-widgets/base",
       "_view_module_version": "1.2.0",
       "_view_name": "LayoutView",
       "align_content": null,
       "align_items": null,
       "align_self": null,
       "border": null,
       "bottom": null,
       "display": null,
       "flex": null,
       "flex_flow": null,
       "grid_area": null,
       "grid_auto_columns": null,
       "grid_auto_flow": null,
       "grid_auto_rows": null,
       "grid_column": null,
       "grid_gap": null,
       "grid_row": null,
       "grid_template_areas": null,
       "grid_template_columns": null,
       "grid_template_rows": null,
       "height": null,
       "justify_content": null,
       "justify_items": null,
       "left": null,
       "margin": null,
       "max_height": null,
       "max_width": null,
       "min_height": null,
       "min_width": null,
       "object_fit": null,
       "object_position": null,
       "order": null,
       "overflow": null,
       "overflow_x": null,
       "overflow_y": null,
       "padding": null,
       "right": null,
       "top": null,
       "visibility": null,
       "width": null
      }
     },
     "3c3e3bf481fb41b88a8c3515b9d058f7": {
      "model_module": "@jupyter-widgets/controls",
      "model_module_version": "1.5.0",
      "model_name": "DescriptionStyleModel",
      "state": {
       "_model_module": "@jupyter-widgets/controls",
       "_model_module_version": "1.5.0",
       "_model_name": "DescriptionStyleModel",
       "_view_count": null,
       "_view_module": "@jupyter-widgets/base",
       "_view_module_version": "1.2.0",
       "_view_name": "StyleView",
       "description_width": ""
      }
     },
     "45f2c82f3d8145c08462acab16e3ea91": {
      "model_module": "@jupyter-widgets/controls",
      "model_module_version": "1.5.0",
      "model_name": "HTMLModel",
      "state": {
       "_dom_classes": [],
       "_model_module": "@jupyter-widgets/controls",
       "_model_module_version": "1.5.0",
       "_model_name": "HTMLModel",
       "_view_count": null,
       "_view_module": "@jupyter-widgets/controls",
       "_view_module_version": "1.5.0",
       "_view_name": "HTMLView",
       "description": "",
       "description_tooltip": null,
       "layout": "IPY_MODEL_a138ba5eb28a4a67a1eed6f51107d164",
       "placeholder": "​",
       "style": "IPY_MODEL_534769b0338642c4b3ed8e8eaf655d7d",
       "value": " 929/929 [00:00&lt;00:00, 68.4kB/s]"
      }
     },
     "4749099670b040a5a3e857dbc10acaa7": {
      "model_module": "@jupyter-widgets/base",
      "model_module_version": "1.2.0",
      "model_name": "LayoutModel",
      "state": {
       "_model_module": "@jupyter-widgets/base",
       "_model_module_version": "1.2.0",
       "_model_name": "LayoutModel",
       "_view_count": null,
       "_view_module": "@jupyter-widgets/base",
       "_view_module_version": "1.2.0",
       "_view_name": "LayoutView",
       "align_content": null,
       "align_items": null,
       "align_self": null,
       "border": null,
       "bottom": null,
       "display": null,
       "flex": null,
       "flex_flow": null,
       "grid_area": null,
       "grid_auto_columns": null,
       "grid_auto_flow": null,
       "grid_auto_rows": null,
       "grid_column": null,
       "grid_gap": null,
       "grid_row": null,
       "grid_template_areas": null,
       "grid_template_columns": null,
       "grid_template_rows": null,
       "height": null,
       "justify_content": null,
       "justify_items": null,
       "left": null,
       "margin": null,
       "max_height": null,
       "max_width": null,
       "min_height": null,
       "min_width": null,
       "object_fit": null,
       "object_position": null,
       "order": null,
       "overflow": null,
       "overflow_x": null,
       "overflow_y": null,
       "padding": null,
       "right": null,
       "top": null,
       "visibility": null,
       "width": null
      }
     },
     "534769b0338642c4b3ed8e8eaf655d7d": {
      "model_module": "@jupyter-widgets/controls",
      "model_module_version": "1.5.0",
      "model_name": "DescriptionStyleModel",
      "state": {
       "_model_module": "@jupyter-widgets/controls",
       "_model_module_version": "1.5.0",
       "_model_name": "DescriptionStyleModel",
       "_view_count": null,
       "_view_module": "@jupyter-widgets/base",
       "_view_module_version": "1.2.0",
       "_view_name": "StyleView",
       "description_width": ""
      }
     },
     "54a899e55be341f5a4dddde2bf096beb": {
      "model_module": "@jupyter-widgets/controls",
      "model_module_version": "1.5.0",
      "model_name": "FloatProgressModel",
      "state": {
       "_dom_classes": [],
       "_model_module": "@jupyter-widgets/controls",
       "_model_module_version": "1.5.0",
       "_model_name": "FloatProgressModel",
       "_view_count": null,
       "_view_module": "@jupyter-widgets/controls",
       "_view_module_version": "1.5.0",
       "_view_name": "ProgressView",
       "bar_style": "success",
       "description": "",
       "description_tooltip": null,
       "layout": "IPY_MODEL_6f1e4977fb94484b979eba9301401ee9",
       "max": 898822.0,
       "min": 0.0,
       "orientation": "horizontal",
       "style": "IPY_MODEL_e7fd9889edf24c80be99f9efac0abfae",
       "value": 898822.0
      }
     },
     "61f7381f8fb24d3c867c104e368ad816": {
      "model_module": "@jupyter-widgets/controls",
      "model_module_version": "1.5.0",
      "model_name": "HTMLModel",
      "state": {
       "_dom_classes": [],
       "_model_module": "@jupyter-widgets/controls",
       "_model_module_version": "1.5.0",
       "_model_name": "HTMLModel",
       "_view_count": null,
       "_view_module": "@jupyter-widgets/controls",
       "_view_module_version": "1.5.0",
       "_view_name": "HTMLView",
       "description": "",
       "description_tooltip": null,
       "layout": "IPY_MODEL_6a779a844adf4b5aa1d0866a900df944",
       "placeholder": "​",
       "style": "IPY_MODEL_cd5ee40fa2284c3f8d99e9ea8cb7d3a6",
       "value": "pytorch_model.bin: 100%"
      }
     },
     "6274ab7212324a0c905fedf35ce05aed": {
      "model_module": "@jupyter-widgets/controls",
      "model_module_version": "1.5.0",
      "model_name": "HTMLModel",
      "state": {
       "_dom_classes": [],
       "_model_module": "@jupyter-widgets/controls",
       "_model_module_version": "1.5.0",
       "_model_name": "HTMLModel",
       "_view_count": null,
       "_view_module": "@jupyter-widgets/controls",
       "_view_module_version": "1.5.0",
       "_view_name": "HTMLView",
       "description": "",
       "description_tooltip": null,
       "layout": "IPY_MODEL_b0a2252e47d74f09acd5e1d99dd94372",
       "placeholder": "​",
       "style": "IPY_MODEL_c9822acddd5a40ba821426f83f7e8f00",
       "value": " 501M/501M [00:02&lt;00:00, 211MB/s]"
      }
     },
     "6a779a844adf4b5aa1d0866a900df944": {
      "model_module": "@jupyter-widgets/base",
      "model_module_version": "1.2.0",
      "model_name": "LayoutModel",
      "state": {
       "_model_module": "@jupyter-widgets/base",
       "_model_module_version": "1.2.0",
       "_model_name": "LayoutModel",
       "_view_count": null,
       "_view_module": "@jupyter-widgets/base",
       "_view_module_version": "1.2.0",
       "_view_name": "LayoutView",
       "align_content": null,
       "align_items": null,
       "align_self": null,
       "border": null,
       "bottom": null,
       "display": null,
       "flex": null,
       "flex_flow": null,
       "grid_area": null,
       "grid_auto_columns": null,
       "grid_auto_flow": null,
       "grid_auto_rows": null,
       "grid_column": null,
       "grid_gap": null,
       "grid_row": null,
       "grid_template_areas": null,
       "grid_template_columns": null,
       "grid_template_rows": null,
       "height": null,
       "justify_content": null,
       "justify_items": null,
       "left": null,
       "margin": null,
       "max_height": null,
       "max_width": null,
       "min_height": null,
       "min_width": null,
       "object_fit": null,
       "object_position": null,
       "order": null,
       "overflow": null,
       "overflow_x": null,
       "overflow_y": null,
       "padding": null,
       "right": null,
       "top": null,
       "visibility": null,
       "width": null
      }
     },
     "6c598a8bba794897983f4e9dd5108a95": {
      "model_module": "@jupyter-widgets/base",
      "model_module_version": "1.2.0",
      "model_name": "LayoutModel",
      "state": {
       "_model_module": "@jupyter-widgets/base",
       "_model_module_version": "1.2.0",
       "_model_name": "LayoutModel",
       "_view_count": null,
       "_view_module": "@jupyter-widgets/base",
       "_view_module_version": "1.2.0",
       "_view_name": "LayoutView",
       "align_content": null,
       "align_items": null,
       "align_self": null,
       "border": null,
       "bottom": null,
       "display": null,
       "flex": null,
       "flex_flow": null,
       "grid_area": null,
       "grid_auto_columns": null,
       "grid_auto_flow": null,
       "grid_auto_rows": null,
       "grid_column": null,
       "grid_gap": null,
       "grid_row": null,
       "grid_template_areas": null,
       "grid_template_columns": null,
       "grid_template_rows": null,
       "height": null,
       "justify_content": null,
       "justify_items": null,
       "left": null,
       "margin": null,
       "max_height": null,
       "max_width": null,
       "min_height": null,
       "min_width": null,
       "object_fit": null,
       "object_position": null,
       "order": null,
       "overflow": null,
       "overflow_x": null,
       "overflow_y": null,
       "padding": null,
       "right": null,
       "top": null,
       "visibility": null,
       "width": null
      }
     },
     "6cb76ee0e19e4041bf9bd4aa551fba2f": {
      "model_module": "@jupyter-widgets/base",
      "model_module_version": "1.2.0",
      "model_name": "LayoutModel",
      "state": {
       "_model_module": "@jupyter-widgets/base",
       "_model_module_version": "1.2.0",
       "_model_name": "LayoutModel",
       "_view_count": null,
       "_view_module": "@jupyter-widgets/base",
       "_view_module_version": "1.2.0",
       "_view_name": "LayoutView",
       "align_content": null,
       "align_items": null,
       "align_self": null,
       "border": null,
       "bottom": null,
       "display": null,
       "flex": null,
       "flex_flow": null,
       "grid_area": null,
       "grid_auto_columns": null,
       "grid_auto_flow": null,
       "grid_auto_rows": null,
       "grid_column": null,
       "grid_gap": null,
       "grid_row": null,
       "grid_template_areas": null,
       "grid_template_columns": null,
       "grid_template_rows": null,
       "height": null,
       "justify_content": null,
       "justify_items": null,
       "left": null,
       "margin": null,
       "max_height": null,
       "max_width": null,
       "min_height": null,
       "min_width": null,
       "object_fit": null,
       "object_position": null,
       "order": null,
       "overflow": null,
       "overflow_x": null,
       "overflow_y": null,
       "padding": null,
       "right": null,
       "top": null,
       "visibility": null,
       "width": null
      }
     },
     "6f1e4977fb94484b979eba9301401ee9": {
      "model_module": "@jupyter-widgets/base",
      "model_module_version": "1.2.0",
      "model_name": "LayoutModel",
      "state": {
       "_model_module": "@jupyter-widgets/base",
       "_model_module_version": "1.2.0",
       "_model_name": "LayoutModel",
       "_view_count": null,
       "_view_module": "@jupyter-widgets/base",
       "_view_module_version": "1.2.0",
       "_view_name": "LayoutView",
       "align_content": null,
       "align_items": null,
       "align_self": null,
       "border": null,
       "bottom": null,
       "display": null,
       "flex": null,
       "flex_flow": null,
       "grid_area": null,
       "grid_auto_columns": null,
       "grid_auto_flow": null,
       "grid_auto_rows": null,
       "grid_column": null,
       "grid_gap": null,
       "grid_row": null,
       "grid_template_areas": null,
       "grid_template_columns": null,
       "grid_template_rows": null,
       "height": null,
       "justify_content": null,
       "justify_items": null,
       "left": null,
       "margin": null,
       "max_height": null,
       "max_width": null,
       "min_height": null,
       "min_width": null,
       "object_fit": null,
       "object_position": null,
       "order": null,
       "overflow": null,
       "overflow_x": null,
       "overflow_y": null,
       "padding": null,
       "right": null,
       "top": null,
       "visibility": null,
       "width": null
      }
     },
     "7a0a5036613f4a6cbc20c44e500304fa": {
      "model_module": "@jupyter-widgets/controls",
      "model_module_version": "1.5.0",
      "model_name": "HBoxModel",
      "state": {
       "_dom_classes": [],
       "_model_module": "@jupyter-widgets/controls",
       "_model_module_version": "1.5.0",
       "_model_name": "HBoxModel",
       "_view_count": null,
       "_view_module": "@jupyter-widgets/controls",
       "_view_module_version": "1.5.0",
       "_view_name": "HBoxView",
       "box_style": "",
       "children": [
        "IPY_MODEL_2081cad6fd0c4d3abe13f9e697edf4b3",
        "IPY_MODEL_fd9d5b35ef764940a0f19352667a3b02",
        "IPY_MODEL_28ea227d1148468080d47f6f586a574a"
       ],
       "layout": "IPY_MODEL_173573b30fee4566b5798f6dcbf3adf9"
      }
     },
     "7dca8a8d786247c49fe1e39a5ad34137": {
      "model_module": "@jupyter-widgets/controls",
      "model_module_version": "1.5.0",
      "model_name": "DescriptionStyleModel",
      "state": {
       "_model_module": "@jupyter-widgets/controls",
       "_model_module_version": "1.5.0",
       "_model_name": "DescriptionStyleModel",
       "_view_count": null,
       "_view_module": "@jupyter-widgets/base",
       "_view_module_version": "1.2.0",
       "_view_name": "StyleView",
       "description_width": ""
      }
     },
     "8ce19184c32d49efb71108e50934cb0d": {
      "model_module": "@jupyter-widgets/base",
      "model_module_version": "1.2.0",
      "model_name": "LayoutModel",
      "state": {
       "_model_module": "@jupyter-widgets/base",
       "_model_module_version": "1.2.0",
       "_model_name": "LayoutModel",
       "_view_count": null,
       "_view_module": "@jupyter-widgets/base",
       "_view_module_version": "1.2.0",
       "_view_name": "LayoutView",
       "align_content": null,
       "align_items": null,
       "align_self": null,
       "border": null,
       "bottom": null,
       "display": null,
       "flex": null,
       "flex_flow": null,
       "grid_area": null,
       "grid_auto_columns": null,
       "grid_auto_flow": null,
       "grid_auto_rows": null,
       "grid_column": null,
       "grid_gap": null,
       "grid_row": null,
       "grid_template_areas": null,
       "grid_template_columns": null,
       "grid_template_rows": null,
       "height": null,
       "justify_content": null,
       "justify_items": null,
       "left": null,
       "margin": null,
       "max_height": null,
       "max_width": null,
       "min_height": null,
       "min_width": null,
       "object_fit": null,
       "object_position": null,
       "order": null,
       "overflow": null,
       "overflow_x": null,
       "overflow_y": null,
       "padding": null,
       "right": null,
       "top": null,
       "visibility": null,
       "width": null
      }
     },
     "8fb225af5d794eea8e642c07d4f96b67": {
      "model_module": "@jupyter-widgets/controls",
      "model_module_version": "1.5.0",
      "model_name": "FloatProgressModel",
      "state": {
       "_dom_classes": [],
       "_model_module": "@jupyter-widgets/controls",
       "_model_module_version": "1.5.0",
       "_model_name": "FloatProgressModel",
       "_view_count": null,
       "_view_module": "@jupyter-widgets/controls",
       "_view_module_version": "1.5.0",
       "_view_name": "ProgressView",
       "bar_style": "success",
       "description": "",
       "description_tooltip": null,
       "layout": "IPY_MODEL_190504c485e04cd7ba3a22b74e5a6f62",
       "max": 239.0,
       "min": 0.0,
       "orientation": "horizontal",
       "style": "IPY_MODEL_34dfcbf91d9f4c11b3b08af00723626c",
       "value": 239.0
      }
     },
     "98740809e3e54804957a2a8595e218fd": {
      "model_module": "@jupyter-widgets/controls",
      "model_module_version": "1.5.0",
      "model_name": "HTMLModel",
      "state": {
       "_dom_classes": [],
       "_model_module": "@jupyter-widgets/controls",
       "_model_module_version": "1.5.0",
       "_model_name": "HTMLModel",
       "_view_count": null,
       "_view_module": "@jupyter-widgets/controls",
       "_view_module_version": "1.5.0",
       "_view_name": "HTMLView",
       "description": "",
       "description_tooltip": null,
       "layout": "IPY_MODEL_fd9a530b2861431984e416c8fe30c6d2",
       "placeholder": "​",
       "style": "IPY_MODEL_7dca8a8d786247c49fe1e39a5ad34137",
       "value": " 899k/899k [00:00&lt;00:00, 11.0MB/s]"
      }
     },
     "9b9c98b254ef45a698e38c1c5a0cbd34": {
      "model_module": "@jupyter-widgets/controls",
      "model_module_version": "1.5.0",
      "model_name": "HTMLModel",
      "state": {
       "_dom_classes": [],
       "_model_module": "@jupyter-widgets/controls",
       "_model_module_version": "1.5.0",
       "_model_name": "HTMLModel",
       "_view_count": null,
       "_view_module": "@jupyter-widgets/controls",
       "_view_module_version": "1.5.0",
       "_view_name": "HTMLView",
       "description": "",
       "description_tooltip": null,
       "layout": "IPY_MODEL_4749099670b040a5a3e857dbc10acaa7",
       "placeholder": "​",
       "style": "IPY_MODEL_00227bb4d4c74616b1a1907adc226640",
       "value": "special_tokens_map.json: 100%"
      }
     },
     "a138ba5eb28a4a67a1eed6f51107d164": {
      "model_module": "@jupyter-widgets/base",
      "model_module_version": "1.2.0",
      "model_name": "LayoutModel",
      "state": {
       "_model_module": "@jupyter-widgets/base",
       "_model_module_version": "1.2.0",
       "_model_name": "LayoutModel",
       "_view_count": null,
       "_view_module": "@jupyter-widgets/base",
       "_view_module_version": "1.2.0",
       "_view_name": "LayoutView",
       "align_content": null,
       "align_items": null,
       "align_self": null,
       "border": null,
       "bottom": null,
       "display": null,
       "flex": null,
       "flex_flow": null,
       "grid_area": null,
       "grid_auto_columns": null,
       "grid_auto_flow": null,
       "grid_auto_rows": null,
       "grid_column": null,
       "grid_gap": null,
       "grid_row": null,
       "grid_template_areas": null,
       "grid_template_columns": null,
       "grid_template_rows": null,
       "height": null,
       "justify_content": null,
       "justify_items": null,
       "left": null,
       "margin": null,
       "max_height": null,
       "max_width": null,
       "min_height": null,
       "min_width": null,
       "object_fit": null,
       "object_position": null,
       "order": null,
       "overflow": null,
       "overflow_x": null,
       "overflow_y": null,
       "padding": null,
       "right": null,
       "top": null,
       "visibility": null,
       "width": null
      }
     },
     "a50b090b76534711915a40c2d0000f70": {
      "model_module": "@jupyter-widgets/controls",
      "model_module_version": "1.5.0",
      "model_name": "DescriptionStyleModel",
      "state": {
       "_model_module": "@jupyter-widgets/controls",
       "_model_module_version": "1.5.0",
       "_model_name": "DescriptionStyleModel",
       "_view_count": null,
       "_view_module": "@jupyter-widgets/base",
       "_view_module_version": "1.2.0",
       "_view_name": "StyleView",
       "description_width": ""
      }
     },
     "aa3686ae78fc45738d698841dab9073a": {
      "model_module": "@jupyter-widgets/base",
      "model_module_version": "1.2.0",
      "model_name": "LayoutModel",
      "state": {
       "_model_module": "@jupyter-widgets/base",
       "_model_module_version": "1.2.0",
       "_model_name": "LayoutModel",
       "_view_count": null,
       "_view_module": "@jupyter-widgets/base",
       "_view_module_version": "1.2.0",
       "_view_name": "LayoutView",
       "align_content": null,
       "align_items": null,
       "align_self": null,
       "border": null,
       "bottom": null,
       "display": null,
       "flex": null,
       "flex_flow": null,
       "grid_area": null,
       "grid_auto_columns": null,
       "grid_auto_flow": null,
       "grid_auto_rows": null,
       "grid_column": null,
       "grid_gap": null,
       "grid_row": null,
       "grid_template_areas": null,
       "grid_template_columns": null,
       "grid_template_rows": null,
       "height": null,
       "justify_content": null,
       "justify_items": null,
       "left": null,
       "margin": null,
       "max_height": null,
       "max_width": null,
       "min_height": null,
       "min_width": null,
       "object_fit": null,
       "object_position": null,
       "order": null,
       "overflow": null,
       "overflow_x": null,
       "overflow_y": null,
       "padding": null,
       "right": null,
       "top": null,
       "visibility": null,
       "width": null
      }
     },
     "b0a2252e47d74f09acd5e1d99dd94372": {
      "model_module": "@jupyter-widgets/base",
      "model_module_version": "1.2.0",
      "model_name": "LayoutModel",
      "state": {
       "_model_module": "@jupyter-widgets/base",
       "_model_module_version": "1.2.0",
       "_model_name": "LayoutModel",
       "_view_count": null,
       "_view_module": "@jupyter-widgets/base",
       "_view_module_version": "1.2.0",
       "_view_name": "LayoutView",
       "align_content": null,
       "align_items": null,
       "align_self": null,
       "border": null,
       "bottom": null,
       "display": null,
       "flex": null,
       "flex_flow": null,
       "grid_area": null,
       "grid_auto_columns": null,
       "grid_auto_flow": null,
       "grid_auto_rows": null,
       "grid_column": null,
       "grid_gap": null,
       "grid_row": null,
       "grid_template_areas": null,
       "grid_template_columns": null,
       "grid_template_rows": null,
       "height": null,
       "justify_content": null,
       "justify_items": null,
       "left": null,
       "margin": null,
       "max_height": null,
       "max_width": null,
       "min_height": null,
       "min_width": null,
       "object_fit": null,
       "object_position": null,
       "order": null,
       "overflow": null,
       "overflow_x": null,
       "overflow_y": null,
       "padding": null,
       "right": null,
       "top": null,
       "visibility": null,
       "width": null
      }
     },
     "b1316a50ad37426e88c391d7c270cf10": {
      "model_module": "@jupyter-widgets/controls",
      "model_module_version": "1.5.0",
      "model_name": "ProgressStyleModel",
      "state": {
       "_model_module": "@jupyter-widgets/controls",
       "_model_module_version": "1.5.0",
       "_model_name": "ProgressStyleModel",
       "_view_count": null,
       "_view_module": "@jupyter-widgets/base",
       "_view_module_version": "1.2.0",
       "_view_name": "StyleView",
       "bar_color": null,
       "description_width": ""
      }
     },
     "b59c9815596e4306b7a4579fd2e1652c": {
      "model_module": "@jupyter-widgets/controls",
      "model_module_version": "1.5.0",
      "model_name": "DescriptionStyleModel",
      "state": {
       "_model_module": "@jupyter-widgets/controls",
       "_model_module_version": "1.5.0",
       "_model_name": "DescriptionStyleModel",
       "_view_count": null,
       "_view_module": "@jupyter-widgets/base",
       "_view_module_version": "1.2.0",
       "_view_name": "StyleView",
       "description_width": ""
      }
     },
     "b9eb373a2c5347a4a42fe99287e13d0a": {
      "model_module": "@jupyter-widgets/controls",
      "model_module_version": "1.5.0",
      "model_name": "HTMLModel",
      "state": {
       "_dom_classes": [],
       "_model_module": "@jupyter-widgets/controls",
       "_model_module_version": "1.5.0",
       "_model_name": "HTMLModel",
       "_view_count": null,
       "_view_module": "@jupyter-widgets/controls",
       "_view_module_version": "1.5.0",
       "_view_name": "HTMLView",
       "description": "",
       "description_tooltip": null,
       "layout": "IPY_MODEL_6cb76ee0e19e4041bf9bd4aa551fba2f",
       "placeholder": "​",
       "style": "IPY_MODEL_a50b090b76534711915a40c2d0000f70",
       "value": "vocab.json: 100%"
      }
     },
     "bdeb93fdc01c4aa1ba6c3205e1aa5b65": {
      "model_module": "@jupyter-widgets/controls",
      "model_module_version": "1.5.0",
      "model_name": "HBoxModel",
      "state": {
       "_dom_classes": [],
       "_model_module": "@jupyter-widgets/controls",
       "_model_module_version": "1.5.0",
       "_model_name": "HBoxModel",
       "_view_count": null,
       "_view_module": "@jupyter-widgets/controls",
       "_view_module_version": "1.5.0",
       "_view_name": "HBoxView",
       "box_style": "",
       "children": [
        "IPY_MODEL_f89a6bf4b9d849b98909b61514628e94",
        "IPY_MODEL_1d2afee906774ec58b1e5fb7e03eca46",
        "IPY_MODEL_45f2c82f3d8145c08462acab16e3ea91"
       ],
       "layout": "IPY_MODEL_8ce19184c32d49efb71108e50934cb0d"
      }
     },
     "be801f63704d4f539dde9d40aebf5bee": {
      "model_module": "@jupyter-widgets/controls",
      "model_module_version": "1.5.0",
      "model_name": "DescriptionStyleModel",
      "state": {
       "_model_module": "@jupyter-widgets/controls",
       "_model_module_version": "1.5.0",
       "_model_name": "DescriptionStyleModel",
       "_view_count": null,
       "_view_module": "@jupyter-widgets/base",
       "_view_module_version": "1.2.0",
       "_view_name": "StyleView",
       "description_width": ""
      }
     },
     "c138f49e773e4a1cbf1f4776e1317d29": {
      "model_module": "@jupyter-widgets/controls",
      "model_module_version": "1.5.0",
      "model_name": "HBoxModel",
      "state": {
       "_dom_classes": [],
       "_model_module": "@jupyter-widgets/controls",
       "_model_module_version": "1.5.0",
       "_model_name": "HBoxModel",
       "_view_count": null,
       "_view_module": "@jupyter-widgets/controls",
       "_view_module_version": "1.5.0",
       "_view_name": "HBoxView",
       "box_style": "",
       "children": [
        "IPY_MODEL_b9eb373a2c5347a4a42fe99287e13d0a",
        "IPY_MODEL_54a899e55be341f5a4dddde2bf096beb",
        "IPY_MODEL_98740809e3e54804957a2a8595e218fd"
       ],
       "layout": "IPY_MODEL_109b1bbc8e2f4c1098e9f345d8570f77"
      }
     },
     "c9822acddd5a40ba821426f83f7e8f00": {
      "model_module": "@jupyter-widgets/controls",
      "model_module_version": "1.5.0",
      "model_name": "DescriptionStyleModel",
      "state": {
       "_model_module": "@jupyter-widgets/controls",
       "_model_module_version": "1.5.0",
       "_model_name": "DescriptionStyleModel",
       "_view_count": null,
       "_view_module": "@jupyter-widgets/base",
       "_view_module_version": "1.2.0",
       "_view_name": "StyleView",
       "description_width": ""
      }
     },
     "cd5ee40fa2284c3f8d99e9ea8cb7d3a6": {
      "model_module": "@jupyter-widgets/controls",
      "model_module_version": "1.5.0",
      "model_name": "DescriptionStyleModel",
      "state": {
       "_model_module": "@jupyter-widgets/controls",
       "_model_module_version": "1.5.0",
       "_model_name": "DescriptionStyleModel",
       "_view_count": null,
       "_view_module": "@jupyter-widgets/base",
       "_view_module_version": "1.2.0",
       "_view_name": "StyleView",
       "description_width": ""
      }
     },
     "d5751ed7f22843898185f142f6dfd616": {
      "model_module": "@jupyter-widgets/controls",
      "model_module_version": "1.5.0",
      "model_name": "FloatProgressModel",
      "state": {
       "_dom_classes": [],
       "_model_module": "@jupyter-widgets/controls",
       "_model_module_version": "1.5.0",
       "_model_name": "FloatProgressModel",
       "_view_count": null,
       "_view_module": "@jupyter-widgets/controls",
       "_view_module_version": "1.5.0",
       "_view_name": "ProgressView",
       "bar_style": "success",
       "description": "",
       "description_tooltip": null,
       "layout": "IPY_MODEL_f7b11c4eb6224450946e7182cd9710c1",
       "max": 501045531.0,
       "min": 0.0,
       "orientation": "horizontal",
       "style": "IPY_MODEL_e49ce723946d489196955257fab858ae",
       "value": 501045531.0
      }
     },
     "d8320239a8c14a9ca69a17907cd9d3f3": {
      "model_module": "@jupyter-widgets/base",
      "model_module_version": "1.2.0",
      "model_name": "LayoutModel",
      "state": {
       "_model_module": "@jupyter-widgets/base",
       "_model_module_version": "1.2.0",
       "_model_name": "LayoutModel",
       "_view_count": null,
       "_view_module": "@jupyter-widgets/base",
       "_view_module_version": "1.2.0",
       "_view_name": "LayoutView",
       "align_content": null,
       "align_items": null,
       "align_self": null,
       "border": null,
       "bottom": null,
       "display": null,
       "flex": null,
       "flex_flow": null,
       "grid_area": null,
       "grid_auto_columns": null,
       "grid_auto_flow": null,
       "grid_auto_rows": null,
       "grid_column": null,
       "grid_gap": null,
       "grid_row": null,
       "grid_template_areas": null,
       "grid_template_columns": null,
       "grid_template_rows": null,
       "height": null,
       "justify_content": null,
       "justify_items": null,
       "left": null,
       "margin": null,
       "max_height": null,
       "max_width": null,
       "min_height": null,
       "min_width": null,
       "object_fit": null,
       "object_position": null,
       "order": null,
       "overflow": null,
       "overflow_x": null,
       "overflow_y": null,
       "padding": null,
       "right": null,
       "top": null,
       "visibility": null,
       "width": null
      }
     },
     "e1cca08a87b742568d7d213dee616fe0": {
      "model_module": "@jupyter-widgets/base",
      "model_module_version": "1.2.0",
      "model_name": "LayoutModel",
      "state": {
       "_model_module": "@jupyter-widgets/base",
       "_model_module_version": "1.2.0",
       "_model_name": "LayoutModel",
       "_view_count": null,
       "_view_module": "@jupyter-widgets/base",
       "_view_module_version": "1.2.0",
       "_view_name": "LayoutView",
       "align_content": null,
       "align_items": null,
       "align_self": null,
       "border": null,
       "bottom": null,
       "display": null,
       "flex": null,
       "flex_flow": null,
       "grid_area": null,
       "grid_auto_columns": null,
       "grid_auto_flow": null,
       "grid_auto_rows": null,
       "grid_column": null,
       "grid_gap": null,
       "grid_row": null,
       "grid_template_areas": null,
       "grid_template_columns": null,
       "grid_template_rows": null,
       "height": null,
       "justify_content": null,
       "justify_items": null,
       "left": null,
       "margin": null,
       "max_height": null,
       "max_width": null,
       "min_height": null,
       "min_width": null,
       "object_fit": null,
       "object_position": null,
       "order": null,
       "overflow": null,
       "overflow_x": null,
       "overflow_y": null,
       "padding": null,
       "right": null,
       "top": null,
       "visibility": null,
       "width": null
      }
     },
     "e355fb57743e4d49b6d7a50e3e08153a": {
      "model_module": "@jupyter-widgets/controls",
      "model_module_version": "1.5.0",
      "model_name": "HTMLModel",
      "state": {
       "_dom_classes": [],
       "_model_module": "@jupyter-widgets/controls",
       "_model_module_version": "1.5.0",
       "_model_name": "HTMLModel",
       "_view_count": null,
       "_view_module": "@jupyter-widgets/controls",
       "_view_module_version": "1.5.0",
       "_view_name": "HTMLView",
       "description": "",
       "description_tooltip": null,
       "layout": "IPY_MODEL_18e4af72e04a4de2a7cbffd20bc38e21",
       "placeholder": "​",
       "style": "IPY_MODEL_b59c9815596e4306b7a4579fd2e1652c",
       "value": " 239/239 [00:00&lt;00:00, 18.9kB/s]"
      }
     },
     "e49ce723946d489196955257fab858ae": {
      "model_module": "@jupyter-widgets/controls",
      "model_module_version": "1.5.0",
      "model_name": "ProgressStyleModel",
      "state": {
       "_model_module": "@jupyter-widgets/controls",
       "_model_module_version": "1.5.0",
       "_model_name": "ProgressStyleModel",
       "_view_count": null,
       "_view_module": "@jupyter-widgets/base",
       "_view_module_version": "1.2.0",
       "_view_name": "StyleView",
       "bar_color": null,
       "description_width": ""
      }
     },
     "e4de38b8af794083aba804cacbded969": {
      "model_module": "@jupyter-widgets/base",
      "model_module_version": "1.2.0",
      "model_name": "LayoutModel",
      "state": {
       "_model_module": "@jupyter-widgets/base",
       "_model_module_version": "1.2.0",
       "_model_name": "LayoutModel",
       "_view_count": null,
       "_view_module": "@jupyter-widgets/base",
       "_view_module_version": "1.2.0",
       "_view_name": "LayoutView",
       "align_content": null,
       "align_items": null,
       "align_self": null,
       "border": null,
       "bottom": null,
       "display": null,
       "flex": null,
       "flex_flow": null,
       "grid_area": null,
       "grid_auto_columns": null,
       "grid_auto_flow": null,
       "grid_auto_rows": null,
       "grid_column": null,
       "grid_gap": null,
       "grid_row": null,
       "grid_template_areas": null,
       "grid_template_columns": null,
       "grid_template_rows": null,
       "height": null,
       "justify_content": null,
       "justify_items": null,
       "left": null,
       "margin": null,
       "max_height": null,
       "max_width": null,
       "min_height": null,
       "min_width": null,
       "object_fit": null,
       "object_position": null,
       "order": null,
       "overflow": null,
       "overflow_x": null,
       "overflow_y": null,
       "padding": null,
       "right": null,
       "top": null,
       "visibility": null,
       "width": null
      }
     },
     "e7fd9889edf24c80be99f9efac0abfae": {
      "model_module": "@jupyter-widgets/controls",
      "model_module_version": "1.5.0",
      "model_name": "ProgressStyleModel",
      "state": {
       "_model_module": "@jupyter-widgets/controls",
       "_model_module_version": "1.5.0",
       "_model_name": "ProgressStyleModel",
       "_view_count": null,
       "_view_module": "@jupyter-widgets/base",
       "_view_module_version": "1.2.0",
       "_view_name": "StyleView",
       "bar_color": null,
       "description_width": ""
      }
     },
     "ece0242b6e4e4e36b7bae5b38e30a819": {
      "model_module": "@jupyter-widgets/controls",
      "model_module_version": "1.5.0",
      "model_name": "ProgressStyleModel",
      "state": {
       "_model_module": "@jupyter-widgets/controls",
       "_model_module_version": "1.5.0",
       "_model_name": "ProgressStyleModel",
       "_view_count": null,
       "_view_module": "@jupyter-widgets/base",
       "_view_module_version": "1.2.0",
       "_view_name": "StyleView",
       "bar_color": null,
       "description_width": ""
      }
     },
     "f7b11c4eb6224450946e7182cd9710c1": {
      "model_module": "@jupyter-widgets/base",
      "model_module_version": "1.2.0",
      "model_name": "LayoutModel",
      "state": {
       "_model_module": "@jupyter-widgets/base",
       "_model_module_version": "1.2.0",
       "_model_name": "LayoutModel",
       "_view_count": null,
       "_view_module": "@jupyter-widgets/base",
       "_view_module_version": "1.2.0",
       "_view_name": "LayoutView",
       "align_content": null,
       "align_items": null,
       "align_self": null,
       "border": null,
       "bottom": null,
       "display": null,
       "flex": null,
       "flex_flow": null,
       "grid_area": null,
       "grid_auto_columns": null,
       "grid_auto_flow": null,
       "grid_auto_rows": null,
       "grid_column": null,
       "grid_gap": null,
       "grid_row": null,
       "grid_template_areas": null,
       "grid_template_columns": null,
       "grid_template_rows": null,
       "height": null,
       "justify_content": null,
       "justify_items": null,
       "left": null,
       "margin": null,
       "max_height": null,
       "max_width": null,
       "min_height": null,
       "min_width": null,
       "object_fit": null,
       "object_position": null,
       "order": null,
       "overflow": null,
       "overflow_x": null,
       "overflow_y": null,
       "padding": null,
       "right": null,
       "top": null,
       "visibility": null,
       "width": null
      }
     },
     "f89a6bf4b9d849b98909b61514628e94": {
      "model_module": "@jupyter-widgets/controls",
      "model_module_version": "1.5.0",
      "model_name": "HTMLModel",
      "state": {
       "_dom_classes": [],
       "_model_module": "@jupyter-widgets/controls",
       "_model_module_version": "1.5.0",
       "_model_name": "HTMLModel",
       "_view_count": null,
       "_view_module": "@jupyter-widgets/controls",
       "_view_module_version": "1.5.0",
       "_view_name": "HTMLView",
       "description": "",
       "description_tooltip": null,
       "layout": "IPY_MODEL_d8320239a8c14a9ca69a17907cd9d3f3",
       "placeholder": "​",
       "style": "IPY_MODEL_be801f63704d4f539dde9d40aebf5bee",
       "value": "config.json: 100%"
      }
     },
     "fd9a530b2861431984e416c8fe30c6d2": {
      "model_module": "@jupyter-widgets/base",
      "model_module_version": "1.2.0",
      "model_name": "LayoutModel",
      "state": {
       "_model_module": "@jupyter-widgets/base",
       "_model_module_version": "1.2.0",
       "_model_name": "LayoutModel",
       "_view_count": null,
       "_view_module": "@jupyter-widgets/base",
       "_view_module_version": "1.2.0",
       "_view_name": "LayoutView",
       "align_content": null,
       "align_items": null,
       "align_self": null,
       "border": null,
       "bottom": null,
       "display": null,
       "flex": null,
       "flex_flow": null,
       "grid_area": null,
       "grid_auto_columns": null,
       "grid_auto_flow": null,
       "grid_auto_rows": null,
       "grid_column": null,
       "grid_gap": null,
       "grid_row": null,
       "grid_template_areas": null,
       "grid_template_columns": null,
       "grid_template_rows": null,
       "height": null,
       "justify_content": null,
       "justify_items": null,
       "left": null,
       "margin": null,
       "max_height": null,
       "max_width": null,
       "min_height": null,
       "min_width": null,
       "object_fit": null,
       "object_position": null,
       "order": null,
       "overflow": null,
       "overflow_x": null,
       "overflow_y": null,
       "padding": null,
       "right": null,
       "top": null,
       "visibility": null,
       "width": null
      }
     },
     "fd9d5b35ef764940a0f19352667a3b02": {
      "model_module": "@jupyter-widgets/controls",
      "model_module_version": "1.5.0",
      "model_name": "FloatProgressModel",
      "state": {
       "_dom_classes": [],
       "_model_module": "@jupyter-widgets/controls",
       "_model_module_version": "1.5.0",
       "_model_name": "FloatProgressModel",
       "_view_count": null,
       "_view_module": "@jupyter-widgets/controls",
       "_view_module_version": "1.5.0",
       "_view_name": "ProgressView",
       "bar_style": "success",
       "description": "",
       "description_tooltip": null,
       "layout": "IPY_MODEL_1147b29356eb43a993c5bca213089c2b",
       "max": 456318.0,
       "min": 0.0,
       "orientation": "horizontal",
       "style": "IPY_MODEL_ece0242b6e4e4e36b7bae5b38e30a819",
       "value": 456318.0
      }
     },
     "fedd0a1155964ab794f849f355b38aac": {
      "model_module": "@jupyter-widgets/controls",
      "model_module_version": "1.5.0",
      "model_name": "HBoxModel",
      "state": {
       "_dom_classes": [],
       "_model_module": "@jupyter-widgets/controls",
       "_model_module_version": "1.5.0",
       "_model_name": "HBoxModel",
       "_view_count": null,
       "_view_module": "@jupyter-widgets/controls",
       "_view_module_version": "1.5.0",
       "_view_name": "HBoxView",
       "box_style": "",
       "children": [
        "IPY_MODEL_61f7381f8fb24d3c867c104e368ad816",
        "IPY_MODEL_d5751ed7f22843898185f142f6dfd616",
        "IPY_MODEL_6274ab7212324a0c905fedf35ce05aed"
       ],
       "layout": "IPY_MODEL_6c598a8bba794897983f4e9dd5108a95"
      }
     }
    },
    "version_major": 2,
    "version_minor": 0
   }
  }
 },
 "nbformat": 4,
 "nbformat_minor": 5
}
