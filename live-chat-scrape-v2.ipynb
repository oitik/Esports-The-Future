{
 "cells": [
  {
   "cell_type": "code",
   "execution_count": 1,
   "id": "68caaa99",
   "metadata": {
    "_cell_guid": "b1076dfc-b9ad-4769-8c92-a6c4dae69d19",
    "_uuid": "8f2839f25d086af736a60e9eeb907d3b93b6e0e5",
    "execution": {
     "iopub.execute_input": "2024-08-12T09:06:41.631276Z",
     "iopub.status.busy": "2024-08-12T09:06:41.630846Z",
     "iopub.status.idle": "2024-08-12T09:06:42.542187Z",
     "shell.execute_reply": "2024-08-12T09:06:42.540781Z"
    },
    "papermill": {
     "duration": 0.927779,
     "end_time": "2024-08-12T09:06:42.545088",
     "exception": false,
     "start_time": "2024-08-12T09:06:41.617309",
     "status": "completed"
    },
    "tags": []
   },
   "outputs": [],
   "source": [
    "import numpy as np\n",
    "import pandas as pd\n",
    "from tqdm import tqdm"
   ]
  },
  {
   "cell_type": "code",
   "execution_count": 2,
   "id": "6cd196f1",
   "metadata": {
    "execution": {
     "iopub.execute_input": "2024-08-12T09:06:42.569461Z",
     "iopub.status.busy": "2024-08-12T09:06:42.568897Z",
     "iopub.status.idle": "2024-08-12T09:07:00.645292Z",
     "shell.execute_reply": "2024-08-12T09:07:00.643609Z"
    },
    "papermill": {
     "duration": 18.092518,
     "end_time": "2024-08-12T09:07:00.649048",
     "exception": false,
     "start_time": "2024-08-12T09:06:42.556530",
     "status": "completed"
    },
    "tags": []
   },
   "outputs": [
    {
     "name": "stdout",
     "output_type": "stream",
     "text": [
      "Collecting pytchat\r\n",
      "  Downloading pytchat-0.5.5-py3-none-any.whl.metadata (4.7 kB)\r\n",
      "Requirement already satisfied: httpx[http2] in /opt/conda/lib/python3.10/site-packages (from pytchat) (0.27.0)\r\n",
      "Requirement already satisfied: anyio in /opt/conda/lib/python3.10/site-packages (from httpx[http2]->pytchat) (4.2.0)\r\n",
      "Requirement already satisfied: certifi in /opt/conda/lib/python3.10/site-packages (from httpx[http2]->pytchat) (2024.7.4)\r\n",
      "Requirement already satisfied: httpcore==1.* in /opt/conda/lib/python3.10/site-packages (from httpx[http2]->pytchat) (1.0.5)\r\n",
      "Requirement already satisfied: idna in /opt/conda/lib/python3.10/site-packages (from httpx[http2]->pytchat) (3.6)\r\n",
      "Requirement already satisfied: sniffio in /opt/conda/lib/python3.10/site-packages (from httpx[http2]->pytchat) (1.3.0)\r\n",
      "Collecting h2<5,>=3 (from httpx[http2]->pytchat)\r\n",
      "  Downloading h2-4.1.0-py3-none-any.whl.metadata (3.6 kB)\r\n",
      "Requirement already satisfied: h11<0.15,>=0.13 in /opt/conda/lib/python3.10/site-packages (from httpcore==1.*->httpx[http2]->pytchat) (0.14.0)\r\n",
      "Collecting hyperframe<7,>=6.0 (from h2<5,>=3->httpx[http2]->pytchat)\r\n",
      "  Downloading hyperframe-6.0.1-py3-none-any.whl.metadata (2.7 kB)\r\n",
      "Collecting hpack<5,>=4.0 (from h2<5,>=3->httpx[http2]->pytchat)\r\n",
      "  Downloading hpack-4.0.0-py3-none-any.whl.metadata (2.5 kB)\r\n",
      "Requirement already satisfied: exceptiongroup>=1.0.2 in /opt/conda/lib/python3.10/site-packages (from anyio->httpx[http2]->pytchat) (1.2.0)\r\n",
      "Requirement already satisfied: typing-extensions>=4.1 in /opt/conda/lib/python3.10/site-packages (from anyio->httpx[http2]->pytchat) (4.9.0)\r\n",
      "Downloading pytchat-0.5.5-py3-none-any.whl (69 kB)\r\n",
      "\u001b[2K   \u001b[90m━━━━━━━━━━━━━━━━━━━━━━━━━━━━━━━━━━━━━━━━\u001b[0m \u001b[32m69.5/69.5 kB\u001b[0m \u001b[31m859.1 kB/s\u001b[0m eta \u001b[36m0:00:00\u001b[0m\r\n",
      "\u001b[?25hDownloading h2-4.1.0-py3-none-any.whl (57 kB)\r\n",
      "\u001b[2K   \u001b[90m━━━━━━━━━━━━━━━━━━━━━━━━━━━━━━━━━━━━━━━━\u001b[0m \u001b[32m57.5/57.5 kB\u001b[0m \u001b[31m2.0 MB/s\u001b[0m eta \u001b[36m0:00:00\u001b[0m\r\n",
      "\u001b[?25hDownloading hpack-4.0.0-py3-none-any.whl (32 kB)\r\n",
      "Downloading hyperframe-6.0.1-py3-none-any.whl (12 kB)\r\n",
      "Installing collected packages: hyperframe, hpack, h2, pytchat\r\n",
      "Successfully installed h2-4.1.0 hpack-4.0.0 hyperframe-6.0.1 pytchat-0.5.5\r\n"
     ]
    }
   ],
   "source": [
    "!pip install pytchat"
   ]
  },
  {
   "cell_type": "code",
   "execution_count": 3,
   "id": "7bc8adc6",
   "metadata": {
    "execution": {
     "iopub.execute_input": "2024-08-12T09:07:00.678087Z",
     "iopub.status.busy": "2024-08-12T09:07:00.677597Z",
     "iopub.status.idle": "2024-08-12T09:07:00.984137Z",
     "shell.execute_reply": "2024-08-12T09:07:00.982820Z"
    },
    "papermill": {
     "duration": 0.324885,
     "end_time": "2024-08-12T09:07:00.987139",
     "exception": false,
     "start_time": "2024-08-12T09:07:00.662254",
     "status": "completed"
    },
    "tags": []
   },
   "outputs": [],
   "source": [
    "import pytchat\n",
    "import time"
   ]
  },
  {
   "cell_type": "code",
   "execution_count": 4,
   "id": "1bb8ad2a",
   "metadata": {
    "execution": {
     "iopub.execute_input": "2024-08-12T09:07:01.015166Z",
     "iopub.status.busy": "2024-08-12T09:07:01.014728Z",
     "iopub.status.idle": "2024-08-12T09:07:01.028577Z",
     "shell.execute_reply": "2024-08-12T09:07:01.027370Z"
    },
    "papermill": {
     "duration": 0.031201,
     "end_time": "2024-08-12T09:07:01.031386",
     "exception": false,
     "start_time": "2024-08-12T09:07:01.000185",
     "status": "completed"
    },
    "tags": []
   },
   "outputs": [],
   "source": [
    "import time\n",
    "\n",
    "class ScraperConfig:\n",
    "    \"\"\"\n",
    "    Configuration class for a web scraper.\n",
    "\n",
    "    Attributes:\n",
    "        patience (int): Time to wait between scraping attempts in seconds (default: 10).\n",
    "        datetimes (list): List to store scraped datetimes (empty by default).\n",
    "        authors (list): List to store scraped authors (empty by default).\n",
    "        messages (list): List to store scraped messages (empty by default).\n",
    "    \"\"\"\n",
    "\n",
    "    def __init__(self, patience=10):\n",
    "        \"\"\"\n",
    "        Initializes a ScraperConfig object with the specified patience.\n",
    "\n",
    "        Args:\n",
    "            patience (int, optional): Time to wait between scraping attempts in seconds. Defaults to 10.\n",
    "        \"\"\"\n",
    "\n",
    "        self.patience = patience\n",
    "        self.datetimes = []\n",
    "        self.authors = []\n",
    "        self.messages = []\n",
    "\n",
    "\n",
    "    def scrape(self, vid):\n",
    "        \"\"\"\n",
    "        Scrapes data from the youtube comment.\n",
    "\n",
    "        This placeholder method illustrates the general structure for scraping logic.\n",
    "        The actual implementation would involve making requests, parsing responses, and\n",
    "        storing data in self.datetimes, self.authors, and self.messages.\n",
    "\n",
    "        Raises:\n",
    "            Exception: If an error occurs during scraping.\n",
    "        \"\"\"\n",
    "\n",
    "        try:\n",
    "            start_time = time.time()\n",
    "\n",
    "            chat = pytchat.create(video_id = vid)\n",
    "\n",
    "            while chat.is_alive():\n",
    "                for c in chat.get().items:\n",
    "            #         print(f\"{c.datetime} [{c.author.name}]- {c.message}\")\n",
    "                    self.datetimes.append(c.datetime)\n",
    "                    self.authors.append(c.author.name)\n",
    "                    self.messages.append(c.message)\n",
    "\n",
    "                # Emergency Break\n",
    "#                 if time.time() - start_time >= self.patience:\n",
    "#                     break \n",
    "                    \n",
    "        except Exception as e:\n",
    "            print(f\"Error during scraping: {e}\")\n",
    "            raise  # Re-raise the exception for potential handling outside the class\n",
    "            \n",
    "    def make_df(self):\n",
    "        '''\n",
    "        Make a df\n",
    "        '''\n",
    "        data = {\n",
    "            'datetime': self.datetimes,\n",
    "            'author': self.authors,\n",
    "            'message': self.messages,\n",
    "        }\n",
    "\n",
    "        df = pd.DataFrame(data)\n",
    "#         print(f'Length if this dataframe is {len(df)}')\n",
    "        return df"
   ]
  },
  {
   "cell_type": "code",
   "execution_count": 5,
   "id": "d61db204",
   "metadata": {
    "execution": {
     "iopub.execute_input": "2024-08-12T09:07:01.060094Z",
     "iopub.status.busy": "2024-08-12T09:07:01.059646Z",
     "iopub.status.idle": "2024-08-12T09:07:01.068813Z",
     "shell.execute_reply": "2024-08-12T09:07:01.067643Z"
    },
    "papermill": {
     "duration": 0.026349,
     "end_time": "2024-08-12T09:07:01.071585",
     "exception": false,
     "start_time": "2024-08-12T09:07:01.045236",
     "status": "completed"
    },
    "tags": []
   },
   "outputs": [
    {
     "data": {
      "text/plain": [
       "([], 10)"
      ]
     },
     "execution_count": 5,
     "metadata": {},
     "output_type": "execute_result"
    }
   ],
   "source": [
    "configs = ScraperConfig(patience=10) \n",
    "configs.datetimes, configs.patience"
   ]
  },
  {
   "cell_type": "code",
   "execution_count": 6,
   "id": "02544426",
   "metadata": {
    "execution": {
     "iopub.execute_input": "2024-08-12T09:07:01.101367Z",
     "iopub.status.busy": "2024-08-12T09:07:01.100901Z",
     "iopub.status.idle": "2024-08-12T09:07:23.771053Z",
     "shell.execute_reply": "2024-08-12T09:07:23.769831Z"
    },
    "papermill": {
     "duration": 22.688767,
     "end_time": "2024-08-12T09:07:23.773767",
     "exception": false,
     "start_time": "2024-08-12T09:07:01.085000",
     "status": "completed"
    },
    "tags": []
   },
   "outputs": [
    {
     "data": {
      "text/html": [
       "<div>\n",
       "<style scoped>\n",
       "    .dataframe tbody tr th:only-of-type {\n",
       "        vertical-align: middle;\n",
       "    }\n",
       "\n",
       "    .dataframe tbody tr th {\n",
       "        vertical-align: top;\n",
       "    }\n",
       "\n",
       "    .dataframe thead th {\n",
       "        text-align: right;\n",
       "    }\n",
       "</style>\n",
       "<table border=\"1\" class=\"dataframe\">\n",
       "  <thead>\n",
       "    <tr style=\"text-align: right;\">\n",
       "      <th></th>\n",
       "      <th>datetime</th>\n",
       "      <th>author</th>\n",
       "      <th>message</th>\n",
       "    </tr>\n",
       "  </thead>\n",
       "  <tbody>\n",
       "    <tr>\n",
       "      <th>0</th>\n",
       "      <td>2024-06-30 04:55:16</td>\n",
       "      <td>ZAIN GAMING</td>\n",
       "      <td>iqoo Soule :rocket: :trophy:</td>\n",
       "    </tr>\n",
       "    <tr>\n",
       "      <th>1</th>\n",
       "      <td>2024-06-30 05:17:31</td>\n",
       "      <td>sangram</td>\n",
       "      <td>kya robbed bhai btayega</td>\n",
       "    </tr>\n",
       "    <tr>\n",
       "      <th>2</th>\n",
       "      <td>2024-06-30 05:28:58</td>\n",
       "      <td>Elamparthi</td>\n",
       "      <td>jokers :face_with_rolling_eyes:</td>\n",
       "    </tr>\n",
       "    <tr>\n",
       "      <th>3</th>\n",
       "      <td>2024-06-30 05:40:00</td>\n",
       "      <td>DARINDA GAMER</td>\n",
       "      <td>ajj Mera team jitega :upside_down_face::smilin...</td>\n",
       "    </tr>\n",
       "    <tr>\n",
       "      <th>4</th>\n",
       "      <td>2024-06-30 05:50:19</td>\n",
       "      <td>ƤŁΔ¥ βØ¥</td>\n",
       "      <td>this is Tamil chat :rolling_on_the_floor_laugh...</td>\n",
       "    </tr>\n",
       "  </tbody>\n",
       "</table>\n",
       "</div>"
      ],
      "text/plain": [
       "              datetime         author  \\\n",
       "0  2024-06-30 04:55:16    ZAIN GAMING   \n",
       "1  2024-06-30 05:17:31       sangram    \n",
       "2  2024-06-30 05:28:58    Elamparthi    \n",
       "3  2024-06-30 05:40:00  DARINDA GAMER   \n",
       "4  2024-06-30 05:50:19       ƤŁΔ¥ βØ¥   \n",
       "\n",
       "                                             message  \n",
       "0                       iqoo Soule :rocket: :trophy:  \n",
       "1                            kya robbed bhai btayega  \n",
       "2                    jokers :face_with_rolling_eyes:  \n",
       "3  ajj Mera team jitega :upside_down_face::smilin...  \n",
       "4  this is Tamil chat :rolling_on_the_floor_laugh...  "
      ]
     },
     "execution_count": 6,
     "metadata": {},
     "output_type": "execute_result"
    }
   ],
   "source": [
    "configs.scrape(vid='4RZcdw-w2J0')\n",
    "df = configs.make_df()\n",
    "df.head()"
   ]
  },
  {
   "cell_type": "code",
   "execution_count": 7,
   "id": "8a195cf6",
   "metadata": {
    "execution": {
     "iopub.execute_input": "2024-08-12T09:07:23.802645Z",
     "iopub.status.busy": "2024-08-12T09:07:23.802192Z",
     "iopub.status.idle": "2024-08-12T09:07:23.807004Z",
     "shell.execute_reply": "2024-08-12T09:07:23.805943Z"
    },
    "papermill": {
     "duration": 0.02196,
     "end_time": "2024-08-12T09:07:23.809467",
     "exception": false,
     "start_time": "2024-08-12T09:07:23.787507",
     "status": "completed"
    },
    "tags": []
   },
   "outputs": [],
   "source": [
    "# x = 10\n",
    "# df[x:x+10]"
   ]
  },
  {
   "cell_type": "code",
   "execution_count": 8,
   "id": "53db9bc3",
   "metadata": {
    "execution": {
     "iopub.execute_input": "2024-08-12T09:07:23.839024Z",
     "iopub.status.busy": "2024-08-12T09:07:23.837710Z",
     "iopub.status.idle": "2024-08-12T09:07:23.849950Z",
     "shell.execute_reply": "2024-08-12T09:07:23.848968Z"
    },
    "papermill": {
     "duration": 0.029709,
     "end_time": "2024-08-12T09:07:23.852561",
     "exception": false,
     "start_time": "2024-08-12T09:07:23.822852",
     "status": "completed"
    },
    "tags": []
   },
   "outputs": [
    {
     "data": {
      "text/html": [
       "<div>\n",
       "<style scoped>\n",
       "    .dataframe tbody tr th:only-of-type {\n",
       "        vertical-align: middle;\n",
       "    }\n",
       "\n",
       "    .dataframe tbody tr th {\n",
       "        vertical-align: top;\n",
       "    }\n",
       "\n",
       "    .dataframe thead th {\n",
       "        text-align: right;\n",
       "    }\n",
       "</style>\n",
       "<table border=\"1\" class=\"dataframe\">\n",
       "  <thead>\n",
       "    <tr style=\"text-align: right;\">\n",
       "      <th></th>\n",
       "      <th>datetime</th>\n",
       "      <th>author</th>\n",
       "      <th>message</th>\n",
       "    </tr>\n",
       "  </thead>\n",
       "  <tbody>\n",
       "    <tr>\n",
       "      <th>9316</th>\n",
       "      <td>2024-06-30 13:55:54</td>\n",
       "      <td>Eren Giri</td>\n",
       "      <td>do you know top 10 team positions?</td>\n",
       "    </tr>\n",
       "    <tr>\n",
       "      <th>9317</th>\n",
       "      <td>2024-06-30 13:58:25</td>\n",
       "      <td>Redsign DEMI</td>\n",
       "      <td>Tl behind 4th position by 1 point</td>\n",
       "    </tr>\n",
       "    <tr>\n",
       "      <th>9318</th>\n",
       "      <td>2024-06-30 13:59:03</td>\n",
       "      <td>MOXLEY</td>\n",
       "      <td>3:crown: TAMIL TEAMS IN TOP10:red_heart::fire:</td>\n",
       "    </tr>\n",
       "    <tr>\n",
       "      <th>9319</th>\n",
       "      <td>2024-06-30 14:10:30</td>\n",
       "      <td>Nirmal</td>\n",
       "      <td>TT jokers.. from #2</td>\n",
       "    </tr>\n",
       "    <tr>\n",
       "      <th>9320</th>\n",
       "      <td>2024-06-30 14:13:03</td>\n",
       "      <td>Vivek Thangarasu</td>\n",
       "      <td>TT wins 8 lakhs money</td>\n",
       "    </tr>\n",
       "  </tbody>\n",
       "</table>\n",
       "</div>"
      ],
      "text/plain": [
       "                 datetime            author  \\\n",
       "9316  2024-06-30 13:55:54         Eren Giri   \n",
       "9317  2024-06-30 13:58:25      Redsign DEMI   \n",
       "9318  2024-06-30 13:59:03           MOXLEY    \n",
       "9319  2024-06-30 14:10:30            Nirmal   \n",
       "9320  2024-06-30 14:13:03  Vivek Thangarasu   \n",
       "\n",
       "                                             message  \n",
       "9316              do you know top 10 team positions?  \n",
       "9317               Tl behind 4th position by 1 point  \n",
       "9318  3:crown: TAMIL TEAMS IN TOP10:red_heart::fire:  \n",
       "9319                             TT jokers.. from #2  \n",
       "9320                           TT wins 8 lakhs money  "
      ]
     },
     "execution_count": 8,
     "metadata": {},
     "output_type": "execute_result"
    }
   ],
   "source": [
    "df.tail()"
   ]
  },
  {
   "cell_type": "code",
   "execution_count": 9,
   "id": "03d0afb1",
   "metadata": {
    "execution": {
     "iopub.execute_input": "2024-08-12T09:07:23.881794Z",
     "iopub.status.busy": "2024-08-12T09:07:23.881368Z",
     "iopub.status.idle": "2024-08-12T09:07:23.888855Z",
     "shell.execute_reply": "2024-08-12T09:07:23.887680Z"
    },
    "papermill": {
     "duration": 0.025117,
     "end_time": "2024-08-12T09:07:23.891342",
     "exception": false,
     "start_time": "2024-08-12T09:07:23.866225",
     "status": "completed"
    },
    "tags": []
   },
   "outputs": [
    {
     "data": {
      "text/plain": [
       "(9321, 3)"
      ]
     },
     "execution_count": 9,
     "metadata": {},
     "output_type": "execute_result"
    }
   ],
   "source": [
    "df.shape"
   ]
  },
  {
   "cell_type": "markdown",
   "id": "6cf20176",
   "metadata": {
    "papermill": {
     "duration": 0.013487,
     "end_time": "2024-08-12T09:07:23.919101",
     "exception": false,
     "start_time": "2024-08-12T09:07:23.905614",
     "status": "completed"
    },
    "tags": []
   },
   "source": [
    "## Start with Bangladesh"
   ]
  },
  {
   "cell_type": "code",
   "execution_count": 10,
   "id": "198a9757",
   "metadata": {
    "execution": {
     "iopub.execute_input": "2024-08-12T09:07:23.949442Z",
     "iopub.status.busy": "2024-08-12T09:07:23.949043Z",
     "iopub.status.idle": "2024-08-12T09:07:23.998007Z",
     "shell.execute_reply": "2024-08-12T09:07:23.996497Z"
    },
    "papermill": {
     "duration": 0.067925,
     "end_time": "2024-08-12T09:07:24.000953",
     "exception": false,
     "start_time": "2024-08-12T09:07:23.933028",
     "status": "completed"
    },
    "tags": []
   },
   "outputs": [
    {
     "name": "stdout",
     "output_type": "stream",
     "text": [
      "length of the dataframe is 165\n"
     ]
    },
    {
     "data": {
      "text/html": [
       "<div>\n",
       "<style scoped>\n",
       "    .dataframe tbody tr th:only-of-type {\n",
       "        vertical-align: middle;\n",
       "    }\n",
       "\n",
       "    .dataframe tbody tr th {\n",
       "        vertical-align: top;\n",
       "    }\n",
       "\n",
       "    .dataframe thead th {\n",
       "        text-align: right;\n",
       "    }\n",
       "</style>\n",
       "<table border=\"1\" class=\"dataframe\">\n",
       "  <thead>\n",
       "    <tr style=\"text-align: right;\">\n",
       "      <th></th>\n",
       "      <th>video_id</th>\n",
       "      <th>title</th>\n",
       "      <th>view_count</th>\n",
       "      <th>like_count</th>\n",
       "      <th>comment_count</th>\n",
       "      <th>duration</th>\n",
       "      <th>duration_min</th>\n",
       "      <th>date</th>\n",
       "      <th>time</th>\n",
       "    </tr>\n",
       "  </thead>\n",
       "  <tbody>\n",
       "    <tr>\n",
       "      <th>0</th>\n",
       "      <td>U6x1sf3qHSM</td>\n",
       "      <td>Hero Xtreme 125R x BGMI Finishes Challenge - L...</td>\n",
       "      <td>31904</td>\n",
       "      <td>2120</td>\n",
       "      <td>33</td>\n",
       "      <td>PT2H46M51S</td>\n",
       "      <td>166.850000</td>\n",
       "      <td>2024-04-28</td>\n",
       "      <td>23:37:54</td>\n",
       "    </tr>\n",
       "    <tr>\n",
       "      <th>1</th>\n",
       "      <td>lGNf7OSvD0g</td>\n",
       "      <td>Holi Face Off | The Finale</td>\n",
       "      <td>338567</td>\n",
       "      <td>15132</td>\n",
       "      <td>92</td>\n",
       "      <td>PT3H48M9S</td>\n",
       "      <td>228.150000</td>\n",
       "      <td>2024-03-24</td>\n",
       "      <td>14:18:20</td>\n",
       "    </tr>\n",
       "    <tr>\n",
       "      <th>2</th>\n",
       "      <td>VDzTpp8_ukQ</td>\n",
       "      <td>Holi Face Off in Payload Mode  | Day 1</td>\n",
       "      <td>942938</td>\n",
       "      <td>44506</td>\n",
       "      <td>205</td>\n",
       "      <td>PT4H49M41S</td>\n",
       "      <td>289.683333</td>\n",
       "      <td>2024-03-23</td>\n",
       "      <td>15:22:53</td>\n",
       "    </tr>\n",
       "    <tr>\n",
       "      <th>3</th>\n",
       "      <td>rzEIIAcprxM</td>\n",
       "      <td>[EN] BGIS 2023: Grand Finals | Day 3</td>\n",
       "      <td>149184</td>\n",
       "      <td>7026</td>\n",
       "      <td>27</td>\n",
       "      <td>PT7H22S</td>\n",
       "      <td>420.366667</td>\n",
       "      <td>2023-10-15</td>\n",
       "      <td>14:05:57</td>\n",
       "    </tr>\n",
       "    <tr>\n",
       "      <th>4</th>\n",
       "      <td>iPAxjG7Fdl0</td>\n",
       "      <td>[HINDI] BGIS 2023: Grand Finals | Day 3</td>\n",
       "      <td>1563816</td>\n",
       "      <td>81114</td>\n",
       "      <td>192</td>\n",
       "      <td>PT7H7S</td>\n",
       "      <td>420.116667</td>\n",
       "      <td>2023-10-15</td>\n",
       "      <td>14:13:04</td>\n",
       "    </tr>\n",
       "  </tbody>\n",
       "</table>\n",
       "</div>"
      ],
      "text/plain": [
       "      video_id                                              title  view_count  \\\n",
       "0  U6x1sf3qHSM  Hero Xtreme 125R x BGMI Finishes Challenge - L...       31904   \n",
       "1  lGNf7OSvD0g                         Holi Face Off | The Finale      338567   \n",
       "2  VDzTpp8_ukQ             Holi Face Off in Payload Mode  | Day 1      942938   \n",
       "3  rzEIIAcprxM               [EN] BGIS 2023: Grand Finals | Day 3      149184   \n",
       "4  iPAxjG7Fdl0            [HINDI] BGIS 2023: Grand Finals | Day 3     1563816   \n",
       "\n",
       "   like_count  comment_count    duration  duration_min        date      time  \n",
       "0        2120             33  PT2H46M51S    166.850000  2024-04-28  23:37:54  \n",
       "1       15132             92   PT3H48M9S    228.150000  2024-03-24  14:18:20  \n",
       "2       44506            205  PT4H49M41S    289.683333  2024-03-23  15:22:53  \n",
       "3        7026             27     PT7H22S    420.366667  2023-10-15  14:05:57  \n",
       "4       81114            192      PT7H7S    420.116667  2023-10-15  14:13:04  "
      ]
     },
     "execution_count": 10,
     "metadata": {},
     "output_type": "execute_result"
    }
   ],
   "source": [
    "bd_vinfo = pd.read_csv('/kaggle/input/esports-data/video_information/indiav2_video_info.csv')\n",
    "\n",
    "print(f'length of the dataframe is {len(bd_vinfo)}')\n",
    "\n",
    "bd_vinfo.head(5)"
   ]
  },
  {
   "cell_type": "markdown",
   "id": "3178dacb",
   "metadata": {
    "papermill": {
     "duration": 0.014396,
     "end_time": "2024-08-12T09:07:24.030190",
     "exception": false,
     "start_time": "2024-08-12T09:07:24.015794",
     "status": "completed"
    },
    "tags": []
   },
   "source": [
    "## patience variable can be ignored it is used to terminate the scraping under a time threshold for experimenting."
   ]
  },
  {
   "cell_type": "code",
   "execution_count": 11,
   "id": "a2302013",
   "metadata": {
    "execution": {
     "iopub.execute_input": "2024-08-12T09:07:24.060453Z",
     "iopub.status.busy": "2024-08-12T09:07:24.059995Z",
     "iopub.status.idle": "2024-08-12T09:07:24.069873Z",
     "shell.execute_reply": "2024-08-12T09:07:24.068529Z"
    },
    "papermill": {
     "duration": 0.0286,
     "end_time": "2024-08-12T09:07:24.073053",
     "exception": false,
     "start_time": "2024-08-12T09:07:24.044453",
     "status": "completed"
    },
    "tags": []
   },
   "outputs": [
    {
     "name": "stdout",
     "output_type": "stream",
     "text": [
      "165\n"
     ]
    },
    {
     "data": {
      "text/plain": [
       "14400"
      ]
     },
     "execution_count": 11,
     "metadata": {},
     "output_type": "execute_result"
    }
   ],
   "source": [
    "# demo_list = ['Vruf1fDg4WA', 'xUSlfWh7Pak', '7FjuKffwKrs']\n",
    "sconfigs = []\n",
    "for i in range(len(bd_vinfo)):\n",
    "    sconfigs.append(ScraperConfig(patience=4*3600))\n",
    "\n",
    "print(len(sconfigs))\n",
    "sconfigs[1].patience"
   ]
  },
  {
   "cell_type": "code",
   "execution_count": 12,
   "id": "125c9568",
   "metadata": {
    "execution": {
     "iopub.execute_input": "2024-08-12T09:07:24.104427Z",
     "iopub.status.busy": "2024-08-12T09:07:24.104015Z",
     "iopub.status.idle": "2024-08-12T09:07:24.112244Z",
     "shell.execute_reply": "2024-08-12T09:07:24.110946Z"
    },
    "papermill": {
     "duration": 0.027439,
     "end_time": "2024-08-12T09:07:24.115408",
     "exception": false,
     "start_time": "2024-08-12T09:07:24.087969",
     "status": "completed"
    },
    "tags": []
   },
   "outputs": [
    {
     "data": {
      "text/plain": [
       "['U6x1sf3qHSM', 'lGNf7OSvD0g', 'VDzTpp8_ukQ', 'rzEIIAcprxM']"
      ]
     },
     "execution_count": 12,
     "metadata": {},
     "output_type": "execute_result"
    }
   ],
   "source": [
    "video_ids = list(bd_vinfo['video_id'])\n",
    "video_ids[:4]"
   ]
  },
  {
   "cell_type": "code",
   "execution_count": 13,
   "id": "a8eb36a5",
   "metadata": {
    "execution": {
     "iopub.execute_input": "2024-08-12T09:07:24.147227Z",
     "iopub.status.busy": "2024-08-12T09:07:24.146824Z",
     "iopub.status.idle": "2024-08-12T16:45:28.981094Z",
     "shell.execute_reply": "2024-08-12T16:45:28.979869Z"
    },
    "papermill": {
     "duration": 27484.886062,
     "end_time": "2024-08-12T16:45:29.016156",
     "exception": false,
     "start_time": "2024-08-12T09:07:24.130094",
     "status": "completed"
    },
    "tags": []
   },
   "outputs": [
    {
     "name": "stdout",
     "output_type": "stream",
     "text": [
      "Empty DataFrame\n",
      "Columns: [datetime, author, message, video_id]\n",
      "Index: []\n"
     ]
    },
    {
     "name": "stderr",
     "output_type": "stream",
     "text": [
      "100%|██████████| 165/165 [7:38:04<00:00, 166.57s/it]\n"
     ]
    }
   ],
   "source": [
    "## keep an array to track the data frame length of each iteration\n",
    "\n",
    "track = []\n",
    "\n",
    "\n",
    "## DEclare class object for each video id\n",
    "sconfigs = []\n",
    "for i in range(len(bd_vinfo)):\n",
    "    sconfigs.append(ScraperConfig(patience=4*3600))\n",
    "\n",
    "\n",
    "# main df\n",
    "columns = ['datetime', 'author', 'message', 'video_id']\n",
    "main_df = pd.DataFrame(columns=columns)\n",
    "print(main_df)\n",
    "\n",
    "total_iterations = len(bd_vinfo['video_id'])\n",
    "\n",
    "for index, vid in tqdm(enumerate(video_ids), total=total_iterations):\n",
    "#     print(vid)\n",
    "    sconfigs[index].scrape(vid=vid)\n",
    "    temp_df = sconfigs[index].make_df()\n",
    "    temp_df['video_id'] = vid\n",
    "    track.append(len(temp_df))\n",
    "    main_df = pd.concat([main_df, temp_df], ignore_index=True) "
   ]
  },
  {
   "cell_type": "code",
   "execution_count": 14,
   "id": "3053258e",
   "metadata": {
    "execution": {
     "iopub.execute_input": "2024-08-12T16:45:29.079315Z",
     "iopub.status.busy": "2024-08-12T16:45:29.078886Z",
     "iopub.status.idle": "2024-08-12T16:45:29.087224Z",
     "shell.execute_reply": "2024-08-12T16:45:29.085934Z"
    },
    "papermill": {
     "duration": 0.042985,
     "end_time": "2024-08-12T16:45:29.089992",
     "exception": false,
     "start_time": "2024-08-12T16:45:29.047007",
     "status": "completed"
    },
    "tags": []
   },
   "outputs": [
    {
     "name": "stdout",
     "output_type": "stream",
     "text": [
      "[610, 17195, 42368, 5948]\n"
     ]
    },
    {
     "data": {
      "text/plain": [
       "(4681718, 4)"
      ]
     },
     "execution_count": 14,
     "metadata": {},
     "output_type": "execute_result"
    }
   ],
   "source": [
    "print(track[:4])\n",
    "main_df.shape"
   ]
  },
  {
   "cell_type": "code",
   "execution_count": 15,
   "id": "3c94e098",
   "metadata": {
    "execution": {
     "iopub.execute_input": "2024-08-12T16:45:29.153131Z",
     "iopub.status.busy": "2024-08-12T16:45:29.152719Z",
     "iopub.status.idle": "2024-08-12T16:45:29.160767Z",
     "shell.execute_reply": "2024-08-12T16:45:29.159572Z"
    },
    "papermill": {
     "duration": 0.043275,
     "end_time": "2024-08-12T16:45:29.163890",
     "exception": false,
     "start_time": "2024-08-12T16:45:29.120615",
     "status": "completed"
    },
    "tags": []
   },
   "outputs": [
    {
     "name": "stdout",
     "output_type": "stream",
     "text": [
      "[610, 17195, 42368, 5948]\n"
     ]
    },
    {
     "data": {
      "text/plain": [
       "(4681718, 4)"
      ]
     },
     "execution_count": 15,
     "metadata": {},
     "output_type": "execute_result"
    }
   ],
   "source": [
    "print(track[:4])\n",
    "main_df.shape"
   ]
  },
  {
   "cell_type": "code",
   "execution_count": 16,
   "id": "1ec5ee33",
   "metadata": {
    "execution": {
     "iopub.execute_input": "2024-08-12T16:45:29.229221Z",
     "iopub.status.busy": "2024-08-12T16:45:29.228296Z",
     "iopub.status.idle": "2024-08-12T16:45:29.241186Z",
     "shell.execute_reply": "2024-08-12T16:45:29.239961Z"
    },
    "papermill": {
     "duration": 0.048189,
     "end_time": "2024-08-12T16:45:29.243848",
     "exception": false,
     "start_time": "2024-08-12T16:45:29.195659",
     "status": "completed"
    },
    "tags": []
   },
   "outputs": [
    {
     "data": {
      "text/html": [
       "<div>\n",
       "<style scoped>\n",
       "    .dataframe tbody tr th:only-of-type {\n",
       "        vertical-align: middle;\n",
       "    }\n",
       "\n",
       "    .dataframe tbody tr th {\n",
       "        vertical-align: top;\n",
       "    }\n",
       "\n",
       "    .dataframe thead th {\n",
       "        text-align: right;\n",
       "    }\n",
       "</style>\n",
       "<table border=\"1\" class=\"dataframe\">\n",
       "  <thead>\n",
       "    <tr style=\"text-align: right;\">\n",
       "      <th></th>\n",
       "      <th>datetime</th>\n",
       "      <th>author</th>\n",
       "      <th>message</th>\n",
       "      <th>video_id</th>\n",
       "    </tr>\n",
       "  </thead>\n",
       "  <tbody>\n",
       "    <tr>\n",
       "      <th>0</th>\n",
       "      <td>2024-04-28 14:38:32</td>\n",
       "      <td>Sudha verma</td>\n",
       "      <td>lolzzzzzzzzzz,zz zozpzpoppo</td>\n",
       "      <td>U6x1sf3qHSM</td>\n",
       "    </tr>\n",
       "    <tr>\n",
       "      <th>1</th>\n",
       "      <td>2024-04-28 14:41:50</td>\n",
       "      <td>RRxGAMING</td>\n",
       "      <td>oppp</td>\n",
       "      <td>U6x1sf3qHSM</td>\n",
       "    </tr>\n",
       "    <tr>\n",
       "      <th>2</th>\n",
       "      <td>2024-04-28 14:41:52</td>\n",
       "      <td>LalOGGYa</td>\n",
       "      <td>hahajajjwjwkiw</td>\n",
       "      <td>U6x1sf3qHSM</td>\n",
       "    </tr>\n",
       "  </tbody>\n",
       "</table>\n",
       "</div>"
      ],
      "text/plain": [
       "              datetime       author                      message     video_id\n",
       "0  2024-04-28 14:38:32  Sudha verma  lolzzzzzzzzzz,zz zozpzpoppo  U6x1sf3qHSM\n",
       "1  2024-04-28 14:41:50   RRxGAMING                          oppp  U6x1sf3qHSM\n",
       "2  2024-04-28 14:41:52     LalOGGYa               hahajajjwjwkiw  U6x1sf3qHSM"
      ]
     },
     "execution_count": 16,
     "metadata": {},
     "output_type": "execute_result"
    }
   ],
   "source": [
    "main_df.head(3)"
   ]
  },
  {
   "cell_type": "code",
   "execution_count": 17,
   "id": "af91aa84",
   "metadata": {
    "execution": {
     "iopub.execute_input": "2024-08-12T16:45:29.308550Z",
     "iopub.status.busy": "2024-08-12T16:45:29.307523Z",
     "iopub.status.idle": "2024-08-12T16:45:29.315016Z",
     "shell.execute_reply": "2024-08-12T16:45:29.313921Z"
    },
    "papermill": {
     "duration": 0.042592,
     "end_time": "2024-08-12T16:45:29.317679",
     "exception": false,
     "start_time": "2024-08-12T16:45:29.275087",
     "status": "completed"
    },
    "tags": []
   },
   "outputs": [
    {
     "data": {
      "text/plain": [
       "(4681718, 4)"
      ]
     },
     "execution_count": 17,
     "metadata": {},
     "output_type": "execute_result"
    }
   ],
   "source": [
    "# main_df.drop_duplicates(inplace=True)\n",
    "main_df.shape"
   ]
  },
  {
   "cell_type": "code",
   "execution_count": 18,
   "id": "c99ecff2",
   "metadata": {
    "execution": {
     "iopub.execute_input": "2024-08-12T16:45:29.383337Z",
     "iopub.status.busy": "2024-08-12T16:45:29.382498Z",
     "iopub.status.idle": "2024-08-12T16:45:31.789562Z",
     "shell.execute_reply": "2024-08-12T16:45:31.788262Z"
    },
    "papermill": {
     "duration": 2.442965,
     "end_time": "2024-08-12T16:45:31.792295",
     "exception": false,
     "start_time": "2024-08-12T16:45:29.349330",
     "status": "completed"
    },
    "tags": []
   },
   "outputs": [
    {
     "data": {
      "text/plain": [
       "datetime    0\n",
       "author      0\n",
       "message     0\n",
       "video_id    0\n",
       "dtype: int64"
      ]
     },
     "execution_count": 18,
     "metadata": {},
     "output_type": "execute_result"
    }
   ],
   "source": [
    "main_df.isna().sum()"
   ]
  },
  {
   "cell_type": "markdown",
   "id": "95a3a472",
   "metadata": {
    "papermill": {
     "duration": 0.031159,
     "end_time": "2024-08-12T16:45:31.855430",
     "exception": false,
     "start_time": "2024-08-12T16:45:31.824271",
     "status": "completed"
    },
    "tags": []
   },
   "source": [
    "## save the df"
   ]
  },
  {
   "cell_type": "code",
   "execution_count": 19,
   "id": "679f8540",
   "metadata": {
    "execution": {
     "iopub.execute_input": "2024-08-12T16:45:31.920558Z",
     "iopub.status.busy": "2024-08-12T16:45:31.920142Z",
     "iopub.status.idle": "2024-08-12T16:45:41.400570Z",
     "shell.execute_reply": "2024-08-12T16:45:41.399250Z"
    },
    "papermill": {
     "duration": 9.515985,
     "end_time": "2024-08-12T16:45:41.403332",
     "exception": false,
     "start_time": "2024-08-12T16:45:31.887347",
     "status": "completed"
    },
    "tags": []
   },
   "outputs": [
    {
     "data": {
      "text/html": [
       "<div>\n",
       "<style scoped>\n",
       "    .dataframe tbody tr th:only-of-type {\n",
       "        vertical-align: middle;\n",
       "    }\n",
       "\n",
       "    .dataframe tbody tr th {\n",
       "        vertical-align: top;\n",
       "    }\n",
       "\n",
       "    .dataframe thead th {\n",
       "        text-align: right;\n",
       "    }\n",
       "</style>\n",
       "<table border=\"1\" class=\"dataframe\">\n",
       "  <thead>\n",
       "    <tr style=\"text-align: right;\">\n",
       "      <th></th>\n",
       "      <th>datetime</th>\n",
       "      <th>author</th>\n",
       "      <th>message</th>\n",
       "      <th>video_id</th>\n",
       "    </tr>\n",
       "  </thead>\n",
       "  <tbody>\n",
       "    <tr>\n",
       "      <th>0</th>\n",
       "      <td>2024-04-28 14:38:32</td>\n",
       "      <td>Sudha verma</td>\n",
       "      <td>lolzzzzzzzzzz,zz zozpzpoppo</td>\n",
       "      <td>U6x1sf3qHSM</td>\n",
       "    </tr>\n",
       "    <tr>\n",
       "      <th>1</th>\n",
       "      <td>2024-04-28 14:41:50</td>\n",
       "      <td>RRxGAMING</td>\n",
       "      <td>oppp</td>\n",
       "      <td>U6x1sf3qHSM</td>\n",
       "    </tr>\n",
       "    <tr>\n",
       "      <th>2</th>\n",
       "      <td>2024-04-28 14:41:52</td>\n",
       "      <td>LalOGGYa</td>\n",
       "      <td>hahajajjwjwkiw</td>\n",
       "      <td>U6x1sf3qHSM</td>\n",
       "    </tr>\n",
       "    <tr>\n",
       "      <th>3</th>\n",
       "      <td>2024-04-28 14:41:53</td>\n",
       "      <td>jorthan gaming</td>\n",
       "      <td>waaaammmmmmu</td>\n",
       "      <td>U6x1sf3qHSM</td>\n",
       "    </tr>\n",
       "  </tbody>\n",
       "</table>\n",
       "</div>"
      ],
      "text/plain": [
       "              datetime          author                      message  \\\n",
       "0  2024-04-28 14:38:32     Sudha verma  lolzzzzzzzzzz,zz zozpzpoppo   \n",
       "1  2024-04-28 14:41:50      RRxGAMING                          oppp   \n",
       "2  2024-04-28 14:41:52        LalOGGYa               hahajajjwjwkiw   \n",
       "3  2024-04-28 14:41:53  jorthan gaming                 waaaammmmmmu   \n",
       "\n",
       "      video_id  \n",
       "0  U6x1sf3qHSM  \n",
       "1  U6x1sf3qHSM  \n",
       "2  U6x1sf3qHSM  \n",
       "3  U6x1sf3qHSM  "
      ]
     },
     "execution_count": 19,
     "metadata": {},
     "output_type": "execute_result"
    }
   ],
   "source": [
    "main_df.to_parquet('indiav2_livechat_data.parquet', index=False)\n",
    "\n",
    "df = pd.read_parquet('/kaggle/working/indiav2_livechat_data.parquet')\n",
    "df.head(4)"
   ]
  },
  {
   "cell_type": "code",
   "execution_count": 20,
   "id": "d92eb55a",
   "metadata": {
    "execution": {
     "iopub.execute_input": "2024-08-12T16:45:41.476857Z",
     "iopub.status.busy": "2024-08-12T16:45:41.476279Z",
     "iopub.status.idle": "2024-08-12T16:45:41.484327Z",
     "shell.execute_reply": "2024-08-12T16:45:41.483089Z"
    },
    "papermill": {
     "duration": 0.051386,
     "end_time": "2024-08-12T16:45:41.486789",
     "exception": false,
     "start_time": "2024-08-12T16:45:41.435403",
     "status": "completed"
    },
    "tags": []
   },
   "outputs": [
    {
     "data": {
      "text/plain": [
       "(4681718, 4)"
      ]
     },
     "execution_count": 20,
     "metadata": {},
     "output_type": "execute_result"
    }
   ],
   "source": [
    "df.shape"
   ]
  },
  {
   "cell_type": "markdown",
   "id": "c3f3f440",
   "metadata": {
    "papermill": {
     "duration": 0.031474,
     "end_time": "2024-08-12T16:45:41.550990",
     "exception": false,
     "start_time": "2024-08-12T16:45:41.519516",
     "status": "completed"
    },
    "tags": []
   },
   "source": [
    "### Check for `null values`"
   ]
  },
  {
   "cell_type": "code",
   "execution_count": 21,
   "id": "f9f0cbe0",
   "metadata": {
    "execution": {
     "iopub.execute_input": "2024-08-12T16:45:41.617884Z",
     "iopub.status.busy": "2024-08-12T16:45:41.617424Z",
     "iopub.status.idle": "2024-08-12T16:45:43.748433Z",
     "shell.execute_reply": "2024-08-12T16:45:43.747081Z"
    },
    "papermill": {
     "duration": 2.166961,
     "end_time": "2024-08-12T16:45:43.751333",
     "exception": false,
     "start_time": "2024-08-12T16:45:41.584372",
     "status": "completed"
    },
    "tags": []
   },
   "outputs": [
    {
     "data": {
      "text/plain": [
       "datetime    0\n",
       "author      0\n",
       "message     0\n",
       "video_id    0\n",
       "dtype: int64"
      ]
     },
     "execution_count": 21,
     "metadata": {},
     "output_type": "execute_result"
    }
   ],
   "source": [
    "df.isna().sum()"
   ]
  },
  {
   "cell_type": "markdown",
   "id": "b4e4754c",
   "metadata": {
    "papermill": {
     "duration": 0.032091,
     "end_time": "2024-08-12T16:45:43.815921",
     "exception": false,
     "start_time": "2024-08-12T16:45:43.783830",
     "status": "completed"
    },
    "tags": []
   },
   "source": [
    "## OG code by oitik"
   ]
  },
  {
   "cell_type": "code",
   "execution_count": 22,
   "id": "aec1af7e",
   "metadata": {
    "execution": {
     "iopub.execute_input": "2024-08-12T16:45:43.883817Z",
     "iopub.status.busy": "2024-08-12T16:45:43.883350Z",
     "iopub.status.idle": "2024-08-12T16:45:43.889888Z",
     "shell.execute_reply": "2024-08-12T16:45:43.888418Z"
    },
    "papermill": {
     "duration": 0.043583,
     "end_time": "2024-08-12T16:45:43.892597",
     "exception": false,
     "start_time": "2024-08-12T16:45:43.849014",
     "status": "completed"
    },
    "tags": []
   },
   "outputs": [],
   "source": [
    "# start_time = time.time()\n",
    "# vid = \"EoQjiNm7oCw\"\n",
    "# # vid = 'xUSlfWh7Pak'\n",
    "\n",
    "# chat = pytchat.create(video_id = vid)\n",
    "\n",
    "# while chat.is_alive():\n",
    "#     for c in chat.get().items:\n",
    "# #         print(f\"{c.datetime} [{c.author.name}]- {c.message}\")\n",
    "#         configs.datetimes.append(c.datetime[:10])\n",
    "#         configs.authors.append(c.author.name)\n",
    "#         configs.messages.append(c.message)\n",
    "\n",
    "# #     # Emergency Break\n",
    "# #     if time.time() - start_time >= configs.patience:\n",
    "# #         break "
   ]
  },
  {
   "cell_type": "code",
   "execution_count": 23,
   "id": "c5cc0050",
   "metadata": {
    "execution": {
     "iopub.execute_input": "2024-08-12T16:45:43.960785Z",
     "iopub.status.busy": "2024-08-12T16:45:43.960357Z",
     "iopub.status.idle": "2024-08-12T16:45:43.965867Z",
     "shell.execute_reply": "2024-08-12T16:45:43.964544Z"
    },
    "papermill": {
     "duration": 0.043008,
     "end_time": "2024-08-12T16:45:43.968316",
     "exception": false,
     "start_time": "2024-08-12T16:45:43.925308",
     "status": "completed"
    },
    "tags": []
   },
   "outputs": [],
   "source": [
    "# data = {\n",
    "#     'datetime': configs.datetimes,\n",
    "#     'author': configs.authors,\n",
    "#     'message': configs.messages\n",
    "# }\n",
    "\n",
    "# df = pd.DataFrame(data)\n",
    "# df.head()"
   ]
  },
  {
   "cell_type": "code",
   "execution_count": 24,
   "id": "f1396bee",
   "metadata": {
    "execution": {
     "iopub.execute_input": "2024-08-12T16:45:44.036297Z",
     "iopub.status.busy": "2024-08-12T16:45:44.035549Z",
     "iopub.status.idle": "2024-08-12T16:45:44.040724Z",
     "shell.execute_reply": "2024-08-12T16:45:44.039401Z"
    },
    "papermill": {
     "duration": 0.041615,
     "end_time": "2024-08-12T16:45:44.043334",
     "exception": false,
     "start_time": "2024-08-12T16:45:44.001719",
     "status": "completed"
    },
    "tags": []
   },
   "outputs": [],
   "source": [
    "# df.shape"
   ]
  },
  {
   "cell_type": "code",
   "execution_count": 25,
   "id": "448600fe",
   "metadata": {
    "execution": {
     "iopub.execute_input": "2024-08-12T16:45:44.110528Z",
     "iopub.status.busy": "2024-08-12T16:45:44.110067Z",
     "iopub.status.idle": "2024-08-12T16:45:44.115167Z",
     "shell.execute_reply": "2024-08-12T16:45:44.113906Z"
    },
    "papermill": {
     "duration": 0.041653,
     "end_time": "2024-08-12T16:45:44.117671",
     "exception": false,
     "start_time": "2024-08-12T16:45:44.076018",
     "status": "completed"
    },
    "tags": []
   },
   "outputs": [],
   "source": [
    "# df.to_csv('esports_data.csv', index=False)\n",
    "\n",
    "# df = pd.read_csv('/kaggle/working/esports_data.csv')\n",
    "# df.head(4)"
   ]
  },
  {
   "cell_type": "code",
   "execution_count": 26,
   "id": "9961a9dd",
   "metadata": {
    "execution": {
     "iopub.execute_input": "2024-08-12T16:45:44.184150Z",
     "iopub.status.busy": "2024-08-12T16:45:44.183738Z",
     "iopub.status.idle": "2024-08-12T16:45:44.188866Z",
     "shell.execute_reply": "2024-08-12T16:45:44.187655Z"
    },
    "papermill": {
     "duration": 0.0412,
     "end_time": "2024-08-12T16:45:44.191578",
     "exception": false,
     "start_time": "2024-08-12T16:45:44.150378",
     "status": "completed"
    },
    "tags": []
   },
   "outputs": [],
   "source": [
    "# df.dtypes"
   ]
  },
  {
   "cell_type": "code",
   "execution_count": null,
   "id": "d8157fd3",
   "metadata": {
    "papermill": {
     "duration": 0.034147,
     "end_time": "2024-08-12T16:45:44.259956",
     "exception": false,
     "start_time": "2024-08-12T16:45:44.225809",
     "status": "completed"
    },
    "tags": []
   },
   "outputs": [],
   "source": []
  },
  {
   "cell_type": "code",
   "execution_count": 27,
   "id": "30661bb8",
   "metadata": {
    "execution": {
     "iopub.execute_input": "2024-08-12T16:45:44.327201Z",
     "iopub.status.busy": "2024-08-12T16:45:44.326815Z",
     "iopub.status.idle": "2024-08-12T16:45:44.331797Z",
     "shell.execute_reply": "2024-08-12T16:45:44.330506Z"
    },
    "papermill": {
     "duration": 0.041168,
     "end_time": "2024-08-12T16:45:44.334174",
     "exception": false,
     "start_time": "2024-08-12T16:45:44.293006",
     "status": "completed"
    },
    "tags": []
   },
   "outputs": [],
   "source": [
    "# df['length'] = [len(x.split()) for x in df['message']]\n",
    "\n",
    "# df.head(2)"
   ]
  },
  {
   "cell_type": "code",
   "execution_count": 28,
   "id": "dbdaf33a",
   "metadata": {
    "execution": {
     "iopub.execute_input": "2024-08-12T16:45:44.402759Z",
     "iopub.status.busy": "2024-08-12T16:45:44.402306Z",
     "iopub.status.idle": "2024-08-12T16:45:44.407302Z",
     "shell.execute_reply": "2024-08-12T16:45:44.406063Z"
    },
    "papermill": {
     "duration": 0.041871,
     "end_time": "2024-08-12T16:45:44.409791",
     "exception": false,
     "start_time": "2024-08-12T16:45:44.367920",
     "status": "completed"
    },
    "tags": []
   },
   "outputs": [],
   "source": [
    "# sorted_df = df.sort_values(by='length', ascending=False).reset_index(drop=True)\n",
    "# sorted_df.head(20)"
   ]
  },
  {
   "cell_type": "code",
   "execution_count": 29,
   "id": "98152e66",
   "metadata": {
    "execution": {
     "iopub.execute_input": "2024-08-12T16:45:44.477016Z",
     "iopub.status.busy": "2024-08-12T16:45:44.476608Z",
     "iopub.status.idle": "2024-08-12T16:45:44.481989Z",
     "shell.execute_reply": "2024-08-12T16:45:44.480576Z"
    },
    "papermill": {
     "duration": 0.041898,
     "end_time": "2024-08-12T16:45:44.484652",
     "exception": false,
     "start_time": "2024-08-12T16:45:44.442754",
     "status": "completed"
    },
    "tags": []
   },
   "outputs": [],
   "source": [
    "# sorted_df['message'][50]"
   ]
  },
  {
   "cell_type": "code",
   "execution_count": 30,
   "id": "8bc68ce5",
   "metadata": {
    "execution": {
     "iopub.execute_input": "2024-08-12T16:45:44.553190Z",
     "iopub.status.busy": "2024-08-12T16:45:44.552799Z",
     "iopub.status.idle": "2024-08-12T16:45:44.558481Z",
     "shell.execute_reply": "2024-08-12T16:45:44.557249Z"
    },
    "papermill": {
     "duration": 0.043013,
     "end_time": "2024-08-12T16:45:44.561024",
     "exception": false,
     "start_time": "2024-08-12T16:45:44.518011",
     "status": "completed"
    },
    "tags": []
   },
   "outputs": [],
   "source": [
    "# import pytchat\n",
    "# import time\n",
    "\n",
    "# start_time = time.time()\n",
    "\n",
    "\n",
    "# chat = pytchat.create(video_id='yuv1qvQywMU')\n",
    "\n",
    "# while chat.is_alive():\n",
    "# #     print(chat.get().json())\n",
    "# #     time.sleep(5)\n",
    "    \n",
    "#     # Each chat item can also be output in JSON format.\n",
    "#     for c in chat.get().items:\n",
    "#         print(f\"{c.datetime} [{c.author.name}]- {c.message}\")\n",
    "# #         print(c.json())\n",
    "\n",
    "#     # Emergency Break\n",
    "#     if time.time() - start_time >= 1:\n",
    "#         break  "
   ]
  },
  {
   "cell_type": "markdown",
   "id": "3cbc3263",
   "metadata": {
    "papermill": {
     "duration": 0.032345,
     "end_time": "2024-08-12T16:45:44.627023",
     "exception": false,
     "start_time": "2024-08-12T16:45:44.594678",
     "status": "completed"
    },
    "tags": []
   },
   "source": [
    "# `the end`"
   ]
  },
  {
   "cell_type": "code",
   "execution_count": null,
   "id": "30bfbede",
   "metadata": {
    "papermill": {
     "duration": 0.034058,
     "end_time": "2024-08-12T16:45:44.695497",
     "exception": false,
     "start_time": "2024-08-12T16:45:44.661439",
     "status": "completed"
    },
    "tags": []
   },
   "outputs": [],
   "source": []
  }
 ],
 "metadata": {
  "kaggle": {
   "accelerator": "none",
   "dataSources": [
    {
     "datasetId": 5528375,
     "sourceId": 9151912,
     "sourceType": "datasetVersion"
    }
   ],
   "dockerImageVersionId": 30746,
   "isGpuEnabled": false,
   "isInternetEnabled": true,
   "language": "python",
   "sourceType": "notebook"
  },
  "kernelspec": {
   "display_name": "Python 3",
   "language": "python",
   "name": "python3"
  },
  "language_info": {
   "codemirror_mode": {
    "name": "ipython",
    "version": 3
   },
   "file_extension": ".py",
   "mimetype": "text/x-python",
   "name": "python",
   "nbconvert_exporter": "python",
   "pygments_lexer": "ipython3",
   "version": "3.10.13"
  },
  "papermill": {
   "default_parameters": {},
   "duration": 27548.722627,
   "end_time": "2024-08-12T16:45:47.234416",
   "environment_variables": {},
   "exception": null,
   "input_path": "__notebook__.ipynb",
   "output_path": "__notebook__.ipynb",
   "parameters": {},
   "start_time": "2024-08-12T09:06:38.511789",
   "version": "2.5.0"
  }
 },
 "nbformat": 4,
 "nbformat_minor": 5
}
