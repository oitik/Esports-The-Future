{
 "cells": [
  {
   "cell_type": "code",
   "execution_count": 1,
   "id": "8019122b",
   "metadata": {
    "_cell_guid": "b1076dfc-b9ad-4769-8c92-a6c4dae69d19",
    "_uuid": "8f2839f25d086af736a60e9eeb907d3b93b6e0e5",
    "execution": {
     "iopub.execute_input": "2024-08-12T23:29:33.597396Z",
     "iopub.status.busy": "2024-08-12T23:29:33.596947Z",
     "iopub.status.idle": "2024-08-12T23:29:34.659156Z",
     "shell.execute_reply": "2024-08-12T23:29:34.657683Z"
    },
    "papermill": {
     "duration": 1.079237,
     "end_time": "2024-08-12T23:29:34.662278",
     "exception": false,
     "start_time": "2024-08-12T23:29:33.583041",
     "status": "completed"
    },
    "tags": []
   },
   "outputs": [],
   "source": [
    "import numpy as np\n",
    "import pandas as pd\n",
    "from tqdm import tqdm"
   ]
  },
  {
   "cell_type": "code",
   "execution_count": 2,
   "id": "3553cb79",
   "metadata": {
    "execution": {
     "iopub.execute_input": "2024-08-12T23:29:34.686946Z",
     "iopub.status.busy": "2024-08-12T23:29:34.686411Z",
     "iopub.status.idle": "2024-08-12T23:29:52.972116Z",
     "shell.execute_reply": "2024-08-12T23:29:52.970552Z"
    },
    "papermill": {
     "duration": 18.301126,
     "end_time": "2024-08-12T23:29:52.975090",
     "exception": false,
     "start_time": "2024-08-12T23:29:34.673964",
     "status": "completed"
    },
    "tags": []
   },
   "outputs": [
    {
     "name": "stdout",
     "output_type": "stream",
     "text": [
      "Collecting pytchat\r\n",
      "  Downloading pytchat-0.5.5-py3-none-any.whl.metadata (4.7 kB)\r\n",
      "Requirement already satisfied: httpx[http2] in /opt/conda/lib/python3.10/site-packages (from pytchat) (0.27.0)\r\n",
      "Requirement already satisfied: anyio in /opt/conda/lib/python3.10/site-packages (from httpx[http2]->pytchat) (4.2.0)\r\n",
      "Requirement already satisfied: certifi in /opt/conda/lib/python3.10/site-packages (from httpx[http2]->pytchat) (2024.7.4)\r\n",
      "Requirement already satisfied: httpcore==1.* in /opt/conda/lib/python3.10/site-packages (from httpx[http2]->pytchat) (1.0.5)\r\n",
      "Requirement already satisfied: idna in /opt/conda/lib/python3.10/site-packages (from httpx[http2]->pytchat) (3.6)\r\n",
      "Requirement already satisfied: sniffio in /opt/conda/lib/python3.10/site-packages (from httpx[http2]->pytchat) (1.3.0)\r\n",
      "Collecting h2<5,>=3 (from httpx[http2]->pytchat)\r\n",
      "  Downloading h2-4.1.0-py3-none-any.whl.metadata (3.6 kB)\r\n",
      "Requirement already satisfied: h11<0.15,>=0.13 in /opt/conda/lib/python3.10/site-packages (from httpcore==1.*->httpx[http2]->pytchat) (0.14.0)\r\n",
      "Collecting hyperframe<7,>=6.0 (from h2<5,>=3->httpx[http2]->pytchat)\r\n",
      "  Downloading hyperframe-6.0.1-py3-none-any.whl.metadata (2.7 kB)\r\n",
      "Collecting hpack<5,>=4.0 (from h2<5,>=3->httpx[http2]->pytchat)\r\n",
      "  Downloading hpack-4.0.0-py3-none-any.whl.metadata (2.5 kB)\r\n",
      "Requirement already satisfied: exceptiongroup>=1.0.2 in /opt/conda/lib/python3.10/site-packages (from anyio->httpx[http2]->pytchat) (1.2.0)\r\n",
      "Requirement already satisfied: typing-extensions>=4.1 in /opt/conda/lib/python3.10/site-packages (from anyio->httpx[http2]->pytchat) (4.9.0)\r\n",
      "Downloading pytchat-0.5.5-py3-none-any.whl (69 kB)\r\n",
      "\u001b[2K   \u001b[90m━━━━━━━━━━━━━━━━━━━━━━━━━━━━━━━━━━━━━━━━\u001b[0m \u001b[32m69.5/69.5 kB\u001b[0m \u001b[31m2.5 MB/s\u001b[0m eta \u001b[36m0:00:00\u001b[0m\r\n",
      "\u001b[?25hDownloading h2-4.1.0-py3-none-any.whl (57 kB)\r\n",
      "\u001b[2K   \u001b[90m━━━━━━━━━━━━━━━━━━━━━━━━━━━━━━━━━━━━━━━━\u001b[0m \u001b[32m57.5/57.5 kB\u001b[0m \u001b[31m2.9 MB/s\u001b[0m eta \u001b[36m0:00:00\u001b[0m\r\n",
      "\u001b[?25hDownloading hpack-4.0.0-py3-none-any.whl (32 kB)\r\n",
      "Downloading hyperframe-6.0.1-py3-none-any.whl (12 kB)\r\n",
      "Installing collected packages: hyperframe, hpack, h2, pytchat\r\n",
      "Successfully installed h2-4.1.0 hpack-4.0.0 hyperframe-6.0.1 pytchat-0.5.5\r\n"
     ]
    }
   ],
   "source": [
    "!pip install pytchat"
   ]
  },
  {
   "cell_type": "code",
   "execution_count": 3,
   "id": "20ad3112",
   "metadata": {
    "execution": {
     "iopub.execute_input": "2024-08-12T23:29:53.003294Z",
     "iopub.status.busy": "2024-08-12T23:29:53.002862Z",
     "iopub.status.idle": "2024-08-12T23:29:53.312087Z",
     "shell.execute_reply": "2024-08-12T23:29:53.310147Z"
    },
    "papermill": {
     "duration": 0.327626,
     "end_time": "2024-08-12T23:29:53.315919",
     "exception": false,
     "start_time": "2024-08-12T23:29:52.988293",
     "status": "completed"
    },
    "tags": []
   },
   "outputs": [],
   "source": [
    "import pytchat\n",
    "import time"
   ]
  },
  {
   "cell_type": "code",
   "execution_count": 4,
   "id": "303b861a",
   "metadata": {
    "execution": {
     "iopub.execute_input": "2024-08-12T23:29:53.348449Z",
     "iopub.status.busy": "2024-08-12T23:29:53.347691Z",
     "iopub.status.idle": "2024-08-12T23:29:53.362099Z",
     "shell.execute_reply": "2024-08-12T23:29:53.360562Z"
    },
    "papermill": {
     "duration": 0.035279,
     "end_time": "2024-08-12T23:29:53.364938",
     "exception": false,
     "start_time": "2024-08-12T23:29:53.329659",
     "status": "completed"
    },
    "tags": []
   },
   "outputs": [],
   "source": [
    "import time\n",
    "\n",
    "class ScraperConfig:\n",
    "    \"\"\"\n",
    "    Configuration class for a web scraper.\n",
    "\n",
    "    Attributes:\n",
    "        patience (int): Time to wait between scraping attempts in seconds (default: 10).\n",
    "        datetimes (list): List to store scraped datetimes (empty by default).\n",
    "        authors (list): List to store scraped authors (empty by default).\n",
    "        messages (list): List to store scraped messages (empty by default).\n",
    "    \"\"\"\n",
    "\n",
    "    def __init__(self, patience=10):\n",
    "        \"\"\"\n",
    "        Initializes a ScraperConfig object with the specified patience.\n",
    "\n",
    "        Args:\n",
    "            patience (int, optional): Time to wait between scraping attempts in seconds. Defaults to 10.\n",
    "        \"\"\"\n",
    "\n",
    "        self.patience = patience\n",
    "        self.datetimes = []\n",
    "        self.authors = []\n",
    "        self.messages = []\n",
    "\n",
    "\n",
    "    def scrape(self, vid):\n",
    "        \"\"\"\n",
    "        Scrapes data from the youtube comment.\n",
    "\n",
    "        This placeholder method illustrates the general structure for scraping logic.\n",
    "        The actual implementation would involve making requests, parsing responses, and\n",
    "        storing data in self.datetimes, self.authors, and self.messages.\n",
    "\n",
    "        Raises:\n",
    "            Exception: If an error occurs during scraping.\n",
    "        \"\"\"\n",
    "\n",
    "        try:\n",
    "            start_time = time.time()\n",
    "\n",
    "            chat = pytchat.create(video_id = vid)\n",
    "\n",
    "            while chat.is_alive():\n",
    "                for c in chat.get().items:\n",
    "            #         print(f\"{c.datetime} [{c.author.name}]- {c.message}\")\n",
    "                    self.datetimes.append(c.datetime)\n",
    "                    self.authors.append(c.author.name)\n",
    "                    self.messages.append(c.message)\n",
    "\n",
    "                # Emergency Break\n",
    "#                 if time.time() - start_time >= self.patience:\n",
    "#                     break \n",
    "                    \n",
    "        except Exception as e:\n",
    "            print(f\"Error during scraping: {e}\")\n",
    "            raise  # Re-raise the exception for potential handling outside the class\n",
    "            \n",
    "    def make_df(self):\n",
    "        '''\n",
    "        Make a df\n",
    "        '''\n",
    "        data = {\n",
    "            'datetime': self.datetimes,\n",
    "            'author': self.authors,\n",
    "            'message': self.messages,\n",
    "        }\n",
    "\n",
    "        df = pd.DataFrame(data)\n",
    "#         print(f'Length if this dataframe is {len(df)}')\n",
    "        return df"
   ]
  },
  {
   "cell_type": "code",
   "execution_count": 5,
   "id": "fb4af148",
   "metadata": {
    "execution": {
     "iopub.execute_input": "2024-08-12T23:29:53.393091Z",
     "iopub.status.busy": "2024-08-12T23:29:53.392680Z",
     "iopub.status.idle": "2024-08-12T23:29:53.402750Z",
     "shell.execute_reply": "2024-08-12T23:29:53.401393Z"
    },
    "papermill": {
     "duration": 0.028115,
     "end_time": "2024-08-12T23:29:53.406230",
     "exception": false,
     "start_time": "2024-08-12T23:29:53.378115",
     "status": "completed"
    },
    "tags": []
   },
   "outputs": [
    {
     "data": {
      "text/plain": [
       "([], 10)"
      ]
     },
     "execution_count": 5,
     "metadata": {},
     "output_type": "execute_result"
    }
   ],
   "source": [
    "configs = ScraperConfig(patience=10) \n",
    "configs.datetimes, configs.patience"
   ]
  },
  {
   "cell_type": "code",
   "execution_count": 6,
   "id": "9a5c7613",
   "metadata": {
    "execution": {
     "iopub.execute_input": "2024-08-12T23:29:53.433859Z",
     "iopub.status.busy": "2024-08-12T23:29:53.433460Z",
     "iopub.status.idle": "2024-08-12T23:30:08.878244Z",
     "shell.execute_reply": "2024-08-12T23:30:08.876666Z"
    },
    "papermill": {
     "duration": 15.463468,
     "end_time": "2024-08-12T23:30:08.882747",
     "exception": false,
     "start_time": "2024-08-12T23:29:53.419279",
     "status": "completed"
    },
    "tags": []
   },
   "outputs": [
    {
     "data": {
      "text/html": [
       "<div>\n",
       "<style scoped>\n",
       "    .dataframe tbody tr th:only-of-type {\n",
       "        vertical-align: middle;\n",
       "    }\n",
       "\n",
       "    .dataframe tbody tr th {\n",
       "        vertical-align: top;\n",
       "    }\n",
       "\n",
       "    .dataframe thead th {\n",
       "        text-align: right;\n",
       "    }\n",
       "</style>\n",
       "<table border=\"1\" class=\"dataframe\">\n",
       "  <thead>\n",
       "    <tr style=\"text-align: right;\">\n",
       "      <th></th>\n",
       "      <th>datetime</th>\n",
       "      <th>author</th>\n",
       "      <th>message</th>\n",
       "    </tr>\n",
       "  </thead>\n",
       "  <tbody>\n",
       "    <tr>\n",
       "      <th>0</th>\n",
       "      <td>2024-06-30 04:55:16</td>\n",
       "      <td>ZAIN GAMING</td>\n",
       "      <td>iqoo Soule :rocket: :trophy:</td>\n",
       "    </tr>\n",
       "    <tr>\n",
       "      <th>1</th>\n",
       "      <td>2024-06-30 05:17:31</td>\n",
       "      <td>sangram</td>\n",
       "      <td>kya robbed bhai btayega</td>\n",
       "    </tr>\n",
       "    <tr>\n",
       "      <th>2</th>\n",
       "      <td>2024-06-30 05:28:58</td>\n",
       "      <td>Elamparthi</td>\n",
       "      <td>jokers :face_with_rolling_eyes:</td>\n",
       "    </tr>\n",
       "    <tr>\n",
       "      <th>3</th>\n",
       "      <td>2024-06-30 05:40:00</td>\n",
       "      <td>DARINDA GAMER</td>\n",
       "      <td>ajj Mera team jitega :upside_down_face::smilin...</td>\n",
       "    </tr>\n",
       "    <tr>\n",
       "      <th>4</th>\n",
       "      <td>2024-06-30 05:50:19</td>\n",
       "      <td>ƤŁΔ¥ βØ¥</td>\n",
       "      <td>this is Tamil chat :rolling_on_the_floor_laugh...</td>\n",
       "    </tr>\n",
       "  </tbody>\n",
       "</table>\n",
       "</div>"
      ],
      "text/plain": [
       "              datetime         author  \\\n",
       "0  2024-06-30 04:55:16    ZAIN GAMING   \n",
       "1  2024-06-30 05:17:31       sangram    \n",
       "2  2024-06-30 05:28:58    Elamparthi    \n",
       "3  2024-06-30 05:40:00  DARINDA GAMER   \n",
       "4  2024-06-30 05:50:19       ƤŁΔ¥ βØ¥   \n",
       "\n",
       "                                             message  \n",
       "0                       iqoo Soule :rocket: :trophy:  \n",
       "1                            kya robbed bhai btayega  \n",
       "2                    jokers :face_with_rolling_eyes:  \n",
       "3  ajj Mera team jitega :upside_down_face::smilin...  \n",
       "4  this is Tamil chat :rolling_on_the_floor_laugh...  "
      ]
     },
     "execution_count": 6,
     "metadata": {},
     "output_type": "execute_result"
    }
   ],
   "source": [
    "configs.scrape(vid='4RZcdw-w2J0')\n",
    "df = configs.make_df()\n",
    "df.head()"
   ]
  },
  {
   "cell_type": "code",
   "execution_count": 7,
   "id": "d7b5f6af",
   "metadata": {
    "execution": {
     "iopub.execute_input": "2024-08-12T23:30:08.918036Z",
     "iopub.status.busy": "2024-08-12T23:30:08.916720Z",
     "iopub.status.idle": "2024-08-12T23:30:08.922267Z",
     "shell.execute_reply": "2024-08-12T23:30:08.921045Z"
    },
    "papermill": {
     "duration": 0.026204,
     "end_time": "2024-08-12T23:30:08.924930",
     "exception": false,
     "start_time": "2024-08-12T23:30:08.898726",
     "status": "completed"
    },
    "tags": []
   },
   "outputs": [],
   "source": [
    "# x = 10\n",
    "# df[x:x+10]"
   ]
  },
  {
   "cell_type": "code",
   "execution_count": 8,
   "id": "1f103a23",
   "metadata": {
    "execution": {
     "iopub.execute_input": "2024-08-12T23:30:08.955733Z",
     "iopub.status.busy": "2024-08-12T23:30:08.955280Z",
     "iopub.status.idle": "2024-08-12T23:30:08.969680Z",
     "shell.execute_reply": "2024-08-12T23:30:08.968353Z"
    },
    "papermill": {
     "duration": 0.034208,
     "end_time": "2024-08-12T23:30:08.973700",
     "exception": false,
     "start_time": "2024-08-12T23:30:08.939492",
     "status": "completed"
    },
    "tags": []
   },
   "outputs": [
    {
     "data": {
      "text/html": [
       "<div>\n",
       "<style scoped>\n",
       "    .dataframe tbody tr th:only-of-type {\n",
       "        vertical-align: middle;\n",
       "    }\n",
       "\n",
       "    .dataframe tbody tr th {\n",
       "        vertical-align: top;\n",
       "    }\n",
       "\n",
       "    .dataframe thead th {\n",
       "        text-align: right;\n",
       "    }\n",
       "</style>\n",
       "<table border=\"1\" class=\"dataframe\">\n",
       "  <thead>\n",
       "    <tr style=\"text-align: right;\">\n",
       "      <th></th>\n",
       "      <th>datetime</th>\n",
       "      <th>author</th>\n",
       "      <th>message</th>\n",
       "    </tr>\n",
       "  </thead>\n",
       "  <tbody>\n",
       "    <tr>\n",
       "      <th>9316</th>\n",
       "      <td>2024-06-30 13:55:54</td>\n",
       "      <td>Eren Giri</td>\n",
       "      <td>do you know top 10 team positions?</td>\n",
       "    </tr>\n",
       "    <tr>\n",
       "      <th>9317</th>\n",
       "      <td>2024-06-30 13:58:25</td>\n",
       "      <td>Redsign DEMI</td>\n",
       "      <td>Tl behind 4th position by 1 point</td>\n",
       "    </tr>\n",
       "    <tr>\n",
       "      <th>9318</th>\n",
       "      <td>2024-06-30 13:59:03</td>\n",
       "      <td>MOXLEY</td>\n",
       "      <td>3:crown: TAMIL TEAMS IN TOP10:red_heart::fire:</td>\n",
       "    </tr>\n",
       "    <tr>\n",
       "      <th>9319</th>\n",
       "      <td>2024-06-30 14:10:30</td>\n",
       "      <td>Nirmal</td>\n",
       "      <td>TT jokers.. from #2</td>\n",
       "    </tr>\n",
       "    <tr>\n",
       "      <th>9320</th>\n",
       "      <td>2024-06-30 14:13:03</td>\n",
       "      <td>Vivek Thangarasu</td>\n",
       "      <td>TT wins 8 lakhs money</td>\n",
       "    </tr>\n",
       "  </tbody>\n",
       "</table>\n",
       "</div>"
      ],
      "text/plain": [
       "                 datetime            author  \\\n",
       "9316  2024-06-30 13:55:54         Eren Giri   \n",
       "9317  2024-06-30 13:58:25      Redsign DEMI   \n",
       "9318  2024-06-30 13:59:03           MOXLEY    \n",
       "9319  2024-06-30 14:10:30            Nirmal   \n",
       "9320  2024-06-30 14:13:03  Vivek Thangarasu   \n",
       "\n",
       "                                             message  \n",
       "9316              do you know top 10 team positions?  \n",
       "9317               Tl behind 4th position by 1 point  \n",
       "9318  3:crown: TAMIL TEAMS IN TOP10:red_heart::fire:  \n",
       "9319                             TT jokers.. from #2  \n",
       "9320                           TT wins 8 lakhs money  "
      ]
     },
     "execution_count": 8,
     "metadata": {},
     "output_type": "execute_result"
    }
   ],
   "source": [
    "df.tail()"
   ]
  },
  {
   "cell_type": "code",
   "execution_count": 9,
   "id": "a4096bb9",
   "metadata": {
    "execution": {
     "iopub.execute_input": "2024-08-12T23:30:09.005708Z",
     "iopub.status.busy": "2024-08-12T23:30:09.004981Z",
     "iopub.status.idle": "2024-08-12T23:30:09.014223Z",
     "shell.execute_reply": "2024-08-12T23:30:09.012803Z"
    },
    "papermill": {
     "duration": 0.028962,
     "end_time": "2024-08-12T23:30:09.017175",
     "exception": false,
     "start_time": "2024-08-12T23:30:08.988213",
     "status": "completed"
    },
    "tags": []
   },
   "outputs": [
    {
     "data": {
      "text/plain": [
       "(9321, 3)"
      ]
     },
     "execution_count": 9,
     "metadata": {},
     "output_type": "execute_result"
    }
   ],
   "source": [
    "df.shape"
   ]
  },
  {
   "cell_type": "markdown",
   "id": "554eeef5",
   "metadata": {
    "papermill": {
     "duration": 0.015306,
     "end_time": "2024-08-12T23:30:09.051824",
     "exception": false,
     "start_time": "2024-08-12T23:30:09.036518",
     "status": "completed"
    },
    "tags": []
   },
   "source": [
    "## Start with Bangladesh"
   ]
  },
  {
   "cell_type": "code",
   "execution_count": 10,
   "id": "a70c9175",
   "metadata": {
    "execution": {
     "iopub.execute_input": "2024-08-12T23:30:09.086897Z",
     "iopub.status.busy": "2024-08-12T23:30:09.086373Z",
     "iopub.status.idle": "2024-08-12T23:30:09.147730Z",
     "shell.execute_reply": "2024-08-12T23:30:09.145516Z"
    },
    "papermill": {
     "duration": 0.084901,
     "end_time": "2024-08-12T23:30:09.153222",
     "exception": false,
     "start_time": "2024-08-12T23:30:09.068321",
     "status": "completed"
    },
    "tags": []
   },
   "outputs": [
    {
     "name": "stdout",
     "output_type": "stream",
     "text": [
      "length of the dataframe is 473\n"
     ]
    },
    {
     "data": {
      "text/html": [
       "<div>\n",
       "<style scoped>\n",
       "    .dataframe tbody tr th:only-of-type {\n",
       "        vertical-align: middle;\n",
       "    }\n",
       "\n",
       "    .dataframe tbody tr th {\n",
       "        vertical-align: top;\n",
       "    }\n",
       "\n",
       "    .dataframe thead th {\n",
       "        text-align: right;\n",
       "    }\n",
       "</style>\n",
       "<table border=\"1\" class=\"dataframe\">\n",
       "  <thead>\n",
       "    <tr style=\"text-align: right;\">\n",
       "      <th></th>\n",
       "      <th>video_id</th>\n",
       "      <th>title</th>\n",
       "      <th>view_count</th>\n",
       "      <th>like_count</th>\n",
       "      <th>comment_count</th>\n",
       "      <th>duration</th>\n",
       "      <th>date</th>\n",
       "      <th>time</th>\n",
       "      <th>duration_min</th>\n",
       "    </tr>\n",
       "  </thead>\n",
       "  <tbody>\n",
       "    <tr>\n",
       "      <th>0</th>\n",
       "      <td>u8Sp6_DeXWA</td>\n",
       "      <td>YAYINCILAR ARASI ATLANTİS TURNUVASI 🔱 | PUBG M...</td>\n",
       "      <td>62898</td>\n",
       "      <td>1928</td>\n",
       "      <td>67</td>\n",
       "      <td>PT3H9M13S</td>\n",
       "      <td>2024-07-30</td>\n",
       "      <td>21:21:03</td>\n",
       "      <td>189.216667</td>\n",
       "    </tr>\n",
       "    <tr>\n",
       "      <th>1</th>\n",
       "      <td>NoNQnZO6JeY</td>\n",
       "      <td>[TR] 2024 PMWC x EWC Ana Turnuva 3. Gün | PUBG...</td>\n",
       "      <td>50123</td>\n",
       "      <td>1103</td>\n",
       "      <td>11</td>\n",
       "      <td>PT6H3M40S</td>\n",
       "      <td>2024-07-28</td>\n",
       "      <td>16:49:28</td>\n",
       "      <td>363.666667</td>\n",
       "    </tr>\n",
       "    <tr>\n",
       "      <th>2</th>\n",
       "      <td>Ho7NgSElv64</td>\n",
       "      <td>ECE SEÇKİN İLE EV PARTİ YAYINI | PUBG MOBILE</td>\n",
       "      <td>274848</td>\n",
       "      <td>177</td>\n",
       "      <td>12</td>\n",
       "      <td>PT36M21S</td>\n",
       "      <td>2024-07-28</td>\n",
       "      <td>13:58:46</td>\n",
       "      <td>36.350000</td>\n",
       "    </tr>\n",
       "    <tr>\n",
       "      <th>3</th>\n",
       "      <td>XtGhVPvE2w8</td>\n",
       "      <td>[TR] 2024 PMWC x EWC Ana Turnuva 2. Gün | PUBG...</td>\n",
       "      <td>51514</td>\n",
       "      <td>1455</td>\n",
       "      <td>5</td>\n",
       "      <td>PT5H48M52S</td>\n",
       "      <td>2024-07-27</td>\n",
       "      <td>16:25:48</td>\n",
       "      <td>348.866667</td>\n",
       "    </tr>\n",
       "    <tr>\n",
       "      <th>4</th>\n",
       "      <td>xpzpdDMDXiY</td>\n",
       "      <td>[TR] 2024 PMWC x EWC  Hayatta Kalma Aşaması 2....</td>\n",
       "      <td>49589</td>\n",
       "      <td>944</td>\n",
       "      <td>12</td>\n",
       "      <td>PT5H29M59S</td>\n",
       "      <td>2024-07-24</td>\n",
       "      <td>16:18:44</td>\n",
       "      <td>329.983333</td>\n",
       "    </tr>\n",
       "  </tbody>\n",
       "</table>\n",
       "</div>"
      ],
      "text/plain": [
       "      video_id                                              title  view_count  \\\n",
       "0  u8Sp6_DeXWA  YAYINCILAR ARASI ATLANTİS TURNUVASI 🔱 | PUBG M...       62898   \n",
       "1  NoNQnZO6JeY  [TR] 2024 PMWC x EWC Ana Turnuva 3. Gün | PUBG...       50123   \n",
       "2  Ho7NgSElv64       ECE SEÇKİN İLE EV PARTİ YAYINI | PUBG MOBILE      274848   \n",
       "3  XtGhVPvE2w8  [TR] 2024 PMWC x EWC Ana Turnuva 2. Gün | PUBG...       51514   \n",
       "4  xpzpdDMDXiY  [TR] 2024 PMWC x EWC  Hayatta Kalma Aşaması 2....       49589   \n",
       "\n",
       "   like_count  comment_count    duration        date      time  duration_min  \n",
       "0        1928             67   PT3H9M13S  2024-07-30  21:21:03    189.216667  \n",
       "1        1103             11   PT6H3M40S  2024-07-28  16:49:28    363.666667  \n",
       "2         177             12    PT36M21S  2024-07-28  13:58:46     36.350000  \n",
       "3        1455              5  PT5H48M52S  2024-07-27  16:25:48    348.866667  \n",
       "4         944             12  PT5H29M59S  2024-07-24  16:18:44    329.983333  "
      ]
     },
     "execution_count": 10,
     "metadata": {},
     "output_type": "execute_result"
    }
   ],
   "source": [
    "bd_vinfo = pd.read_csv('/kaggle/input/esports-data/video_information/turkey_video_info.csv')\n",
    "\n",
    "print(f'length of the dataframe is {len(bd_vinfo)}')\n",
    "\n",
    "bd_vinfo.head(5)"
   ]
  },
  {
   "cell_type": "markdown",
   "id": "126c8c81",
   "metadata": {
    "papermill": {
     "duration": 0.017956,
     "end_time": "2024-08-12T23:30:09.191250",
     "exception": false,
     "start_time": "2024-08-12T23:30:09.173294",
     "status": "completed"
    },
    "tags": []
   },
   "source": [
    "## patience variable can be ignored it is used to terminate the scraping under a time threshold for experimenting."
   ]
  },
  {
   "cell_type": "code",
   "execution_count": 11,
   "id": "0fef549c",
   "metadata": {
    "execution": {
     "iopub.execute_input": "2024-08-12T23:30:09.222163Z",
     "iopub.status.busy": "2024-08-12T23:30:09.221684Z",
     "iopub.status.idle": "2024-08-12T23:30:09.232315Z",
     "shell.execute_reply": "2024-08-12T23:30:09.230922Z"
    },
    "papermill": {
     "duration": 0.030795,
     "end_time": "2024-08-12T23:30:09.236754",
     "exception": false,
     "start_time": "2024-08-12T23:30:09.205959",
     "status": "completed"
    },
    "tags": []
   },
   "outputs": [
    {
     "name": "stdout",
     "output_type": "stream",
     "text": [
      "473\n"
     ]
    },
    {
     "data": {
      "text/plain": [
       "14400"
      ]
     },
     "execution_count": 11,
     "metadata": {},
     "output_type": "execute_result"
    }
   ],
   "source": [
    "# demo_list = ['Vruf1fDg4WA', 'xUSlfWh7Pak', '7FjuKffwKrs']\n",
    "sconfigs = []\n",
    "for i in range(len(bd_vinfo)):\n",
    "    sconfigs.append(ScraperConfig(patience=4*3600))\n",
    "\n",
    "print(len(sconfigs))\n",
    "sconfigs[1].patience"
   ]
  },
  {
   "cell_type": "code",
   "execution_count": 12,
   "id": "c25de4fa",
   "metadata": {
    "execution": {
     "iopub.execute_input": "2024-08-12T23:30:09.268000Z",
     "iopub.status.busy": "2024-08-12T23:30:09.267575Z",
     "iopub.status.idle": "2024-08-12T23:30:09.275840Z",
     "shell.execute_reply": "2024-08-12T23:30:09.274490Z"
    },
    "papermill": {
     "duration": 0.027062,
     "end_time": "2024-08-12T23:30:09.278436",
     "exception": false,
     "start_time": "2024-08-12T23:30:09.251374",
     "status": "completed"
    },
    "tags": []
   },
   "outputs": [
    {
     "data": {
      "text/plain": [
       "['u8Sp6_DeXWA', 'NoNQnZO6JeY', 'Ho7NgSElv64', 'XtGhVPvE2w8']"
      ]
     },
     "execution_count": 12,
     "metadata": {},
     "output_type": "execute_result"
    }
   ],
   "source": [
    "video_ids = list(bd_vinfo['video_id'])\n",
    "video_ids[:4]"
   ]
  },
  {
   "cell_type": "code",
   "execution_count": 13,
   "id": "f7c7e7d7",
   "metadata": {
    "execution": {
     "iopub.execute_input": "2024-08-12T23:30:09.310449Z",
     "iopub.status.busy": "2024-08-12T23:30:09.310048Z",
     "iopub.status.idle": "2024-08-13T01:12:59.818965Z",
     "shell.execute_reply": "2024-08-13T01:12:59.817761Z"
    },
    "papermill": {
     "duration": 6170.529383,
     "end_time": "2024-08-13T01:12:59.823065",
     "exception": false,
     "start_time": "2024-08-12T23:30:09.293682",
     "status": "completed"
    },
    "tags": []
   },
   "outputs": [
    {
     "name": "stdout",
     "output_type": "stream",
     "text": [
      "Empty DataFrame\n",
      "Columns: [datetime, author, message, video_id]\n",
      "Index: []\n"
     ]
    },
    {
     "name": "stderr",
     "output_type": "stream",
     "text": [
      "100%|██████████| 473/473 [1:42:50<00:00, 13.05s/it]\n"
     ]
    }
   ],
   "source": [
    "## keep an array to track the data frame length of each iteration\n",
    "\n",
    "track = []\n",
    "\n",
    "\n",
    "## DEclare class object for each video id\n",
    "sconfigs = []\n",
    "for i in range(len(bd_vinfo)):\n",
    "    sconfigs.append(ScraperConfig(patience=4*3600))\n",
    "\n",
    "\n",
    "# main df\n",
    "columns = ['datetime', 'author', 'message', 'video_id']\n",
    "main_df = pd.DataFrame(columns=columns)\n",
    "print(main_df)\n",
    "\n",
    "total_iterations = len(bd_vinfo['video_id'])\n",
    "\n",
    "for index, vid in tqdm(enumerate(video_ids), total=total_iterations):\n",
    "#     print(vid)\n",
    "    sconfigs[index].scrape(vid=vid)\n",
    "    temp_df = sconfigs[index].make_df()\n",
    "    temp_df['video_id'] = vid\n",
    "    track.append(len(temp_df))\n",
    "    main_df = pd.concat([main_df, temp_df], ignore_index=True) "
   ]
  },
  {
   "cell_type": "code",
   "execution_count": 14,
   "id": "2d123013",
   "metadata": {
    "execution": {
     "iopub.execute_input": "2024-08-13T01:12:59.942314Z",
     "iopub.status.busy": "2024-08-13T01:12:59.941888Z",
     "iopub.status.idle": "2024-08-13T01:12:59.950695Z",
     "shell.execute_reply": "2024-08-13T01:12:59.949368Z"
    },
    "papermill": {
     "duration": 0.071073,
     "end_time": "2024-08-13T01:12:59.953241",
     "exception": false,
     "start_time": "2024-08-13T01:12:59.882168",
     "status": "completed"
    },
    "tags": []
   },
   "outputs": [
    {
     "name": "stdout",
     "output_type": "stream",
     "text": [
      "[4752, 1639, 257, 1710]\n"
     ]
    },
    {
     "data": {
      "text/plain": [
       "(2101365, 4)"
      ]
     },
     "execution_count": 14,
     "metadata": {},
     "output_type": "execute_result"
    }
   ],
   "source": [
    "print(track[:4])\n",
    "main_df.shape"
   ]
  },
  {
   "cell_type": "code",
   "execution_count": 15,
   "id": "0f3bd835",
   "metadata": {
    "execution": {
     "iopub.execute_input": "2024-08-13T01:13:00.079623Z",
     "iopub.status.busy": "2024-08-13T01:13:00.079189Z",
     "iopub.status.idle": "2024-08-13T01:13:00.087490Z",
     "shell.execute_reply": "2024-08-13T01:13:00.086074Z"
    },
    "papermill": {
     "duration": 0.07772,
     "end_time": "2024-08-13T01:13:00.091055",
     "exception": false,
     "start_time": "2024-08-13T01:13:00.013335",
     "status": "completed"
    },
    "tags": []
   },
   "outputs": [
    {
     "name": "stdout",
     "output_type": "stream",
     "text": [
      "[4752, 1639, 257, 1710]\n"
     ]
    },
    {
     "data": {
      "text/plain": [
       "(2101365, 4)"
      ]
     },
     "execution_count": 15,
     "metadata": {},
     "output_type": "execute_result"
    }
   ],
   "source": [
    "print(track[:4])\n",
    "main_df.shape"
   ]
  },
  {
   "cell_type": "code",
   "execution_count": 16,
   "id": "44a98f53",
   "metadata": {
    "execution": {
     "iopub.execute_input": "2024-08-13T01:13:00.218839Z",
     "iopub.status.busy": "2024-08-13T01:13:00.217640Z",
     "iopub.status.idle": "2024-08-13T01:13:00.231647Z",
     "shell.execute_reply": "2024-08-13T01:13:00.230500Z"
    },
    "papermill": {
     "duration": 0.078646,
     "end_time": "2024-08-13T01:13:00.234156",
     "exception": false,
     "start_time": "2024-08-13T01:13:00.155510",
     "status": "completed"
    },
    "tags": []
   },
   "outputs": [
    {
     "data": {
      "text/html": [
       "<div>\n",
       "<style scoped>\n",
       "    .dataframe tbody tr th:only-of-type {\n",
       "        vertical-align: middle;\n",
       "    }\n",
       "\n",
       "    .dataframe tbody tr th {\n",
       "        vertical-align: top;\n",
       "    }\n",
       "\n",
       "    .dataframe thead th {\n",
       "        text-align: right;\n",
       "    }\n",
       "</style>\n",
       "<table border=\"1\" class=\"dataframe\">\n",
       "  <thead>\n",
       "    <tr style=\"text-align: right;\">\n",
       "      <th></th>\n",
       "      <th>datetime</th>\n",
       "      <th>author</th>\n",
       "      <th>message</th>\n",
       "      <th>video_id</th>\n",
       "    </tr>\n",
       "  </thead>\n",
       "  <tbody>\n",
       "    <tr>\n",
       "      <th>0</th>\n",
       "      <td>2024-07-30 16:52:11</td>\n",
       "      <td>MUSTAFA KARADAĞ</td>\n",
       "      <td>vural abii</td>\n",
       "      <td>u8Sp6_DeXWA</td>\n",
       "    </tr>\n",
       "    <tr>\n",
       "      <th>1</th>\n",
       "      <td>2024-07-30 16:52:13</td>\n",
       "      <td>jeonggukkkie</td>\n",
       "      <td>evet kria dogru diosa mükemmel takim olur baya</td>\n",
       "      <td>u8Sp6_DeXWA</td>\n",
       "    </tr>\n",
       "    <tr>\n",
       "      <th>2</th>\n",
       "      <td>2024-07-30 16:52:14</td>\n",
       "      <td>MUSTAFA KARADAĞ</td>\n",
       "      <td>vural abii</td>\n",
       "      <td>u8Sp6_DeXWA</td>\n",
       "    </tr>\n",
       "  </tbody>\n",
       "</table>\n",
       "</div>"
      ],
      "text/plain": [
       "              datetime           author  \\\n",
       "0  2024-07-30 16:52:11  MUSTAFA KARADAĞ   \n",
       "1  2024-07-30 16:52:13     jeonggukkkie   \n",
       "2  2024-07-30 16:52:14  MUSTAFA KARADAĞ   \n",
       "\n",
       "                                          message     video_id  \n",
       "0                                      vural abii  u8Sp6_DeXWA  \n",
       "1  evet kria dogru diosa mükemmel takim olur baya  u8Sp6_DeXWA  \n",
       "2                                      vural abii  u8Sp6_DeXWA  "
      ]
     },
     "execution_count": 16,
     "metadata": {},
     "output_type": "execute_result"
    }
   ],
   "source": [
    "main_df.head(3)"
   ]
  },
  {
   "cell_type": "code",
   "execution_count": 17,
   "id": "bc70f22a",
   "metadata": {
    "execution": {
     "iopub.execute_input": "2024-08-13T01:13:00.356910Z",
     "iopub.status.busy": "2024-08-13T01:13:00.355591Z",
     "iopub.status.idle": "2024-08-13T01:13:00.364036Z",
     "shell.execute_reply": "2024-08-13T01:13:00.362702Z"
    },
    "papermill": {
     "duration": 0.072109,
     "end_time": "2024-08-13T01:13:00.366685",
     "exception": false,
     "start_time": "2024-08-13T01:13:00.294576",
     "status": "completed"
    },
    "tags": []
   },
   "outputs": [
    {
     "data": {
      "text/plain": [
       "(2101365, 4)"
      ]
     },
     "execution_count": 17,
     "metadata": {},
     "output_type": "execute_result"
    }
   ],
   "source": [
    "# main_df.drop_duplicates(inplace=True)\n",
    "main_df.shape"
   ]
  },
  {
   "cell_type": "code",
   "execution_count": 18,
   "id": "2ab855d5",
   "metadata": {
    "execution": {
     "iopub.execute_input": "2024-08-13T01:13:00.492567Z",
     "iopub.status.busy": "2024-08-13T01:13:00.492107Z",
     "iopub.status.idle": "2024-08-13T01:13:01.578855Z",
     "shell.execute_reply": "2024-08-13T01:13:01.577635Z"
    },
    "papermill": {
     "duration": 1.152841,
     "end_time": "2024-08-13T01:13:01.581717",
     "exception": false,
     "start_time": "2024-08-13T01:13:00.428876",
     "status": "completed"
    },
    "tags": []
   },
   "outputs": [
    {
     "data": {
      "text/plain": [
       "datetime    0\n",
       "author      0\n",
       "message     0\n",
       "video_id    0\n",
       "dtype: int64"
      ]
     },
     "execution_count": 18,
     "metadata": {},
     "output_type": "execute_result"
    }
   ],
   "source": [
    "main_df.isna().sum()"
   ]
  },
  {
   "cell_type": "markdown",
   "id": "f3364978",
   "metadata": {
    "papermill": {
     "duration": 0.06102,
     "end_time": "2024-08-13T01:13:01.706000",
     "exception": false,
     "start_time": "2024-08-13T01:13:01.644980",
     "status": "completed"
    },
    "tags": []
   },
   "source": [
    "## save the df"
   ]
  },
  {
   "cell_type": "code",
   "execution_count": 19,
   "id": "efe3f221",
   "metadata": {
    "execution": {
     "iopub.execute_input": "2024-08-13T01:13:01.834309Z",
     "iopub.status.busy": "2024-08-13T01:13:01.833929Z",
     "iopub.status.idle": "2024-08-13T01:13:07.262710Z",
     "shell.execute_reply": "2024-08-13T01:13:07.261588Z"
    },
    "papermill": {
     "duration": 5.497133,
     "end_time": "2024-08-13T01:13:07.265368",
     "exception": false,
     "start_time": "2024-08-13T01:13:01.768235",
     "status": "completed"
    },
    "tags": []
   },
   "outputs": [
    {
     "data": {
      "text/html": [
       "<div>\n",
       "<style scoped>\n",
       "    .dataframe tbody tr th:only-of-type {\n",
       "        vertical-align: middle;\n",
       "    }\n",
       "\n",
       "    .dataframe tbody tr th {\n",
       "        vertical-align: top;\n",
       "    }\n",
       "\n",
       "    .dataframe thead th {\n",
       "        text-align: right;\n",
       "    }\n",
       "</style>\n",
       "<table border=\"1\" class=\"dataframe\">\n",
       "  <thead>\n",
       "    <tr style=\"text-align: right;\">\n",
       "      <th></th>\n",
       "      <th>datetime</th>\n",
       "      <th>author</th>\n",
       "      <th>message</th>\n",
       "      <th>video_id</th>\n",
       "    </tr>\n",
       "  </thead>\n",
       "  <tbody>\n",
       "    <tr>\n",
       "      <th>0</th>\n",
       "      <td>2024-07-30 16:52:11</td>\n",
       "      <td>MUSTAFA KARADAĞ</td>\n",
       "      <td>vural abii</td>\n",
       "      <td>u8Sp6_DeXWA</td>\n",
       "    </tr>\n",
       "    <tr>\n",
       "      <th>1</th>\n",
       "      <td>2024-07-30 16:52:13</td>\n",
       "      <td>jeonggukkkie</td>\n",
       "      <td>evet kria dogru diosa mükemmel takim olur baya</td>\n",
       "      <td>u8Sp6_DeXWA</td>\n",
       "    </tr>\n",
       "    <tr>\n",
       "      <th>2</th>\n",
       "      <td>2024-07-30 16:52:14</td>\n",
       "      <td>MUSTAFA KARADAĞ</td>\n",
       "      <td>vural abii</td>\n",
       "      <td>u8Sp6_DeXWA</td>\n",
       "    </tr>\n",
       "    <tr>\n",
       "      <th>3</th>\n",
       "      <td>2024-07-30 16:52:21</td>\n",
       "      <td>MUSTAFA KARADAĞ</td>\n",
       "      <td>vural abii</td>\n",
       "      <td>u8Sp6_DeXWA</td>\n",
       "    </tr>\n",
       "  </tbody>\n",
       "</table>\n",
       "</div>"
      ],
      "text/plain": [
       "              datetime           author  \\\n",
       "0  2024-07-30 16:52:11  MUSTAFA KARADAĞ   \n",
       "1  2024-07-30 16:52:13     jeonggukkkie   \n",
       "2  2024-07-30 16:52:14  MUSTAFA KARADAĞ   \n",
       "3  2024-07-30 16:52:21  MUSTAFA KARADAĞ   \n",
       "\n",
       "                                          message     video_id  \n",
       "0                                      vural abii  u8Sp6_DeXWA  \n",
       "1  evet kria dogru diosa mükemmel takim olur baya  u8Sp6_DeXWA  \n",
       "2                                      vural abii  u8Sp6_DeXWA  \n",
       "3                                      vural abii  u8Sp6_DeXWA  "
      ]
     },
     "execution_count": 19,
     "metadata": {},
     "output_type": "execute_result"
    }
   ],
   "source": [
    "main_df.to_parquet('turkey_livechat_data.parquet', index=False)\n",
    "\n",
    "df = pd.read_parquet('/kaggle/working/turkey_livechat_data.parquet')\n",
    "df.head(4)"
   ]
  },
  {
   "cell_type": "code",
   "execution_count": 20,
   "id": "074e312b",
   "metadata": {
    "execution": {
     "iopub.execute_input": "2024-08-13T01:13:07.387665Z",
     "iopub.status.busy": "2024-08-13T01:13:07.387258Z",
     "iopub.status.idle": "2024-08-13T01:13:07.394739Z",
     "shell.execute_reply": "2024-08-13T01:13:07.393652Z"
    },
    "papermill": {
     "duration": 0.071776,
     "end_time": "2024-08-13T01:13:07.397222",
     "exception": false,
     "start_time": "2024-08-13T01:13:07.325446",
     "status": "completed"
    },
    "tags": []
   },
   "outputs": [
    {
     "data": {
      "text/plain": [
       "(2101365, 4)"
      ]
     },
     "execution_count": 20,
     "metadata": {},
     "output_type": "execute_result"
    }
   ],
   "source": [
    "df.shape"
   ]
  },
  {
   "cell_type": "markdown",
   "id": "1805f9da",
   "metadata": {
    "papermill": {
     "duration": 0.061506,
     "end_time": "2024-08-13T01:13:07.519651",
     "exception": false,
     "start_time": "2024-08-13T01:13:07.458145",
     "status": "completed"
    },
    "tags": []
   },
   "source": [
    "### Check for `null values`"
   ]
  },
  {
   "cell_type": "code",
   "execution_count": 21,
   "id": "4a152c63",
   "metadata": {
    "execution": {
     "iopub.execute_input": "2024-08-13T01:13:07.649185Z",
     "iopub.status.busy": "2024-08-13T01:13:07.648743Z",
     "iopub.status.idle": "2024-08-13T01:13:08.677968Z",
     "shell.execute_reply": "2024-08-13T01:13:08.672921Z"
    },
    "papermill": {
     "duration": 1.097093,
     "end_time": "2024-08-13T01:13:08.682127",
     "exception": false,
     "start_time": "2024-08-13T01:13:07.585034",
     "status": "completed"
    },
    "tags": []
   },
   "outputs": [
    {
     "data": {
      "text/plain": [
       "datetime    0\n",
       "author      0\n",
       "message     0\n",
       "video_id    0\n",
       "dtype: int64"
      ]
     },
     "execution_count": 21,
     "metadata": {},
     "output_type": "execute_result"
    }
   ],
   "source": [
    "df.isna().sum()"
   ]
  },
  {
   "cell_type": "markdown",
   "id": "c91fd2d2",
   "metadata": {
    "papermill": {
     "duration": 0.063801,
     "end_time": "2024-08-13T01:13:08.833653",
     "exception": false,
     "start_time": "2024-08-13T01:13:08.769852",
     "status": "completed"
    },
    "tags": []
   },
   "source": [
    "## OG code by oitik"
   ]
  },
  {
   "cell_type": "code",
   "execution_count": 22,
   "id": "c31823d7",
   "metadata": {
    "execution": {
     "iopub.execute_input": "2024-08-13T01:13:08.961506Z",
     "iopub.status.busy": "2024-08-13T01:13:08.960961Z",
     "iopub.status.idle": "2024-08-13T01:13:08.967831Z",
     "shell.execute_reply": "2024-08-13T01:13:08.966537Z"
    },
    "papermill": {
     "duration": 0.075443,
     "end_time": "2024-08-13T01:13:08.971288",
     "exception": false,
     "start_time": "2024-08-13T01:13:08.895845",
     "status": "completed"
    },
    "tags": []
   },
   "outputs": [],
   "source": [
    "# start_time = time.time()\n",
    "# vid = \"EoQjiNm7oCw\"\n",
    "# # vid = 'xUSlfWh7Pak'\n",
    "\n",
    "# chat = pytchat.create(video_id = vid)\n",
    "\n",
    "# while chat.is_alive():\n",
    "#     for c in chat.get().items:\n",
    "# #         print(f\"{c.datetime} [{c.author.name}]- {c.message}\")\n",
    "#         configs.datetimes.append(c.datetime[:10])\n",
    "#         configs.authors.append(c.author.name)\n",
    "#         configs.messages.append(c.message)\n",
    "\n",
    "# #     # Emergency Break\n",
    "# #     if time.time() - start_time >= configs.patience:\n",
    "# #         break "
   ]
  },
  {
   "cell_type": "code",
   "execution_count": 23,
   "id": "1d239b1f",
   "metadata": {
    "execution": {
     "iopub.execute_input": "2024-08-13T01:13:09.107702Z",
     "iopub.status.busy": "2024-08-13T01:13:09.106579Z",
     "iopub.status.idle": "2024-08-13T01:13:09.112004Z",
     "shell.execute_reply": "2024-08-13T01:13:09.110748Z"
    },
    "papermill": {
     "duration": 0.071876,
     "end_time": "2024-08-13T01:13:09.114898",
     "exception": false,
     "start_time": "2024-08-13T01:13:09.043022",
     "status": "completed"
    },
    "tags": []
   },
   "outputs": [],
   "source": [
    "# data = {\n",
    "#     'datetime': configs.datetimes,\n",
    "#     'author': configs.authors,\n",
    "#     'message': configs.messages\n",
    "# }\n",
    "\n",
    "# df = pd.DataFrame(data)\n",
    "# df.head()"
   ]
  },
  {
   "cell_type": "code",
   "execution_count": 24,
   "id": "321b2fc4",
   "metadata": {
    "execution": {
     "iopub.execute_input": "2024-08-13T01:13:09.242430Z",
     "iopub.status.busy": "2024-08-13T01:13:09.241933Z",
     "iopub.status.idle": "2024-08-13T01:13:09.247405Z",
     "shell.execute_reply": "2024-08-13T01:13:09.246170Z"
    },
    "papermill": {
     "duration": 0.070826,
     "end_time": "2024-08-13T01:13:09.249971",
     "exception": false,
     "start_time": "2024-08-13T01:13:09.179145",
     "status": "completed"
    },
    "tags": []
   },
   "outputs": [],
   "source": [
    "# df.shape"
   ]
  },
  {
   "cell_type": "code",
   "execution_count": 25,
   "id": "baf563aa",
   "metadata": {
    "execution": {
     "iopub.execute_input": "2024-08-13T01:13:09.374267Z",
     "iopub.status.busy": "2024-08-13T01:13:09.373760Z",
     "iopub.status.idle": "2024-08-13T01:13:09.379606Z",
     "shell.execute_reply": "2024-08-13T01:13:09.378473Z"
    },
    "papermill": {
     "duration": 0.070984,
     "end_time": "2024-08-13T01:13:09.382458",
     "exception": false,
     "start_time": "2024-08-13T01:13:09.311474",
     "status": "completed"
    },
    "tags": []
   },
   "outputs": [],
   "source": [
    "# df.to_csv('esports_data.csv', index=False)\n",
    "\n",
    "# df = pd.read_csv('/kaggle/working/esports_data.csv')\n",
    "# df.head(4)"
   ]
  },
  {
   "cell_type": "code",
   "execution_count": 26,
   "id": "3436c5dc",
   "metadata": {
    "execution": {
     "iopub.execute_input": "2024-08-13T01:13:09.515023Z",
     "iopub.status.busy": "2024-08-13T01:13:09.513989Z",
     "iopub.status.idle": "2024-08-13T01:13:09.519285Z",
     "shell.execute_reply": "2024-08-13T01:13:09.518112Z"
    },
    "papermill": {
     "duration": 0.073164,
     "end_time": "2024-08-13T01:13:09.521837",
     "exception": false,
     "start_time": "2024-08-13T01:13:09.448673",
     "status": "completed"
    },
    "tags": []
   },
   "outputs": [],
   "source": [
    "# df.dtypes"
   ]
  },
  {
   "cell_type": "code",
   "execution_count": null,
   "id": "848f57ff",
   "metadata": {
    "papermill": {
     "duration": 0.061054,
     "end_time": "2024-08-13T01:13:09.644530",
     "exception": false,
     "start_time": "2024-08-13T01:13:09.583476",
     "status": "completed"
    },
    "tags": []
   },
   "outputs": [],
   "source": []
  },
  {
   "cell_type": "code",
   "execution_count": 27,
   "id": "a7b1c380",
   "metadata": {
    "execution": {
     "iopub.execute_input": "2024-08-13T01:13:09.769230Z",
     "iopub.status.busy": "2024-08-13T01:13:09.767740Z",
     "iopub.status.idle": "2024-08-13T01:13:09.773308Z",
     "shell.execute_reply": "2024-08-13T01:13:09.771995Z"
    },
    "papermill": {
     "duration": 0.069993,
     "end_time": "2024-08-13T01:13:09.776020",
     "exception": false,
     "start_time": "2024-08-13T01:13:09.706027",
     "status": "completed"
    },
    "tags": []
   },
   "outputs": [],
   "source": [
    "# df['length'] = [len(x.split()) for x in df['message']]\n",
    "\n",
    "# df.head(2)"
   ]
  },
  {
   "cell_type": "code",
   "execution_count": 28,
   "id": "a64b6a4a",
   "metadata": {
    "execution": {
     "iopub.execute_input": "2024-08-13T01:13:09.902485Z",
     "iopub.status.busy": "2024-08-13T01:13:09.902082Z",
     "iopub.status.idle": "2024-08-13T01:13:09.907022Z",
     "shell.execute_reply": "2024-08-13T01:13:09.905745Z"
    },
    "papermill": {
     "duration": 0.069333,
     "end_time": "2024-08-13T01:13:09.909593",
     "exception": false,
     "start_time": "2024-08-13T01:13:09.840260",
     "status": "completed"
    },
    "tags": []
   },
   "outputs": [],
   "source": [
    "# sorted_df = df.sort_values(by='length', ascending=False).reset_index(drop=True)\n",
    "# sorted_df.head(20)"
   ]
  },
  {
   "cell_type": "code",
   "execution_count": 29,
   "id": "821c6611",
   "metadata": {
    "execution": {
     "iopub.execute_input": "2024-08-13T01:13:10.037011Z",
     "iopub.status.busy": "2024-08-13T01:13:10.036578Z",
     "iopub.status.idle": "2024-08-13T01:13:10.041903Z",
     "shell.execute_reply": "2024-08-13T01:13:10.040619Z"
    },
    "papermill": {
     "duration": 0.072452,
     "end_time": "2024-08-13T01:13:10.044436",
     "exception": false,
     "start_time": "2024-08-13T01:13:09.971984",
     "status": "completed"
    },
    "tags": []
   },
   "outputs": [],
   "source": [
    "# sorted_df['message'][50]"
   ]
  },
  {
   "cell_type": "code",
   "execution_count": 30,
   "id": "85289065",
   "metadata": {
    "execution": {
     "iopub.execute_input": "2024-08-13T01:13:10.171427Z",
     "iopub.status.busy": "2024-08-13T01:13:10.171030Z",
     "iopub.status.idle": "2024-08-13T01:13:10.176554Z",
     "shell.execute_reply": "2024-08-13T01:13:10.175272Z"
    },
    "papermill": {
     "duration": 0.072797,
     "end_time": "2024-08-13T01:13:10.179901",
     "exception": false,
     "start_time": "2024-08-13T01:13:10.107104",
     "status": "completed"
    },
    "tags": []
   },
   "outputs": [],
   "source": [
    "# import pytchat\n",
    "# import time\n",
    "\n",
    "# start_time = time.time()\n",
    "\n",
    "\n",
    "# chat = pytchat.create(video_id='yuv1qvQywMU')\n",
    "\n",
    "# while chat.is_alive():\n",
    "# #     print(chat.get().json())\n",
    "# #     time.sleep(5)\n",
    "    \n",
    "#     # Each chat item can also be output in JSON format.\n",
    "#     for c in chat.get().items:\n",
    "#         print(f\"{c.datetime} [{c.author.name}]- {c.message}\")\n",
    "# #         print(c.json())\n",
    "\n",
    "#     # Emergency Break\n",
    "#     if time.time() - start_time >= 1:\n",
    "#         break  "
   ]
  },
  {
   "cell_type": "markdown",
   "id": "7671f847",
   "metadata": {
    "papermill": {
     "duration": 0.063919,
     "end_time": "2024-08-13T01:13:10.308652",
     "exception": false,
     "start_time": "2024-08-13T01:13:10.244733",
     "status": "completed"
    },
    "tags": []
   },
   "source": [
    "# `the end`"
   ]
  },
  {
   "cell_type": "code",
   "execution_count": null,
   "id": "7a3c513d",
   "metadata": {
    "papermill": {
     "duration": 0.063073,
     "end_time": "2024-08-13T01:13:10.433755",
     "exception": false,
     "start_time": "2024-08-13T01:13:10.370682",
     "status": "completed"
    },
    "tags": []
   },
   "outputs": [],
   "source": []
  }
 ],
 "metadata": {
  "kaggle": {
   "accelerator": "none",
   "dataSources": [
    {
     "datasetId": 5528375,
     "sourceId": 9151912,
     "sourceType": "datasetVersion"
    }
   ],
   "dockerImageVersionId": 30746,
   "isGpuEnabled": false,
   "isInternetEnabled": true,
   "language": "python",
   "sourceType": "notebook"
  },
  "kernelspec": {
   "display_name": "Python 3",
   "language": "python",
   "name": "python3"
  },
  "language_info": {
   "codemirror_mode": {
    "name": "ipython",
    "version": 3
   },
   "file_extension": ".py",
   "mimetype": "text/x-python",
   "name": "python",
   "nbconvert_exporter": "python",
   "pygments_lexer": "ipython3",
   "version": "3.10.13"
  },
  "papermill": {
   "default_parameters": {},
   "duration": 6221.874091,
   "end_time": "2024-08-13T01:13:12.140449",
   "environment_variables": {},
   "exception": null,
   "input_path": "__notebook__.ipynb",
   "output_path": "__notebook__.ipynb",
   "parameters": {},
   "start_time": "2024-08-12T23:29:30.266358",
   "version": "2.5.0"
  }
 },
 "nbformat": 4,
 "nbformat_minor": 5
}
