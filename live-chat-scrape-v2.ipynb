{
 "cells": [
  {
   "cell_type": "code",
   "execution_count": 1,
   "id": "3c98aa6f",
   "metadata": {
    "_cell_guid": "b1076dfc-b9ad-4769-8c92-a6c4dae69d19",
    "_uuid": "8f2839f25d086af736a60e9eeb907d3b93b6e0e5",
    "execution": {
     "iopub.execute_input": "2024-08-11T15:34:33.051859Z",
     "iopub.status.busy": "2024-08-11T15:34:33.050480Z",
     "iopub.status.idle": "2024-08-11T15:34:34.028597Z",
     "shell.execute_reply": "2024-08-11T15:34:34.027334Z"
    },
    "papermill": {
     "duration": 0.993955,
     "end_time": "2024-08-11T15:34:34.031660",
     "exception": false,
     "start_time": "2024-08-11T15:34:33.037705",
     "status": "completed"
    },
    "tags": []
   },
   "outputs": [],
   "source": [
    "import numpy as np\n",
    "import pandas as pd\n",
    "from tqdm import tqdm"
   ]
  },
  {
   "cell_type": "code",
   "execution_count": 2,
   "id": "110ef59d",
   "metadata": {
    "execution": {
     "iopub.execute_input": "2024-08-11T15:34:34.055387Z",
     "iopub.status.busy": "2024-08-11T15:34:34.054823Z",
     "iopub.status.idle": "2024-08-11T15:34:51.522349Z",
     "shell.execute_reply": "2024-08-11T15:34:51.520944Z"
    },
    "papermill": {
     "duration": 17.482632,
     "end_time": "2024-08-11T15:34:51.525363",
     "exception": false,
     "start_time": "2024-08-11T15:34:34.042731",
     "status": "completed"
    },
    "tags": []
   },
   "outputs": [
    {
     "name": "stdout",
     "output_type": "stream",
     "text": [
      "Collecting pytchat\r\n",
      "  Downloading pytchat-0.5.5-py3-none-any.whl.metadata (4.7 kB)\r\n",
      "Requirement already satisfied: httpx[http2] in /opt/conda/lib/python3.10/site-packages (from pytchat) (0.27.0)\r\n",
      "Requirement already satisfied: anyio in /opt/conda/lib/python3.10/site-packages (from httpx[http2]->pytchat) (4.2.0)\r\n",
      "Requirement already satisfied: certifi in /opt/conda/lib/python3.10/site-packages (from httpx[http2]->pytchat) (2024.7.4)\r\n",
      "Requirement already satisfied: httpcore==1.* in /opt/conda/lib/python3.10/site-packages (from httpx[http2]->pytchat) (1.0.5)\r\n",
      "Requirement already satisfied: idna in /opt/conda/lib/python3.10/site-packages (from httpx[http2]->pytchat) (3.6)\r\n",
      "Requirement already satisfied: sniffio in /opt/conda/lib/python3.10/site-packages (from httpx[http2]->pytchat) (1.3.0)\r\n",
      "Collecting h2<5,>=3 (from httpx[http2]->pytchat)\r\n",
      "  Downloading h2-4.1.0-py3-none-any.whl.metadata (3.6 kB)\r\n",
      "Requirement already satisfied: h11<0.15,>=0.13 in /opt/conda/lib/python3.10/site-packages (from httpcore==1.*->httpx[http2]->pytchat) (0.14.0)\r\n",
      "Collecting hyperframe<7,>=6.0 (from h2<5,>=3->httpx[http2]->pytchat)\r\n",
      "  Downloading hyperframe-6.0.1-py3-none-any.whl.metadata (2.7 kB)\r\n",
      "Collecting hpack<5,>=4.0 (from h2<5,>=3->httpx[http2]->pytchat)\r\n",
      "  Downloading hpack-4.0.0-py3-none-any.whl.metadata (2.5 kB)\r\n",
      "Requirement already satisfied: exceptiongroup>=1.0.2 in /opt/conda/lib/python3.10/site-packages (from anyio->httpx[http2]->pytchat) (1.2.0)\r\n",
      "Requirement already satisfied: typing-extensions>=4.1 in /opt/conda/lib/python3.10/site-packages (from anyio->httpx[http2]->pytchat) (4.9.0)\r\n",
      "Downloading pytchat-0.5.5-py3-none-any.whl (69 kB)\r\n",
      "\u001b[2K   \u001b[90m━━━━━━━━━━━━━━━━━━━━━━━━━━━━━━━━━━━━━━━━\u001b[0m \u001b[32m69.5/69.5 kB\u001b[0m \u001b[31m2.5 MB/s\u001b[0m eta \u001b[36m0:00:00\u001b[0m\r\n",
      "\u001b[?25hDownloading h2-4.1.0-py3-none-any.whl (57 kB)\r\n",
      "\u001b[2K   \u001b[90m━━━━━━━━━━━━━━━━━━━━━━━━━━━━━━━━━━━━━━━━\u001b[0m \u001b[32m57.5/57.5 kB\u001b[0m \u001b[31m3.3 MB/s\u001b[0m eta \u001b[36m0:00:00\u001b[0m\r\n",
      "\u001b[?25hDownloading hpack-4.0.0-py3-none-any.whl (32 kB)\r\n",
      "Downloading hyperframe-6.0.1-py3-none-any.whl (12 kB)\r\n",
      "Installing collected packages: hyperframe, hpack, h2, pytchat\r\n",
      "Successfully installed h2-4.1.0 hpack-4.0.0 hyperframe-6.0.1 pytchat-0.5.5\r\n"
     ]
    }
   ],
   "source": [
    "!pip install pytchat"
   ]
  },
  {
   "cell_type": "code",
   "execution_count": 3,
   "id": "c1e49c00",
   "metadata": {
    "execution": {
     "iopub.execute_input": "2024-08-11T15:34:51.551961Z",
     "iopub.status.busy": "2024-08-11T15:34:51.551487Z",
     "iopub.status.idle": "2024-08-11T15:34:51.850159Z",
     "shell.execute_reply": "2024-08-11T15:34:51.849053Z"
    },
    "papermill": {
     "duration": 0.315432,
     "end_time": "2024-08-11T15:34:51.853312",
     "exception": false,
     "start_time": "2024-08-11T15:34:51.537880",
     "status": "completed"
    },
    "tags": []
   },
   "outputs": [],
   "source": [
    "import pytchat\n",
    "import time"
   ]
  },
  {
   "cell_type": "code",
   "execution_count": 4,
   "id": "cdad9e8c",
   "metadata": {
    "execution": {
     "iopub.execute_input": "2024-08-11T15:34:51.878714Z",
     "iopub.status.busy": "2024-08-11T15:34:51.878117Z",
     "iopub.status.idle": "2024-08-11T15:34:51.892297Z",
     "shell.execute_reply": "2024-08-11T15:34:51.890818Z"
    },
    "papermill": {
     "duration": 0.030238,
     "end_time": "2024-08-11T15:34:51.895213",
     "exception": false,
     "start_time": "2024-08-11T15:34:51.864975",
     "status": "completed"
    },
    "tags": []
   },
   "outputs": [],
   "source": [
    "import time\n",
    "\n",
    "class ScraperConfig:\n",
    "    \"\"\"\n",
    "    Configuration class for a web scraper.\n",
    "\n",
    "    Attributes:\n",
    "        patience (int): Time to wait between scraping attempts in seconds (default: 10).\n",
    "        datetimes (list): List to store scraped datetimes (empty by default).\n",
    "        authors (list): List to store scraped authors (empty by default).\n",
    "        messages (list): List to store scraped messages (empty by default).\n",
    "    \"\"\"\n",
    "\n",
    "    def __init__(self, patience=10):\n",
    "        \"\"\"\n",
    "        Initializes a ScraperConfig object with the specified patience.\n",
    "\n",
    "        Args:\n",
    "            patience (int, optional): Time to wait between scraping attempts in seconds. Defaults to 10.\n",
    "        \"\"\"\n",
    "\n",
    "        self.patience = patience\n",
    "        self.datetimes = []\n",
    "        self.authors = []\n",
    "        self.messages = []\n",
    "\n",
    "\n",
    "    def scrape(self, vid):\n",
    "        \"\"\"\n",
    "        Scrapes data from the youtube comment.\n",
    "\n",
    "        This placeholder method illustrates the general structure for scraping logic.\n",
    "        The actual implementation would involve making requests, parsing responses, and\n",
    "        storing data in self.datetimes, self.authors, and self.messages.\n",
    "\n",
    "        Raises:\n",
    "            Exception: If an error occurs during scraping.\n",
    "        \"\"\"\n",
    "\n",
    "        try:\n",
    "            start_time = time.time()\n",
    "\n",
    "            chat = pytchat.create(video_id = vid)\n",
    "\n",
    "            while chat.is_alive():\n",
    "                for c in chat.get().items:\n",
    "            #         print(f\"{c.datetime} [{c.author.name}]- {c.message}\")\n",
    "                    self.datetimes.append(c.datetime)\n",
    "                    self.authors.append(c.author.name)\n",
    "                    self.messages.append(c.message)\n",
    "\n",
    "                # Emergency Break\n",
    "#                 if time.time() - start_time >= self.patience:\n",
    "#                     break \n",
    "                    \n",
    "        except Exception as e:\n",
    "            print(f\"Error during scraping: {e}\")\n",
    "            raise  # Re-raise the exception for potential handling outside the class\n",
    "            \n",
    "    def make_df(self):\n",
    "        '''\n",
    "        Make a df\n",
    "        '''\n",
    "        data = {\n",
    "            'datetime': self.datetimes,\n",
    "            'author': self.authors,\n",
    "            'message': self.messages,\n",
    "        }\n",
    "\n",
    "        df = pd.DataFrame(data)\n",
    "#         print(f'Length if this dataframe is {len(df)}')\n",
    "        return df"
   ]
  },
  {
   "cell_type": "code",
   "execution_count": 5,
   "id": "82d1c585",
   "metadata": {
    "execution": {
     "iopub.execute_input": "2024-08-11T15:34:51.920291Z",
     "iopub.status.busy": "2024-08-11T15:34:51.919877Z",
     "iopub.status.idle": "2024-08-11T15:34:51.929410Z",
     "shell.execute_reply": "2024-08-11T15:34:51.928214Z"
    },
    "papermill": {
     "duration": 0.025367,
     "end_time": "2024-08-11T15:34:51.932131",
     "exception": false,
     "start_time": "2024-08-11T15:34:51.906764",
     "status": "completed"
    },
    "tags": []
   },
   "outputs": [
    {
     "data": {
      "text/plain": [
       "([], 10)"
      ]
     },
     "execution_count": 5,
     "metadata": {},
     "output_type": "execute_result"
    }
   ],
   "source": [
    "configs = ScraperConfig(patience=10) \n",
    "configs.datetimes, configs.patience"
   ]
  },
  {
   "cell_type": "code",
   "execution_count": 6,
   "id": "57f70e68",
   "metadata": {
    "execution": {
     "iopub.execute_input": "2024-08-11T15:34:51.956912Z",
     "iopub.status.busy": "2024-08-11T15:34:51.956525Z",
     "iopub.status.idle": "2024-08-11T15:35:07.995585Z",
     "shell.execute_reply": "2024-08-11T15:35:07.994352Z"
    },
    "papermill": {
     "duration": 16.054661,
     "end_time": "2024-08-11T15:35:07.998439",
     "exception": false,
     "start_time": "2024-08-11T15:34:51.943778",
     "status": "completed"
    },
    "tags": []
   },
   "outputs": [
    {
     "data": {
      "text/html": [
       "<div>\n",
       "<style scoped>\n",
       "    .dataframe tbody tr th:only-of-type {\n",
       "        vertical-align: middle;\n",
       "    }\n",
       "\n",
       "    .dataframe tbody tr th {\n",
       "        vertical-align: top;\n",
       "    }\n",
       "\n",
       "    .dataframe thead th {\n",
       "        text-align: right;\n",
       "    }\n",
       "</style>\n",
       "<table border=\"1\" class=\"dataframe\">\n",
       "  <thead>\n",
       "    <tr style=\"text-align: right;\">\n",
       "      <th></th>\n",
       "      <th>datetime</th>\n",
       "      <th>author</th>\n",
       "      <th>message</th>\n",
       "    </tr>\n",
       "  </thead>\n",
       "  <tbody>\n",
       "    <tr>\n",
       "      <th>0</th>\n",
       "      <td>2024-06-30 04:55:16</td>\n",
       "      <td>ZAIN GAMING</td>\n",
       "      <td>iqoo Soule :rocket: :trophy:</td>\n",
       "    </tr>\n",
       "    <tr>\n",
       "      <th>1</th>\n",
       "      <td>2024-06-30 05:17:31</td>\n",
       "      <td>sangram</td>\n",
       "      <td>kya robbed bhai btayega</td>\n",
       "    </tr>\n",
       "    <tr>\n",
       "      <th>2</th>\n",
       "      <td>2024-06-30 05:28:58</td>\n",
       "      <td>Elamparthi</td>\n",
       "      <td>jokers :face_with_rolling_eyes:</td>\n",
       "    </tr>\n",
       "    <tr>\n",
       "      <th>3</th>\n",
       "      <td>2024-06-30 05:40:00</td>\n",
       "      <td>DARINDA GAMER</td>\n",
       "      <td>ajj Mera team jitega :upside_down_face::smilin...</td>\n",
       "    </tr>\n",
       "    <tr>\n",
       "      <th>4</th>\n",
       "      <td>2024-06-30 05:50:19</td>\n",
       "      <td>ƤŁΔ¥ βØ¥</td>\n",
       "      <td>this is Tamil chat :rolling_on_the_floor_laugh...</td>\n",
       "    </tr>\n",
       "  </tbody>\n",
       "</table>\n",
       "</div>"
      ],
      "text/plain": [
       "              datetime         author  \\\n",
       "0  2024-06-30 04:55:16    ZAIN GAMING   \n",
       "1  2024-06-30 05:17:31       sangram    \n",
       "2  2024-06-30 05:28:58    Elamparthi    \n",
       "3  2024-06-30 05:40:00  DARINDA GAMER   \n",
       "4  2024-06-30 05:50:19       ƤŁΔ¥ βØ¥   \n",
       "\n",
       "                                             message  \n",
       "0                       iqoo Soule :rocket: :trophy:  \n",
       "1                            kya robbed bhai btayega  \n",
       "2                    jokers :face_with_rolling_eyes:  \n",
       "3  ajj Mera team jitega :upside_down_face::smilin...  \n",
       "4  this is Tamil chat :rolling_on_the_floor_laugh...  "
      ]
     },
     "execution_count": 6,
     "metadata": {},
     "output_type": "execute_result"
    }
   ],
   "source": [
    "configs.scrape(vid='4RZcdw-w2J0')\n",
    "df = configs.make_df()\n",
    "df.head()"
   ]
  },
  {
   "cell_type": "code",
   "execution_count": 7,
   "id": "f56746c1",
   "metadata": {
    "execution": {
     "iopub.execute_input": "2024-08-11T15:35:08.023891Z",
     "iopub.status.busy": "2024-08-11T15:35:08.023480Z",
     "iopub.status.idle": "2024-08-11T15:35:08.028176Z",
     "shell.execute_reply": "2024-08-11T15:35:08.027061Z"
    },
    "papermill": {
     "duration": 0.020154,
     "end_time": "2024-08-11T15:35:08.030577",
     "exception": false,
     "start_time": "2024-08-11T15:35:08.010423",
     "status": "completed"
    },
    "tags": []
   },
   "outputs": [],
   "source": [
    "# x = 10\n",
    "# df[x:x+10]"
   ]
  },
  {
   "cell_type": "code",
   "execution_count": 8,
   "id": "6d7b8a08",
   "metadata": {
    "execution": {
     "iopub.execute_input": "2024-08-11T15:35:08.056765Z",
     "iopub.status.busy": "2024-08-11T15:35:08.056373Z",
     "iopub.status.idle": "2024-08-11T15:35:08.068934Z",
     "shell.execute_reply": "2024-08-11T15:35:08.067769Z"
    },
    "papermill": {
     "duration": 0.028236,
     "end_time": "2024-08-11T15:35:08.071640",
     "exception": false,
     "start_time": "2024-08-11T15:35:08.043404",
     "status": "completed"
    },
    "tags": []
   },
   "outputs": [
    {
     "data": {
      "text/html": [
       "<div>\n",
       "<style scoped>\n",
       "    .dataframe tbody tr th:only-of-type {\n",
       "        vertical-align: middle;\n",
       "    }\n",
       "\n",
       "    .dataframe tbody tr th {\n",
       "        vertical-align: top;\n",
       "    }\n",
       "\n",
       "    .dataframe thead th {\n",
       "        text-align: right;\n",
       "    }\n",
       "</style>\n",
       "<table border=\"1\" class=\"dataframe\">\n",
       "  <thead>\n",
       "    <tr style=\"text-align: right;\">\n",
       "      <th></th>\n",
       "      <th>datetime</th>\n",
       "      <th>author</th>\n",
       "      <th>message</th>\n",
       "    </tr>\n",
       "  </thead>\n",
       "  <tbody>\n",
       "    <tr>\n",
       "      <th>9316</th>\n",
       "      <td>2024-06-30 13:55:54</td>\n",
       "      <td>Eren Giri</td>\n",
       "      <td>do you know top 10 team positions?</td>\n",
       "    </tr>\n",
       "    <tr>\n",
       "      <th>9317</th>\n",
       "      <td>2024-06-30 13:58:25</td>\n",
       "      <td>Redsign DEMI</td>\n",
       "      <td>Tl behind 4th position by 1 point</td>\n",
       "    </tr>\n",
       "    <tr>\n",
       "      <th>9318</th>\n",
       "      <td>2024-06-30 13:59:03</td>\n",
       "      <td>MOXLEY</td>\n",
       "      <td>3:crown: TAMIL TEAMS IN TOP10:red_heart::fire:</td>\n",
       "    </tr>\n",
       "    <tr>\n",
       "      <th>9319</th>\n",
       "      <td>2024-06-30 14:10:30</td>\n",
       "      <td>Nirmal</td>\n",
       "      <td>TT jokers.. from #2</td>\n",
       "    </tr>\n",
       "    <tr>\n",
       "      <th>9320</th>\n",
       "      <td>2024-06-30 14:13:03</td>\n",
       "      <td>Vivek Thangarasu</td>\n",
       "      <td>TT wins 8 lakhs money</td>\n",
       "    </tr>\n",
       "  </tbody>\n",
       "</table>\n",
       "</div>"
      ],
      "text/plain": [
       "                 datetime            author  \\\n",
       "9316  2024-06-30 13:55:54         Eren Giri   \n",
       "9317  2024-06-30 13:58:25      Redsign DEMI   \n",
       "9318  2024-06-30 13:59:03           MOXLEY    \n",
       "9319  2024-06-30 14:10:30            Nirmal   \n",
       "9320  2024-06-30 14:13:03  Vivek Thangarasu   \n",
       "\n",
       "                                             message  \n",
       "9316              do you know top 10 team positions?  \n",
       "9317               Tl behind 4th position by 1 point  \n",
       "9318  3:crown: TAMIL TEAMS IN TOP10:red_heart::fire:  \n",
       "9319                             TT jokers.. from #2  \n",
       "9320                           TT wins 8 lakhs money  "
      ]
     },
     "execution_count": 8,
     "metadata": {},
     "output_type": "execute_result"
    }
   ],
   "source": [
    "df.tail()"
   ]
  },
  {
   "cell_type": "code",
   "execution_count": 9,
   "id": "5c2a7641",
   "metadata": {
    "execution": {
     "iopub.execute_input": "2024-08-11T15:35:08.098127Z",
     "iopub.status.busy": "2024-08-11T15:35:08.097672Z",
     "iopub.status.idle": "2024-08-11T15:35:08.105052Z",
     "shell.execute_reply": "2024-08-11T15:35:08.103851Z"
    },
    "papermill": {
     "duration": 0.023797,
     "end_time": "2024-08-11T15:35:08.107539",
     "exception": false,
     "start_time": "2024-08-11T15:35:08.083742",
     "status": "completed"
    },
    "tags": []
   },
   "outputs": [
    {
     "data": {
      "text/plain": [
       "(9321, 3)"
      ]
     },
     "execution_count": 9,
     "metadata": {},
     "output_type": "execute_result"
    }
   ],
   "source": [
    "df.shape"
   ]
  },
  {
   "cell_type": "markdown",
   "id": "ebf465bf",
   "metadata": {
    "papermill": {
     "duration": 0.011752,
     "end_time": "2024-08-11T15:35:08.131538",
     "exception": false,
     "start_time": "2024-08-11T15:35:08.119786",
     "status": "completed"
    },
    "tags": []
   },
   "source": [
    "## Start with Bangladesh"
   ]
  },
  {
   "cell_type": "code",
   "execution_count": 10,
   "id": "ce6220e0",
   "metadata": {
    "execution": {
     "iopub.execute_input": "2024-08-11T15:35:08.158365Z",
     "iopub.status.busy": "2024-08-11T15:35:08.157318Z",
     "iopub.status.idle": "2024-08-11T15:35:08.204197Z",
     "shell.execute_reply": "2024-08-11T15:35:08.201504Z"
    },
    "papermill": {
     "duration": 0.063515,
     "end_time": "2024-08-11T15:35:08.207437",
     "exception": false,
     "start_time": "2024-08-11T15:35:08.143922",
     "status": "completed"
    },
    "tags": []
   },
   "outputs": [
    {
     "name": "stdout",
     "output_type": "stream",
     "text": [
      "length of the dataframe is 478\n"
     ]
    },
    {
     "data": {
      "text/html": [
       "<div>\n",
       "<style scoped>\n",
       "    .dataframe tbody tr th:only-of-type {\n",
       "        vertical-align: middle;\n",
       "    }\n",
       "\n",
       "    .dataframe tbody tr th {\n",
       "        vertical-align: top;\n",
       "    }\n",
       "\n",
       "    .dataframe thead th {\n",
       "        text-align: right;\n",
       "    }\n",
       "</style>\n",
       "<table border=\"1\" class=\"dataframe\">\n",
       "  <thead>\n",
       "    <tr style=\"text-align: right;\">\n",
       "      <th></th>\n",
       "      <th>video_id</th>\n",
       "      <th>title</th>\n",
       "      <th>view_count</th>\n",
       "      <th>like_count</th>\n",
       "      <th>comment_count</th>\n",
       "      <th>duration</th>\n",
       "      <th>duration_min</th>\n",
       "      <th>date</th>\n",
       "      <th>time</th>\n",
       "    </tr>\n",
       "  </thead>\n",
       "  <tbody>\n",
       "    <tr>\n",
       "      <th>0</th>\n",
       "      <td>oiqpD3C_dLo</td>\n",
       "      <td>[EN] 2022 PMWI Day 2 | Gamers8 | PUBG MOBILE W...</td>\n",
       "      <td>3287</td>\n",
       "      <td>163</td>\n",
       "      <td>0</td>\n",
       "      <td>PT5H57M7S</td>\n",
       "      <td>357.116667</td>\n",
       "      <td>2022-08-12</td>\n",
       "      <td>18:40:21</td>\n",
       "    </tr>\n",
       "    <tr>\n",
       "      <th>1</th>\n",
       "      <td>Txmh8ZHtNkM</td>\n",
       "      <td>[EN] PMGC 2022 Grand Finals | Day 1 | PUBG MOB...</td>\n",
       "      <td>8534</td>\n",
       "      <td>242</td>\n",
       "      <td>0</td>\n",
       "      <td>PT6H35M43S</td>\n",
       "      <td>395.716667</td>\n",
       "      <td>2023-01-06</td>\n",
       "      <td>19:39:35</td>\n",
       "    </tr>\n",
       "    <tr>\n",
       "      <th>2</th>\n",
       "      <td>TVWeWd2crE4</td>\n",
       "      <td>[BANGLA] 2022 PMWI Day 2 | Gamers8 | PUBG MOBI...</td>\n",
       "      <td>54138</td>\n",
       "      <td>2334</td>\n",
       "      <td>12</td>\n",
       "      <td>PT5H13M34S</td>\n",
       "      <td>313.566667</td>\n",
       "      <td>2022-08-12</td>\n",
       "      <td>17:37:41</td>\n",
       "    </tr>\n",
       "    <tr>\n",
       "      <th>3</th>\n",
       "      <td>kkhU7ADXekI</td>\n",
       "      <td>PUBG Mobile Bangladesh Official | Live with @N...</td>\n",
       "      <td>3115</td>\n",
       "      <td>229</td>\n",
       "      <td>4</td>\n",
       "      <td>PT1H3M11S</td>\n",
       "      <td>63.183333</td>\n",
       "      <td>2020-12-22</td>\n",
       "      <td>15:08:44</td>\n",
       "    </tr>\n",
       "    <tr>\n",
       "      <th>4</th>\n",
       "      <td>oLTIcY7JaqQ</td>\n",
       "      <td>PUBG Mobile Bangladesh Official | Live with @P...</td>\n",
       "      <td>3976</td>\n",
       "      <td>337</td>\n",
       "      <td>6</td>\n",
       "      <td>PT1H29M56S</td>\n",
       "      <td>89.933333</td>\n",
       "      <td>2020-12-28</td>\n",
       "      <td>18:34:25</td>\n",
       "    </tr>\n",
       "  </tbody>\n",
       "</table>\n",
       "</div>"
      ],
      "text/plain": [
       "      video_id                                              title  view_count  \\\n",
       "0  oiqpD3C_dLo  [EN] 2022 PMWI Day 2 | Gamers8 | PUBG MOBILE W...        3287   \n",
       "1  Txmh8ZHtNkM  [EN] PMGC 2022 Grand Finals | Day 1 | PUBG MOB...        8534   \n",
       "2  TVWeWd2crE4  [BANGLA] 2022 PMWI Day 2 | Gamers8 | PUBG MOBI...       54138   \n",
       "3  kkhU7ADXekI  PUBG Mobile Bangladesh Official | Live with @N...        3115   \n",
       "4  oLTIcY7JaqQ  PUBG Mobile Bangladesh Official | Live with @P...        3976   \n",
       "\n",
       "   like_count  comment_count    duration  duration_min        date      time  \n",
       "0         163              0   PT5H57M7S    357.116667  2022-08-12  18:40:21  \n",
       "1         242              0  PT6H35M43S    395.716667  2023-01-06  19:39:35  \n",
       "2        2334             12  PT5H13M34S    313.566667  2022-08-12  17:37:41  \n",
       "3         229              4   PT1H3M11S     63.183333  2020-12-22  15:08:44  \n",
       "4         337              6  PT1H29M56S     89.933333  2020-12-28  18:34:25  "
      ]
     },
     "execution_count": 10,
     "metadata": {},
     "output_type": "execute_result"
    }
   ],
   "source": [
    "bd_vinfo = pd.read_csv('/kaggle/input/esports-data/video_information/bangladesh_video_info.csv')\n",
    "\n",
    "print(f'length of the dataframe is {len(bd_vinfo)}')\n",
    "\n",
    "bd_vinfo.head(5)"
   ]
  },
  {
   "cell_type": "markdown",
   "id": "d5f2117e",
   "metadata": {
    "papermill": {
     "duration": 0.012498,
     "end_time": "2024-08-11T15:35:08.233149",
     "exception": false,
     "start_time": "2024-08-11T15:35:08.220651",
     "status": "completed"
    },
    "tags": []
   },
   "source": [
    "## patience variable can be ignored it is used to terminate the scraping under a time threshold for experimenting."
   ]
  },
  {
   "cell_type": "code",
   "execution_count": 11,
   "id": "307c9265",
   "metadata": {
    "execution": {
     "iopub.execute_input": "2024-08-11T15:35:08.260786Z",
     "iopub.status.busy": "2024-08-11T15:35:08.259827Z",
     "iopub.status.idle": "2024-08-11T15:35:08.270757Z",
     "shell.execute_reply": "2024-08-11T15:35:08.269225Z"
    },
    "papermill": {
     "duration": 0.027482,
     "end_time": "2024-08-11T15:35:08.273402",
     "exception": false,
     "start_time": "2024-08-11T15:35:08.245920",
     "status": "completed"
    },
    "tags": []
   },
   "outputs": [
    {
     "name": "stdout",
     "output_type": "stream",
     "text": [
      "478\n"
     ]
    },
    {
     "data": {
      "text/plain": [
       "14400"
      ]
     },
     "execution_count": 11,
     "metadata": {},
     "output_type": "execute_result"
    }
   ],
   "source": [
    "# demo_list = ['Vruf1fDg4WA', 'xUSlfWh7Pak', '7FjuKffwKrs']\n",
    "sconfigs = []\n",
    "for i in range(len(bd_vinfo)):\n",
    "    sconfigs.append(ScraperConfig(patience=4*3600))\n",
    "\n",
    "print(len(sconfigs))\n",
    "sconfigs[1].patience"
   ]
  },
  {
   "cell_type": "code",
   "execution_count": 12,
   "id": "6574fe20",
   "metadata": {
    "execution": {
     "iopub.execute_input": "2024-08-11T15:35:08.300807Z",
     "iopub.status.busy": "2024-08-11T15:35:08.300367Z",
     "iopub.status.idle": "2024-08-11T15:35:08.307931Z",
     "shell.execute_reply": "2024-08-11T15:35:08.306746Z"
    },
    "papermill": {
     "duration": 0.023999,
     "end_time": "2024-08-11T15:35:08.310401",
     "exception": false,
     "start_time": "2024-08-11T15:35:08.286402",
     "status": "completed"
    },
    "tags": []
   },
   "outputs": [
    {
     "data": {
      "text/plain": [
       "['oiqpD3C_dLo', 'Txmh8ZHtNkM', 'TVWeWd2crE4', 'kkhU7ADXekI']"
      ]
     },
     "execution_count": 12,
     "metadata": {},
     "output_type": "execute_result"
    }
   ],
   "source": [
    "video_ids = list(bd_vinfo['video_id'])\n",
    "video_ids[:4]"
   ]
  },
  {
   "cell_type": "code",
   "execution_count": 13,
   "id": "2b3c95f9",
   "metadata": {
    "execution": {
     "iopub.execute_input": "2024-08-11T15:35:08.338193Z",
     "iopub.status.busy": "2024-08-11T15:35:08.337777Z",
     "iopub.status.idle": "2024-08-11T18:47:58.899406Z",
     "shell.execute_reply": "2024-08-11T18:47:58.898187Z"
    },
    "papermill": {
     "duration": 11570.579164,
     "end_time": "2024-08-11T18:47:58.902604",
     "exception": false,
     "start_time": "2024-08-11T15:35:08.323440",
     "status": "completed"
    },
    "tags": []
   },
   "outputs": [
    {
     "name": "stdout",
     "output_type": "stream",
     "text": [
      "Empty DataFrame\n",
      "Columns: [datetime, author, message, video_id]\n",
      "Index: []\n"
     ]
    },
    {
     "name": "stderr",
     "output_type": "stream",
     "text": [
      "100%|██████████| 478/478 [3:12:50<00:00, 24.21s/it]\n"
     ]
    }
   ],
   "source": [
    "## keep an array to track the data frame length of each iteration\n",
    "\n",
    "track = []\n",
    "\n",
    "\n",
    "## DEclare class object for each video id\n",
    "sconfigs = []\n",
    "for i in range(len(bd_vinfo)):\n",
    "    sconfigs.append(ScraperConfig(patience=4*3600))\n",
    "\n",
    "\n",
    "# main df\n",
    "columns = ['datetime', 'author', 'message', 'video_id']\n",
    "main_df = pd.DataFrame(columns=columns)\n",
    "print(main_df)\n",
    "\n",
    "total_iterations = len(bd_vinfo['video_id'])\n",
    "\n",
    "for index, vid in tqdm(enumerate(video_ids), total=total_iterations):\n",
    "#     print(vid)\n",
    "    sconfigs[index].scrape(vid=vid)\n",
    "    temp_df = sconfigs[index].make_df()\n",
    "    temp_df['video_id'] = vid\n",
    "    track.append(len(temp_df))\n",
    "    main_df = pd.concat([main_df, temp_df], ignore_index=True) "
   ]
  },
  {
   "cell_type": "code",
   "execution_count": 14,
   "id": "99eeedf3",
   "metadata": {
    "execution": {
     "iopub.execute_input": "2024-08-11T18:47:59.026386Z",
     "iopub.status.busy": "2024-08-11T18:47:59.025973Z",
     "iopub.status.idle": "2024-08-11T18:47:59.034866Z",
     "shell.execute_reply": "2024-08-11T18:47:59.033251Z"
    },
    "papermill": {
     "duration": 0.072345,
     "end_time": "2024-08-11T18:47:59.037462",
     "exception": false,
     "start_time": "2024-08-11T18:47:58.965117",
     "status": "completed"
    },
    "tags": []
   },
   "outputs": [
    {
     "name": "stdout",
     "output_type": "stream",
     "text": [
      "[37, 94, 5456, 111]\n"
     ]
    },
    {
     "data": {
      "text/plain": [
       "(2787873, 4)"
      ]
     },
     "execution_count": 14,
     "metadata": {},
     "output_type": "execute_result"
    }
   ],
   "source": [
    "print(track[:4])\n",
    "main_df.shape"
   ]
  },
  {
   "cell_type": "code",
   "execution_count": 15,
   "id": "4f0e2121",
   "metadata": {
    "execution": {
     "iopub.execute_input": "2024-08-11T18:47:59.158860Z",
     "iopub.status.busy": "2024-08-11T18:47:59.158479Z",
     "iopub.status.idle": "2024-08-11T18:47:59.167464Z",
     "shell.execute_reply": "2024-08-11T18:47:59.165850Z"
    },
    "papermill": {
     "duration": 0.072556,
     "end_time": "2024-08-11T18:47:59.170047",
     "exception": false,
     "start_time": "2024-08-11T18:47:59.097491",
     "status": "completed"
    },
    "tags": []
   },
   "outputs": [
    {
     "name": "stdout",
     "output_type": "stream",
     "text": [
      "[37, 94, 5456, 111]\n"
     ]
    },
    {
     "data": {
      "text/plain": [
       "(2787873, 4)"
      ]
     },
     "execution_count": 15,
     "metadata": {},
     "output_type": "execute_result"
    }
   ],
   "source": [
    "print(track[:4])\n",
    "main_df.shape"
   ]
  },
  {
   "cell_type": "code",
   "execution_count": 16,
   "id": "3b693924",
   "metadata": {
    "execution": {
     "iopub.execute_input": "2024-08-11T18:47:59.290546Z",
     "iopub.status.busy": "2024-08-11T18:47:59.290166Z",
     "iopub.status.idle": "2024-08-11T18:47:59.303831Z",
     "shell.execute_reply": "2024-08-11T18:47:59.302362Z"
    },
    "papermill": {
     "duration": 0.077256,
     "end_time": "2024-08-11T18:47:59.306644",
     "exception": false,
     "start_time": "2024-08-11T18:47:59.229388",
     "status": "completed"
    },
    "tags": []
   },
   "outputs": [
    {
     "data": {
      "text/html": [
       "<div>\n",
       "<style scoped>\n",
       "    .dataframe tbody tr th:only-of-type {\n",
       "        vertical-align: middle;\n",
       "    }\n",
       "\n",
       "    .dataframe tbody tr th {\n",
       "        vertical-align: top;\n",
       "    }\n",
       "\n",
       "    .dataframe thead th {\n",
       "        text-align: right;\n",
       "    }\n",
       "</style>\n",
       "<table border=\"1\" class=\"dataframe\">\n",
       "  <thead>\n",
       "    <tr style=\"text-align: right;\">\n",
       "      <th></th>\n",
       "      <th>datetime</th>\n",
       "      <th>author</th>\n",
       "      <th>message</th>\n",
       "      <th>video_id</th>\n",
       "    </tr>\n",
       "  </thead>\n",
       "  <tbody>\n",
       "    <tr>\n",
       "      <th>0</th>\n",
       "      <td>2022-08-12 09:22:22</td>\n",
       "      <td>Rizvan</td>\n",
       "      <td>hii</td>\n",
       "      <td>oiqpD3C_dLo</td>\n",
       "    </tr>\n",
       "    <tr>\n",
       "      <th>1</th>\n",
       "      <td>2022-08-12 09:22:35</td>\n",
       "      <td>Rizvan</td>\n",
       "      <td>#2d</td>\n",
       "      <td>oiqpD3C_dLo</td>\n",
       "    </tr>\n",
       "    <tr>\n",
       "      <th>2</th>\n",
       "      <td>2022-08-12 09:25:29</td>\n",
       "      <td>RN KAKASHI</td>\n",
       "      <td>3rd</td>\n",
       "      <td>oiqpD3C_dLo</td>\n",
       "    </tr>\n",
       "  </tbody>\n",
       "</table>\n",
       "</div>"
      ],
      "text/plain": [
       "              datetime      author message     video_id\n",
       "0  2022-08-12 09:22:22      Rizvan     hii  oiqpD3C_dLo\n",
       "1  2022-08-12 09:22:35      Rizvan     #2d  oiqpD3C_dLo\n",
       "2  2022-08-12 09:25:29  RN KAKASHI     3rd  oiqpD3C_dLo"
      ]
     },
     "execution_count": 16,
     "metadata": {},
     "output_type": "execute_result"
    }
   ],
   "source": [
    "main_df.head(3)"
   ]
  },
  {
   "cell_type": "code",
   "execution_count": 17,
   "id": "bd014f82",
   "metadata": {
    "execution": {
     "iopub.execute_input": "2024-08-11T18:47:59.426833Z",
     "iopub.status.busy": "2024-08-11T18:47:59.426435Z",
     "iopub.status.idle": "2024-08-11T18:47:59.433941Z",
     "shell.execute_reply": "2024-08-11T18:47:59.432622Z"
    },
    "papermill": {
     "duration": 0.071189,
     "end_time": "2024-08-11T18:47:59.436592",
     "exception": false,
     "start_time": "2024-08-11T18:47:59.365403",
     "status": "completed"
    },
    "tags": []
   },
   "outputs": [
    {
     "data": {
      "text/plain": [
       "(2787873, 4)"
      ]
     },
     "execution_count": 17,
     "metadata": {},
     "output_type": "execute_result"
    }
   ],
   "source": [
    "# main_df.drop_duplicates(inplace=True)\n",
    "main_df.shape"
   ]
  },
  {
   "cell_type": "markdown",
   "id": "246489c7",
   "metadata": {
    "papermill": {
     "duration": 0.058296,
     "end_time": "2024-08-11T18:47:59.639687",
     "exception": false,
     "start_time": "2024-08-11T18:47:59.581391",
     "status": "completed"
    },
    "tags": []
   },
   "source": [
    "## save the df"
   ]
  },
  {
   "cell_type": "code",
   "execution_count": 18,
   "id": "9fc4fd96",
   "metadata": {
    "execution": {
     "iopub.execute_input": "2024-08-11T18:47:59.759176Z",
     "iopub.status.busy": "2024-08-11T18:47:59.758757Z",
     "iopub.status.idle": "2024-08-11T18:48:25.857710Z",
     "shell.execute_reply": "2024-08-11T18:48:25.856422Z"
    },
    "papermill": {
     "duration": 26.161567,
     "end_time": "2024-08-11T18:48:25.860293",
     "exception": false,
     "start_time": "2024-08-11T18:47:59.698726",
     "status": "completed"
    },
    "tags": []
   },
   "outputs": [
    {
     "data": {
      "text/html": [
       "<div>\n",
       "<style scoped>\n",
       "    .dataframe tbody tr th:only-of-type {\n",
       "        vertical-align: middle;\n",
       "    }\n",
       "\n",
       "    .dataframe tbody tr th {\n",
       "        vertical-align: top;\n",
       "    }\n",
       "\n",
       "    .dataframe thead th {\n",
       "        text-align: right;\n",
       "    }\n",
       "</style>\n",
       "<table border=\"1\" class=\"dataframe\">\n",
       "  <thead>\n",
       "    <tr style=\"text-align: right;\">\n",
       "      <th></th>\n",
       "      <th>datetime</th>\n",
       "      <th>author</th>\n",
       "      <th>message</th>\n",
       "      <th>video_id</th>\n",
       "    </tr>\n",
       "  </thead>\n",
       "  <tbody>\n",
       "    <tr>\n",
       "      <th>0</th>\n",
       "      <td>2022-08-12 09:22:22</td>\n",
       "      <td>Rizvan</td>\n",
       "      <td>hii</td>\n",
       "      <td>oiqpD3C_dLo</td>\n",
       "    </tr>\n",
       "    <tr>\n",
       "      <th>1</th>\n",
       "      <td>2022-08-12 09:22:35</td>\n",
       "      <td>Rizvan</td>\n",
       "      <td>#2d</td>\n",
       "      <td>oiqpD3C_dLo</td>\n",
       "    </tr>\n",
       "    <tr>\n",
       "      <th>2</th>\n",
       "      <td>2022-08-12 09:25:29</td>\n",
       "      <td>RN KAKASHI</td>\n",
       "      <td>3rd</td>\n",
       "      <td>oiqpD3C_dLo</td>\n",
       "    </tr>\n",
       "    <tr>\n",
       "      <th>3</th>\n",
       "      <td>2022-08-12 09:30:17</td>\n",
       "      <td>Kirree Nafee</td>\n",
       "      <td>Soul:face_vomiting::face_vomiting::face_vomiti...</td>\n",
       "      <td>oiqpD3C_dLo</td>\n",
       "    </tr>\n",
       "  </tbody>\n",
       "</table>\n",
       "</div>"
      ],
      "text/plain": [
       "              datetime        author  \\\n",
       "0  2022-08-12 09:22:22        Rizvan   \n",
       "1  2022-08-12 09:22:35        Rizvan   \n",
       "2  2022-08-12 09:25:29    RN KAKASHI   \n",
       "3  2022-08-12 09:30:17  Kirree Nafee   \n",
       "\n",
       "                                             message     video_id  \n",
       "0                                                hii  oiqpD3C_dLo  \n",
       "1                                                #2d  oiqpD3C_dLo  \n",
       "2                                                3rd  oiqpD3C_dLo  \n",
       "3  Soul:face_vomiting::face_vomiting::face_vomiti...  oiqpD3C_dLo  "
      ]
     },
     "execution_count": 18,
     "metadata": {},
     "output_type": "execute_result"
    }
   ],
   "source": [
    "main_df.to_csv('bangladesh_livechat_data.csv', index=False)\n",
    "\n",
    "df = pd.read_csv('/kaggle/working/bangladesh_livechat_data.csv')\n",
    "df.head(4)"
   ]
  },
  {
   "cell_type": "markdown",
   "id": "f517ff55",
   "metadata": {
    "papermill": {
     "duration": 0.061344,
     "end_time": "2024-08-11T18:48:25.981158",
     "exception": false,
     "start_time": "2024-08-11T18:48:25.919814",
     "status": "completed"
    },
    "tags": []
   },
   "source": [
    "## OG code by oitik"
   ]
  },
  {
   "cell_type": "code",
   "execution_count": 19,
   "id": "df2468ab",
   "metadata": {
    "execution": {
     "iopub.execute_input": "2024-08-11T18:48:26.104107Z",
     "iopub.status.busy": "2024-08-11T18:48:26.103687Z",
     "iopub.status.idle": "2024-08-11T18:48:26.109328Z",
     "shell.execute_reply": "2024-08-11T18:48:26.107982Z"
    },
    "papermill": {
     "duration": 0.069842,
     "end_time": "2024-08-11T18:48:26.111897",
     "exception": false,
     "start_time": "2024-08-11T18:48:26.042055",
     "status": "completed"
    },
    "tags": []
   },
   "outputs": [],
   "source": [
    "# start_time = time.time()\n",
    "# vid = \"EoQjiNm7oCw\"\n",
    "# # vid = 'xUSlfWh7Pak'\n",
    "\n",
    "# chat = pytchat.create(video_id = vid)\n",
    "\n",
    "# while chat.is_alive():\n",
    "#     for c in chat.get().items:\n",
    "# #         print(f\"{c.datetime} [{c.author.name}]- {c.message}\")\n",
    "#         configs.datetimes.append(c.datetime[:10])\n",
    "#         configs.authors.append(c.author.name)\n",
    "#         configs.messages.append(c.message)\n",
    "\n",
    "# #     # Emergency Break\n",
    "# #     if time.time() - start_time >= configs.patience:\n",
    "# #         break "
   ]
  },
  {
   "cell_type": "code",
   "execution_count": 20,
   "id": "a85157c1",
   "metadata": {
    "execution": {
     "iopub.execute_input": "2024-08-11T18:48:26.233863Z",
     "iopub.status.busy": "2024-08-11T18:48:26.233478Z",
     "iopub.status.idle": "2024-08-11T18:48:26.238450Z",
     "shell.execute_reply": "2024-08-11T18:48:26.237272Z"
    },
    "papermill": {
     "duration": 0.069096,
     "end_time": "2024-08-11T18:48:26.241069",
     "exception": false,
     "start_time": "2024-08-11T18:48:26.171973",
     "status": "completed"
    },
    "tags": []
   },
   "outputs": [],
   "source": [
    "# data = {\n",
    "#     'datetime': configs.datetimes,\n",
    "#     'author': configs.authors,\n",
    "#     'message': configs.messages\n",
    "# }\n",
    "\n",
    "# df = pd.DataFrame(data)\n",
    "# df.head()"
   ]
  },
  {
   "cell_type": "code",
   "execution_count": 21,
   "id": "7ecc9cac",
   "metadata": {
    "execution": {
     "iopub.execute_input": "2024-08-11T18:48:26.364380Z",
     "iopub.status.busy": "2024-08-11T18:48:26.363956Z",
     "iopub.status.idle": "2024-08-11T18:48:26.369605Z",
     "shell.execute_reply": "2024-08-11T18:48:26.368225Z"
    },
    "papermill": {
     "duration": 0.071283,
     "end_time": "2024-08-11T18:48:26.372378",
     "exception": false,
     "start_time": "2024-08-11T18:48:26.301095",
     "status": "completed"
    },
    "tags": []
   },
   "outputs": [],
   "source": [
    "# df.shape"
   ]
  },
  {
   "cell_type": "code",
   "execution_count": 22,
   "id": "26da3147",
   "metadata": {
    "execution": {
     "iopub.execute_input": "2024-08-11T18:48:26.496970Z",
     "iopub.status.busy": "2024-08-11T18:48:26.496576Z",
     "iopub.status.idle": "2024-08-11T18:48:26.501501Z",
     "shell.execute_reply": "2024-08-11T18:48:26.500236Z"
    },
    "papermill": {
     "duration": 0.070271,
     "end_time": "2024-08-11T18:48:26.504061",
     "exception": false,
     "start_time": "2024-08-11T18:48:26.433790",
     "status": "completed"
    },
    "tags": []
   },
   "outputs": [],
   "source": [
    "# df.to_csv('esports_data.csv', index=False)\n",
    "\n",
    "# df = pd.read_csv('/kaggle/working/esports_data.csv')\n",
    "# df.head(4)"
   ]
  },
  {
   "cell_type": "code",
   "execution_count": 23,
   "id": "ec364e3d",
   "metadata": {
    "execution": {
     "iopub.execute_input": "2024-08-11T18:48:26.625455Z",
     "iopub.status.busy": "2024-08-11T18:48:26.625074Z",
     "iopub.status.idle": "2024-08-11T18:48:26.630133Z",
     "shell.execute_reply": "2024-08-11T18:48:26.629068Z"
    },
    "papermill": {
     "duration": 0.069192,
     "end_time": "2024-08-11T18:48:26.632786",
     "exception": false,
     "start_time": "2024-08-11T18:48:26.563594",
     "status": "completed"
    },
    "tags": []
   },
   "outputs": [],
   "source": [
    "# df.dtypes"
   ]
  },
  {
   "cell_type": "code",
   "execution_count": null,
   "id": "f8bc5ee2",
   "metadata": {
    "papermill": {
     "duration": 0.060187,
     "end_time": "2024-08-11T18:48:26.753290",
     "exception": false,
     "start_time": "2024-08-11T18:48:26.693103",
     "status": "completed"
    },
    "tags": []
   },
   "outputs": [],
   "source": []
  },
  {
   "cell_type": "code",
   "execution_count": 24,
   "id": "942423a9",
   "metadata": {
    "execution": {
     "iopub.execute_input": "2024-08-11T18:48:26.874063Z",
     "iopub.status.busy": "2024-08-11T18:48:26.873632Z",
     "iopub.status.idle": "2024-08-11T18:48:26.878551Z",
     "shell.execute_reply": "2024-08-11T18:48:26.877380Z"
    },
    "papermill": {
     "duration": 0.068254,
     "end_time": "2024-08-11T18:48:26.880927",
     "exception": false,
     "start_time": "2024-08-11T18:48:26.812673",
     "status": "completed"
    },
    "tags": []
   },
   "outputs": [],
   "source": [
    "# df['length'] = [len(x.split()) for x in df['message']]\n",
    "\n",
    "# df.head(2)"
   ]
  },
  {
   "cell_type": "code",
   "execution_count": 25,
   "id": "617cf8d2",
   "metadata": {
    "execution": {
     "iopub.execute_input": "2024-08-11T18:48:27.004719Z",
     "iopub.status.busy": "2024-08-11T18:48:27.004322Z",
     "iopub.status.idle": "2024-08-11T18:48:27.009234Z",
     "shell.execute_reply": "2024-08-11T18:48:27.007978Z"
    },
    "papermill": {
     "duration": 0.070929,
     "end_time": "2024-08-11T18:48:27.011734",
     "exception": false,
     "start_time": "2024-08-11T18:48:26.940805",
     "status": "completed"
    },
    "tags": []
   },
   "outputs": [],
   "source": [
    "# sorted_df = df.sort_values(by='length', ascending=False).reset_index(drop=True)\n",
    "# sorted_df.head(20)"
   ]
  },
  {
   "cell_type": "code",
   "execution_count": 26,
   "id": "c96a4461",
   "metadata": {
    "execution": {
     "iopub.execute_input": "2024-08-11T18:48:27.137895Z",
     "iopub.status.busy": "2024-08-11T18:48:27.137475Z",
     "iopub.status.idle": "2024-08-11T18:48:27.142424Z",
     "shell.execute_reply": "2024-08-11T18:48:27.141085Z"
    },
    "papermill": {
     "duration": 0.070237,
     "end_time": "2024-08-11T18:48:27.144887",
     "exception": false,
     "start_time": "2024-08-11T18:48:27.074650",
     "status": "completed"
    },
    "tags": []
   },
   "outputs": [],
   "source": [
    "# sorted_df['message'][50]"
   ]
  },
  {
   "cell_type": "code",
   "execution_count": 27,
   "id": "89b3022a",
   "metadata": {
    "execution": {
     "iopub.execute_input": "2024-08-11T18:48:27.265984Z",
     "iopub.status.busy": "2024-08-11T18:48:27.265238Z",
     "iopub.status.idle": "2024-08-11T18:48:27.271568Z",
     "shell.execute_reply": "2024-08-11T18:48:27.270362Z"
    },
    "papermill": {
     "duration": 0.069622,
     "end_time": "2024-08-11T18:48:27.274156",
     "exception": false,
     "start_time": "2024-08-11T18:48:27.204534",
     "status": "completed"
    },
    "tags": []
   },
   "outputs": [],
   "source": [
    "# import pytchat\n",
    "# import time\n",
    "\n",
    "# start_time = time.time()\n",
    "\n",
    "\n",
    "# chat = pytchat.create(video_id='yuv1qvQywMU')\n",
    "\n",
    "# while chat.is_alive():\n",
    "# #     print(chat.get().json())\n",
    "# #     time.sleep(5)\n",
    "    \n",
    "#     # Each chat item can also be output in JSON format.\n",
    "#     for c in chat.get().items:\n",
    "#         print(f\"{c.datetime} [{c.author.name}]- {c.message}\")\n",
    "# #         print(c.json())\n",
    "\n",
    "#     # Emergency Break\n",
    "#     if time.time() - start_time >= 1:\n",
    "#         break  "
   ]
  },
  {
   "cell_type": "markdown",
   "id": "485c6702",
   "metadata": {
    "papermill": {
     "duration": 0.06007,
     "end_time": "2024-08-11T18:48:27.393463",
     "exception": false,
     "start_time": "2024-08-11T18:48:27.333393",
     "status": "completed"
    },
    "tags": []
   },
   "source": [
    "# `the end`"
   ]
  },
  {
   "cell_type": "code",
   "execution_count": null,
   "id": "07c1745c",
   "metadata": {
    "papermill": {
     "duration": 0.060159,
     "end_time": "2024-08-11T18:48:27.514016",
     "exception": false,
     "start_time": "2024-08-11T18:48:27.453857",
     "status": "completed"
    },
    "tags": []
   },
   "outputs": [],
   "source": []
  }
 ],
 "metadata": {
  "kaggle": {
   "accelerator": "none",
   "dataSources": [
    {
     "datasetId": 5528375,
     "sourceId": 9151912,
     "sourceType": "datasetVersion"
    }
   ],
   "dockerImageVersionId": 30746,
   "isGpuEnabled": false,
   "isInternetEnabled": true,
   "language": "python",
   "sourceType": "notebook"
  },
  "kernelspec": {
   "display_name": "Python 3",
   "language": "python",
   "name": "python3"
  },
  "language_info": {
   "codemirror_mode": {
    "name": "ipython",
    "version": 3
   },
   "file_extension": ".py",
   "mimetype": "text/x-python",
   "name": "python",
   "nbconvert_exporter": "python",
   "pygments_lexer": "ipython3",
   "version": "3.10.13"
  },
  "papermill": {
   "default_parameters": {},
   "duration": 11639.340328,
   "end_time": "2024-08-11T18:48:29.227737",
   "environment_variables": {},
   "exception": null,
   "input_path": "__notebook__.ipynb",
   "output_path": "__notebook__.ipynb",
   "parameters": {},
   "start_time": "2024-08-11T15:34:29.887409",
   "version": "2.5.0"
  }
 },
 "nbformat": 4,
 "nbformat_minor": 5
}
