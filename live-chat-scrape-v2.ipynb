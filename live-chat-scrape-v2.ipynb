{
 "cells": [
  {
   "cell_type": "code",
   "execution_count": 1,
   "id": "d4cc36a5",
   "metadata": {
    "_cell_guid": "b1076dfc-b9ad-4769-8c92-a6c4dae69d19",
    "_uuid": "8f2839f25d086af736a60e9eeb907d3b93b6e0e5",
    "execution": {
     "iopub.execute_input": "2024-08-12T23:47:35.421154Z",
     "iopub.status.busy": "2024-08-12T23:47:35.420048Z",
     "iopub.status.idle": "2024-08-12T23:47:36.396262Z",
     "shell.execute_reply": "2024-08-12T23:47:36.394995Z"
    },
    "papermill": {
     "duration": 0.992304,
     "end_time": "2024-08-12T23:47:36.399088",
     "exception": false,
     "start_time": "2024-08-12T23:47:35.406784",
     "status": "completed"
    },
    "tags": []
   },
   "outputs": [],
   "source": [
    "import numpy as np\n",
    "import pandas as pd\n",
    "from tqdm import tqdm"
   ]
  },
  {
   "cell_type": "code",
   "execution_count": 2,
   "id": "4652652f",
   "metadata": {
    "execution": {
     "iopub.execute_input": "2024-08-12T23:47:36.423765Z",
     "iopub.status.busy": "2024-08-12T23:47:36.423224Z",
     "iopub.status.idle": "2024-08-12T23:47:53.766255Z",
     "shell.execute_reply": "2024-08-12T23:47:53.764939Z"
    },
    "papermill": {
     "duration": 17.358671,
     "end_time": "2024-08-12T23:47:53.769254",
     "exception": false,
     "start_time": "2024-08-12T23:47:36.410583",
     "status": "completed"
    },
    "tags": []
   },
   "outputs": [
    {
     "name": "stdout",
     "output_type": "stream",
     "text": [
      "Collecting pytchat\r\n",
      "  Downloading pytchat-0.5.5-py3-none-any.whl.metadata (4.7 kB)\r\n",
      "Requirement already satisfied: httpx[http2] in /opt/conda/lib/python3.10/site-packages (from pytchat) (0.27.0)\r\n",
      "Requirement already satisfied: anyio in /opt/conda/lib/python3.10/site-packages (from httpx[http2]->pytchat) (4.2.0)\r\n",
      "Requirement already satisfied: certifi in /opt/conda/lib/python3.10/site-packages (from httpx[http2]->pytchat) (2024.7.4)\r\n",
      "Requirement already satisfied: httpcore==1.* in /opt/conda/lib/python3.10/site-packages (from httpx[http2]->pytchat) (1.0.5)\r\n",
      "Requirement already satisfied: idna in /opt/conda/lib/python3.10/site-packages (from httpx[http2]->pytchat) (3.6)\r\n",
      "Requirement already satisfied: sniffio in /opt/conda/lib/python3.10/site-packages (from httpx[http2]->pytchat) (1.3.0)\r\n",
      "Collecting h2<5,>=3 (from httpx[http2]->pytchat)\r\n",
      "  Downloading h2-4.1.0-py3-none-any.whl.metadata (3.6 kB)\r\n",
      "Requirement already satisfied: h11<0.15,>=0.13 in /opt/conda/lib/python3.10/site-packages (from httpcore==1.*->httpx[http2]->pytchat) (0.14.0)\r\n",
      "Collecting hyperframe<7,>=6.0 (from h2<5,>=3->httpx[http2]->pytchat)\r\n",
      "  Downloading hyperframe-6.0.1-py3-none-any.whl.metadata (2.7 kB)\r\n",
      "Collecting hpack<5,>=4.0 (from h2<5,>=3->httpx[http2]->pytchat)\r\n",
      "  Downloading hpack-4.0.0-py3-none-any.whl.metadata (2.5 kB)\r\n",
      "Requirement already satisfied: exceptiongroup>=1.0.2 in /opt/conda/lib/python3.10/site-packages (from anyio->httpx[http2]->pytchat) (1.2.0)\r\n",
      "Requirement already satisfied: typing-extensions>=4.1 in /opt/conda/lib/python3.10/site-packages (from anyio->httpx[http2]->pytchat) (4.9.0)\r\n",
      "Downloading pytchat-0.5.5-py3-none-any.whl (69 kB)\r\n",
      "\u001b[2K   \u001b[90m━━━━━━━━━━━━━━━━━━━━━━━━━━━━━━━━━━━━━━━━\u001b[0m \u001b[32m69.5/69.5 kB\u001b[0m \u001b[31m3.1 MB/s\u001b[0m eta \u001b[36m0:00:00\u001b[0m\r\n",
      "\u001b[?25hDownloading h2-4.1.0-py3-none-any.whl (57 kB)\r\n",
      "\u001b[2K   \u001b[90m━━━━━━━━━━━━━━━━━━━━━━━━━━━━━━━━━━━━━━━━\u001b[0m \u001b[32m57.5/57.5 kB\u001b[0m \u001b[31m2.9 MB/s\u001b[0m eta \u001b[36m0:00:00\u001b[0m\r\n",
      "\u001b[?25hDownloading hpack-4.0.0-py3-none-any.whl (32 kB)\r\n",
      "Downloading hyperframe-6.0.1-py3-none-any.whl (12 kB)\r\n",
      "Installing collected packages: hyperframe, hpack, h2, pytchat\r\n",
      "Successfully installed h2-4.1.0 hpack-4.0.0 hyperframe-6.0.1 pytchat-0.5.5\r\n"
     ]
    }
   ],
   "source": [
    "!pip install pytchat"
   ]
  },
  {
   "cell_type": "code",
   "execution_count": 3,
   "id": "8b3e3f57",
   "metadata": {
    "execution": {
     "iopub.execute_input": "2024-08-12T23:47:53.796160Z",
     "iopub.status.busy": "2024-08-12T23:47:53.795718Z",
     "iopub.status.idle": "2024-08-12T23:47:54.097562Z",
     "shell.execute_reply": "2024-08-12T23:47:54.096418Z"
    },
    "papermill": {
     "duration": 0.318597,
     "end_time": "2024-08-12T23:47:54.100500",
     "exception": false,
     "start_time": "2024-08-12T23:47:53.781903",
     "status": "completed"
    },
    "tags": []
   },
   "outputs": [],
   "source": [
    "import pytchat\n",
    "import time"
   ]
  },
  {
   "cell_type": "code",
   "execution_count": 4,
   "id": "3c039dd7",
   "metadata": {
    "execution": {
     "iopub.execute_input": "2024-08-12T23:47:54.127218Z",
     "iopub.status.busy": "2024-08-12T23:47:54.126773Z",
     "iopub.status.idle": "2024-08-12T23:47:54.139758Z",
     "shell.execute_reply": "2024-08-12T23:47:54.138611Z"
    },
    "papermill": {
     "duration": 0.029166,
     "end_time": "2024-08-12T23:47:54.142189",
     "exception": false,
     "start_time": "2024-08-12T23:47:54.113023",
     "status": "completed"
    },
    "tags": []
   },
   "outputs": [],
   "source": [
    "import time\n",
    "\n",
    "class ScraperConfig:\n",
    "    \"\"\"\n",
    "    Configuration class for a web scraper.\n",
    "\n",
    "    Attributes:\n",
    "        patience (int): Time to wait between scraping attempts in seconds (default: 10).\n",
    "        datetimes (list): List to store scraped datetimes (empty by default).\n",
    "        authors (list): List to store scraped authors (empty by default).\n",
    "        messages (list): List to store scraped messages (empty by default).\n",
    "    \"\"\"\n",
    "\n",
    "    def __init__(self, patience=10):\n",
    "        \"\"\"\n",
    "        Initializes a ScraperConfig object with the specified patience.\n",
    "\n",
    "        Args:\n",
    "            patience (int, optional): Time to wait between scraping attempts in seconds. Defaults to 10.\n",
    "        \"\"\"\n",
    "\n",
    "        self.patience = patience\n",
    "        self.datetimes = []\n",
    "        self.authors = []\n",
    "        self.messages = []\n",
    "\n",
    "\n",
    "    def scrape(self, vid):\n",
    "        \"\"\"\n",
    "        Scrapes data from the youtube comment.\n",
    "\n",
    "        This placeholder method illustrates the general structure for scraping logic.\n",
    "        The actual implementation would involve making requests, parsing responses, and\n",
    "        storing data in self.datetimes, self.authors, and self.messages.\n",
    "\n",
    "        Raises:\n",
    "            Exception: If an error occurs during scraping.\n",
    "        \"\"\"\n",
    "\n",
    "        try:\n",
    "            start_time = time.time()\n",
    "\n",
    "            chat = pytchat.create(video_id = vid)\n",
    "\n",
    "            while chat.is_alive():\n",
    "                for c in chat.get().items:\n",
    "            #         print(f\"{c.datetime} [{c.author.name}]- {c.message}\")\n",
    "                    self.datetimes.append(c.datetime)\n",
    "                    self.authors.append(c.author.name)\n",
    "                    self.messages.append(c.message)\n",
    "\n",
    "                # Emergency Break\n",
    "#                 if time.time() - start_time >= self.patience:\n",
    "#                     break \n",
    "                    \n",
    "        except Exception as e:\n",
    "            print(f\"Error during scraping: {e}\")\n",
    "            raise  # Re-raise the exception for potential handling outside the class\n",
    "            \n",
    "    def make_df(self):\n",
    "        '''\n",
    "        Make a df\n",
    "        '''\n",
    "        data = {\n",
    "            'datetime': self.datetimes,\n",
    "            'author': self.authors,\n",
    "            'message': self.messages,\n",
    "        }\n",
    "\n",
    "        df = pd.DataFrame(data)\n",
    "#         print(f'Length if this dataframe is {len(df)}')\n",
    "        return df"
   ]
  },
  {
   "cell_type": "code",
   "execution_count": 5,
   "id": "20831322",
   "metadata": {
    "execution": {
     "iopub.execute_input": "2024-08-12T23:47:54.168913Z",
     "iopub.status.busy": "2024-08-12T23:47:54.168499Z",
     "iopub.status.idle": "2024-08-12T23:47:54.177141Z",
     "shell.execute_reply": "2024-08-12T23:47:54.175911Z"
    },
    "papermill": {
     "duration": 0.025263,
     "end_time": "2024-08-12T23:47:54.179880",
     "exception": false,
     "start_time": "2024-08-12T23:47:54.154617",
     "status": "completed"
    },
    "tags": []
   },
   "outputs": [
    {
     "data": {
      "text/plain": [
       "([], 10)"
      ]
     },
     "execution_count": 5,
     "metadata": {},
     "output_type": "execute_result"
    }
   ],
   "source": [
    "configs = ScraperConfig(patience=10) \n",
    "configs.datetimes, configs.patience"
   ]
  },
  {
   "cell_type": "code",
   "execution_count": 6,
   "id": "77d22b56",
   "metadata": {
    "execution": {
     "iopub.execute_input": "2024-08-12T23:47:54.206879Z",
     "iopub.status.busy": "2024-08-12T23:47:54.206474Z",
     "iopub.status.idle": "2024-08-12T23:48:08.651285Z",
     "shell.execute_reply": "2024-08-12T23:48:08.649985Z"
    },
    "papermill": {
     "duration": 14.461135,
     "end_time": "2024-08-12T23:48:08.653859",
     "exception": false,
     "start_time": "2024-08-12T23:47:54.192724",
     "status": "completed"
    },
    "tags": []
   },
   "outputs": [
    {
     "data": {
      "text/html": [
       "<div>\n",
       "<style scoped>\n",
       "    .dataframe tbody tr th:only-of-type {\n",
       "        vertical-align: middle;\n",
       "    }\n",
       "\n",
       "    .dataframe tbody tr th {\n",
       "        vertical-align: top;\n",
       "    }\n",
       "\n",
       "    .dataframe thead th {\n",
       "        text-align: right;\n",
       "    }\n",
       "</style>\n",
       "<table border=\"1\" class=\"dataframe\">\n",
       "  <thead>\n",
       "    <tr style=\"text-align: right;\">\n",
       "      <th></th>\n",
       "      <th>datetime</th>\n",
       "      <th>author</th>\n",
       "      <th>message</th>\n",
       "    </tr>\n",
       "  </thead>\n",
       "  <tbody>\n",
       "    <tr>\n",
       "      <th>0</th>\n",
       "      <td>2024-06-30 04:55:16</td>\n",
       "      <td>ZAIN GAMING</td>\n",
       "      <td>iqoo Soule :rocket: :trophy:</td>\n",
       "    </tr>\n",
       "    <tr>\n",
       "      <th>1</th>\n",
       "      <td>2024-06-30 05:17:31</td>\n",
       "      <td>sangram</td>\n",
       "      <td>kya robbed bhai btayega</td>\n",
       "    </tr>\n",
       "    <tr>\n",
       "      <th>2</th>\n",
       "      <td>2024-06-30 05:28:58</td>\n",
       "      <td>Elamparthi</td>\n",
       "      <td>jokers :face_with_rolling_eyes:</td>\n",
       "    </tr>\n",
       "    <tr>\n",
       "      <th>3</th>\n",
       "      <td>2024-06-30 05:40:00</td>\n",
       "      <td>DARINDA GAMER</td>\n",
       "      <td>ajj Mera team jitega :upside_down_face::smilin...</td>\n",
       "    </tr>\n",
       "    <tr>\n",
       "      <th>4</th>\n",
       "      <td>2024-06-30 05:50:19</td>\n",
       "      <td>ƤŁΔ¥ βØ¥</td>\n",
       "      <td>this is Tamil chat :rolling_on_the_floor_laugh...</td>\n",
       "    </tr>\n",
       "  </tbody>\n",
       "</table>\n",
       "</div>"
      ],
      "text/plain": [
       "              datetime         author  \\\n",
       "0  2024-06-30 04:55:16    ZAIN GAMING   \n",
       "1  2024-06-30 05:17:31       sangram    \n",
       "2  2024-06-30 05:28:58    Elamparthi    \n",
       "3  2024-06-30 05:40:00  DARINDA GAMER   \n",
       "4  2024-06-30 05:50:19       ƤŁΔ¥ βØ¥   \n",
       "\n",
       "                                             message  \n",
       "0                       iqoo Soule :rocket: :trophy:  \n",
       "1                            kya robbed bhai btayega  \n",
       "2                    jokers :face_with_rolling_eyes:  \n",
       "3  ajj Mera team jitega :upside_down_face::smilin...  \n",
       "4  this is Tamil chat :rolling_on_the_floor_laugh...  "
      ]
     },
     "execution_count": 6,
     "metadata": {},
     "output_type": "execute_result"
    }
   ],
   "source": [
    "configs.scrape(vid='4RZcdw-w2J0')\n",
    "df = configs.make_df()\n",
    "df.head()"
   ]
  },
  {
   "cell_type": "code",
   "execution_count": 7,
   "id": "e3eac940",
   "metadata": {
    "execution": {
     "iopub.execute_input": "2024-08-12T23:48:08.681132Z",
     "iopub.status.busy": "2024-08-12T23:48:08.680737Z",
     "iopub.status.idle": "2024-08-12T23:48:08.685614Z",
     "shell.execute_reply": "2024-08-12T23:48:08.684392Z"
    },
    "papermill": {
     "duration": 0.021506,
     "end_time": "2024-08-12T23:48:08.688171",
     "exception": false,
     "start_time": "2024-08-12T23:48:08.666665",
     "status": "completed"
    },
    "tags": []
   },
   "outputs": [],
   "source": [
    "# x = 10\n",
    "# df[x:x+10]"
   ]
  },
  {
   "cell_type": "code",
   "execution_count": 8,
   "id": "a90acedd",
   "metadata": {
    "execution": {
     "iopub.execute_input": "2024-08-12T23:48:08.716479Z",
     "iopub.status.busy": "2024-08-12T23:48:08.716082Z",
     "iopub.status.idle": "2024-08-12T23:48:08.728266Z",
     "shell.execute_reply": "2024-08-12T23:48:08.727060Z"
    },
    "papermill": {
     "duration": 0.028867,
     "end_time": "2024-08-12T23:48:08.730921",
     "exception": false,
     "start_time": "2024-08-12T23:48:08.702054",
     "status": "completed"
    },
    "tags": []
   },
   "outputs": [
    {
     "data": {
      "text/html": [
       "<div>\n",
       "<style scoped>\n",
       "    .dataframe tbody tr th:only-of-type {\n",
       "        vertical-align: middle;\n",
       "    }\n",
       "\n",
       "    .dataframe tbody tr th {\n",
       "        vertical-align: top;\n",
       "    }\n",
       "\n",
       "    .dataframe thead th {\n",
       "        text-align: right;\n",
       "    }\n",
       "</style>\n",
       "<table border=\"1\" class=\"dataframe\">\n",
       "  <thead>\n",
       "    <tr style=\"text-align: right;\">\n",
       "      <th></th>\n",
       "      <th>datetime</th>\n",
       "      <th>author</th>\n",
       "      <th>message</th>\n",
       "    </tr>\n",
       "  </thead>\n",
       "  <tbody>\n",
       "    <tr>\n",
       "      <th>9316</th>\n",
       "      <td>2024-06-30 13:55:54</td>\n",
       "      <td>Eren Giri</td>\n",
       "      <td>do you know top 10 team positions?</td>\n",
       "    </tr>\n",
       "    <tr>\n",
       "      <th>9317</th>\n",
       "      <td>2024-06-30 13:58:25</td>\n",
       "      <td>Redsign DEMI</td>\n",
       "      <td>Tl behind 4th position by 1 point</td>\n",
       "    </tr>\n",
       "    <tr>\n",
       "      <th>9318</th>\n",
       "      <td>2024-06-30 13:59:03</td>\n",
       "      <td>MOXLEY</td>\n",
       "      <td>3:crown: TAMIL TEAMS IN TOP10:red_heart::fire:</td>\n",
       "    </tr>\n",
       "    <tr>\n",
       "      <th>9319</th>\n",
       "      <td>2024-06-30 14:10:30</td>\n",
       "      <td>Nirmal</td>\n",
       "      <td>TT jokers.. from #2</td>\n",
       "    </tr>\n",
       "    <tr>\n",
       "      <th>9320</th>\n",
       "      <td>2024-06-30 14:13:03</td>\n",
       "      <td>Vivek Thangarasu</td>\n",
       "      <td>TT wins 8 lakhs money</td>\n",
       "    </tr>\n",
       "  </tbody>\n",
       "</table>\n",
       "</div>"
      ],
      "text/plain": [
       "                 datetime            author  \\\n",
       "9316  2024-06-30 13:55:54         Eren Giri   \n",
       "9317  2024-06-30 13:58:25      Redsign DEMI   \n",
       "9318  2024-06-30 13:59:03           MOXLEY    \n",
       "9319  2024-06-30 14:10:30            Nirmal   \n",
       "9320  2024-06-30 14:13:03  Vivek Thangarasu   \n",
       "\n",
       "                                             message  \n",
       "9316              do you know top 10 team positions?  \n",
       "9317               Tl behind 4th position by 1 point  \n",
       "9318  3:crown: TAMIL TEAMS IN TOP10:red_heart::fire:  \n",
       "9319                             TT jokers.. from #2  \n",
       "9320                           TT wins 8 lakhs money  "
      ]
     },
     "execution_count": 8,
     "metadata": {},
     "output_type": "execute_result"
    }
   ],
   "source": [
    "df.tail()"
   ]
  },
  {
   "cell_type": "code",
   "execution_count": 9,
   "id": "469224c7",
   "metadata": {
    "execution": {
     "iopub.execute_input": "2024-08-12T23:48:08.758872Z",
     "iopub.status.busy": "2024-08-12T23:48:08.758456Z",
     "iopub.status.idle": "2024-08-12T23:48:08.765856Z",
     "shell.execute_reply": "2024-08-12T23:48:08.764757Z"
    },
    "papermill": {
     "duration": 0.024424,
     "end_time": "2024-08-12T23:48:08.768515",
     "exception": false,
     "start_time": "2024-08-12T23:48:08.744091",
     "status": "completed"
    },
    "tags": []
   },
   "outputs": [
    {
     "data": {
      "text/plain": [
       "(9321, 3)"
      ]
     },
     "execution_count": 9,
     "metadata": {},
     "output_type": "execute_result"
    }
   ],
   "source": [
    "df.shape"
   ]
  },
  {
   "cell_type": "markdown",
   "id": "110388f0",
   "metadata": {
    "papermill": {
     "duration": 0.012608,
     "end_time": "2024-08-12T23:48:08.794251",
     "exception": false,
     "start_time": "2024-08-12T23:48:08.781643",
     "status": "completed"
    },
    "tags": []
   },
   "source": [
    "## Start with Bangladesh"
   ]
  },
  {
   "cell_type": "code",
   "execution_count": 10,
   "id": "9a89c484",
   "metadata": {
    "execution": {
     "iopub.execute_input": "2024-08-12T23:48:08.821933Z",
     "iopub.status.busy": "2024-08-12T23:48:08.821533Z",
     "iopub.status.idle": "2024-08-12T23:48:08.859697Z",
     "shell.execute_reply": "2024-08-12T23:48:08.858325Z"
    },
    "papermill": {
     "duration": 0.055241,
     "end_time": "2024-08-12T23:48:08.862470",
     "exception": false,
     "start_time": "2024-08-12T23:48:08.807229",
     "status": "completed"
    },
    "tags": []
   },
   "outputs": [
    {
     "name": "stdout",
     "output_type": "stream",
     "text": [
      "length of the dataframe is 470\n"
     ]
    },
    {
     "data": {
      "text/html": [
       "<div>\n",
       "<style scoped>\n",
       "    .dataframe tbody tr th:only-of-type {\n",
       "        vertical-align: middle;\n",
       "    }\n",
       "\n",
       "    .dataframe tbody tr th {\n",
       "        vertical-align: top;\n",
       "    }\n",
       "\n",
       "    .dataframe thead th {\n",
       "        text-align: right;\n",
       "    }\n",
       "</style>\n",
       "<table border=\"1\" class=\"dataframe\">\n",
       "  <thead>\n",
       "    <tr style=\"text-align: right;\">\n",
       "      <th></th>\n",
       "      <th>video_id</th>\n",
       "      <th>title</th>\n",
       "      <th>view_count</th>\n",
       "      <th>like_count</th>\n",
       "      <th>comment_count</th>\n",
       "      <th>duration</th>\n",
       "      <th>date</th>\n",
       "      <th>time</th>\n",
       "      <th>duration_min</th>\n",
       "    </tr>\n",
       "  </thead>\n",
       "  <tbody>\n",
       "    <tr>\n",
       "      <th>0</th>\n",
       "      <td>JIKFOCqeK_0</td>\n",
       "      <td>🔴 [VN] 2024 PMWC x EWC Group Stage Day 1 | PUB...</td>\n",
       "      <td>109935</td>\n",
       "      <td>837</td>\n",
       "      <td>45</td>\n",
       "      <td>PT5H46M</td>\n",
       "      <td>2024-07-19</td>\n",
       "      <td>16:39:40</td>\n",
       "      <td>346.000000</td>\n",
       "    </tr>\n",
       "    <tr>\n",
       "      <th>1</th>\n",
       "      <td>sAUA7FGX3D4</td>\n",
       "      <td>🔴 [VN] 2024 SUPER WEEKEND #2 - NGÀY 2 | LIỆU A...</td>\n",
       "      <td>56503</td>\n",
       "      <td>274</td>\n",
       "      <td>9</td>\n",
       "      <td>PT5H10M39S</td>\n",
       "      <td>2024-06-16</td>\n",
       "      <td>14:28:20</td>\n",
       "      <td>310.650000</td>\n",
       "    </tr>\n",
       "    <tr>\n",
       "      <th>2</th>\n",
       "      <td>-HYUgXTxAzA</td>\n",
       "      <td>🔴 [VN] 2024 PMSL SEA GFD3 | Summer | CẬP BẾN -...</td>\n",
       "      <td>167269</td>\n",
       "      <td>976</td>\n",
       "      <td>56</td>\n",
       "      <td>PT6H7M35S</td>\n",
       "      <td>2024-06-02</td>\n",
       "      <td>15:44:19</td>\n",
       "      <td>367.583333</td>\n",
       "    </tr>\n",
       "    <tr>\n",
       "      <th>3</th>\n",
       "      <td>bdRMKez0voI</td>\n",
       "      <td>🔴 [VN] 2024 PMSL SEA GFD2 | Summer | KHÔNG KHO...</td>\n",
       "      <td>131328</td>\n",
       "      <td>817</td>\n",
       "      <td>10</td>\n",
       "      <td>PT5H31M56S</td>\n",
       "      <td>2024-06-01</td>\n",
       "      <td>15:23:21</td>\n",
       "      <td>331.933333</td>\n",
       "    </tr>\n",
       "    <tr>\n",
       "      <th>4</th>\n",
       "      <td>SGguhcqN3l4</td>\n",
       "      <td>🔴 [VN] 2024 PMSL SEA GFD1 | Summer | KHAI HỎA ...</td>\n",
       "      <td>171800</td>\n",
       "      <td>930</td>\n",
       "      <td>6</td>\n",
       "      <td>PT7H51M</td>\n",
       "      <td>2024-05-31</td>\n",
       "      <td>17:37:22</td>\n",
       "      <td>471.000000</td>\n",
       "    </tr>\n",
       "  </tbody>\n",
       "</table>\n",
       "</div>"
      ],
      "text/plain": [
       "      video_id                                              title  view_count  \\\n",
       "0  JIKFOCqeK_0  🔴 [VN] 2024 PMWC x EWC Group Stage Day 1 | PUB...      109935   \n",
       "1  sAUA7FGX3D4  🔴 [VN] 2024 SUPER WEEKEND #2 - NGÀY 2 | LIỆU A...       56503   \n",
       "2  -HYUgXTxAzA  🔴 [VN] 2024 PMSL SEA GFD3 | Summer | CẬP BẾN -...      167269   \n",
       "3  bdRMKez0voI  🔴 [VN] 2024 PMSL SEA GFD2 | Summer | KHÔNG KHO...      131328   \n",
       "4  SGguhcqN3l4  🔴 [VN] 2024 PMSL SEA GFD1 | Summer | KHAI HỎA ...      171800   \n",
       "\n",
       "   like_count  comment_count    duration        date      time  duration_min  \n",
       "0         837             45     PT5H46M  2024-07-19  16:39:40    346.000000  \n",
       "1         274              9  PT5H10M39S  2024-06-16  14:28:20    310.650000  \n",
       "2         976             56   PT6H7M35S  2024-06-02  15:44:19    367.583333  \n",
       "3         817             10  PT5H31M56S  2024-06-01  15:23:21    331.933333  \n",
       "4         930              6     PT7H51M  2024-05-31  17:37:22    471.000000  "
      ]
     },
     "execution_count": 10,
     "metadata": {},
     "output_type": "execute_result"
    }
   ],
   "source": [
    "bd_vinfo = pd.read_csv('/kaggle/input/esports-data/video_information/vietnam_video_info.csv')\n",
    "\n",
    "print(f'length of the dataframe is {len(bd_vinfo)}')\n",
    "\n",
    "bd_vinfo.head(5)"
   ]
  },
  {
   "cell_type": "markdown",
   "id": "42bf6967",
   "metadata": {
    "papermill": {
     "duration": 0.013347,
     "end_time": "2024-08-12T23:48:08.889656",
     "exception": false,
     "start_time": "2024-08-12T23:48:08.876309",
     "status": "completed"
    },
    "tags": []
   },
   "source": [
    "## patience variable can be ignored it is used to terminate the scraping under a time threshold for experimenting."
   ]
  },
  {
   "cell_type": "code",
   "execution_count": 11,
   "id": "045b381f",
   "metadata": {
    "execution": {
     "iopub.execute_input": "2024-08-12T23:48:08.919261Z",
     "iopub.status.busy": "2024-08-12T23:48:08.918127Z",
     "iopub.status.idle": "2024-08-12T23:48:08.928123Z",
     "shell.execute_reply": "2024-08-12T23:48:08.926962Z"
    },
    "papermill": {
     "duration": 0.027553,
     "end_time": "2024-08-12T23:48:08.930798",
     "exception": false,
     "start_time": "2024-08-12T23:48:08.903245",
     "status": "completed"
    },
    "tags": []
   },
   "outputs": [
    {
     "name": "stdout",
     "output_type": "stream",
     "text": [
      "470\n"
     ]
    },
    {
     "data": {
      "text/plain": [
       "14400"
      ]
     },
     "execution_count": 11,
     "metadata": {},
     "output_type": "execute_result"
    }
   ],
   "source": [
    "# demo_list = ['Vruf1fDg4WA', 'xUSlfWh7Pak', '7FjuKffwKrs']\n",
    "sconfigs = []\n",
    "for i in range(len(bd_vinfo)):\n",
    "    sconfigs.append(ScraperConfig(patience=4*3600))\n",
    "\n",
    "print(len(sconfigs))\n",
    "sconfigs[1].patience"
   ]
  },
  {
   "cell_type": "code",
   "execution_count": 12,
   "id": "0f28b5a5",
   "metadata": {
    "execution": {
     "iopub.execute_input": "2024-08-12T23:48:08.960317Z",
     "iopub.status.busy": "2024-08-12T23:48:08.959903Z",
     "iopub.status.idle": "2024-08-12T23:48:08.967798Z",
     "shell.execute_reply": "2024-08-12T23:48:08.966596Z"
    },
    "papermill": {
     "duration": 0.025533,
     "end_time": "2024-08-12T23:48:08.970172",
     "exception": false,
     "start_time": "2024-08-12T23:48:08.944639",
     "status": "completed"
    },
    "tags": []
   },
   "outputs": [
    {
     "data": {
      "text/plain": [
       "['JIKFOCqeK_0', 'sAUA7FGX3D4', '-HYUgXTxAzA', 'bdRMKez0voI']"
      ]
     },
     "execution_count": 12,
     "metadata": {},
     "output_type": "execute_result"
    }
   ],
   "source": [
    "video_ids = list(bd_vinfo['video_id'])\n",
    "video_ids[:4]"
   ]
  },
  {
   "cell_type": "code",
   "execution_count": 13,
   "id": "d3633db1",
   "metadata": {
    "execution": {
     "iopub.execute_input": "2024-08-12T23:48:08.999865Z",
     "iopub.status.busy": "2024-08-12T23:48:08.999446Z",
     "iopub.status.idle": "2024-08-13T01:12:15.674245Z",
     "shell.execute_reply": "2024-08-13T01:12:15.672955Z"
    },
    "papermill": {
     "duration": 5046.69279,
     "end_time": "2024-08-13T01:12:15.676894",
     "exception": false,
     "start_time": "2024-08-12T23:48:08.984104",
     "status": "completed"
    },
    "tags": []
   },
   "outputs": [
    {
     "name": "stdout",
     "output_type": "stream",
     "text": [
      "Empty DataFrame\n",
      "Columns: [datetime, author, message, video_id]\n",
      "Index: []\n"
     ]
    },
    {
     "name": "stderr",
     "output_type": "stream",
     "text": [
      "100%|██████████| 470/470 [1:24:06<00:00, 10.74s/it]\n"
     ]
    }
   ],
   "source": [
    "## keep an array to track the data frame length of each iteration\n",
    "\n",
    "track = []\n",
    "\n",
    "\n",
    "## DEclare class object for each video id\n",
    "sconfigs = []\n",
    "for i in range(len(bd_vinfo)):\n",
    "    sconfigs.append(ScraperConfig(patience=4*3600))\n",
    "\n",
    "\n",
    "# main df\n",
    "columns = ['datetime', 'author', 'message', 'video_id']\n",
    "main_df = pd.DataFrame(columns=columns)\n",
    "print(main_df)\n",
    "\n",
    "total_iterations = len(bd_vinfo['video_id'])\n",
    "\n",
    "for index, vid in tqdm(enumerate(video_ids), total=total_iterations):\n",
    "#     print(vid)\n",
    "    sconfigs[index].scrape(vid=vid)\n",
    "    temp_df = sconfigs[index].make_df()\n",
    "    temp_df['video_id'] = vid\n",
    "    track.append(len(temp_df))\n",
    "    main_df = pd.concat([main_df, temp_df], ignore_index=True) "
   ]
  },
  {
   "cell_type": "code",
   "execution_count": 14,
   "id": "5f709d56",
   "metadata": {
    "execution": {
     "iopub.execute_input": "2024-08-13T01:12:15.799542Z",
     "iopub.status.busy": "2024-08-13T01:12:15.799083Z",
     "iopub.status.idle": "2024-08-13T01:12:15.807722Z",
     "shell.execute_reply": "2024-08-13T01:12:15.806446Z"
    },
    "papermill": {
     "duration": 0.072724,
     "end_time": "2024-08-13T01:12:15.810601",
     "exception": false,
     "start_time": "2024-08-13T01:12:15.737877",
     "status": "completed"
    },
    "tags": []
   },
   "outputs": [
    {
     "name": "stdout",
     "output_type": "stream",
     "text": [
      "[5396, 835, 14702, 7437]\n"
     ]
    },
    {
     "data": {
      "text/plain": [
       "(1413728, 4)"
      ]
     },
     "execution_count": 14,
     "metadata": {},
     "output_type": "execute_result"
    }
   ],
   "source": [
    "print(track[:4])\n",
    "main_df.shape"
   ]
  },
  {
   "cell_type": "code",
   "execution_count": 15,
   "id": "16fe6c11",
   "metadata": {
    "execution": {
     "iopub.execute_input": "2024-08-13T01:12:15.932345Z",
     "iopub.status.busy": "2024-08-13T01:12:15.931910Z",
     "iopub.status.idle": "2024-08-13T01:12:15.940400Z",
     "shell.execute_reply": "2024-08-13T01:12:15.939259Z"
    },
    "papermill": {
     "duration": 0.071265,
     "end_time": "2024-08-13T01:12:15.942800",
     "exception": false,
     "start_time": "2024-08-13T01:12:15.871535",
     "status": "completed"
    },
    "tags": []
   },
   "outputs": [
    {
     "name": "stdout",
     "output_type": "stream",
     "text": [
      "[5396, 835, 14702, 7437]\n"
     ]
    },
    {
     "data": {
      "text/plain": [
       "(1413728, 4)"
      ]
     },
     "execution_count": 15,
     "metadata": {},
     "output_type": "execute_result"
    }
   ],
   "source": [
    "print(track[:4])\n",
    "main_df.shape"
   ]
  },
  {
   "cell_type": "code",
   "execution_count": 16,
   "id": "ebf202d6",
   "metadata": {
    "execution": {
     "iopub.execute_input": "2024-08-13T01:12:16.062865Z",
     "iopub.status.busy": "2024-08-13T01:12:16.062435Z",
     "iopub.status.idle": "2024-08-13T01:12:16.075298Z",
     "shell.execute_reply": "2024-08-13T01:12:16.074154Z"
    },
    "papermill": {
     "duration": 0.075977,
     "end_time": "2024-08-13T01:12:16.077999",
     "exception": false,
     "start_time": "2024-08-13T01:12:16.002022",
     "status": "completed"
    },
    "tags": []
   },
   "outputs": [
    {
     "data": {
      "text/html": [
       "<div>\n",
       "<style scoped>\n",
       "    .dataframe tbody tr th:only-of-type {\n",
       "        vertical-align: middle;\n",
       "    }\n",
       "\n",
       "    .dataframe tbody tr th {\n",
       "        vertical-align: top;\n",
       "    }\n",
       "\n",
       "    .dataframe thead th {\n",
       "        text-align: right;\n",
       "    }\n",
       "</style>\n",
       "<table border=\"1\" class=\"dataframe\">\n",
       "  <thead>\n",
       "    <tr style=\"text-align: right;\">\n",
       "      <th></th>\n",
       "      <th>datetime</th>\n",
       "      <th>author</th>\n",
       "      <th>message</th>\n",
       "      <th>video_id</th>\n",
       "    </tr>\n",
       "  </thead>\n",
       "  <tbody>\n",
       "    <tr>\n",
       "      <th>0</th>\n",
       "      <td>2024-07-19 10:04:29</td>\n",
       "      <td>Ba Trung Nguyen</td>\n",
       "      <td>DX</td>\n",
       "      <td>JIKFOCqeK_0</td>\n",
       "    </tr>\n",
       "    <tr>\n",
       "      <th>1</th>\n",
       "      <td>2024-07-19 10:07:48</td>\n",
       "      <td>ok năm</td>\n",
       "      <td>Dx</td>\n",
       "      <td>JIKFOCqeK_0</td>\n",
       "    </tr>\n",
       "    <tr>\n",
       "      <th>2</th>\n",
       "      <td>2024-07-19 10:15:24</td>\n",
       "      <td>Duy Nguyễn</td>\n",
       "      <td>Aduuuuu</td>\n",
       "      <td>JIKFOCqeK_0</td>\n",
       "    </tr>\n",
       "  </tbody>\n",
       "</table>\n",
       "</div>"
      ],
      "text/plain": [
       "              datetime           author  message     video_id\n",
       "0  2024-07-19 10:04:29  Ba Trung Nguyen       DX  JIKFOCqeK_0\n",
       "1  2024-07-19 10:07:48           ok năm       Dx  JIKFOCqeK_0\n",
       "2  2024-07-19 10:15:24       Duy Nguyễn  Aduuuuu  JIKFOCqeK_0"
      ]
     },
     "execution_count": 16,
     "metadata": {},
     "output_type": "execute_result"
    }
   ],
   "source": [
    "main_df.head(3)"
   ]
  },
  {
   "cell_type": "code",
   "execution_count": 17,
   "id": "ffb0daa6",
   "metadata": {
    "execution": {
     "iopub.execute_input": "2024-08-13T01:12:16.198381Z",
     "iopub.status.busy": "2024-08-13T01:12:16.197956Z",
     "iopub.status.idle": "2024-08-13T01:12:16.205263Z",
     "shell.execute_reply": "2024-08-13T01:12:16.203894Z"
    },
    "papermill": {
     "duration": 0.069977,
     "end_time": "2024-08-13T01:12:16.207798",
     "exception": false,
     "start_time": "2024-08-13T01:12:16.137821",
     "status": "completed"
    },
    "tags": []
   },
   "outputs": [
    {
     "data": {
      "text/plain": [
       "(1413728, 4)"
      ]
     },
     "execution_count": 17,
     "metadata": {},
     "output_type": "execute_result"
    }
   ],
   "source": [
    "# main_df.drop_duplicates(inplace=True)\n",
    "main_df.shape"
   ]
  },
  {
   "cell_type": "code",
   "execution_count": 18,
   "id": "2db9a5e8",
   "metadata": {
    "execution": {
     "iopub.execute_input": "2024-08-13T01:12:16.329959Z",
     "iopub.status.busy": "2024-08-13T01:12:16.329162Z",
     "iopub.status.idle": "2024-08-13T01:12:17.047690Z",
     "shell.execute_reply": "2024-08-13T01:12:17.046476Z"
    },
    "papermill": {
     "duration": 0.783183,
     "end_time": "2024-08-13T01:12:17.050246",
     "exception": false,
     "start_time": "2024-08-13T01:12:16.267063",
     "status": "completed"
    },
    "tags": []
   },
   "outputs": [
    {
     "data": {
      "text/plain": [
       "datetime    0\n",
       "author      0\n",
       "message     0\n",
       "video_id    0\n",
       "dtype: int64"
      ]
     },
     "execution_count": 18,
     "metadata": {},
     "output_type": "execute_result"
    }
   ],
   "source": [
    "main_df.isna().sum()"
   ]
  },
  {
   "cell_type": "markdown",
   "id": "a9a31040",
   "metadata": {
    "papermill": {
     "duration": 0.058458,
     "end_time": "2024-08-13T01:12:17.167595",
     "exception": false,
     "start_time": "2024-08-13T01:12:17.109137",
     "status": "completed"
    },
    "tags": []
   },
   "source": [
    "## save the df"
   ]
  },
  {
   "cell_type": "code",
   "execution_count": 19,
   "id": "c8342ad6",
   "metadata": {
    "execution": {
     "iopub.execute_input": "2024-08-13T01:12:17.287995Z",
     "iopub.status.busy": "2024-08-13T01:12:17.287559Z",
     "iopub.status.idle": "2024-08-13T01:12:21.740976Z",
     "shell.execute_reply": "2024-08-13T01:12:21.739722Z"
    },
    "papermill": {
     "duration": 4.51703,
     "end_time": "2024-08-13T01:12:21.743771",
     "exception": false,
     "start_time": "2024-08-13T01:12:17.226741",
     "status": "completed"
    },
    "tags": []
   },
   "outputs": [
    {
     "data": {
      "text/html": [
       "<div>\n",
       "<style scoped>\n",
       "    .dataframe tbody tr th:only-of-type {\n",
       "        vertical-align: middle;\n",
       "    }\n",
       "\n",
       "    .dataframe tbody tr th {\n",
       "        vertical-align: top;\n",
       "    }\n",
       "\n",
       "    .dataframe thead th {\n",
       "        text-align: right;\n",
       "    }\n",
       "</style>\n",
       "<table border=\"1\" class=\"dataframe\">\n",
       "  <thead>\n",
       "    <tr style=\"text-align: right;\">\n",
       "      <th></th>\n",
       "      <th>datetime</th>\n",
       "      <th>author</th>\n",
       "      <th>message</th>\n",
       "      <th>video_id</th>\n",
       "    </tr>\n",
       "  </thead>\n",
       "  <tbody>\n",
       "    <tr>\n",
       "      <th>0</th>\n",
       "      <td>2024-07-19 10:04:29</td>\n",
       "      <td>Ba Trung Nguyen</td>\n",
       "      <td>DX</td>\n",
       "      <td>JIKFOCqeK_0</td>\n",
       "    </tr>\n",
       "    <tr>\n",
       "      <th>1</th>\n",
       "      <td>2024-07-19 10:07:48</td>\n",
       "      <td>ok năm</td>\n",
       "      <td>Dx</td>\n",
       "      <td>JIKFOCqeK_0</td>\n",
       "    </tr>\n",
       "    <tr>\n",
       "      <th>2</th>\n",
       "      <td>2024-07-19 10:15:24</td>\n",
       "      <td>Duy Nguyễn</td>\n",
       "      <td>Aduuuuu</td>\n",
       "      <td>JIKFOCqeK_0</td>\n",
       "    </tr>\n",
       "    <tr>\n",
       "      <th>3</th>\n",
       "      <td>2024-07-19 10:15:30</td>\n",
       "      <td>Duy Nguyễn</td>\n",
       "      <td>Bắn r hà</td>\n",
       "      <td>JIKFOCqeK_0</td>\n",
       "    </tr>\n",
       "  </tbody>\n",
       "</table>\n",
       "</div>"
      ],
      "text/plain": [
       "              datetime           author   message     video_id\n",
       "0  2024-07-19 10:04:29  Ba Trung Nguyen        DX  JIKFOCqeK_0\n",
       "1  2024-07-19 10:07:48           ok năm        Dx  JIKFOCqeK_0\n",
       "2  2024-07-19 10:15:24       Duy Nguyễn   Aduuuuu  JIKFOCqeK_0\n",
       "3  2024-07-19 10:15:30       Duy Nguyễn  Bắn r hà  JIKFOCqeK_0"
      ]
     },
     "execution_count": 19,
     "metadata": {},
     "output_type": "execute_result"
    }
   ],
   "source": [
    "main_df.to_parquet('vietnam_livechat_data.parquet', index=False)\n",
    "\n",
    "df = pd.read_parquet('/kaggle/working/vietnam_livechat_data.parquet')\n",
    "df.head(4)"
   ]
  },
  {
   "cell_type": "code",
   "execution_count": 20,
   "id": "4e58df69",
   "metadata": {
    "execution": {
     "iopub.execute_input": "2024-08-13T01:12:21.871306Z",
     "iopub.status.busy": "2024-08-13T01:12:21.870869Z",
     "iopub.status.idle": "2024-08-13T01:12:21.878411Z",
     "shell.execute_reply": "2024-08-13T01:12:21.877252Z"
    },
    "papermill": {
     "duration": 0.076809,
     "end_time": "2024-08-13T01:12:21.880957",
     "exception": false,
     "start_time": "2024-08-13T01:12:21.804148",
     "status": "completed"
    },
    "tags": []
   },
   "outputs": [
    {
     "data": {
      "text/plain": [
       "(1413728, 4)"
      ]
     },
     "execution_count": 20,
     "metadata": {},
     "output_type": "execute_result"
    }
   ],
   "source": [
    "df.shape"
   ]
  },
  {
   "cell_type": "markdown",
   "id": "553b780c",
   "metadata": {
    "papermill": {
     "duration": 0.059718,
     "end_time": "2024-08-13T01:12:22.000903",
     "exception": false,
     "start_time": "2024-08-13T01:12:21.941185",
     "status": "completed"
    },
    "tags": []
   },
   "source": [
    "### Check for `null values`"
   ]
  },
  {
   "cell_type": "code",
   "execution_count": 21,
   "id": "0723a264",
   "metadata": {
    "execution": {
     "iopub.execute_input": "2024-08-13T01:12:22.124226Z",
     "iopub.status.busy": "2024-08-13T01:12:22.123153Z",
     "iopub.status.idle": "2024-08-13T01:12:22.773711Z",
     "shell.execute_reply": "2024-08-13T01:12:22.772414Z"
    },
    "papermill": {
     "duration": 0.715015,
     "end_time": "2024-08-13T01:12:22.776688",
     "exception": false,
     "start_time": "2024-08-13T01:12:22.061673",
     "status": "completed"
    },
    "tags": []
   },
   "outputs": [
    {
     "data": {
      "text/plain": [
       "datetime    0\n",
       "author      0\n",
       "message     0\n",
       "video_id    0\n",
       "dtype: int64"
      ]
     },
     "execution_count": 21,
     "metadata": {},
     "output_type": "execute_result"
    }
   ],
   "source": [
    "df.isna().sum()"
   ]
  },
  {
   "cell_type": "markdown",
   "id": "54297de7",
   "metadata": {
    "papermill": {
     "duration": 0.060471,
     "end_time": "2024-08-13T01:12:22.897303",
     "exception": false,
     "start_time": "2024-08-13T01:12:22.836832",
     "status": "completed"
    },
    "tags": []
   },
   "source": [
    "## OG code by oitik"
   ]
  },
  {
   "cell_type": "code",
   "execution_count": 22,
   "id": "2dd24ed1",
   "metadata": {
    "execution": {
     "iopub.execute_input": "2024-08-13T01:12:23.019724Z",
     "iopub.status.busy": "2024-08-13T01:12:23.019310Z",
     "iopub.status.idle": "2024-08-13T01:12:23.025240Z",
     "shell.execute_reply": "2024-08-13T01:12:23.023924Z"
    },
    "papermill": {
     "duration": 0.069772,
     "end_time": "2024-08-13T01:12:23.027860",
     "exception": false,
     "start_time": "2024-08-13T01:12:22.958088",
     "status": "completed"
    },
    "tags": []
   },
   "outputs": [],
   "source": [
    "# start_time = time.time()\n",
    "# vid = \"EoQjiNm7oCw\"\n",
    "# # vid = 'xUSlfWh7Pak'\n",
    "\n",
    "# chat = pytchat.create(video_id = vid)\n",
    "\n",
    "# while chat.is_alive():\n",
    "#     for c in chat.get().items:\n",
    "# #         print(f\"{c.datetime} [{c.author.name}]- {c.message}\")\n",
    "#         configs.datetimes.append(c.datetime[:10])\n",
    "#         configs.authors.append(c.author.name)\n",
    "#         configs.messages.append(c.message)\n",
    "\n",
    "# #     # Emergency Break\n",
    "# #     if time.time() - start_time >= configs.patience:\n",
    "# #         break "
   ]
  },
  {
   "cell_type": "code",
   "execution_count": 23,
   "id": "e3bda573",
   "metadata": {
    "execution": {
     "iopub.execute_input": "2024-08-13T01:12:23.150589Z",
     "iopub.status.busy": "2024-08-13T01:12:23.150163Z",
     "iopub.status.idle": "2024-08-13T01:12:23.155494Z",
     "shell.execute_reply": "2024-08-13T01:12:23.154282Z"
    },
    "papermill": {
     "duration": 0.068809,
     "end_time": "2024-08-13T01:12:23.158211",
     "exception": false,
     "start_time": "2024-08-13T01:12:23.089402",
     "status": "completed"
    },
    "tags": []
   },
   "outputs": [],
   "source": [
    "# data = {\n",
    "#     'datetime': configs.datetimes,\n",
    "#     'author': configs.authors,\n",
    "#     'message': configs.messages\n",
    "# }\n",
    "\n",
    "# df = pd.DataFrame(data)\n",
    "# df.head()"
   ]
  },
  {
   "cell_type": "code",
   "execution_count": 24,
   "id": "648147a7",
   "metadata": {
    "execution": {
     "iopub.execute_input": "2024-08-13T01:12:23.283219Z",
     "iopub.status.busy": "2024-08-13T01:12:23.282786Z",
     "iopub.status.idle": "2024-08-13T01:12:23.287666Z",
     "shell.execute_reply": "2024-08-13T01:12:23.286341Z"
    },
    "papermill": {
     "duration": 0.070985,
     "end_time": "2024-08-13T01:12:23.290382",
     "exception": false,
     "start_time": "2024-08-13T01:12:23.219397",
     "status": "completed"
    },
    "tags": []
   },
   "outputs": [],
   "source": [
    "# df.shape"
   ]
  },
  {
   "cell_type": "code",
   "execution_count": 25,
   "id": "c07c19ce",
   "metadata": {
    "execution": {
     "iopub.execute_input": "2024-08-13T01:12:23.413784Z",
     "iopub.status.busy": "2024-08-13T01:12:23.413392Z",
     "iopub.status.idle": "2024-08-13T01:12:23.418222Z",
     "shell.execute_reply": "2024-08-13T01:12:23.417097Z"
    },
    "papermill": {
     "duration": 0.068203,
     "end_time": "2024-08-13T01:12:23.420716",
     "exception": false,
     "start_time": "2024-08-13T01:12:23.352513",
     "status": "completed"
    },
    "tags": []
   },
   "outputs": [],
   "source": [
    "# df.to_csv('esports_data.csv', index=False)\n",
    "\n",
    "# df = pd.read_csv('/kaggle/working/esports_data.csv')\n",
    "# df.head(4)"
   ]
  },
  {
   "cell_type": "code",
   "execution_count": 26,
   "id": "0caf83d1",
   "metadata": {
    "execution": {
     "iopub.execute_input": "2024-08-13T01:12:23.622133Z",
     "iopub.status.busy": "2024-08-13T01:12:23.621744Z",
     "iopub.status.idle": "2024-08-13T01:12:23.626841Z",
     "shell.execute_reply": "2024-08-13T01:12:23.625456Z"
    },
    "papermill": {
     "duration": 0.145038,
     "end_time": "2024-08-13T01:12:23.629380",
     "exception": false,
     "start_time": "2024-08-13T01:12:23.484342",
     "status": "completed"
    },
    "tags": []
   },
   "outputs": [],
   "source": [
    "# df.dtypes"
   ]
  },
  {
   "cell_type": "code",
   "execution_count": null,
   "id": "ae6fb2ff",
   "metadata": {
    "papermill": {
     "duration": 0.059956,
     "end_time": "2024-08-13T01:12:23.749735",
     "exception": false,
     "start_time": "2024-08-13T01:12:23.689779",
     "status": "completed"
    },
    "tags": []
   },
   "outputs": [],
   "source": []
  },
  {
   "cell_type": "code",
   "execution_count": 27,
   "id": "b9051628",
   "metadata": {
    "execution": {
     "iopub.execute_input": "2024-08-13T01:12:23.873291Z",
     "iopub.status.busy": "2024-08-13T01:12:23.872874Z",
     "iopub.status.idle": "2024-08-13T01:12:23.877978Z",
     "shell.execute_reply": "2024-08-13T01:12:23.876903Z"
    },
    "papermill": {
     "duration": 0.069751,
     "end_time": "2024-08-13T01:12:23.880866",
     "exception": false,
     "start_time": "2024-08-13T01:12:23.811115",
     "status": "completed"
    },
    "tags": []
   },
   "outputs": [],
   "source": [
    "# df['length'] = [len(x.split()) for x in df['message']]\n",
    "\n",
    "# df.head(2)"
   ]
  },
  {
   "cell_type": "code",
   "execution_count": 28,
   "id": "06cf4b55",
   "metadata": {
    "execution": {
     "iopub.execute_input": "2024-08-13T01:12:24.004739Z",
     "iopub.status.busy": "2024-08-13T01:12:24.003479Z",
     "iopub.status.idle": "2024-08-13T01:12:24.008994Z",
     "shell.execute_reply": "2024-08-13T01:12:24.007622Z"
    },
    "papermill": {
     "duration": 0.070193,
     "end_time": "2024-08-13T01:12:24.011543",
     "exception": false,
     "start_time": "2024-08-13T01:12:23.941350",
     "status": "completed"
    },
    "tags": []
   },
   "outputs": [],
   "source": [
    "# sorted_df = df.sort_values(by='length', ascending=False).reset_index(drop=True)\n",
    "# sorted_df.head(20)"
   ]
  },
  {
   "cell_type": "code",
   "execution_count": 29,
   "id": "2ae2e9f0",
   "metadata": {
    "execution": {
     "iopub.execute_input": "2024-08-13T01:12:24.135849Z",
     "iopub.status.busy": "2024-08-13T01:12:24.135463Z",
     "iopub.status.idle": "2024-08-13T01:12:24.140348Z",
     "shell.execute_reply": "2024-08-13T01:12:24.139232Z"
    },
    "papermill": {
     "duration": 0.069733,
     "end_time": "2024-08-13T01:12:24.142915",
     "exception": false,
     "start_time": "2024-08-13T01:12:24.073182",
     "status": "completed"
    },
    "tags": []
   },
   "outputs": [],
   "source": [
    "# sorted_df['message'][50]"
   ]
  },
  {
   "cell_type": "code",
   "execution_count": 30,
   "id": "cf5a6a5e",
   "metadata": {
    "execution": {
     "iopub.execute_input": "2024-08-13T01:12:24.265295Z",
     "iopub.status.busy": "2024-08-13T01:12:24.264883Z",
     "iopub.status.idle": "2024-08-13T01:12:24.270652Z",
     "shell.execute_reply": "2024-08-13T01:12:24.269418Z"
    },
    "papermill": {
     "duration": 0.069726,
     "end_time": "2024-08-13T01:12:24.273087",
     "exception": false,
     "start_time": "2024-08-13T01:12:24.203361",
     "status": "completed"
    },
    "tags": []
   },
   "outputs": [],
   "source": [
    "# import pytchat\n",
    "# import time\n",
    "\n",
    "# start_time = time.time()\n",
    "\n",
    "\n",
    "# chat = pytchat.create(video_id='yuv1qvQywMU')\n",
    "\n",
    "# while chat.is_alive():\n",
    "# #     print(chat.get().json())\n",
    "# #     time.sleep(5)\n",
    "    \n",
    "#     # Each chat item can also be output in JSON format.\n",
    "#     for c in chat.get().items:\n",
    "#         print(f\"{c.datetime} [{c.author.name}]- {c.message}\")\n",
    "# #         print(c.json())\n",
    "\n",
    "#     # Emergency Break\n",
    "#     if time.time() - start_time >= 1:\n",
    "#         break  "
   ]
  },
  {
   "cell_type": "markdown",
   "id": "9d7c89a3",
   "metadata": {
    "papermill": {
     "duration": 0.060292,
     "end_time": "2024-08-13T01:12:24.393780",
     "exception": false,
     "start_time": "2024-08-13T01:12:24.333488",
     "status": "completed"
    },
    "tags": []
   },
   "source": [
    "# `the end`"
   ]
  },
  {
   "cell_type": "code",
   "execution_count": null,
   "id": "269dd33a",
   "metadata": {
    "papermill": {
     "duration": 0.06004,
     "end_time": "2024-08-13T01:12:24.514917",
     "exception": false,
     "start_time": "2024-08-13T01:12:24.454877",
     "status": "completed"
    },
    "tags": []
   },
   "outputs": [],
   "source": []
  }
 ],
 "metadata": {
  "kaggle": {
   "accelerator": "none",
   "dataSources": [
    {
     "datasetId": 5528375,
     "sourceId": 9151912,
     "sourceType": "datasetVersion"
    }
   ],
   "dockerImageVersionId": 30746,
   "isGpuEnabled": false,
   "isInternetEnabled": true,
   "language": "python",
   "sourceType": "notebook"
  },
  "kernelspec": {
   "display_name": "Python 3",
   "language": "python",
   "name": "python3"
  },
  "language_info": {
   "codemirror_mode": {
    "name": "ipython",
    "version": 3
   },
   "file_extension": ".py",
   "mimetype": "text/x-python",
   "name": "python",
   "nbconvert_exporter": "python",
   "pygments_lexer": "ipython3",
   "version": "3.10.13"
  },
  "papermill": {
   "default_parameters": {},
   "duration": 5093.721832,
   "end_time": "2024-08-13T01:12:25.913302",
   "environment_variables": {},
   "exception": null,
   "input_path": "__notebook__.ipynb",
   "output_path": "__notebook__.ipynb",
   "parameters": {},
   "start_time": "2024-08-12T23:47:32.191470",
   "version": "2.5.0"
  }
 },
 "nbformat": 4,
 "nbformat_minor": 5
}
