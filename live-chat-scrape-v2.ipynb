{
 "cells": [
  {
   "cell_type": "code",
   "execution_count": 1,
   "id": "5fc10482",
   "metadata": {
    "_cell_guid": "b1076dfc-b9ad-4769-8c92-a6c4dae69d19",
    "_uuid": "8f2839f25d086af736a60e9eeb907d3b93b6e0e5",
    "execution": {
     "iopub.execute_input": "2024-08-12T08:54:59.800309Z",
     "iopub.status.busy": "2024-08-12T08:54:59.799853Z",
     "iopub.status.idle": "2024-08-12T08:55:00.648695Z",
     "shell.execute_reply": "2024-08-12T08:55:00.647663Z"
    },
    "papermill": {
     "duration": 0.862902,
     "end_time": "2024-08-12T08:55:00.651263",
     "exception": false,
     "start_time": "2024-08-12T08:54:59.788361",
     "status": "completed"
    },
    "tags": []
   },
   "outputs": [],
   "source": [
    "import numpy as np\n",
    "import pandas as pd\n",
    "from tqdm import tqdm"
   ]
  },
  {
   "cell_type": "code",
   "execution_count": 2,
   "id": "59082dff",
   "metadata": {
    "execution": {
     "iopub.execute_input": "2024-08-12T08:55:00.669411Z",
     "iopub.status.busy": "2024-08-12T08:55:00.668927Z",
     "iopub.status.idle": "2024-08-12T08:55:15.838972Z",
     "shell.execute_reply": "2024-08-12T08:55:15.837704Z"
    },
    "papermill": {
     "duration": 15.181939,
     "end_time": "2024-08-12T08:55:15.841686",
     "exception": false,
     "start_time": "2024-08-12T08:55:00.659747",
     "status": "completed"
    },
    "tags": []
   },
   "outputs": [
    {
     "name": "stdout",
     "output_type": "stream",
     "text": [
      "Collecting pytchat\r\n",
      "  Downloading pytchat-0.5.5-py3-none-any.whl.metadata (4.7 kB)\r\n",
      "Requirement already satisfied: httpx[http2] in /opt/conda/lib/python3.10/site-packages (from pytchat) (0.27.0)\r\n",
      "Requirement already satisfied: anyio in /opt/conda/lib/python3.10/site-packages (from httpx[http2]->pytchat) (4.2.0)\r\n",
      "Requirement already satisfied: certifi in /opt/conda/lib/python3.10/site-packages (from httpx[http2]->pytchat) (2024.7.4)\r\n",
      "Requirement already satisfied: httpcore==1.* in /opt/conda/lib/python3.10/site-packages (from httpx[http2]->pytchat) (1.0.5)\r\n",
      "Requirement already satisfied: idna in /opt/conda/lib/python3.10/site-packages (from httpx[http2]->pytchat) (3.6)\r\n",
      "Requirement already satisfied: sniffio in /opt/conda/lib/python3.10/site-packages (from httpx[http2]->pytchat) (1.3.0)\r\n",
      "Collecting h2<5,>=3 (from httpx[http2]->pytchat)\r\n",
      "  Downloading h2-4.1.0-py3-none-any.whl.metadata (3.6 kB)\r\n",
      "Requirement already satisfied: h11<0.15,>=0.13 in /opt/conda/lib/python3.10/site-packages (from httpcore==1.*->httpx[http2]->pytchat) (0.14.0)\r\n",
      "Collecting hyperframe<7,>=6.0 (from h2<5,>=3->httpx[http2]->pytchat)\r\n",
      "  Downloading hyperframe-6.0.1-py3-none-any.whl.metadata (2.7 kB)\r\n",
      "Collecting hpack<5,>=4.0 (from h2<5,>=3->httpx[http2]->pytchat)\r\n",
      "  Downloading hpack-4.0.0-py3-none-any.whl.metadata (2.5 kB)\r\n",
      "Requirement already satisfied: exceptiongroup>=1.0.2 in /opt/conda/lib/python3.10/site-packages (from anyio->httpx[http2]->pytchat) (1.2.0)\r\n",
      "Requirement already satisfied: typing-extensions>=4.1 in /opt/conda/lib/python3.10/site-packages (from anyio->httpx[http2]->pytchat) (4.9.0)\r\n",
      "Downloading pytchat-0.5.5-py3-none-any.whl (69 kB)\r\n",
      "\u001b[2K   \u001b[90m━━━━━━━━━━━━━━━━━━━━━━━━━━━━━━━━━━━━━━━━\u001b[0m \u001b[32m69.5/69.5 kB\u001b[0m \u001b[31m1.6 MB/s\u001b[0m eta \u001b[36m0:00:00\u001b[0m\r\n",
      "\u001b[?25hDownloading h2-4.1.0-py3-none-any.whl (57 kB)\r\n",
      "\u001b[2K   \u001b[90m━━━━━━━━━━━━━━━━━━━━━━━━━━━━━━━━━━━━━━━━\u001b[0m \u001b[32m57.5/57.5 kB\u001b[0m \u001b[31m2.8 MB/s\u001b[0m eta \u001b[36m0:00:00\u001b[0m\r\n",
      "\u001b[?25hDownloading hpack-4.0.0-py3-none-any.whl (32 kB)\r\n",
      "Downloading hyperframe-6.0.1-py3-none-any.whl (12 kB)\r\n",
      "Installing collected packages: hyperframe, hpack, h2, pytchat\r\n",
      "Successfully installed h2-4.1.0 hpack-4.0.0 hyperframe-6.0.1 pytchat-0.5.5\r\n"
     ]
    }
   ],
   "source": [
    "!pip install pytchat"
   ]
  },
  {
   "cell_type": "code",
   "execution_count": 3,
   "id": "b68f3825",
   "metadata": {
    "execution": {
     "iopub.execute_input": "2024-08-12T08:55:15.862083Z",
     "iopub.status.busy": "2024-08-12T08:55:15.861669Z",
     "iopub.status.idle": "2024-08-12T08:55:16.135412Z",
     "shell.execute_reply": "2024-08-12T08:55:16.134298Z"
    },
    "papermill": {
     "duration": 0.286995,
     "end_time": "2024-08-12T08:55:16.138075",
     "exception": false,
     "start_time": "2024-08-12T08:55:15.851080",
     "status": "completed"
    },
    "tags": []
   },
   "outputs": [],
   "source": [
    "import pytchat\n",
    "import time"
   ]
  },
  {
   "cell_type": "code",
   "execution_count": 4,
   "id": "f45d8cac",
   "metadata": {
    "execution": {
     "iopub.execute_input": "2024-08-12T08:55:16.158110Z",
     "iopub.status.busy": "2024-08-12T08:55:16.157742Z",
     "iopub.status.idle": "2024-08-12T08:55:16.168549Z",
     "shell.execute_reply": "2024-08-12T08:55:16.167292Z"
    },
    "papermill": {
     "duration": 0.023708,
     "end_time": "2024-08-12T08:55:16.171070",
     "exception": false,
     "start_time": "2024-08-12T08:55:16.147362",
     "status": "completed"
    },
    "tags": []
   },
   "outputs": [],
   "source": [
    "import time\n",
    "\n",
    "class ScraperConfig:\n",
    "    \"\"\"\n",
    "    Configuration class for a web scraper.\n",
    "\n",
    "    Attributes:\n",
    "        patience (int): Time to wait between scraping attempts in seconds (default: 10).\n",
    "        datetimes (list): List to store scraped datetimes (empty by default).\n",
    "        authors (list): List to store scraped authors (empty by default).\n",
    "        messages (list): List to store scraped messages (empty by default).\n",
    "    \"\"\"\n",
    "\n",
    "    def __init__(self, patience=10):\n",
    "        \"\"\"\n",
    "        Initializes a ScraperConfig object with the specified patience.\n",
    "\n",
    "        Args:\n",
    "            patience (int, optional): Time to wait between scraping attempts in seconds. Defaults to 10.\n",
    "        \"\"\"\n",
    "\n",
    "        self.patience = patience\n",
    "        self.datetimes = []\n",
    "        self.authors = []\n",
    "        self.messages = []\n",
    "\n",
    "\n",
    "    def scrape(self, vid):\n",
    "        \"\"\"\n",
    "        Scrapes data from the youtube comment.\n",
    "\n",
    "        This placeholder method illustrates the general structure for scraping logic.\n",
    "        The actual implementation would involve making requests, parsing responses, and\n",
    "        storing data in self.datetimes, self.authors, and self.messages.\n",
    "\n",
    "        Raises:\n",
    "            Exception: If an error occurs during scraping.\n",
    "        \"\"\"\n",
    "\n",
    "        try:\n",
    "            start_time = time.time()\n",
    "\n",
    "            chat = pytchat.create(video_id = vid)\n",
    "\n",
    "            while chat.is_alive():\n",
    "                for c in chat.get().items:\n",
    "            #         print(f\"{c.datetime} [{c.author.name}]- {c.message}\")\n",
    "                    self.datetimes.append(c.datetime)\n",
    "                    self.authors.append(c.author.name)\n",
    "                    self.messages.append(c.message)\n",
    "\n",
    "                # Emergency Break\n",
    "#                 if time.time() - start_time >= self.patience:\n",
    "#                     break \n",
    "                    \n",
    "        except Exception as e:\n",
    "            print(f\"Error during scraping: {e}\")\n",
    "            raise  # Re-raise the exception for potential handling outside the class\n",
    "            \n",
    "    def make_df(self):\n",
    "        '''\n",
    "        Make a df\n",
    "        '''\n",
    "        data = {\n",
    "            'datetime': self.datetimes,\n",
    "            'author': self.authors,\n",
    "            'message': self.messages,\n",
    "        }\n",
    "\n",
    "        df = pd.DataFrame(data)\n",
    "#         print(f'Length if this dataframe is {len(df)}')\n",
    "        return df"
   ]
  },
  {
   "cell_type": "code",
   "execution_count": 5,
   "id": "4829ebba",
   "metadata": {
    "execution": {
     "iopub.execute_input": "2024-08-12T08:55:16.191159Z",
     "iopub.status.busy": "2024-08-12T08:55:16.190804Z",
     "iopub.status.idle": "2024-08-12T08:55:16.198820Z",
     "shell.execute_reply": "2024-08-12T08:55:16.197698Z"
    },
    "papermill": {
     "duration": 0.020405,
     "end_time": "2024-08-12T08:55:16.201041",
     "exception": false,
     "start_time": "2024-08-12T08:55:16.180636",
     "status": "completed"
    },
    "tags": []
   },
   "outputs": [
    {
     "data": {
      "text/plain": [
       "([], 10)"
      ]
     },
     "execution_count": 5,
     "metadata": {},
     "output_type": "execute_result"
    }
   ],
   "source": [
    "configs = ScraperConfig(patience=10) \n",
    "configs.datetimes, configs.patience"
   ]
  },
  {
   "cell_type": "code",
   "execution_count": 6,
   "id": "79837688",
   "metadata": {
    "execution": {
     "iopub.execute_input": "2024-08-12T08:55:16.220782Z",
     "iopub.status.busy": "2024-08-12T08:55:16.220411Z",
     "iopub.status.idle": "2024-08-12T08:55:33.341448Z",
     "shell.execute_reply": "2024-08-12T08:55:33.340435Z"
    },
    "papermill": {
     "duration": 17.13357,
     "end_time": "2024-08-12T08:55:33.343732",
     "exception": false,
     "start_time": "2024-08-12T08:55:16.210162",
     "status": "completed"
    },
    "tags": []
   },
   "outputs": [
    {
     "data": {
      "text/html": [
       "<div>\n",
       "<style scoped>\n",
       "    .dataframe tbody tr th:only-of-type {\n",
       "        vertical-align: middle;\n",
       "    }\n",
       "\n",
       "    .dataframe tbody tr th {\n",
       "        vertical-align: top;\n",
       "    }\n",
       "\n",
       "    .dataframe thead th {\n",
       "        text-align: right;\n",
       "    }\n",
       "</style>\n",
       "<table border=\"1\" class=\"dataframe\">\n",
       "  <thead>\n",
       "    <tr style=\"text-align: right;\">\n",
       "      <th></th>\n",
       "      <th>datetime</th>\n",
       "      <th>author</th>\n",
       "      <th>message</th>\n",
       "    </tr>\n",
       "  </thead>\n",
       "  <tbody>\n",
       "    <tr>\n",
       "      <th>0</th>\n",
       "      <td>2024-06-30 04:55:16</td>\n",
       "      <td>ZAIN GAMING</td>\n",
       "      <td>iqoo Soule :rocket: :trophy:</td>\n",
       "    </tr>\n",
       "    <tr>\n",
       "      <th>1</th>\n",
       "      <td>2024-06-30 05:17:31</td>\n",
       "      <td>sangram</td>\n",
       "      <td>kya robbed bhai btayega</td>\n",
       "    </tr>\n",
       "    <tr>\n",
       "      <th>2</th>\n",
       "      <td>2024-06-30 05:28:58</td>\n",
       "      <td>Elamparthi</td>\n",
       "      <td>jokers :face_with_rolling_eyes:</td>\n",
       "    </tr>\n",
       "    <tr>\n",
       "      <th>3</th>\n",
       "      <td>2024-06-30 05:40:00</td>\n",
       "      <td>DARINDA GAMER</td>\n",
       "      <td>ajj Mera team jitega :upside_down_face::smilin...</td>\n",
       "    </tr>\n",
       "    <tr>\n",
       "      <th>4</th>\n",
       "      <td>2024-06-30 05:50:19</td>\n",
       "      <td>ƤŁΔ¥ βØ¥</td>\n",
       "      <td>this is Tamil chat :rolling_on_the_floor_laugh...</td>\n",
       "    </tr>\n",
       "  </tbody>\n",
       "</table>\n",
       "</div>"
      ],
      "text/plain": [
       "              datetime         author  \\\n",
       "0  2024-06-30 04:55:16    ZAIN GAMING   \n",
       "1  2024-06-30 05:17:31       sangram    \n",
       "2  2024-06-30 05:28:58    Elamparthi    \n",
       "3  2024-06-30 05:40:00  DARINDA GAMER   \n",
       "4  2024-06-30 05:50:19       ƤŁΔ¥ βØ¥   \n",
       "\n",
       "                                             message  \n",
       "0                       iqoo Soule :rocket: :trophy:  \n",
       "1                            kya robbed bhai btayega  \n",
       "2                    jokers :face_with_rolling_eyes:  \n",
       "3  ajj Mera team jitega :upside_down_face::smilin...  \n",
       "4  this is Tamil chat :rolling_on_the_floor_laugh...  "
      ]
     },
     "execution_count": 6,
     "metadata": {},
     "output_type": "execute_result"
    }
   ],
   "source": [
    "configs.scrape(vid='4RZcdw-w2J0')\n",
    "df = configs.make_df()\n",
    "df.head()"
   ]
  },
  {
   "cell_type": "code",
   "execution_count": 7,
   "id": "b14952c0",
   "metadata": {
    "execution": {
     "iopub.execute_input": "2024-08-12T08:55:33.364276Z",
     "iopub.status.busy": "2024-08-12T08:55:33.363827Z",
     "iopub.status.idle": "2024-08-12T08:55:33.368525Z",
     "shell.execute_reply": "2024-08-12T08:55:33.367296Z"
    },
    "papermill": {
     "duration": 0.017745,
     "end_time": "2024-08-12T08:55:33.370822",
     "exception": false,
     "start_time": "2024-08-12T08:55:33.353077",
     "status": "completed"
    },
    "tags": []
   },
   "outputs": [],
   "source": [
    "# x = 10\n",
    "# df[x:x+10]"
   ]
  },
  {
   "cell_type": "code",
   "execution_count": 8,
   "id": "a788e2df",
   "metadata": {
    "execution": {
     "iopub.execute_input": "2024-08-12T08:55:33.392020Z",
     "iopub.status.busy": "2024-08-12T08:55:33.391620Z",
     "iopub.status.idle": "2024-08-12T08:55:33.403542Z",
     "shell.execute_reply": "2024-08-12T08:55:33.402464Z"
    },
    "papermill": {
     "duration": 0.024865,
     "end_time": "2024-08-12T08:55:33.405900",
     "exception": false,
     "start_time": "2024-08-12T08:55:33.381035",
     "status": "completed"
    },
    "tags": []
   },
   "outputs": [
    {
     "data": {
      "text/html": [
       "<div>\n",
       "<style scoped>\n",
       "    .dataframe tbody tr th:only-of-type {\n",
       "        vertical-align: middle;\n",
       "    }\n",
       "\n",
       "    .dataframe tbody tr th {\n",
       "        vertical-align: top;\n",
       "    }\n",
       "\n",
       "    .dataframe thead th {\n",
       "        text-align: right;\n",
       "    }\n",
       "</style>\n",
       "<table border=\"1\" class=\"dataframe\">\n",
       "  <thead>\n",
       "    <tr style=\"text-align: right;\">\n",
       "      <th></th>\n",
       "      <th>datetime</th>\n",
       "      <th>author</th>\n",
       "      <th>message</th>\n",
       "    </tr>\n",
       "  </thead>\n",
       "  <tbody>\n",
       "    <tr>\n",
       "      <th>9316</th>\n",
       "      <td>2024-06-30 13:55:54</td>\n",
       "      <td>Eren Giri</td>\n",
       "      <td>do you know top 10 team positions?</td>\n",
       "    </tr>\n",
       "    <tr>\n",
       "      <th>9317</th>\n",
       "      <td>2024-06-30 13:58:25</td>\n",
       "      <td>Redsign DEMI</td>\n",
       "      <td>Tl behind 4th position by 1 point</td>\n",
       "    </tr>\n",
       "    <tr>\n",
       "      <th>9318</th>\n",
       "      <td>2024-06-30 13:59:03</td>\n",
       "      <td>MOXLEY</td>\n",
       "      <td>3:crown: TAMIL TEAMS IN TOP10:red_heart::fire:</td>\n",
       "    </tr>\n",
       "    <tr>\n",
       "      <th>9319</th>\n",
       "      <td>2024-06-30 14:10:30</td>\n",
       "      <td>Nirmal</td>\n",
       "      <td>TT jokers.. from #2</td>\n",
       "    </tr>\n",
       "    <tr>\n",
       "      <th>9320</th>\n",
       "      <td>2024-06-30 14:13:03</td>\n",
       "      <td>Vivek Thangarasu</td>\n",
       "      <td>TT wins 8 lakhs money</td>\n",
       "    </tr>\n",
       "  </tbody>\n",
       "</table>\n",
       "</div>"
      ],
      "text/plain": [
       "                 datetime            author  \\\n",
       "9316  2024-06-30 13:55:54         Eren Giri   \n",
       "9317  2024-06-30 13:58:25      Redsign DEMI   \n",
       "9318  2024-06-30 13:59:03           MOXLEY    \n",
       "9319  2024-06-30 14:10:30            Nirmal   \n",
       "9320  2024-06-30 14:13:03  Vivek Thangarasu   \n",
       "\n",
       "                                             message  \n",
       "9316              do you know top 10 team positions?  \n",
       "9317               Tl behind 4th position by 1 point  \n",
       "9318  3:crown: TAMIL TEAMS IN TOP10:red_heart::fire:  \n",
       "9319                             TT jokers.. from #2  \n",
       "9320                           TT wins 8 lakhs money  "
      ]
     },
     "execution_count": 8,
     "metadata": {},
     "output_type": "execute_result"
    }
   ],
   "source": [
    "df.tail()"
   ]
  },
  {
   "cell_type": "code",
   "execution_count": 9,
   "id": "78fdcd54",
   "metadata": {
    "execution": {
     "iopub.execute_input": "2024-08-12T08:55:33.426593Z",
     "iopub.status.busy": "2024-08-12T08:55:33.426217Z",
     "iopub.status.idle": "2024-08-12T08:55:33.432851Z",
     "shell.execute_reply": "2024-08-12T08:55:33.431702Z"
    },
    "papermill": {
     "duration": 0.019636,
     "end_time": "2024-08-12T08:55:33.435156",
     "exception": false,
     "start_time": "2024-08-12T08:55:33.415520",
     "status": "completed"
    },
    "tags": []
   },
   "outputs": [
    {
     "data": {
      "text/plain": [
       "(9321, 3)"
      ]
     },
     "execution_count": 9,
     "metadata": {},
     "output_type": "execute_result"
    }
   ],
   "source": [
    "df.shape"
   ]
  },
  {
   "cell_type": "markdown",
   "id": "04fe739b",
   "metadata": {
    "papermill": {
     "duration": 0.009418,
     "end_time": "2024-08-12T08:55:33.454263",
     "exception": false,
     "start_time": "2024-08-12T08:55:33.444845",
     "status": "completed"
    },
    "tags": []
   },
   "source": [
    "## Start with Bangladesh"
   ]
  },
  {
   "cell_type": "code",
   "execution_count": 10,
   "id": "2d2bf9ee",
   "metadata": {
    "execution": {
     "iopub.execute_input": "2024-08-12T08:55:33.476167Z",
     "iopub.status.busy": "2024-08-12T08:55:33.475219Z",
     "iopub.status.idle": "2024-08-12T08:55:33.517750Z",
     "shell.execute_reply": "2024-08-12T08:55:33.516728Z"
    },
    "papermill": {
     "duration": 0.05612,
     "end_time": "2024-08-12T08:55:33.520085",
     "exception": false,
     "start_time": "2024-08-12T08:55:33.463965",
     "status": "completed"
    },
    "tags": []
   },
   "outputs": [
    {
     "name": "stdout",
     "output_type": "stream",
     "text": [
      "length of the dataframe is 402\n"
     ]
    },
    {
     "data": {
      "text/html": [
       "<div>\n",
       "<style scoped>\n",
       "    .dataframe tbody tr th:only-of-type {\n",
       "        vertical-align: middle;\n",
       "    }\n",
       "\n",
       "    .dataframe tbody tr th {\n",
       "        vertical-align: top;\n",
       "    }\n",
       "\n",
       "    .dataframe thead th {\n",
       "        text-align: right;\n",
       "    }\n",
       "</style>\n",
       "<table border=\"1\" class=\"dataframe\">\n",
       "  <thead>\n",
       "    <tr style=\"text-align: right;\">\n",
       "      <th></th>\n",
       "      <th>video_id</th>\n",
       "      <th>title</th>\n",
       "      <th>view_count</th>\n",
       "      <th>like_count</th>\n",
       "      <th>comment_count</th>\n",
       "      <th>duration</th>\n",
       "      <th>duration_min</th>\n",
       "      <th>date</th>\n",
       "      <th>time</th>\n",
       "    </tr>\n",
       "  </thead>\n",
       "  <tbody>\n",
       "    <tr>\n",
       "      <th>0</th>\n",
       "      <td>szvvDZCxwXs</td>\n",
       "      <td>[MIZO] BGIS 2024 | GRAND FINALS | Day 3 | BGMI</td>\n",
       "      <td>67733</td>\n",
       "      <td>2757</td>\n",
       "      <td>10</td>\n",
       "      <td>PT8H6M39S</td>\n",
       "      <td>486.650000</td>\n",
       "      <td>2024-06-30</td>\n",
       "      <td>15:35:25</td>\n",
       "    </tr>\n",
       "    <tr>\n",
       "      <th>1</th>\n",
       "      <td>dPvGQYbcwFI</td>\n",
       "      <td>[KANNADA] BGIS 2024 | GRAND FINALS | Day 3 | BGMI</td>\n",
       "      <td>13767</td>\n",
       "      <td>802</td>\n",
       "      <td>3</td>\n",
       "      <td>PT8H2M32S</td>\n",
       "      <td>482.533333</td>\n",
       "      <td>2024-06-30</td>\n",
       "      <td>15:38:43</td>\n",
       "    </tr>\n",
       "    <tr>\n",
       "      <th>2</th>\n",
       "      <td>j0Bx2U2fmhA</td>\n",
       "      <td>[ENGLISH] BGIS 2024 | GRAND FINALS | Day 3 | BGMI</td>\n",
       "      <td>178766</td>\n",
       "      <td>5410</td>\n",
       "      <td>14</td>\n",
       "      <td>PT8H2M5S</td>\n",
       "      <td>482.083333</td>\n",
       "      <td>2024-06-30</td>\n",
       "      <td>15:22:28</td>\n",
       "    </tr>\n",
       "    <tr>\n",
       "      <th>3</th>\n",
       "      <td>6-xifMaB-mU</td>\n",
       "      <td>[MAP Stream] BGIS 2024 | GRAND FINALS | Day 3 ...</td>\n",
       "      <td>545027</td>\n",
       "      <td>15592</td>\n",
       "      <td>43</td>\n",
       "      <td>PT8H6M16S</td>\n",
       "      <td>486.266667</td>\n",
       "      <td>2024-06-30</td>\n",
       "      <td>15:08:48</td>\n",
       "    </tr>\n",
       "    <tr>\n",
       "      <th>4</th>\n",
       "      <td>C6hneHD_plM</td>\n",
       "      <td>[BENGALI] BGIS 2024 | GRAND FINALS | Day 3 | BGMI</td>\n",
       "      <td>11636</td>\n",
       "      <td>462</td>\n",
       "      <td>4</td>\n",
       "      <td>PT8H3M41S</td>\n",
       "      <td>483.683333</td>\n",
       "      <td>2024-06-30</td>\n",
       "      <td>15:41:10</td>\n",
       "    </tr>\n",
       "  </tbody>\n",
       "</table>\n",
       "</div>"
      ],
      "text/plain": [
       "      video_id                                              title  view_count  \\\n",
       "0  szvvDZCxwXs     [MIZO] BGIS 2024 | GRAND FINALS | Day 3 | BGMI       67733   \n",
       "1  dPvGQYbcwFI  [KANNADA] BGIS 2024 | GRAND FINALS | Day 3 | BGMI       13767   \n",
       "2  j0Bx2U2fmhA  [ENGLISH] BGIS 2024 | GRAND FINALS | Day 3 | BGMI      178766   \n",
       "3  6-xifMaB-mU  [MAP Stream] BGIS 2024 | GRAND FINALS | Day 3 ...      545027   \n",
       "4  C6hneHD_plM  [BENGALI] BGIS 2024 | GRAND FINALS | Day 3 | BGMI       11636   \n",
       "\n",
       "   like_count  comment_count   duration  duration_min        date      time  \n",
       "0        2757             10  PT8H6M39S    486.650000  2024-06-30  15:35:25  \n",
       "1         802              3  PT8H2M32S    482.533333  2024-06-30  15:38:43  \n",
       "2        5410             14   PT8H2M5S    482.083333  2024-06-30  15:22:28  \n",
       "3       15592             43  PT8H6M16S    486.266667  2024-06-30  15:08:48  \n",
       "4         462              4  PT8H3M41S    483.683333  2024-06-30  15:41:10  "
      ]
     },
     "execution_count": 10,
     "metadata": {},
     "output_type": "execute_result"
    }
   ],
   "source": [
    "bd_vinfo = pd.read_csv('/kaggle/input/esports-data/video_information/india_video_info.csv')\n",
    "\n",
    "print(f'length of the dataframe is {len(bd_vinfo)}')\n",
    "\n",
    "bd_vinfo.head(5)"
   ]
  },
  {
   "cell_type": "markdown",
   "id": "5afc72a1",
   "metadata": {
    "papermill": {
     "duration": 0.009571,
     "end_time": "2024-08-12T08:55:33.539589",
     "exception": false,
     "start_time": "2024-08-12T08:55:33.530018",
     "status": "completed"
    },
    "tags": []
   },
   "source": [
    "## patience variable can be ignored it is used to terminate the scraping under a time threshold for experimenting."
   ]
  },
  {
   "cell_type": "code",
   "execution_count": 11,
   "id": "2f42e88f",
   "metadata": {
    "execution": {
     "iopub.execute_input": "2024-08-12T08:55:33.561554Z",
     "iopub.status.busy": "2024-08-12T08:55:33.560801Z",
     "iopub.status.idle": "2024-08-12T08:55:33.569393Z",
     "shell.execute_reply": "2024-08-12T08:55:33.568280Z"
    },
    "papermill": {
     "duration": 0.022764,
     "end_time": "2024-08-12T08:55:33.572065",
     "exception": false,
     "start_time": "2024-08-12T08:55:33.549301",
     "status": "completed"
    },
    "tags": []
   },
   "outputs": [
    {
     "name": "stdout",
     "output_type": "stream",
     "text": [
      "402\n"
     ]
    },
    {
     "data": {
      "text/plain": [
       "14400"
      ]
     },
     "execution_count": 11,
     "metadata": {},
     "output_type": "execute_result"
    }
   ],
   "source": [
    "# demo_list = ['Vruf1fDg4WA', 'xUSlfWh7Pak', '7FjuKffwKrs']\n",
    "sconfigs = []\n",
    "for i in range(len(bd_vinfo)):\n",
    "    sconfigs.append(ScraperConfig(patience=4*3600))\n",
    "\n",
    "print(len(sconfigs))\n",
    "sconfigs[1].patience"
   ]
  },
  {
   "cell_type": "code",
   "execution_count": 12,
   "id": "8e851c4d",
   "metadata": {
    "execution": {
     "iopub.execute_input": "2024-08-12T08:55:33.594725Z",
     "iopub.status.busy": "2024-08-12T08:55:33.594331Z",
     "iopub.status.idle": "2024-08-12T08:55:33.601900Z",
     "shell.execute_reply": "2024-08-12T08:55:33.600688Z"
    },
    "papermill": {
     "duration": 0.021935,
     "end_time": "2024-08-12T08:55:33.604179",
     "exception": false,
     "start_time": "2024-08-12T08:55:33.582244",
     "status": "completed"
    },
    "tags": []
   },
   "outputs": [
    {
     "data": {
      "text/plain": [
       "['szvvDZCxwXs', 'dPvGQYbcwFI', 'j0Bx2U2fmhA', '6-xifMaB-mU']"
      ]
     },
     "execution_count": 12,
     "metadata": {},
     "output_type": "execute_result"
    }
   ],
   "source": [
    "video_ids = list(bd_vinfo['video_id'])\n",
    "video_ids[:4]"
   ]
  },
  {
   "cell_type": "code",
   "execution_count": 13,
   "id": "c7adb18f",
   "metadata": {
    "execution": {
     "iopub.execute_input": "2024-08-12T08:55:33.627465Z",
     "iopub.status.busy": "2024-08-12T08:55:33.626368Z",
     "iopub.status.idle": "2024-08-12T13:43:30.368140Z",
     "shell.execute_reply": "2024-08-12T13:43:30.366552Z"
    },
    "papermill": {
     "duration": 17276.757556,
     "end_time": "2024-08-12T13:43:30.372445",
     "exception": false,
     "start_time": "2024-08-12T08:55:33.614889",
     "status": "completed"
    },
    "tags": []
   },
   "outputs": [
    {
     "name": "stdout",
     "output_type": "stream",
     "text": [
      "Empty DataFrame\n",
      "Columns: [datetime, author, message, video_id]\n",
      "Index: []\n"
     ]
    },
    {
     "name": "stderr",
     "output_type": "stream",
     "text": [
      "100%|██████████| 402/402 [4:47:56<00:00, 42.98s/it]\n"
     ]
    }
   ],
   "source": [
    "## keep an array to track the data frame length of each iteration\n",
    "\n",
    "track = []\n",
    "\n",
    "\n",
    "## DEclare class object for each video id\n",
    "sconfigs = []\n",
    "for i in range(len(bd_vinfo)):\n",
    "    sconfigs.append(ScraperConfig(patience=4*3600))\n",
    "\n",
    "\n",
    "# main df\n",
    "columns = ['datetime', 'author', 'message', 'video_id']\n",
    "main_df = pd.DataFrame(columns=columns)\n",
    "print(main_df)\n",
    "\n",
    "total_iterations = len(bd_vinfo['video_id'])\n",
    "\n",
    "for index, vid in tqdm(enumerate(video_ids), total=total_iterations):\n",
    "#     print(vid)\n",
    "    sconfigs[index].scrape(vid=vid)\n",
    "    temp_df = sconfigs[index].make_df()\n",
    "    temp_df['video_id'] = vid\n",
    "    track.append(len(temp_df))\n",
    "    main_df = pd.concat([main_df, temp_df], ignore_index=True) "
   ]
  },
  {
   "cell_type": "code",
   "execution_count": 14,
   "id": "f8836cd2",
   "metadata": {
    "execution": {
     "iopub.execute_input": "2024-08-12T13:43:30.457776Z",
     "iopub.status.busy": "2024-08-12T13:43:30.457186Z",
     "iopub.status.idle": "2024-08-12T13:43:30.467131Z",
     "shell.execute_reply": "2024-08-12T13:43:30.465573Z"
    },
    "papermill": {
     "duration": 0.058301,
     "end_time": "2024-08-12T13:43:30.470853",
     "exception": false,
     "start_time": "2024-08-12T13:43:30.412552",
     "status": "completed"
    },
    "tags": []
   },
   "outputs": [
    {
     "name": "stdout",
     "output_type": "stream",
     "text": [
      "[5435, 374, 5352, 7124]\n"
     ]
    },
    {
     "data": {
      "text/plain": [
       "(4447757, 4)"
      ]
     },
     "execution_count": 14,
     "metadata": {},
     "output_type": "execute_result"
    }
   ],
   "source": [
    "print(track[:4])\n",
    "main_df.shape"
   ]
  },
  {
   "cell_type": "code",
   "execution_count": 15,
   "id": "9c087438",
   "metadata": {
    "execution": {
     "iopub.execute_input": "2024-08-12T13:43:30.555324Z",
     "iopub.status.busy": "2024-08-12T13:43:30.554907Z",
     "iopub.status.idle": "2024-08-12T13:43:30.564118Z",
     "shell.execute_reply": "2024-08-12T13:43:30.562215Z"
    },
    "papermill": {
     "duration": 0.055644,
     "end_time": "2024-08-12T13:43:30.567336",
     "exception": false,
     "start_time": "2024-08-12T13:43:30.511692",
     "status": "completed"
    },
    "tags": []
   },
   "outputs": [
    {
     "name": "stdout",
     "output_type": "stream",
     "text": [
      "[5435, 374, 5352, 7124]\n"
     ]
    },
    {
     "data": {
      "text/plain": [
       "(4447757, 4)"
      ]
     },
     "execution_count": 15,
     "metadata": {},
     "output_type": "execute_result"
    }
   ],
   "source": [
    "print(track[:4])\n",
    "main_df.shape"
   ]
  },
  {
   "cell_type": "code",
   "execution_count": 16,
   "id": "e61ef7fc",
   "metadata": {
    "execution": {
     "iopub.execute_input": "2024-08-12T13:43:30.653632Z",
     "iopub.status.busy": "2024-08-12T13:43:30.653057Z",
     "iopub.status.idle": "2024-08-12T13:43:30.667848Z",
     "shell.execute_reply": "2024-08-12T13:43:30.666397Z"
    },
    "papermill": {
     "duration": 0.061713,
     "end_time": "2024-08-12T13:43:30.671454",
     "exception": false,
     "start_time": "2024-08-12T13:43:30.609741",
     "status": "completed"
    },
    "tags": []
   },
   "outputs": [
    {
     "data": {
      "text/html": [
       "<div>\n",
       "<style scoped>\n",
       "    .dataframe tbody tr th:only-of-type {\n",
       "        vertical-align: middle;\n",
       "    }\n",
       "\n",
       "    .dataframe tbody tr th {\n",
       "        vertical-align: top;\n",
       "    }\n",
       "\n",
       "    .dataframe thead th {\n",
       "        text-align: right;\n",
       "    }\n",
       "</style>\n",
       "<table border=\"1\" class=\"dataframe\">\n",
       "  <thead>\n",
       "    <tr style=\"text-align: right;\">\n",
       "      <th></th>\n",
       "      <th>datetime</th>\n",
       "      <th>author</th>\n",
       "      <th>message</th>\n",
       "      <th>video_id</th>\n",
       "    </tr>\n",
       "  </thead>\n",
       "  <tbody>\n",
       "    <tr>\n",
       "      <th>0</th>\n",
       "      <td>2024-06-30 06:30:48</td>\n",
       "      <td>Au_LungrunaPc</td>\n",
       "      <td>rei ve :face_with_tears_of_joy:</td>\n",
       "      <td>szvvDZCxwXs</td>\n",
       "    </tr>\n",
       "    <tr>\n",
       "      <th>1</th>\n",
       "      <td>2024-06-30 06:30:54</td>\n",
       "      <td>GoSenXx</td>\n",
       "      <td>hello hello</td>\n",
       "      <td>szvvDZCxwXs</td>\n",
       "    </tr>\n",
       "    <tr>\n",
       "      <th>2</th>\n",
       "      <td>2024-06-30 06:30:59</td>\n",
       "      <td>♠DAVINDER ♠</td>\n",
       "      <td>Ge winner</td>\n",
       "      <td>szvvDZCxwXs</td>\n",
       "    </tr>\n",
       "  </tbody>\n",
       "</table>\n",
       "</div>"
      ],
      "text/plain": [
       "              datetime         author                          message  \\\n",
       "0  2024-06-30 06:30:48  Au_LungrunaPc  rei ve :face_with_tears_of_joy:   \n",
       "1  2024-06-30 06:30:54        GoSenXx                      hello hello   \n",
       "2  2024-06-30 06:30:59    ♠DAVINDER ♠                        Ge winner   \n",
       "\n",
       "      video_id  \n",
       "0  szvvDZCxwXs  \n",
       "1  szvvDZCxwXs  \n",
       "2  szvvDZCxwXs  "
      ]
     },
     "execution_count": 16,
     "metadata": {},
     "output_type": "execute_result"
    }
   ],
   "source": [
    "main_df.head(3)"
   ]
  },
  {
   "cell_type": "code",
   "execution_count": 17,
   "id": "0571be43",
   "metadata": {
    "execution": {
     "iopub.execute_input": "2024-08-12T13:43:30.751587Z",
     "iopub.status.busy": "2024-08-12T13:43:30.751143Z",
     "iopub.status.idle": "2024-08-12T13:43:30.760313Z",
     "shell.execute_reply": "2024-08-12T13:43:30.758735Z"
    },
    "papermill": {
     "duration": 0.051296,
     "end_time": "2024-08-12T13:43:30.762948",
     "exception": false,
     "start_time": "2024-08-12T13:43:30.711652",
     "status": "completed"
    },
    "tags": []
   },
   "outputs": [
    {
     "data": {
      "text/plain": [
       "(4447757, 4)"
      ]
     },
     "execution_count": 17,
     "metadata": {},
     "output_type": "execute_result"
    }
   ],
   "source": [
    "# main_df.drop_duplicates(inplace=True)\n",
    "main_df.shape"
   ]
  },
  {
   "cell_type": "code",
   "execution_count": 18,
   "id": "b81a36a0",
   "metadata": {
    "execution": {
     "iopub.execute_input": "2024-08-12T13:43:30.846730Z",
     "iopub.status.busy": "2024-08-12T13:43:30.845251Z",
     "iopub.status.idle": "2024-08-12T13:43:32.455933Z",
     "shell.execute_reply": "2024-08-12T13:43:32.454307Z"
    },
    "papermill": {
     "duration": 1.655468,
     "end_time": "2024-08-12T13:43:32.458589",
     "exception": false,
     "start_time": "2024-08-12T13:43:30.803121",
     "status": "completed"
    },
    "tags": []
   },
   "outputs": [
    {
     "data": {
      "text/plain": [
       "datetime    0\n",
       "author      0\n",
       "message     0\n",
       "video_id    0\n",
       "dtype: int64"
      ]
     },
     "execution_count": 18,
     "metadata": {},
     "output_type": "execute_result"
    }
   ],
   "source": [
    "main_df.isna().sum()"
   ]
  },
  {
   "cell_type": "markdown",
   "id": "98533872",
   "metadata": {
    "papermill": {
     "duration": 0.039588,
     "end_time": "2024-08-12T13:43:32.539537",
     "exception": false,
     "start_time": "2024-08-12T13:43:32.499949",
     "status": "completed"
    },
    "tags": []
   },
   "source": [
    "## save the df"
   ]
  },
  {
   "cell_type": "code",
   "execution_count": 19,
   "id": "969b86e8",
   "metadata": {
    "execution": {
     "iopub.execute_input": "2024-08-12T13:43:32.620738Z",
     "iopub.status.busy": "2024-08-12T13:43:32.620325Z",
     "iopub.status.idle": "2024-08-12T13:43:42.078655Z",
     "shell.execute_reply": "2024-08-12T13:43:42.077402Z"
    },
    "papermill": {
     "duration": 9.503158,
     "end_time": "2024-08-12T13:43:42.081768",
     "exception": false,
     "start_time": "2024-08-12T13:43:32.578610",
     "status": "completed"
    },
    "tags": []
   },
   "outputs": [
    {
     "data": {
      "text/html": [
       "<div>\n",
       "<style scoped>\n",
       "    .dataframe tbody tr th:only-of-type {\n",
       "        vertical-align: middle;\n",
       "    }\n",
       "\n",
       "    .dataframe tbody tr th {\n",
       "        vertical-align: top;\n",
       "    }\n",
       "\n",
       "    .dataframe thead th {\n",
       "        text-align: right;\n",
       "    }\n",
       "</style>\n",
       "<table border=\"1\" class=\"dataframe\">\n",
       "  <thead>\n",
       "    <tr style=\"text-align: right;\">\n",
       "      <th></th>\n",
       "      <th>datetime</th>\n",
       "      <th>author</th>\n",
       "      <th>message</th>\n",
       "      <th>video_id</th>\n",
       "    </tr>\n",
       "  </thead>\n",
       "  <tbody>\n",
       "    <tr>\n",
       "      <th>0</th>\n",
       "      <td>2024-06-30 06:30:48</td>\n",
       "      <td>Au_LungrunaPc</td>\n",
       "      <td>rei ve :face_with_tears_of_joy:</td>\n",
       "      <td>szvvDZCxwXs</td>\n",
       "    </tr>\n",
       "    <tr>\n",
       "      <th>1</th>\n",
       "      <td>2024-06-30 06:30:54</td>\n",
       "      <td>GoSenXx</td>\n",
       "      <td>hello hello</td>\n",
       "      <td>szvvDZCxwXs</td>\n",
       "    </tr>\n",
       "    <tr>\n",
       "      <th>2</th>\n",
       "      <td>2024-06-30 06:30:59</td>\n",
       "      <td>♠DAVINDER ♠</td>\n",
       "      <td>Ge winner</td>\n",
       "      <td>szvvDZCxwXs</td>\n",
       "    </tr>\n",
       "    <tr>\n",
       "      <th>3</th>\n",
       "      <td>2024-06-30 06:31:01</td>\n",
       "      <td>BOSS</td>\n",
       "      <td>GE</td>\n",
       "      <td>szvvDZCxwXs</td>\n",
       "    </tr>\n",
       "  </tbody>\n",
       "</table>\n",
       "</div>"
      ],
      "text/plain": [
       "              datetime         author                          message  \\\n",
       "0  2024-06-30 06:30:48  Au_LungrunaPc  rei ve :face_with_tears_of_joy:   \n",
       "1  2024-06-30 06:30:54        GoSenXx                      hello hello   \n",
       "2  2024-06-30 06:30:59    ♠DAVINDER ♠                        Ge winner   \n",
       "3  2024-06-30 06:31:01           BOSS                               GE   \n",
       "\n",
       "      video_id  \n",
       "0  szvvDZCxwXs  \n",
       "1  szvvDZCxwXs  \n",
       "2  szvvDZCxwXs  \n",
       "3  szvvDZCxwXs  "
      ]
     },
     "execution_count": 19,
     "metadata": {},
     "output_type": "execute_result"
    }
   ],
   "source": [
    "main_df.to_parquet('india_livechat_data.parquet', index=False)\n",
    "\n",
    "df = pd.read_parquet('/kaggle/working/india_livechat_data.parquet')\n",
    "df.head(4)"
   ]
  },
  {
   "cell_type": "code",
   "execution_count": 20,
   "id": "5f883b6d",
   "metadata": {
    "execution": {
     "iopub.execute_input": "2024-08-12T13:43:42.163894Z",
     "iopub.status.busy": "2024-08-12T13:43:42.163427Z",
     "iopub.status.idle": "2024-08-12T13:43:42.172420Z",
     "shell.execute_reply": "2024-08-12T13:43:42.170485Z"
    },
    "papermill": {
     "duration": 0.053328,
     "end_time": "2024-08-12T13:43:42.175052",
     "exception": false,
     "start_time": "2024-08-12T13:43:42.121724",
     "status": "completed"
    },
    "tags": []
   },
   "outputs": [
    {
     "data": {
      "text/plain": [
       "(4447757, 4)"
      ]
     },
     "execution_count": 20,
     "metadata": {},
     "output_type": "execute_result"
    }
   ],
   "source": [
    "df.shape"
   ]
  },
  {
   "cell_type": "markdown",
   "id": "a53b4f3e",
   "metadata": {
    "papermill": {
     "duration": 0.040667,
     "end_time": "2024-08-12T13:43:42.257832",
     "exception": false,
     "start_time": "2024-08-12T13:43:42.217165",
     "status": "completed"
    },
    "tags": []
   },
   "source": [
    "### Check for `null values`"
   ]
  },
  {
   "cell_type": "code",
   "execution_count": 21,
   "id": "9a7b005c",
   "metadata": {
    "execution": {
     "iopub.execute_input": "2024-08-12T13:43:42.339592Z",
     "iopub.status.busy": "2024-08-12T13:43:42.339151Z",
     "iopub.status.idle": "2024-08-12T13:43:43.377248Z",
     "shell.execute_reply": "2024-08-12T13:43:43.376003Z"
    },
    "papermill": {
     "duration": 1.083707,
     "end_time": "2024-08-12T13:43:43.379636",
     "exception": false,
     "start_time": "2024-08-12T13:43:42.295929",
     "status": "completed"
    },
    "tags": []
   },
   "outputs": [
    {
     "data": {
      "text/plain": [
       "datetime    0\n",
       "author      0\n",
       "message     0\n",
       "video_id    0\n",
       "dtype: int64"
      ]
     },
     "execution_count": 21,
     "metadata": {},
     "output_type": "execute_result"
    }
   ],
   "source": [
    "df.isna().sum()"
   ]
  },
  {
   "cell_type": "markdown",
   "id": "9b687aaf",
   "metadata": {
    "papermill": {
     "duration": 0.039764,
     "end_time": "2024-08-12T13:43:43.461511",
     "exception": false,
     "start_time": "2024-08-12T13:43:43.421747",
     "status": "completed"
    },
    "tags": []
   },
   "source": [
    "## OG code by oitik"
   ]
  },
  {
   "cell_type": "code",
   "execution_count": 22,
   "id": "9a1dae27",
   "metadata": {
    "execution": {
     "iopub.execute_input": "2024-08-12T13:43:43.544637Z",
     "iopub.status.busy": "2024-08-12T13:43:43.543542Z",
     "iopub.status.idle": "2024-08-12T13:43:43.549847Z",
     "shell.execute_reply": "2024-08-12T13:43:43.548173Z"
    },
    "papermill": {
     "duration": 0.051288,
     "end_time": "2024-08-12T13:43:43.552429",
     "exception": false,
     "start_time": "2024-08-12T13:43:43.501141",
     "status": "completed"
    },
    "tags": []
   },
   "outputs": [],
   "source": [
    "# start_time = time.time()\n",
    "# vid = \"EoQjiNm7oCw\"\n",
    "# # vid = 'xUSlfWh7Pak'\n",
    "\n",
    "# chat = pytchat.create(video_id = vid)\n",
    "\n",
    "# while chat.is_alive():\n",
    "#     for c in chat.get().items:\n",
    "# #         print(f\"{c.datetime} [{c.author.name}]- {c.message}\")\n",
    "#         configs.datetimes.append(c.datetime[:10])\n",
    "#         configs.authors.append(c.author.name)\n",
    "#         configs.messages.append(c.message)\n",
    "\n",
    "# #     # Emergency Break\n",
    "# #     if time.time() - start_time >= configs.patience:\n",
    "# #         break "
   ]
  },
  {
   "cell_type": "code",
   "execution_count": 23,
   "id": "e587f114",
   "metadata": {
    "execution": {
     "iopub.execute_input": "2024-08-12T13:43:43.633258Z",
     "iopub.status.busy": "2024-08-12T13:43:43.632813Z",
     "iopub.status.idle": "2024-08-12T13:43:43.638677Z",
     "shell.execute_reply": "2024-08-12T13:43:43.637484Z"
    },
    "papermill": {
     "duration": 0.048711,
     "end_time": "2024-08-12T13:43:43.641163",
     "exception": false,
     "start_time": "2024-08-12T13:43:43.592452",
     "status": "completed"
    },
    "tags": []
   },
   "outputs": [],
   "source": [
    "# data = {\n",
    "#     'datetime': configs.datetimes,\n",
    "#     'author': configs.authors,\n",
    "#     'message': configs.messages\n",
    "# }\n",
    "\n",
    "# df = pd.DataFrame(data)\n",
    "# df.head()"
   ]
  },
  {
   "cell_type": "code",
   "execution_count": 24,
   "id": "02987fc6",
   "metadata": {
    "execution": {
     "iopub.execute_input": "2024-08-12T13:43:43.724720Z",
     "iopub.status.busy": "2024-08-12T13:43:43.724290Z",
     "iopub.status.idle": "2024-08-12T13:43:43.730463Z",
     "shell.execute_reply": "2024-08-12T13:43:43.729240Z"
    },
    "papermill": {
     "duration": 0.051076,
     "end_time": "2024-08-12T13:43:43.732940",
     "exception": false,
     "start_time": "2024-08-12T13:43:43.681864",
     "status": "completed"
    },
    "tags": []
   },
   "outputs": [],
   "source": [
    "# df.shape"
   ]
  },
  {
   "cell_type": "code",
   "execution_count": 25,
   "id": "f697ecc0",
   "metadata": {
    "execution": {
     "iopub.execute_input": "2024-08-12T13:43:43.814228Z",
     "iopub.status.busy": "2024-08-12T13:43:43.813832Z",
     "iopub.status.idle": "2024-08-12T13:43:43.819824Z",
     "shell.execute_reply": "2024-08-12T13:43:43.818475Z"
    },
    "papermill": {
     "duration": 0.049392,
     "end_time": "2024-08-12T13:43:43.822597",
     "exception": false,
     "start_time": "2024-08-12T13:43:43.773205",
     "status": "completed"
    },
    "tags": []
   },
   "outputs": [],
   "source": [
    "# df.to_csv('esports_data.csv', index=False)\n",
    "\n",
    "# df = pd.read_csv('/kaggle/working/esports_data.csv')\n",
    "# df.head(4)"
   ]
  },
  {
   "cell_type": "code",
   "execution_count": 26,
   "id": "671e105c",
   "metadata": {
    "execution": {
     "iopub.execute_input": "2024-08-12T13:43:43.903475Z",
     "iopub.status.busy": "2024-08-12T13:43:43.903077Z",
     "iopub.status.idle": "2024-08-12T13:43:43.908159Z",
     "shell.execute_reply": "2024-08-12T13:43:43.906884Z"
    },
    "papermill": {
     "duration": 0.048137,
     "end_time": "2024-08-12T13:43:43.910571",
     "exception": false,
     "start_time": "2024-08-12T13:43:43.862434",
     "status": "completed"
    },
    "tags": []
   },
   "outputs": [],
   "source": [
    "# df.dtypes"
   ]
  },
  {
   "cell_type": "code",
   "execution_count": null,
   "id": "72ef8288",
   "metadata": {
    "papermill": {
     "duration": 0.038235,
     "end_time": "2024-08-12T13:43:43.987763",
     "exception": false,
     "start_time": "2024-08-12T13:43:43.949528",
     "status": "completed"
    },
    "tags": []
   },
   "outputs": [],
   "source": []
  },
  {
   "cell_type": "code",
   "execution_count": 27,
   "id": "294f3c39",
   "metadata": {
    "execution": {
     "iopub.execute_input": "2024-08-12T13:43:44.066837Z",
     "iopub.status.busy": "2024-08-12T13:43:44.066446Z",
     "iopub.status.idle": "2024-08-12T13:43:44.071246Z",
     "shell.execute_reply": "2024-08-12T13:43:44.070127Z"
    },
    "papermill": {
     "duration": 0.047529,
     "end_time": "2024-08-12T13:43:44.073568",
     "exception": false,
     "start_time": "2024-08-12T13:43:44.026039",
     "status": "completed"
    },
    "tags": []
   },
   "outputs": [],
   "source": [
    "# df['length'] = [len(x.split()) for x in df['message']]\n",
    "\n",
    "# df.head(2)"
   ]
  },
  {
   "cell_type": "code",
   "execution_count": 28,
   "id": "2d523c3a",
   "metadata": {
    "execution": {
     "iopub.execute_input": "2024-08-12T13:43:44.153940Z",
     "iopub.status.busy": "2024-08-12T13:43:44.153547Z",
     "iopub.status.idle": "2024-08-12T13:43:44.158835Z",
     "shell.execute_reply": "2024-08-12T13:43:44.157213Z"
    },
    "papermill": {
     "duration": 0.048221,
     "end_time": "2024-08-12T13:43:44.161150",
     "exception": false,
     "start_time": "2024-08-12T13:43:44.112929",
     "status": "completed"
    },
    "tags": []
   },
   "outputs": [],
   "source": [
    "# sorted_df = df.sort_values(by='length', ascending=False).reset_index(drop=True)\n",
    "# sorted_df.head(20)"
   ]
  },
  {
   "cell_type": "code",
   "execution_count": 29,
   "id": "65cdc3cb",
   "metadata": {
    "execution": {
     "iopub.execute_input": "2024-08-12T13:43:44.241554Z",
     "iopub.status.busy": "2024-08-12T13:43:44.240689Z",
     "iopub.status.idle": "2024-08-12T13:43:44.246928Z",
     "shell.execute_reply": "2024-08-12T13:43:44.245201Z"
    },
    "papermill": {
     "duration": 0.048863,
     "end_time": "2024-08-12T13:43:44.249502",
     "exception": false,
     "start_time": "2024-08-12T13:43:44.200639",
     "status": "completed"
    },
    "tags": []
   },
   "outputs": [],
   "source": [
    "# sorted_df['message'][50]"
   ]
  },
  {
   "cell_type": "code",
   "execution_count": 30,
   "id": "c6942d75",
   "metadata": {
    "execution": {
     "iopub.execute_input": "2024-08-12T13:43:44.334023Z",
     "iopub.status.busy": "2024-08-12T13:43:44.333621Z",
     "iopub.status.idle": "2024-08-12T13:43:44.339863Z",
     "shell.execute_reply": "2024-08-12T13:43:44.338392Z"
    },
    "papermill": {
     "duration": 0.051364,
     "end_time": "2024-08-12T13:43:44.342632",
     "exception": false,
     "start_time": "2024-08-12T13:43:44.291268",
     "status": "completed"
    },
    "tags": []
   },
   "outputs": [],
   "source": [
    "# import pytchat\n",
    "# import time\n",
    "\n",
    "# start_time = time.time()\n",
    "\n",
    "\n",
    "# chat = pytchat.create(video_id='yuv1qvQywMU')\n",
    "\n",
    "# while chat.is_alive():\n",
    "# #     print(chat.get().json())\n",
    "# #     time.sleep(5)\n",
    "    \n",
    "#     # Each chat item can also be output in JSON format.\n",
    "#     for c in chat.get().items:\n",
    "#         print(f\"{c.datetime} [{c.author.name}]- {c.message}\")\n",
    "# #         print(c.json())\n",
    "\n",
    "#     # Emergency Break\n",
    "#     if time.time() - start_time >= 1:\n",
    "#         break  "
   ]
  },
  {
   "cell_type": "markdown",
   "id": "387f0a4a",
   "metadata": {
    "papermill": {
     "duration": 0.040895,
     "end_time": "2024-08-12T13:43:44.426543",
     "exception": false,
     "start_time": "2024-08-12T13:43:44.385648",
     "status": "completed"
    },
    "tags": []
   },
   "source": [
    "# `the end`"
   ]
  },
  {
   "cell_type": "code",
   "execution_count": null,
   "id": "315bf1c7",
   "metadata": {
    "papermill": {
     "duration": 0.038639,
     "end_time": "2024-08-12T13:43:44.506603",
     "exception": false,
     "start_time": "2024-08-12T13:43:44.467964",
     "status": "completed"
    },
    "tags": []
   },
   "outputs": [],
   "source": []
  }
 ],
 "metadata": {
  "kaggle": {
   "accelerator": "none",
   "dataSources": [
    {
     "datasetId": 5528375,
     "sourceId": 9151912,
     "sourceType": "datasetVersion"
    }
   ],
   "dockerImageVersionId": 30746,
   "isGpuEnabled": false,
   "isInternetEnabled": true,
   "language": "python",
   "sourceType": "notebook"
  },
  "kernelspec": {
   "display_name": "Python 3",
   "language": "python",
   "name": "python3"
  },
  "language_info": {
   "codemirror_mode": {
    "name": "ipython",
    "version": 3
   },
   "file_extension": ".py",
   "mimetype": "text/x-python",
   "name": "python",
   "nbconvert_exporter": "python",
   "pygments_lexer": "ipython3",
   "version": "3.10.13"
  },
  "papermill": {
   "default_parameters": {},
   "duration": 17329.903582,
   "end_time": "2024-08-12T13:43:46.905831",
   "environment_variables": {},
   "exception": null,
   "input_path": "__notebook__.ipynb",
   "output_path": "__notebook__.ipynb",
   "parameters": {},
   "start_time": "2024-08-12T08:54:57.002249",
   "version": "2.5.0"
  }
 },
 "nbformat": 4,
 "nbformat_minor": 5
}
